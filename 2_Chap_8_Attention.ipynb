{
  "nbformat": 4,
  "nbformat_minor": 0,
  "metadata": {
    "colab": {
      "name": "2 Chap 8-Attention.ipynb",
      "provenance": [],
      "collapsed_sections": [],
      "authorship_tag": "ABX9TyOqvKAcBXvPRXDzDkCxp17I",
      "include_colab_link": true
    },
    "kernelspec": {
      "name": "python3",
      "display_name": "Python 3"
    },
    "language_info": {
      "name": "python"
    },
    "accelerator": "GPU"
  },
  "cells": [
    {
      "cell_type": "markdown",
      "metadata": {
        "id": "view-in-github",
        "colab_type": "text"
      },
      "source": [
        "<a href=\"https://colab.research.google.com/github/superbunny38/2021DeepLearning/blob/main/2_Chap_8_Attention.ipynb\" target=\"_parent\"><img src=\"https://colab.research.google.com/assets/colab-badge.svg\" alt=\"Open In Colab\"/></a>"
      ]
    },
    {
      "cell_type": "code",
      "source": [
        "!git clone https://github.com/WegraLee/deep-learning-from-scratch-2.git original\n",
        "!mkdir workspace"
      ],
      "metadata": {
        "colab": {
          "base_uri": "https://localhost:8080/"
        },
        "id": "gTZ_FZwXRf0Q",
        "outputId": "dbe89190-7d16-4188-ca15-449255004ae6"
      },
      "execution_count": 1,
      "outputs": [
        {
          "output_type": "stream",
          "name": "stdout",
          "text": [
            "Cloning into 'original'...\n",
            "remote: Enumerating objects: 606, done.\u001b[K\n",
            "remote: Counting objects: 100% (8/8), done.\u001b[K\n",
            "remote: Compressing objects: 100% (8/8), done.\u001b[K\n",
            "remote: Total 606 (delta 1), reused 5 (delta 0), pack-reused 598\u001b[K\n",
            "Receiving objects: 100% (606/606), 29.82 MiB | 11.31 MiB/s, done.\n",
            "Resolving deltas: 100% (361/361), done.\n"
          ]
        }
      ]
    },
    {
      "cell_type": "code",
      "source": [
        "!mv /content/original/common workspace\n",
        "!mv /content/original/dataset workspace\n",
        "!mv /content/original/ch07 workspace\n",
        "!mv /content/original/ch08 workspace"
      ],
      "metadata": {
        "id": "joK6HoVrRjoB"
      },
      "execution_count": 2,
      "outputs": []
    },
    {
      "cell_type": "code",
      "source": [
        "%cd workspace"
      ],
      "metadata": {
        "colab": {
          "base_uri": "https://localhost:8080/"
        },
        "id": "L2W9uvuoRu5Z",
        "outputId": "dca3b006-610c-45d8-a20f-4d5e6b24353f"
      },
      "execution_count": 3,
      "outputs": [
        {
          "output_type": "stream",
          "name": "stdout",
          "text": [
            "/content/workspace\n"
          ]
        }
      ]
    },
    {
      "cell_type": "markdown",
      "source": [
        "가중합 구하기"
      ],
      "metadata": {
        "id": "RDA5aC5CNVdj"
      }
    },
    {
      "cell_type": "code",
      "source": [
        "import numpy as np\n",
        "T, H = 5,4#시계열 길이, 은닉 상태 벡터의 원소 수\n",
        "hs = np.random.randn(T,H)\n",
        "a = np.array([0.8,0.1,0.03,0.05,0.02])\n",
        "\n",
        "ar = a.reshape(5,1).repeat(4,axis=1)\n",
        "print(ar.shape)\n",
        "\n",
        "t = hs*ar\n",
        "print(t.shape)\n",
        "\n",
        "c = np.sum(t,axis=0)\n",
        "print(c.shape)"
      ],
      "metadata": {
        "colab": {
          "base_uri": "https://localhost:8080/"
        },
        "id": "vN67tQLbkZEB",
        "outputId": "80bdd39f-225a-45a8-fce6-3c76d8507df1"
      },
      "execution_count": 4,
      "outputs": [
        {
          "output_type": "stream",
          "name": "stdout",
          "text": [
            "(5, 4)\n",
            "(5, 4)\n",
            "(4,)\n"
          ]
        }
      ]
    },
    {
      "cell_type": "markdown",
      "source": [
        "미니배치 처리용 가중합"
      ],
      "metadata": {
        "id": "2MAv7TbEOvDt"
      }
    },
    {
      "cell_type": "code",
      "source": [
        "N,T,H = 10,5,4\n",
        "hs = np.random.randn(N,T,H)\n",
        "a = np.random.randn(N,T)\n",
        "ar = a.reshape(N,T,1).repeat(H, axis = 2)\n",
        "\n",
        "t = hs*ar\n",
        "print(t.shape)\n",
        "\n",
        "c = np.sum(t, axis = 1)\n",
        "print(t.shape)"
      ],
      "metadata": {
        "colab": {
          "base_uri": "https://localhost:8080/"
        },
        "id": "svgBMD4_khTD",
        "outputId": "19654c03-968e-4cfc-d782-c6b4f8f9346a"
      },
      "execution_count": 5,
      "outputs": [
        {
          "output_type": "stream",
          "name": "stdout",
          "text": [
            "(10, 5, 4)\n",
            "(10, 5, 4)\n"
          ]
        }
      ]
    },
    {
      "cell_type": "markdown",
      "source": [
        "가중합 계산 그래프"
      ],
      "metadata": {
        "id": "aTW2c_GzPMOl"
      }
    },
    {
      "cell_type": "code",
      "source": [
        "class WeightSum:\n",
        "  def __init__(self):\n",
        "    self.params, self.grads = [],[]\n",
        "    self.cache = None\n",
        "  \n",
        "  def forward(self, hs,a):\n",
        "    N, T, H = hs.shape\n",
        "    ar = a.reshape(N,T,1).repeat(H, axis = 2)\n",
        "    t = hs*ar\n",
        "\n",
        "    c = np.sum(t, axis = 1)\n",
        "\n",
        "    self.cache = (hs,ar)\n",
        "    return c\n",
        "  \n",
        "  def backward(self, dc):\n",
        "    hs, ar = self.cache\n",
        "    N,T,H = hs.shape\n",
        "\n",
        "    dt = dc.reshape(N,1,H).repeat(T, axis = 1)#sum의 역전파\n",
        "    dar = dt*hs\n",
        "    dhs = dt*ar\n",
        "    da = np.sum(dar, axis = 2)#repeat의 역전파\n",
        "\n",
        "    return dhs, da"
      ],
      "metadata": {
        "id": "hbYSzgB0kka9"
      },
      "execution_count": 6,
      "outputs": []
    },
    {
      "cell_type": "markdown",
      "source": [
        "Encoder의 LSTM 계층의 은닉상태 벡터인 hs와 Decoder의 LSTM 꼐층의 은닉상태 벡터인 h의 각 단어 벡터가 얼마나 비슷한가를 내적을 통해 수치로 나타내고 softmax 함수로 정규화"
      ],
      "metadata": {
        "id": "0EKAHk8LR0YO"
      }
    },
    {
      "cell_type": "code",
      "source": [
        "import sys\n",
        "sys.path.append('..')\n",
        "from common.layers import Softmax\n",
        "import numpy as np\n",
        "\n",
        "N, T, H = 10,5,4\n",
        "hs = np.random.randn(N,T,H)\n",
        "h = np.random.randn(N,H)\n",
        "hr = h.reshape(N,1,H).repeat(T, axis = 1)\n",
        "\n",
        "t = hs*hr\n",
        "print(t.shape)\n",
        "\n",
        "s = np.sum(t,axis = 2)\n",
        "print(s.shape)\n",
        "\n",
        "softmax = Softmax()\n",
        "a = softmax.forward(s)\n",
        "print(a.shape)"
      ],
      "metadata": {
        "colab": {
          "base_uri": "https://localhost:8080/"
        },
        "id": "ycZ5NglOkoPp",
        "outputId": "348cce97-25a2-4dab-b3a3-4dc504d6c1af"
      },
      "execution_count": 7,
      "outputs": [
        {
          "output_type": "stream",
          "name": "stdout",
          "text": [
            "(10, 5, 4)\n",
            "(10, 5)\n",
            "(10, 5)\n"
          ]
        }
      ]
    },
    {
      "cell_type": "code",
      "source": [
        "import sys\n",
        "sys.path.append('..')\n",
        "from common.np import *\n",
        "from common.layers import Softmax\n",
        "class AttentionWeight:\n",
        "  def __init__(self):\n",
        "    self.params, self.grads = [],[]\n",
        "    self.softmax = Softmax()\n",
        "    self.cache = None\n",
        "  \n",
        "  def forward(self,hs,h):\n",
        "    N,T,H = hs.shape\n",
        "    hr = h.reshape(N,1,H).repeat(T, axis = 1)\n",
        "    t = hs*hr\n",
        "    s = np.sum(t, axis = 2)\n",
        "    a = self.softmax.forward(s)\n",
        "\n",
        "    self.cache = (hs,hr)\n",
        "    return a\n",
        "\n",
        "  def backward(self,da):\n",
        "    hs, hr = self.cache\n",
        "    N,T,H = hs.shape\n",
        "\n",
        "    ds = self.softmax.backward(da)\n",
        "    dt = ds.reshape(N,T,1).repeat(H, axis = 2)\n",
        "    dhs = dt*hr\n",
        "    dhr = dt*hs\n",
        "    dh = np.sum(dhr, axis =1)\n",
        "    return dhs, dh"
      ],
      "metadata": {
        "id": "MuDtX_gcSZxl"
      },
      "execution_count": 8,
      "outputs": []
    },
    {
      "cell_type": "markdown",
      "source": [
        "Encoder가 건네주는 정보 hs에서 중요한 원소에 주목하여 그것을 바탕을 맥락 벡터를 구해 위쪽 계층으로 전파"
      ],
      "metadata": {
        "id": "z-ODKFFZTXKi"
      }
    },
    {
      "cell_type": "code",
      "source": [
        "class Attention:\n",
        "  def __init__(self):\n",
        "    self.params, self.grads = [],[]\n",
        "    self.attention_weight_layer = AttentionWeight()\n",
        "    self.weight_sum_layer = WeightSum()\n",
        "    self.attention_weight = None\n",
        "  \n",
        "  def forward(self, hs, h):\n",
        "    a = self.attention_layer.forward(hs,h)\n",
        "    out = self.weight_sum_layer.forward(hs, a)\n",
        "    self.attention_weight = a\n",
        "    return out\n",
        "  \n",
        "  def backward(self, dout):\n",
        "    dhs0, da = self.weight_sum_layer.backward(dout)\n",
        "    dhs1, dh = self.attention_weight_layer.backward(da)\n",
        "    dhs = dhs0 + dhs1\n",
        "    return dhs, dh"
      ],
      "metadata": {
        "id": "AQE81MqVTM7T"
      },
      "execution_count": 9,
      "outputs": []
    },
    {
      "cell_type": "markdown",
      "source": [
        "다수의 Attention 계층을 Time Attention 계층으로 모아 구현"
      ],
      "metadata": {
        "id": "ANYpmtWNURHt"
      }
    },
    {
      "cell_type": "code",
      "source": [
        "class TimeAttention:\n",
        "  def __init__(self):\n",
        "    self.params, self.grads = [],[]\n",
        "    self.layers = None\n",
        "    self.attention_weights = None\n",
        "  \n",
        "  def forward(self, hs_enc, hs_dec):\n",
        "    N,T,H = hs_dec.shape\n",
        "    out = np.empty_like(hs_dec)\n",
        "    self.layers = []\n",
        "    self.attention_weights = []\n",
        "\n",
        "    for t in range(T):\n",
        "      layer = Attention()\n",
        "      out[:,t,:] = layer.forward(hs_enc, hs_dec[:,t,:])\n",
        "      self.layers.append(layer)\n",
        "      self.attention_weights.append(layer.attention_weight)\n",
        "    return out\n",
        "  \n",
        "  def backward(self, dout):\n",
        "    N,T,H = dout.shape\n",
        "    dhs_enc = 0\n",
        "    dhs_dec = np.empty_like(dout)\n",
        "\n",
        "    for t in range(T):\n",
        "      layer = self.layers[t]\n",
        "      dhs, dh = layer.backward(dout[:,t,:])\n",
        "      dhs_enc += dhs\n",
        "      dhs_dec[:,t,:] = dh\n",
        "    return dhs_enc, dhs_dec"
      ],
      "metadata": {
        "id": "yqPCi_DRUBZN"
      },
      "execution_count": 10,
      "outputs": []
    },
    {
      "cell_type": "markdown",
      "source": [
        "## Attention을 갖춘 seq2seq 구현"
      ],
      "metadata": {
        "id": "9qEgqyWdVE4j"
      }
    },
    {
      "cell_type": "code",
      "source": [
        "import sys\n",
        "sys.path.append('..')\n",
        "from common.time_layers import *\n",
        "from ch07.seq2seq import Encoder, Seq2seq\n",
        "from ch08.attention_layer import TimeAttention"
      ],
      "metadata": {
        "id": "IfAKtE00VCNb"
      },
      "execution_count": 11,
      "outputs": []
    },
    {
      "cell_type": "code",
      "source": [
        "class AttentionEncoder(Encoder):\n",
        "  def forward(self, xs):\n",
        "    xs = self.embed.forward(xs)\n",
        "    hs = self.lstm.forward(xs)#모든 은닉상태 반환\n",
        "    return hs\n",
        "  \n",
        "  def backward(self, dhs):\n",
        "    dout = self.lstm.backward(dhs)\n",
        "    dout = self.embed.backward(dout)\n",
        "    return dout"
      ],
      "metadata": {
        "id": "eFom_9eIVbY1"
      },
      "execution_count": 12,
      "outputs": []
    },
    {
      "cell_type": "code",
      "source": [
        "class AttentionDecoder:\n",
        "    def __init__(self, vocab_size, wordvec_size, hidden_size):\n",
        "        V, D, H = vocab_size, wordvec_size, hidden_size\n",
        "        rn = np.random.randn\n",
        "\n",
        "        embed_W = (rn(V, D) / 100).astype('f')\n",
        "        lstm_Wx = (rn(D, 4 * H) / np.sqrt(D)).astype('f')\n",
        "        lstm_Wh = (rn(H, 4 * H) / np.sqrt(H)).astype('f')\n",
        "        lstm_b = np.zeros(4 * H).astype('f')\n",
        "        affine_W = (rn(2*H, V) / np.sqrt(2*H)).astype('f')\n",
        "        affine_b = np.zeros(V).astype('f')\n",
        "\n",
        "        self.embed = TimeEmbedding(embed_W)\n",
        "        self.lstm = TimeLSTM(lstm_Wx, lstm_Wh, lstm_b, stateful=True)\n",
        "        self.attention = TimeAttention()\n",
        "        self.affine = TimeAffine(affine_W, affine_b)\n",
        "        layers = [self.embed, self.lstm, self.attention, self.affine]\n",
        "\n",
        "        self.params, self.grads = [], []\n",
        "        for layer in layers:\n",
        "            self.params += layer.params\n",
        "            self.grads += layer.grads\n",
        "\n",
        "    def forward(self, xs, enc_hs):\n",
        "        h = enc_hs[:,-1]\n",
        "        self.lstm.set_state(h)\n",
        "\n",
        "        out = self.embed.forward(xs)\n",
        "        dec_hs = self.lstm.forward(out)#LSTM 계층의 출력\n",
        "        c = self.attention.forward(enc_hs, dec_hs)#Time Attention 계층의 출력\n",
        "        out = np.concatenate((c, dec_hs), axis=2)# 두 출력 연결\n",
        "        score = self.affine.forward(out)\n",
        "\n",
        "        return score\n",
        "\n",
        "    def backward(self, dscore):\n",
        "        dout = self.affine.backward(dscore)\n",
        "        N, T, H2 = dout.shape\n",
        "        H = H2 // 2\n",
        "\n",
        "        dc, ddec_hs0 = dout[:,:,:H], dout[:,:,H:]\n",
        "        denc_hs, ddec_hs1 = self.attention.backward(dc)\n",
        "        ddec_hs = ddec_hs0 + ddec_hs1\n",
        "        dout = self.lstm.backward(ddec_hs)\n",
        "        dh = self.lstm.dh\n",
        "        denc_hs[:, -1] += dh\n",
        "        self.embed.backward(dout)\n",
        "\n",
        "        return denc_hs\n",
        "\n",
        "    def generate(self, enc_hs, start_id, sample_size):#새로운 단어열 생성\n",
        "        sampled = []\n",
        "        sample_id = start_id\n",
        "        h = enc_hs[:, -1]\n",
        "        self.lstm.set_state(h)\n",
        "\n",
        "        for _ in range(sample_size):\n",
        "            x = np.array([sample_id]).reshape((1, 1))\n",
        "\n",
        "            out = self.embed.forward(x)\n",
        "            dec_hs = self.lstm.forward(out)\n",
        "            c = self.attention.forward(enc_hs, dec_hs)\n",
        "            out = np.concatenate((c, dec_hs), axis=2)\n",
        "            score = self.affine.forward(out)\n",
        "\n",
        "            sample_id = np.argmax(score.flatten())\n",
        "            sampled.append(sample_id)\n",
        "\n",
        "        return sampled\n"
      ],
      "metadata": {
        "id": "soqLl0-KVp_z"
      },
      "execution_count": 13,
      "outputs": []
    },
    {
      "cell_type": "code",
      "source": [
        "class AttentionSeq2seq(Seq2seq):\n",
        "    def __init__(self, vocab_size, wordvec_size, hidden_size):\n",
        "        args = vocab_size, wordvec_size, hidden_size\n",
        "        self.encoder = AttentionEncoder(*args)\n",
        "        self.decoder = AttentionDecoder(*args)\n",
        "        self.softmax = TimeSoftmaxWithLoss()\n",
        "\n",
        "        self.params = self.encoder.params + self.decoder.params\n",
        "        self.grads = self.encoder.grads + self.decoder.grads"
      ],
      "metadata": {
        "id": "RhVKSnWhWb_p"
      },
      "execution_count": 14,
      "outputs": []
    },
    {
      "cell_type": "code",
      "source": [
        "from common.time_layers import *\n",
        "from ch07.seq2seq import Seq2seq, Encoder\n",
        "\n",
        "\n",
        "class PeekyDecoder:\n",
        "    def __init__(self, vocab_size, wordvec_size, hidden_size):\n",
        "        V, D, H = vocab_size, wordvec_size, hidden_size\n",
        "        rn = np.random.randn\n",
        "\n",
        "        embed_W = (rn(V, D) / 100).astype('f')\n",
        "        lstm_Wx = (rn(H + D, 4 * H) / np.sqrt(H + D)).astype('f')\n",
        "        lstm_Wh = (rn(H, 4 * H) / np.sqrt(H)).astype('f')\n",
        "        lstm_b = np.zeros(4 * H).astype('f')\n",
        "        affine_W = (rn(H + H, V) / np.sqrt(H + H)).astype('f')\n",
        "        affine_b = np.zeros(V).astype('f')\n",
        "\n",
        "        self.embed = TimeEmbedding(embed_W)\n",
        "        self.lstm = TimeLSTM(lstm_Wx, lstm_Wh, lstm_b, stateful=True)\n",
        "        self.affine = TimeAffine(affine_W, affine_b)\n",
        "\n",
        "        self.params, self.grads = [], []\n",
        "        for layer in (self.embed, self.lstm, self.affine):\n",
        "            self.params += layer.params\n",
        "            self.grads += layer.grads\n",
        "        self.cache = None\n",
        "\n",
        "    def forward(self, xs, h):\n",
        "        N, T = xs.shape\n",
        "        N, H = h.shape\n",
        "\n",
        "        self.lstm.set_state(h)\n",
        "\n",
        "        out = self.embed.forward(xs)\n",
        "        hs = np.repeat(h, T, axis=0).reshape(N, T, H)\n",
        "        out = np.concatenate((hs, out), axis=2)\n",
        "\n",
        "        out = self.lstm.forward(out)\n",
        "        out = np.concatenate((hs, out), axis=2)\n",
        "\n",
        "        score = self.affine.forward(out)\n",
        "        self.cache = H\n",
        "        return score\n",
        "\n",
        "    def backward(self, dscore):\n",
        "        H = self.cache\n",
        "\n",
        "        dout = self.affine.backward(dscore)\n",
        "        dout, dhs0 = dout[:, :, H:], dout[:, :, :H]\n",
        "        dout = self.lstm.backward(dout)\n",
        "        dembed, dhs1 = dout[:, :, H:], dout[:, :, :H]\n",
        "        self.embed.backward(dembed)\n",
        "\n",
        "        dhs = dhs0 + dhs1\n",
        "        dh = self.lstm.dh + np.sum(dhs, axis=1)\n",
        "        return dh\n",
        "\n",
        "    def generate(self, h, start_id, sample_size):\n",
        "        sampled = []\n",
        "        char_id = start_id\n",
        "        self.lstm.set_state(h)\n",
        "\n",
        "        H = h.shape[1]\n",
        "        peeky_h = h.reshape(1, 1, H)\n",
        "        for _ in range(sample_size):\n",
        "            x = np.array([char_id]).reshape((1, 1))\n",
        "            out = self.embed.forward(x)\n",
        "\n",
        "            out = np.concatenate((peeky_h, out), axis=2)\n",
        "            out = self.lstm.forward(out)\n",
        "            out = np.concatenate((peeky_h, out), axis=2)\n",
        "            score = self.affine.forward(out)\n",
        "\n",
        "            char_id = np.argmax(score.flatten())\n",
        "            sampled.append(char_id)\n",
        "\n",
        "        return sampled\n",
        "\n",
        "\n",
        "class PeekySeq2seq(Seq2seq):\n",
        "    def __init__(self, vocab_size, wordvec_size, hidden_size):\n",
        "        V, D, H = vocab_size, wordvec_size, hidden_size\n",
        "        self.encoder = Encoder(V, D, H)\n",
        "        self.decoder = PeekyDecoder(V, D, H)\n",
        "        self.softmax = TimeSoftmaxWithLoss()\n",
        "\n",
        "        self.params = self.encoder.params + self.decoder.params\n",
        "        self.grads = self.encoder.grads + self.decoder.grads"
      ],
      "metadata": {
        "id": "8s3tSQvYX59g"
      },
      "execution_count": 15,
      "outputs": []
    },
    {
      "cell_type": "markdown",
      "source": [
        "## 날짜 형식 변환 문제"
      ],
      "metadata": {
        "id": "_H5LQafbW3Ef"
      }
    },
    {
      "cell_type": "code",
      "source": [
        "import sys\n",
        "sys.path.append('..')\n",
        "sys.path.append('../ch07')\n",
        "import numpy as np\n",
        "from dataset import sequence\n",
        "from common.optimizer import Adam"
      ],
      "metadata": {
        "id": "2Z_jP7OIWlNR"
      },
      "execution_count": 16,
      "outputs": []
    },
    {
      "cell_type": "code",
      "source": [
        "#학습 코드\n",
        "from common.trainer import Trainer\n",
        "from common.util import eval_seq2seq\n",
        "\n",
        "from ch07.seq2seq import Seq2seq"
      ],
      "metadata": {
        "id": "lYWexes3XIG4"
      },
      "execution_count": 17,
      "outputs": []
    },
    {
      "cell_type": "code",
      "source": [
        "#데이터 읽기\n",
        "(x_train, t_train),(x_test, t_test) = sequence.load_data('date.txt')"
      ],
      "metadata": {
        "id": "setZUmAxXZrR"
      },
      "execution_count": 18,
      "outputs": []
    },
    {
      "cell_type": "code",
      "source": [
        "char_to_id, id_to_char = sequence.get_vocab()"
      ],
      "metadata": {
        "id": "ftTx_vQgYCSv"
      },
      "execution_count": 19,
      "outputs": []
    },
    {
      "cell_type": "code",
      "source": [
        "#입력 문장 반전\n",
        "x_train, x_test = x_train[:,::-1],x_test[:,::-1]"
      ],
      "metadata": {
        "id": "9BularO0YGRv"
      },
      "execution_count": 20,
      "outputs": []
    },
    {
      "cell_type": "code",
      "source": [
        "#하이퍼파라미터 설정\n",
        "vocab_size = len(char_to_id)\n",
        "wordvec_size = 16\n",
        "hidden_size = 256\n",
        "batch_size = 128\n",
        "max_epoch = 10\n",
        "max_grad = 5.0"
      ],
      "metadata": {
        "id": "IFjU6SHiYKhu"
      },
      "execution_count": 21,
      "outputs": []
    },
    {
      "cell_type": "code",
      "source": [
        "model = AttentionSeq2seq(vocab_size, wordvec_size, hidden_size)\n",
        "optimizer = Adam()\n",
        "trainer = Trainer(model, optimizer)"
      ],
      "metadata": {
        "id": "1tv8-58kYV-v"
      },
      "execution_count": 22,
      "outputs": []
    },
    {
      "cell_type": "code",
      "source": [
        "acc_list = []\n",
        "for epoch in range(max_epoch):\n",
        "  trainer.fit(x_train, t_train, max_epoch = 1,\n",
        "              batch_size = batch_size, max_grad = max_grad)\n",
        "  correct_num = 0#for acc\n",
        "  for i in range(len(x_test)):\n",
        "    question, correct = x_test[[i]], t_test[[i]]#?왜지?[[]]?\n",
        "    verbose = i<10\n",
        "    correct_num += eval_seq2seq(model, question, correct, id_to_char, verbose, is_reverse = True)\n",
        "  \n",
        "  acc = float(correct_num)/len(x_test)\n",
        "  acc_list.append(acc)\n",
        "  print('val acc %.3f%%'%(acc*100))\n",
        "model.save_params()"
      ],
      "metadata": {
        "colab": {
          "base_uri": "https://localhost:8080/"
        },
        "id": "9cRR1m1WYcum",
        "outputId": "b6d43200-464e-47f0-91f6-701d93068e90"
      },
      "execution_count": 23,
      "outputs": [
        {
          "output_type": "stream",
          "name": "stdout",
          "text": [
            "| 에폭 1 |  반복 1 / 351 | 시간 0[s] | 손실 4.08\n",
            "| 에폭 1 |  반복 21 / 351 | 시간 13[s] | 손실 3.09\n",
            "| 에폭 1 |  반복 41 / 351 | 시간 25[s] | 손실 1.90\n",
            "| 에폭 1 |  반복 61 / 351 | 시간 38[s] | 손실 1.72\n",
            "| 에폭 1 |  반복 81 / 351 | 시간 51[s] | 손실 1.46\n",
            "| 에폭 1 |  반복 101 / 351 | 시간 63[s] | 손실 1.19\n",
            "| 에폭 1 |  반복 121 / 351 | 시간 75[s] | 손실 1.14\n",
            "| 에폭 1 |  반복 141 / 351 | 시간 88[s] | 손실 1.09\n",
            "| 에폭 1 |  반복 161 / 351 | 시간 103[s] | 손실 1.06\n",
            "| 에폭 1 |  반복 181 / 351 | 시간 117[s] | 손실 1.04\n",
            "| 에폭 1 |  반복 201 / 351 | 시간 131[s] | 손실 1.03\n",
            "| 에폭 1 |  반복 221 / 351 | 시간 145[s] | 손실 1.02\n",
            "| 에폭 1 |  반복 241 / 351 | 시간 161[s] | 손실 1.02\n",
            "| 에폭 1 |  반복 261 / 351 | 시간 183[s] | 손실 1.01\n",
            "| 에폭 1 |  반복 281 / 351 | 시간 197[s] | 손실 1.00\n",
            "| 에폭 1 |  반복 301 / 351 | 시간 210[s] | 손실 1.00\n",
            "| 에폭 1 |  반복 321 / 351 | 시간 222[s] | 손실 1.00\n",
            "| 에폭 1 |  반복 341 / 351 | 시간 235[s] | 손실 1.00\n",
            "Q 10/15/94                     \n",
            "T 1994-10-15\n",
            "\u001b[91m☒\u001b[0m 1978-08-11\n",
            "---\n",
            "Q thursday, november 13, 2008  \n",
            "T 2008-11-13\n",
            "\u001b[91m☒\u001b[0m 1978-08-11\n",
            "---\n",
            "Q Mar 25, 2003                 \n",
            "T 2003-03-25\n",
            "\u001b[91m☒\u001b[0m 1978-08-11\n",
            "---\n",
            "Q Tuesday, November 22, 2016   \n",
            "T 2016-11-22\n",
            "\u001b[91m☒\u001b[0m 1978-08-11\n",
            "---\n",
            "Q Saturday, July 18, 1970      \n",
            "T 1970-07-18\n",
            "\u001b[91m☒\u001b[0m 1978-08-11\n",
            "---\n",
            "Q october 6, 1992              \n",
            "T 1992-10-06\n",
            "\u001b[91m☒\u001b[0m 1978-08-11\n",
            "---\n",
            "Q 8/23/08                      \n",
            "T 2008-08-23\n",
            "\u001b[91m☒\u001b[0m 1978-08-11\n",
            "---\n",
            "Q 8/30/07                      \n",
            "T 2007-08-30\n",
            "\u001b[91m☒\u001b[0m 1978-08-11\n",
            "---\n",
            "Q 10/28/13                     \n",
            "T 2013-10-28\n",
            "\u001b[91m☒\u001b[0m 1978-08-11\n",
            "---\n",
            "Q sunday, november 6, 2016     \n",
            "T 2016-11-06\n",
            "\u001b[91m☒\u001b[0m 1978-08-11\n",
            "---\n",
            "val acc 0.000%\n",
            "| 에폭 2 |  반복 1 / 351 | 시간 0[s] | 손실 1.00\n",
            "| 에폭 2 |  반복 21 / 351 | 시간 13[s] | 손실 1.00\n",
            "| 에폭 2 |  반복 41 / 351 | 시간 25[s] | 손실 0.99\n",
            "| 에폭 2 |  반복 61 / 351 | 시간 38[s] | 손실 0.99\n",
            "| 에폭 2 |  반복 81 / 351 | 시간 51[s] | 손실 0.99\n",
            "| 에폭 2 |  반복 101 / 351 | 시간 64[s] | 손실 0.99\n",
            "| 에폭 2 |  반복 121 / 351 | 시간 77[s] | 손실 0.99\n",
            "| 에폭 2 |  반복 141 / 351 | 시간 90[s] | 손실 0.98\n",
            "| 에폭 2 |  반복 161 / 351 | 시간 103[s] | 손실 0.98\n",
            "| 에폭 2 |  반복 181 / 351 | 시간 115[s] | 손실 0.97\n",
            "| 에폭 2 |  반복 201 / 351 | 시간 128[s] | 손실 0.95\n",
            "| 에폭 2 |  반복 221 / 351 | 시간 141[s] | 손실 0.94\n",
            "| 에폭 2 |  반복 241 / 351 | 시간 153[s] | 손실 0.90\n",
            "| 에폭 2 |  반복 261 / 351 | 시간 166[s] | 손실 0.83\n",
            "| 에폭 2 |  반복 281 / 351 | 시간 178[s] | 손실 0.74\n",
            "| 에폭 2 |  반복 301 / 351 | 시간 190[s] | 손실 0.66\n",
            "| 에폭 2 |  반복 321 / 351 | 시간 202[s] | 손실 0.58\n",
            "| 에폭 2 |  반복 341 / 351 | 시간 215[s] | 손실 0.47\n",
            "Q 10/15/94                     \n",
            "T 1994-10-15\n",
            "\u001b[92m☑\u001b[0m 1994-10-15\n",
            "---\n",
            "Q thursday, november 13, 2008  \n",
            "T 2008-11-13\n",
            "\u001b[91m☒\u001b[0m 2006-11-13\n",
            "---\n",
            "Q Mar 25, 2003                 \n",
            "T 2003-03-25\n",
            "\u001b[92m☑\u001b[0m 2003-03-25\n",
            "---\n",
            "Q Tuesday, November 22, 2016   \n",
            "T 2016-11-22\n",
            "\u001b[92m☑\u001b[0m 2016-11-22\n",
            "---\n",
            "Q Saturday, July 18, 1970      \n",
            "T 1970-07-18\n",
            "\u001b[92m☑\u001b[0m 1970-07-18\n",
            "---\n",
            "Q october 6, 1992              \n",
            "T 1992-10-06\n",
            "\u001b[92m☑\u001b[0m 1992-10-06\n",
            "---\n",
            "Q 8/23/08                      \n",
            "T 2008-08-23\n",
            "\u001b[92m☑\u001b[0m 2008-08-23\n",
            "---\n",
            "Q 8/30/07                      \n",
            "T 2007-08-30\n",
            "\u001b[91m☒\u001b[0m 2007-08-09\n",
            "---\n",
            "Q 10/28/13                     \n",
            "T 2013-10-28\n",
            "\u001b[91m☒\u001b[0m 1983-10-28\n",
            "---\n",
            "Q sunday, november 6, 2016     \n",
            "T 2016-11-06\n",
            "\u001b[91m☒\u001b[0m 2016-11-08\n",
            "---\n",
            "val acc 51.320%\n",
            "| 에폭 3 |  반복 1 / 351 | 시간 0[s] | 손실 0.35\n",
            "| 에폭 3 |  반복 21 / 351 | 시간 12[s] | 손실 0.30\n",
            "| 에폭 3 |  반복 41 / 351 | 시간 25[s] | 손실 0.21\n",
            "| 에폭 3 |  반복 61 / 351 | 시간 37[s] | 손실 0.14\n",
            "| 에폭 3 |  반복 81 / 351 | 시간 50[s] | 손실 0.09\n",
            "| 에폭 3 |  반복 101 / 351 | 시간 62[s] | 손실 0.07\n",
            "| 에폭 3 |  반복 121 / 351 | 시간 75[s] | 손실 0.05\n",
            "| 에폭 3 |  반복 141 / 351 | 시간 87[s] | 손실 0.04\n",
            "| 에폭 3 |  반복 161 / 351 | 시간 100[s] | 손실 0.03\n",
            "| 에폭 3 |  반복 181 / 351 | 시간 113[s] | 손실 0.03\n",
            "| 에폭 3 |  반복 201 / 351 | 시간 126[s] | 손실 0.02\n",
            "| 에폭 3 |  반복 221 / 351 | 시간 139[s] | 손실 0.02\n",
            "| 에폭 3 |  반복 241 / 351 | 시간 152[s] | 손실 0.02\n",
            "| 에폭 3 |  반복 261 / 351 | 시간 164[s] | 손실 0.01\n",
            "| 에폭 3 |  반복 281 / 351 | 시간 177[s] | 손실 0.01\n",
            "| 에폭 3 |  반복 301 / 351 | 시간 190[s] | 손실 0.01\n",
            "| 에폭 3 |  반복 321 / 351 | 시간 203[s] | 손실 0.01\n",
            "| 에폭 3 |  반복 341 / 351 | 시간 215[s] | 손실 0.01\n",
            "Q 10/15/94                     \n",
            "T 1994-10-15\n",
            "\u001b[92m☑\u001b[0m 1994-10-15\n",
            "---\n",
            "Q thursday, november 13, 2008  \n",
            "T 2008-11-13\n",
            "\u001b[92m☑\u001b[0m 2008-11-13\n",
            "---\n",
            "Q Mar 25, 2003                 \n",
            "T 2003-03-25\n",
            "\u001b[92m☑\u001b[0m 2003-03-25\n",
            "---\n",
            "Q Tuesday, November 22, 2016   \n",
            "T 2016-11-22\n",
            "\u001b[92m☑\u001b[0m 2016-11-22\n",
            "---\n",
            "Q Saturday, July 18, 1970      \n",
            "T 1970-07-18\n",
            "\u001b[92m☑\u001b[0m 1970-07-18\n",
            "---\n",
            "Q october 6, 1992              \n",
            "T 1992-10-06\n",
            "\u001b[92m☑\u001b[0m 1992-10-06\n",
            "---\n",
            "Q 8/23/08                      \n",
            "T 2008-08-23\n",
            "\u001b[92m☑\u001b[0m 2008-08-23\n",
            "---\n",
            "Q 8/30/07                      \n",
            "T 2007-08-30\n",
            "\u001b[92m☑\u001b[0m 2007-08-30\n",
            "---\n",
            "Q 10/28/13                     \n",
            "T 2013-10-28\n",
            "\u001b[92m☑\u001b[0m 2013-10-28\n",
            "---\n",
            "Q sunday, november 6, 2016     \n",
            "T 2016-11-06\n",
            "\u001b[92m☑\u001b[0m 2016-11-06\n",
            "---\n",
            "val acc 99.900%\n",
            "| 에폭 4 |  반복 1 / 351 | 시간 0[s] | 손실 0.01\n",
            "| 에폭 4 |  반복 21 / 351 | 시간 13[s] | 손실 0.01\n",
            "| 에폭 4 |  반복 41 / 351 | 시간 26[s] | 손실 0.01\n",
            "| 에폭 4 |  반복 61 / 351 | 시간 39[s] | 손실 0.01\n",
            "| 에폭 4 |  반복 81 / 351 | 시간 52[s] | 손실 0.01\n",
            "| 에폭 4 |  반복 101 / 351 | 시간 65[s] | 손실 0.01\n",
            "| 에폭 4 |  반복 121 / 351 | 시간 78[s] | 손실 0.00\n",
            "| 에폭 4 |  반복 141 / 351 | 시간 91[s] | 손실 0.01\n",
            "| 에폭 4 |  반복 161 / 351 | 시간 104[s] | 손실 0.00\n",
            "| 에폭 4 |  반복 181 / 351 | 시간 117[s] | 손실 0.00\n",
            "| 에폭 4 |  반복 201 / 351 | 시간 130[s] | 손실 0.00\n",
            "| 에폭 4 |  반복 221 / 351 | 시간 143[s] | 손실 0.00\n",
            "| 에폭 4 |  반복 241 / 351 | 시간 156[s] | 손실 0.00\n",
            "| 에폭 4 |  반복 261 / 351 | 시간 169[s] | 손실 0.00\n",
            "| 에폭 4 |  반복 281 / 351 | 시간 182[s] | 손실 0.00\n",
            "| 에폭 4 |  반복 301 / 351 | 시간 195[s] | 손실 0.00\n",
            "| 에폭 4 |  반복 321 / 351 | 시간 208[s] | 손실 0.00\n",
            "| 에폭 4 |  반복 341 / 351 | 시간 220[s] | 손실 0.00\n",
            "Q 10/15/94                     \n",
            "T 1994-10-15\n",
            "\u001b[92m☑\u001b[0m 1994-10-15\n",
            "---\n",
            "Q thursday, november 13, 2008  \n",
            "T 2008-11-13\n",
            "\u001b[92m☑\u001b[0m 2008-11-13\n",
            "---\n",
            "Q Mar 25, 2003                 \n",
            "T 2003-03-25\n",
            "\u001b[92m☑\u001b[0m 2003-03-25\n",
            "---\n",
            "Q Tuesday, November 22, 2016   \n",
            "T 2016-11-22\n",
            "\u001b[92m☑\u001b[0m 2016-11-22\n",
            "---\n",
            "Q Saturday, July 18, 1970      \n",
            "T 1970-07-18\n",
            "\u001b[92m☑\u001b[0m 1970-07-18\n",
            "---\n",
            "Q october 6, 1992              \n",
            "T 1992-10-06\n",
            "\u001b[92m☑\u001b[0m 1992-10-06\n",
            "---\n",
            "Q 8/23/08                      \n",
            "T 2008-08-23\n",
            "\u001b[92m☑\u001b[0m 2008-08-23\n",
            "---\n",
            "Q 8/30/07                      \n",
            "T 2007-08-30\n",
            "\u001b[92m☑\u001b[0m 2007-08-30\n",
            "---\n",
            "Q 10/28/13                     \n",
            "T 2013-10-28\n",
            "\u001b[92m☑\u001b[0m 2013-10-28\n",
            "---\n",
            "Q sunday, november 6, 2016     \n",
            "T 2016-11-06\n",
            "\u001b[92m☑\u001b[0m 2016-11-06\n",
            "---\n",
            "val acc 99.900%\n",
            "| 에폭 5 |  반복 1 / 351 | 시간 0[s] | 손실 0.00\n",
            "| 에폭 5 |  반복 21 / 351 | 시간 13[s] | 손실 0.00\n",
            "| 에폭 5 |  반복 41 / 351 | 시간 26[s] | 손실 0.00\n",
            "| 에폭 5 |  반복 61 / 351 | 시간 39[s] | 손실 0.00\n",
            "| 에폭 5 |  반복 81 / 351 | 시간 51[s] | 손실 0.00\n",
            "| 에폭 5 |  반복 101 / 351 | 시간 64[s] | 손실 0.00\n",
            "| 에폭 5 |  반복 121 / 351 | 시간 77[s] | 손실 0.00\n",
            "| 에폭 5 |  반복 141 / 351 | 시간 90[s] | 손실 0.00\n",
            "| 에폭 5 |  반복 161 / 351 | 시간 103[s] | 손실 0.00\n",
            "| 에폭 5 |  반복 181 / 351 | 시간 116[s] | 손실 0.02\n",
            "| 에폭 5 |  반복 201 / 351 | 시간 128[s] | 손실 0.01\n",
            "| 에폭 5 |  반복 221 / 351 | 시간 141[s] | 손실 0.01\n",
            "| 에폭 5 |  반복 241 / 351 | 시간 154[s] | 손실 0.00\n",
            "| 에폭 5 |  반복 261 / 351 | 시간 167[s] | 손실 0.00\n",
            "| 에폭 5 |  반복 281 / 351 | 시간 180[s] | 손실 0.00\n",
            "| 에폭 5 |  반복 301 / 351 | 시간 193[s] | 손실 0.00\n",
            "| 에폭 5 |  반복 321 / 351 | 시간 205[s] | 손실 0.00\n",
            "| 에폭 5 |  반복 341 / 351 | 시간 218[s] | 손실 0.00\n",
            "Q 10/15/94                     \n",
            "T 1994-10-15\n",
            "\u001b[92m☑\u001b[0m 1994-10-15\n",
            "---\n",
            "Q thursday, november 13, 2008  \n",
            "T 2008-11-13\n",
            "\u001b[92m☑\u001b[0m 2008-11-13\n",
            "---\n",
            "Q Mar 25, 2003                 \n",
            "T 2003-03-25\n",
            "\u001b[92m☑\u001b[0m 2003-03-25\n",
            "---\n",
            "Q Tuesday, November 22, 2016   \n",
            "T 2016-11-22\n",
            "\u001b[92m☑\u001b[0m 2016-11-22\n",
            "---\n",
            "Q Saturday, July 18, 1970      \n",
            "T 1970-07-18\n",
            "\u001b[92m☑\u001b[0m 1970-07-18\n",
            "---\n",
            "Q october 6, 1992              \n",
            "T 1992-10-06\n",
            "\u001b[92m☑\u001b[0m 1992-10-06\n",
            "---\n",
            "Q 8/23/08                      \n",
            "T 2008-08-23\n",
            "\u001b[92m☑\u001b[0m 2008-08-23\n",
            "---\n",
            "Q 8/30/07                      \n",
            "T 2007-08-30\n",
            "\u001b[92m☑\u001b[0m 2007-08-30\n",
            "---\n",
            "Q 10/28/13                     \n",
            "T 2013-10-28\n",
            "\u001b[92m☑\u001b[0m 2013-10-28\n",
            "---\n",
            "Q sunday, november 6, 2016     \n",
            "T 2016-11-06\n",
            "\u001b[92m☑\u001b[0m 2016-11-06\n",
            "---\n",
            "val acc 100.000%\n",
            "| 에폭 6 |  반복 1 / 351 | 시간 0[s] | 손실 0.00\n",
            "| 에폭 6 |  반복 21 / 351 | 시간 13[s] | 손실 0.00\n",
            "| 에폭 6 |  반복 41 / 351 | 시간 26[s] | 손실 0.00\n",
            "| 에폭 6 |  반복 61 / 351 | 시간 39[s] | 손실 0.00\n",
            "| 에폭 6 |  반복 81 / 351 | 시간 52[s] | 손실 0.00\n",
            "| 에폭 6 |  반복 101 / 351 | 시간 64[s] | 손실 0.00\n",
            "| 에폭 6 |  반복 121 / 351 | 시간 77[s] | 손실 0.00\n",
            "| 에폭 6 |  반복 141 / 351 | 시간 89[s] | 손실 0.00\n",
            "| 에폭 6 |  반복 161 / 351 | 시간 102[s] | 손실 0.00\n",
            "| 에폭 6 |  반복 181 / 351 | 시간 115[s] | 손실 0.00\n",
            "| 에폭 6 |  반복 201 / 351 | 시간 128[s] | 손실 0.00\n",
            "| 에폭 6 |  반복 221 / 351 | 시간 140[s] | 손실 0.00\n",
            "| 에폭 6 |  반복 241 / 351 | 시간 153[s] | 손실 0.00\n",
            "| 에폭 6 |  반복 261 / 351 | 시간 165[s] | 손실 0.00\n",
            "| 에폭 6 |  반복 281 / 351 | 시간 178[s] | 손실 0.00\n",
            "| 에폭 6 |  반복 301 / 351 | 시간 191[s] | 손실 0.00\n",
            "| 에폭 6 |  반복 321 / 351 | 시간 203[s] | 손실 0.00\n",
            "| 에폭 6 |  반복 341 / 351 | 시간 216[s] | 손실 0.00\n",
            "Q 10/15/94                     \n",
            "T 1994-10-15\n",
            "\u001b[92m☑\u001b[0m 1994-10-15\n",
            "---\n",
            "Q thursday, november 13, 2008  \n",
            "T 2008-11-13\n",
            "\u001b[92m☑\u001b[0m 2008-11-13\n",
            "---\n",
            "Q Mar 25, 2003                 \n",
            "T 2003-03-25\n",
            "\u001b[92m☑\u001b[0m 2003-03-25\n",
            "---\n",
            "Q Tuesday, November 22, 2016   \n",
            "T 2016-11-22\n",
            "\u001b[92m☑\u001b[0m 2016-11-22\n",
            "---\n",
            "Q Saturday, July 18, 1970      \n",
            "T 1970-07-18\n",
            "\u001b[92m☑\u001b[0m 1970-07-18\n",
            "---\n",
            "Q october 6, 1992              \n",
            "T 1992-10-06\n",
            "\u001b[92m☑\u001b[0m 1992-10-06\n",
            "---\n",
            "Q 8/23/08                      \n",
            "T 2008-08-23\n",
            "\u001b[92m☑\u001b[0m 2008-08-23\n",
            "---\n",
            "Q 8/30/07                      \n",
            "T 2007-08-30\n",
            "\u001b[92m☑\u001b[0m 2007-08-30\n",
            "---\n",
            "Q 10/28/13                     \n",
            "T 2013-10-28\n",
            "\u001b[92m☑\u001b[0m 2013-10-28\n",
            "---\n",
            "Q sunday, november 6, 2016     \n",
            "T 2016-11-06\n",
            "\u001b[92m☑\u001b[0m 2016-11-06\n",
            "---\n",
            "val acc 100.000%\n",
            "| 에폭 7 |  반복 1 / 351 | 시간 0[s] | 손실 0.00\n",
            "| 에폭 7 |  반복 21 / 351 | 시간 13[s] | 손실 0.00\n",
            "| 에폭 7 |  반복 41 / 351 | 시간 25[s] | 손실 0.00\n",
            "| 에폭 7 |  반복 61 / 351 | 시간 38[s] | 손실 0.00\n",
            "| 에폭 7 |  반복 81 / 351 | 시간 50[s] | 손실 0.00\n",
            "| 에폭 7 |  반복 101 / 351 | 시간 63[s] | 손실 0.00\n",
            "| 에폭 7 |  반복 121 / 351 | 시간 75[s] | 손실 0.00\n",
            "| 에폭 7 |  반복 141 / 351 | 시간 87[s] | 손실 0.00\n",
            "| 에폭 7 |  반복 161 / 351 | 시간 100[s] | 손실 0.00\n",
            "| 에폭 7 |  반복 181 / 351 | 시간 112[s] | 손실 0.00\n",
            "| 에폭 7 |  반복 201 / 351 | 시간 125[s] | 손실 0.00\n",
            "| 에폭 7 |  반복 221 / 351 | 시간 137[s] | 손실 0.00\n",
            "| 에폭 7 |  반복 241 / 351 | 시간 150[s] | 손실 0.00\n",
            "| 에폭 7 |  반복 261 / 351 | 시간 162[s] | 손실 0.00\n",
            "| 에폭 7 |  반복 281 / 351 | 시간 175[s] | 손실 0.00\n",
            "| 에폭 7 |  반복 301 / 351 | 시간 187[s] | 손실 0.00\n",
            "| 에폭 7 |  반복 321 / 351 | 시간 200[s] | 손실 0.00\n",
            "| 에폭 7 |  반복 341 / 351 | 시간 212[s] | 손실 0.00\n",
            "Q 10/15/94                     \n",
            "T 1994-10-15\n",
            "\u001b[92m☑\u001b[0m 1994-10-15\n",
            "---\n",
            "Q thursday, november 13, 2008  \n",
            "T 2008-11-13\n",
            "\u001b[92m☑\u001b[0m 2008-11-13\n",
            "---\n",
            "Q Mar 25, 2003                 \n",
            "T 2003-03-25\n",
            "\u001b[92m☑\u001b[0m 2003-03-25\n",
            "---\n",
            "Q Tuesday, November 22, 2016   \n",
            "T 2016-11-22\n",
            "\u001b[92m☑\u001b[0m 2016-11-22\n",
            "---\n",
            "Q Saturday, July 18, 1970      \n",
            "T 1970-07-18\n",
            "\u001b[92m☑\u001b[0m 1970-07-18\n",
            "---\n",
            "Q october 6, 1992              \n",
            "T 1992-10-06\n",
            "\u001b[92m☑\u001b[0m 1992-10-06\n",
            "---\n",
            "Q 8/23/08                      \n",
            "T 2008-08-23\n",
            "\u001b[92m☑\u001b[0m 2008-08-23\n",
            "---\n",
            "Q 8/30/07                      \n",
            "T 2007-08-30\n",
            "\u001b[92m☑\u001b[0m 2007-08-30\n",
            "---\n",
            "Q 10/28/13                     \n",
            "T 2013-10-28\n",
            "\u001b[92m☑\u001b[0m 2013-10-28\n",
            "---\n",
            "Q sunday, november 6, 2016     \n",
            "T 2016-11-06\n",
            "\u001b[92m☑\u001b[0m 2016-11-06\n",
            "---\n",
            "val acc 100.000%\n",
            "| 에폭 8 |  반복 1 / 351 | 시간 0[s] | 손실 0.00\n",
            "| 에폭 8 |  반복 21 / 351 | 시간 13[s] | 손실 0.00\n",
            "| 에폭 8 |  반복 41 / 351 | 시간 25[s] | 손실 0.00\n",
            "| 에폭 8 |  반복 61 / 351 | 시간 38[s] | 손실 0.00\n",
            "| 에폭 8 |  반복 81 / 351 | 시간 50[s] | 손실 0.00\n",
            "| 에폭 8 |  반복 101 / 351 | 시간 63[s] | 손실 0.00\n",
            "| 에폭 8 |  반복 121 / 351 | 시간 75[s] | 손실 0.00\n",
            "| 에폭 8 |  반복 141 / 351 | 시간 87[s] | 손실 0.00\n",
            "| 에폭 8 |  반복 161 / 351 | 시간 100[s] | 손실 0.00\n",
            "| 에폭 8 |  반복 181 / 351 | 시간 112[s] | 손실 0.00\n",
            "| 에폭 8 |  반복 201 / 351 | 시간 125[s] | 손실 0.00\n",
            "| 에폭 8 |  반복 221 / 351 | 시간 137[s] | 손실 0.00\n",
            "| 에폭 8 |  반복 241 / 351 | 시간 150[s] | 손실 0.00\n",
            "| 에폭 8 |  반복 261 / 351 | 시간 162[s] | 손실 0.00\n",
            "| 에폭 8 |  반복 281 / 351 | 시간 175[s] | 손실 0.00\n",
            "| 에폭 8 |  반복 301 / 351 | 시간 187[s] | 손실 0.00\n",
            "| 에폭 8 |  반복 321 / 351 | 시간 200[s] | 손실 0.00\n",
            "| 에폭 8 |  반복 341 / 351 | 시간 212[s] | 손실 0.00\n",
            "Q 10/15/94                     \n",
            "T 1994-10-15\n",
            "\u001b[92m☑\u001b[0m 1994-10-15\n",
            "---\n",
            "Q thursday, november 13, 2008  \n",
            "T 2008-11-13\n",
            "\u001b[92m☑\u001b[0m 2008-11-13\n",
            "---\n",
            "Q Mar 25, 2003                 \n",
            "T 2003-03-25\n",
            "\u001b[92m☑\u001b[0m 2003-03-25\n",
            "---\n",
            "Q Tuesday, November 22, 2016   \n",
            "T 2016-11-22\n",
            "\u001b[92m☑\u001b[0m 2016-11-22\n",
            "---\n",
            "Q Saturday, July 18, 1970      \n",
            "T 1970-07-18\n",
            "\u001b[92m☑\u001b[0m 1970-07-18\n",
            "---\n",
            "Q october 6, 1992              \n",
            "T 1992-10-06\n",
            "\u001b[92m☑\u001b[0m 1992-10-06\n",
            "---\n",
            "Q 8/23/08                      \n",
            "T 2008-08-23\n",
            "\u001b[92m☑\u001b[0m 2008-08-23\n",
            "---\n",
            "Q 8/30/07                      \n",
            "T 2007-08-30\n",
            "\u001b[92m☑\u001b[0m 2007-08-30\n",
            "---\n",
            "Q 10/28/13                     \n",
            "T 2013-10-28\n",
            "\u001b[92m☑\u001b[0m 2013-10-28\n",
            "---\n",
            "Q sunday, november 6, 2016     \n",
            "T 2016-11-06\n",
            "\u001b[92m☑\u001b[0m 2016-11-06\n",
            "---\n",
            "val acc 100.000%\n",
            "| 에폭 9 |  반복 1 / 351 | 시간 0[s] | 손실 0.00\n",
            "| 에폭 9 |  반복 21 / 351 | 시간 13[s] | 손실 0.00\n",
            "| 에폭 9 |  반복 41 / 351 | 시간 25[s] | 손실 0.00\n",
            "| 에폭 9 |  반복 61 / 351 | 시간 38[s] | 손실 0.00\n",
            "| 에폭 9 |  반복 81 / 351 | 시간 50[s] | 손실 0.00\n",
            "| 에폭 9 |  반복 101 / 351 | 시간 63[s] | 손실 0.00\n",
            "| 에폭 9 |  반복 121 / 351 | 시간 75[s] | 손실 0.00\n",
            "| 에폭 9 |  반복 141 / 351 | 시간 88[s] | 손실 0.00\n",
            "| 에폭 9 |  반복 161 / 351 | 시간 100[s] | 손실 0.00\n",
            "| 에폭 9 |  반복 181 / 351 | 시간 112[s] | 손실 0.00\n",
            "| 에폭 9 |  반복 201 / 351 | 시간 125[s] | 손실 0.00\n",
            "| 에폭 9 |  반복 221 / 351 | 시간 137[s] | 손실 0.00\n",
            "| 에폭 9 |  반복 241 / 351 | 시간 150[s] | 손실 0.00\n",
            "| 에폭 9 |  반복 261 / 351 | 시간 162[s] | 손실 0.00\n",
            "| 에폭 9 |  반복 281 / 351 | 시간 175[s] | 손실 0.00\n",
            "| 에폭 9 |  반복 301 / 351 | 시간 187[s] | 손실 0.00\n",
            "| 에폭 9 |  반복 321 / 351 | 시간 199[s] | 손실 0.00\n",
            "| 에폭 9 |  반복 341 / 351 | 시간 212[s] | 손실 0.00\n",
            "Q 10/15/94                     \n",
            "T 1994-10-15\n",
            "\u001b[92m☑\u001b[0m 1994-10-15\n",
            "---\n",
            "Q thursday, november 13, 2008  \n",
            "T 2008-11-13\n",
            "\u001b[92m☑\u001b[0m 2008-11-13\n",
            "---\n",
            "Q Mar 25, 2003                 \n",
            "T 2003-03-25\n",
            "\u001b[92m☑\u001b[0m 2003-03-25\n",
            "---\n",
            "Q Tuesday, November 22, 2016   \n",
            "T 2016-11-22\n",
            "\u001b[92m☑\u001b[0m 2016-11-22\n",
            "---\n",
            "Q Saturday, July 18, 1970      \n",
            "T 1970-07-18\n",
            "\u001b[92m☑\u001b[0m 1970-07-18\n",
            "---\n",
            "Q october 6, 1992              \n",
            "T 1992-10-06\n",
            "\u001b[92m☑\u001b[0m 1992-10-06\n",
            "---\n",
            "Q 8/23/08                      \n",
            "T 2008-08-23\n",
            "\u001b[92m☑\u001b[0m 2008-08-23\n",
            "---\n",
            "Q 8/30/07                      \n",
            "T 2007-08-30\n",
            "\u001b[92m☑\u001b[0m 2007-08-30\n",
            "---\n",
            "Q 10/28/13                     \n",
            "T 2013-10-28\n",
            "\u001b[92m☑\u001b[0m 2013-10-28\n",
            "---\n",
            "Q sunday, november 6, 2016     \n",
            "T 2016-11-06\n",
            "\u001b[92m☑\u001b[0m 2016-11-06\n",
            "---\n",
            "val acc 100.000%\n",
            "| 에폭 10 |  반복 1 / 351 | 시간 0[s] | 손실 0.00\n",
            "| 에폭 10 |  반복 21 / 351 | 시간 13[s] | 손실 0.00\n",
            "| 에폭 10 |  반복 41 / 351 | 시간 25[s] | 손실 0.00\n",
            "| 에폭 10 |  반복 61 / 351 | 시간 37[s] | 손실 0.00\n",
            "| 에폭 10 |  반복 81 / 351 | 시간 50[s] | 손실 0.00\n",
            "| 에폭 10 |  반복 101 / 351 | 시간 62[s] | 손실 0.00\n",
            "| 에폭 10 |  반복 121 / 351 | 시간 75[s] | 손실 0.00\n",
            "| 에폭 10 |  반복 141 / 351 | 시간 87[s] | 손실 0.00\n",
            "| 에폭 10 |  반복 161 / 351 | 시간 99[s] | 손실 0.00\n",
            "| 에폭 10 |  반복 181 / 351 | 시간 112[s] | 손실 0.00\n",
            "| 에폭 10 |  반복 201 / 351 | 시간 124[s] | 손실 0.00\n",
            "| 에폭 10 |  반복 221 / 351 | 시간 137[s] | 손실 0.00\n",
            "| 에폭 10 |  반복 241 / 351 | 시간 149[s] | 손실 0.00\n",
            "| 에폭 10 |  반복 261 / 351 | 시간 162[s] | 손실 0.00\n",
            "| 에폭 10 |  반복 281 / 351 | 시간 174[s] | 손실 0.00\n",
            "| 에폭 10 |  반복 301 / 351 | 시간 186[s] | 손실 0.00\n",
            "| 에폭 10 |  반복 321 / 351 | 시간 199[s] | 손실 0.00\n",
            "| 에폭 10 |  반복 341 / 351 | 시간 211[s] | 손실 0.00\n",
            "Q 10/15/94                     \n",
            "T 1994-10-15\n",
            "\u001b[92m☑\u001b[0m 1994-10-15\n",
            "---\n",
            "Q thursday, november 13, 2008  \n",
            "T 2008-11-13\n",
            "\u001b[92m☑\u001b[0m 2008-11-13\n",
            "---\n",
            "Q Mar 25, 2003                 \n",
            "T 2003-03-25\n",
            "\u001b[92m☑\u001b[0m 2003-03-25\n",
            "---\n",
            "Q Tuesday, November 22, 2016   \n",
            "T 2016-11-22\n",
            "\u001b[92m☑\u001b[0m 2016-11-22\n",
            "---\n",
            "Q Saturday, July 18, 1970      \n",
            "T 1970-07-18\n",
            "\u001b[92m☑\u001b[0m 1970-07-18\n",
            "---\n",
            "Q october 6, 1992              \n",
            "T 1992-10-06\n",
            "\u001b[92m☑\u001b[0m 1992-10-06\n",
            "---\n",
            "Q 8/23/08                      \n",
            "T 2008-08-23\n",
            "\u001b[92m☑\u001b[0m 2008-08-23\n",
            "---\n",
            "Q 8/30/07                      \n",
            "T 2007-08-30\n",
            "\u001b[92m☑\u001b[0m 2007-08-30\n",
            "---\n",
            "Q 10/28/13                     \n",
            "T 2013-10-28\n",
            "\u001b[92m☑\u001b[0m 2013-10-28\n",
            "---\n",
            "Q sunday, november 6, 2016     \n",
            "T 2016-11-06\n",
            "\u001b[92m☑\u001b[0m 2016-11-06\n",
            "---\n",
            "val acc 100.000%\n"
          ]
        }
      ]
    },
    {
      "cell_type": "markdown",
      "source": [
        "plot accuracy "
      ],
      "metadata": {
        "id": "zamyGMClZxPV"
      }
    },
    {
      "cell_type": "code",
      "source": [
        "import matplotlib.pyplot as plt\n",
        "plt.plot(acc_list)\n",
        "plt.xlabel(\"epochs\")\n",
        "plt.ylabel(\"accuracy\")\n",
        "plt.show()"
      ],
      "metadata": {
        "colab": {
          "base_uri": "https://localhost:8080/",
          "height": 279
        },
        "id": "3RiKQhoYZztl",
        "outputId": "3964ae88-cb95-4cc1-ea50-0c69ce345e63"
      },
      "execution_count": 24,
      "outputs": [
        {
          "output_type": "display_data",
          "data": {
            "image/png": "[encoded data removed]",
            "text/plain": [
              "<Figure size 432x288 with 1 Axes>"
            ]
          },
          "metadata": {
            "needs_background": "light"
          }
        }
      ]
    },
    {
      "cell_type": "markdown",
      "source": [
        "### Visualize Attention"
      ],
      "metadata": {
        "id": "XYk3ZANbZkxB"
      }
    },
    {
      "cell_type": "code",
      "source": [
        "import sys\n",
        "sys.path.append('..')\n",
        "import numpy as np\n",
        "from dataset import sequence"
      ],
      "metadata": {
        "id": "r-n6wSpzZAKC"
      },
      "execution_count": 25,
      "outputs": []
    },
    {
      "cell_type": "code",
      "source": [
        "\n",
        "(x_train, t_train), (x_test, t_test) = \\\n",
        "    sequence.load_data('date.txt')\n",
        "char_to_id, id_to_char = sequence.get_vocab()\n",
        "\n",
        "# 입력 문장 반전\n",
        "x_train, x_test = x_train[:, ::-1], x_test[:, ::-1]\n",
        "\n",
        "vocab_size = len(char_to_id)\n",
        "wordvec_size = 16\n",
        "hidden_size = 256\n",
        "\n",
        "model = AttentionSeq2seq(vocab_size, wordvec_size, hidden_size)\n",
        "model.load_params()\n",
        "\n",
        "_idx = 0\n",
        "def visualize(attention_map, row_labels, column_labels):\n",
        "    fig, ax = plt.subplots()\n",
        "    ax.pcolor(attention_map, cmap=plt.cm.Greys_r, vmin=0.0, vmax=1.0)\n",
        "\n",
        "    ax.patch.set_facecolor('black')\n",
        "    ax.set_yticks(np.arange(attention_map.shape[0])+0.5, minor=False)\n",
        "    ax.set_xticks(np.arange(attention_map.shape[1])+0.5, minor=False)\n",
        "    ax.invert_yaxis()\n",
        "    ax.set_xticklabels(row_labels, minor=False)\n",
        "    ax.set_yticklabels(column_labels, minor=False)\n",
        "\n",
        "    global _idx\n",
        "    _idx += 1\n",
        "    plt.show()\n",
        "\n",
        "\n",
        "np.random.seed(1984)\n",
        "for _ in range(5):\n",
        "    idx = [np.random.randint(0, len(x_test))]\n",
        "    x = x_test[idx]\n",
        "    t = t_test[idx]\n",
        "\n",
        "    model.forward(x, t)\n",
        "    d = model.decoder.attention.attention_weights\n",
        "    d = np.array(d)\n",
        "    attention_map = d.reshape(d.shape[0], d.shape[2])\n",
        "\n",
        "    # 출력하기 위해 반전\n",
        "    attention_map = attention_map[:,::-1]\n",
        "    x = x[:,::-1]\n",
        "\n",
        "    row_labels = [id_to_char[i] for i in x[0]]\n",
        "    column_labels = [id_to_char[i] for i in t[0]]\n",
        "    column_labels = column_labels[1:]\n",
        "\n",
        "    visualize(attention_map, row_labels, column_labels)#의미있는 것끼리 각각 대응하는걸 알 수 있다"
      ],
      "metadata": {
        "colab": {
          "base_uri": "https://localhost:8080/",
          "height": 1000
        },
        "id": "HCAbXpN0Zo48",
        "outputId": "8338d39a-e880-4890-fd0c-950e14d91dfd"
      },
      "execution_count": 26,
      "outputs": [
        {
          "output_type": "display_data",
          "data": {
            "image/png": "[encoded data removed]",
            "text/plain": [
              "<Figure size 432x288 with 1 Axes>"
            ]
          },
          "metadata": {
            "needs_background": "light"
          }
        },
        {
          "output_type": "display_data",
          "data": {
            "image/png": "[encoded data removed]",
            "text/plain": [
              "<Figure size 432x288 with 1 Axes>"
            ]
          },
          "metadata": {
            "needs_background": "light"
          }
        },
        {
          "output_type": "display_data",
          "data": {
            "image/png": "[encoded data removed]",
            "text/plain": [
              "<Figure size 432x288 with 1 Axes>"
            ]
          },
          "metadata": {
            "needs_background": "light"
          }
        },
        {
          "output_type": "display_data",
          "data": {
            "image/png": "[encoded data removed]",
            "text/plain": [
              "<Figure size 432x288 with 1 Axes>"
            ]
          },
          "metadata": {
            "needs_background": "light"
          }
        },
        {
          "output_type": "display_data",
          "data": {
            "image/png": "[encoded data removed]",
            "text/plain": [
              "<Figure size 432x288 with 1 Axes>"
            ]
          },
          "metadata": {
            "needs_background": "light"
          }
        }
      ]
    }
  ]
}