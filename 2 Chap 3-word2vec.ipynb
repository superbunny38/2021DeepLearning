{
 "cells": [
  {
   "cell_type": "code",
   "execution_count": 1,
   "id": "638d68cd",
   "metadata": {},
   "outputs": [
    {
     "name": "stdout",
     "output_type": "stream",
     "text": [
      "[[-0.18545942 -0.76276988  0.74948955]]\n"
     ]
    }
   ],
   "source": [
    "import numpy as np\n",
    "\n",
    "c = np.array([[1,0,0,0,0,0,0]])#입력(2차원), 원-핫 표현\n",
    "W = np.random.randn(7,3)#가중치\n",
    "h = np.matmul(c,W)#중간 노드\n",
    "print(h)"
   ]
  },
  {
   "cell_type": "code",
   "execution_count": 3,
   "id": "e8e3888a",
   "metadata": {},
   "outputs": [],
   "source": [
    "class MatMul:\n",
    "    def __init__(self, W):\n",
    "        self.params = [W]\n",
    "        self.grads = [np.zeros_like(W)]\n",
    "        self.x = None\n",
    "\n",
    "    def forward(self, x):\n",
    "        W, = self.params\n",
    "        out = np.dot(x, W)\n",
    "        self.x = x\n",
    "        return out\n",
    "\n",
    "    def backward(self, dout):\n",
    "        W, = self.params\n",
    "        dx = np.dot(dout, W.T)\n",
    "        dW = np.dot(self.x.T, dout)\n",
    "        self.grads[0][...] = dW\n",
    "        return dx"
   ]
  },
  {
   "cell_type": "code",
   "execution_count": 2,
   "id": "6d1c16a8",
   "metadata": {},
   "outputs": [
    {
     "name": "stdout",
     "output_type": "stream",
     "text": [
      "[[-0.46922656  0.07682951  1.20890558]]\n"
     ]
    }
   ],
   "source": [
    "#Matmul계층으로 수행\n",
    "import sys\n",
    "sys.path.append('..')\n",
    "from common.layers import MatMul\n",
    "\n",
    "c = np.array([[1,0,0,0,0,0,0]])#입력\n",
    "W = np.random.randn(7,3)#가중치\n",
    "layer = MatMul(W)#Matmul 계층\n",
    "h = layer.forward(c)#순전파 수행\n",
    "print(h)"
   ]
  },
  {
   "cell_type": "code",
   "execution_count": 11,
   "id": "875d2aed",
   "metadata": {},
   "outputs": [
    {
     "name": "stdout",
     "output_type": "stream",
     "text": [
      "[[ 0.42206677  1.06581229  1.40990315  0.76112996 -0.52625162  1.23304314\n",
      "  -1.54347268]]\n",
      "2\n"
     ]
    }
   ],
   "source": [
    "#CBOW(continuous bag of words) 모델의 추론 처리\n",
    "\n",
    "#샘플 맥락 데이터\n",
    "c0 = np.array([[1,0,0,0,0,0,0]])#you\n",
    "c1 = np.array([[0,0,1,0,0,0,0]])#goodbye\n",
    "\n",
    "#가중치 초기화\n",
    "W_in = np.random.randn(7,3)#입력-은닉 가중치\n",
    "W_out = np.random.randn(3,7)#은닉-출력 가중치\n",
    "\n",
    "#계층 생성\n",
    "in_layer0 = MatMul(W_in)#첫번째 Matmul 계층\n",
    "in_layer1 = MatMul(W_in)#두번째 Matmul 계층\n",
    "out_layer = MatMul(W_out)#은닉층 Matmul\n",
    "\n",
    "#순전파\n",
    "h0 = in_layer0.forward(c0)\n",
    "h1 = in_layer1.forward(c1)\n",
    "h = .5*(h0 +h1)#평균내기\n",
    "s = out_layer.forward(h)#출력층\n",
    "\n",
    "print(s)#점수\n",
    "print(np.argmax(s))#할 때마다 점수가 바뀌네..?"
   ]
  },
  {
   "cell_type": "markdown",
   "id": "9a930878",
   "metadata": {},
   "source": [
    " 학습 데이터 준비\n"
   ]
  },
  {
   "cell_type": "code",
   "execution_count": 12,
   "id": "5ccaff9c",
   "metadata": {},
   "outputs": [
    {
     "name": "stdout",
     "output_type": "stream",
     "text": [
      "[0 1 2 3 4 1 5 6]\n",
      "{0: 'you', 1: 'say', 2: 'goodbye', 3: 'and', 4: 'i', 5: 'hello', 6: '.'}\n"
     ]
    }
   ],
   "source": [
    "#말뭉치 텍스트를 단어 ID로 변환\n",
    "import sys\n",
    "sys.path.append('..')\n",
    "from common.util import preprocess\n",
    "\n",
    "text = 'You say goodbye and I say hello.'\n",
    "corpus, word_to_id, id_to_word = preprocess(text)\n",
    "print(corpus)#단어 ID의 배열\n",
    "\n",
    "print(id_to_word)"
   ]
  },
  {
   "cell_type": "code",
   "execution_count": 13,
   "id": "a23abb15",
   "metadata": {},
   "outputs": [
    {
     "data": {
      "text/plain": [
       "(8,)"
      ]
     },
     "execution_count": 13,
     "metadata": {},
     "output_type": "execute_result"
    }
   ],
   "source": [
    "corpus.shape"
   ]
  },
  {
   "cell_type": "code",
   "execution_count": 17,
   "id": "cfb9c768",
   "metadata": {},
   "outputs": [],
   "source": [
    "def create_contexts_target(corpus, window_size = 1):#맥락과 타깃을 만드는 함수 구현\n",
    "    '''\n",
    "    인수\n",
    "    corpus: 단어 ID의 배열\n",
    "    window_size: 맥락의 윈도우 크기\n",
    "    '''\n",
    "    target = corpus[window_size:-window_size]#1차원 배열\n",
    "    contexts = []\n",
    "    \n",
    "    for idx in range(window_size, len(corpus) - window_size):\n",
    "        cs = []\n",
    "        for t in range(-window_size, window_size+1):\n",
    "            if t == 0:\n",
    "                continue\n",
    "            cs.append(corpus[idx+t])\n",
    "        contexts.append(cs)\n",
    "        \n",
    "    return np.array(contexts), np.array(target)"
   ]
  },
  {
   "cell_type": "code",
   "execution_count": 19,
   "id": "0c079955",
   "metadata": {},
   "outputs": [
    {
     "name": "stdout",
     "output_type": "stream",
     "text": [
      "contexts:\n",
      " [[0 2]\n",
      " [1 3]\n",
      " [2 4]\n",
      " [3 1]\n",
      " [4 5]\n",
      " [1 6]]\n",
      "\n",
      "\n",
      "target:\n",
      " [1 2 3 4 1 5]\n"
     ]
    }
   ],
   "source": [
    "#함수 사용\n",
    "contexts, target = create_contexts_target(corpus, window_size=1)\n",
    "print(\"contexts:\\n\",contexts)\n",
    "\n",
    "print(\"\\n\\ntarget:\\n\",target)"
   ]
  },
  {
   "cell_type": "code",
   "execution_count": 20,
   "id": "654ca260",
   "metadata": {},
   "outputs": [],
   "source": [
    "#원-핫 표현으로 변환\n",
    "def convert_one_hot(corpus, vocab_size):\n",
    "    '''원핫 표현으로 변환\n",
    "    :param corpus: 단어 ID 목록(1차원 또는 2차원 넘파이 배열)\n",
    "    :param vocab_size: 어휘 수\n",
    "    :return: 원핫 표현(2차원 또는 3차원 넘파이 배열)\n",
    "    '''\n",
    "    N = corpus.shape[0]\n",
    "\n",
    "    if corpus.ndim == 1:\n",
    "        one_hot = np.zeros((N, vocab_size), dtype=np.int32)\n",
    "        for idx, word_id in enumerate(corpus):\n",
    "            one_hot[idx, word_id] = 1\n",
    "\n",
    "    elif corpus.ndim == 2:\n",
    "        C = corpus.shape[1]\n",
    "        one_hot = np.zeros((N, C, vocab_size), dtype=np.int32)\n",
    "        for idx_0, word_ids in enumerate(corpus):\n",
    "            for idx_1, word_id in enumerate(word_ids):\n",
    "                one_hot[idx_0, idx_1, word_id] = 1\n",
    "\n",
    "    return one_hot"
   ]
  },
  {
   "cell_type": "code",
   "execution_count": 21,
   "id": "d71300a4",
   "metadata": {},
   "outputs": [
    {
     "data": {
      "text/plain": [
       "'You say goodbye and I say hello.'"
      ]
     },
     "execution_count": 21,
     "metadata": {},
     "output_type": "execute_result"
    }
   ],
   "source": [
    "text"
   ]
  },
  {
   "cell_type": "code",
   "execution_count": 23,
   "id": "6f028493",
   "metadata": {},
   "outputs": [
    {
     "data": {
      "text/plain": [
       "7"
      ]
     },
     "execution_count": 23,
     "metadata": {},
     "output_type": "execute_result"
    }
   ],
   "source": [
    "vocab_size = len(word_to_id)\n",
    "vocab_size"
   ]
  },
  {
   "cell_type": "code",
   "execution_count": 24,
   "id": "49c76022",
   "metadata": {},
   "outputs": [
    {
     "data": {
      "text/plain": [
       "array([[0, 1, 0, 0, 0, 0, 0],\n",
       "       [0, 0, 1, 0, 0, 0, 0],\n",
       "       [0, 0, 0, 1, 0, 0, 0],\n",
       "       [0, 0, 0, 0, 1, 0, 0],\n",
       "       [0, 1, 0, 0, 0, 0, 0],\n",
       "       [0, 0, 0, 0, 0, 1, 0]])"
      ]
     },
     "execution_count": 24,
     "metadata": {},
     "output_type": "execute_result"
    }
   ],
   "source": [
    "target = convert_one_hot(target, vocab_size)\n",
    "target"
   ]
  },
  {
   "cell_type": "code",
   "execution_count": 25,
   "id": "3208fe13",
   "metadata": {},
   "outputs": [
    {
     "data": {
      "text/plain": [
       "array([[0, 2],\n",
       "       [1, 3],\n",
       "       [2, 4],\n",
       "       [3, 1],\n",
       "       [4, 5],\n",
       "       [1, 6]])"
      ]
     },
     "execution_count": 25,
     "metadata": {},
     "output_type": "execute_result"
    }
   ],
   "source": [
    "contexts"
   ]
  },
  {
   "cell_type": "code",
   "execution_count": 26,
   "id": "912360f8",
   "metadata": {},
   "outputs": [],
   "source": [
    "contexts = convert_one_hot(contexts, vocab_size)"
   ]
  },
  {
   "cell_type": "code",
   "execution_count": 27,
   "id": "a0b6a7bb",
   "metadata": {},
   "outputs": [
    {
     "data": {
      "text/plain": [
       "array([[[1, 0, 0, 0, 0, 0, 0],\n",
       "        [0, 0, 1, 0, 0, 0, 0]],\n",
       "\n",
       "       [[0, 1, 0, 0, 0, 0, 0],\n",
       "        [0, 0, 0, 1, 0, 0, 0]],\n",
       "\n",
       "       [[0, 0, 1, 0, 0, 0, 0],\n",
       "        [0, 0, 0, 0, 1, 0, 0]],\n",
       "\n",
       "       [[0, 0, 0, 1, 0, 0, 0],\n",
       "        [0, 1, 0, 0, 0, 0, 0]],\n",
       "\n",
       "       [[0, 0, 0, 0, 1, 0, 0],\n",
       "        [0, 0, 0, 0, 0, 1, 0]],\n",
       "\n",
       "       [[0, 1, 0, 0, 0, 0, 0],\n",
       "        [0, 0, 0, 0, 0, 0, 1]]])"
      ]
     },
     "execution_count": 27,
     "metadata": {},
     "output_type": "execute_result"
    }
   ],
   "source": [
    "contexts"
   ]
  },
  {
   "cell_type": "code",
   "execution_count": 29,
   "id": "83ab5f5c",
   "metadata": {},
   "outputs": [],
   "source": [
    "#CBOW 모델 구현\n",
    "import sys\n",
    "sys.path.append('..')\n",
    "from common.layers import MatMul, SoftmaxWithLoss\n",
    "\n",
    "class SimpleCBOW:\n",
    "    def __init__(self, vocab_size, hidden_size):#어휘수, 은닉층의 뉴런수\n",
    "        V, H = vocab_size, hidden_size\n",
    "        \n",
    "        #가중치 초기화(무작위 생성)\n",
    "        W_in = 0.01*np.random.randn(V, H).astype('f')#32비트 부동소수점 수로 초기화\n",
    "        W_out = 0.01*np.random.randn(H, V).astype('f')\n",
    "        \n",
    "        #계층 생성\n",
    "        self.in_layer0 = MatMul(W_in)#입력층\n",
    "        self.in_layer1 = MatMul(W_in)#입력층\n",
    "        self.out_layer = MatMul(W_out)#출력층\n",
    "        self.loss_layer = SoftmaxWithLoss()#활성화 + 손실 층\n",
    "        \n",
    "        #모든 가중치와 기울기를 리스트에 모은다\n",
    "        layers = [self.in_layer0, self.in_layer1, self.out_layer]\n",
    "        self.params, self.grads = [],[]\n",
    "        for layer in layers:\n",
    "            self.params += layer.params\n",
    "            self.grads += layer.grads\n",
    "        \n",
    "        #인스턴스 변수에 단어의 분산 표현을 저장한다\n",
    "        self.word_vecs = W_in\n",
    "        \n",
    "    def forward(self, contexts, target):#순전파\n",
    "        h0 = self.in_layer0.forward(contexts[:,0])#입력\n",
    "        h1 = self.in_layer1.forward(contexts[:,1])#입력\n",
    "        h = (h0+h1)*0.5#평균\n",
    "        score = self.out_layer.forward(h)#점수\n",
    "        loss = self.loss_layer.forward(score, target)#손실\n",
    "        return loss#손실 반환"
   ]
  },
  {
   "cell_type": "code",
   "execution_count": null,
   "id": "26427de7",
   "metadata": {},
   "outputs": [],
   "source": []
  }
 ],
 "metadata": {
  "kernelspec": {
   "display_name": "Python 3",
   "language": "python",
   "name": "python3"
  },
  "language_info": {
   "codemirror_mode": {
    "name": "ipython",
    "version": 3
   },
   "file_extension": ".py",
   "mimetype": "text/x-python",
   "name": "python",
   "nbconvert_exporter": "python",
   "pygments_lexer": "ipython3",
   "version": "3.9.5"
  }
 },
 "nbformat": 4,
 "nbformat_minor": 5
}
