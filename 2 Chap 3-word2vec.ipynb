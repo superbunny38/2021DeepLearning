{
 "cells": [
  {
   "cell_type": "code",
   "execution_count": 1,
   "id": "e5e6314f",
   "metadata": {},
   "outputs": [
    {
     "name": "stdout",
     "output_type": "stream",
     "text": [
      "[[-0.18545942 -0.76276988  0.74948955]]\n"
     ]
    }
   ],
   "source": [
    "import numpy as np\n",
    "\n",
    "c = np.array([[1,0,0,0,0,0,0]])#입력(2차원), 원-핫 표현\n",
    "W = np.random.randn(7,3)#가중치\n",
    "h = np.matmul(c,W)#중간 노드\n",
    "print(h)"
   ]
  },
  {
   "cell_type": "code",
   "execution_count": 3,
   "id": "9d53e69c",
   "metadata": {},
   "outputs": [],
   "source": [
    "class MatMul:\n",
    "    def __init__(self, W):\n",
    "        self.params = [W]\n",
    "        self.grads = [np.zeros_like(W)]\n",
    "        self.x = None\n",
    "\n",
    "    def forward(self, x):\n",
    "        W, = self.params\n",
    "        out = np.dot(x, W)\n",
    "        self.x = x\n",
    "        return out\n",
    "\n",
    "    def backward(self, dout):\n",
    "        W, = self.params\n",
    "        dx = np.dot(dout, W.T)\n",
    "        dW = np.dot(self.x.T, dout)\n",
    "        self.grads[0][...] = dW\n",
    "        return dx"
   ]
  },
  {
   "cell_type": "code",
   "execution_count": 2,
   "id": "7a34ff0b",
   "metadata": {},
   "outputs": [
    {
     "name": "stdout",
     "output_type": "stream",
     "text": [
      "[[-0.46922656  0.07682951  1.20890558]]\n"
     ]
    }
   ],
   "source": [
    "#Matmul계층으로 수행\n",
    "import sys\n",
    "sys.path.append('..')\n",
    "from common.layers import MatMul\n",
    "\n",
    "c = np.array([[1,0,0,0,0,0,0]])#입력\n",
    "W = np.random.randn(7,3)#가중치\n",
    "layer = MatMul(W)#Matmul 계층\n",
    "h = layer.forward(c)#순전파 수행\n",
    "print(h)"
   ]
  },
  {
   "cell_type": "code",
   "execution_count": 11,
   "id": "dd92963e",
   "metadata": {},
   "outputs": [
    {
     "name": "stdout",
     "output_type": "stream",
     "text": [
      "[[ 0.42206677  1.06581229  1.40990315  0.76112996 -0.52625162  1.23304314\n",
      "  -1.54347268]]\n",
      "2\n"
     ]
    }
   ],
   "source": [
    "#CBOW(continuous bag of words) 모델의 추론 처리\n",
    "\n",
    "#샘플 맥락 데이터\n",
    "c0 = np.array([[1,0,0,0,0,0,0]])#you\n",
    "c1 = np.array([[0,0,1,0,0,0,0]])#goodbye\n",
    "\n",
    "#가중치 초기화\n",
    "W_in = np.random.randn(7,3)#입력-은닉 가중치\n",
    "W_out = np.random.randn(3,7)#은닉-출력 가중치\n",
    "\n",
    "#계층 생성\n",
    "in_layer0 = MatMul(W_in)#첫번째 Matmul 계층\n",
    "in_layer1 = MatMul(W_in)#두번째 Matmul 계층\n",
    "out_layer = MatMul(W_out)#은닉층 Matmul\n",
    "\n",
    "#순전파\n",
    "h0 = in_layer0.forward(c0)\n",
    "h1 = in_layer1.forward(c1)\n",
    "h = .5*(h0 +h1)#평균내기\n",
    "s = out_layer.forward(h)#출력층\n",
    "\n",
    "print(s)#점수\n",
    "print(np.argmax(s))#할 때마다 점수가 바뀌네..?"
   ]
  },
  {
   "cell_type": "code",
   "execution_count": null,
   "id": "b568483a",
   "metadata": {},
   "outputs": [],
   "source": [
    " "
   ]
  },
  {
   "cell_type": "code",
   "execution_count": null,
   "id": "1868960c",
   "metadata": {},
   "outputs": [],
   "source": []
  }
 ],
 "metadata": {
  "kernelspec": {
   "display_name": "Python 3",
   "language": "python",
   "name": "python3"
  },
  "language_info": {
   "codemirror_mode": {
    "name": "ipython",
    "version": 3
   },
   "file_extension": ".py",
   "mimetype": "text/x-python",
   "name": "python",
   "nbconvert_exporter": "python",
   "pygments_lexer": "ipython3",
   "version": "3.9.5"
  }
 },
 "nbformat": 4,
 "nbformat_minor": 5
}
