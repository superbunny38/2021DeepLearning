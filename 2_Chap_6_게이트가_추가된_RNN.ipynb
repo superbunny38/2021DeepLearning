{
  "nbformat": 4,
  "nbformat_minor": 0,
  "metadata": {
    "colab": {
      "name": "2 Chap  6-게이트가 추가된 RNN.ipynb",
      "provenance": [],
      "collapsed_sections": [],
      "toc_visible": true,
      "authorship_tag": "ABX9TyPfPtWiPJE/G3ip6PYiLwc0",
      "include_colab_link": true
    },
    "kernelspec": {
      "name": "python3",
      "display_name": "Python 3"
    },
    "language_info": {
      "name": "python"
    },
    "accelerator": "GPU"
  },
  "cells": [
    {
      "cell_type": "markdown",
      "metadata": {
        "id": "view-in-github",
        "colab_type": "text"
      },
      "source": [
        "<a href=\"https://colab.research.google.com/github/superbunny38/2021DeepLearning/blob/main/2_Chap_6_%EA%B2%8C%EC%9D%B4%ED%8A%B8%EA%B0%80_%EC%B6%94%EA%B0%80%EB%90%9C_RNN.ipynb\" target=\"_parent\"><img src=\"https://colab.research.google.com/assets/colab-badge.svg\" alt=\"Open In Colab\"/></a>"
      ]
    },
    {
      "cell_type": "markdown",
      "source": [
        "<center>\n",
        "\n",
        "$y_0$\n",
        "\n",
        "$\\uparrow$\n",
        "\n",
        "$softmax$\n",
        "\n",
        "$\\uparrow$\n",
        "\n",
        "$\\qquad$ $\\qquad$ $\\qquad$ $LSTM$ $\\quad$ $\\to$ $\\quad$ $LSTM$\n",
        "\n",
        "$\\uparrow$\n",
        "\n",
        "$Embedding$\n",
        "\n",
        "$\\uparrow$\n",
        "\n",
        "$W_0$ \n",
        "</center>"
      ],
      "metadata": {
        "id": "zJckTdXGYPiU"
      }
    },
    {
      "cell_type": "markdown",
      "source": [
        "### 기울기 폭발"
      ],
      "metadata": {
        "id": "grkf953ZOpAr"
      }
    },
    {
      "cell_type": "code",
      "execution_count": 1,
      "metadata": {
        "id": "xnqIk37vG-GV"
      },
      "outputs": [],
      "source": [
        "import numpy as np\n",
        "import matplotlib.pyplot as plt"
      ]
    },
    {
      "cell_type": "code",
      "source": [
        "N = 2#미니 배치 크기\n",
        "H = 3#은닉 상태 벡터의 차원 수\n",
        "T = 20#시계열 데이터의 길이"
      ],
      "metadata": {
        "id": "NCF1oshhN1tC"
      },
      "execution_count": 2,
      "outputs": []
    },
    {
      "cell_type": "code",
      "source": [
        "dh = np.ones((N,H))#chrlghk\n",
        "np.random.seed(3)#재현할 수 있도록 난수의 시드 고정\n",
        "Wh = np.random.randn(H,H)"
      ],
      "metadata": {
        "id": "snZcRFDON7Cg"
      },
      "execution_count": 3,
      "outputs": []
    },
    {
      "cell_type": "code",
      "source": [
        "norm_list = []\n",
        "for t in range(T):\n",
        "  dh = np.matmul(dh, Wh.T)\n",
        "  norm = np.sqrt(np.sum(dh**2))/N#L2 norm\n",
        "  norm_list.append(norm)"
      ],
      "metadata": {
        "id": "oVEkpE3aOBDx"
      },
      "execution_count": 4,
      "outputs": []
    },
    {
      "cell_type": "code",
      "source": [
        "plt.plot(norm_list)\n",
        "plt.title(\"Gradient dh through time\")\n",
        "plt.xlabel(\"time step\")\n",
        "plt.ylabel(\"norm\")\n",
        "plt.show()"
      ],
      "metadata": {
        "colab": {
          "base_uri": "https://localhost:8080/",
          "height": 295
        },
        "id": "Q6bBA53DOEO3",
        "outputId": "d9b0fcef-6b63-4dd0-e782-c8cf106f23e9"
      },
      "execution_count": 5,
      "outputs": [
        {
          "output_type": "display_data",
          "data": {
            "image/png": "[encoded data removed]",
            "text/plain": [
              "<Figure size 432x288 with 1 Axes>"
            ]
          },
          "metadata": {
            "needs_background": "light"
          }
        }
      ]
    },
    {
      "cell_type": "markdown",
      "source": [
        "## 기울기 소실"
      ],
      "metadata": {
        "id": "FOzbMr5KO51q"
      }
    },
    {
      "cell_type": "markdown",
      "source": [
        "Wh의 초깃값을 변경"
      ],
      "metadata": {
        "id": "-K0o9EzbOtta"
      }
    },
    {
      "cell_type": "code",
      "source": [
        "Wh = np.random.randn(H,H)*0.5"
      ],
      "metadata": {
        "id": "nFljEAOuOa6l"
      },
      "execution_count": 6,
      "outputs": []
    },
    {
      "cell_type": "code",
      "source": [
        "norm_list = []\n",
        "for t in range(T):\n",
        "  dh = np.matmul(dh, Wh.T)\n",
        "  norm = np.sqrt(np.sum(dh**2))/N#L2 norm\n",
        "  norm_list.append(norm)"
      ],
      "metadata": {
        "id": "BppVLTpOOzco"
      },
      "execution_count": 7,
      "outputs": []
    },
    {
      "cell_type": "code",
      "source": [
        "plt.plot(norm_list)\n",
        "plt.title(\"Gradient dh through time\")\n",
        "plt.xlabel(\"time step\")\n",
        "plt.ylabel(\"norm\")\n",
        "plt.show()"
      ],
      "metadata": {
        "colab": {
          "base_uri": "https://localhost:8080/",
          "height": 295
        },
        "id": "bnKQEwrrO1pG",
        "outputId": "4f91acfe-8101-4b33-c881-43882818e24d"
      },
      "execution_count": 8,
      "outputs": [
        {
          "output_type": "display_data",
          "data": {
            "image/png": "[encoded data removed]",
            "text/plain": [
              "<Figure size 432x288 with 1 Axes>"
            ]
          },
          "metadata": {
            "needs_background": "light"
          }
        }
      ]
    },
    {
      "cell_type": "markdown",
      "source": [
        "## 기울기 폭발 대책: 기울기 클리핑 (Gradients Clipping)"
      ],
      "metadata": {
        "id": "bP95K2O5QIHx"
      }
    },
    {
      "cell_type": "code",
      "source": [
        "import numpy as np\n",
        "dW1 = np.random.rand(3,3)*10\n",
        "dW2 = np.random.rand(3,3)*10\n",
        "grads = [dW1, dW2]\n",
        "max_norm = 5.0"
      ],
      "metadata": {
        "id": "MR_cRCR7O3VZ"
      },
      "execution_count": 2,
      "outputs": []
    },
    {
      "cell_type": "code",
      "source": [
        "def clip_grads(grads, max_norm):\n",
        "  before = []\n",
        "  after =[]\n",
        "  total_norm = 0\n",
        "  for grad in grads:\n",
        "    total_norm += np.sum(grad**2)\n",
        "  total_norm = np.sqrt(total_norm)\n",
        "\n",
        "  rate = max_norm/(total_norm + 1e-6)\n",
        "  if rate<1:\n",
        "    for grad in grads:\n",
        "      print(\"\\n\\nbefore:\\n\",grad)\n",
        "      before.append(grad)\n",
        "      grad *= rate\n",
        "      print(\"\\n\\nafter:\\n\",grad)\n",
        "      after.append(grad)\n",
        "  if before == after:\n",
        "    print(\"wrong result\")\n",
        "  return before, after"
      ],
      "metadata": {
        "id": "HkLuu8kFuBho"
      },
      "execution_count": 3,
      "outputs": []
    },
    {
      "cell_type": "code",
      "source": [
        "clip_grads(grads, max_norm)"
      ],
      "metadata": {
        "colab": {
          "base_uri": "https://localhost:8080/"
        },
        "id": "Dy0aPOhMvVJ1",
        "outputId": "94c0f6d5-569a-4319-9635-f879cfb355e8"
      },
      "execution_count": 3,
      "outputs": [
        {
          "output_type": "stream",
          "name": "stdout",
          "text": [
            "\n",
            "\n",
            "before:\n",
            " [[4.09172584 5.33819472 8.35563086]\n",
            " [7.53742324 9.40704794 5.29224185]\n",
            " [8.27206735 2.82008261 4.41754514]]\n",
            "\n",
            "\n",
            "after:\n",
            " [[0.81459816 1.06275048 1.66347449]\n",
            " [1.50058224 1.87279507 1.05360199]\n",
            " [1.64683831 0.56143403 0.87946365]]\n",
            "\n",
            "\n",
            "before:\n",
            " [[4.07365109 4.49152233 6.36734363]\n",
            " [5.78919569 4.73091771 8.73722446]\n",
            " [0.33016074 4.99188775 3.45328287]]\n",
            "\n",
            "\n",
            "after:\n",
            " [[0.81099977 0.89419135 1.26763782]\n",
            " [1.15253767 0.9418512  1.73944377]\n",
            " [0.0657298  0.99380622 0.68749422]]\n",
            "wrong result\n"
          ]
        },
        {
          "output_type": "execute_result",
          "data": {
            "text/plain": [
              "([array([[0.81459816, 1.06275048, 1.66347449],\n",
              "         [1.50058224, 1.87279507, 1.05360199],\n",
              "         [1.64683831, 0.56143403, 0.87946365]]),\n",
              "  array([[0.81099977, 0.89419135, 1.26763782],\n",
              "         [1.15253767, 0.9418512 , 1.73944377],\n",
              "         [0.0657298 , 0.99380622, 0.68749422]])],\n",
              " [array([[0.81459816, 1.06275048, 1.66347449],\n",
              "         [1.50058224, 1.87279507, 1.05360199],\n",
              "         [1.64683831, 0.56143403, 0.87946365]]),\n",
              "  array([[0.81099977, 0.89419135, 1.26763782],\n",
              "         [1.15253767, 0.9418512 , 1.73944377],\n",
              "         [0.0657298 , 0.99380622, 0.68749422]])])"
            ]
          },
          "metadata": {},
          "execution_count": 3
        }
      ]
    },
    {
      "cell_type": "code",
      "source": [
        "#왜 print할 때만 이렇게 나오지?\n",
        "before1 = [[9.50124443, 5.49198645, 7.99668985],\n",
        " [8.6106708,  7.01086913, 5.33693227],\n",
        " [0.86597292, 2.8089426,  6.00072883]]\n",
        "after1 =  [[1.84106889, 1.06418959, 1.54952933],\n",
        " [1.66850125, 1.35850553, 1.03414453],\n",
        " [0.16780074, 0.54429258, 1.16276928]]\n",
        "\n",
        "fig, axis = plt.subplots(1, 2, figsize=(15, 5))\n",
        "axis[0].set_title(\"before\")\n",
        "axis[0].plot(before1)\n",
        "axis[0].set_ylim(0,10)\n",
        "axis[1].set_title(\"after\")\n",
        "axis[1].plot(after1)\n",
        "axis[1].set_ylim(0,10)"
      ],
      "metadata": {
        "colab": {
          "base_uri": "https://localhost:8080/",
          "height": 266
        },
        "id": "6WKvUC4Dxs55",
        "outputId": "698998ee-bfbe-4f7a-d1d8-63016bd91f2e"
      },
      "execution_count": 6,
      "outputs": [
        {
          "output_type": "execute_result",
          "data": {
            "text/plain": [
              "(0.0, 10.0)"
            ]
          },
          "metadata": {},
          "execution_count": 6
        },
        {
          "output_type": "display_data",
          "data": {
            "image/png": "[encoded data removed]",
            "text/plain": [
              "<Figure size 1080x360 with 2 Axes>"
            ]
          },
          "metadata": {
            "needs_background": "light"
          }
        }
      ]
    },
    {
      "cell_type": "code",
      "source": [
        "before2 = [[3.48315269, 6.99841774, 4.6312903 ],\n",
        " [3.03925185, 2.13250622, 6.88734466],\n",
        " [8.57451388, 5.54944962, 6.07602689]]\n",
        "after2 = [[0.67493518, 1.35609281, 0.89741134],\n",
        " [0.58891991, 0.41321859, 1.33457002],\n",
        " [1.66149507, 1.07532431, 1.17735989]]\n",
        " \n",
        "fig, axis = plt.subplots(1, 2, figsize=(15, 5))\n",
        "axis[0].set_title(\"before\")\n",
        "axis[0].plot(before2)\n",
        "axis[0].set_ylim(0,10)\n",
        "axis[1].set_title(\"after\")\n",
        "axis[1].plot(after2)\n",
        "axis[1].set_ylim(0,10)"
      ],
      "metadata": {
        "colab": {
          "base_uri": "https://localhost:8080/",
          "height": 266
        },
        "id": "Z8pVXLXouv1_",
        "outputId": "fbf94074-8c88-4613-bfb3-bdf6e7dd3645"
      },
      "execution_count": 7,
      "outputs": [
        {
          "output_type": "execute_result",
          "data": {
            "text/plain": [
              "(0.0, 10.0)"
            ]
          },
          "metadata": {},
          "execution_count": 7
        },
        {
          "output_type": "display_data",
          "data": {
            "image/png": "[encoded data removed]",
            "text/plain": [
              "<Figure size 1080x360 with 2 Axes>"
            ]
          },
          "metadata": {
            "needs_background": "light"
          }
        }
      ]
    },
    {
      "cell_type": "markdown",
      "source": [
        "## LSTM(Long Short-Term Memory): 단기 기억을 긴 시간 동안 지속할 수 있음\n",
        "\n",
        "LSTM을 사용하면 기울기 소실을 방지할 수 있다.\n",
        "\n",
        "LSTM의 기억 셀이 장기 의존 관계를 유지(학습)하리라 기대할 수 있다."
      ],
      "metadata": {
        "id": "MJ6LFmeTJgYz"
      }
    },
    {
      "cell_type": "code",
      "source": [
        "\n",
        "def sigmoid(x):\n",
        "    return 1 / (1 + np.exp(-x))"
      ],
      "metadata": {
        "id": "W-ifgkVWLfzZ"
      },
      "execution_count": 4,
      "outputs": []
    },
    {
      "cell_type": "code",
      "source": [
        "class LSTM:\n",
        "  def __init__(self, Wx, Wh, b):#가중치 매개변수: Wx,Wh 편향: b\n",
        "    self.params = [Wx,Wh,b]#인스턴스 변수\n",
        "    self.grads = [np.zeros_like(Wx), np.zeros_like(Wh), np.zeros_like(b)]#기울기 초기화\n",
        "    self.cache = None#순전파 때 중간 결과를 보관했다가 역전파 계산에 사용하려는 용도의 인스턴스 변수\n",
        "  \n",
        "  def forward(self, x, h_prev, c_prev):#x: 현 시각의 입력, h_prev: 이전 시각의 은닉 상태, c_prev: 이전 시각의 기억 셀\n",
        "    Wx, Wh, b= self.params\n",
        "    N, H = h_prev.shape\n",
        "    A = np.matmul(x,Wx)+np.matmul(h_prev, Wh)+b#아핀 변환\n",
        "\n",
        "    #slice\n",
        "    f = A[:,:H]\n",
        "    g = A[:, H:2*H]\n",
        "    i = A[:, 2*H:3*H]\n",
        "    o = A[:, 3*H:]\n",
        "\n",
        "    f = sigmoid(f)\n",
        "    g = np.tanh(g)\n",
        "    i = sigmoid(i)\n",
        "    o = sigmoid(o)\n",
        "\n",
        "    c_next = f*c_prev + g*i\n",
        "    h_next = o*np.tanh(c_next)\n",
        "\n",
        "    self.cache = (x, h_prev, c_prev, i, f, g, o, c_next)\n",
        "    return h_next, \n",
        "    \n",
        "  def backward(self, dh_next, dc_next):\n",
        "        Wx, Wh, b = self.params\n",
        "        x, h_prev, c_prev, i, f, g, o, c_next = self.cache\n",
        "\n",
        "        tanh_c_next = np.tanh(c_next)\n",
        "\n",
        "        ds = dc_next + (dh_next * o) * (1 - tanh_c_next ** 2)\n",
        "\n",
        "        dc_prev = ds * f\n",
        "\n",
        "        di = ds * g\n",
        "        df = ds * c_prev\n",
        "        do = dh_next * tanh_c_next\n",
        "        dg = ds * i\n",
        "\n",
        "        di *= i * (1 - i)\n",
        "        df *= f * (1 - f)\n",
        "        do *= o * (1 - o)\n",
        "        dg *= (1 - g ** 2)\n",
        "\n",
        "        dA = np.hstack((df, dg, di, do))\n",
        "\n",
        "        dWh = np.dot(h_prev.T, dA)\n",
        "        dWx = np.dot(x.T, dA)\n",
        "        db = dA.sum(axis=0)\n",
        "\n",
        "        self.grads[0][...] = dWx\n",
        "        self.grads[1][...] = dWh\n",
        "        self.grads[2][...] = db\n",
        "\n",
        "        dx = np.dot(dA, Wx.T)\n",
        "        dh_prev = np.dot(dA, Wh.T)\n",
        "\n",
        "        return dx, dh_prev, dc_prev"
      ],
      "metadata": {
        "id": "xZ3DwfO-xqQp"
      },
      "execution_count": 5,
      "outputs": []
    },
    {
      "cell_type": "markdown",
      "source": [
        "### Time LSTM: T개분의 시계열 데이터를 한꺼번에 처리하는 계층"
      ],
      "metadata": {
        "id": "GBZDZLqxNtzS"
      }
    },
    {
      "cell_type": "code",
      "source": [
        "import numpy as np\n",
        "class TimeLSTM:\n",
        "  def __init__(self, Wx,Wh, b, stateful = False):\n",
        "    self.params = [Wx, Wh, b]\n",
        "    self.grads = [np.zeros_like(Wx), np.zeros_like(Wh), np.zeros_like(b)]\n",
        "    self.layers = None\n",
        "    self.h, self.c = None, None\n",
        "    self.dh = None\n",
        "    self.stateful = stateful#은닉 상태를 인계받을지\n",
        "\n",
        "  def forward(self, xs):\n",
        "    Wx, Wh, b= self.params\n",
        "    N,T, D = xs.shape\n",
        "    H = Wh.shape[0]\n",
        "\n",
        "    self.layers = []\n",
        "    hs = np.empty((N,T,H), dtype = 'f')\n",
        "\n",
        "    if not self.stateful or self.h is None:#은닉상태 인계받지 않거나 인계받을 것이 없으면\n",
        "      self.h = np.zeroes((N,H), dtype = 'f')#초기화\n",
        "    \n",
        "    if not self.stateful or self.c is None:\n",
        "      self.c = np.zeros((N,H), dtype = 'f')#초기화\n",
        "    \n",
        "    for t in range(T):\n",
        "      layer = LSTM(*self.params)\n",
        "      self.h, self.c = layer.forward(xs[:,t,:], self.h, self.c)\n",
        "      hs[:,t,:] = self.h\n",
        "\n",
        "      self.layers.append(layer)\n",
        "    return hs\n",
        "  \n",
        "\n",
        "  def backward(self,dhs):\n",
        "    Wx, wh, b= self.params\n",
        "    N, T, H = dhs.shape\n",
        "    D = Wx.shape[0]\n",
        "    dxs = np.empty((N,T,D), dtype = 'f')\n",
        "    dh, dc = 0,0\n",
        "\n",
        "    grads = [0,0,0]\n",
        "    for t in reversed(range(T)):\n",
        "      layer = self.layers[t]\n",
        "      dx, dh, dc = layer.backward(dhs[:,t,:]+dh,dc)\n",
        "      dxs[:,t,:] = dx\n",
        "      for i, grad in enumerate(layer.grads):\n",
        "        grads[i]+= grad\n",
        "    \n",
        "    for i, grad in enumerate(grads):\n",
        "      self.grads[i][...] = grad\n",
        "      self.dh = dh\n",
        "      return dxs\n",
        "    \n",
        "  def set_state(self, h, c= None):\n",
        "    self.h, self.c = h,c\n",
        "  \n",
        "  def reset_state(self):\n",
        "    self.h, self.c = None, None"
      ],
      "metadata": {
        "id": "V75Wd4EIMsJY"
      },
      "execution_count": 6,
      "outputs": []
    },
    {
      "cell_type": "markdown",
      "source": [
        "clone repo from github"
      ],
      "metadata": {
        "id": "wbeAX1_IQSvo"
      }
    },
    {
      "cell_type": "code",
      "source": [
        "!git clone https://github.com/WegraLee/deep-learning-from-scratch-2.git original"
      ],
      "metadata": {
        "colab": {
          "base_uri": "https://localhost:8080/"
        },
        "id": "5PY6CiqqQVOZ",
        "outputId": "b87bd8bf-36f6-48d8-fe9e-0ba811cb17ea"
      },
      "execution_count": 2,
      "outputs": [
        {
          "output_type": "stream",
          "name": "stdout",
          "text": [
            "Cloning into 'original'...\n",
            "remote: Enumerating objects: 606, done.\u001b[K\n",
            "remote: Counting objects: 100% (8/8), done.\u001b[K\n",
            "remote: Compressing objects: 100% (8/8), done.\u001b[K\n",
            "remote: Total 606 (delta 1), reused 5 (delta 0), pack-reused 598\u001b[K\n",
            "Receiving objects: 100% (606/606), 29.82 MiB | 37.46 MiB/s, done.\n",
            "Resolving deltas: 100% (361/361), done.\n"
          ]
        }
      ]
    },
    {
      "cell_type": "code",
      "source": [
        "!mkdir workspace"
      ],
      "metadata": {
        "id": "cKFlUEPnQaag"
      },
      "execution_count": 3,
      "outputs": []
    },
    {
      "cell_type": "code",
      "source": [
        "!mv /content/original/common workspace"
      ],
      "metadata": {
        "id": "_HtDjt3BQmDe"
      },
      "execution_count": 4,
      "outputs": []
    },
    {
      "cell_type": "code",
      "source": [
        "!mv /content/original/dataset workspace"
      ],
      "metadata": {
        "id": "wOZHYy99Qq-7"
      },
      "execution_count": 5,
      "outputs": []
    },
    {
      "cell_type": "code",
      "source": [
        "%cd workspace"
      ],
      "metadata": {
        "colab": {
          "base_uri": "https://localhost:8080/"
        },
        "id": "2TqjZ71XQuOG",
        "outputId": "9fbda9b1-f658-44c8-ec9c-aca43e05e9c4"
      },
      "execution_count": 6,
      "outputs": [
        {
          "output_type": "stream",
          "name": "stdout",
          "text": [
            "/content/workspace\n"
          ]
        }
      ]
    },
    {
      "cell_type": "markdown",
      "source": [
        "### LSTM을 사용한 언어 모델"
      ],
      "metadata": {
        "id": "Kzt0sWqYP_qH"
      }
    },
    {
      "cell_type": "code",
      "source": [
        "import sys\n",
        "sys.path.append('..')\n",
        "from common.time_layers import *\n",
        "import pickle"
      ],
      "metadata": {
        "id": "vaq28Zc9P4gk"
      },
      "execution_count": 12,
      "outputs": []
    },
    {
      "cell_type": "code",
      "source": [
        "class Rnnlm:\n",
        "  def __init__(self, vocab_size = 10000, wordvec_size = 100, hidden_size = 100):\n",
        "    V,D,H = vocab_size, wordvec_size, hidden_size\n",
        "    rn = np.random.randn\n",
        "\n",
        "    #가중치 초기화\n",
        "    embed_W = (rn(V,D)/100).astype('f')\n",
        "    lstm_Wx = (rn(D,4*H)/np.sqrt(D)).astype('f')\n",
        "    lstm_Wh = (rn(H,4*H)/np.sqrt(H)).astype('f')\n",
        "    lstm_b = np.zeros(4*H).astype('f')\n",
        "    affine_W  = (rn(H,V)/np.sqrt(H)).astype('f')\n",
        "    affine_b = np.zeros(V).astype('f')\n",
        "\n",
        "    #계층 생성\n",
        "    self.layers = [\n",
        "                   TimeEmbedding(embed_W),\n",
        "                   TimeLSTM(lstm_Wx, lstm_Wh, lstm_b, stateful = True),\n",
        "                   TimeAffine(affine_W, affine_b)\n",
        "    ]\n",
        "    self.loss_layer = TimeSoftmaxWithLoss()\n",
        "    self.lstm_layer = self.layers[1]\n",
        "\n",
        "    #모든 가중치와 기울기를 리스트에 모은다\n",
        "    self.params, self.grads = [],[]\n",
        "    for layer in self.layers:\n",
        "      self.params += layer.params\n",
        "      self.grads += layer.grads\n",
        "  \n",
        "  def predict(self, xs):\n",
        "    for layer in self.layers:\n",
        "      xs = layer.forward(xs)\n",
        "    return xs\n",
        "  \n",
        "  def forward(self, xs, ts):\n",
        "    score = self.predict(xs)\n",
        "    loss = self.loss_layer.forward(score, ts)\n",
        "    return loss\n",
        "  \n",
        "  def backward(self, dout=1):\n",
        "    dout = self.loss_layer.backward(dout)\n",
        "    for layer in reversed(self.layers):\n",
        "      dout = layer.backward(dout)\n",
        "    return dout\n",
        "  \n",
        "  def reset_state(self):\n",
        "    self.lstm_layer.reset_state()\n",
        "\n",
        "  def save_params(self, file_name = 'Rnnlm.pkl'):\n",
        "    with open(file_name, 'wb') as f:\n",
        "      pickle.dump(self.params, f)\n",
        "  \n",
        "  def load_params(self, file_name = 'Rnnlm.pkl'):\n",
        "    with open(file_name, 'rb') as f:\n",
        "      self.params = pickle.load(f)\n",
        "    \n",
        "\n"
      ],
      "metadata": {
        "id": "uVt4-5blRXgU"
      },
      "execution_count": 13,
      "outputs": []
    },
    {
      "cell_type": "markdown",
      "source": [
        "### PTB 데이터셋의 훈련 데이터를 전부 사용하여 학습"
      ],
      "metadata": {
        "id": "rJzN5i-cTgpU"
      }
    },
    {
      "cell_type": "code",
      "source": [
        "import sys\n",
        "sys.path.append('..')\n",
        "from common.optimizer import SGD\n",
        "from common.trainer import RnnlmTrainer\n",
        "from common.util import eval_perplexity\n",
        "from dataset import ptb"
      ],
      "metadata": {
        "id": "VvCJvvD_TNs-"
      },
      "execution_count": 14,
      "outputs": []
    },
    {
      "cell_type": "code",
      "source": [
        "#하이퍼파라미터 설정\n",
        "batch_size = 20\n",
        "wordvec_size = 100\n",
        "hidden_size = 100# RNN 은닉 상태 벡터의 원소 수\n",
        "time_size = 35# RNN을 펼치는 크기\n",
        "lr = 20.0\n",
        "max_epoch = 4\n",
        "max_grad = 0.25"
      ],
      "metadata": {
        "id": "bAP2MpoPTffR"
      },
      "execution_count": 15,
      "outputs": []
    },
    {
      "cell_type": "code",
      "source": [
        "#학습 데이터 읽기\n",
        "corpus, word_to_id, id_to_word = ptb.load_data('train')\n",
        "corpus_test, _, _ = ptb.load_data('test')\n",
        "vocab_size = len(word_to_id)\n",
        "xs = corpus[:-1]\n",
        "ts = corpus[1:]"
      ],
      "metadata": {
        "id": "axxkiFjIT2RK"
      },
      "execution_count": 16,
      "outputs": []
    },
    {
      "cell_type": "code",
      "source": [
        "#모델 생성\n",
        "model = Rnnlm(vocab_size, wordvec_size, hidden_size)\n",
        "optimizer = SGD(lr)\n",
        "trainer = RnnlmTrainer(model, optimizer)"
      ],
      "metadata": {
        "id": "l-rBJY_HUDUs"
      },
      "execution_count": 17,
      "outputs": []
    },
    {
      "cell_type": "code",
      "source": [
        "#기울기 클리핑(기울기 폭발 대책)을 적용하여 학습\n",
        "#eval_interval= 20: 20번째 반복마다 퍼플렉시티를 평가하라\n",
        "trainer.fit(xs, ts, max_epoch, batch_size, time_size, max_grad, eval_interval=20)#max grad을 지정해 기울기 클리핑을 적용"
      ],
      "metadata": {
        "colab": {
          "base_uri": "https://localhost:8080/"
        },
        "id": "-UEM-QSoULeb",
        "outputId": "7c306a56-3c19-40ea-e077-416b040558d4"
      },
      "execution_count": 18,
      "outputs": [
        {
          "output_type": "stream",
          "name": "stdout",
          "text": [
            "| 에폭 1 |  반복 1 / 1327 | 시간 0[s] | 퍼플렉서티 9997.60\n",
            "| 에폭 1 |  반복 21 / 1327 | 시간 7[s] | 퍼플렉서티 2955.75\n",
            "| 에폭 1 |  반복 41 / 1327 | 시간 13[s] | 퍼플렉서티 1221.60\n",
            "| 에폭 1 |  반복 61 / 1327 | 시간 20[s] | 퍼플렉서티 995.22\n",
            "| 에폭 1 |  반복 81 / 1327 | 시간 28[s] | 퍼플렉서티 791.15\n",
            "| 에폭 1 |  반복 101 / 1327 | 시간 34[s] | 퍼플렉서티 634.10\n",
            "| 에폭 1 |  반복 121 / 1327 | 시간 41[s] | 퍼플렉서티 637.23\n",
            "| 에폭 1 |  반복 141 / 1327 | 시간 47[s] | 퍼플렉서티 605.07\n",
            "| 에폭 1 |  반복 161 / 1327 | 시간 54[s] | 퍼플렉서티 576.84\n",
            "| 에폭 1 |  반복 181 / 1327 | 시간 61[s] | 퍼플렉서티 592.67\n",
            "| 에폭 1 |  반복 201 / 1327 | 시간 67[s] | 퍼플렉서티 500.09\n",
            "| 에폭 1 |  반복 221 / 1327 | 시간 74[s] | 퍼플렉서티 476.51\n",
            "| 에폭 1 |  반복 241 / 1327 | 시간 81[s] | 퍼플렉서티 438.53\n",
            "| 에폭 1 |  반복 261 / 1327 | 시간 87[s] | 퍼플렉서티 455.30\n",
            "| 에폭 1 |  반복 281 / 1327 | 시간 94[s] | 퍼플렉서티 450.43\n",
            "| 에폭 1 |  반복 301 / 1327 | 시간 100[s] | 퍼플렉서티 389.29\n",
            "| 에폭 1 |  반복 321 / 1327 | 시간 107[s] | 퍼플렉서티 340.80\n",
            "| 에폭 1 |  반복 341 / 1327 | 시간 115[s] | 퍼플렉서티 399.13\n",
            "| 에폭 1 |  반복 361 / 1327 | 시간 122[s] | 퍼플렉서티 401.19\n",
            "| 에폭 1 |  반복 381 / 1327 | 시간 129[s] | 퍼플렉서티 329.77\n",
            "| 에폭 1 |  반복 401 / 1327 | 시간 135[s] | 퍼플렉서티 351.20\n",
            "| 에폭 1 |  반복 421 / 1327 | 시간 142[s] | 퍼플렉서티 340.83\n",
            "| 에폭 1 |  반복 441 / 1327 | 시간 149[s] | 퍼플렉서티 320.85\n",
            "| 에폭 1 |  반복 461 / 1327 | 시간 155[s] | 퍼플렉서티 327.02\n",
            "| 에폭 1 |  반복 481 / 1327 | 시간 162[s] | 퍼플렉서티 302.14\n",
            "| 에폭 1 |  반복 501 / 1327 | 시간 168[s] | 퍼플렉서티 312.75\n",
            "| 에폭 1 |  반복 521 / 1327 | 시간 175[s] | 퍼플렉서티 303.56\n",
            "| 에폭 1 |  반복 541 / 1327 | 시간 181[s] | 퍼플렉서티 316.12\n",
            "| 에폭 1 |  반복 561 / 1327 | 시간 188[s] | 퍼플렉서티 283.10\n",
            "| 에폭 1 |  반복 581 / 1327 | 시간 195[s] | 퍼플렉서티 256.43\n",
            "| 에폭 1 |  반복 601 / 1327 | 시간 201[s] | 퍼플렉서티 335.02\n",
            "| 에폭 1 |  반복 621 / 1327 | 시간 208[s] | 퍼플렉서티 304.34\n",
            "| 에폭 1 |  반복 641 / 1327 | 시간 214[s] | 퍼플렉서티 282.38\n",
            "| 에폭 1 |  반복 661 / 1327 | 시간 221[s] | 퍼플렉서티 265.81\n",
            "| 에폭 1 |  반복 681 / 1327 | 시간 227[s] | 퍼플렉서티 230.97\n",
            "| 에폭 1 |  반복 701 / 1327 | 시간 234[s] | 퍼플렉서티 249.79\n",
            "| 에폭 1 |  반복 721 / 1327 | 시간 240[s] | 퍼플렉서티 258.01\n",
            "| 에폭 1 |  반복 741 / 1327 | 시간 247[s] | 퍼플렉서티 219.67\n",
            "| 에폭 1 |  반복 761 / 1327 | 시간 253[s] | 퍼플렉서티 231.21\n",
            "| 에폭 1 |  반복 781 / 1327 | 시간 260[s] | 퍼플렉서티 220.17\n",
            "| 에폭 1 |  반복 801 / 1327 | 시간 267[s] | 퍼플렉서티 239.23\n",
            "| 에폭 1 |  반복 821 / 1327 | 시간 273[s] | 퍼플렉서티 223.21\n",
            "| 에폭 1 |  반복 841 / 1327 | 시간 280[s] | 퍼플렉서티 225.20\n",
            "| 에폭 1 |  반복 861 / 1327 | 시간 286[s] | 퍼플렉서티 221.81\n",
            "| 에폭 1 |  반복 881 / 1327 | 시간 293[s] | 퍼플렉서티 205.33\n",
            "| 에폭 1 |  반복 901 / 1327 | 시간 299[s] | 퍼플렉서티 256.28\n",
            "| 에폭 1 |  반복 921 / 1327 | 시간 306[s] | 퍼플렉서티 224.31\n",
            "| 에폭 1 |  반복 941 / 1327 | 시간 312[s] | 퍼플렉서티 231.35\n",
            "| 에폭 1 |  반복 961 / 1327 | 시간 319[s] | 퍼플렉서티 242.17\n",
            "| 에폭 1 |  반복 981 / 1327 | 시간 325[s] | 퍼플렉서티 227.99\n",
            "| 에폭 1 |  반복 1001 / 1327 | 시간 332[s] | 퍼플렉서티 192.14\n",
            "| 에폭 1 |  반복 1021 / 1327 | 시간 339[s] | 퍼플렉서티 226.93\n",
            "| 에폭 1 |  반복 1041 / 1327 | 시간 345[s] | 퍼플렉서티 207.14\n",
            "| 에폭 1 |  반복 1061 / 1327 | 시간 352[s] | 퍼플렉서티 197.75\n",
            "| 에폭 1 |  반복 1081 / 1327 | 시간 358[s] | 퍼플렉서티 168.59\n",
            "| 에폭 1 |  반복 1101 / 1327 | 시간 365[s] | 퍼플렉서티 189.72\n",
            "| 에폭 1 |  반복 1121 / 1327 | 시간 371[s] | 퍼플렉서티 227.28\n",
            "| 에폭 1 |  반복 1141 / 1327 | 시간 378[s] | 퍼플렉서티 207.71\n",
            "| 에폭 1 |  반복 1161 / 1327 | 시간 384[s] | 퍼플렉서티 198.74\n",
            "| 에폭 1 |  반복 1181 / 1327 | 시간 391[s] | 퍼플렉서티 189.32\n",
            "| 에폭 1 |  반복 1201 / 1327 | 시간 397[s] | 퍼플렉서티 161.06\n",
            "| 에폭 1 |  반복 1221 / 1327 | 시간 404[s] | 퍼플렉서티 158.09\n",
            "| 에폭 1 |  반복 1241 / 1327 | 시간 410[s] | 퍼플렉서티 188.02\n",
            "| 에폭 1 |  반복 1261 / 1327 | 시간 417[s] | 퍼플렉서티 172.38\n",
            "| 에폭 1 |  반복 1281 / 1327 | 시간 423[s] | 퍼플렉서티 178.24\n",
            "| 에폭 1 |  반복 1301 / 1327 | 시간 430[s] | 퍼플렉서티 221.48\n",
            "| 에폭 1 |  반복 1321 / 1327 | 시간 436[s] | 퍼플렉서티 210.54\n",
            "| 에폭 2 |  반복 1 / 1327 | 시간 439[s] | 퍼플렉서티 226.52\n",
            "| 에폭 2 |  반복 21 / 1327 | 시간 445[s] | 퍼플렉서티 205.29\n",
            "| 에폭 2 |  반복 41 / 1327 | 시간 452[s] | 퍼플렉서티 189.82\n",
            "| 에폭 2 |  반복 61 / 1327 | 시간 459[s] | 퍼플렉서티 176.29\n",
            "| 에폭 2 |  반복 81 / 1327 | 시간 465[s] | 퍼플렉서티 159.18\n",
            "| 에폭 2 |  반복 101 / 1327 | 시간 472[s] | 퍼플렉서티 151.70\n",
            "| 에폭 2 |  반복 121 / 1327 | 시간 478[s] | 퍼플렉서티 159.21\n",
            "| 에폭 2 |  반복 141 / 1327 | 시간 485[s] | 퍼플렉서티 178.23\n",
            "| 에폭 2 |  반복 161 / 1327 | 시간 491[s] | 퍼플렉서티 191.12\n",
            "| 에폭 2 |  반복 181 / 1327 | 시간 498[s] | 퍼플렉서티 200.42\n",
            "| 에폭 2 |  반복 201 / 1327 | 시간 504[s] | 퍼플렉서티 185.03\n",
            "| 에폭 2 |  반복 221 / 1327 | 시간 511[s] | 퍼플렉서티 181.76\n",
            "| 에폭 2 |  반복 241 / 1327 | 시간 517[s] | 퍼플렉서티 175.94\n",
            "| 에폭 2 |  반복 261 / 1327 | 시간 524[s] | 퍼플렉서티 185.06\n",
            "| 에폭 2 |  반복 281 / 1327 | 시간 530[s] | 퍼플렉서티 183.77\n",
            "| 에폭 2 |  반복 301 / 1327 | 시간 537[s] | 퍼플렉서티 166.35\n",
            "| 에폭 2 |  반복 321 / 1327 | 시간 543[s] | 퍼플렉서티 137.95\n",
            "| 에폭 2 |  반복 341 / 1327 | 시간 550[s] | 퍼플렉서티 170.16\n",
            "| 에폭 2 |  반복 361 / 1327 | 시간 556[s] | 퍼플렉서티 197.18\n",
            "| 에폭 2 |  반복 381 / 1327 | 시간 563[s] | 퍼플렉서티 152.74\n",
            "| 에폭 2 |  반복 401 / 1327 | 시간 571[s] | 퍼플렉서티 167.14\n",
            "| 에폭 2 |  반복 421 / 1327 | 시간 577[s] | 퍼플렉서티 154.16\n",
            "| 에폭 2 |  반복 441 / 1327 | 시간 584[s] | 퍼플렉서티 162.15\n",
            "| 에폭 2 |  반복 461 / 1327 | 시간 590[s] | 퍼플렉서티 154.86\n",
            "| 에폭 2 |  반복 481 / 1327 | 시간 596[s] | 퍼플렉서티 155.20\n",
            "| 에폭 2 |  반복 501 / 1327 | 시간 603[s] | 퍼플렉서티 170.15\n",
            "| 에폭 2 |  반복 521 / 1327 | 시간 609[s] | 퍼플렉서티 172.85\n",
            "| 에폭 2 |  반복 541 / 1327 | 시간 616[s] | 퍼플렉서티 174.52\n",
            "| 에폭 2 |  반복 561 / 1327 | 시간 622[s] | 퍼플렉서티 154.50\n",
            "| 에폭 2 |  반복 581 / 1327 | 시간 629[s] | 퍼플렉서티 137.55\n",
            "| 에폭 2 |  반복 601 / 1327 | 시간 635[s] | 퍼플렉서티 187.36\n",
            "| 에폭 2 |  반복 621 / 1327 | 시간 642[s] | 퍼플렉서티 181.74\n",
            "| 에폭 2 |  반복 641 / 1327 | 시간 648[s] | 퍼플렉서티 163.24\n",
            "| 에폭 2 |  반복 661 / 1327 | 시간 655[s] | 퍼플렉서티 155.85\n",
            "| 에폭 2 |  반복 681 / 1327 | 시간 661[s] | 퍼플렉서티 129.06\n",
            "| 에폭 2 |  반복 701 / 1327 | 시간 668[s] | 퍼플렉서티 149.07\n",
            "| 에폭 2 |  반복 721 / 1327 | 시간 674[s] | 퍼플렉서티 159.52\n",
            "| 에폭 2 |  반복 741 / 1327 | 시간 681[s] | 퍼플렉서티 132.35\n",
            "| 에폭 2 |  반복 761 / 1327 | 시간 687[s] | 퍼플렉서티 132.72\n",
            "| 에폭 2 |  반복 781 / 1327 | 시간 693[s] | 퍼플렉서티 134.51\n",
            "| 에폭 2 |  반복 801 / 1327 | 시간 700[s] | 퍼플렉서티 147.12\n",
            "| 에폭 2 |  반복 821 / 1327 | 시간 706[s] | 퍼플렉서티 143.30\n",
            "| 에폭 2 |  반복 841 / 1327 | 시간 713[s] | 퍼플렉서티 143.22\n",
            "| 에폭 2 |  반복 861 / 1327 | 시간 719[s] | 퍼플렉서티 145.61\n",
            "| 에폭 2 |  반복 881 / 1327 | 시간 726[s] | 퍼플렉서티 129.51\n",
            "| 에폭 2 |  반복 901 / 1327 | 시간 732[s] | 퍼플렉서티 166.64\n",
            "| 에폭 2 |  반복 921 / 1327 | 시간 738[s] | 퍼플렉서티 146.11\n",
            "| 에폭 2 |  반복 941 / 1327 | 시간 745[s] | 퍼플렉서티 153.42\n",
            "| 에폭 2 |  반복 961 / 1327 | 시간 751[s] | 퍼플렉서티 163.33\n",
            "| 에폭 2 |  반복 981 / 1327 | 시간 758[s] | 퍼플렉서티 154.39\n",
            "| 에폭 2 |  반복 1001 / 1327 | 시간 764[s] | 퍼플렉서티 133.04\n",
            "| 에폭 2 |  반복 1021 / 1327 | 시간 770[s] | 퍼플렉서티 156.98\n",
            "| 에폭 2 |  반복 1041 / 1327 | 시간 777[s] | 퍼플렉서티 141.96\n",
            "| 에폭 2 |  반복 1061 / 1327 | 시간 783[s] | 퍼플렉서티 128.45\n",
            "| 에폭 2 |  반복 1081 / 1327 | 시간 790[s] | 퍼플렉서티 110.93\n",
            "| 에폭 2 |  반복 1101 / 1327 | 시간 796[s] | 퍼플렉서티 120.57\n",
            "| 에폭 2 |  반복 1121 / 1327 | 시간 803[s] | 퍼플렉서티 153.04\n",
            "| 에폭 2 |  반복 1141 / 1327 | 시간 809[s] | 퍼플렉서티 142.26\n",
            "| 에폭 2 |  반복 1161 / 1327 | 시간 815[s] | 퍼플렉서티 132.52\n",
            "| 에폭 2 |  반복 1181 / 1327 | 시간 822[s] | 퍼플렉서티 134.29\n",
            "| 에폭 2 |  반복 1201 / 1327 | 시간 828[s] | 퍼플렉서티 110.41\n",
            "| 에폭 2 |  반복 1221 / 1327 | 시간 835[s] | 퍼플렉서티 107.78\n",
            "| 에폭 2 |  반복 1241 / 1327 | 시간 841[s] | 퍼플렉서티 129.01\n",
            "| 에폭 2 |  반복 1261 / 1327 | 시간 847[s] | 퍼플렉서티 122.88\n",
            "| 에폭 2 |  반복 1281 / 1327 | 시간 854[s] | 퍼플렉서티 121.96\n",
            "| 에폭 2 |  반복 1301 / 1327 | 시간 860[s] | 퍼플렉서티 156.00\n",
            "| 에폭 2 |  반복 1321 / 1327 | 시간 867[s] | 퍼플렉서티 151.38\n",
            "| 에폭 3 |  반복 1 / 1327 | 시간 869[s] | 퍼플렉서티 159.59\n",
            "| 에폭 3 |  반복 21 / 1327 | 시간 875[s] | 퍼플렉서티 144.19\n",
            "| 에폭 3 |  반복 41 / 1327 | 시간 882[s] | 퍼플렉서티 134.98\n",
            "| 에폭 3 |  반복 61 / 1327 | 시간 888[s] | 퍼플렉서티 127.87\n",
            "| 에폭 3 |  반복 81 / 1327 | 시간 895[s] | 퍼플렉서티 116.54\n",
            "| 에폭 3 |  반복 101 / 1327 | 시간 901[s] | 퍼플렉서티 105.13\n",
            "| 에폭 3 |  반복 121 / 1327 | 시간 908[s] | 퍼플렉서티 115.15\n",
            "| 에폭 3 |  반복 141 / 1327 | 시간 914[s] | 퍼플렉서티 125.97\n",
            "| 에폭 3 |  반복 161 / 1327 | 시간 921[s] | 퍼플렉서티 141.00\n",
            "| 에폭 3 |  반복 181 / 1327 | 시간 927[s] | 퍼플렉서티 150.33\n",
            "| 에폭 3 |  반복 201 / 1327 | 시간 934[s] | 퍼플렉서티 141.18\n",
            "| 에폭 3 |  반복 221 / 1327 | 시간 940[s] | 퍼플렉서티 139.54\n",
            "| 에폭 3 |  반복 241 / 1327 | 시간 946[s] | 퍼플렉서티 133.24\n",
            "| 에폭 3 |  반복 261 / 1327 | 시간 953[s] | 퍼플렉서티 139.72\n",
            "| 에폭 3 |  반복 281 / 1327 | 시간 959[s] | 퍼플렉서티 140.67\n",
            "| 에폭 3 |  반복 301 / 1327 | 시간 966[s] | 퍼플렉서티 123.30\n",
            "| 에폭 3 |  반복 321 / 1327 | 시간 972[s] | 퍼플렉서티 100.68\n",
            "| 에폭 3 |  반복 341 / 1327 | 시간 978[s] | 퍼플렉서티 124.05\n",
            "| 에폭 3 |  반복 361 / 1327 | 시간 985[s] | 퍼플렉서티 151.29\n",
            "| 에폭 3 |  반복 381 / 1327 | 시간 991[s] | 퍼플렉서티 114.03\n",
            "| 에폭 3 |  반복 401 / 1327 | 시간 998[s] | 퍼플렉서티 129.65\n",
            "| 에폭 3 |  반복 421 / 1327 | 시간 1004[s] | 퍼플렉서티 111.15\n",
            "| 에폭 3 |  반복 441 / 1327 | 시간 1011[s] | 퍼플렉서티 123.40\n",
            "| 에폭 3 |  반복 461 / 1327 | 시간 1017[s] | 퍼플렉서티 116.91\n",
            "| 에폭 3 |  반복 481 / 1327 | 시간 1023[s] | 퍼플렉서티 118.37\n",
            "| 에폭 3 |  반복 501 / 1327 | 시간 1030[s] | 퍼플렉서티 129.88\n",
            "| 에폭 3 |  반복 521 / 1327 | 시간 1036[s] | 퍼플렉서티 138.22\n",
            "| 에폭 3 |  반복 541 / 1327 | 시간 1043[s] | 퍼플렉서티 135.54\n",
            "| 에폭 3 |  반복 561 / 1327 | 시간 1049[s] | 퍼플렉서티 118.25\n",
            "| 에폭 3 |  반복 581 / 1327 | 시간 1055[s] | 퍼플렉서티 104.74\n",
            "| 에폭 3 |  반복 601 / 1327 | 시간 1062[s] | 퍼플렉서티 146.28\n",
            "| 에폭 3 |  반복 621 / 1327 | 시간 1068[s] | 퍼플렉서티 143.01\n",
            "| 에폭 3 |  반복 641 / 1327 | 시간 1075[s] | 퍼플렉서티 129.06\n",
            "| 에폭 3 |  반복 661 / 1327 | 시간 1081[s] | 퍼플렉서티 119.77\n",
            "| 에폭 3 |  반복 681 / 1327 | 시간 1087[s] | 퍼플렉서티 100.44\n",
            "| 에폭 3 |  반복 701 / 1327 | 시간 1094[s] | 퍼플렉서티 117.10\n",
            "| 에폭 3 |  반복 721 / 1327 | 시간 1100[s] | 퍼플렉서티 126.79\n",
            "| 에폭 3 |  반복 741 / 1327 | 시간 1107[s] | 퍼플렉서티 106.53\n",
            "| 에폭 3 |  반복 761 / 1327 | 시간 1113[s] | 퍼플렉서티 102.36\n",
            "| 에폭 3 |  반복 781 / 1327 | 시간 1120[s] | 퍼플렉서티 103.62\n",
            "| 에폭 3 |  반복 801 / 1327 | 시간 1126[s] | 퍼플렉서티 115.21\n",
            "| 에폭 3 |  반복 821 / 1327 | 시간 1132[s] | 퍼플렉서티 115.79\n",
            "| 에폭 3 |  반복 841 / 1327 | 시간 1139[s] | 퍼플렉서티 113.84\n",
            "| 에폭 3 |  반복 861 / 1327 | 시간 1145[s] | 퍼플렉서티 120.29\n",
            "| 에폭 3 |  반복 881 / 1327 | 시간 1152[s] | 퍼플렉서티 105.74\n",
            "| 에폭 3 |  반복 901 / 1327 | 시간 1158[s] | 퍼플렉서티 131.33\n",
            "| 에폭 3 |  반복 921 / 1327 | 시간 1164[s] | 퍼플렉서티 118.24\n",
            "| 에폭 3 |  반복 941 / 1327 | 시간 1171[s] | 퍼플렉서티 127.27\n",
            "| 에폭 3 |  반복 961 / 1327 | 시간 1177[s] | 퍼플렉서티 131.01\n",
            "| 에폭 3 |  반복 981 / 1327 | 시간 1183[s] | 퍼플렉서티 123.11\n",
            "| 에폭 3 |  반복 1001 / 1327 | 시간 1190[s] | 퍼플렉서티 109.94\n",
            "| 에폭 3 |  반복 1021 / 1327 | 시간 1196[s] | 퍼플렉서티 128.31\n",
            "| 에폭 3 |  반복 1041 / 1327 | 시간 1203[s] | 퍼플렉서티 117.57\n",
            "| 에폭 3 |  반복 1061 / 1327 | 시간 1209[s] | 퍼플렉서티 102.61\n",
            "| 에폭 3 |  반복 1081 / 1327 | 시간 1215[s] | 퍼플렉서티 88.27\n",
            "| 에폭 3 |  반복 1101 / 1327 | 시간 1222[s] | 퍼플렉서티 94.44\n",
            "| 에폭 3 |  반복 1121 / 1327 | 시간 1228[s] | 퍼플렉서티 120.44\n",
            "| 에폭 3 |  반복 1141 / 1327 | 시간 1235[s] | 퍼플렉서티 113.48\n",
            "| 에폭 3 |  반복 1161 / 1327 | 시간 1241[s] | 퍼플렉서티 105.30\n",
            "| 에폭 3 |  반복 1181 / 1327 | 시간 1247[s] | 퍼플렉서티 110.64\n",
            "| 에폭 3 |  반복 1201 / 1327 | 시간 1254[s] | 퍼플렉서티 92.74\n",
            "| 에폭 3 |  반복 1221 / 1327 | 시간 1260[s] | 퍼플렉서티 87.32\n",
            "| 에폭 3 |  반복 1241 / 1327 | 시간 1266[s] | 퍼플렉서티 104.61\n",
            "| 에폭 3 |  반복 1261 / 1327 | 시간 1273[s] | 퍼플렉서티 104.04\n",
            "| 에폭 3 |  반복 1281 / 1327 | 시간 1279[s] | 퍼플렉서티 100.66\n",
            "| 에폭 3 |  반복 1301 / 1327 | 시간 1285[s] | 퍼플렉서티 128.00\n",
            "| 에폭 3 |  반복 1321 / 1327 | 시간 1292[s] | 퍼플렉서티 125.26\n",
            "| 에폭 4 |  반복 1 / 1327 | 시간 1294[s] | 퍼플렉서티 132.18\n",
            "| 에폭 4 |  반복 21 / 1327 | 시간 1300[s] | 퍼플렉서티 120.47\n",
            "| 에폭 4 |  반복 41 / 1327 | 시간 1307[s] | 퍼플렉서티 106.17\n",
            "| 에폭 4 |  반복 61 / 1327 | 시간 1313[s] | 퍼플렉서티 106.62\n",
            "| 에폭 4 |  반복 81 / 1327 | 시간 1319[s] | 퍼플렉서티 94.98\n",
            "| 에폭 4 |  반복 101 / 1327 | 시간 1326[s] | 퍼플렉서티 85.59\n",
            "| 에폭 4 |  반복 121 / 1327 | 시간 1332[s] | 퍼플렉서티 94.34\n",
            "| 에폭 4 |  반복 141 / 1327 | 시간 1339[s] | 퍼플렉서티 103.37\n",
            "| 에폭 4 |  반복 161 / 1327 | 시간 1345[s] | 퍼플렉서티 116.76\n",
            "| 에폭 4 |  반복 181 / 1327 | 시간 1351[s] | 퍼플렉서티 128.14\n",
            "| 에폭 4 |  반복 201 / 1327 | 시간 1358[s] | 퍼플렉서티 119.64\n",
            "| 에폭 4 |  반복 221 / 1327 | 시간 1364[s] | 퍼플렉서티 120.90\n",
            "| 에폭 4 |  반복 241 / 1327 | 시간 1371[s] | 퍼플렉서티 113.08\n",
            "| 에폭 4 |  반복 261 / 1327 | 시간 1377[s] | 퍼플렉서티 114.30\n",
            "| 에폭 4 |  반복 281 / 1327 | 시간 1384[s] | 퍼플렉서티 119.40\n",
            "| 에폭 4 |  반복 301 / 1327 | 시간 1390[s] | 퍼플렉서티 103.74\n",
            "| 에폭 4 |  반복 321 / 1327 | 시간 1397[s] | 퍼플렉서티 83.64\n",
            "| 에폭 4 |  반복 341 / 1327 | 시간 1403[s] | 퍼플렉서티 100.70\n",
            "| 에폭 4 |  반복 361 / 1327 | 시간 1409[s] | 퍼플렉서티 127.64\n",
            "| 에폭 4 |  반복 381 / 1327 | 시간 1416[s] | 퍼플렉서티 97.32\n",
            "| 에폭 4 |  반복 401 / 1327 | 시간 1422[s] | 퍼플렉서티 110.24\n",
            "| 에폭 4 |  반복 421 / 1327 | 시간 1428[s] | 퍼플렉서티 92.05\n",
            "| 에폭 4 |  반복 441 / 1327 | 시간 1435[s] | 퍼플렉서티 101.86\n",
            "| 에폭 4 |  반복 461 / 1327 | 시간 1441[s] | 퍼플렉서티 99.40\n",
            "| 에폭 4 |  반복 481 / 1327 | 시간 1448[s] | 퍼플렉서티 101.84\n",
            "| 에폭 4 |  반복 501 / 1327 | 시간 1454[s] | 퍼플렉서티 107.86\n",
            "| 에폭 4 |  반복 521 / 1327 | 시간 1461[s] | 퍼플렉서티 116.96\n",
            "| 에폭 4 |  반복 541 / 1327 | 시간 1467[s] | 퍼플렉서티 111.72\n",
            "| 에폭 4 |  반복 561 / 1327 | 시간 1473[s] | 퍼플렉서티 102.71\n",
            "| 에폭 4 |  반복 581 / 1327 | 시간 1480[s] | 퍼플렉서티 88.19\n",
            "| 에폭 4 |  반복 601 / 1327 | 시간 1486[s] | 퍼플렉서티 125.13\n",
            "| 에폭 4 |  반복 621 / 1327 | 시간 1493[s] | 퍼플렉서티 120.50\n",
            "| 에폭 4 |  반복 641 / 1327 | 시간 1499[s] | 퍼플렉서티 110.16\n",
            "| 에폭 4 |  반복 661 / 1327 | 시간 1505[s] | 퍼플렉서티 103.05\n",
            "| 에폭 4 |  반복 681 / 1327 | 시간 1512[s] | 퍼플렉서티 84.82\n",
            "| 에폭 4 |  반복 701 / 1327 | 시간 1518[s] | 퍼플렉서티 101.75\n",
            "| 에폭 4 |  반복 721 / 1327 | 시간 1524[s] | 퍼플렉서티 107.80\n",
            "| 에폭 4 |  반복 741 / 1327 | 시간 1531[s] | 퍼플렉서티 93.94\n",
            "| 에폭 4 |  반복 761 / 1327 | 시간 1537[s] | 퍼플렉서티 87.42\n",
            "| 에폭 4 |  반복 781 / 1327 | 시간 1543[s] | 퍼플렉서티 87.19\n",
            "| 에폭 4 |  반복 801 / 1327 | 시간 1550[s] | 퍼플렉서티 97.92\n",
            "| 에폭 4 |  반복 821 / 1327 | 시간 1556[s] | 퍼플렉서티 101.15\n",
            "| 에폭 4 |  반복 841 / 1327 | 시간 1563[s] | 퍼플렉서티 98.30\n",
            "| 에폭 4 |  반복 861 / 1327 | 시간 1569[s] | 퍼플렉서티 104.18\n",
            "| 에폭 4 |  반복 881 / 1327 | 시간 1575[s] | 퍼플렉서티 91.38\n",
            "| 에폭 4 |  반복 901 / 1327 | 시간 1582[s] | 퍼플렉서티 114.10\n",
            "| 에폭 4 |  반복 921 / 1327 | 시간 1588[s] | 퍼플렉서티 103.40\n",
            "| 에폭 4 |  반복 941 / 1327 | 시간 1595[s] | 퍼플렉서티 111.95\n",
            "| 에폭 4 |  반복 961 / 1327 | 시간 1601[s] | 퍼플렉서티 112.06\n",
            "| 에폭 4 |  반복 981 / 1327 | 시간 1607[s] | 퍼플렉서티 106.19\n",
            "| 에폭 4 |  반복 1001 / 1327 | 시간 1614[s] | 퍼플렉서티 97.85\n",
            "| 에폭 4 |  반복 1021 / 1327 | 시간 1620[s] | 퍼플렉서티 112.70\n",
            "| 에폭 4 |  반복 1041 / 1327 | 시간 1627[s] | 퍼플렉서티 102.10\n",
            "| 에폭 4 |  반복 1061 / 1327 | 시간 1633[s] | 퍼플렉서티 88.55\n",
            "| 에폭 4 |  반복 1081 / 1327 | 시간 1640[s] | 퍼플렉서티 78.12\n",
            "| 에폭 4 |  반복 1101 / 1327 | 시간 1646[s] | 퍼플렉서티 78.40\n",
            "| 에폭 4 |  반복 1121 / 1327 | 시간 1655[s] | 퍼플렉서티 102.00\n",
            "| 에폭 4 |  반복 1141 / 1327 | 시간 1661[s] | 퍼플렉서티 98.01\n",
            "| 에폭 4 |  반복 1161 / 1327 | 시간 1670[s] | 퍼플렉서티 91.21\n",
            "| 에폭 4 |  반복 1181 / 1327 | 시간 1679[s] | 퍼플렉서티 95.54\n",
            "| 에폭 4 |  반복 1201 / 1327 | 시간 1687[s] | 퍼플렉서티 82.29\n",
            "| 에폭 4 |  반복 1221 / 1327 | 시간 1695[s] | 퍼플렉서티 73.66\n",
            "| 에폭 4 |  반복 1241 / 1327 | 시간 1704[s] | 퍼플렉서티 90.83\n",
            "| 에폭 4 |  반복 1261 / 1327 | 시간 1713[s] | 퍼플렉서티 93.41\n",
            "| 에폭 4 |  반복 1281 / 1327 | 시간 1722[s] | 퍼플렉서티 89.20\n",
            "| 에폭 4 |  반복 1301 / 1327 | 시간 1730[s] | 퍼플렉서티 110.42\n",
            "| 에폭 4 |  반복 1321 / 1327 | 시간 1738[s] | 퍼플렉서티 109.35\n"
          ]
        }
      ]
    },
    {
      "cell_type": "code",
      "source": [
        "#한글 깨짐 방지\n",
        "!sudo apt-get install -y fonts-nanum\n",
        "!sudo fc-cache -fv\n",
        "!rm ~/.cache/matplotlib -rf"
      ],
      "metadata": {
        "colab": {
          "base_uri": "https://localhost:8080/"
        },
        "id": "o_zo9E9LbKvZ",
        "outputId": "1882c8d5-2a1b-47dc-a68c-d98211228322"
      },
      "execution_count": 1,
      "outputs": [
        {
          "output_type": "stream",
          "name": "stdout",
          "text": [
            "Reading package lists... Done\n",
            "Building dependency tree       \n",
            "Reading state information... Done\n",
            "The following NEW packages will be installed:\n",
            "  fonts-nanum\n",
            "0 upgraded, 1 newly installed, 0 to remove and 37 not upgraded.\n",
            "Need to get 9,604 kB of archives.\n",
            "After this operation, 29.5 MB of additional disk space will be used.\n",
            "Get:1 http://archive.ubuntu.com/ubuntu bionic/universe amd64 fonts-nanum all 20170925-1 [9,604 kB]\n",
            "Fetched 9,604 kB in 1s (6,641 kB/s)\n",
            "debconf: unable to initialize frontend: Dialog\n",
            "debconf: (No usable dialog-like program is installed, so the dialog based frontend cannot be used. at /usr/share/perl5/Debconf/FrontEnd/Dialog.pm line 76, <> line 1.)\n",
            "debconf: falling back to frontend: Readline\n",
            "debconf: unable to initialize frontend: Readline\n",
            "debconf: (This frontend requires a controlling tty.)\n",
            "debconf: falling back to frontend: Teletype\n",
            "dpkg-preconfigure: unable to re-open stdin: \n",
            "Selecting previously unselected package fonts-nanum.\n",
            "(Reading database ... 155222 files and directories currently installed.)\n",
            "Preparing to unpack .../fonts-nanum_20170925-1_all.deb ...\n",
            "Unpacking fonts-nanum (20170925-1) ...\n",
            "Setting up fonts-nanum (20170925-1) ...\n",
            "Processing triggers for fontconfig (2.12.6-0ubuntu2) ...\n",
            "/usr/share/fonts: caching, new cache contents: 0 fonts, 1 dirs\n",
            "/usr/share/fonts/truetype: caching, new cache contents: 0 fonts, 3 dirs\n",
            "/usr/share/fonts/truetype/humor-sans: caching, new cache contents: 1 fonts, 0 dirs\n",
            "/usr/share/fonts/truetype/liberation: caching, new cache contents: 16 fonts, 0 dirs\n",
            "/usr/share/fonts/truetype/nanum: caching, new cache contents: 10 fonts, 0 dirs\n",
            "/usr/local/share/fonts: caching, new cache contents: 0 fonts, 0 dirs\n",
            "/root/.local/share/fonts: skipping, no such directory\n",
            "/root/.fonts: skipping, no such directory\n",
            "/var/cache/fontconfig: cleaning cache directory\n",
            "/root/.cache/fontconfig: not cleaning non-existent cache directory\n",
            "/root/.fontconfig: not cleaning non-existent cache directory\n",
            "fc-cache: succeeded\n"
          ]
        }
      ]
    },
    {
      "cell_type": "code",
      "source": [
        "plt.rc('font', family='NanumBarunGothic')#한글 깨짐 방지\n",
        "trainer.plot(ylim = (0,500))"
      ],
      "metadata": {
        "colab": {
          "base_uri": "https://localhost:8080/",
          "height": 283
        },
        "id": "kMKbgAnGa2jJ",
        "outputId": "bf99563d-f9d1-4f84-f91a-7635335313f8"
      },
      "execution_count": 22,
      "outputs": [
        {
          "output_type": "display_data",
          "data": {
            "image/png": "[encoded data removed]",
            "text/plain": [
              "<Figure size 432x288 with 1 Axes>"
            ]
          },
          "metadata": {
            "needs_background": "light"
          }
        }
      ]
    },
    {
      "cell_type": "markdown",
      "source": [
        "(훈련 의사코드)\n",
        "\n",
        "\n",
        "```\n",
        "#기울기 구하기\n",
        "model.forward()\n",
        "model.backward()\n",
        "params,grads = model.params, model.grads\n",
        "\n",
        "#기울기 클리핑\n",
        "if max_grad is not None:\n",
        "  clip_grads(grads, max_grad)\n",
        "\n",
        "#매개변수 갱신\n",
        "optimizer.update(params, grads)\n",
        "\n",
        "```\n",
        "\n"
      ],
      "metadata": {
        "id": "I5pne7WEU5DV"
      }
    },
    {
      "cell_type": "code",
      "source": [
        "#테스트 데이터로 평가\n",
        "model.reset_state()#모델 상태(LSTM의 은닉 사태와 기억셀)를 재설정하여 평가를 수행 (왜?)\n",
        "ppl_test = eval_perplexity(model, corpus_test)\n",
        "print(\"테스트 퍼플렉서티: \", ppl_test)"
      ],
      "metadata": {
        "colab": {
          "base_uri": "https://localhost:8080/"
        },
        "id": "zXiLvwWNUVS4",
        "outputId": "f5a4fb91-63f6-4f19-8df2-eed2f4d8b146"
      },
      "execution_count": 21,
      "outputs": [
        {
          "output_type": "stream",
          "name": "stdout",
          "text": [
            "퍼플렉서티 평가 중 ...\n",
            "234 / 235\n",
            "테스트 퍼플렉서티:  134.14396302995672\n"
          ]
        }
      ]
    },
    {
      "cell_type": "code",
      "source": [
        "#매개변수 파일로 저장\n",
        "model.save_params()"
      ],
      "metadata": {
        "id": "CHdQEzobUsrS"
      },
      "execution_count": 23,
      "outputs": []
    },
    {
      "cell_type": "markdown",
      "source": [
        "## RNNLM 추가 개선\n",
        "- LSTM 계층 다층화 (PTB: LSTM 2층~4층)\n",
        "- 드롭아웃 (과대적합 방지)\n",
        "  - 변형 드롭아웃(Variational Dropout)\n",
        "- 가중치 공유(Weight tying)"
      ],
      "metadata": {
        "id": "RZ8C2-4zWtKh"
      }
    },
    {
      "cell_type": "markdown",
      "source": [
        "# Better Rnnlm\n",
        "\n",
        ": Time Affine 계층과 Time Embedding 계층의 가중치 공유\n",
        "\n",
        "\n",
        "<center>\n",
        "\n",
        "$Loss$\n",
        "\n",
        "$\\uparrow$\n",
        "\n",
        "$Time \\quad Softmax\\quad with\\quad Loss$\n",
        "\n",
        "$\\qquad$$\\qquad$$\\uparrow$$\\qquad$$\\qquad$ $\\uparrow$\n",
        "\n",
        "$\\qquad$$Time Affine$ $\\quad ts$\n",
        "\n",
        "$\\uparrow$\n",
        "\n",
        "$Time Dropout$\n",
        "\n",
        "$\\uparrow$\n",
        "\n",
        "$Time LSTM$\n",
        "\n",
        "$\\uparrow$\n",
        "\n",
        "$Time Dropout$\n",
        "\n",
        "$\\uparrow$\n",
        "\n",
        "$Time LSTM$\n",
        "\n",
        "$\\uparrow$\n",
        "\n",
        "$Time Dropout$\n",
        "\n",
        "$\\uparrow$\n",
        "\n",
        "$Time Embedding$\n",
        "\n",
        "$\\uparrow$\n",
        "\n",
        "$WS$ \n",
        "</center>\n",
        "\n",
        "개선점:\n",
        "1. LSTM계층의 다양화 (2층)\n",
        "2. 드롭아웃 사용 (깊이 방향으로만 적용)\n",
        "3. 가중치 공유 (Embedding 계층과 Affine 계층에서 가중치 공유)"
      ],
      "metadata": {
        "id": "MGhl8XCuePts"
      }
    },
    {
      "cell_type": "code",
      "source": [
        "import sys\n",
        "sys.path.append('..')\n",
        "from common.time_layers import *\n",
        "from common.np import *\n",
        "from common.base_model import BaseModel"
      ],
      "metadata": {
        "id": "B_KTwNwUWv-Y"
      },
      "execution_count": 7,
      "outputs": []
    },
    {
      "cell_type": "code",
      "source": [
        "class BetterRnnlm(BaseModel):\n",
        "  def __init__(self, vocab_size = 10000, wordvec_size = 650, hidden_size = 650, dropout_ratio = 0.5):\n",
        "    V,D,H = vocab_size, wordvec_size, hidden_size\n",
        "    rn = np.random.randn\n",
        "    #embedding 초기화\n",
        "    embed_W = (rn(V,D)/100).astype('f')\n",
        "\n",
        "    #lstm 계층 초기화\n",
        "    lstm_Wx1 = (rn(D,4*H)/np.sqrt(D)).astype('f')\n",
        "    lstm_Wh1 = (rn(H,4*H)/np.sqrt(H)).astype('f')\n",
        "    lstm_b1 = np.zeros(4*H).astype('f')\n",
        "    lstm_Wx2 = (rn(D,4*H)/np.sqrt(H)).astype('f')\n",
        "    lstm_Wh2 = (rn(H,4*H)/np.sqrt(H)).astype('f')\n",
        "    lstm_b2 = np.zeros(4*H).astype('f')\n",
        "    affine_b = np.zeros(V).astype('f')\n",
        "\n",
        "    #세가지 개선\n",
        "    self.layers = [\n",
        "                   TimeEmbedding(embed_W),\n",
        "                   TimeDropout(dropout_ratio),\n",
        "                   TimeLSTM(lstm_Wx1, lstm_Wh1, lstm_b1, stateful = True),\n",
        "                   TimeDropout(dropout_ratio),\n",
        "                   TimeLSTM(lstm_Wx2, lstm_Wh2, lstm_b2, stateful=True),\n",
        "                   TimeDropout(dropout_ratio),\n",
        "                   TimeAffine(embed_W.T, affine_b)#가중치 공유(Time Embedding과)\n",
        "    ]\n",
        "    self.loss_layer = TimeSoftmaxWithLoss()\n",
        "    self.lstm_layers = [self.layers[2],self.layers[4]]\n",
        "    self.drop_layers = [self.layers[1], self.layers[3], self.layers[5]]\n",
        "    self.params, self.grads = [],[]\n",
        "    for layer in self.layers:\n",
        "      self.params += layer.params\n",
        "      self.grads += layer.grads\n",
        "  \n",
        "  def predict(self, xs, train_flg = False):\n",
        "    for layer in self.drop_layers:\n",
        "      layer.train_flg = train_flg\n",
        "    for layer in self.layers:\n",
        "      xs = layer.forward(xs)\n",
        "    return xs\n",
        "  \n",
        "  def forward(self, xs, ts, train_flg = True):\n",
        "    score = self.predict(xs, train_flg)\n",
        "    loss = self.loss_layer.forward(score, ts)\n",
        "    return loss\n",
        "  \n",
        "  def backward(self, dout = 1):\n",
        "    dout = self.loss_layer.backward(dout)\n",
        "    for layer in reversed(self.layers):\n",
        "      dout = layer.backward(dout)\n",
        "    return dout\n",
        "  \n",
        "  def reset_state(self):\n",
        "    for layer in self.lstm_layers:\n",
        "      layer.reset_state()"
      ],
      "metadata": {
        "id": "yJWRGKmail_W"
      },
      "execution_count": 8,
      "outputs": []
    },
    {
      "cell_type": "markdown",
      "source": [
        "학습 개선: 메 에폭에서 검증 데이터로 퍼플렉서티를 평가하고, 그 값이 나빠졌을 경우에만 학습률을 낮춤"
      ],
      "metadata": {
        "id": "Al-LVZ-DlWvK"
      }
    },
    {
      "cell_type": "code",
      "source": [
        "#학습용 코드\n",
        "\n",
        "#import necessity\n",
        "import sys\n",
        "sys.path.append('..')\n",
        "\n",
        "from common.optimizer import SGD\n",
        "from common.trainer import RnnlmTrainer\n",
        "from common.util import eval_perplexity\n",
        "from dataset import ptb"
      ],
      "metadata": {
        "id": "betJ5u9flRHn"
      },
      "execution_count": 9,
      "outputs": []
    },
    {
      "cell_type": "code",
      "source": [
        "#하이퍼파라미터 설정\n",
        "batch_size = 20\n",
        "wordvec_size = 650\n",
        "hidden_size = 650\n",
        "time_size = 35\n",
        "lr = 20.0\n",
        "max_epoch = 40\n",
        "max_grad = 0.25\n",
        "dropout=0.5"
      ],
      "metadata": {
        "id": "6xTV6KZal36n"
      },
      "execution_count": 10,
      "outputs": []
    },
    {
      "cell_type": "code",
      "source": [
        "#학습 데이터 읽기\n",
        "corpus, word_to_id, id_to_word = ptb.load_data('train')\n",
        "corpus_val, _, _ = ptb.load_data('val')\n",
        "corpus_tet, _, _ = ptb.load_data('test')"
      ],
      "metadata": {
        "colab": {
          "base_uri": "https://localhost:8080/"
        },
        "id": "8RiszPK9mBp7",
        "outputId": "2477722c-483b-4760-d34f-0e94de7d250b"
      },
      "execution_count": 11,
      "outputs": [
        {
          "output_type": "stream",
          "name": "stdout",
          "text": [
            "Downloading ptb.train.txt ... \n",
            "Done\n",
            "Downloading ptb.valid.txt ... \n",
            "Done\n",
            "Downloading ptb.test.txt ... \n",
            "Done\n"
          ]
        }
      ]
    },
    {
      "cell_type": "code",
      "source": [
        "corpus_val"
      ],
      "metadata": {
        "colab": {
          "base_uri": "https://localhost:8080/"
        },
        "id": "_7wx26LNoCQ3",
        "outputId": "b7f98088-38c1-4974-87e2-3d7168a4d82a"
      },
      "execution_count": 12,
      "outputs": [
        {
          "output_type": "execute_result",
          "data": {
            "text/plain": [
              "array([2211,  396, 1129, ...,  108,   27,   24])"
            ]
          },
          "metadata": {},
          "execution_count": 12
        }
      ]
    },
    {
      "cell_type": "code",
      "source": [
        "vocab_size = len(word_to_id)\n",
        "vocab_size"
      ],
      "metadata": {
        "colab": {
          "base_uri": "https://localhost:8080/"
        },
        "id": "jmvm8W3imLIl",
        "outputId": "16d58676-ad08-4b81-ca99-0a3372ac409f"
      },
      "execution_count": 13,
      "outputs": [
        {
          "output_type": "execute_result",
          "data": {
            "text/plain": [
              "10000"
            ]
          },
          "metadata": {},
          "execution_count": 13
        }
      ]
    },
    {
      "cell_type": "code",
      "source": [
        "id_to_word.items()"
      ],
      "metadata": {
        "colab": {
          "base_uri": "https://localhost:8080/"
        },
        "id": "iLMSMNe4mYIf",
        "outputId": "106168ac-9361-4576-8cc6-f198afbce16a"
      },
      "execution_count": 14,
      "outputs": [
        {
          "output_type": "execute_result",
          "data": {
            "text/plain": [
              "dict_items([(0, 'aer'), (1, 'banknote'), (2, 'berlitz'), (3, 'calloway'), (4, 'centrust'), (5, 'cluett'), (6, 'fromstein'), (7, 'gitano'), (8, 'guterman'), (9, 'hydro-quebec'), (10, 'ipo'), (11, 'kia'), (12, 'memotec'), (13, 'mlx'), (14, 'nahb'), (15, 'punts'), (16, 'rake'), (17, 'regatta'), (18, 'rubens'), (19, 'sim'), (20, 'snack-food'), (21, 'ssangyong'), (22, 'swapo'), (23, 'wachter'), (24, '<eos>'), (25, 'pierre'), (26, '<unk>'), (27, 'N'), (28, 'years'), (29, 'old'), (30, 'will'), (31, 'join'), (32, 'the'), (33, 'board'), (34, 'as'), (35, 'a'), (36, 'nonexecutive'), (37, 'director'), (38, 'nov.'), (39, 'mr.'), (40, 'is'), (41, 'chairman'), (42, 'of'), (43, 'n.v.'), (44, 'dutch'), (45, 'publishing'), (46, 'group'), (47, 'rudolph'), (48, 'and'), (49, 'former'), (50, 'consolidated'), (51, 'gold'), (52, 'fields'), (53, 'plc'), (54, 'was'), (55, 'named'), (56, 'this'), (57, 'british'), (58, 'industrial'), (59, 'conglomerate'), (60, 'form'), (61, 'asbestos'), (62, 'once'), (63, 'used'), (64, 'to'), (65, 'make'), (66, 'kent'), (67, 'cigarette'), (68, 'filters'), (69, 'has'), (70, 'caused'), (71, 'high'), (72, 'percentage'), (73, 'cancer'), (74, 'deaths'), (75, 'among'), (76, 'workers'), (77, 'exposed'), (78, 'it'), (79, 'more'), (80, 'than'), (81, 'ago'), (82, 'researchers'), (83, 'reported'), (84, 'fiber'), (85, 'unusually'), (86, 'enters'), (87, 'with'), (88, 'even'), (89, 'brief'), (90, 'exposures'), (91, 'causing'), (92, 'symptoms'), (93, 'that'), (94, 'show'), (95, 'up'), (96, 'decades'), (97, 'later'), (98, 'said'), (99, 'inc.'), (100, 'unit'), (101, 'new'), (102, 'york-based'), (103, 'corp.'), (104, 'makes'), (105, 'cigarettes'), (106, 'stopped'), (107, 'using'), (108, 'in'), (109, 'its'), (110, 'although'), (111, 'preliminary'), (112, 'findings'), (113, 'were'), (114, 'year'), (115, 'latest'), (116, 'results'), (117, 'appear'), (118, 'today'), (119, \"'s\"), (120, 'england'), (121, 'journal'), (122, 'medicine'), (123, 'forum'), (124, 'likely'), (125, 'bring'), (126, 'attention'), (127, 'problem'), (128, 'an'), (129, 'story'), (130, 'we'), (131, \"'re\"), (132, 'talking'), (133, 'about'), (134, 'before'), (135, 'anyone'), (136, 'heard'), (137, 'having'), (138, 'any'), (139, 'questionable'), (140, 'properties'), (141, 'there'), (142, 'no'), (143, 'our'), (144, 'products'), (145, 'now'), (146, 'neither'), (147, 'nor'), (148, 'who'), (149, 'studied'), (150, 'aware'), (151, 'research'), (152, 'on'), (153, 'smokers'), (154, 'have'), (155, 'useful'), (156, 'information'), (157, 'whether'), (158, 'users'), (159, 'are'), (160, 'at'), (161, 'risk'), (162, 'james'), (163, 'a.'), (164, 'boston'), (165, 'institute'), (166, 'dr.'), (167, 'led'), (168, 'team'), (169, 'from'), (170, 'national'), (171, 'medical'), (172, 'schools'), (173, 'harvard'), (174, 'university'), (175, 'spokeswoman'), (176, 'very'), (177, 'modest'), (178, 'amounts'), (179, 'making'), (180, 'paper'), (181, 'for'), (182, 'early'), (183, '1950s'), (184, 'replaced'), (185, 'different'), (186, 'type'), (187, 'billion'), (188, 'sold'), (189, 'company'), (190, 'men'), (191, 'worked'), (192, 'closely'), (193, 'substance'), (194, 'died'), (195, 'three'), (196, 'times'), (197, 'expected'), (198, 'number'), (199, 'four'), (200, 'five'), (201, 'surviving'), (202, 'diseases'), (203, 'including'), (204, 'recently'), (205, 'total'), (206, 'malignant'), (207, 'lung'), (208, 'far'), (209, 'higher'), (210, 'rate'), (211, 'striking'), (212, 'finding'), (213, 'those'), (214, 'us'), (215, 'study'), (216, 'west'), (217, 'mass.'), (218, 'factory'), (219, 'appears'), (220, 'be'), (221, 'highest'), (222, 'western'), (223, 'industrialized'), (224, 'countries'), (225, 'he'), (226, 'plant'), (227, 'which'), (228, 'owned'), (229, 'by'), (230, '&'), (231, 'co.'), (232, 'under'), (233, 'contract'), (234, 'probably'), (235, 'support'), (236, 'argue'), (237, 'u.s.'), (238, 'should'), (239, 'regulate'), (240, 'class'), (241, 'common'), (242, 'kind'), (243, 'found'), (244, 'most'), (245, 'other'), (246, 'buildings'), (247, 'one'), (248, 'few'), (249, 'nations'), (250, 'does'), (251, \"n't\"), (252, 'standard'), (253, 'regulation'), (254, 'smooth'), (255, 'fibers'), (256, 'such'), (257, 'classified'), (258, 'according'), (259, 't.'), (260, 'professor'), (261, 'vermont'), (262, 'college'), (263, 'easily'), (264, 'rejected'), (265, 'body'), (266, 'explained'), (267, 'july'), (268, 'environmental'), (269, 'protection'), (270, 'agency'), (271, 'imposed'), (272, 'gradual'), (273, 'ban'), (274, 'virtually'), (275, 'all'), (276, 'uses'), (277, 'almost'), (278, 'remaining'), (279, 'outlawed'), (280, 'made'), (281, 'areas'), (282, 'particularly'), (283, 'dusty'), (284, 'where'), (285, 'dumped'), (286, 'large'), (287, 'imported'), (288, 'material'), (289, 'into'), (290, 'huge'), (291, 'poured'), (292, 'cotton'), (293, 'mixed'), (294, 'dry'), (295, 'process'), (296, 'described'), (297, 'clouds'), (298, 'blue'), (299, 'dust'), (300, 'hung'), (301, 'over'), (302, 'parts'), (303, 'though'), (304, 'fans'), (305, 'area'), (306, 'question'), (307, 'some'), (308, 'managers'), (309, 'contracted'), (310, 'phillips'), (311, 'vice'), (312, 'president'), (313, 'human'), (314, 'resources'), (315, 'but'), (316, 'you'), (317, 'recognize'), (318, 'these'), (319, 'events'), (320, 'took'), (321, 'place'), (322, 'bearing'), (323, 'work'), (324, 'force'), (325, 'yields'), (326, 'money-market'), (327, 'mutual'), (328, 'funds'), (329, 'continued'), (330, 'slide'), (331, 'amid'), (332, 'signs'), (333, 'portfolio'), (334, 'expect'), (335, 'further'), (336, 'declines'), (337, 'interest'), (338, 'rates'), (339, 'average'), (340, 'seven-day'), (341, 'compound'), (342, 'yield'), (343, 'taxable'), (344, 'tracked'), (345, 'money'), (346, 'fund'), (347, 'report'), (348, 'eased'), (349, 'fraction'), (350, 'point'), (351, 'week'), (352, 'ended'), (353, 'tuesday'), (354, 'assume'), (355, 'reinvestment'), (356, 'dividends'), (357, 'current'), (358, 'continues'), (359, 'maturity'), (360, \"'\"), (361, 'investments'), (362, 'day'), (363, 'days'), (364, 'longest'), (365, 'since'), (366, 'august'), (367, 'donoghue'), (368, 'longer'), (369, 'maturities'), (370, 'thought'), (371, 'indicate'), (372, 'declining'), (373, 'because'), (374, 'they'), (375, 'permit'), (376, 'retain'), (377, 'relatively'), (378, 'period'), (379, 'shorter'), (380, 'considered'), (381, 'sign'), (382, 'rising'), (383, 'can'), (384, 'capture'), (385, 'sooner'), (386, 'open'), (387, 'only'), (388, 'institutions'), (389, 'stronger'), (390, 'indicator'), (391, 'watch'), (392, 'market'), (393, 'reached'), (394, 'nevertheless'), (395, 'editor'), (396, 'may'), (397, 'again'), (398, 'down'), (399, 'recent'), (400, 'rises'), (401, 'short-term'), (402, 'six-month'), (403, 'treasury'), (404, 'bills'), (405, 'monday'), (406, 'auction'), (407, 'example'), (408, 'rose'), (409, 'despite'), (410, 'investors'), (411, 'continue'), (412, 'pour'), (413, 'cash'), (414, 'assets'), (415, 'grew'), (416, '$'), (417, 'during'), (418, 'typically'), (419, 'money-fund'), (420, 'beat'), (421, 'comparable'), (422, 'vary'), (423, 'go'), (424, 'after'), (425, 'top'), (426, 'currently'), (427, 'yielding'), (428, 'well'), (429, 'dreyfus'), (430, 'world-wide'), (431, 'dollar'), (432, 'had'), (433, 'earlier'), (434, 'invests'), (435, 'heavily'), (436, 'dollar-denominated'), (437, 'securities'), (438, 'overseas'), (439, 'management'), (440, 'fees'), (441, 'boosts'), (442, 'simple'), (443, '30-day'), (444, 'fell'), (445, 'slid'), (446, 'j.p.'), (447, 'grace'), (448, 'holds'), (449, 'elected'), (450, 'succeeds'), (451, 'd.'), (452, 'formerly'), (453, 'resigned'), (454, 'energy'), (455, 'seven'), (456, 'seats'), (457, 'pacific'), (458, 'first'), (459, 'financial'), (460, 'shareholders'), (461, 'approved'), (462, 'acquisition'), (463, 'royal'), (464, 'ltd.'), (465, 'toronto'), (466, 'share'), (467, 'or'), (468, 'million'), (469, 'thrift'), (470, 'holding'), (471, 'expects'), (472, 'obtain'), (473, 'regulatory'), (474, 'approval'), (475, 'complete'), (476, 'transaction'), (477, 'year-end'), (478, 'international'), (479, 'completed'), (480, 'sale'), (481, 'controls'), (482, 'operations'), (483, 's.p'), (484, 'italian'), (485, 'state-owned'), (486, 'interests'), (487, 'mechanical'), (488, 'engineering'), (489, 'industry'), (490, 'based'), (491, 'ohio'), (492, 'computerized'), (493, 'systems'), (494, 'employs'), (495, 'people'), (496, 'annual'), (497, 'revenue'), (498, 'federal'), (499, 'government'), (500, 'suspended'), (501, 'sales'), (502, 'savings'), (503, 'bonds'), (504, 'congress'), (505, 'lifted'), (506, 'ceiling'), (507, 'debt'), (508, 'until'), (509, 'acts'), (510, 'authority'), (511, 'issue'), (512, 'obligations'), (513, 'borrowing'), (514, 'dropped'), (515, 'midnight'), (516, 'trillion'), (517, 'legislation'), (518, 'lift'), (519, 'fight'), (520, 'cutting'), (521, 'capital-gains'), (522, 'taxes'), (523, 'house'), (524, 'voted'), (525, 'raise'), (526, 'senate'), (527, 'act'), (528, 'next'), (529, 'earliest'), (530, 'default'), (531, 'if'), (532, 'then'), (533, 'clark'), (534, 'j.'), (535, 'senior'), (536, 'general'), (537, 'manager'), (538, 'marketing'), (539, 'arm'), (540, 'japanese'), (541, 'auto'), (542, 'maker'), (543, 'mazda'), (544, 'motor'), (545, 'corp'), (546, 'position'), (547, 'oversee'), (548, 'service'), (549, 'previously'), (550, 'chrysler'), (551, 'division'), (552, 'been'), (553, 'executive'), (554, 'when'), (555, 'time'), (556, 'their'), (557, 'nation'), (558, 'manufacturing'), (559, 'jet'), (560, 'off'), (561, 'resort'), (562, 'towns'), (563, 'like'), (564, 'hot'), (565, 'springs'), (566, 'not'), (567, 'association'), (568, 'manufacturers'), (569, 'settled'), (570, 'capital'), (571, 'indianapolis'), (572, 'fall'), (573, 'meeting'), (574, 'city'), (575, 'decided'), (576, 'treat'), (577, 'guests'), (578, 'royalty'), (579, 'rock'), (580, 'stars'), (581, 'owners'), (582, 'idea'), (583, 'course'), (584, 'prove'), (585, 'corporate'), (586, 'decision'), (587, 'makers'), (588, 'buckle'), (589, 'belt'), (590, 'so'), (591, 'good'), (592, 'expand'), (593, 'receiving'), (594, 'end'), (595, 'message'), (596, 'officials'), (597, 'giants'), (598, 'du'), (599, 'pont'), (600, 'along'), (601, 'lesser'), (602, 'steel'), (603, 'valley'), (604, 'queen'), (605, 'executives'), (606, 'joined'), (607, 'mayor'), (608, 'william'), (609, 'h.'), (610, 'iii'), (611, 'evening'), (612, 'guest'), (613, 'victor'), (614, 'champagne'), (615, 'followed'), (616, 'morning'), (617, 'police'), (618, 'wives'), (619, 'traffic'), (620, 'red'), (621, 'lights'), (622, 'governor'), (623, 'could'), (624, 'welcomed'), (625, 'special'), (626, 'buffet'), (627, 'breakfast'), (628, 'held'), (629, 'museum'), (630, 'food'), (631, 'drinks'), (632, 'banned'), (633, 'everyday'), (634, 'visitors'), (635, 'honor'), (636, 'out'), (637, 'drivers'), (638, 'crews'), (639, 'official'), (640, 'announcer'), (641, 'exhibition'), (642, 'race'), (643, 'fortune'), (644, 'cars'), (645, 'pointed'), (646, 'still'), (647, 'space'), (648, 'machines'), (649, 'another'), (650, 'sponsor'), (651, 'name'), (652, 'two'), (653, 'back'), (654, 'downtown'), (655, 'squeezed'), (656, 'meetings'), (657, 'hotel'), (658, 'buses'), (659, 'dinner'), (660, 'block'), (661, 'away'), (662, 'indiana'), (663, 'nine'), (664, 'hottest'), (665, 'chefs'), (666, 'town'), (667, 'fed'), (668, 'them'), (669, 'knowing'), (670, 'free'), (671, 'eat'), (672, 'gave'), (673, 'standing'), (674, 'say'), (675, 'treatment'), (676, 'return'), (677, 'future'), (678, 'looking'), (679, 'forward'), (680, 'winter'), (681, 'february'), (682, 'south'), (683, 'korea'), (684, 'registered'), (685, 'trade'), (686, 'deficit'), (687, 'october'), (688, 'reflecting'), (689, 'country'), (690, 'economic'), (691, 'figures'), (692, 'released'), (693, 'wednesday'), (694, 'ministry'), (695, 'showed'), (696, 'fifth'), (697, 'monthly'), (698, 'setback'), (699, 'casting'), (700, 'cloud'), (701, 'economy'), (702, 'exports'), (703, 'stood'), (704, 'mere'), (705, 'increase'), (706, 'while'), (707, 'imports'), (708, 'increased'), (709, 'sharply'), (710, 'last'), (711, 'boom'), (712, 'began'), (713, 'prolonged'), (714, 'labor'), (715, 'disputes'), (716, 'conflicts'), (717, 'sluggish'), (718, 'would'), (719, 'remain'), (720, 'target'), (721, 'gloomy'), (722, 'forecast'), (723, 'recorded'), (724, 'surplus'), (725, 'january'), (726, 'accumulated'), (727, 'same'), (728, 'newsweek'), (729, 'trying'), (730, 'keep'), (731, 'pace'), (732, 'rival'), (733, 'magazine'), (734, 'announced'), (735, 'advertising'), (736, 'introduce'), (737, 'incentive'), (738, 'plan'), (739, 'advertisers'), (740, 'ad'), (741, 'washington'), (742, 'post'), (743, 'second'), (744, 'offered'), (745, 'plans'), (746, 'give'), (747, 'discounts'), (748, 'maintaining'), (749, 'increasing'), (750, 'spending'), (751, 'become'), (752, 'permanent'), (753, 'news'), (754, 'underscore'), (755, 'fierce'), (756, 'competition'), (757, 'between'), (758, 'warner'), (759, 'b.'), (760, 'world'), (761, 'alan'), (762, 'full'), (763, 'page'), (764, 'cost'), (765, 'mid-october'), (766, 'lowered'), (767, 'guaranteed'), (768, 'circulation'), (769, 'base'), (770, 'lower'), (771, 'effectively'), (772, 'per'), (773, 'subscriber'), (774, 'costs'), (775, 'yet'), (776, 'announce'), (777, 'credit'), (778, 'credits'), (779, 'renewal'), (780, 'reward'), (781, 'bonuses'), (782, 'meet'), (783, 'exceed'), (784, 'long'), (785, 'spent'), (786, 'attempt'), (787, 'shore'), (788, 'decline'), (789, 'pages'), (790, 'months'), (791, 'totaled'), (792, 'drop'), (793, 'publishers'), (794, 'bureau'), (795, 'what'), (796, 'matters'), (797, 'paying'), (798, 'department'), (799, 'doing'), (800, 'fine'), (801, 'both'), (802, 'gaining'), (803, 'without'), (804, 'heavy'), (805, 'use'), (806, 'electronic'), (807, 'subscribers'), (808, 'telephones'), (809, 'watches'), (810, 'however'), (811, 'none'), (812, 'big'), (813, 'gains'), (814, 'audit'), (815, 'largest'), (816, 'decrease'), (817, 'six'), (818, 'flat'), (819, 'electric'), (820, 'system'), (821, 'bowed'), (822, 'bidding'), (823, 'public'), (824, 'hampshire'), (825, 'saying'), (826, 'risks'), (827, 'too'), (828, 'potential'), (829, 'justify'), (830, 'offer'), (831, 'move'), (832, 'leaves'), (833, 'united'), (834, 'illuminating'), (835, 'northeast'), (836, 'utilities'), (837, 'outside'), (838, 'bidders'), (839, 'ps'), (840, 'also'), (841, 'proposed'), (842, 'internal'), (843, 'reorganization'), (844, 'chapter'), (845, 'bankruptcy'), (846, 'proceedings'), (847, 'independent'), (848, 'acquire'), (849, 'below'), (850, 'value'), (851, 'places'), (852, 'bid'), (853, 'says'), (854, 'worth'), (855, 'haven'), (856, 'conn.'), (857, 'hartford'), (858, 'conn'), (859, 'n.h.'), (860, 'values'), (861, 'john'), (862, 'rowe'), (863, 'chief'), (864, 'officer'), (865, 'equity'), (866, 'suffer'), (867, 'forecasts'), (868, 'related'), (869, 'growth'), (870, 'electricity'), (871, 'demand'), (872, 'improved'), (873, 'operating'), (874, 'did'), (875, 'come'), (876, 'true'), (877, 'raising'), (878, 'seemed'), (879, 'substantial'), (880, 'persistent'), (881, 'rewards'), (882, 'way'), (883, 'got'), (884, 'hard'), (885, 'take'), (886, 'added'), (887, 'noted'), (888, 'political'), (889, 'concerns'), (890, 'worried'), (891, 'matter'), (892, 'owns'), (893, 'emerges'), (894, 'attracts'), (895, 'just'), (896, 'factors'), (897, 'withdraw'), (898, 'wilbur'), (899, 'ross'), (900, 'jr.'), (901, 'rothschild'), (902, 'adviser'), (903, 'troubled'), (904, 'holders'), (905, 'withdrawal'), (906, 'might'), (907, 'speed'), (908, 'fact'), (909, 'increases'), (910, 'against'), (911, 'around'), (912, 'complicated'), (913, 'negotiations'), (914, 'state'), (915, 'asserted'), (916, 'field'), (917, 'less'), (918, 'separately'), (919, 'commission'), (920, 'turned'), (921, 'request'), (922, 'seeking'), (923, 'possible'), (924, 'purchase'), (925, 'hopes'), (926, 'review'), (927, 'ferc'), (928, 'summer'), (929, 'court'), (930, 'shares'), (931, 'closed'), (932, 'yesterday'), (933, 'cents'), (934, 'york'), (935, 'stock'), (936, 'exchange'), (937, 'composite'), (938, 'trading'), (939, 'norman'), (940, 'toys'), (941, 'r'), (942, 'frederick'), (943, 'banking'), (944, 'directors'), (945, 'consumer'), (946, 'electronics'), (947, 'appliances'), (948, 'retailing'), (949, 'chain'), (950, 'succeed'), (951, 'daniel'), (952, 'm.'), (953, 'retired'), (954, 'circuit'), (955, 'robert'), (956, 'r.'), (957, 'undersecretary'), (958, 'commonwealth'), (959, 'edison'), (960, 'ordered'), (961, 'refund'), (962, 'illegal'), (963, 'collected'), (964, 'overruns'), (965, 'nuclear'), (966, 'power'), (967, 'illinois'), (968, 'commerce'), (969, 'groups'), (970, 'ever'), (971, 'required'), (972, 'local'), (973, 'utility'), (974, 'judge'), (975, 'richard'), (976, 'curry'), (977, 'refunds'), (978, 'each'), (979, 'customers'), (980, 'received'), (981, 'april'), (982, 'moved'), (983, 'begin'), (984, 'feb.'), (985, 'appeals'), (986, 'attempts'), (987, 'his'), (988, 'order'), (989, 'pool'), (990, 'through'), (991, 'round'), (992, 'already'), (993, 'appealing'), (994, 'underlying'), (995, 'considering'), (996, 'exact'), (997, 'amount'), (998, 'determined'), (999, 'actual'), (1000, 'dec.'), (1001, 'ruling'), (1002, 'slash'), (1003, 'earnings'), (1004, 'spokesman'), (1005, 'tracking'), (1006, 'whose'), (1007, 'addresses'), (1008, 'changed'), (1009, 'past'), (1010, 'administrative'), (1011, 'nightmare'), (1012, 'near'), (1013, 'ill.'), (1014, 'disputed'), (1015, 'pay'), (1016, 'courts'), (1017, 'upheld'), (1018, 'challenge'), (1019, 'supreme'), (1020, 'construction'), (1021, 'expenses'), (1022, 'collecting'), (1023, 'subject'), (1024, 'ruled'), (1025, 'plus'), (1026, 'additional'), (1027, 'calculations'), (1028, 'month'), (1029, 'set'), (1030, 'faces'), (1031, 'appellate'), (1032, 'estimated'), (1033, 'hope'), (1034, 'precedent'), (1035, 'case'), (1036, 'involving'), (1037, 'rule'), (1038, 'poor'), (1039, 'performance'), (1040, 'i'), (1041, 'japan'), (1042, 'domestic'), (1043, 'trucks'), (1044, 'units'), (1045, 'record'), (1046, 'automobile'), (1047, 'dealers'), (1048, 'strong'), (1049, 'year-to-year'), (1050, 'september'), (1051, 'setting'), (1052, 'records'), (1053, 'every'), (1054, 'march'), (1055, 'compared'), (1056, 'previous'), (1057, 'inched'), (1058, 'passenger'), (1059, 'medium-sized'), (1060, 'benefited'), (1061, 'price'), (1062, 'reductions'), (1063, 'arising'), (1064, 'introduction'), (1065, 'consumption'), (1066, 'tax'), (1067, 'doubled'), (1068, 'texas'), (1069, 'instruments'), (1070, 'opened'), (1071, 'manufacture'), (1072, 'control'), (1073, 'devices'), (1074, 'located'), (1075, 'miles'), (1076, 'seoul'), (1077, 'help'), (1078, 'diversifying'), (1079, 'produce'), (1080, 'vehicles'), (1081, 'household'), (1082, 'survival'), (1083, 'spinoff'), (1084, 'cray'), (1085, 'computer'), (1086, 'fledgling'), (1087, 'supercomputer'), (1088, 'business'), (1089, 'depend'), (1090, 'creativity'), (1091, 'designer'), (1092, 'seymour'), (1093, 'development'), (1094, 'initial'), (1095, 'machine'), (1096, 'tied'), (1097, 'directly'), (1098, 'balance'), (1099, 'sheet'), (1100, 'documents'), (1101, 'filed'), (1102, 'pending'), (1103, 'disclosed'), (1104, 'financing'), (1105, 'providing'), (1106, 'firm'), (1107, 'project'), (1108, 'heads'), (1109, 'scrapped'), (1110, 'working'), (1111, 'cray-3'), (1112, 'least'), (1113, 'fully'), (1114, 'operational'), (1115, 'prototype'), (1116, 'moreover'), (1117, 'orders'), (1118, 'several'), (1119, 'prospects'), (1120, 'many'), (1121, 'anticipated'), (1122, 'attached'), (1123, 'much'), (1124, 'choice'), (1125, 'gregory'), (1126, 'interview'), (1127, 'theory'), (1128, 'him'), (1129, 'want'), (1130, 'include'), (1131, 'anticipates'), (1132, 'perhaps'), (1133, 'beginning'), (1134, 'called'), (1135, 'scenario'), (1136, 'filing'), (1137, 'details'), (1138, 'jump'), (1139, 'close'), (1140, 'analysts'), (1141, 'link'), (1142, 'note'), (1143, 'presence'), (1144, 'complicate'), (1145, 'valuation'), (1146, 'investor'), (1147, 'gary'), (1148, 'p.'), (1149, 'minneapolis'), (1150, 'concept'), (1151, 'either'), (1152, 'believe'), (1153, 'do'), (1154, 'besides'), (1155, 'age'), (1156, 'tricky'), (1157, 'chip'), (1158, 'technology'), (1159, 'sec'), (1160, 'describe'), (1161, 'chips'), (1162, 'being'), (1163, 'fragile'), (1164, 'minute'), (1165, 'require'), (1166, 'handling'), (1167, 'equipment'), (1168, 'addition'), (1169, 'contain'), (1170, 'processors'), (1171, 'twice'), (1172, 'face'), (1173, 'intense'), (1174, 'roll'), (1175, 'direct'), (1176, 'competitor'), (1177, 'compete'), (1178, 'hitachi'), (1179, 'nec'), (1180, 'fujitsu'), (1181, 'ltd'), (1182, 'believes'), (1183, 'fewer'), (1184, 'priced'), (1185, 'presumably'), (1186, 'range'), (1187, 'terms'), (1188, 'stockholders'), (1189, 'receive'), (1190, 'own'), (1191, 'distribution'), (1192, 'occur'), (1193, 'weeks'), (1194, 'instead'), (1195, 'companies'), (1196, 'leave'), (1197, 'marketplace'), (1198, 'decide'), (1199, 'applied'), (1200, 'nasdaq'), (1201, 'calculate'), (1202, 'book'), (1203, 'primarily'), (1204, 'drain'), (1205, 'sheets'), (1206, 'clearly'), (1207, 'why'), (1208, 'favored'), (1209, 'able'), (1210, 'profit'), (1211, 'half'), (1212, 'rather'), (1213, 'posted'), (1214, 'hand'), (1215, 'existed'), (1216, 'incurred'), (1217, 'loss'), (1218, 'comment'), (1219, 'colorado'), (1220, 'colo.'), (1221, 'contractor'), (1222, 'arrangement'), (1223, 'regarded'), (1224, 'father'), (1225, 'paid'), (1226, 'messrs.'), (1227, 'includes'), (1228, 'neil'), (1229, 'joseph'), (1230, 'malcolm'), (1231, 'software'), (1232, 'douglas'), (1233, 'hardware'), (1234, 'came'), (1235, 'stevens'), (1236, 'positions'), (1237, 'donald'), (1238, 'arthur'), (1239, 'hatch'), (1240, 'eastern'), (1241, 'claiming'), (1242, 'success'), (1243, 'removed'), (1244, 'taiwan'), (1245, 'saudi'), (1246, 'arabia'), (1247, 'list'), (1248, 'watching'), (1249, 'allegedly'), (1250, 'failing'), (1251, 'patents'), (1252, 'rights'), (1253, 'china'), (1254, 'thailand'), (1255, 'india'), (1256, 'brazil'), (1257, 'mexico'), (1258, 'so-called'), (1259, 'priority'), (1260, 'result'), (1261, 'interim'), (1262, 'representative'), (1263, 'carla'), (1264, 'hills'), (1265, 'law'), (1266, 'accelerated'), (1267, 'investigations'), (1268, 'stiff'), (1269, 'sanctions'), (1270, 'improve'), (1271, 'intellectual'), (1272, 'property'), (1273, 'spring'), (1274, 'mrs.'), (1275, 'she'), (1276, 'placed'), (1277, 'degrees'), (1278, 'scrutiny'), (1279, 'genuine'), (1280, 'progress'), (1281, 'touchy'), (1282, 'growing'), (1283, 'citizens'), (1284, 'negotiators'), (1285, 'inadequate'), (1286, 'hurting'), (1287, 'themselves'), (1288, 'discouraging'), (1289, 'scientists'), (1290, 'authors'), (1291, 'high-technology'), (1292, 'firms'), (1293, 'investing'), (1294, 'best'), (1295, 'creating'), (1296, 'task'), (1297, 'enforcement'), (1298, 'teams'), (1299, 'officers'), (1300, 'prosecutors'), (1301, 'trained'), (1302, 'pursue'), (1303, 'movie'), (1304, 'instituted'), (1305, 'effective'), (1306, 'procedures'), (1307, 'aid'), (1308, 'copyright'), (1309, 'agreement'), (1310, 'trademark'), (1311, 'introducing'), (1312, 'protect'), (1313, 'foreign'), (1314, 'producers'), (1315, 'unauthorized'), (1316, 'films'), (1317, 'measure'), (1318, 'taipei'), (1319, 'small'), (1320, 'showing'), (1321, 'part'), (1322, 'vowed'), (1323, 'enact'), (1324, 'compatible'), (1325, 'standards'), (1326, 'apply'), (1327, 'literary'), (1328, 'works'), (1329, 'completely'), (1330, 'hook'), (1331, 'italy'), (1332, 'canada'), (1333, 'greece'), (1334, 'spain'), (1335, 'concern'), (1336, 'deemed'), (1337, 'pose'), (1338, 'problems'), (1339, 'american'), (1340, 'patent'), (1341, 'hoffman'), (1342, 'lawyer'), (1343, 'specializing'), (1344, 'cases'), (1345, 'threat'), (1346, 'combined'), (1347, 'recognition'), (1348, 'protecting'), (1349, 'prompted'), (1350, 'improvements'), (1351, 'tells'), (1352, 'efforts'), (1353, 'craft'), (1354, 'concerned'), (1355, 'disturbing'), (1356, 'developments'), (1357, 'turkey'), (1358, 'continuing'), (1359, 'slow'), (1360, 'malaysia'), (1361, 'elaborate'), (1362, 'reports'), (1363, 'complained'), (1364, 'videocassette'), (1365, 'pharmaceutical'), (1366, 'requires'), (1367, 'bad'), (1368, 'enough'), (1369, 'merit'), (1370, 'investigation'), (1371, 'provision'), (1372, 'argentina'), (1373, 'ask'), (1374, 'creditor'), (1375, 'banks'), (1376, 'developing'), (1377, 'declaration'), (1378, 'minister'), (1379, 'believed'), (1380, 'action'), (1381, 'latin'), (1382, 'little'), (1383, 'reach'), (1384, 'reduction'), (1385, 'external'), (1386, 'met'), (1387, 'assistant'), (1388, 'secretary'), (1389, 'david'), (1390, 'mulford'), (1391, 'negotiator'), (1392, 'carlos'), (1393, 'office'), (1394, 'feels'), (1395, 'significant'), (1396, 'principal'), (1397, 'solved'), (1398, 'wants'), (1399, 'centennial'), (1400, 'wall'), (1401, 'street'), (1402, 'century'), (1403, 'stand'), (1404, 'milestones'), (1405, 'history'), (1406, 'computers'), (1407, 'personal'), (1408, 'computing'), (1409, 'launched'), (1410, 'apple'), (1411, 'ii'), (1412, 'commodore'), (1413, 'pet'), (1414, 'tandy'), (1415, 'crude'), (1416, 'television'), (1417, 'sets'), (1418, 'screens'), (1419, 'data'), (1420, 'major'), (1421, 'advance'), (1422, 'built'), (1423, 'garage'), (1424, 'stephen'), (1425, 'steven'), (1426, 'jobs'), (1427, 'club'), (1428, 'affordable'), (1429, 'pcs'), (1430, 'triggered'), (1431, 'explosive'), (1432, 'product'), (1433, 'desktop'), (1434, 'models'), (1435, 'home'), (1436, 'mainframe'), (1437, 'unlike'), (1438, 'types'), (1439, 'store'), (1440, 'memories'), (1441, 'faster'), (1442, 'memory'), (1443, 'capacity'), (1444, 'greater'), (1445, 'counterparts'), (1446, 'pioneer'), (1447, 'pc'), (1448, 'gates'), (1449, 'paul'), (1450, 'allen'), (1451, 'developed'), (1452, 'became'), (1453, 'billionaire'), (1454, 'ibm'), (1455, 'adapted'), (1456, 'versions'), (1457, 'f.'), (1458, 'seagate'), (1459, 'disk'), (1460, 'drives'), (1461, 'dennis'), (1462, 'dale'), (1463, 'atlanta'), (1464, 'engineers'), (1465, 'allow'), (1466, 'via'), (1467, 'telephone'), (1468, 'leader'), (1469, 'entered'), (1470, 'shipments'), (1471, 'annually'), (1472, 'australian'), (1473, 'pharmaceuticals'), (1474, 'affiliate'), (1475, 'acquired'), (1476, 'sells'), (1477, 'label'), (1478, 'voting'), (1479, 'stake'), (1480, 'together'), (1481, 'convertible'), (1482, 'preferred'), (1483, 'holdings'), (1484, 'gives'), (1485, 'right'), (1486, 'oil'), (1487, 'production'), (1488, 'australia'), (1489, 'bass'), (1490, 'raised'), (1491, 'barrels'), (1492, 'launch'), (1493, 'scheduled'), (1494, 'brought'), (1495, 'esso'), (1496, 'exxon'), (1497, 'broken'), (1498, 'hill'), (1499, 'operate'), (1500, 'joint'), (1501, 'venture'), (1502, 'started'), (1503, 'output'), (1504, 'gradually'), (1505, 'reaches'), (1506, 'reserves'), (1507, 'start'), (1508, 'producing'), (1509, 'southern'), (1510, 'optical'), (1511, 'subsidiary'), (1512, 'thomas'), (1513, 'sloan'), (1514, 'following'), (1515, 'buy-out'), (1516, 'shearson'), (1517, 'lehman'), (1518, 'hutton'), (1519, 'itself'), (1520, 'certain'), (1521, 'businesses'), (1522, 'program'), (1523, 'white'), (1524, 'bush'), (1525, 'duty-free'), (1526, 'produced'), (1527, 'quantities'), (1528, 'virgin'), (1529, 'islands'), (1530, 'response'), (1531, 'petition'), (1532, 'changes'), (1533, 'preferences'), (1534, 'denied'), (1535, 'requested'), (1536, 'covered'), (1537, 'tariff'), (1538, 'grant'), (1539, 'status'), (1540, 'categories'), (1541, 'injury'), (1542, 'producer'), (1543, 'seller'), (1544, 'assembled'), (1545, 'philippines'), (1546, 'main'), (1547, 'beneficiaries'), (1548, 'eligible'), (1549, 'aide'), (1550, 'magna'), (1551, 'mcalpine'), (1552, 'frank'), (1553, 'stepping'), (1554, 'turn'), (1555, 'manufacturer'), (1556, 'effort'), (1557, 'reduce'), (1558, 'overhead'), (1559, 'curb'), (1560, 'satisfactory'), (1561, 'level'), (1562, 'achieved'), (1563, 'maintained'), (1564, 'finance'), (1565, 'ambitious'), (1566, 'expansion'), (1567, 'left'), (1568, 'excess'), (1569, 'load'), (1570, 'automotive'), (1571, 'downturn'), (1572, 'steady'), (1573, 'cut'), (1574, 'quarterly'), (1575, 'dividend'), (1576, '52-week'), (1577, 'canadian'), (1578, 'dollars'), (1579, 'us$'), (1580, 'c$'), (1581, 'founder'), (1582, 'controlling'), (1583, 'shareholder'), (1584, 'seek'), (1585, 'unsuccessfully'), (1586, 'seat'), (1587, 'parliament'), (1588, 'resume'), (1589, 'influential'), (1590, 'role'), (1591, 'running'), (1592, 'throughout'), (1593, 'organization'), (1594, 'personally'), (1595, 'restructuring'), (1596, 'consulting'), (1597, 'career'), (1598, 'clients'), (1599, 'lord'), (1600, 'english'), (1601, 'chemical'), (1602, 'nearly'), (1603, 'bought'), (1604, 'mortgage'), (1605, 'totaling'), (1606, 'purchases'), (1607, 'fannie'), (1608, 'mae'), (1609, 'o.'), (1610, 'maxwell'), (1611, 'conference'), (1612, 'institutional'), (1613, 'rest'), (1614, 'went'), (1615, 'france'), (1616, 'hong'), (1617, 'kong'), (1618, 'snapped'), (1619, 'similar'), (1620, 'mortgage-backed'), (1621, 'put'), (1622, 'blackstone'), (1623, 'investment'), (1624, 'bank'), (1625, 'jointly'), (1626, 'goldman'), (1627, 'sachs'), (1628, 'daiwa'), (1629, 'co'), (1630, 'seven-year'), (1631, 'offering'), (1632, 'fixed-rate'), (1633, 'floating-rate'), (1634, 'linked'), (1635, 'london'), (1636, 'interbank'), (1637, 'key'), (1638, 'advantages'), (1639, 'designed'), (1640, 'eliminate'), (1641, 'prepayment'), (1642, 'forces'), (1643, 'channel'), (1644, 'payments'), (1645, 'semiannual'), (1646, 'reducing'), (1647, 'burden'), (1648, 'addressing'), (1649, 'extremely'), (1650, 'attractive'), (1651, 'boosted'), (1652, 'outstanding'), (1653, 'rapid'), (1654, 'purchasers'), (1655, 'buying'), (1656, 'issued'), (1657, 'l.'), (1658, 'expanding'), (1659, 'members'), (1660, 'ltv'), (1661, 'agreed'), (1662, 'extend'), (1663, 'aerospace'), (1664, 'exclusive'), (1665, 'file'), (1666, 'code'), (1667, 'giving'), (1668, 'creditors'), (1669, 'lawsuits'), (1670, 'debts'), (1671, 'giant'), (1672, 'montedison'), (1673, 'indirect'), (1674, 'tender'), (1675, 'erbamont'), (1676, 'incorporated'), (1677, 'netherlands'), (1678, 'advertised'), (1679, 'editions'), (1680, 'expire'), (1681, 'november'), (1682, 'currencies'), (1683, 'drawing'), (1684, 'hefty'), (1685, 'marks'), (1686, 'sixth'), (1687, 'consecutive'), (1688, 'reflects'), (1689, 'intensity'), (1690, 'intervention'), (1691, 'june'), (1692, 'currency'), (1693, 'temporarily'), (1694, 'surged'), (1695, 'above'), (1696, 'yen'), (1697, 'announcement'), (1698, 'follows'), (1699, 'sharper'), (1700, 'pick'), (1701, 'craze'), (1702, 'sweeping'), (1703, 'rash'), (1704, 'closed-end'), (1705, 'publicly'), (1706, 'traded'), (1707, 'portfolios'), (1708, 'invest'), (1709, 'stocks'), (1710, 'single'), (1711, 'regulators'), (1712, 'triple'), (1713, 'charles'), (1714, 'e.'), (1715, 'simon'), (1716, 'washington-based'), (1717, 'turf'), (1718, 'ranged'), (1719, 'chile'), (1720, 'portugal'), (1721, 'philippine'), (1722, 'capped'), (1723, 'visit'), (1724, 'aquino'), (1725, 'head'), (1726, 'kicked'), (1727, 'here'), (1728, 'province'), (1729, 'anything'), (1730, 'how'), (1731, 'guinea'), (1732, 'george'), (1733, 'foot'), (1734, 'managing'), (1735, 'partner'), (1736, 'associates'), (1737, 'mass'), (1738, 'explosion'), (1739, 'mania'), (1740, '1920s'), (1741, 'narrowly'), (1742, 'focused'), (1743, 'wildly'), (1744, 'popular'), (1745, 'crash'), (1746, 'traditional'), (1747, 'issuing'), (1748, 'fixed'), (1749, 'surge'), (1750, 'brings'), (1751, 'soon'), (1752, 'listed'), (1753, 'account'), (1754, 'billions'), (1755, 'claims'), (1756, 'available'), (1757, 'runs'), (1758, 'michael'), (1759, 'porter'), (1760, 'analyst'), (1761, 'smith'), (1762, 'barney'), (1763, 'harris'), (1764, 'upham'), (1765, 'behind'), (1766, 'individual'), (1767, 'scrambled'), (1768, 'find'), (1769, 'brokers'), (1770, 'easy'), (1771, 'sell'), (1772, 'stretching'), (1773, 'wide'), (1774, 'planners'), (1775, 'often'), (1776, 'urge'), (1777, 'diversify'), (1778, 'hold'), (1779, 'emerging'), (1780, 'markets'), (1781, 'mature'), (1782, 'get'), (1783, 'taste'), (1784, 'burned'), (1785, 'gyrations'), (1786, 'prices'), (1787, 'tend'), (1788, 'swing'), (1789, 'broader'), (1790, 'oct.'), (1791, 'instance'), (1792, 'plunged'), (1793, 'clobbered'), (1794, 'wild'), (1795, 'frenzy'), (1796, 'historically'), (1797, 'fat'), (1798, 'premiums'), (1799, 'discount'), (1800, 'late'), (1801, 'premium'), (1802, 'reason'), (1803, 'climbed'), (1804, 'partially'), (1805, 'specialists'), (1806, 'european'), (1807, 'skyrocketed'), (1808, 'startling'), (1809, 'targeted'), (1810, 'long-term'), (1811, 'play'), (1812, 'integration'), (1813, 'invested'), (1814, 'jumped'), (1815, \"'m\"), (1816, 'alarmed'), (1817, 'see'), (1818, 'rich'), (1819, 'newly'), (1820, 'reflect'), (1821, 'increasingly'), (1822, 'global'), (1823, 'suggests'), (1824, 'asia'), (1825, 'europe'), (1826, 'exposure'), (1827, 'viewpoint'), (1828, 'cast'), (1829, 'nonetheless'), (1830, 'plenty'), (1831, 'levels'), (1832, 'buy'), (1833, 'depositary'), (1834, 'receipts'), (1835, 'adrs'), (1836, 'represent'), (1837, 'essentially'), (1838, 'insist'), (1839, 'jumping'), (1840, 'advice'), (1841, 'folks'), (1842, 'party'), (1843, 'better'), (1844, 'ready'), (1845, 'quickly'), (1846, 'soviet'), (1847, 'union'), (1848, 'technical'), (1849, 'talks'), (1850, 'repayment'), (1851, 'moscow'), (1852, 'russian'), (1853, 'owed'), (1854, 'repaid'), (1855, 'clear'), (1856, 'soviets'), (1857, 'happen'), (1858, 'permitted'), (1859, 'branch'), (1860, 'affairs'), (1861, 'unless'), (1862, 'settle'), (1863, 'lent'), (1864, 'short-lived'), (1865, 'democratic'), (1866, 'communists'), (1867, 'seized'), (1868, 'johnson'), (1869, 'amended'), (1870, 'americans'), (1871, 'monetary'), (1872, 'u.s.s.r.'), (1873, 'belongs'), (1874, 'stressed'), (1875, 'satisfying'), (1876, 'legal'), (1877, 'obstacles'), (1878, 'hundreds'), (1879, 'millions'), (1880, 'war'), (1881, 'reflection'), (1882, 'manufactured'), (1883, 'goods'), (1884, 'failed'), (1885, 'rise'), (1886, 'meanwhile'), (1887, 'purchasing'), (1888, 'survey'), (1889, 'indicated'), (1890, 'index'), (1891, 'reading'), (1892, 'sector'), (1893, 'generally'), (1894, 'factories'), (1895, 'booked'), (1896, 'defense'), (1897, 'contractors'), (1898, 'fallen'), (1899, 'separate'), (1900, 'ran'), (1901, 'significantly'), (1902, 'private'), (1903, 'building'), (1904, 'activity'), (1905, 'adjusted'), (1906, 'remove'), (1907, 'effects'), (1908, 'usual'), (1909, 'seasonal'), (1910, 'patterns'), (1911, 'inflation'), (1912, 'kenneth'), (1913, 'economist'), (1914, 'society'), (1915, 'cleveland'), (1916, 'revive'), (1917, 'residential'), (1918, 'slack'), (1919, 'asked'), (1920, 'draw'), (1921, 'blank'), (1922, 'measures'), (1923, 'slowly'), (1924, 'reserve'), (1925, 'economists'), (1926, 'predicting'), (1927, 'slip'), (1928, 'recession'), (1929, 'cite'), (1930, 'lack'), (1931, 'imbalances'), (1932, 'provide'), (1933, 'warning'), (1934, 'signals'), (1935, 'inventories'), (1936, 'watched'), (1937, 'clues'), (1938, 'buildup'), (1939, 'cutbacks'), (1940, 'lead'), (1941, 'front'), (1942, 'soft'), (1943, 'landing'), (1944, 'elliott'), (1945, 'donaldson'), (1946, 'lufkin'), (1947, 'jenrette'), (1948, 'excessive'), (1949, 'slowdown'), (1950, 'leading'), (1951, 'intended'), (1952, 'climbing'), (1953, 'durable'), (1954, 'backlogs'), (1955, 'unfilled'), (1956, 'helped'), (1957, 'strength'), (1958, 'excluding'), (1959, 'declined'), (1960, 'accounts'), (1961, 'bankers'), (1962, 'predicted'), (1963, 'eventually'), (1964, 'boost'), (1965, 'single-family'), (1966, 'homes'), (1967, 'adjusting'), (1968, 'change'), (1969, 'contrast'), (1970, 'mcgraw-hill'), (1971, 'dodge'), (1972, 'contracts'), (1973, 'awarded'), (1974, 'counts'), (1975, 'slowing'), (1976, 'imminent'), (1977, 'committee'), (1978, 'materials'), (1979, 'pitney'), (1980, 'bowes'), (1981, 'stamford'), (1982, 'low'), (1983, 'evidence'), (1984, 'export'), (1985, 'purchased'), (1986, 'vendors'), (1987, 'delivering'), (1988, 'consider'), (1989, 'pressures'), (1990, 'suppliers'), (1991, 'handle'), (1992, 'delivery'), (1993, 'provided'), (1994, 'indicators'), (1995, 'difference'), (1996, 'reporting'), (1997, 'improvement'), (1998, 'particular'), (1999, 'worsening'), (2000, 'polled'), (2001, 'import'), (2002, 'acknowledging'), (2003, 'trend'), (2004, 'suspect'), (2005, 'going'), (2006, 'items'), (2007, 'short'), (2008, 'supply'), (2009, 'numbered'), (2010, 'dozen'), (2011, 'included'), (2012, 'milk'), (2013, 'odd'), (2014, 'thing'), (2015, 'row'), (2016, 'shortage'), (2017, 'blamed'), (2018, 'dairy'), (2019, 'exceptionally'), (2020, 'coupled'), (2021, 'quotas'), (2022, 'contributed'), (2023, 'article'), (2024, 'seasonally'), (2025, 'judging'), (2026, 'sheep'), (2027, 'chase'), (2028, 'baby'), (2029, 'boomers'), (2030, 'sides'), (2031, 'lot'), (2032, 'novel'), (2033, 'entirely'), (2034, 'especially'), (2035, 'characters'), (2036, 'drink'), (2037, 'dogs'), (2038, 'bugs'), (2039, 'bunny'), (2040, 'reruns'), (2041, 'read'), (2042, 'talk'), (2043, 'worry'), (2044, 'careers'), (2045, 'reader'), (2046, 'engaging'), (2047, 'recognizing'), (2048, 'contemporary'), (2049, 'author'), (2050, 'belong'), (2051, 'school'), (2052, 'writers'), (2053, 'notion'), (2054, 'unique'), (2055, 'outsiders'), (2056, 'carries'), (2057, 'implicit'), (2058, 'relations'), (2059, 'think'), (2060, 'plot'), (2061, 'rooted'), (2062, 'reality'), (2063, 'funny'), (2064, 'hero'), (2065, 'snow'), (2066, 'search'), (2067, 'star'), (2068, 'stanford'), (2069, 'degree'), (2070, 'girlfriend'), (2071, 'sassy'), (2072, 'mark'), (2073, 'her'), (2074, 'meets'), (2075, 'christian'), (2076, 'offers'), (2077, 'god'), (2078, 'phone'), (2079, 'man'), (2080, 'sweet'), (2081, 'figure'), (2082, 'wears'), (2083, 'else'), (2084, '40-year-old'), (2085, 'norwegian'), (2086, 'wood'), (2087, 'seems'), (2088, 'copies'), (2089, 'published'), (2090, 'tokyo'), (2091, 'pack'), (2092, 'charts'), (2093, 'books'), (2094, 'written'), (2095, 'language'), (2096, 'usually'), (2097, 'carry'), (2098, 'macmillan'), (2099, 'baseball'), (2100, 'version'), (2101, 'call'), (2102, 'game'), (2103, 'describes'), (2104, 'mirror'), (2105, 'harmony'), (2106, 'spirit'), (2107, 'player'), (2108, 'commitment'), (2109, 'practice'), (2110, 'image'), (2111, 'important'), (2112, 'polls'), (2113, 'soul'), (2114, 'male'), (2115, 'symbol'), (2116, 'played'), (2117, 'ball'), (2118, 'bat'), (2119, 'balls'), (2120, 'stadium'), (2121, 'strike'), (2122, 'zone'), (2123, 'depending'), (2124, 'size'), (2125, 'ties'), (2126, 'shame'), (2127, 'defeat'), (2128, 'players'), (2129, 'must'), (2130, 'strict'), (2131, 'rules'), (2132, 'conduct'), (2133, 'lives'), (2134, 'always'), (2135, 'wear'), (2136, 'road'), (2137, 'amusing'), (2138, 'fare'), (2139, 'enormous'), (2140, 'sums'), (2141, 'plate'), (2142, 'run'), (2143, 'complaint'), (2144, 'whom'), (2145, 'sony'), (2146, 'regret'), (2147, 'parties'), (2148, 'sometimes'), (2149, 'vicious'), (2150, 'mundane'), (2151, 'aspects'), (2152, 'employees'), (2153, 'assigned'), (2154, 'lunch'), (2155, 'partners'), (2156, 'style'), (2157, 'overtime'), (2158, 'solidarity'), (2159, 'letting'), (2160, 'young'), (2161, 'employee'), (2162, 'responsibility'), (2163, 'frustrating'), (2164, 'science'), (2165, 'ultimately'), (2166, 'lesson'), (2167, 'fired'), (2168, 'committed'), (2169, 'social'), (2170, 'crime'), (2171, 'appointment'), (2172, 'venerable'), (2173, 'never'), (2174, 'certainly'), (2175, 'learned'), (2176, 'something'), (2177, 'ms.'), (2178, 'deputy'), (2179, 'editorial'), (2180, 'features'), (2181, 'corners'), (2182, 'globe'), (2183, 'becoming'), (2184, 'tobacco'), (2185, 'smoke'), (2186, 'singapore'), (2187, 'entering'), (2188, 'restaurants'), (2189, 'stores'), (2190, 'sports'), (2191, 'centers'), (2192, 'clubs'), (2193, 'exempt'), (2194, 'smoking'), (2195, 'bars'), (2196, 'except'), (2197, 'hours'), (2198, 'bans'), (2199, 'theaters'), (2200, 'elevators'), (2201, 'hospitals'), (2202, 'fast-food'), (2203, 'prime'), (2204, 'kuala'), (2205, 'lumpur'), (2206, 'urged'), (2207, 'visiting'), (2208, 'restricts'), (2209, 'designated'), (2210, 'indicates'), (2211, 'consumers'), (2212, 'carried'), (2213, 'backer'), (2214, 'spielvogel'), (2215, 'bates'), (2216, 'colony'), (2217, 'feel'), (2218, 'pressured'), (2219, 'surveyed'), (2220, 'identified'), (2221, 'one-third'), (2222, 'great'), (2223, 'deal'), (2224, 'stress'), (2225, 'cabinet'), (2226, 'endorsed'), (2227, 'proposal'), (2228, 'build'), (2229, 'center'), (2230, 'central'), (2231, 'plaza'), (2232, 'balked'), (2233, 'conditions'), (2234, 'undertaking'), (2235, 'necessary'), (2236, 'arafat'), (2237, 'olympic'), (2238, 'asking'), (2239, 'palestinian'), (2240, 'liberation'), (2241, 'membership'), (2242, 'renewed'), (2243, 'application'), (2244, 'plo'), (2245, 'organizations'), (2246, 'win'), (2247, 'health'), (2248, 'tourism'), (2249, 'beijing'), (2250, 'chinese'), (2251, 'aids'), (2252, 'sex'), (2253, 'daily'), (2254, 'disease'), (2255, 'hospital'), (2256, 'tests'), (2257, 'confirmed'), (2258, 'family'), (2259, 'tested'), (2260, 'newspaper'), (2261, 'chaotic'), (2262, 'life'), (2263, 'polish'), (2264, 'charges'), (2265, 'gas'), (2266, 'line'), (2267, 'compensate'), (2268, 'coal'), (2269, 'establishing'), (2270, 'diplomatic'), (2271, 'poland'), (2272, 'loans'), (2273, 'financially'), (2274, 'strapped'), (2275, 'warsaw'), (2276, 'victory'), (2277, 'environmentalists'), (2278, 'hungary'), (2279, 'terminated'), (2280, 'multibillion-dollar'), (2281, 'river'), (2282, 'dam'), (2283, 'czechoslovakia'), (2284, 'ending'), (2285, 'authorized'), (2286, 'modify'), (2287, 'damage'), (2288, 'planned'), (2289, 'ca'), (2290, 'operated'), (2291, 'solely'), (2292, 'peak'), (2293, 'periods'), (2294, 'painting'), (2295, 'stockholm'), (2296, 'painted'), (2297, 'oils'), (2298, 'playwright'), (2299, 'couples'), (2300, 'statistics'), (2301, 'debentures'), (2302, 'due'), (2303, 'bond'), (2304, 'warrants'), (2305, 'toronto-based'), (2306, 'real'), (2307, 'estate'), (2308, 'warrant'), (2309, 'holder'), (2310, 'par'), (2311, 'accrued'), (2312, 'date'), (2313, 'underwriters'), (2314, 'dominion'), (2315, 'actor'), (2316, 'lane'), (2317, 'charlie'), (2318, 'steve'), (2319, 'martin'), (2320, 'laid'), (2321, 'claim'), (2322, 'writer'), (2323, 'tramp'), (2324, 'film'), (2325, 'student'), (2326, 'campus'), (2327, 'shot'), (2328, 'black-and-white'), (2329, 'artist'), (2330, 'streets'), (2331, 'revived'), (2332, 'sidewalk'), (2333, 'stories'), (2334, 'piece'), (2335, 'contained'), (2336, 'dialogue'), (2337, 'homeless'), (2338, 'person'), (2339, 'really'), (2340, 'silent'), (2341, 'marc'), (2342, 'friend'), (2343, 'earns'), (2344, 'living'), (2345, 'playing'), (2346, 'double'), (2347, 'classical'), (2348, 'music'), (2349, 'prepared'), (2350, 'exciting'), (2351, 'score'), (2352, 'thinking'), (2353, 'feeling'), (2354, 'precisely'), (2355, 'words'), (2356, 'takes'), (2357, 'highly'), (2358, 'view'), (2359, 'lovely'), (2360, 'black'), (2361, 'bill'), (2362, 'seem'), (2363, 'benign'), (2364, 'women'), (2365, 'walk'), (2366, 'purpose'), (2367, 'hangs'), (2368, 'greenwich'), (2369, 'village'), (2370, 'strip'), (2371, 'avenue'), (2372, 'crack'), (2373, 'selling'), (2374, 'four-year-old'), (2375, 'box'), (2376, 'routine'), (2377, 'spends'), (2378, 'night'), (2379, 'returns'), (2380, 'calls'), (2381, 'competing'), (2382, 'given'), (2383, 'blind'), (2384, 'girl'), (2385, 'cure'), (2386, 'charge'), (2387, 'returning'), (2388, 'murdered'), (2389, 'mother'), (2390, 'child'), (2391, 'turns'), (2392, 'blessing'), (2393, 'sense'), (2394, 'serious'), (2395, 'mission'), (2396, 'stakes'), (2397, 'woman'), (2398, 'children'), (2399, 'shop'), (2400, 'expensive'), (2401, 'apartment'), (2402, 'strongly'), (2403, 'camera'), (2404, 'final'), (2405, 'existence'), (2406, 'ends'), (2407, 'sound'), (2408, 'rough'), (2409, 'beaten'), (2410, 'voices'), (2411, 'french'), (2412, 'managed'), (2413, 'weird'), (2414, 'achievement'), (2415, 'harsh'), (2416, 'brilliant'), (2417, 'picture'), (2418, 'character'), (2419, 'viewed'), (2420, 'sympathetic'), (2421, 'historical'), (2422, 'significance'), (2423, 'executed'), (2424, 'germans'), (2425, 'thousands'), (2426, 'resistance'), (2427, 'needed'), (2428, 'enabled'), (2429, 'cocoa'), (2430, 'job'), (2431, 'killed'), (2432, 'client'), (2433, 'husband'), (2434, 'openly'), (2435, 'presented'), (2436, 'nice'), (2437, 'deserve'), (2438, 'recommend'), (2439, 'confused'), (2440, 'mexican'), (2441, 'revolution'), (2442, 'taken'), (2443, 'endless'), (2444, 'scenes'), (2445, 'fighting'), (2446, 'eating'), (2447, 'drinking'), (2448, 'mention'), (2449, 'movies'), (2450, 'bright'), (2451, 'spot'), (2452, 'peck'), (2453, 'loose'), (2454, 'energetic'), (2455, 'portrayal'), (2456, 'die'), (2457, 'video'), (2458, 'tip'), (2459, 'seeing'), (2460, 'look'), (2461, 'boeing'), (2462, 'discussing'), (2463, 'regular'), (2464, 'possibly'), (2465, 'larger'), (2466, 'discussions'), (2467, 'stages'), (2468, 'specific'), (2469, 'seattle'), (2470, 'industries'), (2471, 'mitsubishi'), (2472, 'fuji'), (2473, 'sections'), (2474, 'accounting'), (2475, 'aircraft'), (2476, 'press'), (2477, 'speculated'), (2478, 'contribution'), (2479, 'goes'), (2480, 'ahead'), (2481, 'plane'), (2482, 'hit'), (2483, 'mid-1990s'), (2484, 'negative'), (2485, 'secondary'), (2486, 'campaigns'), (2487, 'event'), (2488, 'irony'), (2489, 'attack'), (2490, 'commercial'), (2491, 'getting'), (2492, 'presidential'), (2493, 'campaign'), (2494, 'election'), (2495, 'scattered'), (2496, 'across'), (2497, 'ads'), (2498, 'fears'), (2499, 'empty'), (2500, 'issues'), (2501, 'era'), (2502, 'content'), (2503, 'politics'), (2504, 'art'), (2505, 'stage'), (2506, 'consultant'), (2507, 'your'), (2508, 'tv'), (2509, 'needs'), (2510, 'bold'), (2511, 'entertaining'), (2512, 'means'), (2513, 'fights'), (2514, 'commercials'), (2515, 'tone'), (2516, 'elections'), (2517, 'jersey'), (2518, 'virginia'), (2519, 'screen'), (2520, 'tight'), (2521, 'dinkins'), (2522, 'candidate'), (2523, 'income'), (2524, 'straight'), (2525, 'voice'), (2526, 'republican'), (2527, 'giuliani'), (2528, 'roger'), (2529, 'master'), (2530, 'gets'), (2531, 'contributions'), (2532, 'accurately'), (2533, 'links'), (2534, 'insurance'), (2535, 'convicted'), (2536, 'phony'), (2537, 'wait'), (2538, 'caught'), (2539, 'nasty'), (2540, 'corruption'), (2541, 'simply'), (2542, 'exist'), (2543, 'consultants'), (2544, 'finally'), (2545, 'shows'), (2546, 'distorted'), (2547, 'photos'), (2548, 'politicians'), (2549, 'compare'), (2550, 'candidates'), (2551, 'banning'), (2552, 'bullets'), (2553, 'opposed'), (2554, 'pro-choice'), (2555, 'choose'), (2556, 'telling'), (2557, 'truth'), (2558, 'everybody'), (2559, 'nobody'), (2560, 'classic'), (2561, 'situation'), (2562, 'accurate'), (2563, 'fail'), (2564, 'insists'), (2565, 'voluntarily'), (2566, 'admitted'), (2567, 'oversight'), (2568, 'secret'), (2569, 'refused'), (2570, 'matching'), (2571, 'incomplete'), (2572, 'errors'), (2573, 'know'), (2574, 'peter'), (2575, 'powers'), (2576, 'deceptive'), (2577, 'side'), (2578, 'argues'), (2579, 'knows'), (2580, 'reservations'), (2581, 'gov.'), (2582, 'wilder'), (2583, 'gubernatorial'), (2584, 'battle'), (2585, 'marshall'), (2586, 'coleman'), (2587, 'abortion'), (2588, 'agree'), (2589, 'tour'), (2590, 'de'), (2591, 'flag'), (2592, 'tradition'), (2593, 'freedom'), (2594, 'liberty'), (2595, 'generations'), (2596, 'jefferson'), (2597, 'wanted'), (2598, 'rape'), (2599, 'incest'), (2600, 'denies'), (2601, 'dynamics'), (2602, 'attorney'), (2603, 'series'), (2604, 'advertisements'), (2605, 'created'), (2606, 'bob'), (2607, 'goodman'), (2608, 'shake'), (2609, 'attracted'), (2610, 'featured'), (2611, 'suggested'), (2612, 'courtroom'), (2613, 'introduced'), (2614, 'victims'), (2615, 'younger'), (2616, 'lawyers'), (2617, 'accused'), (2618, 'tried'), (2619, 'pass'), (2620, 'legislative'), (2621, 'technique'), (2622, 'lawmakers'), (2623, 'grown'), (2624, 'tired'), (2625, 'gotten'), (2626, 'scientist'), (2627, 'mary'), (2628, 'devote'), (2629, 'remainder'), (2630, 'season'), (2631, 'positive'), (2632, 'truce'), (2633, 'lasted'), (2634, 'stations'), (2635, 'carrying'), (2636, 'featuring'), (2637, 'himself'), (2638, 'questions'), (2639, 'attacks'), (2640, 'rep.'), (2641, 'florio'), (2642, 'aired'), (2643, 'photograph'), (2644, 'jim'), (2645, 'courter'), (2646, 'remember'), (2647, 'female'), (2648, 'mean'), (2649, 'pictures'), (2650, 'focus'), (2651, 'hazardous'), (2652, 'waste'), (2653, 'neighbors'), (2654, 'suing'), (2655, 'fraud'), (2656, 'nose'), (2657, 'grows'), (2658, 'involved'), (2659, 'cry'), (2660, 'responded'), (2661, 'photographs'), (2662, 'lying'), (2663, 'asks'), (2664, 'barrel'), (2665, 'land'), (2666, 'heating'), (2667, 'pollution'), (2668, 'environment'), (2669, 'devastating'), (2670, 'credibility'), (2671, 'route'), (2672, 're-election'), (2673, 'rout'), (2674, 'democrat'), (2675, 'gop'), (2676, 'nelson'), (2677, 'rockefeller'), (2678, 'appeared'), (2679, 'chicago'), (2680, 'friday'), (2681, 'quoted'), (2682, 'aug.'), (2683, 'southeast'), (2684, 'region'), (2685, 'toward'), (2686, 'interviews'), (2687, 'suggest'), (2688, 'cooperation'), (2689, 'asian'), (2690, 'pursued'), (2691, 'fits'), (2692, 'starts'), (2693, 'domination'), (2694, 'fresh'), (2695, 'policy'), (2696, 'flow'), (2697, 'motion'), (2698, 'economies'), (2699, 'tripled'), (2700, 'commitments'), (2701, 'steep'), (2702, 'assistance'), (2703, 'pumping'), (2704, 'wages'), (2705, 'forcing'), (2706, 'sites'), (2707, 'known'), (2708, 'contributing'), (2709, 'influence'), (2710, 'subordinate'), (2711, 'spur'), (2712, 'military'), (2713, 'fearful'), (2714, 'falling'), (2715, 'budget'), (2716, 'constraints'), (2717, 'encourages'), (2718, 'burdens'), (2719, 'ground'), (2720, 'coming'), (2721, 'decade'), (2722, 'comes'), (2723, 'swelling'), (2724, 'evolution'), (2725, 'concentrated'), (2726, '1990s'), (2727, 'spurred'), (2728, 'plants'), (2729, 'accommodate'), (2730, 'decisions'), (2731, 'lender'), (2732, 'california'), (2733, 'graduate'), (2734, 'parallel'), (2735, 'approach'), (2736, 'sectors'), (2737, 'specialist'), (2738, 'east'), (2739, 'wilson'), (2740, 'princeton'), (2741, 'indonesia'), (2742, 'effect'), (2743, 'pull'), (2744, 'integrated'), (2745, 'closer'), (2746, 'ministers'), (2747, 'discuss'), (2748, 'regional'), (2749, 'transportation'), (2750, 'telecommunications'), (2751, 'participants'), (2752, 'zealand'), (2753, 'speech'), (2754, 'baker'), (2755, 'intention'), (2756, 'taking'), (2757, 'shape'), (2758, 'friends'), (2759, 'crucial'), (2760, 'designing'), (2761, 'architecture'), (2762, 'difficult'), (2763, 'dominance'), (2764, 'flows'), (2765, 'remains'), (2766, 'optimism'), (2767, 'convey'), (2768, 'caution'), (2769, 'understanding'), (2770, 'functions'), (2771, 'attitude'), (2772, 'net'), (2773, 'gain'), (2774, 'everyone'), (2775, 'step'), (2776, 'ease'), (2777, 'security'), (2778, 'uncertainty'), (2779, 'leases'), (2780, 'bases'), (2781, 'troop'), (2782, 'regard'), (2783, 'desirable'), (2784, 'try'), (2785, 'lee'), (2786, 'pennsylvania'), (2787, 'rice'), (2788, 'hardly'), (2789, 'eyes'), (2790, 'comprehensive'), (2791, 'test'), (2792, 'basic'), (2793, 'skills'), (2794, 'ninth'), (2795, 'greenville'), (2796, 'spotted'), (2797, 'seen'), (2798, 'cheating'), (2799, 'notes'), (2800, 'profession'), (2801, 'germany'), (2802, 'surrendered'), (2803, 'passed'), (2804, 'forms'), (2805, 'word'), (2806, 'matched'), (2807, 'answers'), (2808, 'section'), (2809, 'protest'), (2810, 'my'), (2811, 'teacher'), (2812, 'ok'), (2813, 'me'), (2814, 'nancy'), (2815, 'yeargin'), (2816, 'students'), (2817, 'parents'), (2818, 'confronted'), (2819, 'examination'), (2820, 'geography'), (2821, 'classes'), (2822, 'gone'), (2823, 'display'), (2824, 'prosecuted'), (2825, 'unusual'), (2826, 'carolina'), (2827, 'breach'), (2828, 'pleaded'), (2829, 'guilty'), (2830, 'alternative'), (2831, 'jail'), (2832, 'partly'), (2833, 'won'), (2834, 'inspired'), (2835, 'teach'), (2836, 'wake'), (2837, 'anger'), (2838, 'colleagues'), (2839, 'defended'), (2840, 'treated'), (2841, 'stunned'), (2842, 'nature'), (2843, 'actions'), (2844, 'light'), (2845, 'dark'), (2846, 'reform'), (2847, 'teachers'), (2848, 'testing'), (2849, 'enhanced'), (2850, 'temptation'), (2851, 'statute'), (2852, 'violated'), (2853, 'enforce'), (2854, 'provisions'), (2855, 'laws'), (2856, 'alleged'), (2857, 'bolster'), (2858, 'scores'), (2859, 'bonus'), (2860, 'education'), (2861, 'depended'), (2862, 'ability'), (2863, 'incredible'), (2864, 'pressure'), (2865, 'walt'), (2866, 'educators'), (2867, 'wrongdoing'), (2868, 'n.m.'), (2869, 'concluded'), (2870, 'outright'), (2871, 'standardized'), (2872, 'greatly'), (2873, 'inflated'), (2874, 'widespread'), (2875, 'surfaced'), (2876, 'states'), (2877, 'suspects'), (2878, 'adult'), (2879, 'wrong'), (2880, 'ones'), (2881, 'statewide'), (2882, 'numerous'), (2883, 'practices'), (2884, 'booklets'), (2885, 'classroom'), (2886, 'instruction'), (2887, 'booming'), (2888, 'scoring'), (2889, 'learning'), (2890, 'nothing'), (2891, 'sophisticated'), (2892, 'academic'), (2893, 'telegraph'), (2894, 'precise'), (2895, 'concentrate'), (2896, 'county'), (2897, 'district'), (2898, 'experts'), (2899, 'promotions'), (2900, 'entire'), (2901, 'districts'), (2902, 'extra'), (2903, 'lab'), (2904, 'grants'), (2905, 'projects'), (2906, 'reforms'), (2907, 'posts'), (2908, 'lowest'), (2909, 'sat'), (2910, 'primary'), (2911, 'critics'), (2912, 'stressing'), (2913, 'worst'), (2914, 'administrators'), (2915, 'seriously'), (2916, 'allegations'), (2917, 'foundation'), (2918, 'unfair'), (2919, 'worries'), (2920, 'abuse'), (2921, 'keeping'), (2922, 'track'), (2923, 'preparation'), (2924, 'textile'), (2925, 'educated'), (2926, 'governors'), (2927, 'nobel'), (2928, 'prize'), (2929, 'winning'), (2930, 'actress'), (2931, '1980s'), (2932, 'glory'), (2933, 'faded'), (2934, 'yellow'), (2935, 'bricks'), (2936, 'broad'), (2937, 'violence'), (2938, 'gangs'), (2939, 'kids'), (2940, 'linda'), (2941, 'ward'), (2942, 'awful'), (2943, 'programs'), (2944, 'seventh'), (2945, 'immediate'), (2946, 'predecessor'), (2947, 'suffered'), (2948, 'nervous'), (2949, 'breakdown'), (2950, 'prior'), (2951, 'term'), (2952, 'death'), (2953, 'halls'), (2954, 'trouble'), (2955, 'serving'), (2956, 'evenly'), (2957, 'split'), (2958, 'elite'), (2959, 'neighborhoods'), (2960, 'blacks'), (2961, 'inner'), (2962, 'resolved'), (2963, 'clean'), (2964, 'faculty'), (2965, 'restore'), (2966, 'safety'), (2967, 'behalf'), (2968, 'overall'), (2969, 'educational'), (2970, 'funding'), (2971, 'ambitions'), (2972, 'reformers'), (2973, 'dismissal'), (2974, 'loved'), (2975, 'things'), (2976, 'restructured'), (2977, 'staff'), (2978, 'struggled'), (2979, 'fast'), (2980, 'favorite'), (2981, 'encouraged'), (2982, 'taught'), (2983, 'creation'), (2984, 'encourage'), (2985, 'teaching'), (2986, 'advised'), (2987, 'cultural'), (2988, 'chosen'), (2989, 'lady'), (2990, 'freshman'), (2991, 'studying'), (2992, 'beth'), (2993, \"'ve\"), (2994, 'green'), (2995, 'distinguished'), (2996, 'herself'), (2997, 'approaches'), (2998, 'pair'), (2999, 'prepare'), (3000, 'furniture'), (3001, \"'d\"), (3002, 'stands'), (3003, 'football'), (3004, 'fellow'), (3005, 'told'), (3006, 'pushing'), (3007, 'deteriorating'), (3008, 'hearing'), (3009, 'feared'), (3010, 'helping'), (3011, 'earn'), (3012, 'points'), (3013, 'source'), (3014, 'meant'), (3015, 'meaningful'), (3016, 'salary'), (3017, 'third'), (3018, 'others'), (3019, 'eager'), (3020, 'pride'), (3021, 'elizabeth'), (3022, 'indeed'), (3023, 'interested'), (3024, 'attending'), (3025, 'returned'), (3026, 'adequately'), (3027, 'studies'), (3028, 'admits'), (3029, 'mistake'), (3030, 'correct'), (3031, 'subjects'), (3032, 'bottom'), (3033, 'newspapers'), (3034, 'mostly'), (3035, 'prevent'), (3036, 'badly'), (3037, 'broke'), (3038, 'heart'), (3039, 'whole'), (3040, 'alive'), (3041, 'desperately'), (3042, 'somebody'), (3043, 'blow'), (3044, 'advanced'), (3045, 'pretty'), (3046, 'joe'), (3047, 'watson'), (3048, 'prosecutor'), (3049, 'concedes'), (3050, 'adding'), (3051, 'hands'), (3052, 'discovered'), (3053, 'avoid'), (3054, 'disclosure'), (3055, 'trial'), (3056, 'quiet'), (3057, 'resignation'), (3058, 'save'), (3059, 'certificate'), (3060, 'recalls'), (3061, 'someone'), (3062, 'authorities'), (3063, 'dismissed'), (3064, 'crowded'), (3065, 'testify'), (3066, 'supportive'), (3067, 'callers'), (3068, 'radio'), (3069, 'policies'), (3070, 'host'), (3071, 'allowed'), (3072, 'first-time'), (3073, 'offenders'), (3074, 'conviction'), (3075, 'worthy'), (3076, 'murder'), (3077, 'witnesses'), (3078, 'interviewed'), (3079, 'crushed'), (3080, 'explain'), (3081, 'familiar'), (3082, 'shirts'), (3083, 'angry'), (3084, 'harm'), (3085, 'damn'), (3086, 'incident'), (3087, 'doubt'), (3088, 'wisdom'), (3089, 'evaluating'), (3090, 'realized'), (3091, 'afraid'), (3092, 'relieved'), (3093, 'sentiment'), (3094, 'favor'), (3095, 'jury'), (3096, 'touched'), (3097, 'slate'), (3098, 'answer'), (3099, 'widely'), (3100, 'roman'), (3101, 'add'), (3102, 'parent'), (3103, 'britain'), (3104, 'communication'), (3105, 'parallels'), (3106, 'mich.'), (3107, 'gauge'), (3108, 'eighth'), (3109, 'grade'), (3110, 'cat'), (3111, 'iowa'), (3112, 'metropolitan'), (3113, 'arizona'), (3114, 'florida'), (3115, 'louisiana'), (3116, 'maryland'), (3117, 'tools'), (3118, 'kean'), (3119, 'publishes'), (3120, 'aimed'), (3121, 'improving'), (3122, 'referred'), (3123, 'michigan'), (3124, 'similarity'), (3125, 'devised'), (3126, 'scale'), (3127, 'measured'), (3128, 'metric'), (3129, 'measurement'), (3130, 'volume'), (3131, 'pie'), (3132, 'bar'), (3133, 'intent'), (3134, 'knowledge'), (3135, 'sounds'), (3136, 'exclusion'), (3137, 'contains'), (3138, 'examples'), (3139, 'matches'), (3140, 'rick'), (3141, 'ignoring'), (3142, 'need'), (3143, 'format'), (3144, 'deny'), (3145, 'publication'), (3146, 'random'), (3147, 'advisory'), (3148, 'represented'), (3149, 'sacramento'), (3150, 'loan'), (3151, 'c.'), (3152, 's&l'), (3153, 'offices'), (3154, 'north'), (3155, 'services'), (3156, 'fetal-tissue'), (3157, 'transplants'), (3158, 'tissue'), (3159, 'humans'), (3160, 'anti-abortionists'), (3161, 'oppose'), (3162, 'abortions'), (3163, 'mason'), (3164, 'transplant'), (3165, 'indefinitely'), (3166, 'wo'), (3167, 'stop'), (3168, 'privately'), (3169, 'funded'), (3170, 'federally'), (3171, 'involve'), (3172, 'hhs'), (3173, 'louis'), (3174, 'sullivan'), (3175, 'letter'), (3176, 'acting'), (3177, 'institutes'), (3178, 'threatened'), (3179, 'controversy'), (3180, 'implications'), (3181, 'brain'), (3182, 'patient'), (3183, 'suffering'), (3184, 'scientific'), (3185, 'ethical'), (3186, 'majority'), (3187, 'panel'), (3188, 'recommended'), (3189, 'carefully'), (3190, 'controlled'), (3191, 'anti-abortion'), (3192, 'dispute'), (3193, 'hampered'), (3194, 'administration'), (3195, 'recruit'), (3196, 'prominent'), (3197, 'doctors'), (3198, 'fill'), (3199, 'prestigious'), (3200, 'helm'), (3201, 'nih'), (3202, 'withdrawn'), (3203, 'names'), (3204, 'consideration'), (3205, 'views'), (3206, 'antonio'), (3207, 'novello'), (3208, 'serve'), (3209, 'surgeon'), (3210, 'reportedly'), (3211, 'assured'), (3212, 'opposes'), (3213, 'charged'), (3214, 'imposing'), (3215, 'ideological'), (3216, 'moves'), (3217, 'judgments'), (3218, 'applications'), (3219, 'associate'), (3220, 'dean'), (3221, 'yale'), (3222, 'debate'), (3223, 'mechanism'), (3224, 'exists'), (3225, 'middle'), (3226, 'conducting'), (3227, 'warns'), (3228, 'discourage'), (3229, 'climate'), (3230, 'visible'), (3231, 'foundations'), (3232, 'fronts'), (3233, 'damaged'), (3234, 'genes'), (3235, 'cause'), (3236, 'syndrome'), (3237, 'mental'), (3238, 'summary'), (3239, 'interstate'), (3240, 'over-the-counter'), (3241, 'slightly'), (3242, 'lackluster'), (3243, 'turnover'), (3244, 'busiest'), (3245, 'averaged'), (3246, 'roughly'), (3247, 'biggest'), (3248, 'gained'), (3249, 'modestly'), (3250, 'tracks'), (3251, 'connecticut'), (3252, 'trust'), (3253, 'regions'), (3254, 'merge'), (3255, 'massachusetts'), (3256, 'merged'), (3257, 'traders'), (3258, 'real-estate'), (3259, 'takeover'), (3260, 'targets'), (3261, 'speculators'), (3262, 'anticipating'), (3263, 'approve'), (3264, 'permitting'), (3265, 'immediately'), (3266, 'water'), (3267, 'saw'), (3268, 'uptick'), (3269, 'trader'), (3270, 'otc'), (3271, 'bancorp'), (3272, 'expires'), (3273, 'ed'), (3274, 'fared'), (3275, 'constitution'), (3276, 'signed'), (3277, 'merger'), (3278, 'l.p.'), (3279, 'london-based'), (3280, 'third-quarter'), (3281, 'pretax'), (3282, 'mobile'), (3283, 'dan'), (3284, 'one-time'), (3285, 'substantially'), (3286, 'losses'), (3287, 'associated'), (3288, 'core'), (3289, 'assuming'), (3290, 'dramatic'), (3291, 'achieve'), (3292, 'weisfield'), (3293, 'ratners'), (3294, 'definitive'), (3295, 'jaguar'), (3296, 'heritage'), (3297, 'media'), (3298, 'acquiring'), (3299, 'pop'), (3300, 'swap'), (3301, 'tumbled'), (3302, 'rally'), (3303, 'lost'), (3304, 'restaurant'), (3305, 'operator'), (3306, 'redeemed'), (3307, 'resolve'), (3308, 'burt'), (3309, 'sugarman'), (3310, 'trotter'), (3311, 'sci'), (3312, 'slipped'), (3313, 'ala.'), (3314, 'fiscal'), (3315, 'quarter'), (3316, 'sept.'), (3317, 'year-earlier'), (3318, 'criminal'), (3319, 'detailed'), (3320, 'warnings'), (3321, 'attorneys'), (3322, 'cities'), (3323, 'outcry'), (3324, 'organized'), (3325, 'protected'), (3326, 'privilege'), (3327, 'irs'), (3328, 'stem'), (3329, 'receives'), (3330, 'customer'), (3331, 'transactions'), (3332, 'payment'), (3333, 'document'), (3334, 'failure'), (3335, 'punishable'), (3336, 'felony'), (3337, 'prison'), (3338, 'argued'), (3339, 'wish'), (3340, 'citing'), (3341, 'rarely'), (3342, 'acted'), (3343, 'witness'), (3344, 'neal'), (3345, 'miami'), (3346, 'dozens'), (3347, 'letters'), (3348, 'sent'), (3349, 'certified'), (3350, 'mail'), (3351, 'drug'), (3352, 'individuals'), (3353, 'necessarily'), (3354, 'hire'), (3355, 'circumstances'), (3356, 'retained'), (3357, 'filling'), (3358, 'spark'), (3359, 'formed'), (3360, 'gerald'), (3361, 'delegates'), (3362, 'resolution'), (3363, 'requirement'), (3364, 'aba'), (3365, 'grand'), (3366, 'prohibited'), (3367, 'ethics'), (3368, 'disclosing'), (3369, 'committing'), (3370, 'justice'), (3371, 'taxpayers'), (3372, 'notice'), (3373, 'moderate'), (3374, 'stance'), (3375, 'christopher'), (3376, 'detroit'), (3377, 'submit'), (3378, 'initiated'), (3379, 'dating'), (3380, 'permission'), (3381, 'obtained'), (3382, 'develop'), (3383, 'sending'), (3384, 'relating'), (3385, 'confidential'), (3386, 'judicial'), (3387, 'salaries'), (3388, 'victim'), (3389, 'judges'), (3390, 'lucrative'), (3391, 'fanfare'), (3392, 'ramirez'), (3393, 'calif'), (3394, 'san'), (3395, 'francisco'), (3396, 'refusal'), (3397, 'couple'), (3398, 'professional'), (3399, 'accountants'), (3400, 'eye'), (3401, 'sudden'), (3402, 'sum'), (3403, 'litigation'), (3404, 'detail'), (3405, 'high-priced'), (3406, 'troubles'), (3407, 'laughing'), (3408, 'trudeau'), (3409, 'guild'), (3410, 'america'), (3411, 'alleging'), (3412, 'mounted'), (3413, 'punish'), (3414, 'crossing'), (3415, 'picket'), (3416, 'involves'), (3417, 'productions'), (3418, 'member'), (3419, 'employed'), (3420, 'lawsuit'), (3421, 'illegally'), (3422, 'reviewing'), (3423, 'suit'), (3424, 'disciplinary'), (3425, 'k.'), (3426, 'consists'), (3427, 'mainly'), (3428, 'threats'), (3429, 'punishment'), (3430, 'damages'), (3431, 'seeks'), (3432, 'preventing'), (3433, 'adopted'), (3434, 'prohibits'), (3435, 'title'), (3436, 'x'), (3437, 'assist'), (3438, 'obtaining'), (3439, 'counseling'), (3440, 'activities'), (3441, 'promote'), (3442, 'advocate'), (3443, 'opinion'), (3444, 'restrictions'), (3445, 'violate'), (3446, 'care'), (3447, 'limits'), (3448, 'pregnant'), (3449, 'inquiry'), (3450, 'clears'), (3451, 'bias'), (3452, 'comments'), (3453, 'homosexual'), (3454, 'dallas'), (3455, 'jack'), (3456, 'sparked'), (3457, 'remarks'), (3458, 'december'), (3459, 'sentencing'), (3460, 'defendant'), (3461, 'killing'), (3462, 'park'), (3463, 'referring'), (3464, 'picking'), (3465, 'boys'), (3466, 'murray'), (3467, 'appointed'), (3468, 'fairness'), (3469, 'commenting'), (3470, 'judiciary'), (3471, 'impose'), (3472, 'gaf'), (3473, 'opening'), (3474, 'arguments'), (3475, 'manhattan'), (3476, 'lowe'), (3477, 'indictment'), (3478, 'wayne'), (3479, 'n.j.'), (3480, 'specialty'), (3481, 'sherwin'), (3482, 'attempting'), (3483, 'manipulate'), (3484, 'carbide'), (3485, 'trials'), (3486, 'switching'), (3487, 'prosecution'), (3488, 'affair'), (3489, 'mayer'), (3490, 'brown'), (3491, 'oliver'), (3492, 'd.c.'), (3493, 'specialize'), (3494, 'white-collar'), (3495, 'served'), (3496, 'narcotics'), (3497, 'tire'), (3498, 'rubber'), (3499, 'principle'), (3500, 'albany'), (3501, 'ga.'), (3502, 'inc'), (3503, 'consist'), (3504, 'square'), (3505, 'feet'), (3506, 'acres'), (3507, 'bids'), (3508, 'leaders'), (3509, 'statement'), (3510, 'pricing'), (3511, 'equivalent'), (3512, 'penny'), (3513, 'municipal'), (3514, 'no.'), (3515, 'alone'), (3516, 'competitors'), (3517, 'auctions'), (3518, 'summoned'), (3519, 'sure'), (3520, 'understood'), (3521, 'fair'), (3522, 'investigating'), (3523, 'violations'), (3524, 'packed'), (3525, 'headquarters'), (3526, 'contrary'), (3527, 'sorry'), (3528, 'embarrassing'), (3529, 'situations'), (3530, 'reputation'), (3531, 'profits'), (3532, 'benefits'), (3533, 'accepted'), (3534, 'normal'), (3535, 'accepting'), (3536, 'gifts'), (3537, 'businessmen'), (3538, 'fire'), (3539, 'fueled'), (3540, 'behavior'), (3541, 'complaints'), (3542, 'touch'), (3543, 'foreigners'), (3544, 'complain'), (3545, 'limited'), (3546, 'access'), (3547, 'procurement'), (3548, 'unfairly'), (3549, 'undercut'), (3550, 'slashing'), (3551, 'semiconductors'), (3552, 'hurt'), (3553, 'minus'), (3554, 'factor'), (3555, 'hiroshima'), (3556, 'design'), (3557, 'waterworks'), (3558, 'library'), (3559, 'municipalities'), (3560, 'emerge'), (3561, 'insisted'), (3562, 'contacted'), (3563, 'federation'), (3564, 'papers'), (3565, 'atlantic'), (3566, 'publications'), (3567, 'community'), (3568, 'cbs'), (3569, 'communications'), (3570, 'retaining'), (3571, 'operates'), (3572, 'retail'), (3573, 'furukawa'), (3574, 'machinery'), (3575, 'locally'), (3576, 'german'), (3577, 'structural'), (3578, 'productivity'), (3579, 'thrifts'), (3580, 'compiled'), (3581, 'monitor'), (3582, 'b'), (3583, 'minimum'), (3584, 'lsi'), (3585, 'logic'), (3586, 'surprise'), (3587, 'semiconductor'), (3588, 'lagging'), (3589, 'billings'), (3590, 'cover'), (3591, 'extended'), (3592, 'weakness'), (3593, 'switch'), (3594, 'techniques'), (3595, 'wilfred'), (3596, 'midyear'), (3597, 'phase'), (3598, 'oldest'), (3599, 'appropriate'), (3600, 'counting'), (3601, 'extraordinary'), (3602, 'older'), (3603, 'silicon'), (3604, 'converting'), (3605, 'santa'), (3606, 'clara'), (3607, 'calif.'), (3608, 'facility'), (3609, 'speculate'), (3610, 'additions'), (3611, 'aggressively'), (3612, 'suddenly'), (3613, 'poorly'), (3614, 'positioned'), (3615, 'stark'), (3616, 'robertson'), (3617, 'dead'), (3618, 'facing'), (3619, 'traditionally'), (3620, 'buyers'), (3621, 'jitters'), (3622, 'lake'), (3623, 'n.j'), (3624, 'g.'), (3625, 'buoyed'), (3626, 'cautiously'), (3627, 'bearish'), (3628, 'kept'), (3629, 'plunging'), (3630, 'locked'), (3631, 'narrow'), (3632, 'offset'), (3633, 'resulting'), (3634, 'jay'), (3635, 'insight'), (3636, 'reasons'), (3637, 'lure'), (3638, 'driving'), (3639, 'tom'), (3640, 'banque'), (3641, 'paribas'), (3642, 'convinced'), (3643, 'erode'), (3644, 'sterling'), (3645, 'thursday'), (3646, 'madison'), (3647, 'los'), (3648, 'angeles'), (3649, 'solid'), (3650, 'wave'), (3651, 'waiting'), (3652, 'wings'), (3653, 'contends'), (3654, 'perception'), (3655, 'columbia'), (3656, 'entertainment'), (3657, 'cites'), (3658, 'knight'), (3659, 'undisclosed'), (3660, 'georgia-pacific'), (3661, 'northern'), (3662, 'nekoosa'), (3663, '10-year'), (3664, 'valued'), (3665, 'speculation'), (3666, 'unclear'), (3667, 'rolled'), (3668, 'prospect'), (3669, 'lock'), (3670, 'high-yield'), (3671, 'merely'), (3672, 'drifted'), (3673, 'release'), (3674, 'expectations'), (3675, 'minimal'), (3676, 'commodity'), (3677, 'ounce'), (3678, 'ounces'), (3679, 'cosby'), (3680, 'ratings'), (3681, 'nbc'), (3682, 'debut'), (3683, 'keeps'), (3684, 'viewers'), (3685, 'network'), (3686, 'affiliates'), (3687, 'air'), (3688, 'considerably'), (3689, 'episodes'), (3690, 'distributor'), (3691, 'viacom'), (3692, 'losing'), (3693, 'persuade'), (3694, 'tactics'), (3695, 'willing'), (3696, 'negotiate'), (3697, 'midwest'), (3698, 'tell'), (3699, \"'ll\"), (3700, 'flooded'), (3701, 'networks'), (3702, 'station'), (3703, 'a.c.'), (3704, 'nielsen'), (3705, 'r.i.'), (3706, 'n.c.'), (3707, 'louisville'), (3708, 'ky.'), (3709, 'renew'), (3710, 'dick'), (3711, 'disappointment'), (3712, 'pleased'), (3713, 'adds'), (3714, 'disappointed'), (3715, 'uncomfortable'), (3716, 'frankly'), (3717, 'quite'), (3718, 'georgia'), (3719, 'officially'), (3720, 'atlanta-based'), (3721, 'conventional'), (3722, 'life-insurance'), (3723, 'magazines'), (3724, 'articles'), (3725, 'survive'), (3726, 'downright'), (3727, 'garbage'), (3728, 'billed'), (3729, 'practical'), (3730, 'founded'), (3731, 'brooklyn'), (3732, 'n.y.'), (3733, 'entrepreneur'), (3734, 'promise'), (3735, 'crisis'), (3736, 'combines'), (3737, 'pieces'), (3738, 'topics'), (3739, 'happens'), (3740, 'flush'), (3741, 'toilet'), (3742, 'editors'), (3743, 'considerable'), (3744, 'supermarket'), (3745, 'identify'), (3746, 'guys'), (3747, 'feature'), (3748, 'standpoint'), (3749, 'would-be'), (3750, 'campbell'), (3751, 'soup'), (3752, 'microwave'), (3753, 'premiere'), (3754, 'column'), (3755, 'pointing'), (3756, 'packaging'), (3757, 'foam'), (3758, 'plastic'), (3759, 'landfill'), (3760, 'monster'), (3761, 'wrote'), (3762, 'practicing'), (3763, 'opportunity'), (3764, 'modifications'), (3765, 'printed'), (3766, 'portrayed'), (3767, 'surprisingly'), (3768, 'turning'), (3769, 'mike'), (3770, 'ddb'), (3771, 'needham'), (3772, 'economics'), (3773, 'big-time'), (3774, 'handful'), (3775, 'coors'), (3776, 'spend'), (3777, 'relied'), (3778, 'haul'), (3779, 'print'), (3780, 'publisher'), (3781, 'initially'), (3782, 'subscription'), (3783, 'revenues'), (3784, 'yearly'), (3785, 'recycled'), (3786, 'scared'), (3787, 'replies'), (3788, 'sleep'), (3789, 'interpublic'), (3790, 'programming'), (3791, 'expanded'), (3792, 'original'), (3793, 'largely'), (3794, 'supplier'), (3795, 'philadelphia'), (3796, 'palmer'), (3797, 'handled'), (3798, 'baltimore'), (3799, 'at&t'), (3800, 'fax'), (3801, 'ogilvy'), (3802, 'mather'), (3803, 'wpp'), (3804, 'rubicam'), (3805, 'enterprise'), (3806, 'breaks'), (3807, 'st.'), (3808, 'specializes'), (3809, 'pitches'), (3810, 'pittsburgh'), (3811, 'sea'), (3812, 'containers'), (3813, 'buy-back'), (3814, 'pressed'), (3815, 'temple'), (3816, 'hamilton'), (3817, 'shipping'), (3818, 'proceeds'), (3819, 'apiece'), (3820, 'hostile'), (3821, 'ag'), (3822, 'sweetened'), (3823, 'approximately'), (3824, 'allocated'), (3825, 'leaving'), (3826, 'flexibility'), (3827, 'raises'), (3828, 'criticized'), (3829, 'conditional'), (3830, 'device'), (3831, 'superior'), (3832, 'asset'), (3833, 'converted'), (3834, 'possibility'), (3835, 'subsidiaries'), (3836, 'mired'), (3837, 'barred'), (3838, 'reaction'), (3839, 'responding'), (3840, 'advocates'), (3841, 'steps'), (3842, 'vans'), (3843, 'requirements'), (3844, 'automobiles'), (3845, 'requiring'), (3846, 'minivans'), (3847, 'belts'), (3848, 'rear'), (3849, 'model'), (3850, 'samuel'), (3851, 'skinner'), (3852, 'represents'), (3853, 'ongoing'), (3854, 'vehicle'), (3855, 'extension'), (3856, 'car'), (3857, 'equipped'), (3858, 'surprising'), (3859, 'urging'), (3860, 'actually'), (3861, 'cargo'), (3862, 'therefore'), (3863, 'luck'), (3864, 'reagan'), (3865, 'fairly'), (3866, 'address'), (3867, 'chuck'), (3868, 'highway'), (3869, 'sen.'), (3870, 'praised'), (3871, 'noting'), (3872, 'crashes'), (3873, 'bags'), (3874, 'automatic'), (3875, 'weighing'), (3876, 'pounds'), (3877, 'withstand'), (3878, 'weight'), (3879, 'depressed'), (3880, 'inches'), (3881, 'shoulder'), (3882, 'installed'), (3883, 'deadline'), (3884, 'engineer'), (3885, 'ford'), (3886, 'crew'), (3887, 'rail'), (3888, 'autos'), (3889, 'heights'), (3890, 'ill'), (3891, 'railroad'), (3892, 'sir'), (3893, 'walters'), (3894, 'petroleum'), (3895, 'joins'), (3896, 'cement'), (3897, 'circle'), (3898, 'formal'), (3899, 'longstanding'), (3900, 'opposition'), (3901, 'within'), (3902, 'dow'), (3903, 'jones'), (3904, 'options'), (3905, 'conversations'), (3906, 'interesting'), (3907, 'prevailing'), (3908, 'passage'), (3909, 'slump'), (3910, 'lay'), (3911, 'altogether'), (3912, 'employment'), (3913, 'exclusively'), (3914, 'leasing'), (3915, 'reduced'), (3916, 'payable'), (3917, 'jan.'), (3918, 'hair'), (3919, 'accessories'), (3920, 'cosmetic'), (3921, 'year-ago'), (3922, 'anti-takeover'), (3923, 'henderson'), (3924, 'u.k.'), (3925, 'metals'), (3926, 'succeeding'), (3927, 'ian'), (3928, 'butler'), (3929, 'retiring'), (3930, 'cent'), (3931, 'redemption'), (3932, 'upon'), (3933, 'warren'), (3934, 'leap'), (3935, 'wine'), (3936, 'tag'), (3937, 'cabernet'), (3938, 'shops'), (3939, 'experience'), (3940, 'declared'), (3941, 'diamond'), (3942, 'creek'), (3943, 'weighed'), (3944, 'bottle'), (3945, 'fastest'), (3946, 'segments'), (3947, 'category'), (3948, 'wines'), (3949, 'quality'), (3950, 'perceived'), (3951, 'stable'), (3952, 'la'), (3953, 'magnitude'), (3954, 'flashy'), (3955, 'releases'), (3956, 'lion'), (3957, 'bottles'), (3958, 'smallest'), (3959, 'lighter'), (3960, 'vintage'), (3961, 'prestige'), (3962, 'barrier'), (3963, 'salon'), (3964, 'soared'), (3965, 'steal'), (3966, 'precious'), (3967, 'anywhere'), (3968, 'angelo'), (3969, 'command'), (3970, 'larry'), (3971, 'shapiro'), (3972, 'happening'), (3973, 'scarce'), (3974, 'exhausted'), (3975, 'newer'), (3976, 'bargain'), (3977, 'perfectly'), (3978, 'yielded'), (3979, 'owner'), (3980, 'al'), (3981, 'originally'), (3982, 'retailer'), (3983, 'wholesale'), (3984, 'merchants'), (3985, 'check'), (3986, 'responses'), (3987, 'yes'), (3988, 'shipped'), (3989, 'spread'), (3990, 'thin'), (3991, 'retailers'), (3992, 'suburban'), (3993, 'opinions'), (3994, 'thinks'), (3995, 'dramatically'), (3996, 'wins'), (3997, 'talked'), (3998, 'excited'), (3999, 'collection'), (4000, 'sort'), (4001, 'dunn'), (4002, 'appeal'), (4003, 'explains'), (4004, 'rapidly'), (4005, 'knowledgeable'), (4006, 'orleans'), (4007, 'equally'), (4008, 'movement'), (4009, 'forced'), (4010, 'push'), (4011, 'lowering'), (4012, 'beautiful'), (4013, 'ideas'), (4014, 'walking'), (4015, 'door'), (4016, 'moment'), (4017, 'looming'), (4018, 'holidays'), (4019, 'free-lance'), (4020, 'upward'), (4021, 'richmond'), (4022, 'posting'), (4023, 'fourth'), (4024, 'agrees'), (4025, 'kansas'), (4026, 'stated'), (4027, 'objective'), (4028, 'hopefully'), (4029, 'downward'), (4030, 'expecting'), (4031, 'easier'), (4032, 'plunge'), (4033, 'shown'), (4034, 'weak'), (4035, 'slower'), (4036, 'discretionary'), (4037, 'halt'), (4038, 'divided'), (4039, 'presidents'), (4040, 'excesses'), (4041, 'tilt'), (4042, 'chance'), (4043, 'mailing'), (4044, 'exercised'), (4045, 'hotels'), (4046, 'exercise'), (4047, 'merchant'), (4048, 'steelmaker'), (4049, 'steelworkers'), (4050, 'tube'), (4051, 'expired'), (4052, 'vote'), (4053, 'reject'), (4054, 'pact'), (4055, 'postponed'), (4056, 'congressional'), (4057, 'fails'), (4058, 'disruption'), (4059, 'schedule'), (4060, 'taxpayer'), (4061, 'nicholas'), (4062, 'brady'), (4063, 'redeem'), (4064, 'maturing'), (4065, 'refunding'), (4066, 'three-year'), (4067, 'auctioned'), (4068, '30-year'), (4069, 'when-issued'), (4070, 'approves'), (4071, 'clearing'), (4072, 'two-year'), (4073, 'five-year'), (4074, 'estimates'), (4075, 'decides'), (4076, 'aim'), (4077, 'lancaster'), (4078, 'foods'), (4079, 'marketer'), (4080, 'frozen'), (4081, 'pasta'), (4082, 'advantage'), (4083, 'fractionally'), (4084, 'finished'), (4085, 'advancing'), (4086, 'enthusiasm'), (4087, 'rushed'), (4088, 'sight'), (4089, 'pattern'), (4090, 'benchmark'), (4091, 'afternoon'), (4092, 'mitsui'), (4093, 'mining'), (4094, 'eaton'), (4095, 'sierra'), (4096, 'supplies'), (4097, 'harold'), (4098, 'simmons'), (4099, 'nl'), (4100, 'gulf'), (4101, 'chemicals'), (4102, 'restructure'), (4103, 'rebuffed'), (4104, 'alternatives'), (4105, 'proposals'), (4106, 'reviewed'), (4107, 'regarding'), (4108, 'eliminated'), (4109, 'various'), (4110, 'proof'), (4111, 'aggressive'), (4112, 'pit'), (4113, 'bull'), (4114, 'morgan'), (4115, 'stanley'), (4116, 'valhi'), (4117, 'two-thirds'), (4118, 'surprised'), (4119, 'cited'), (4120, 'becomes'), (4121, 'unchanged'), (4122, 'proposing'), (4123, 'subordinated'), (4124, 'junk-bond'), (4125, 'collapsed'), (4126, 'likelihood'), (4127, 'hundred'), (4128, 'agreeing'), (4129, 'consent'), (4130, 'jerry'), (4131, 'respond'), (4132, 'solicitation'), (4133, 'replacing'), (4134, 'friendly'), (4135, 'apparently'), (4136, 'nominal'), (4137, 'earned'), (4138, 'licensing'), (4139, 'representing'), (4140, 'challenging'), (4141, 'punitive'), (4142, 'license'), (4143, 'elsewhere'), (4144, 'albert'), (4145, 'researcher'), (4146, '1960s'), (4147, 'combat'), (4148, 'licensed'), (4149, 'criticism'), (4150, 'acquisitions'), (4151, 'color'), (4152, 'disagree'), (4153, 'removal'), (4154, 'barriers'), (4155, 'focusing'), (4156, 'differences'), (4157, 'initiative'), (4158, 'rhetoric'), (4159, 'signal'), (4160, 'impending'), (4161, 'nervousness'), (4162, 'devoted'), (4163, 'half-hour'), (4164, 'briefing'), (4165, 'journalists'), (4166, 'notably'), (4167, 'coca-cola'), (4168, 'fuel'), (4169, 'fires'), (4170, 'publicized'), (4171, 'boone'), (4172, 'pickens'), (4173, 'jr'), (4174, 'lloyd'), (4175, 'highlight'), (4176, 'disproportionate'), (4177, 'table'), (4178, 'structures'), (4179, 'recommendations'), (4180, 'anxious'), (4181, 'successful'), (4182, 'concessions'), (4183, 'clarify'), (4184, 'exactly'), (4185, 'quick'), (4186, 'crossed'), (4187, 'smaller'), (4188, 'controversial'), (4189, 'improves'), (4190, 'provides'), (4191, 'candela'), (4192, 'laser'), (4193, 'high-tech'), (4194, 'sights'), (4195, 'tiny'), (4196, 'joint-venture'), (4197, 'bureaucratic'), (4198, 'secured'), (4199, 'kidney'), (4200, 'stones'), (4201, 'skin'), (4202, 'count'), (4203, 'promising'), (4204, 'frequently'), (4205, 'putting'), (4206, 'financed'), (4207, 'corporations'), (4208, 'minority'), (4209, 'heightened'), (4210, 'acceleration'), (4211, 'deals'), (4212, 'feed'), (4213, 'glass'), (4214, 'catch'), (4215, 'fancy'), (4216, 'strategic'), (4217, 'fit'), (4218, 'va.'), (4219, 'architectural'), (4220, 'ronald'), (4221, 'window'), (4222, 'merchandise'), (4223, 'inside'), (4224, 'counterpart'), (4225, 'commodities'), (4226, 'ships'), (4227, 'u.s.a.'), (4228, 'houses'), (4229, 'ventures'), (4230, 'goal'), (4231, 'objectives'), (4232, 'drive'), (4233, 'basis'), (4234, 'performed'), (4235, 'businessman'), (4236, 'alliance'), (4237, 'generate'), (4238, 'extent'), (4239, 'ai'), (4240, 'hudson'), (4241, 'departure'), (4242, 'maintenance'), (4243, 'fueling'), (4244, 'airlines'), (4245, 'airports'), (4246, 'omitted'), (4247, 'duties'), (4248, 'assumed'), (4249, 'neighborhood'), (4250, 'convenient'), (4251, 'crown'), (4252, 'package'), (4253, 'checking'), (4254, 'safe'), (4255, 'deposit'), (4256, 'card'), (4257, 'installment'), (4258, 'qualify'), (4259, 'loyalty'), (4260, 'competitive'), (4261, 'deposits'), (4262, 'packages'), (4263, 'targeting'), (4264, 'population'), (4265, 'anne'), (4266, 'moore'), (4267, 'ncnb'), (4268, 'charlotte'), (4269, 'connections'), (4270, 'adults'), (4271, 'starting'), (4272, 'throws'), (4273, 'saving'), (4274, 'memphis'), (4275, 'tenn.'), (4276, 'edge'), (4277, 'crowd'), (4278, 'borrowed'), (4279, 'aiming'), (4280, 'elderly'), (4281, 'segment'), (4282, 'stepped'), (4283, 'macdonald'), (4284, 'barnett'), (4285, 'fla.'), (4286, 'seniors'), (4287, 'styles'), (4288, 'create'), (4289, 'branches'), (4290, 'athletic'), (4291, 'travel'), (4292, 'active'), (4293, 'games'), (4294, 'panama'), (4295, 'wells'), (4296, 'fargo'), (4297, 'travelers'), (4298, 'checks'), (4299, 'fee'), (4300, 'slew'), (4301, 'promoting'), (4302, 'margins'), (4303, 'profitable'), (4304, 'mid-1970s'), (4305, 'emphasis'), (4306, 'switched'), (4307, 'ways'), (4308, 'enabling'), (4309, 'analyze'), (4310, 'deregulation'), (4311, '1970s'), (4312, 'cds'), (4313, 'certificates'), (4314, 'staggering'), (4315, 'bigger'), (4316, 'market-share'), (4317, 'banker'), (4318, 'worrying'), (4319, 'unions'), (4320, 'scrambling'), (4321, 'define'), (4322, 'n.c'), (4323, 'attracting'), (4324, 'costly'), (4325, 'rewarding'), (4326, 'bulk'), (4327, 'audience'), (4328, 'loyal'), (4329, 'borrowers'), (4330, 'personnel'), (4331, 'training'), (4332, 'promotional'), (4333, 'jacob'), (4334, 'demanding'), (4335, 'tailored'), (4336, 'moving'), (4337, 'direction'), (4338, 'alvin'), (4339, 'realize'), (4340, 'iras'), (4341, 'registration'), (4342, 'chandler'), (4343, 'ariz.'), (4344, 'exercisable'), (4345, 'develops'), (4346, 'low-cost'), (4347, 'peripheral'), (4348, 'chevrolet'), (4349, 'vacation'), (4350, 'send'), (4351, 'lasting'), (4352, 'savings-and-loan'), (4353, 'foster'), (4354, 'ailing'), (4355, 'demise'), (4356, 'healthy'), (4357, 'performing'), (4358, 'institution'), (4359, 'gift'), (4360, 'doors'), (4361, 'felt'), (4362, 'lewis'), (4363, 'builds'), (4364, 'confidence'), (4365, 'critical'), (4366, 'delay'), (4367, 'worse'), (4368, 'sagging'), (4369, 'morale'), (4370, 'mercantile'), (4371, 'breaker'), (4372, 'stemming'), (4373, 'phelan'), (4374, 'subcommittee'), (4375, 'halts'), (4376, 'collar'), (4377, 'arguing'), (4378, 'limit'), (4379, 'merc'), (4380, 'one-hour'), (4381, 'stock-index'), (4382, 'futures'), (4383, 's&p'), (4384, 'p.m'), (4385, 'execute'), (4386, 'trades'), (4387, 'tumultuous'), (4388, 'industrials'), (4389, 'skidded'), (4390, 'hitting'), (4391, 'remained'), (4392, 'session'), (4393, 'existing'), (4394, 'equal'), (4395, 'leo'), (4396, 'panic'), (4397, 'reopened'), (4398, 'subsequent'), (4399, 'flood'), (4400, 'knocked'), (4401, 'intermediate'), (4402, 'floor'), (4403, 'shortly'), (4404, 'maximum'), (4405, 'one-day'), (4406, 'minutes'), (4407, 'aides'), (4408, 'congressmen'), (4409, 'executing'), (4410, 'expressed'), (4411, 'volatility'), (4412, 'program-trading'), (4413, 'comfortable'), (4414, 'capitol'), (4415, 'legislators'), (4416, 'shut'), (4417, 'volatile'), (4418, 'breeden'), (4419, 'breakers'), (4420, 'trigger'), (4421, 'vague'), (4422, 'angered'), (4423, 'edward'), (4424, 'markey'), (4425, 'beyond'), (4426, 'done'), (4427, 'sensitive'), (4428, 'happy'), (4429, 'writing'), (4430, 'discussed'), (4431, 'congressman'), (4432, 'attended'), (4433, 'dingell'), (4434, 'let'), (4435, 'sources'), (4436, 'regulated'), (4437, 'agriculture'), (4438, 'committees'), (4439, 'rural'), (4440, 'ancient'), (4441, 'stone'), (4442, 'church'), (4443, 'bells'), (4444, 'tower'), (4445, 'calling'), (4446, 'angels'), (4447, 'ropes'), (4448, 'sounded'), (4449, 'modern'), (4450, 'enjoying'), (4451, 'cool'), (4452, 'autumn'), (4453, 'band'), (4454, 'ringers'), (4455, 'herald'), (4456, 'sunday'), (4457, 'ringer'), (4458, 'hammond'), (4459, 'live'), (4460, 'youngsters'), (4461, 'ring'), (4462, 'worker'), (4463, 'train'), (4464, 'youth'), (4465, 'ranks'), (4466, 'nationwide'), (4467, 'continental'), (4468, 'invented'), (4469, 'physical'), (4470, 'weigh'), (4471, 'ton'), (4472, 'concentration'), (4473, 'proper'), (4474, 'bell'), (4475, 'methods'), (4476, 'ten'), (4477, 'pulling'), (4478, 'disappears'), (4479, 'hole'), (4480, 'ringing'), (4481, 'chamber'), (4482, 'speaks'), (4483, 'totally'), (4484, 'absorbed'), (4485, 'vision'), (4486, 'thus'), (4487, 'pulls'), (4488, 'wheels'), (4489, 'skilled'), (4490, 'well-known'), (4491, 'novelist'), (4492, 'passion'), (4493, 'finds'), (4494, 'satisfaction'), (4495, 'filled'), (4496, 'bit'), (4497, 'stays'), (4498, 'stuck'), (4499, 'sweat'), (4500, 'sit'), (4501, 'steadily'), (4502, 'pressing'), (4503, 'attend'), (4504, 'rev.'), (4505, 'vicar'), (4506, 'promptly'), (4507, 'premises'), (4508, 'eight'), (4509, 'attendance'), (4510, 'refuses'), (4511, 'reopen'), (4512, 'wound'), (4513, 'nearby'), (4514, 'fault'), (4515, 'crunch'), (4516, 'bang'), (4517, 'obvious'), (4518, 'exit'), (4519, 'feelings'), (4520, 'drawn'), (4521, 'council'), (4522, 'aims'), (4523, 'baldwin'), (4524, 'speak'), (4525, 'colleges'), (4526, 'publish'), (4527, 'entitled'), (4528, 'attacking'), (4529, 'inner-city'), (4530, 'attract'), (4531, 'lucky'), (4532, 'everywhere'), (4533, 'sole'), (4534, 'weekly'), (4535, 'signing'), (4536, 'balanced'), (4537, 'frequency'), (4538, 'tea'), (4539, 'observed'), (4540, 'dressed'), (4541, 'unsettled'), (4542, 'comfort'), (4543, 'predictable'), (4544, 'payouts'), (4545, 'warn'), (4546, 'strongest'), (4547, 'stock-market'), (4548, 'trap'), (4549, 'bernstein'), (4550, 'merrill'), (4551, 'lynch'), (4552, 'widow'), (4553, 'reference'), (4554, 'males'), (4555, 'kill'), (4556, 'boesel'), (4557, 'invariably'), (4558, 'environments'), (4559, 'risen'), (4560, 'cyclical'), (4561, '500-stock'), (4562, 'sliding'), (4563, 'watchers'), (4564, 'double-digit'), (4565, 'trends'), (4566, 'advances'), (4567, 'relative'), (4568, 'sustained'), (4569, 'rebound'), (4570, 'exception'), (4571, 'w.'), (4572, 'hint'), (4573, 'escaped'), (4574, 'debacle'), (4575, 'sharp'), (4576, 'troublesome'), (4577, 'manner'), (4578, 'cigna'), (4579, 'insurer'), (4580, 'einhorn'), (4581, 'weakening'), (4582, 'painewebber'), (4583, 'forecasting'), (4584, 'argument'), (4585, 'declare'), (4586, 'weaken'), (4587, 'bulls'), (4588, 'expenditures'), (4589, 'tally'), (4590, 'basically'), (4591, 'trailed'), (4592, 'deliver'), (4593, 'appreciation'), (4594, 'vs.'), (4595, 'element'), (4596, 'outlook'), (4597, 'upside'), (4598, 'page-one'), (4599, 'plight'), (4600, 'alexander'), (4601, 'graham'), (4602, 'supposedly'), (4603, 'replace'), (4604, 'hubbard'), (4605, 'wealthy'), (4606, 'sued'), (4607, 'infringed'), (4608, 'established'), (4609, 'enter'), (4610, 'beverly'), (4611, 'nbi'), (4612, 'quarters'), (4613, 'kingdom'), (4614, 'commit'), (4615, 'lacked'), (4616, 'hired'), (4617, 'nixon'), (4618, 'historic'), (4619, 'spoke'), (4620, 'length'), (4621, 'nowhere'), (4622, 'easing'), (4623, 'relationship'), (4624, 'bloody'), (4625, 'pro-democracy'), (4626, 'demonstrators'), (4627, 'massacre'), (4628, 'normally'), (4629, 'peaceful'), (4630, 'phrase'), (4631, 'socialist'), (4632, 'capitalist'), (4633, 'tension'), (4634, 'evident'), (4635, 'friendship'), (4636, 'reminded'), (4637, 'assault'), (4638, 'crackdown'), (4639, 'ordering'), (4640, 'respect'), (4641, 'fashion'), (4642, 'killings'), (4643, 'demonstrations'), (4644, 'deng'), (4645, 'speaking'), (4646, 'deeply'), (4647, 'turmoil'), (4648, 'occurred'), (4649, 'exchanges'), (4650, 'deteriorated'), (4651, 'greatest'), (4652, 'dissident'), (4653, 'wife'), (4654, 'refuge'), (4655, 'embassy'), (4656, 'suspension'), (4657, 'traveling'), (4658, 'citizen'), (4659, 'scowcroft'), (4660, 'saturday'), (4661, 'participation'), (4662, 'pulled'), (4663, 'acknowledge'), (4664, 'welcome'), (4665, 'contacts'), (4666, 'borders'), (4667, 'sdi'), (4668, 'weapon'), (4669, 'shoot'), (4670, 'minor'), (4671, 'premier'), (4672, 'hoped'), (4673, 'guards'), (4674, 'guns'), (4675, 'arrived'), (4676, 'blocks'), (4677, 'ambassador'), (4678, 'residence'), (4679, 'discarded'), (4680, 'arms'), (4681, 'contingent'), (4682, 'soldiers'), (4683, 'protests'), (4684, 'diplomats'), (4685, 'loaded'), (4686, 'graduates'), (4687, 'tree'), (4688, 'passing'), (4689, 'buck'), (4690, 'everything'), (4691, 'volunteer'), (4692, 'unfortunately'), (4693, 'compensation'), (4694, 'impression'), (4695, 'harder'), (4696, 'visited'), (4697, 'images'), (4698, 'changing'), (4699, 'perceptions'), (4700, 'accept'), (4701, 'barbara'), (4702, 'continually'), (4703, 'liberals'), (4704, 'klein'), (4705, 'puts'), (4706, 'professionals'), (4707, 'favorable'), (4708, 'voters'), (4709, 'spouse'), (4710, 'assumption'), (4711, 'perspective'), (4712, 'defined'), (4713, 'birmingham'), (4714, 'disciplined'), (4715, 'expelled'), (4716, 'nasd'), (4717, 'fined'), (4718, 'fernando'), (4719, 'marina'), (4720, 'del'), (4721, 'rey'), (4722, 'listing'), (4723, 'henry'), (4724, 'i.'), (4725, 'improper'), (4726, 'unpublished'), (4727, 'settlement'), (4728, 'admitting'), (4729, 'denying'), (4730, 'consented'), (4731, 'connection'), (4732, 'crane'), (4733, 'mount'), (4734, 'glenn'), (4735, 'escrow'), (4736, 'inaccurate'), (4737, 'principals'), (4738, 'dell'), (4739, 'eugene'), (4740, 'island'), (4741, 'wash.'), (4742, 'implication'), (4743, 'inappropriate'), (4744, 'timing'), (4745, 'del.'), (4746, 'n.'), (4747, 'differ'), (4748, 'meaning'), (4749, 'express'), (4750, 'timely'), (4751, 'requests'), (4752, 'davis'), (4753, 'jeffrey'), (4754, 'gerard'), (4755, 'stewart'), (4756, 'amounted'), (4757, 'parking'), (4758, 'ticket'), (4759, 'complaining'), (4760, 'sizable'), (4761, 'anybody'), (4762, 'rolling'), (4763, 'stuart'), (4764, 'breaking'), (4765, 'agents'), (4766, 'compliance'), (4767, 'stupid'), (4768, 'mistakes'), (4769, 'actively'), (4770, 'engaged'), (4771, 'blocked'), (4772, 'computer-driven'), (4773, 'plays'), (4774, 'hurdles'), (4775, 'resist'), (4776, 'furor'), (4777, 'abroad'), (4778, 'arbitrage'), (4779, 'exploit'), (4780, 'imagine'), (4781, 'racing'), (4782, 'cope'), (4783, 'utsumi'), (4784, 'osaka'), (4785, 'wary'), (4786, 'forgotten'), (4787, 'drove'), (4788, 'operators'), (4789, 'suspend'), (4790, 'maybe'), (4791, 'tightened'), (4792, 'salomon'), (4793, 'chunk'), (4794, 's.'), (4795, 'futures-related'), (4796, 'strategies'), (4797, 'liquid'), (4798, 'impact'), (4799, 'index-arbitrage'), (4800, 'serves'), (4801, 'counter'), (4802, 'tapes'), (4803, 'begins'), (4804, 'pegged'), (4805, 'privacy'), (4806, 'brokerage'), (4807, 'assurance'), (4808, 'manages'), (4809, '#'), (4810, 'times-stock'), (4811, '100-share'), (4812, 'option'), (4813, 'ft-se'), (4814, 'tenfold'), (4815, 'compares'), (4816, 'wage'), (4817, 'compromise'), (4818, 'backed'), (4819, 'proponents'), (4820, 'hour'), (4821, 'opponents'), (4822, 'reflected'), (4823, 'republicans'), (4824, 'lifting'), (4825, 'four-year'), (4826, 'enacted'), (4827, 'pat'), (4828, 'williams'), (4829, 'acceptance'), (4830, 'sought'), (4831, 'adopting'), (4832, 'nickel'), (4833, 'lately'), (4834, 'touted'), (4835, 'democrats'), (4836, 'fought'), (4837, 'insistence'), (4838, 'employers'), (4839, 'restriction'), (4840, 'covers'), (4841, 'impossible'), (4842, 'elimination'), (4843, 'zenith'), (4844, 'navy'), (4845, 'rockwell'), (4846, 'replacement'), (4847, 'navigation'), (4848, 'intelligence'), (4849, 'hahn'), (4850, 'mode'), (4851, 'teddy'), (4852, 'unsolicited'), (4853, 'cold'), (4854, 'faced'), (4855, 'negotiated'), (4856, 'negotiating'), (4857, 'surrender'), (4858, 'tough'), (4859, 'completion'), (4860, 'opens'), (4861, 'implies'), (4862, 'dilemma'), (4863, 'observers'), (4864, 'pulp'), (4865, 'consensus'), (4866, 'insiders'), (4867, 'onto'), (4868, 'knew'), (4869, 'picked'), (4870, 'careful'), (4871, 'universities'), (4872, 'willingness'), (4873, 'arrest'), (4874, 'protesters'), (4875, 'impressed'), (4876, 'joining'), (4877, 'administrator'), (4878, 'transition'), (4879, 'swiftly'), (4880, 'raw'), (4881, 'son'), (4882, 'beta'), (4883, 'kentucky'), (4884, 'physics'), (4885, 'photographic'), (4886, 'engineered'), (4887, 'turnaround'), (4888, 'inherited'), (4889, 'repair'), (4890, 'remodeling'), (4891, 'new-home'), (4892, 'cycles'), (4893, 'formula'), (4894, 'reins'), (4895, 'attributes'), (4896, 'philosophy'), (4897, 'concentrating'), (4898, 'diversified'), (4899, 'impressive'), (4900, 'diversification'), (4901, 'match'), (4902, 'high-quality'), (4903, 'forest-products'), (4904, 'waters'), (4905, 'house-senate'), (4906, 'portions'), (4907, 'relies'), (4908, 'guarantees'), (4909, 'initiatives'), (4910, 'contrasts'), (4911, 'provoked'), (4912, 'veto'), (4913, 'confined'), (4914, 'shaping'), (4915, 'appropriations'), (4916, 'decisive'), (4917, 'pentagon'), (4918, 'planning'), (4919, 'portion'), (4920, 'warming'), (4921, 'african'), (4922, 'elephant'), (4923, 'draws'), (4924, 'variety'), (4925, 'amendments'), (4926, 'exemption'), (4927, 'intriguing'), (4928, 'struggle'), (4929, 'sugar'), (4930, 'fate'), (4931, 'quota'), (4932, 'stripped'), (4933, 'noriega'), (4934, 'regime'), (4935, 'tons'), (4936, 'growers'), (4937, 'pound'), (4938, 'whip'), (4939, 'gray'), (4940, 'pa'), (4941, 'caribbean'), (4942, 'jamaica'), (4943, 'conservative'), (4944, 'basin'), (4945, 'powerful'), (4946, 'hawaii'), (4947, 'inouye'), (4948, 'allies'), (4949, 'instructed'), (4950, 'lobbyist'), (4951, 'abandon'), (4952, 'drafted'), (4953, 'supplemental'), (4954, 'anti-drug'), (4955, 'airline'), (4956, 'flights'), (4957, 'leadership'), (4958, 'bounce'), (4959, 'departments'), (4960, 'beauty'), (4961, 'bridges'), (4962, 'repaired'), (4963, 'disagreement'), (4964, 'lose'), (4965, 'planner'), (4966, 'prefer'), (4967, 'install'), (4968, 'f'), (4969, 'concrete'), (4970, 'ind.'), (4971, 'bridge'), (4972, 'teaches'), (4973, 'structure'), (4974, 'charter'), (4975, 'oak'), (4976, 'peninsula'), (4977, 'upset'), (4978, 'similarly'), (4979, 'carrier'), (4980, 'competes'), (4981, 'beverage'), (4982, 'outlets'), (4983, 'resembles'), (4984, 'beer'), (4985, 'hang'), (4986, 'inventor'), (4987, 'marvin'), (4988, 'carriers'), (4989, 'acknowledges'), (4990, 'driver'), (4991, 'perestroika'), (4992, 'designers'), (4993, 'promises'), (4994, 'chairs'), (4995, 'citicorp'), (4996, 'sees'), (4997, 'learn'), (4998, 'seed'), (4999, 'solution'), (5000, 'root'), (5001, 'birds'), (5002, 'architects'), (5003, 'propose'), (5004, 'grain'), (5005, 'preserving'), (5006, 'solutions'), (5007, 'cell'), (5008, 'walls'), (5009, 'cells'), (5010, 'visits'), (5011, 'architect'), (5012, 'egypt'), (5013, 'houston'), (5014, 'vacant'), (5015, 'altered'), (5016, 'efficient'), (5017, 'usx'), (5018, 'fines'), (5019, 'penalty'), (5020, 'workplace'), (5021, 'employer'), (5022, 'pa.'), (5023, 'mill'), (5024, 'penalties'), (5025, 'osha'), (5026, 'electrical'), (5027, 'covering'), (5028, 'coke'), (5029, 'dole'), (5030, 'hazards'), (5031, 'resulted'), (5032, 'severe'), (5033, 'deficiencies'), (5034, 'failures'), (5035, 'properly'), (5036, 'injuries'), (5037, 'spite'), (5038, 'discrepancies'), (5039, 'evaluation'), (5040, 'corrected'), (5041, 'promised'), (5042, 'proved'), (5043, 'unwilling'), (5044, 'manpower'), (5045, 'removing'), (5046, 'contest'), (5047, 'brands'), (5048, 'cincinnati'), (5049, 'error'), (5050, 'edition'), (5051, 'mistakenly'), (5052, 'natural'), (5053, 'implied'), (5054, 'homelessness'), (5055, 'numbers'), (5056, 'causes'), (5057, 'complex'), (5058, 'emphasized'), (5059, 'illness'), (5060, 'examined'), (5061, 'disorders'), (5062, 'psychiatric'), (5063, 'cardiovascular'), (5064, 'shelter'), (5065, 'consequence'), (5066, 'composed'), (5067, 'lacks'), (5068, 'adequate'), (5069, 'johns'), (5070, 'hopkins'), (5071, 'prof.'), (5072, 'wright'), (5073, 'array'), (5074, 'poverty'), (5075, 'combination'), (5076, 'alcohol'), (5077, 'simultaneously'), (5078, 'housing'), (5079, 'welfare'), (5080, 'connected'), (5081, 'persons'), (5082, 'quote'), (5083, 'fear'), (5084, 'robbed'), (5085, 'unable'), (5086, 'fend'), (5087, 'yourself'), (5088, 'obviously'), (5089, 'cracks'), (5090, 'grim'), (5091, 'escape'), (5092, 'drugs'), (5093, 'n.y'), (5094, 'dismiss'), (5095, 'sleeping'), (5096, 'bothered'), (5097, 'namely'), (5098, 'consequences'), (5099, 'cambridge'), (5100, 'sponsors'), (5101, 'chose'), (5102, 'builders'), (5103, 'allied'), (5104, 'crusade'), (5105, 'greed'), (5106, 'motive'), (5107, 'desire'), (5108, 'subscribe'), (5109, 'catholic'), (5110, 'charities'), (5111, 'usa'), (5112, 'nonprofit'), (5113, 'participated'), (5114, 'deprived'), (5115, 'families'), (5116, 'predict'), (5117, 'substitute'), (5118, 'chivas'), (5119, 'ruth'), (5120, 'rogers'), (5121, 'placement'), (5122, 'perpetual'), (5123, 'conversion'), (5124, 'cable'), (5125, 'coupon'), (5126, 'leveraged'), (5127, 'buy-outs'), (5128, 'supporters'), (5129, 'override'), (5130, 'ark'), (5131, 'diminished'), (5132, 'benefit'), (5133, 'amendment'), (5134, 'ore.'), (5135, 'criteria'), (5136, 'occasionally'), (5137, 'dubbed'), (5138, 'lorenzo'), (5139, 'text'), (5140, 'broadcasting'), (5141, 'tune'), (5142, 'extensive'), (5143, 'reporter'), (5144, 'scholar'), (5145, 'ordinary'), (5146, 'democracy'), (5147, 'censorship'), (5148, 'propaganda'), (5149, 'neat'), (5150, 'tours'), (5151, 'facilities'), (5152, 'sorts'), (5153, 'enables'), (5154, 'hear'), (5155, 'mind'), (5156, 'absurd'), (5157, 'inform'), (5158, 'columns'), (5159, 'facts'), (5160, 'scholars'), (5161, 'reporters'), (5162, 'copying'), (5163, 'copy'), (5164, 'des'), (5165, 'happened'), (5166, 'usia'), (5167, 'mccormick'), (5168, 'memo'), (5169, 'intend'), (5170, 'preclude'), (5171, 'plaintiffs'), (5172, 'domestically'), (5173, 'mentioned'), (5174, 'notwithstanding'), (5175, 'statutory'), (5176, 'credentials'), (5177, 'appearing'), (5178, 'examine'), (5179, 'determine'), (5180, 'helpful'), (5181, 'disagreed'), (5182, \"o'brien\"), (5183, 'duty'), (5184, 'assure'), (5185, 'scripts'), (5186, 'xerox'), (5187, 'public-relations'), (5188, 'sends'), (5189, 'stuff'), (5190, 'conclude'), (5191, 'shall'), (5192, 'thanks'), (5193, 'ought'), (5194, 'answered'), (5195, 'gartner'), (5196, 'tribune'), (5197, 'gordon'), (5198, 'mcgovern'), (5199, 'dorrance'), (5200, 'herbert'), (5201, 'baum'), (5202, 'edwin'), (5203, 'harper'), (5204, 'responsibilities'), (5205, 'successor'), (5206, 'searching'), (5207, 'reacted'), (5208, 'prudential-bache'), (5209, 'distant'), (5210, 'operation'), (5211, 'farm'), (5212, 'veteran'), (5213, 'dominated'), (5214, 'pushed'), (5215, 'profitability'), (5216, 'closing'), (5217, 'eliminating'), (5218, 'disappointing'), (5219, 'ceo'), (5220, 'succession'), (5221, 'retirement'), (5222, 'agenda'), (5223, 'repeatedly'), (5224, 'stay'), (5225, 'pension'), (5226, 'convince'), (5227, 'tremendous'), (5228, 'duo'), (5229, 'naming'), (5230, 'sitting'), (5231, 'guide'), (5232, 'overnight'), (5233, 'fulton'), (5234, 'prebon'), (5235, 'u.s.a'), (5236, 'depository'), (5237, 'collateral'), (5238, 'motors'), (5239, 'high-grade'), (5240, 'unsecured'), (5241, 'multiples'), (5242, 'negotiable'), (5243, 'c.d.s'), (5244, 'typical'), (5245, 'acceptances'), (5246, 'bank-backed'), (5247, 'eurodollars'), (5248, 'libor'), (5249, 'quotations'), (5250, 'switzerland'), (5251, 'indications'), (5252, 'lending'), (5253, 'location'), (5254, 'freddie'), (5255, 'mac'), (5256, 'mortgages'), (5257, 'one-year'), (5258, 'adjustable'), (5259, 'telerate'), (5260, 'annualized'), (5261, 'newhouse'), (5262, 'abrupt'), (5263, 'departures'), (5264, 'empire'), (5265, 'gut'), (5266, 'unhappy'), (5267, 'tenure'), (5268, 'enjoyed'), (5269, 'spectacular'), (5270, 'smoothly'), (5271, 'succeeded'), (5272, 'bennett'), (5273, 'susan'), (5274, 'anthony'), (5275, 'hutchinson'), (5276, 'powerhouse'), (5277, 'alfred'), (5278, 'yorker'), (5279, 'evans'), (5280, 'recruited'), (5281, 'mehta'), (5282, 'divisions'), (5283, 'full-time'), (5284, 'rumored'), (5285, 'tall'), (5286, 'respected'), (5287, 'prerogatives'), (5288, 'specified'), (5289, 'interpretation'), (5290, 'clause'), (5291, 'unconstitutional'), (5292, 'iran-contra'), (5293, 'understand'), (5294, 'broadly'), (5295, 'presidency'), (5296, 'separation'), (5297, 'supported'), (5298, 'constitutional'), (5299, 'convention'), (5300, 'ensure'), (5301, 'accountability'), (5302, 'independence'), (5303, 'perform'), (5304, 'confederation'), (5305, 'technically'), (5306, 'placing'), (5307, 'rewrite'), (5308, 'containing'), (5309, 'alternatively'), (5310, 'declaring'), (5311, 'violation'), (5312, 'appointments'), (5313, 'granting'), (5314, 'commissions'), (5315, 'nomination'), (5316, 'imposes'), (5317, 'choosing'), (5318, 'rider'), (5319, 'voluntary'), (5320, 'recommendation'), (5321, 'recommending'), (5322, 'discretion'), (5323, 'select'), (5324, 'regulations'), (5325, 'prevents'), (5326, 'agricultural'), (5327, 'wasted'), (5328, 'illustrates'), (5329, 'implement'), (5330, 'applicable'), (5331, 'execution'), (5332, 'presentation'), (5333, 'signature'), (5334, 'v.'), (5335, 'kinds'), (5336, 'purposes'), (5337, 'custom'), (5338, 'undo'), (5339, 'mikhail'), (5340, 'gorbachev'), (5341, 'ratified'), (5342, 'salt'), (5343, 'restricting'), (5344, 'riders'), (5345, 'trespass'), (5346, 'line-item'), (5347, 'context'), (5348, 'characterized'), (5349, 'conflict'), (5350, 'item'), (5351, 'downside'), (5352, 'asserts'), (5353, 'establish'), (5354, 'sue'), (5355, 'loses'), (5356, 'morrison'), (5357, 'valuable'), (5358, 'legislature'), (5359, 'extending'), (5360, 'analysis'), (5361, 'duke'), (5362, 'farmers'), (5363, 'pockets'), (5364, 'gross'), (5365, 'drought'), (5366, 'crop'), (5367, 'midwestern'), (5368, 'corn'), (5369, 'plains'), (5370, 'saved'), (5371, 'reclaim'), (5372, 'crops'), (5373, 'soaring'), (5374, 'nebraska'), (5375, 'attributed'), (5376, 'confirms'), (5377, 'depression'), (5378, 'helps'), (5379, 'reluctance'), (5380, 'curtailed'), (5381, 'surpluses'), (5382, 'wheat'), (5383, 'strengthened'), (5384, 'keith'), (5385, 'collins'), (5386, 'livestock'), (5387, 'cattle'), (5388, 'inventory'), (5389, 'minnesota'), (5390, 'disaster'), (5391, 'relief'), (5392, 'farms'), (5393, 'soybeans'), (5394, 'struggling'), (5395, 'examiner'), (5396, 'hearst'), (5397, 'unsuccessful'), (5398, 'exceeding'), (5399, 'second-largest'), (5400, 'dominates'), (5401, 'orange'), (5402, 'register'), (5403, 'pasadena'), (5404, 'beach'), (5405, 'attempted'), (5406, 'materialized'), (5407, 'stream'), (5408, 'prospective'), (5409, 'sun'), (5410, 'freeway'), (5411, 'inevitable'), (5412, 'limbo'), (5413, 'torn'), (5414, 'blue-collar'), (5415, 'upscale'), (5416, 'tabloid'), (5417, 'abandoned'), (5418, 'marginally'), (5419, 'castle'), (5420, 'spanish'), (5421, 'condition'), (5422, 'noble'), (5423, 'deterioration'), (5424, 'looks'), (5425, 'bitter'), (5426, 'recovered'), (5427, 'moments'), (5428, 'restored'), (5429, 'notable'), (5430, 'consistently'), (5431, 'disclosures'), (5432, 'bradley'), (5433, 'dealings'), (5434, 'coverage'), (5435, 'arts'), (5436, 'representatives'), (5437, 'recruiting'), (5438, 'emotional'), (5439, 'l.a.'), (5440, 'headline'), (5441, 'beers'), (5442, 'drunk'), (5443, 'andy'), (5444, 'preference'), (5445, 'closes'), (5446, 'forget'), (5447, 'handed'), (5448, 'olympia'), (5449, 'lenders'), (5450, 'buick'), (5451, 'beleaguered'), (5452, 'promotion'), (5453, 'boosting'), (5454, 'encouraging'), (5455, 'four-day'), (5456, 'begun'), (5457, 'explaining'), (5458, 'disclose'), (5459, 'approached'), (5460, 'doctor'), (5461, 'broaden'), (5462, 'gasoline'), (5463, 'gm'), (5464, 'gmac'), (5465, 'billing'), (5466, 'considers'), (5467, 'direct-mail'), (5468, 'marketers'), (5469, 'maximize'), (5470, 'capability'), (5471, 'incomes'), (5472, 'missed'), (5473, 'visa'), (5474, 'cards'), (5475, 'establishment'), (5476, 'responsible'), (5477, 'tickets'), (5478, 'meals'), (5479, 'las'), (5480, 'vegas'), (5481, 'nev.'), (5482, 'buyer'), (5483, 'chooses'), (5484, 'fly'), (5485, 'companion'), (5486, 'prizes'), (5487, 'stereo'), (5488, 'recorder'), (5489, 'trans'), (5490, 'luxury'), (5491, 'interest-rate'), (5492, 'borough'), (5493, 'cancellation'), (5494, 'recovering'), (5495, 'accounted'), (5496, 'engage'), (5497, 'betting'), (5498, 'obligated'), (5499, 'swaps'), (5500, 'vested'), (5501, 'barclays'), (5502, 'midland'), (5503, 'citibank'), (5504, 'recover'), (5505, 'arrangements'), (5506, 'aftermath'), (5507, '190-point'), (5508, 'kidder'), (5509, 'peabody'), (5510, 'stockbrokers'), (5511, 'shaken'), (5512, 'baskets'), (5513, 'reeling'), (5514, 'reap'), (5515, 'labeled'), (5516, 'evil'), (5517, 'guard'), (5518, 'consisting'), (5519, 'pools'), (5520, 'fast-growing'), (5521, 'defending'), (5522, 'tens'), (5523, 'successfully'), (5524, 'layer'), (5525, 'refuse'), (5526, 'practitioners'), (5527, 'broad-based'), (5528, 'neuberger'), (5529, 'palace'), (5530, 'wohlstetter'), (5531, 'contel'), (5532, 'consistent'), (5533, 'waited'), (5534, 'headed'), (5535, 'casino'), (5536, 'civil'), (5537, 'floors'), (5538, 'entrenched'), (5539, 'basket'), (5540, 'facilitate'), (5541, 'theme'), (5542, 'greedy'), (5543, 'gambling'), (5544, 'odds'), (5545, 'old-fashioned'), (5546, 'pickers'), (5547, 'unknown'), (5548, 'divergence'), (5549, 'occurs'), (5550, 'constitute'), (5551, 'whichever'), (5552, 'cheaper'), (5553, 'seconds'), (5554, 'seize'), (5555, 'movements'), (5556, 'frightened'), (5557, 'stoll'), (5558, 'ual'), (5559, 'unload'), (5560, 'takeover-stock'), (5561, 'arbitragers'), (5562, 'blue-chip'), (5563, 'halted'), (5564, 'apart'), (5565, 'manage'), (5566, 'pennies'), (5567, 'automated'), (5568, 'threatens'), (5569, 'virtue'), (5570, 'monopoly'), (5571, 'dislike'), (5572, 'printers'), (5573, 'spooked'), (5574, 'swings'), (5575, 'absolutely'), (5576, 'deck'), (5577, 'scaring'), (5578, 'raymond'), (5579, 'broker'), (5580, 'legg'), (5581, 'transformed'), (5582, 'complains'), (5583, 'andrew'), (5584, 'champion'), (5585, 'oh'), (5586, 'brothers'), (5587, 'publicity'), (5588, 'strategy'), (5589, 'psychology'), (5590, 'proven'), (5591, 'fastest-growing'), (5592, 'jeopardy'), (5593, 'unlikely'), (5594, 'anytime'), (5595, 'enjoy'), (5596, 'margin'), (5597, 'potentially'), (5598, 'speculative'), (5599, 'protects'), (5600, 'sellers'), (5601, 'destroy'), (5602, 'efficiency'), (5603, 'picks'), (5604, 'impetus'), (5605, 'practiced'), (5606, 'locations'), (5607, 'widget'), (5608, 'constantly'), (5609, 'owning'), (5610, 'cheapest'), (5611, 'fundamental'), (5612, 'vast'), (5613, 'contribute'), (5614, 'surrounding'), (5615, 'opportunities'), (5616, 'arise'), (5617, 'implemented'), (5618, 'harmful'), (5619, 'sufficient'), (5620, 'transfers'), (5621, 'fundamentally'), (5622, 'ownership'), (5623, 'hypothetical'), (5624, 'sacrifice'), (5625, 'liquidity'), (5626, 'cleaner'), (5627, 'cautious'), (5628, 'please'), (5629, 'ultimate'), (5630, 'sufficiently'), (5631, 'deviation'), (5632, 'advent'), (5633, 'boy'), (5634, 'wooing'), (5635, 'bringing'), (5636, 'damaging'), (5637, 'merits'), (5638, 'cater'), (5639, 'advise'), (5640, 'somehow'), (5641, 'expert'), (5642, 'guy'), (5643, 'spreads'), (5644, 'surely'), (5645, 'mutual-fund'), (5646, 'sad'), (5647, 'performers'), (5648, 'profitably'), (5649, 'temporary'), (5650, 'taxation'), (5651, 'etc.'), (5652, 'loser'), (5653, 'inviting'), (5654, 'transfer'), (5655, 'antitrust'), (5656, 'agencies'), (5657, 'affect'), (5658, 'filings'), (5659, 'mergers'), (5660, 'brooks'), (5661, 'cuts'), (5662, 'ftc'), (5663, 'appropriated'), (5664, 'offsetting'), (5665, 'hart-scott-rodino'), (5666, 'notify'), (5667, 'completing'), (5668, 'don'), (5669, 'edwards'), (5670, 'staffs'), (5671, 'drastically'), (5672, 'dismal'), (5673, 'inhibit'), (5674, 'noticed'), (5675, 'ballot'), (5676, 'patrick'), (5677, 'maine'), (5678, 'cruise'), (5679, 'missiles'), (5680, 'oklahoma'), (5681, 'backing'), (5682, 'christie'), (5683, 'prints'), (5684, 'equivalents'), (5685, 'sotheby'), (5686, 'stability'), (5687, 'masters'), (5688, 'ray'), (5689, 'photography'), (5690, 'dialing'), (5691, 'joel'), (5692, 'caller'), (5693, 'celebrity'), (5694, 'lines'), (5695, 'break'), (5696, 'merchandising'), (5697, 'predicts'), (5698, 'recovery'), (5699, 'patients'), (5700, 'milwaukee'), (5701, 'blood'), (5702, 'appetite'), (5703, 'therapy'), (5704, 'ann'), (5705, 'coordinator'), (5706, 'trimming'), (5707, 'christmas'), (5708, 'string'), (5709, 'israel'), (5710, 'marine'), (5711, 'follow'), (5712, 'diaper'), (5713, 'comeback'), (5714, 'shrinking'), (5715, 'awareness'), (5716, 'inquiries'), (5717, 'shortages'), (5718, 'spurring'), (5719, 'fasteners'), (5720, 'briefs'), (5721, 'columbus'), (5722, 'marketed'), (5723, 'tool'), (5724, 'doubts'), (5725, 'quantity'), (5726, 'heading'), (5727, 'blames'), (5728, 'junk'), (5729, 'interior'), (5730, 'arnold'), (5731, 'creates'), (5732, 'inherent'), (5733, 'curbing'), (5734, 'schwab'), (5735, 'skepticism'), (5736, 'miller'), (5737, 'anderson'), (5738, 'fluctuations'), (5739, 'disappear'), (5740, 'dealing'), (5741, 'limiting'), (5742, 'strictly'), (5743, 'capitalism'), (5744, 'immune'), (5745, 'leery'), (5746, 'scott'), (5747, 'weather'), (5748, 'storm'), (5749, 'bargains'), (5750, 'sky'), (5751, 'spirits'), (5752, 'corporation'), (5753, 'laboratories'), (5754, 'current-carrying'), (5755, 'superconductor'), (5756, 'crystals'), (5757, 'superconductors'), (5758, 'moderately'), (5759, 'magnetic'), (5760, 'cooled'), (5761, 'wires'), (5762, 'ceramic'), (5763, 'technologies'), (5764, 'generation'), (5765, 'aspect'), (5766, 'overcome'), (5767, 'cautioned'), (5768, 'van'), (5769, 'dover'), (5770, 'samples'), (5771, 'crystal'), (5772, 'neutrons'), (5773, 'large-scale'), (5774, 'collective'), (5775, 'sigh'), (5776, 'demonstrates'), (5777, 'determining'), (5778, 'enable'), (5779, 'combine'), (5780, 'processes'), (5781, 'fidelity'), (5782, 'taylor'), (5783, 'kane'), (5784, 'write-downs'), (5785, 'after-tax'), (5786, 'offerings'), (5787, 'pricings'), (5788, 'non-u.s.'), (5789, 'syndicate'), (5790, 'bellwether'), (5791, 'rated'), (5792, 'triple-a'), (5793, 'moody'), (5794, 'obligation'), (5795, 'tentatively'), (5796, 'serial'), (5797, 'insured'), (5798, 'ana'), (5799, 'redevelopment'), (5800, 'allocation'), (5801, 'single-a'), (5802, 'underwriter'), (5803, 'double-a'), (5804, 'rating'), (5805, 'eurobonds'), (5806, 'equity-purchase'), (5807, 'indicating'), (5808, 'sweden'), (5809, 'swiss'), (5810, 'francs'), (5811, 'yamaichi'), (5812, 'franc'), (5813, 'pencil'), (5814, 'dai-ichi'), (5815, 'kangyo'), (5816, 'guarantee'), (5817, 'fan'), (5818, 'proposition'), (5819, 'candlestick'), (5820, 'wonder'), (5821, 'sink'), (5822, 'digs'), (5823, 'afford'), (5824, 'stadiums'), (5825, 'ranging'), (5826, 'looked'), (5827, 'wealth'), (5828, 'phoenix'), (5829, 'backers'), (5830, 'concede'), (5831, 'claimed'), (5832, 'bowl'), (5833, 'moon'), (5834, 'money-losing'), (5835, 'faith'), (5836, 'egyptian'), (5837, 'justified'), (5838, 'schemes'), (5839, 'reed'), (5840, 'pence'), (5841, 'discontinued'), (5842, 'disposal'), (5843, 'downgrading'), (5844, 'cs'), (5845, 'downgrade'), (5846, 'maintain'), (5847, 'issuers'), (5848, 'warned'), (5849, 'borrowings'), (5850, 'drexel'), (5851, 'burnham'), (5852, 'lambert'), (5853, 'difficulty'), (5854, 'financings'), (5855, 'structured'), (5856, 'stretch'), (5857, 'disarray'), (5858, 'longer-term'), (5859, 'delays'), (5860, 'downgraded'), (5861, 'riskier'), (5862, 'collapse'), (5863, 'acquires'), (5864, 'expectation'), (5865, 'generated'), (5866, 'overcapacity'), (5867, 'reliance'), (5868, 'squeeze'), (5869, 'campeau'), (5870, 'proving'), (5871, 'arranged'), (5872, 'high-risk'), (5873, 'suisse'), (5874, 'participant'), (5875, 'rebounding'), (5876, 'goodwill'), (5877, 'disadvantage'), (5878, 'rivals'), (5879, 'toll'), (5880, 'settlements'), (5881, 'plea'), (5882, 'insider-trading'), (5883, 'scandal'), (5884, 'circulated'), (5885, 'confident'), (5886, 'uncertainties'), (5887, 'mercury'), (5888, 'experiencing'), (5889, 'midsized'), (5890, 'instrumental'), (5891, 'involvement'), (5892, 'cycle'), (5893, 'bureaucracy'), (5894, 'responsive'), (5895, 'demands'), (5896, 'stretched'), (5897, 'defendants'), (5898, 'innovation'), (5899, 'compelling'), (5900, 'synthetic'), (5901, 'generic'), (5902, 'labels'), (5903, 'daughters'), (5904, 'mothers'), (5905, 'thousand'), (5906, 'recall'), (5907, 'brand'), (5908, 'liable'), (5909, 'pills'), (5910, 'assessed'), (5911, 'proportion'), (5912, 'duck'), (5913, 'liability'), (5914, 'identical'), (5915, 'alike'), (5916, 'differently'), (5917, 'lilly'), (5918, 'pill'), (5919, 'apples'), (5920, 'doctrine'), (5921, 'reversed'), (5922, 'justices'), (5923, 'prescription'), (5924, 'hidden'), (5925, 'favors'), (5926, 'beneficial'), (5927, 'pain'), (5928, 'anyway'), (5929, 'predictably'), (5930, 'understands'), (5931, 'utterly'), (5932, 'billion-dollar'), (5933, 'trash'), (5934, 'partnership'), (5935, 'n.v'), (5936, 'guilders'), (5937, 'lens'), (5938, 'surgery'), (5939, 'inserted'), (5940, 'refer'), (5941, 'ec'), (5942, 'ackerman'), (5943, 'el'), (5944, 'salvador'), (5945, 'habit'), (5946, 'incentives'), (5947, 'estimate'), (5948, 'truck'), (5949, 'wis.'), (5950, 'start-up'), (5951, 'softer'), (5952, 'deere'), (5953, 'anticipation'), (5954, 'edged'), (5955, 'nikkei'), (5956, 'selected'), (5957, 'outnumbered'), (5958, 'rumors'), (5959, 'ample'), (5960, 'sidelines'), (5961, 'nomura'), (5962, 'participate'), (5963, 'tokyu'), (5964, 'profit-taking'), (5965, 'dominant'), (5966, 'directed'), (5967, 'defensive'), (5968, 'shell'), (5969, 'metal'), (5970, 'nippon'), (5971, 'winners'), (5972, 'bolstered'), (5973, 'affecting'), (5974, 'intraday'), (5975, 'reversal'), (5976, '30-share'), (5977, 'indication'), (5978, 'shed'), (5979, 'waive'), (5980, 'golden'), (5981, 'waiver'), (5982, 'b.a.t'), (5983, 'goldsmith'), (5984, 'highs'), (5985, 'market-makers'), (5986, 'shopping'), (5987, 'searched'), (5988, 'wellcome'), (5989, 'amsterdam'), (5990, 'frankfurt'), (5991, 'zurich'), (5992, 'paris'), (5993, 'brussels'), (5994, 'milan'), (5995, 'holiday'), (5996, 'wellington'), (5997, 'sydney'), (5998, 'manila'), (5999, 'calculated'), (6000, 'geneva'), (6001, 'equaling'), (6002, 'walker'), (6003, 'howard'), (6004, 'weil'), (6005, 'occidental'), (6006, 'shelf'), (6007, 'zero'), (6008, 'montgomery'), (6009, 'mitchell'), (6010, 'garrison'), (6011, 'blunt'), (6012, 'ellis'), (6013, 'tackle'), (6014, 'charging'), (6015, 'irvine'), (6016, 'calif.-based'), (6017, 'acid'), (6018, 'matthews'), (6019, 'hearings'), (6020, 'inspection'), (6021, 'stayed'), (6022, 'barely'), (6023, 'revised'), (6024, 'present'), (6025, 'worsen'), (6026, 'day-to-day'), (6027, 'unemployment'), (6028, 'reasonably'), (6029, 'households'), (6030, 'conducted'), (6031, 'toledo'), (6032, 'respondents'), (6033, 'fixed-income'), (6034, 'investment-grade'), (6035, 'rare'), (6036, 'ranked'), (6037, 'hanover'), (6038, 'diverse'), (6039, 'importance'), (6040, 'tomorrow'), (6041, 'nine-month'), (6042, 'three-month'), (6043, 'debenture'), (6044, 'topped'), (6045, 'wanting'), (6046, 'ginnie'), (6047, '12-year'), (6048, 'derivative'), (6049, 'drew'), (6050, 'clothing'), (6051, 'expense'), (6052, 'exceeds'), (6053, 'hurricane'), (6054, 'hugo'), (6055, 'earthquake'), (6056, 'fourth-quarter'), (6057, 'property\\\\/casualty'), (6058, 'michelin'), (6059, 'monopolies'), (6060, 'tires'), (6061, 's.a'), (6062, 'clean-air'), (6063, 'unveil'), (6064, 'centerpiece'), (6065, 'rain'), (6066, 'lobbyists'), (6067, 'weaker'), (6068, 'emissions'), (6069, 'chaos'), (6070, 'cap'), (6071, 'hailed'), (6072, 'innovative'), (6073, 'cost-sharing'), (6074, 'subsidize'), (6075, 'sticking'), (6076, 'avoiding'), (6077, 'cleanup'), (6078, 'fuels'), (6079, 'quietly'), (6080, 'devise'), (6081, 'russell'), (6082, 'resign'), (6083, 'shaw'), (6084, 'coordinate'), (6085, 'deliberately'), (6086, 'routes'), (6087, 'falls'), (6088, 'processing'), (6089, 'zip'), (6090, 'handles'), (6091, 'instrument'), (6092, 'opposite'), (6093, 'indexing'), (6094, 'mix'), (6095, 'barometer'), (6096, 'simultaneous'), (6097, 'newest'), (6098, 'breed'), (6099, 'rocket'), (6100, 'backgrounds'), (6101, 'hedging'), (6102, 'fleeting'), (6103, 'indexes'), (6104, 'expression'), (6105, 'financier'), (6106, 'saul'), (6107, 'steinberg'), (6108, 'labor-management'), (6109, 'clearance'), (6110, 'definitely'), (6111, 'wolf'), (6112, 'airways'), (6113, '300-a-share'), (6114, 'formally'), (6115, 'twist'), (6116, 'coniston'), (6117, 'notified'), (6118, 'skeptical'), (6119, 'tiger'), (6120, 'acquirer'), (6121, 'accord'), (6122, 'pilots'), (6123, 'machinists'), (6124, 'primerica'), (6125, 'cleared'), (6126, 'financial-services'), (6127, 'liabilities'), (6128, 'intelogic'), (6129, 'edelman'), (6130, 'oust'), (6131, 'datapoint'), (6132, 'explore'), (6133, 'specify'), (6134, 'p.m.'), (6135, 'est'), (6136, 'tendered'), (6137, 'barron'), (6138, 'first-half'), (6139, 'trail'), (6140, 'adjustment'), (6141, 'bomber'), (6142, 'emerged'), (6143, 'graphics'), (6144, 'singled'), (6145, 'sagged'), (6146, 'shuttle'), (6147, 'engines'), (6148, 'hits'), (6149, 'fixed-price'), (6150, 'austin'), (6151, 'intel'), (6152, 'microprocessor'), (6153, 'microprocessors'), (6154, 'grower'), (6155, 'exporter'), (6156, 'ship'), (6157, 'rumor'), (6158, 'brazilian'), (6159, 'restraints'), (6160, 'permissible'), (6161, 'stevenson'), (6162, 'regardless'), (6163, 'third-largest'), (6164, 'shift'), (6165, 'drastic'), (6166, 'granted'), (6167, 'licenses'), (6168, 'trees'), (6169, 'cane'), (6170, 'am'), (6171, 'curtail'), (6172, 'confirm'), (6173, 'atmosphere'), (6174, 'fleet'), (6175, 'importer'), (6176, 'grains'), (6177, 'buys'), (6178, 'verge'), (6179, 'generous'), (6180, 'copper'), (6181, 'ignored'), (6182, 'mine'), (6183, 'mines'), (6184, 'reuter'), (6185, 'emergency'), (6186, 'bougainville'), (6187, 'native'), (6188, 'younkers'), (6189, 'equitable'), (6190, 'cos.'), (6191, 'fred'), (6192, 'tony'), (6193, 'lama'), (6194, 'liquidation'), (6195, 'paso'), (6196, 'leather'), (6197, 'reuters'), (6198, 'reupke'), (6199, 'unspecified'), (6200, 'termed'), (6201, 'amicable'), (6202, 'stemmed'), (6203, 'irrelevant'), (6204, 'nigel'), (6205, 'dd'), (6206, 'unicorp'), (6207, 'cara'), (6208, 'donuts'), (6209, 'diluted'), (6210, 'poison'), (6211, 'delaware'), (6212, 'dunkin'), (6213, 'deter'), (6214, 'magnified'), (6215, 'nonrecurring'), (6216, 'adjustments'), (6217, 'softening'), (6218, 'natural-gas'), (6219, 'write'), (6220, 'exploration'), (6221, 'amortization'), (6222, 'brunt'), (6223, 'decliners'), (6224, 'subdued'), (6225, 'somewhat'), (6226, 'arrive'), (6227, 'firmed'), (6228, 'faltered'), (6229, 'philip'), (6230, 'reluctant'), (6231, 'stick'), (6232, 'revival'), (6233, 'woolworth'), (6234, 'avon'), (6235, 'paramount'), (6236, 'upjohn'), (6237, 'amr'), (6238, 'developer'), (6239, 'trump'), (6240, 'withdrew'), (6241, 'mead'), (6242, 'texaco'), (6243, 'ex-dividend'), (6244, 'fe'), (6245, 'warehouse'), (6246, 'freeport-mcmoran'), (6247, 'convert'), (6248, 'adverse'), (6249, 'otherwise'), (6250, 'entity'), (6251, 'liquidated'), (6252, 'distributed'), (6253, 'nissan'), (6254, 'backdrop'), (6255, 'experienced'), (6256, 'remarkable'), (6257, 'difficulties'), (6258, 'firmly'), (6259, 'accident'), (6260, 'unexpected'), (6261, 'full-year'), (6262, 'harry'), (6263, 'mcdonald'), (6264, 'unanticipated'), (6265, 'government-owned'), (6266, 'assembly'), (6267, 'distributes'), (6268, 'produces'), (6269, 'literature'), (6270, 'displays'), (6271, 'meridian'), (6272, 'multinational'), (6273, 'derived'), (6274, 'carnival'), (6275, 'finland'), (6276, 'miami-based'), (6277, 'waertsilae'), (6278, 'finnish'), (6279, 'shipyard'), (6280, 'shipbuilding'), (6281, 'fantasy'), (6282, 'slated'), (6283, 'delivered'), (6284, 'write-off'), (6285, 'capitalized'), (6286, 'adopt'), (6287, 'severance'), (6288, 'staying'), (6289, 'toy'), (6290, 'peaked'), (6291, 'unveiled'), (6292, 'plagued'), (6293, 'fortunes'), (6294, 'bounced'), (6295, 'patch'), (6296, 'winner'), (6297, 'bankruptcy-law'), (6298, 'ortega'), (6299, 'contras'), (6300, 'nicaraguan'), (6301, 'rebels'), (6302, 'cease-fire'), (6303, 'thwart'), (6304, 'balloting'), (6305, 'brushed'), (6306, 'renewing'), (6307, 'contra'), (6308, 'honduras'), (6309, 'sandinista'), (6310, 'troops'), (6311, 'offensive'), (6312, 'rebel'), (6313, 'krenz'), (6314, 'freedoms'), (6315, 'socialism'), (6316, 'communist'), (6317, 'fled'), (6318, 'berlin'), (6319, 'cross-border'), (6320, 'massive'), (6321, 'exodus'), (6322, 'discussion'), (6323, 'conferees'), (6324, 'africa'), (6325, 'armed'), (6326, 'guerrillas'), (6327, 'neighboring'), (6328, 'violating'), (6329, 'peace'), (6330, 'territory'), (6331, 'pretoria'), (6332, 'alert'), (6333, 'guerrilla'), (6334, 'sabotage'), (6335, 'namibia'), (6336, 'lebanon'), (6337, 'salinas'), (6338, 'pledged'), (6339, 'modernization'), (6340, 'pakistan'), (6341, 'defeated'), (6342, 'votes'), (6343, 'trafficking'), (6344, 'coffee'), (6345, 'pan'), (6346, 'cia'), (6347, 'fbi'), (6348, 'bomb'), (6349, 'planted'), (6350, 'aboard'), (6351, 'exploded'), (6352, 'scotland'), (6353, 'studio'), (6354, 'jon'), (6355, 'peters'), (6356, 'guber'), (6357, 'laying'), (6358, 'cost-cutting'), (6359, 'comparison'), (6360, 'disasters'), (6361, 'unconsolidated'), (6362, 'per-share'), (6363, 'brisk'), (6364, 'climb'), (6365, 'outlays'), (6366, 'shrank'), (6367, 'apparent'), (6368, 'drops'), (6369, 'crises'), (6370, 'minimum-wage'), (6371, 'resigning'), (6372, 'depends'), (6373, 'pall'), (6374, 'spiegel'), (6375, 'bears'), (6376, 'shaky'), (6377, 'flies'), (6378, 'planes'), (6379, 'reaching'), (6380, 'cushion'), (6381, 'carl'), (6382, 'jacobs'), (6383, 'latter'), (6384, 'distinct'), (6385, 'reserved'), (6386, 'till'), (6387, 'issuer'), (6388, 'longtime'), (6389, 'battered'), (6390, 'gillett'), (6391, 'restructurings'), (6392, 'balloon'), (6393, 'mellon'), (6394, 'spun'), (6395, 'capitalize'), (6396, 'bread-and-butter'), (6397, 'jonathan'), (6398, 'sanford'), (6399, 'nyse'), (6400, 'genetics'), (6401, 'bone'), (6402, 'protein'), (6403, 'dna'), (6404, 'treating'), (6405, 'induce'), (6406, 'formation'), (6407, 'proteins'), (6408, 'defects'), (6409, 'cancers'), (6410, 'qualified'), (6411, 'liberal'), (6412, 'narrowed'), (6413, 'discrimination'), (6414, 'jurisdiction'), (6415, 'judgment'), (6416, 'runkel'), (6417, 'bench'), (6418, 'vacancy'), (6419, 'ferdinand'), (6420, 'specialized'), (6421, 'pipes'), (6422, 'g.m.b'), (6423, 'shedding'), (6424, 'backlog'), (6425, 'rulings'), (6426, 'investigate'), (6427, 'assess'), (6428, 'apparel'), (6429, 'agreements'), (6430, 'wilmington'), (6431, 'questioned'), (6432, 'wertheim'), (6433, 'schroder'), (6434, 'trim'), (6435, 'bidder'), (6436, 'unwanted'), (6437, 'suitors'), (6438, 'trimmed'), (6439, 'feeding'), (6440, 'holt'), (6441, 'wedtech'), (6442, 'reassuring'), (6443, 'co-author'), (6444, 'integrity'), (6445, 'trip'), (6446, 'bronx'), (6447, 'fingers'), (6448, 'bribe'), (6449, 'harrison'), (6450, 'path'), (6451, 'traveled'), (6452, 'inception'), (6453, 'vital'), (6454, 'army'), (6455, 'born'), (6456, 'puerto'), (6457, 'rico'), (6458, 'races'), (6459, 'famous'), (6460, 'carter'), (6461, 'rebuilding'), (6462, \"'80s\"), (6463, 'mario'), (6464, 'sentence'), (6465, 'bribery'), (6466, 'peddling'), (6467, 'politically'), (6468, 'respectable'), (6469, 'corrupt'), (6470, 'scheme'), (6471, 'bag'), (6472, 'scams'), (6473, 'auditors'), (6474, 'mercedes'), (6475, 'clothes'), (6476, 'irving'), (6477, 'arrested'), (6478, 'rigid'), (6479, 'thieves'), (6480, 'scandals'), (6481, 'hud'), (6482, 'insider'), (6483, 'whenever'), (6484, 'bloc'), (6485, 'stern'), (6486, 'urban'), (6487, 'bankrupt'), (6488, 'oy'), (6489, 'andersson'), (6490, 'lease'), (6491, 'swift'), (6492, 'dashed'), (6493, 'repay'), (6494, 'norfolk'), (6495, 'ralston'), (6496, 'battery'), (6497, 'carbon'), (6498, 'cereal'), (6499, 'bread'), (6500, 'five-cent'), (6501, 'percent'), (6502, '300-day'), (6503, 'binge'), (6504, 'pipeline'), (6505, 'exporters'), (6506, 'trains'), (6507, 'ports'), (6508, 'strain'), (6509, 'mississippi'), (6510, 'upper'), (6511, 'corps'), (6512, 'missouri'), (6513, 'feeds'), (6514, 'sank'), (6515, 'alleviate'), (6516, 'slowed'), (6517, 'bushel'), (6518, 'harvest'), (6519, 'rebuild'), (6520, 'gather'), (6521, 'storage'), (6522, 'permits'), (6523, 'port'), (6524, 'coast'), (6525, 'relieve'), (6526, 'delayed'), (6527, 'refinery'), (6528, 'tightening'), (6529, 'sell-off'), (6530, 'silver'), (6531, 'platinum'), (6532, 'influenced'), (6533, 'elders'), (6534, 'equities'), (6535, 'warehouses'), (6536, 'miners'), (6537, 'procedural'), (6538, 'upbeat'), (6539, 'mood'), (6540, 'ncr'), (6541, 'hub'), (6542, 'riding'), (6543, 'industrywide'), (6544, 'chunks'), (6545, 'marcus'), (6546, 'steelmakers'), (6547, 'kobe'), (6548, 'earning'), (6549, 'bethlehem'), (6550, 'inland'), (6551, 'plummeted'), (6552, 'exceeded'), (6553, 'projections'), (6554, 'bradford'), (6555, 'richer'), (6556, 'pipe'), (6557, 'galvanized'), (6558, 'coated'), (6559, 'marathon'), (6560, 'soliciting'), (6561, 'icahn'), (6562, 'barrett'), (6563, 'leon'), (6564, 'container'), (6565, 'professors'), (6566, 'laurence'), (6567, 'tribe'), (6568, 'procedure'), (6569, 'scuttle'), (6570, 'kennedy'), (6571, 'spectrum'), (6572, 'partial'), (6573, 'shared'), (6574, 'supports'), (6575, 'reckless'), (6576, 'trinity'), (6577, 'theatre'), (6578, 'leisure'), (6579, 'kim'), (6580, 'undermine'), (6581, 'contend'), (6582, 'exercises'), (6583, 'prompt'), (6584, 'ideal'), (6585, 'streamline'), (6586, 'shots'), (6587, 'brian'), (6588, 'counsel'), (6589, 'lengthy'), (6590, 'realities'), (6591, 'object'), (6592, 'tougher'), (6593, 'proxy'), (6594, 'statements'), (6595, 'files'), (6596, 'oversees'), (6597, 'annuity'), (6598, 'relax'), (6599, 'ireland'), (6600, 'excluded'), (6601, 'weapons'), (6602, 'asset-backed'), (6603, 'choices'), (6604, 'biotechnology'), (6605, 'instrumentation'), (6606, 'tyler'), (6607, 'printing'), (6608, 'solo'), (6609, 'creative'), (6610, 'stoltzman'), (6611, 'audiences'), (6612, 'piano'), (6613, 'ranges'), (6614, 'jazz'), (6615, 'exceptions'), (6616, 'embraced'), (6617, 'listening'), (6618, 'appearance'), (6619, 'musical'), (6620, 'concert'), (6621, 'birthday'), (6622, 'animals'), (6623, 'glossy'), (6624, 'buddy'), (6625, 'eddie'), (6626, 'two-part'), (6627, 'singer'), (6628, 'glamorous'), (6629, 'sang'), (6630, 'deep'), (6631, 'etc'), (6632, 'amazing'), (6633, 'warm'), (6634, 'reich'), (6635, 'performer'), (6636, 'lasts'), (6637, 'illustrated'), (6638, 'elegant'), (6639, 'parker'), (6640, 'accomplished'), (6641, 'threatening'), (6642, 'elements'), (6643, 'accompanied'), (6644, 'illustrate'), (6645, 'passes'), (6646, 'unesco'), (6647, 'u.n.'), (6648, 'culture'), (6649, 'desperate'), (6650, 'lobbying'), (6651, 'foreseeable'), (6652, 'uncovered'), (6653, 'kgb'), (6654, 'extreme'), (6655, 'ridiculous'), (6656, 'obliged'), (6657, 'founding'), (6658, 'peoples'), (6659, 'conferences'), (6660, 'principles'), (6661, 'glasnost'), (6662, 'eduard'), (6663, 'shevardnadze'), (6664, 'undermined'), (6665, 'doomed'), (6666, 'manipulation'), (6667, 'executions'), (6668, 'hard-line'), (6669, 'directs'), (6670, 'human-rights'), (6671, 'restrictive'), (6672, 'minds'), (6673, 'governments'), (6674, 'genetic'), (6675, 'belgium'), (6676, 'hybrid'), (6677, 'isolated'), (6678, 'gene'), (6679, 'thereby'), (6680, 'robinson'), (6681, 'delta'), (6682, 'distance'), (6683, 'seeds'), (6684, '1930s'), (6685, 'naturally'), (6686, 'inch'), (6687, 'jan'), (6688, 'goldberg'), (6689, 'greenhouse'), (6690, 'susceptible'), (6691, 'monsanto'), (6692, 'eli'), (6693, 'supposed'), (6694, 'reproductive'), (6695, 'sciences'), (6696, 'virus'), (6697, 'genetically'), (6698, 'automatically'), (6699, 'wind'), (6700, 'breeding'), (6701, 'erupted'), (6702, 'clash'), (6703, 'circles'), (6704, 'clout'), (6705, 'unprecedented'), (6706, 'roles'), (6707, 'embarrassed'), (6708, 'postpone'), (6709, 'aside'), (6710, 'injured'), (6711, 'aligned'), (6712, 'suggestions'), (6713, 'bail'), (6714, 'irresponsible'), (6715, 'confrontation'), (6716, 'anxiety'), (6717, 'opposing'), (6718, 'credit-card'), (6719, 'face-to-face'), (6720, 'itel'), (6721, 'surprises'), (6722, 'plastics'), (6723, 'robots'), (6724, 'investment-banking'), (6725, 'nikko'), (6726, 'oakland'), (6727, 'thief'), (6728, 'blair'), (6729, 'luis'), (6730, 'indian'), (6731, 'pro'), (6732, 'tennis'), (6733, 'golf'), (6734, 'quit'), (6735, 'legendary'), (6736, 'league'), (6737, 'commissioner'), (6738, 'heroes'), (6739, 'developers'), (6740, 'shoes'), (6741, 'palm'), (6742, 'midmorning'), (6743, 'uniform'), (6744, 'fun'), (6745, 'dave'), (6746, 'dream'), (6747, 'kid'), (6748, 'alex'), (6749, 'salesman'), (6750, 'workout'), (6751, 'tourists'), (6752, 'seasons'), (6753, 'pete'), (6754, 'midday'), (6755, 'heat'), (6756, 'camp'), (6757, 'senators'), (6758, 'nagging'), (6759, 'lean'), (6760, 'pitching'), (6761, 'proves'), (6762, 'walked'), (6763, 'chevy'), (6764, 'pickup'), (6765, 'feat'), (6766, 'roy'), (6767, 'sport'), (6768, 'resident'), (6769, 'lawrence'), (6770, 'prepares'), (6771, 'habits'), (6772, '45-year-old'), (6773, 'anymore'), (6774, 'stolen'), (6775, 'throwing'), (6776, 'mph'), (6777, 'throw'), (6778, 'love'), (6779, 'cellular'), (6780, 'franchise'), (6781, 's.c.'), (6782, 'pse'), (6783, 'diesel'), (6784, 'exchanged'), (6785, 'bay'), (6786, 'inflation-adjusted'), (6787, 'recreational'), (6788, 'undervalued'), (6789, 'loan-loss'), (6790, 'obstacle'), (6791, 'ridley'), (6792, 'commons'), (6793, 'luxury-car'), (6794, 'unwelcome'), (6795, 'lobbied'), (6796, 'eventual'), (6797, 'reitman'), (6798, 'barber'), (6799, 'capel'), (6800, 'pays'), (6801, 'lawson'), (6802, 'silly'), (6803, 'defenses'), (6804, 'weakened'), (6805, 'intensive'), (6806, 'invitation'), (6807, 'cooperative'), (6808, 'secure'), (6809, 'shocked'), (6810, 'thatcher'), (6811, 'privatized'), (6812, 'allowing'), (6813, 'hinted'), (6814, 'combining'), (6815, 'projected'), (6816, 'dataproducts'), (6817, 'dpc'), (6818, 'mandatory'), (6819, 'background'), (6820, 'jerome'), (6821, 'soften'), (6822, 'retreating'), (6823, 'rebounded'), (6824, 'topic'), (6825, 'realty'), (6826, 'shifted'), (6827, 'losers'), (6828, 'dealer'), (6829, 'dragged'), (6830, 'neck'), (6831, 'narrower'), (6832, 'abolish'), (6833, 'dates'), (6834, 'alter'), (6835, 'parliamentary'), (6836, 'chancellor'), (6837, 'exchequer'), (6838, 'selective'), (6839, 'dax'), (6840, 'additionally'), (6841, 'beef'), (6842, 'pork'), (6843, 'performances'), (6844, 'metromedia'), (6845, 'renamed'), (6846, 'itt'), (6847, 'provider'), (6848, 'long-distance'), (6849, 'korean'), (6850, 'projecting'), (6851, 'postal'), (6852, 'capable'), (6853, 'cd'), (6854, 'banxquote'), (6855, 'mehl'), (6856, 'lag'), (6857, 'jumbo'), (6858, 'denominations'), (6859, 'respectively'), (6860, 'broker-dealer'), (6861, 'specifically'), (6862, 'flagship'), (6863, 'bankamerica'), (6864, 'ride'), (6865, 'last-minute'), (6866, 'journalism'), (6867, 'athletics'), (6868, 'suggestion'), (6869, 'ballooning'), (6870, 'aviation'), (6871, 'swelled'), (6872, 'enthusiasts'), (6873, 'resemble'), (6874, 'entry'), (6875, 'adjacent'), (6876, 'mountain'), (6877, 'a.m.'), (6878, 'attraction'), (6879, 'hate'), (6880, 'pilot'), (6881, 'noon'), (6882, 'lots'), (6883, 'deciding'), (6884, 'passengers'), (6885, 'steer'), (6886, 'propane'), (6887, 'seldom'), (6888, 'bet'), (6889, 'leaping'), (6890, 'tanks'), (6891, 'wearing'), (6892, 'blast'), (6893, 'pleasure'), (6894, 'farmer'), (6895, 'precision'), (6896, 'nursing'), (6897, 'figured'), (6898, 'minimize'), (6899, 'intervened'), (6900, 'foreign-exchange'), (6901, 'recognized'), (6902, 'restrain'), (6903, 'manuel'), (6904, 'fundamentals'), (6905, 'testimony'), (6906, 'insisting'), (6907, 'acknowledged'), (6908, 'vienna'), (6909, 'destruction'), (6910, 'treaty'), (6911, 'europeans'), (6912, 'soil'), (6913, 'nato'), (6914, 'retains'), (6915, 'arms-control'), (6916, 'ally'), (6917, 'parity'), (6918, 'bargaining'), (6919, 'timetable'), (6920, 'seemingly'), (6921, 'tank'), (6922, 'negotiation'), (6923, 'blocking'), (6924, 'suspected'), (6925, 'sloppy'), (6926, 'theirs'), (6927, 'danger'), (6928, 'miss'), (6929, 'somewhere'), (6930, 'unraveled'), (6931, 'jets'), (6932, 'norway'), (6933, 'jobless'), (6934, 'soft-drink'), (6935, 'fraser'), (6936, 'bottling'), (6937, 'franchisee'), (6938, 'eagerness'), (6939, 'disposable'), (6940, 'aging'), (6941, 'heaviest'), (6942, 'soda'), (6943, 'boards'), (6944, 'sharing'), (6945, 'giovanni'), (6946, 'agnelli'), (6947, 'strengthen'), (6948, 'fiat'), (6949, 'admit'), (6950, 'prince'), (6951, 'aga'), (6952, 'khan'), (6953, 'private-sector'), (6954, 'maria'), (6955, 'sister'), (6956, 'ifi'), (6957, 's.a.'), (6958, 'lire'), (6959, 'sailing'), (6960, 'collaboration'), (6961, 'weekend'), (6962, 'readers'), (6963, 'dangerous'), (6964, 'mci'), (6965, 'vetoed'), (6966, 'newcomers'), (6967, 'ranking'), (6968, 'afterward'), (6969, 'murphy'), (6970, 'lighting'), (6971, 'single-a-3'), (6972, 'single-a-2'), (6973, 'collateralized'), (6974, 'generating'), (6975, 'armstrong'), (6976, 'carpet'), (6977, 'upgraded'), (6978, 'first-quarter'), (6979, 'slight'), (6980, 'lend'), (6981, 'clue'), (6982, 'horizon'), (6983, 'witter'), (6984, 'reynolds'), (6985, 'sample'), (6986, 'component'), (6987, 'components'), (6988, 'vendor'), (6989, 'deliveries'), (6990, 'poll'), (6991, 'sometime'), (6992, 'submitted'), (6993, 'clifford'), (6994, 'unnecessary'), (6995, 'berkeley'), (6996, 'jeans'), (6997, 'rejection'), (6998, 'marriage'), (6999, 'egg'), (7000, 'tale'), (7001, 'spy'), (7002, 'stealing'), (7003, 'hess'), (7004, 'secrets'), (7005, 'eggs'), (7006, 'unix'), (7007, 'routinely'), (7008, 'laboratory'), (7009, 'user'), (7010, 'hunter'), (7011, 'valid'), (7012, 'hacker'), (7013, 'legitimate'), (7014, 'alarm'), (7015, 'portable'), (7016, 'nights'), (7017, 'desk'), (7018, 'boss'), (7019, 'chores'), (7020, 'accessible'), (7021, 'missile'), (7022, 'drag'), (7023, 'terminal'), (7024, 'tape'), (7025, 'linking'), (7026, 'hunt'), (7027, 'invited'), (7028, 'theft'), (7029, 'humor'), (7030, 'mips'), (7031, 'microsystems'), (7032, 'digital'), (7033, 'sunnyvale'), (7034, 'instructions'), (7035, 'risc'), (7036, 'wedge'), (7037, 'hewlett-packard'), (7038, 'motorola'), (7039, 'speeds'), (7040, 'essential'), (7041, 'tandem'), (7042, 'siemens'), (7043, 'a.g.'), (7044, 'minn.'), (7045, 'brewing'), (7046, 'bailout'), (7047, 'counted'), (7048, 'rtc'), (7049, 'deficit-reduction'), (7050, 'gramm-rudman'), (7051, 'sick'), (7052, 'allows'), (7053, 'insolvent'), (7054, 's&ls'), (7055, 'meantime'), (7056, 'mullins'), (7057, 'dump'), (7058, 'okla.'), (7059, 'cubic'), (7060, 'transmission'), (7061, 'pipelines'), (7062, 'cup'), (7063, 'notebook'), (7064, 'shere'), (7065, 'leads'), (7066, 'driven'), (7067, 'tips'), (7068, 'alice'), (7069, 'cooking'), (7070, 'ice'), (7071, 'fool'), (7072, 'repeated'), (7073, 'constant'), (7074, 'moral'), (7075, 'regularly'), (7076, 'butter'), (7077, 'overwhelming'), (7078, 'newport'), (7079, 'incumbent'), (7080, 'milton'), (7081, 'hollander'), (7082, 'weekes'), (7083, 'ousted'), (7084, 'titles'), (7085, '2-for-1'), (7086, 'lumber'), (7087, 'healthcare'), (7088, 'standstill'), (7089, 'healthvest'), (7090, 'health-care'), (7091, 'overdue'), (7092, 'rent'), (7093, 'owes'), (7094, 'rehabilitation'), (7095, '20th'), (7096, 'myself'), (7097, 'redemptions'), (7098, 'painfully'), (7099, \"o'kicki\"), (7100, 'cambria'), (7101, 'marched'), (7102, 'flowing'), (7103, 'king'), (7104, 'foothills'), (7105, 'behaved'), (7106, 'arrogant'), (7107, 'communities'), (7108, 'indicted'), (7109, 'secretaries'), (7110, 'imperial'), (7111, 'lawn'), (7112, 'fix'), (7113, 'bizarre'), (7114, 'chambers'), (7115, 'occasions'), (7116, 'underwear'), (7117, 'testified'), (7118, 'courthouse'), (7119, 'investigators'), (7120, 'abused'), (7121, 'pervasive'), (7122, 'maurice'), (7123, 'challenges'), (7124, 'loath'), (7125, 'thornburgh'), (7126, 'married'), (7127, 'daughter'), (7128, 'clerk'), (7129, 'grasp'), (7130, 'columnist'), (7131, 'spoken'), (7132, 'misconduct'), (7133, 'verdict'), (7134, 'unexpectedly'), (7135, 'residents'), (7136, 'dance'), (7137, 'lid'), (7138, 'tightly'), (7139, 'chair'), (7140, 'hats'), (7141, 'jailed'), (7142, 'seniority'), (7143, 'fiercely'), (7144, 'proud'), (7145, 'dealership'), (7146, 'unrelated'), (7147, 'laurel'), (7148, 'intervene'), (7149, 'adversary'), (7150, 'inclined'), (7151, 'reconsider'), (7152, 'unfortunate'), (7153, 'onerous'), (7154, 'defend'), (7155, 'brick'), (7156, 'pre-trial'), (7157, 'intact'), (7158, 'innocent'), (7159, 'comic'), (7160, 'sand'), (7161, 'await'), (7162, 'charitable'), (7163, 'whatever'), (7164, 'newsprint'), (7165, 'excellent'), (7166, 'beatrice'), (7167, 'scaled'), (7168, 'reset'), (7169, 'float'), (7170, 'wastewater'), (7171, 'uninsured'), (7172, 'remic'), (7173, '20-year'), (7174, 'weighted'), (7175, 'j.c.'), (7176, 'penney'), (7177, 'railway'), (7178, 'monte'), (7179, 'di'), (7180, 'deutsche'), (7181, 'owe'), (7182, 'minpeco'), (7183, 'minerals'), (7184, 'abramson'), (7185, 'demanded'), (7186, 'gamble'), (7187, 'packaged'), (7188, 'courses'), (7189, 'drum'), (7190, 'dipped'), (7191, 'prepaid'), (7192, 'reinvest'), (7193, 'homeowners'), (7194, 'posed'), (7195, 'takeovers'), (7196, 'rage'), (7197, 'colors'), (7198, 'adoption'), (7199, 'reduces'), (7200, 'evaluate'), (7201, 'viable'), (7202, 'chances'), (7203, 'forever'), (7204, 'pennzoil'), (7205, 'prudent'), (7206, 'intergroup'), (7207, 'wisconsin'), (7208, 'informal'), (7209, 'enfield'), (7210, 'ontario'), (7211, 'libel'), (7212, 'hees'), (7213, 'financiers'), (7214, 'bronfman'), (7215, 'alley'), (7216, 'backlash'), (7217, 'reactions'), (7218, 'avoided'), (7219, 'heels'), (7220, 'mid-1980s'), (7221, 'arco'), (7222, 'partnerships'), (7223, 'landmark'), (7224, 'cooperate'), (7225, 'interfere'), (7226, 'rely'), (7227, 'western-style'), (7228, 'dubious'), (7229, 'literally'), (7230, 'tenants'), (7231, 'robust'), (7232, 'lagged'), (7233, 'finances'), (7234, 'enemies'), (7235, 'hollywood'), (7236, 'bros.'), (7237, 'signaled'), (7238, 'injunction'), (7239, 'guber-peters'), (7240, 'accusations'), (7241, 'mgm'), (7242, 'sworn'), (7243, 'affidavits'), (7244, 'walter'), (7245, 'yetnikoff'), (7246, 'affidavit'), (7247, 'co-chief'), (7248, 'enjoys'), (7249, 'relationships'), (7250, 'alongside'), (7251, 'fray'), (7252, 'fulfill'), (7253, 'exclude'), (7254, 'lie'), (7255, 'studios'), (7256, 'batman'), (7257, 'blockbuster'), (7258, 'conspiracy'), (7259, 'evasion'), (7260, 'conspired'), (7261, 'spare'), (7262, 'plead'), (7263, 'leonard'), (7264, 'frequent'), (7265, 'grab'), (7266, 'seagram'), (7267, 'upgrade'), (7268, 'repeat'), (7269, 'mounting'), (7270, 'liquor'), (7271, 'risky'), (7272, 'penn'), (7273, 'greene'), (7274, 'scottish'), (7275, 'scope'), (7276, 'leg'), (7277, '12-month'), (7278, 'hispanic'), (7279, 'cholesterol'), (7280, 'hispanics'), (7281, 'grocery'), (7282, 'jewelry'), (7283, 'cosmetics'), (7284, 'fake'), (7285, 'fashionable'), (7286, 'karen'), (7287, 'launching'), (7288, 'hiring'), (7289, 'sporting'), (7290, 'borrow'), (7291, 'animal'), (7292, 'focuses'), (7293, 'procter'), (7294, 'tide'), (7295, 'convenience'), (7296, 'oat'), (7297, 'bran'), (7298, 'northwest'), (7299, 'jetliner'), (7300, 'nwa'), (7301, 'mcdonnell'), (7302, 'pursuing'), (7303, 'airport'), (7304, 'cook'), (7305, 'improperly'), (7306, 'detected'), (7307, 'survived'), (7308, 'brother'), (7309, 'alabama'), (7310, 'unification'), (7311, 'mystery'), (7312, 'multimillion-dollar'), (7313, 'messiah'), (7314, 'unified'), (7315, 'spreading'), (7316, 'enterprises'), (7317, 'tax-exempt'), (7318, 'economically'), (7319, 'infrastructure'), (7320, 'spokesmen'), (7321, 'yankee'), (7322, 'income-tax'), (7323, 'enthusiastic'), (7324, 'misleading'), (7325, 'flowers'), (7326, 'peanuts'), (7327, 'marble'), (7328, 'sociologist'), (7329, 'likewise'), (7330, 'burgess'), (7331, 'transferred'), (7332, 'fishing'), (7333, 'vessels'), (7334, 'budgets'), (7335, 'exotic'), (7336, 'dual'), (7337, 'investigator'), (7338, 'hosts'), (7339, 'retreat'), (7340, 'respectability'), (7341, 'intellectuals'), (7342, 'salvage'), (7343, 'goals'), (7344, 'strange'), (7345, 'scare'), (7346, 'manville'), (7347, 'forest'), (7348, 'recapitalization'), (7349, 'pravda'), (7350, 'bloated'), (7351, 'republics'), (7352, 'border'), (7353, 'slashed'), (7354, 'continent'), (7355, 'tourist'), (7356, 'flying'), (7357, 'agent'), (7358, 'flight'), (7359, 'transport'), (7360, 'israeli'), (7361, 'protocol'), (7362, 'venezuela'), (7363, 'participating'), (7364, 'song'), (7365, 'identity'), (7366, 'marcos'), (7367, 'privileges'), (7368, 'spouses'), (7369, 'keenan'), (7370, 'racketeering'), (7371, 'crimes'), (7372, 'threw'), (7373, 'objections'), (7374, 'chicago-based'), (7375, 'morris'), (7376, 'advising'), (7377, 'bruce'), (7378, 'tap'), (7379, 'intentionally'), (7380, 'wars'), (7381, 'legislator'), (7382, 'proposes'), (7383, 'senator'), (7384, 'embarrassment'), (7385, 'wore'), (7386, 'abolished'), (7387, 'freight'), (7388, 'schedules'), (7389, 'dress'), (7390, 'staffers'), (7391, 'sung'), (7392, 'sedan'), (7393, 'postwar'), (7394, 'discover'), (7395, 'kume'), (7396, 'toyota'), (7397, 'honda'), (7398, 'dropping'), (7399, 'tasks'), (7400, 'boring'), (7401, 'hoping'), (7402, 'dealerships'), (7403, 'trendy'), (7404, 'trips'), (7405, 'productive'), (7406, 'liked'), (7407, 'lobby'), (7408, 'exhibit'), (7409, 'shifts'), (7410, 'resisted'), (7411, 'neglected'), (7412, 'revamped'), (7413, 'grabbed'), (7414, 'recoup'), (7415, 'optimistic'), (7416, 'designs'), (7417, 'batch'), (7418, 'successes'), (7419, 'compact'), (7420, 'trails'), (7421, 'stanza'), (7422, 'engine'), (7423, 'rebates'), (7424, 'civic'), (7425, 'infiniti'), (7426, 'lexus'), (7427, 'rocks'), (7428, 'hurry'), (7429, 'gap'), (7430, 'headaches'), (7431, 'tennessee'), (7432, 'organizing'), (7433, 'overseeing'), (7434, 'momentum'), (7435, 'mca'), (7436, 'azoff'), (7437, 'summit'), (7438, 'naval'), (7439, 'vessel'), (7440, 'disrupt'), (7441, 'announcing'), (7442, 'diversion'), (7443, 'ethnic'), (7444, 'unrest'), (7445, 'reacting'), (7446, 'communism'), (7447, 'damp'), (7448, 'critic'), (7449, 'arranging'), (7450, 'advisers'), (7451, 'appearances'), (7452, 'u.s.-soviet'), (7453, 'terrorism'), (7454, 'tariffs'), (7455, 'grow'), (7456, 'kremlin'), (7457, 'comparisons'), (7458, 'gathering'), (7459, 'readily'), (7460, 'transform'), (7461, 'loosen'), (7462, 'grip'), (7463, 'suggesting'), (7464, 'marking'), (7465, 'bnl'), (7466, 'fiduciary'), (7467, 'suitable'), (7468, 'rome'), (7469, 'outlined'), (7470, 'dragging'), (7471, 'anti-nuclear'), (7472, 'activists'), (7473, 'gandhi'), (7474, 'non-violent'), (7475, 'disobedience'), (7476, 'passive'), (7477, 'webster'), (7478, 'indians'), (7479, 'affected'), (7480, 'truly'), (7481, 'excuse'), (7482, 'parks'), (7483, 'bus'), (7484, 'illustration'), (7485, 'tendency'), (7486, 'violent'), (7487, 'gestures'), (7488, 'posture'), (7489, 'apt'), (7490, 'site'), (7491, 'criminals'), (7492, 'excitement'), (7493, 'demonstration'), (7494, 'speeding'), (7495, 'dies'), (7496, 'airing'), (7497, 'politician'), (7498, 'cameras'), (7499, 'phil'), (7500, 'indirectly'), (7501, 'vietnam'), (7502, 'hide'), (7503, 'fabric'), (7504, 'enemy'), (7505, 'cambodia'), (7506, 'morally'), (7507, 'draft'), (7508, 'dignity'), (7509, 'extraordinarily'), (7510, 'informed'), (7511, 'probable'), (7512, 'calm'), (7513, 'rational'), (7514, 'deukmejian'), (7515, 'repairs'), (7516, 'quake'), (7517, 'bipartisan'), (7518, 'consumer-products'), (7519, 'discounting'), (7520, 'audits'), (7521, 'pigs'), (7522, 'update'), (7523, 'selection'), (7524, 'specially'), (7525, 'deductions'), (7526, 'dependents'), (7527, 'satisfied'), (7528, 'overhaul'), (7529, 'enactment'), (7530, 'modified'), (7531, 'backs'), (7532, 'negligence'), (7533, 'urges'), (7534, 'assessment'), (7535, 'oregon'), (7536, 'advises'), (7537, 'mile'), (7538, 'ira'), (7539, 'wash'), (7540, 'violates'), (7541, 'delegation'), (7542, 'rode'), (7543, 'horses'), (7544, 'conservation'), (7545, 'sideline'), (7546, 'horse'), (7547, 'inspector'), (7548, 'arbitrator'), (7549, 'arbitration'), (7550, 'burton'), (7551, 'collect'), (7552, 'acceptable'), (7553, 'unwarranted'), (7554, 'delicate'), (7555, 'supervisors'), (7556, 'ironically'), (7557, 'achenbaum'), (7558, 'beating'), (7559, 'worldwide'), (7560, 'hesitate'), (7561, 'saatchi'), (7562, 'hyundai'), (7563, 'searches'), (7564, 'invites'), (7565, 'strokes'), (7566, 'retire'), (7567, 'outfit'), (7568, 'thompson'), (7569, 'best-known'), (7570, 'frustrated'), (7571, 'struck'), (7572, 'integrate'), (7573, 'pure'), (7574, 'accomplish'), (7575, 'johnston'), (7576, 'outspoken'), (7577, 'spots'), (7578, 'opted'), (7579, 'macy'), (7580, 'parade'), (7581, 'nfl'), (7582, 'orthodox'), (7583, 'scene'), (7584, 'missing'), (7585, 'deeper'), (7586, 'prosperity'), (7587, 'sustain'), (7588, 'mosbacher'), (7589, 'deficits'), (7590, 'satisfy'), (7591, 'consumed'), (7592, 'turbulence'), (7593, 'preserve'), (7594, 'filipino'), (7595, 'tries'), (7596, 'royalties'), (7597, 'sen'), (7598, 'knock'), (7599, 'khmer'), (7600, 'rouge'), (7601, 'levy'), (7602, 'tumor'), (7603, 'clinic'), (7604, 'shocks'), (7605, 'nerves'), (7606, 'monitored'), (7607, 'tragedy'), (7608, 'probe'), (7609, 'safer'), (7610, 'multiple'), (7611, 'workings'), (7612, 'hand-held'), (7613, 'finger'), (7614, 'circuits'), (7615, 'measuring'), (7616, 'function'), (7617, 'clinical'), (7618, 'stimulate'), (7619, 'diego'), (7620, 'handy'), (7621, 'brains'), (7622, 'stimulators'), (7623, 'retrieve'), (7624, 'seizures'), (7625, 'sam'), (7626, 'muscle'), (7627, 'someday'), (7628, 'hearts'), (7629, 'possibilities'), (7630, 'probing'), (7631, 'reveal'), (7632, 'exploring'), (7633, 'jolted'), (7634, 'jolt'), (7635, 'theories'), (7636, 'jeopardize'), (7637, 'potent'), (7638, 'forth'), (7639, 'palo'), (7640, 'alto'), (7641, 'receivables'), (7642, 'thereafter'), (7643, 'trustee'), (7644, 'dizzying'), (7645, 'musicians'), (7646, 'perfect'), (7647, 'wider'), (7648, 'ocean'), (7649, 'discipline'), (7650, 'unpopular'), (7651, 'revolutionary'), (7652, 'consume'), (7653, 'inflows'), (7654, 'fruit'), (7655, 'gate'), (7656, 'appreciate'), (7657, 'petrochemicals'), (7658, 'stems'), (7659, 'leftist'), (7660, 'trusts'), (7661, 'bosses'), (7662, 'catching'), (7663, 'pledge'), (7664, 'tumbling'), (7665, 'pessimistic'), (7666, 'near-term'), (7667, 'mildly'), (7668, 'bullish'), (7669, 'owen'), (7670, 'kleinwort'), (7671, 'benson'), (7672, 'narrowing'), (7673, 'influences'), (7674, 'marked'), (7675, 'tumble'), (7676, 'widening'), (7677, 'knocking'), (7678, 'predictions'), (7679, 'regain'), (7680, 'contended'), (7681, 'bear'), (7682, 'culmination'), (7683, 'hastings'), (7684, 'repeal'), (7685, 'helmut'), (7686, 'tends'), (7687, 'taxed'), (7688, 'budgetary'), (7689, 'coalition'), (7690, 'mess'), (7691, 'second-quarter'), (7692, 'incidents'), (7693, 'echo'), (7694, 'restated'), (7695, 'monitoring'), (7696, 'vulnerable'), (7697, 'assumptions'), (7698, 'wathen'), (7699, 'pinkerton'), (7700, 'encountered'), (7701, 'olympics'), (7702, 'divestiture'), (7703, 'demonstrate'), (7704, 'lbo'), (7705, 'unprofitable'), (7706, 'rid'), (7707, 'boasts'), (7708, 'alleges'), (7709, 'concerning'), (7710, 'falcon'), (7711, 'long-awaited'), (7712, 'describing'), (7713, 'ferry'), (7714, 'method'), (7715, 'tucker'), (7716, 'proceed'), (7717, 'tighten'), (7718, 'subsidies'), (7719, 'affluent'), (7720, 'pot'), (7721, 'fha'), (7722, 'insure'), (7723, 'persuaded'), (7724, 'sour'), (7725, 'idle'), (7726, 'defaults'), (7727, 'cranston'), (7728, 'ensuring'), (7729, 'ink'), (7730, 'kemp'), (7731, 'lies'), (7732, 'pork-barrel'), (7733, 'hemorrhaging'), (7734, 'solving'), (7735, 'gillette'), (7736, 'tass'), (7737, 'rubles'), (7738, 'ruble'), (7739, 'sequester'), (7740, 'thoughts'), (7741, 'frustration'), (7742, 'pros'), (7743, 'daffynition'), (7744, 'applause'), (7745, 'drilling'), (7746, 'arkansas'), (7747, 'seidman'), (7748, 'free-market'), (7749, 'rush'), (7750, 'radical'), (7751, 'revision'), (7752, 'gnp'), (7753, 'eroding'), (7754, 'surging'), (7755, 'contentious'), (7756, 'strikes'), (7757, 'pittston'), (7758, 'nynex'), (7759, 'capitalists'), (7760, 'false'), (7761, 'revamping'), (7762, 'catastrophic'), (7763, 'medicare'), (7764, 'medicaid'), (7765, 'magic'), (7766, 'bullet'), (7767, 'sharon'), (7768, 'nam'), (7769, 'availability'), (7770, 'effectiveness'), (7771, 'guidelines'), (7772, 'leased'), (7773, 'employ'), (7774, 'utah'), (7775, 'reception'), (7776, 'hopeful'), (7777, 'consolidation'), (7778, 'landscape'), (7779, 'oppenheimer'), (7780, 'weyerhaeuser'), (7781, 'presents'), (7782, 'dive'), (7783, 'strengthening'), (7784, 'boxes'), (7785, 'exported'), (7786, 'rod'), (7787, 'resource'), (7788, 'lipton'), (7789, 'rosen'), (7790, 'katz'), (7791, 'barring'), (7792, 'rallied'), (7793, 'flurry'), (7794, 'duff'), (7795, 'phelps'), (7796, 'soar'), (7797, 'underscored'), (7798, 'leaped'), (7799, 'variations'), (7800, 'coatings'), (7801, 'flexible'), (7802, 'stateswest'), (7803, 'mesa'), (7804, 'abandoning'), (7805, 'pursuit'), (7806, 'nevada'), (7807, 'wyoming'), (7808, 'depress'), (7809, 'comply'), (7810, 'tangible'), (7811, 'ratio'), (7812, 'celebration'), (7813, 'anniversary'), (7814, 'kraft'), (7815, 'roots'), (7816, 'blanket'), (7817, 'shelves'), (7818, 'prime-time'), (7819, 'tucson'), (7820, 'themes'), (7821, 'portraying'), (7822, 'killer'), (7823, 'mafia'), (7824, 'rjr'), (7825, 'nabisco'), (7826, 'touting'), (7827, 'legitimacy'), (7828, 'doldrums'), (7829, 'microsoft'), (7830, 'phenomenon'), (7831, 'robin'), (7832, 'dominate'), (7833, 'rallies'), (7834, 'outperform'), (7835, 'hambrecht'), (7836, 'quist'), (7837, 'stalled'), (7838, 'in-house'), (7839, 'suitor'), (7840, 'gen-probe'), (7841, 'chugai'), (7842, 'delaying'), (7843, 'outcome'), (7844, 'low-income'), (7845, 'sessions'), (7846, 'prohibition'), (7847, 'alaska'), (7848, 'prescribed'), (7849, 'far-reaching'), (7850, 'refinancing'), (7851, 'high-interest'), (7852, 'subsidized'), (7853, 'disruptions'), (7854, 'forge'), (7855, 'aeronautics'), (7856, 'satellite'), (7857, 'nasa'), (7858, 'room'), (7859, 'byrd'), (7860, 'neb.'), (7861, 'denver'), (7862, 'confusion'), (7863, 'absence'), (7864, 'authorization'), (7865, 'coda'), (7866, 'consolidate'), (7867, 'repurchase'), (7868, 'd'), (7869, 'ted'), (7870, 'dedicated'), (7871, 'loral'), (7872, 'scenarios'), (7873, 'stearns'), (7874, 'presumed'), (7875, 'contemplating'), (7876, 'poorer'), (7877, 'cnw'), (7878, 'spin'), (7879, 'belief'), (7880, 'earthquakes'), (7881, 'fetch'), (7882, 'orkem'), (7883, 'state-controlled'), (7884, 'coates'), (7885, 'spencer'), (7886, 'lincoln'), (7887, 'regulator'), (7888, 'deputies'), (7889, 'danny'), (7890, 'panamanian'), (7891, 'keating'), (7892, 'meat'), (7893, 'gonzalez'), (7894, 'kevin'), (7895, \"o'connell\"), (7896, 'fraudulent'), (7897, 'oddly'), (7898, 'donated'), (7899, 'recycling'), (7900, 'aroused'), (7901, 'erosion'), (7902, 'discounted'), (7903, 'footing'), (7904, 'dallas-based'), (7905, 'modernize'), (7906, 'reverse'), (7907, 'hot-dipped'), (7908, 'assurances'), (7909, '13-week'), (7910, '26-week'), (7911, 'tenders'), (7912, 'televised'), (7913, 'idaho'), (7914, 'potato'), (7915, 'cohen'), (7916, 'boyer'), (7917, 'bacteria'), (7918, 'injection'), (7919, 'genentech'), (7920, 'insulin'), (7921, 'diabetics'), (7922, 'applying'), (7923, 'lyonnais'), (7924, 'cie.'), (7925, 'mixte'), (7926, 'societe'), (7927, 'cie'), (7928, 'financiere'), (7929, 'unocal'), (7930, 'refining'), (7931, 'revolving'), (7932, 'underwritten'), (7933, 'terminals'), (7934, 'company-owned'), (7935, 'streamlining'), (7936, 'accompanying'), (7937, 'popularity'), (7938, 'child-care'), (7939, 'corresponding'), (7940, 'write-offs'), (7941, 'averages'), (7942, 'surface'), (7943, 'psychological'), (7944, 'cease'), (7945, 'cascade'), (7946, 'pfizer'), (7947, 'schering-plough'), (7948, 'chevron'), (7949, 'definitively'), (7950, 'ogden'), (7951, 'cilcorp'), (7952, 'analytical'), (7953, 'occupied'), (7954, 'crush'), (7955, 'confiscated'), (7956, 'unpaid'), (7957, 'staged'), (7958, 'nicaragua'), (7959, 'condemn'), (7960, 'cancel'), (7961, 'managua'), (7962, 'afghanistan'), (7963, 'kabul'), (7964, 'civilian'), (7965, 'conservatives'), (7966, 'dissent'), (7967, 'whites'), (7968, 'hall'), (7969, 'vietnamese'), (7970, 'tanker'), (7971, 'fairfield'), (7972, 'preparing'), (7973, 'diplomat'), (7974, 'constituents'), (7975, 'representation'), (7976, 'constituency'), (7977, 'convincing'), (7978, 'mimic'), (7979, 'revisions'), (7980, 'geared'), (7981, 'craig'), (7982, 'looms'), (7983, 'miniscribe'), (7984, 'disk-drive'), (7985, 'strategist'), (7986, 'sharpest'), (7987, 'tapped'), (7988, 'pinpoint'), (7989, 'trough'), (7990, 'triggering'), (7991, 'drill'), (7992, 'bond-equivalent'), (7993, 'floating'), (7994, 'contemplated'), (7995, 'lists'), (7996, 'calendar'), (7997, 'tunnel'), (7998, 'municipals'), (7999, 'reoffered'), (8000, 'interpreted'), (8001, 'prentice'), (8002, 'electronically'), (8003, 'governing'), (8004, 'fasb'), (8005, 'entities'), (8006, 'gasb'), (8007, 'depreciation'), (8008, 'avery'), (8009, 'uniroyal'), (8010, 'intends'), (8011, 'one-half'), (8012, 'volumes'), (8013, 'shelters'), (8014, 'breath'), (8015, 'firmer'), (8016, 'aftershocks'), (8017, 'creeping'), (8018, 'fever'), (8019, 'rescue'), (8020, 'recessions'), (8021, 'pepsico'), (8022, 'cheap'), (8023, 'flamboyant'), (8024, 'lows'), (8025, 'price-earnings'), (8026, 'ratios'), (8027, 'restricted'), (8028, 'bunch'), (8029, 'likes'), (8030, 'ozone'), (8031, 'negligible'), (8032, 'birth'), (8033, 'solar'), (8034, 'radiation'), (8035, 'doubtful'), (8036, 'toxic'), (8037, 'chlorofluorocarbons'), (8038, 'depletion'), (8039, 'earth'), (8040, 'montreal'), (8041, 'uv-b'), (8042, 'measurements'), (8043, 'russians'), (8044, 'max'), (8045, 'hence'), (8046, 'greeted'), (8047, 'credible'), (8048, 'cfcs'), (8049, 'subsequently'), (8050, 'underground'), (8051, 'epa'), (8052, 'honest'), (8053, 'discovery'), (8054, 'experiments'), (8055, 'chemistry'), (8056, 'quotes'), (8057, 'teagan'), (8058, 'atmospheric'), (8059, 'expertise'), (8060, 'rifenburgh'), (8061, 'announcements'), (8062, 'questioning'), (8063, 'detailing'), (8064, 'shipment'), (8065, 'defective'), (8066, 'coopers'), (8067, 'flags'), (8068, 'flaws'), (8069, 'definition'), (8070, 'intimate'), (8071, 'sexual'), (8072, 'vivid'), (8073, 'underwriting'), (8074, 'underwrite'), (8075, 'challenged'), (8076, 'approvals'), (8077, 'treasurys'), (8078, 'sinyard'), (8079, 'cycling'), (8080, 'bike'), (8081, 'bicycle'), (8082, 'desks'), (8083, 'bikes'), (8084, 'mountain-bike'), (8085, 'entrepreneurial'), (8086, 'eidsmo'), (8087, 'tighter'), (8088, 'painful'), (8089, 'lined'), (8090, 'frame'), (8091, 'titanium'), (8092, 'burke'), (8093, 'taiwanese'), (8094, 'niche'), (8095, 'distributors'), (8096, 'wholly'), (8097, 'consolidating'), (8098, 'pfeiffer'), (8099, 'manufactures'), (8100, 'mainframes'), (8101, 'minicomputers'), (8102, 'franco'), (8103, 'accumulation'), (8104, 'consortium'), (8105, 'conceded'), (8106, 'channels'), (8107, 'installation'), (8108, 'rupert'), (8109, 'murdoch'), (8110, 'courtaulds'), (8111, 'daimler-benz'), (8112, 'advancers'), (8113, 'foreign-currency'), (8114, 'unstable'), (8115, 'ig'), (8116, 'metall'), (8117, 'tentative'), (8118, 'capitalization'), (8119, 'raiders'), (8120, 'logical'), (8121, 'enhance'), (8122, 'kerry'), (8123, 'zoete'), (8124, 'wedd'), (8125, 'affiliated'), (8126, 'prevention'), (8127, 'franklin'), (8128, 'vacated'), (8129, 'iron'), (8130, 'busy'), (8131, 'burst'), (8132, 'tonight'), (8133, 'comptroller'), (8134, 'hastily'), (8135, 'narrows'), (8136, 'widens'), (8137, 'dated'), (8138, 'sinking'), (8139, 'new-issue'), (8140, 'kohlberg'), (8141, 'kravis'), (8142, 'roberts'), (8143, 'carolinas'), (8144, 'issuance'), (8145, 'home-equity'), (8146, 'peat'), (8147, 'adams'), (8148, 'diagnostic'), (8149, 'bologna'), (8150, 'know-how'), (8151, 'mich'), (8152, 'pump'), (8153, 'technological'), (8154, 'detect'), (8155, 'deficiency'), (8156, 'pitch'), (8157, 'weaknesses'), (8158, 'recorders'), (8159, 'theoretical'), (8160, 'journalist'), (8161, 'bets'), (8162, 'toshiba'), (8163, 'hurdle'), (8164, 'credited'), (8165, 'horrible'), (8166, 'roper'), (8167, 'gear'), (8168, 'fitness'), (8169, 'intentions'), (8170, 'doyle'), (8171, 'desert'), (8172, 'potatoes'), (8173, 'bound'), (8174, 'garden'), (8175, 'vigorous'), (8176, 'skiing'), (8177, 'fad'), (8178, 'wiped'), (8179, 'walks'), (8180, 'leslie'), (8181, 'bryant'), (8182, 'bodies'), (8183, 'bowling'), (8184, 'endangered'), (8185, 'commissioned'), (8186, 'uncertain'), (8187, 'mills'), (8188, 'md'), (8189, 'ghosts'), (8190, 'haunts'), (8191, 'skeptics'), (8192, 'explanation'), (8193, 'pizza'), (8194, 'bed'), (8195, 'dreams'), (8196, 'hyman'), (8197, 'celebrating'), (8198, 'halloween'), (8199, 'occasion'), (8200, 'ghost'), (8201, 'aliens'), (8202, 'cadillac'), (8203, 'suits'), (8204, 'lexington'), (8205, 'vacuum'), (8206, 'flew'), (8207, 'kitchen'), (8208, 'dog'), (8209, 'receiver'), (8210, 'investigated'), (8211, 'omni'), (8212, 'shrink'), (8213, 'carpenter'), (8214, 'illusion'), (8215, 'shadow'), (8216, 'attacked'), (8217, 'smiling'), (8218, 'burns'), (8219, 'sons'), (8220, 'ken'), (8221, 'temblor'), (8222, 'k'), (8223, 'physicians'), (8224, 'lets'), (8225, 'towers'), (8226, 'burger'), (8227, 'grades'), (8228, 'ski'), (8229, 'debates'), (8230, 'whoever'), (8231, 'commanding'), (8232, 'jose'), (8233, 'electoral'), (8234, 'brink'), (8235, 'platform'), (8236, 'hedge'), (8237, 'inefficient'), (8238, 'uncommon'), (8239, 'dial'), (8240, 'interrupted'), (8241, 'finishing'), (8242, 'freeze'), (8243, 'devaluation'), (8244, 'shield'), (8245, 'subsidizing'), (8246, 'runaway'), (8247, 'humana'), (8248, 'prevented'), (8249, 'physician'), (8250, 'infection'), (8251, 'nurses'), (8252, 'knight-ridder'), (8253, 'nrm'), (8254, 'restrict'), (8255, 'distributions'), (8256, 'cumulative'), (8257, 'edisto'), (8258, 'angeles-based'), (8259, 'jittery'), (8260, 'reinvested'), (8261, 'outflows'), (8262, 'withdrawals'), (8263, 'maintains'), (8264, '13th'), (8265, 'buffer'), (8266, 'wondering'), (8267, 'minorities'), (8268, 'abundant'), (8269, 'hints'), (8270, 'quayle'), (8271, 'voiced'), (8272, 'pouring'), (8273, 'gatt'), (8274, 'soap'), (8275, 'writes'), (8276, 'unidentified'), (8277, 'leaks'), (8278, 'cheney'), (8279, 'euphoria'), (8280, 'jordan'), (8281, 'voter'), (8282, 'ryder'), (8283, 'thurmond'), (8284, 's.c'), (8285, 'racial'), (8286, 'drug-related'), (8287, 'statutes'), (8288, 'assassination'), (8289, 'sentences'), (8290, 'customs'), (8291, 'boyd'), (8292, 'ironic'), (8293, 'statistical'), (8294, 'considerations'), (8295, 'relevant'), (8296, 'severely'), (8297, 'convictions'), (8298, 'chancery'), (8299, 'realistic'), (8300, 'lone'), (8301, 'exclusivity'), (8302, 'adjusters'), (8303, 'settling'), (8304, 'epicenter'), (8305, 'shook'), (8306, 'rocked'), (8307, 'shaking'), (8308, 'carpeting'), (8309, 'evacuation'), (8310, 'wrap'), (8311, 'proceeding'), (8312, 'fireman'), (8313, 'rattled'), (8314, 'morristown'), (8315, 'brown-forman'), (8316, 'jackson'), (8317, 'jeep'), (8318, 'struggles'), (8319, 'translate'), (8320, 'payroll'), (8321, 'revco'), (8322, 'bankruptcy-court'), (8323, 'bondholders'), (8324, 'acadia'), (8325, 'fort'), (8326, 'woes'), (8327, 'stein'), (8328, 'highland'), (8329, 'cananea'), (8330, 'mint'), (8331, 'respective'), (8332, 'computer-guided'), (8333, 'demler'), (8334, 'soybean'), (8335, 'colombia'), (8336, 'costa'), (8337, 'rica'), (8338, 'colombian'), (8339, 'cooperatives'), (8340, 'inevitably'), (8341, 'politburo'), (8342, 'demonstrated'), (8343, 'conform'), (8344, 'self-employed'), (8345, 'exercising'), (8346, 'resolutions'), (8347, 'wishes'), (8348, 'solve'), (8349, 'insufficient'), (8350, 'conceptual'), (8351, 'emergence'), (8352, 'organic'), (8353, 'blueprint'), (8354, 'undertaken'), (8355, 'associations'), (8356, 'dependent'), (8357, 'construct'), (8358, 'heir'), (8359, 'rein'), (8360, 'contracting'), (8361, 'across-the-board'), (8362, 'single-a-1'), (8363, 'junior'), (8364, 'profile'), (8365, 'quotron'), (8366, 'four-game'), (8367, 'sweep'), (8368, 'widen'), (8369, 'abc'), (8370, 'incur'), (8371, 'disrupted'), (8372, 'broadcast'), (8373, 'cities\\\\/abc'), (8374, 'playoffs'), (8375, 'pilson'), (8376, 'decreased'), (8377, 'streak'), (8378, 'towel'), (8379, 'gainers'), (8380, 'resignations'), (8381, 'rows'), (8382, 'personal-computer'), (8383, 'concluding'), (8384, 'poised'), (8385, 'lotus'), (8386, 'bureaucrats'), (8387, 'sits'), (8388, 'efficiently'), (8389, 'commonly'), (8390, 'plug'), (8391, 'chart'), (8392, 'disappeared'), (8393, 'rooms'), (8394, 'tables'), (8395, 'contact'), (8396, 'printer'), (8397, 'unavailable'), (8398, 'listen'), (8399, 'practically'), (8400, 'explicit'), (8401, 'subordinates'), (8402, 'laptop'), (8403, 'fm'), (8404, 'compaq'), (8405, 'specifications'), (8406, 'blame'), (8407, 'ru-486'), (8408, 'surgical'), (8409, 'swedish'), (8410, 'bleeding'), (8411, 'misses'), (8412, 'pregnancy'), (8413, 'mortality'), (8414, 'steering'), (8415, 'bother'), (8416, 'contraceptive'), (8417, 'hoechst'), (8418, 'prediction'), (8419, 'legally'), (8420, 'ignorance'), (8421, 'supervision'), (8422, 'aborted'), (8423, 'furthermore'), (8424, 'embryo'), (8425, 'dalkon'), (8426, 'recording'), (8427, 'surveys'), (8428, 'gathered'), (8429, 'freeman'), (8430, 'talent'), (8431, 'reimburse'), (8432, 'lazard'), (8433, 'weiss'), (8434, 'orderly'), (8435, 'forming'), (8436, 'ge'), (8437, 'welch'), (8438, 'post-crash'), (8439, 'layoffs'), (8440, 'greenberg'), (8441, 'crazy'), (8442, 'break-even'), (8443, 'catalyst'), (8444, 'kemper'), (8445, 'roth'), (8446, 'supporting'), (8447, 'shakespeare'), (8448, 'ourselves'), (8449, 'strips'), (8450, 'gould'), (8451, 'disney'), (8452, 'sherman'), (8453, 'sentenced'), (8454, 'disappearance'), (8455, 'en'), (8456, 'transit'), (8457, 'garcia'), (8458, 'cocaine'), (8459, 'republic'), (8460, 'leipzig'), (8461, 'cemetery'), (8462, 'romantic'), (8463, 'tacked'), (8464, 'taped'), (8465, 'conversation'), (8466, 'paintings'), (8467, 'dearborn'), (8468, 'noise'), (8469, 'warranty'), (8470, 'guaranty'), (8471, 'termination'), (8472, 'assumes'), (8473, 'donating'), (8474, 'cross'), (8475, 'messages'), (8476, 'donations'), (8477, 'hat'), (8478, 'rank'), (8479, 'devastation'), (8480, 'charleston'), (8481, 'instant'), (8482, 'dip'), (8483, 'woo'), (8484, 'charity'), (8485, 'chasing'), (8486, 'barry'), (8487, 'earmarked'), (8488, 'franchisees'), (8489, 'sponsored'), (8490, 'refusing'), (8491, 'squibb'), (8492, 'fda'), (8493, 'inability'), (8494, 'limitations'), (8495, 'award'), (8496, 'dangers'), (8497, 'rejecting'), (8498, 'appealed'), (8499, 'nestle'), (8500, 'conclusion'), (8501, 'topple'), (8502, 'mandate'), (8503, 'highways'), (8504, 'foes'), (8505, 'terrible'), (8506, 'justifies'), (8507, 'c'), (8508, 'wire'), (8509, 'traffickers'), (8510, 'laundering'), (8511, 'identifying'), (8512, 'recipients'), (8513, 'facsimile'), (8514, 'tpa'), (8515, 'hardest'), (8516, 'tax-loss'), (8517, 'ralph'), (8518, 'awaiting'), (8519, 'closings'), (8520, 'casualty'), (8521, 'vogelstein'), (8522, 'colon'), (8523, 'deadly'), (8524, 'tumor-suppressor'), (8525, 'prone'), (8526, 'retinoblastoma'), (8527, 'p53'), (8528, 'chromosome'), (8529, 'analyzing'), (8530, 'fox'), (8531, 'experiment'), (8532, 'eric'), (8533, 'confusing'), (8534, 'confirming'), (8535, 'hughes'), (8536, 'levine'), (8537, 'mice'), (8538, 'labs'), (8539, 'rushing'), (8540, 'bristol-myers'), (8541, 'accuse'), (8542, 'replied'), (8543, 'peladeau'), (8544, 'quebecor'), (8545, 'supplement'), (8546, 'quebec'), (8547, 'thomson'), (8548, 'distributing'), (8549, 'z'), (8550, 'manitoba'), (8551, 'searle'), (8552, 'rubin'), (8553, 'unlawful'), (8554, 'law-enforcement'), (8555, 'omnibus'), (8556, 'vigorously'), (8557, 'hancock'), (8558, 'kelly'), (8559, 'tops'), (8560, 'resumed'), (8561, 'oral'), (8562, 'terminate'), (8563, 'nonsense'), (8564, 'coach'), (8565, 'doug'), (8566, 'mediator'), (8567, 'mighty'), (8568, 'deferred'), (8569, 'b-2'), (8570, 'tactical'), (8571, 'fighter'), (8572, 'accords'), (8573, 'wichita'), (8574, 'kan.'), (8575, 'helicopter'), (8576, 'hourly'), (8577, 'cost-of-living'), (8578, 'reiterated'), (8579, 'aluminum'), (8580, '1\\\\/2-year'), (8581, 'grounds'), (8582, 'arctic'), (8583, 'calgary-based'), (8584, 'alberta'), (8585, 'vancouver'), (8586, 'kick'), (8587, 'mackenzie'), (8588, 'transcanada'), (8589, 'tenneco'), (8590, 'alaskan'), (8591, 'connecting'), (8592, 'lived'), (8593, 'counties'), (8594, 'bank-holding'), (8595, 'deferring'), (8596, 'finish'), (8597, 'ernst'), (8598, 'remics'), (8599, 'rochester'), (8600, 'zero-coupon'), (8601, 'a$'), (8602, 'allianz'), (8603, 'reinforced'), (8604, 'dresdner'), (8605, 'commerzbank'), (8606, 'canceled'), (8607, 'regrets'), (8608, 'noranda'), (8609, 'carol'), (8610, 'fletcher'), (8611, 'amoco'), (8612, 'undeveloped'), (8613, 'monitors'), (8614, 'disks'), (8615, 'freely'), (8616, 'prepayments'), (8617, 'bancroft'), (8618, 'treasurer'), (8619, 'patterson'), (8620, 'wendy'), (8621, 'midler'), (8622, 'backup'), (8623, 'distinctive'), (8624, 'spawned'), (8625, 'bobby'), (8626, 'mack'), (8627, 'vitro'), (8628, 'spate'), (8629, 'bargain-hunting'), (8630, 'teeth'), (8631, 'tailspin'), (8632, 'margaret'), (8633, 'ems'), (8634, 'omaha'), (8635, 'egon'), (8636, 'arab'), (8637, 'apartheid'), (8638, 'fluor'), (8639, 'prevail'), (8640, 'insurers'), (8641, 'swell'), (8642, 'corr'), (8643, 'telesis'), (8644, 'deductible'), (8645, 'prelude'), (8646, 'tax-free'), (8647, 'splitting'), (8648, 'breakup'), (8649, 'reinforce'), (8650, 'phased'), (8651, 'transatlantic'), (8652, 'department-store'), (8653, 'generates'), (8654, 'mail-order'), (8655, 'outperformed'), (8656, 'prompting'), (8657, 'honeywell'), (8658, 'editorial-page'), (8659, 'col.'), (8660, 'gen.'), (8661, 'figuring'), (8662, 'mccall'), (8663, 'pearce'), (8664, 'simpson'), (8665, 'arabs'), (8666, 'sidhpur'), (8667, 'fame'), (8668, 'psyllium'), (8669, 'patel'), (8670, 'centuries'), (8671, 'folk'), (8672, 'ciba-geigy'), (8673, 'p&g'), (8674, 'displayed'), (8675, 'kellogg'), (8676, 'marginal'), (8677, 'middlemen'), (8678, 'glad'), (8679, 'crest'), (8680, 'sr.'), (8681, 'reasonable'), (8682, 'md.'), (8683, 'small-business'), (8684, 'waxman'), (8685, 'overly'), (8686, 'mild'), (8687, 'priorities'), (8688, 'prohibit'), (8689, 'mandated'), (8690, 'reinsurance'), (8691, 'belgian'), (8692, 'provisional'), (8693, 'nashua'), (8694, 'slumped'), (8695, 'outsider'), (8696, 'proclaimed'), (8697, 'titled'), (8698, 'carr'), (8699, 'regained'), (8700, 'marxist'), (8701, 'sovereignty'), (8702, 'arose'), (8703, 'emigration'), (8704, 'uneasy'), (8705, 'averaging'), (8706, 'shock'), (8707, 'flavor'), (8708, 'baring'), (8709, 'fallout'), (8710, 'govern'), (8711, 'refugees'), (8712, 'repression'), (8713, 'projection'), (8714, 'seng'), (8715, 'consequently'), (8716, 'fisher'), (8717, 'artificially'), (8718, 'coordination'), (8719, 'episode'), (8720, 'decent'), (8721, 'ben'), (8722, 'attitudes'), (8723, 'small-town'), (8724, 'sohmer'), (8725, 'pbs'), (8726, 'jewish'), (8727, 'kate'), (8728, 'thrust'), (8729, 'outset'), (8730, 'guess'), (8731, 'naked'), (8732, 'motel'), (8733, 'crossland'), (8734, 'write-down'), (8735, 'revise'), (8736, 'non-interest'), (8737, 'afloat'), (8738, 'calgary'), (8739, 'intensely'), (8740, 'input'), (8741, 'relocation'), (8742, 'shippers'), (8743, 'ivy'), (8744, 'shoppers'), (8745, 'coats'), (8746, 'photo'), (8747, 'rainbow'), (8748, 'loud'), (8749, 'roberti'), (8750, 'observes'), (8751, 'paterson'), (8752, 'casual'), (8753, 'unused'), (8754, 'abruptly'), (8755, 'mtm'), (8756, 'tvs'), (8757, 'blues'), (8758, 'gatward'), (8759, 'broadcasters'), (8760, 'connaught'), (8761, 'vaccine'), (8762, 'merieux'), (8763, 'chiron'), (8764, 'corner'), (8765, 'peru'), (8766, 'mineral'), (8767, 'carry-forward'), (8768, 'expiration'), (8769, 'avondale'), (8770, 'sutton'), (8771, 'concord'), (8772, 'gang'), (8773, 'characteristic'), (8774, 'amex'), (8775, 'ufo'), (8776, 'timothy'), (8777, 'beam'), (8778, 'hell'), (8779, 'destroying'), (8780, 'shooting'), (8781, 'memorandum'), (8782, 'californians'), (8783, 'beings'), (8784, 'robot'), (8785, 'universe'), (8786, 'russia'), (8787, 'radar'), (8788, 'sverdlovsk'), (8789, 'debris'), (8790, 'creatures'), (8791, 'rocky'), (8792, 'trustcorp'), (8793, 'akzo'), (8794, 'bergsma'), (8795, 'alliances'), (8796, 'petrochemical'), (8797, 'bleak'), (8798, 'universal'), (8799, 'captured'), (8800, 'guardian'), (8801, 'reveals'), (8802, 'divide'), (8803, 'camps'), (8804, 'stabilize'), (8805, 'stabilizing'), (8806, 'aggregates'), (8807, 'deployed'), (8808, 'chorus'), (8809, 'tie'), (8810, 'surrounded'), (8811, 'freed'), (8812, 'rampant'), (8813, 'natwest'), (8814, 'delegate'), (8815, 'heller'), (8816, 'wcrs'), (8817, 'della'), (8818, 'femina'), (8819, 'mcnamee'), (8820, 'reebok'), (8821, 'hedges'), (8822, 'r.h.'), (8823, 'federated'), (8824, 'bullock'), (8825, 'finkelstein'), (8826, 'viability'), (8827, 'altman'), (8828, 'teller'), (8829, 'chains'), (8830, 'bloomingdale'), (8831, 'saks'), (8832, 'windows'), (8833, 'candy'), (8834, 'kkr'), (8835, 'aetna'), (8836, 'catastrophe'), (8837, 'township'), (8838, 'anc'), (8839, 'unity'), (8840, 'sisulu'), (8841, 'shouted'), (8842, 'westinghouse'), (8843, 'steam'), (8844, 'combustion'), (8845, 'supplied'), (8846, 'asea'), (8847, 'boveri'), (8848, 'renaissance'), (8849, 'marous'), (8850, 'richter'), (8851, 'pale'), (8852, 'propelled'), (8853, 'unfriendly'), (8854, 'victories'), (8855, 'joke'), (8856, 'inning'), (8857, 'stir'), (8858, 'scored'), (8859, 'terry'), (8860, 'prevailed'), (8861, 'kirk'), (8862, 'regular-season'), (8863, 'homer'), (8864, 'twelve'), (8865, 'rationale'), (8866, 'grumman'), (8867, 'scheduling'), (8868, 'concludes'), (8869, 'estimating'), (8870, 'mentality'), (8871, 'deadlines'), (8872, 'burlington'), (8873, 'taping'), (8874, 'audio'), (8875, 'resale'), (8876, 'raider'), (8877, 'werner'), (8878, 'coup'), (8879, 'bally'), (8880, 'jean'), (8881, 'airplanes'), (8882, 'grenfell'), (8883, 'two-day'), (8884, 'cocom'), (8885, 'deserves'), (8886, 'unisys'), (8887, 'sheer'), (8888, 'worrisome'), (8889, 'approaching'), (8890, 'straszheim'), (8891, 'commentary'), (8892, 'newsletter'), (8893, 'annuities'), (8894, 'threaten'), (8895, 'prisoner'), (8896, 'trusted'), (8897, 'denounced'), (8898, 'thrown'), (8899, 'exchange-rate'), (8900, 'reunification'), (8901, 'neutral'), (8902, 'broderick'), (8903, 'rental'), (8904, 'fatal'), (8905, 'perlman'), (8906, 'ignore'), (8907, 'commute'), (8908, 'criticisms'), (8909, 'harbor'), (8910, 'keen'), (8911, 'neatly'), (8912, 'greens'), (8913, 'necessity'), (8914, 'va'), (8915, 'neighbor'), (8916, 'venice'), (8917, 'catalog'), (8918, 'translated'), (8919, 'daewoo'), (8920, 'sri'), (8921, 'koreans'), (8922, 'daly'), (8923, 'semel'), (8924, 'hanging'), (8925, 'canton'), (8926, 'kurt'), (8927, 'cleaning'), (8928, 'mgm\\\\/ua'), (8929, 'encouragement'), (8930, 'suburb'), (8931, 'darman'), (8932, 'reminder'), (8933, 'divisive'), (8934, 'cms'), (8935, 'polly'), (8936, 'sansui'), (8937, 'adjust'), (8938, 'tokyo-based'), (8939, 'offshore'), (8940, 'competitiveness'), (8941, 'doubling'), (8942, 'bellsouth'), (8943, 'lin'), (8944, 'mccaw'), (8945, 'payout'), (8946, 'flawed'), (8947, 'declares'), (8948, 'affects'), (8949, 'attributable'), (8950, 'dapuzzo'), (8951, 'tele-communications'), (8952, 'resilience'), (8953, 'upheaval'), (8954, 'warburg'), (8955, 'hanson'), (8956, 'von'), (8957, 'humanitarian'), (8958, 'staging'), (8959, 'flaw'), (8960, 'installations'), (8961, 'scrap'), (8962, 'afghan'), (8963, 'roads'), (8964, 'aoun'), (8965, 'syrian'), (8966, 'pullout'), (8967, 'championship'), (8968, 'unilever'), (8969, 'nervously'), (8970, 'packaged-goods'), (8971, 'faberge'), (8972, 'noxell'), (8973, 'makeup'), (8974, 'mass-market'), (8975, 'detergent'), (8976, 'lauder'), (8977, 'artistic'), (8978, 'rolls'), (8979, 'nationally'), (8980, 'coupons'), (8981, 'aged'), (8982, 'supermarkets'), (8983, 'ordinarily'), (8984, 'high-end'), (8985, 'colgate-palmolive'), (8986, 'colgate'), (8987, 'covert'), (8988, '14-year-old'), (8989, 'wipe'), (8990, 'coups'), (8991, 'dictator'), (8992, 'endanger'), (8993, 'boren'), (8994, 'sens.'), (8995, 'specter'), (8996, 'internationally'), (8997, 'harbors'), (8998, 'iran'), (8999, 'friday-the-13th'), (9000, 'gte'), (9001, 'rand'), (9002, 'besieged'), (9003, 'maneuver'), (9004, 'reinforcing'), (9005, 'tim'), (9006, 'ages'), (9007, 'veterans'), (9008, 'youngest'), (9009, 'korotich'), (9010, 'educate'), (9011, 'cheered'), (9012, 'recognizes'), (9013, 'honesty'), (9014, 'cynthia'), (9015, 'greenspan'), (9016, 'chris'), (9017, 'dodd'), (9018, 'accelerate'), (9019, 'infringement'), (9020, 'misstated'), (9021, 'racked'), (9022, 'cathcart'), (9023, 'mall'), (9024, 'incorrectly'), (9025, 'luzon'), (9026, 'polyethylene'), (9027, 'mateo'), (9028, 'speaker'), (9029, 'waves'), (9030, 'marlin'), (9031, 'fitzwater'), (9032, 'restoring'), (9033, 'buried'), (9034, 'bart'), (9035, 'hertz'), (9036, 'bracing'), (9037, 'listings'), (9038, 'quantum'), (9039, 'istat'), (9040, 'banco'), (9041, 'exterior'), (9042, 'privatization'), (9043, 'pesetas'), (9044, 'technicians'), (9045, 'prosecutions'), (9046, 'conclusions'), (9047, 'bono'), (9048, 'justin'), (9049, 'pretrial'), (9050, 'grossly'), (9051, 'ron'), (9052, 'conspiring'), (9053, 'wildlife'), (9054, 'spill'), (9055, 'havoc'), (9056, 'instantly'), (9057, 'jamie'), (9058, 'whitten'), (9059, 'remark'), (9060, 'restraint'), (9061, 'rican'), (9062, 'arias'), (9063, 'interpret'), (9064, 'wyss'), (9065, 'totals'), (9066, 'mega-issues'), (9067, 'prospectus'), (9068, 'larsen'), (9069, 'toubro'), (9070, 'oversubscribed'), (9071, 'ministries'), (9072, 'nathan'), (9073, 'brewer'), (9074, 'finnair'), (9075, 'archrival'), (9076, 'abbie'), (9077, 'activist'), (9078, 'script'), (9079, 'chung'), (9080, 'actors'), (9081, 'benjamin'), (9082, 'stops'), (9083, 'theater'), (9084, 'syndicated'), (9085, 'joan'), (9086, 'drama'), (9087, 'dentsu'), (9088, 'eurocom'), (9089, 'corning'), (9090, 'comedy'), (9091, 'grid'), (9092, 'heavier'), (9093, 'census'), (9094, 'sears'), (9095, 'roebuck'), (9096, 'mart'), (9097, 'weakest'), (9098, 'explosions'), (9099, 'destroyed'), (9100, 'catastrophes'), (9101, 'syndicates'), (9102, 'leaseway'), (9103, 'equation'), (9104, 'slipping'), (9105, 'periodic'), (9106, 'diverted'), (9107, 'midst'), (9108, 'sandinistas'), (9109, 'abrams'), (9110, 'bernard'), (9111, 'petrie'), (9112, 'deb'), (9113, 'unanimously'), (9114, 'liquidate'), (9115, 'jayark'), (9116, 'cftc'), (9117, 'comex'), (9118, 'conway'), (9119, 'pits'), (9120, '24-hour'), (9121, 'react'), (9122, 'attribute'), (9123, 'dire'), (9124, 'recommends'), (9125, 'absorb'), (9126, 'scramble'), (9127, 'crumbling'), (9128, 'mayoral'), (9129, 'unloading'), (9130, 'spree'), (9131, 'stop-loss'), (9132, 'lockheed'), (9133, 'innopac'), (9134, 'mobil'), (9135, 'yards'), (9136, 'jokes'), (9137, 'caterpillar'), (9138, 'whittle'), (9139, 'dillon'), (9140, 'octel'), (9141, 'e'), (9142, 'revealed'), (9143, 'briefly'), (9144, 'scary'), (9145, 'connolly'), (9146, 'lbos'), (9147, 'troubling'), (9148, 'disappointments'), (9149, 'richfield'), (9150, 'faa'), (9151, 'temperatures'), (9152, 'flooding'), (9153, 'coastal'), (9154, 'atoms'), (9155, 'dioxide'), (9156, 'burning'), (9157, 'fossil'), (9158, 'chairmen'), (9159, 'foley'), (9160, 'subsidy'), (9161, 'fortunately'), (9162, 'mainstream'), (9163, 'parental'), (9164, 'apartments'), (9165, 'plumbing'), (9166, 'middle-class'), (9167, 'schaeffer'), (9168, 'vanguard'), (9169, 'compounded'), (9170, 'lower-than-expected'), (9171, 'shifting'), (9172, 'toseland'), (9173, 'hypoglycemia'), (9174, 'costing'), (9175, 'strategists'), (9176, 'ivory'), (9177, 'wsj'), (9178, 'baseline'), (9179, 'chiefs'), (9180, 'strengths'), (9181, 'discouraged'), (9182, 'confirmation'), (9183, 'softness'), (9184, 'disabilities'), (9185, 'disabled'), (9186, 'handicapped'), (9187, 'deliberations'), (9188, 'addressed'), (9189, 'aspirations'), (9190, 'eurodollar'), (9191, 'envy'), (9192, 'shanghai'), (9193, 'chartered'), (9194, 'hk$'), (9195, 'defaulted'), (9196, 'taxi'), (9197, 'bullion'), (9198, 'processed'), (9199, 'noncallable'), (9200, 'tampa'), (9201, 'bausch'), (9202, 'lenses'), (9203, 'jolla'), (9204, 'southwest'), (9205, 'vincent'), (9206, 'preceding'), (9207, 'generale'), (9208, 'lubricants'), (9209, 'manic'), (9210, 'phones'), (9211, 'bsn'), (9212, 'fleming'), (9213, 'trinova'), (9214, 'biological'), (9215, 'bacterium'), (9216, 'diversity'), (9217, 'bruno'), (9218, 'pile'), (9219, 'dunes'), (9220, 'yard'), (9221, 'mideast'), (9222, 'exporting'), (9223, 'opec'), (9224, 'cox'), (9225, 'roller-coaster'), (9226, 'gallons'), (9227, 'roller'), (9228, 'pitched'), (9229, 'persian'), (9230, 'iranian'), (9231, 'rig'), (9232, 'southwestern'), (9233, 'boat'), (9234, 'dun'), (9235, 'bradstreet'), (9236, 'setbacks'), (9237, 'arrow'), (9238, 'supervisor'), (9239, 'vault'), (9240, 'gardens'), (9241, 'dorfman'), (9242, 'conner'), (9243, 'texans'), (9244, 'attendants'), (9245, 'controllers'), (9246, 'house-passed'), (9247, 'indexation'), (9248, 'supplying'), (9249, 'poughkeepsie'), (9250, 'whooping'), (9251, 'cough'), (9252, 'pertussis'), (9253, 'toxin'), (9254, 'rothschilds'), (9255, 'glare'), (9256, '19th'), (9257, 'recalled'), (9258, 'mainstay'), (9259, 'erich'), (9260, 'buffett'), (9261, 'outweigh'), (9262, 'defenders'), (9263, 'blaming'), (9264, 'fares'), (9265, 'ab'), (9266, 'skf'), (9267, 'kronor'), (9268, 'bearings'), (9269, 'redford'), (9270, 'environmentally'), (9271, 'environmentalism'), (9272, 'windsor'), (9273, 'ncaa'), (9274, 'athletes'), (9275, 'basketball'), (9276, 'high-school'), (9277, 'coaches'), (9278, 'portrait'), (9279, 'mad'), (9280, 'pencils'), (9281, 'circus'), (9282, 'fdic'), (9283, 'refined'), (9284, 'agip'), (9285, 'libya'), (9286, 'upgrading'), (9287, 'refineries'), (9288, 'kuwait'), (9289, 'academy'), (9290, 'engelken'), (9291, 'clutter'), (9292, 'shouting'), (9293, 'lifetime'), (9294, 'reads'), (9295, 'turnpike'), (9296, 'southam'), (9297, 'norton'), (9298, 'eastman'), (9299, 'roh'), (9300, 'ordinance'), (9301, 'espectador'), (9302, 'custody'), (9303, 'koch'), (9304, 'opponent'), (9305, 'roadways'), (9306, 'carson'), (9307, 'withheld'), (9308, 'endorsement'), (9309, 'incinerator'), (9310, 'leventhal'), (9311, 'flom'), (9312, 'determination'), (9313, 'adjuster'), (9314, 'policyholders'), (9315, 'rubble'), (9316, 'parcel'), (9317, 'shattered'), (9318, 'hammack'), (9319, 'earthquake-related'), (9320, 'assessing'), (9321, 'dealt'), (9322, 'linear'), (9323, 'reviews'), (9324, 'gently'), (9325, 'roadway'), (9326, 'fcc'), (9327, 'commissioners'), (9328, 'brouwer'), (9329, 'tremors'), (9330, 'lipper'), (9331, 'anticipate'), (9332, 'deflator'), (9333, 'nutritional'), (9334, 'assassinations'), (9335, 'grave'), (9336, 'abuses'), (9337, 'gridlock'), (9338, 'remembered'), (9339, 'accustomed'), (9340, 'lacking'), (9341, 'turner'), (9342, 'mo.'), (9343, 'newark'), (9344, 'plain'), (9345, 'horn'), (9346, 'resorts'), (9347, 'qintex'), (9348, 'skase'), (9349, 'antar'), (9350, 'seizure'), (9351, 'forfeiture'), (9352, 'tainted'), (9353, 'applies'), (9354, 'correction'), (9355, 'widened'), (9356, 'accelerating'), (9357, 'pumped'), (9358, 'gun'), (9359, 'workstations'), (9360, 'fabrication'), (9361, 'ranch'), (9362, 'ima'), (9363, 'willful'), (9364, 'mahfouz'), (9365, 'cairo'), (9366, 'novels'), (9367, 'span'), (9368, 'colonial'), (9369, 'bureaucrat'), (9370, 'experimental'), (9371, 'endure'), (9372, 'poorest'), (9373, 'norwood'), (9374, 'weirton'), (9375, 'restoration'), (9376, 'leverage'), (9377, 'northrop'), (9378, 'iverson'), (9379, 'thriving'), (9380, 'dynamic'), (9381, 'morishita'), (9382, 'gallery'), (9383, 'christies'), (9384, 'aichi'), (9385, 'holmes'), (9386, 'wherever'), (9387, 'nonperforming'), (9388, 'batibot'), (9389, 'decker'), (9390, 'emhart'), (9391, 'fournier'), (9392, 'defer'), (9393, 'pinnacle'), (9394, 'traub'), (9395, 'management-led'), (9396, 'vatican'), (9397, 'pope'), (9398, 'distribute'), (9399, 'unscrupulous'), (9400, 'collectors'), (9401, 'giorgio'), (9402, 'dig'), (9403, 'notification'), (9404, 'ernest'), (9405, 'rep'), (9406, 'jefferies'), (9407, 'bakker'), (9408, 'helmsley'), (9409, 'bottled'), (9410, 'packwood'), (9411, 'tuition'), (9412, 'marsh'), (9413, 'mclennan'), (9414, 'peripherals'), (9415, 'wang'), (9416, 'trucking'), (9417, 'allowance'), (9418, 'landed'), (9419, 'deaver'), (9420, 'shannon'), (9421, 'confessed'), (9422, 'perjury'), (9423, 'topiary'), (9424, 'retreated'), (9425, 'lavelle'), (9426, 'hart'), (9427, 'fund-raising'), (9428, 'acquitted'), (9429, 'cuba'), (9430, 'oas'), (9431, 'guinness'), (9432, 'fish'), (9433, 'burmah'), (9434, 'refiners'), (9435, 'benefiting'), (9436, 'edgar'), (9437, 'mitterrand'), (9438, 'ohbayashi'), (9439, 'schwarz'), (9440, 'farrell'), (9441, 'posner'), (9442, 'reconciliation'), (9443, 'epo'), (9444, 'amgen'), (9445, 'conception'), (9446, 'two-tier'), (9447, 'circulating'), (9448, 'kodak'), (9449, 'maynard'), (9450, 'armonk'), (9451, 'stunning'), (9452, 'abm'), (9453, 'krasnoyarsk'), (9454, 'cineplex'), (9455, 'odeon'), (9456, 'drabinsky'), (9457, 'cherry'), (9458, 'workstation'), (9459, 'bare-faced'), (9460, 'leval'), (9461, 'salinger'), (9462, 'remedy'), (9463, 'oakes'), (9464, 'masson'), (9465, 'admission'), (9466, 'dishonesty'), (9467, 'smart'), (9468, 'atlas'), (9469, 'arby'), (9470, 'franchisers'), (9471, 'seabrook'), (9472, 'renault'), (9473, 'panels'), (9474, 'pwa'), (9475, 'airbus'), (9476, 'bartlett'), (9477, 'ethiopia'), (9478, 'aeroflot'), (9479, 'vila'), (9480, 'pesticide'), (9481, 'pesticides'), (9482, 'hazard'), (9483, 'extract'), (9484, 'trapped'), (9485, 'relying'), (9486, 'dogged'), (9487, 'sporadic'), (9488, 'delmed'), (9489, 'dialysis'), (9490, 'ehrlich'), (9491, 'fresenius'), (9492, 'coins'), (9493, 'coin'), (9494, 'cooling'), (9495, 'coping'), (9496, 'constructed'), (9497, 'woods'), (9498, 'expenditure'), (9499, 'venture-capital'), (9500, 'mit'), (9501, 'entrepreneurs'), (9502, 'edt'), (9503, 'broadway'), (9504, 'hbo'), (9505, 'showtime'), (9506, 's'), (9507, 'benton'), (9508, 'merksamer'), (9509, 'jewelers'), (9510, 'l.j.'), (9511, 'hooker'), (9512, 'court-appointed'), (9513, 'switches'), (9514, 'arrange'), (9515, 'hectic'), (9516, 'ramada'), (9517, 'drawings'), (9518, 'shy'), (9519, 'bpca'), (9520, 'cornell'), (9521, 'incorrect'), (9522, 'revoke'), (9523, 'medium'), (9524, 'patience'), (9525, 'bronner'), (9526, 'interactive'), (9527, 'mushrooms'), (9528, 'medication'), (9529, 'mirage'), (9530, 'hotel-casino'), (9531, 'nugget'), (9532, 'hilton'), (9533, 'casinos'), (9534, 'mom'), (9535, 'influx'), (9536, 'suites'), (9537, 'proliferation'), (9538, 'overbuilt'), (9539, 'foreclosed'), (9540, 'mouth'), (9541, 'recreation'), (9542, 'armco'), (9543, 'jacobson'), (9544, 'flat-rolled'), (9545, 'allied-signal'), (9546, 'provigo'), (9547, 'non-food'), (9548, 'lortie'), (9549, 'nadeau'), (9550, 'showroom'), (9551, 'aided'), (9552, 'nye'), (9553, 'anheuser'), (9554, 'beneath'), (9555, 'brewery'), (9556, 'abortion-rights'), (9557, 'zeta'), (9558, 'seal'), (9559, 'cboe'), (9560, 'undoubtedly'), (9561, 'utilization'), (9562, 'h.h.'), (9563, 'ivan'), (9564, 'boesky'), (9565, 'class-action'), (9566, 'cutler'), (9567, 'ferguson'), (9568, 'plaintiff'), (9569, 'simpler'), (9570, 'businessland'), (9571, 'schwartz'), (9572, 'esselte'), (9573, 'f-14'), (9574, 'menlo'), (9575, 'slim'), (9576, 'butcher'), (9577, 'tw'), (9578, 'battled'), (9579, 'usair'), (9580, 'importing'), (9581, 'daikin'), (9582, 'azt'), (9583, 'usage'), (9584, 'pediatric'), (9585, 'infected'), (9586, 'subpoena'), (9587, 'jeff'), (9588, 'uncle'), (9589, 'chicken'), (9590, 'dlj'), (9591, '\\\\*'), (9592, '\\\\*\\\\*'), (9593, 'espn'), (9594, 'tisch'), (9595, 'bitterly'), (9596, 'meredith'), (9597, 'lineup'), (9598, 'comsat'), (9599, 'bozell'), (9600, 'eroded'), (9601, 'dictaphone'), (9602, 'salesmen'), (9603, 'shack'), (9604, 'vax'), (9605, 'fried'), (9606, 'haas'), (9607, 'laff'), (9608, 'lang'), (9609, 'lorin'), (9610, 'claimants'), (9611, 'robins'), (9612, 'ingersoll'), (9613, 'fleets'), (9614, 'maxicare'), (9615, 'saab-scania'), (9616, 'saab'), (9617, 'superfund'), (9618, 'micro'), (9619, 'quickview'), (9620, 'programmers'), (9621, 'cupertino'), (9622, 'kageyama'), (9623, 'motivated'), (9624, 'fla'), (9625, 'fusion'), (9626, 'roe'), (9627, 'wade'), (9628, 'dispatched'), (9629, 'curbs'), (9630, 'goodyear'), (9631, 'roderick'), (9632, 'corry'), (9633, 'minimills'), (9634, 'thoroughbred'), (9635, 'hunting'), (9636, 'lynn'), (9637, 'breathing'), (9638, 'terrorist'), (9639, 'shamir'), (9640, 'glazer'), (9641, 'bookings'), (9642, 'adm.'), (9643, 'capita'), (9644, 'ldp'), (9645, 'commuters'), (9646, 'special-interest'), (9647, 'diet'), (9648, 'developing-country'), (9649, 'carat'), (9650, 'diamonds'), (9651, 'thick'), (9652, 'deduction'), (9653, 'geographic'), (9654, 'sheraton'), (9655, 'gorky'), (9656, 'delicious'), (9657, 'fujis'), (9658, 'worm'), (9659, 'gerrymandering'), (9660, 'legislatures'), (9661, 'tro'), (9662, 'adobe'), (9663, 'openness'), (9664, 'anthrax'), (9665, 'peasant'), (9666, 'dying'), (9667, 'peasants'), (9668, 'fertilizer'), (9669, 'poles'), (9670, 'naczelnik'), (9671, 'urgency'), (9672, 'centered'), (9673, 'prosecutorial'), (9674, 'opera'), (9675, 'violetta'), (9676, 'wooden'), (9677, 'festival'), (9678, 'madrid'), (9679, 'convex'), (9680, 'unfavorable'), (9681, 'inspectors'), (9682, 'wonderful'), (9683, 'whittington'), (9684, 'planet'), (9685, 'cypress'), (9686, 'parkway'), (9687, 'codes'), (9688, 'bogart'), (9689, 'theatrical'), (9690, 'shea'), (9691, 'esb'), (9692, 'inco'), (9693, 'homefed'), (9694, 'pepsi'), (9695, 'murata'), (9696, 'vickers'), (9697, 'pons'), (9698, 'reputable'), (9699, 'bebear'), (9700, 'axa'), (9701, 'applicants'), (9702, 'cable-tv'), (9703, 'imo'), (9704, 'arena'), (9705, 'berry'), (9706, 'apogee'), (9707, 'a.m'), (9708, 'kaiser'), (9709, 'prudential'), (9710, 'junk-holders'), (9711, 'storer'), (9712, 'con'), (9713, 'rubbermaid'), (9714, 'mmi'), (9715, 'asarco'), (9716, 'h.f.'), (9717, 'ahmanson'), (9718, 'vista'), (9719, 'cubs'), (9720, 'refcorp'), (9721, 'swung'), (9722, 'mouse'), (9723, 'yeast'), (9724, 'arteries'), (9725, 'artery'), (9726, 'gum'), (9727, 'irish'), (9728, 'merkur'), (9729, 'scorpio'), (9730, 'francis'), (9731, 'wachovia'), (9732, 'antibody'), (9733, 'competent'), (9734, 'kohl'), (9735, 'olivetti'), (9736, 'conasupo'), (9737, 'fernandez'), (9738, 'cans'), (9739, 'probability'), (9740, 'crandall'), (9741, 'digest'), (9742, 'grey'), (9743, 'advertiser'), (9744, 'vinson'), (9745, 'jurors'), (9746, 'artists'), (9747, 'personal-injury'), (9748, 'massage'), (9749, 'refrigerators'), (9750, 'freeways'), (9751, 'subway'), (9752, 'on-site'), (9753, 'kasparov'), (9754, 'd.t.'), (9755, 'notorious'), (9756, 'pawn'), (9757, 'blumenfeld'), (9758, 'bourbon'), (9759, 'whiskey'), (9760, 'garratt'), (9761, 'ecological'), (9762, 'legent'), (9763, 'underestimated'), (9764, 'clinton'), (9765, 'tesoro'), (9766, 'eagle'), (9767, 'conservatorship'), (9768, 'dec'), (9769, 'incompetent'), (9770, 'boiler'), (9771, 'permanently'), (9772, 'ashland'), (9773, 'lyondell'), (9774, 'agricole'), (9775, 'downey'), (9776, 'cnbc'), (9777, 'merabank'), (9778, 'goodson'), (9779, 'sorrell'), (9780, 'mattel'), (9781, 'suez'), (9782, 'savaiko'), (9783, 'palladium'), (9784, 'curve'), (9785, 'emerson'), (9786, 'fujisawa'), (9787, 'enviropact'), (9788, 'less-developed'), (9789, 'fazio'), (9790, 'atlantis'), (9791, 'galileo'), (9792, 'detrex'), (9793, 'guideline'), (9794, 'volokh'), (9795, 'polaroid'), (9796, 'prefers'), (9797, 'nuovo'), (9798, 'ambrosiano'), (9799, 'hard-disk'), (9800, 'translation'), (9801, 'southmark'), (9802, 'name-dropping'), (9803, 'rhone-poulenc'), (9804, 'high-definition'), (9805, 'hdtv'), (9806, 'pachinko'), (9807, 'mcduffie'), (9808, 'recital'), (9809, 'violin'), (9810, 'durkin'), (9811, 'maidenform'), (9812, 'brawer'), (9813, 'lesk'), (9814, 'rosenthal'), (9815, 'ups'), (9816, 'impeachment'), (9817, 'mancuso'), (9818, 'h&r'), (9819, 'nsc'), (9820, 'briggs'), (9821, 'bureaus'), (9822, 'sperry'), (9823, 'lesko'), (9824, 'intensify'), (9825, 'cowboys'), (9826, 'cuban'), (9827, 'cubans'), (9828, 'seita'), (9829, 'preamble'), (9830, 'barre'), (9831, 'somalia'), (9832, 'runway'), (9833, 'mengistu'), (9834, 'rafale'), (9835, 'goupil'), (9836, 'crusaders'), (9837, 'dassault'), (9838, 'cathay'), (9839, 'air-freight'), (9840, 'eddington'), (9841, 'lufthansa'), (9842, 'agnos'), (9843, 'bursts'), (9844, 'massages'), (9845, 'cafeteria'), (9846, 'vermont-slauson'), (9847, 'watts'), (9848, 'detectors'), (9849, 'zones'), (9850, 'banponce'), (9851, 'ortiz'), (9852, 'salespeople'), (9853, 'mcdonough'), (9854, 'carpets'), (9855, 'ducks'), (9856, 'ferranti'), (9857, 'realist'), (9858, 'winnebago'), (9859, 'stabilized'), (9860, 'tva'), (9861, 'ekco'), (9862, 'nora'), (9863, 'shv'), (9864, 'banc'), (9865, '190.58-point'), (9866, 'anacomp'), (9867, 'comair'), (9868, 'quack'), (9869, 'mansion'), (9870, 'a.p.'), (9871, 'trelleborg'), (9872, 'falconbridge'), (9873, 'enserch'), (9874, 'picop'), (9875, 'imf'), (9876, 'tremor'), (9877, 'spacecraft'), (9878, 'honecker'), (9879, 'tritium'), (9880, 'fleischmann'), (9881, 'feedlots'), (9882, 'hut'), (9883, 'deloitte'), (9884, 'haskins'), (9885, 'iafp'), (9886, 'peterson'), (9887, 'median'), (9888, 'u'), (9889, 'tharp'), (9890, 'enforcers'), (9891, 'provinces'), (9892, 'rorer'), (9893, 'merck'), (9894, 'soo'), (9895, 'xtra'), (9896, 'gintel'), (9897, 'hasbro'), (9898, 'stress-related'), (9899, \"d'arcy\"), (9900, 'fur'), (9901, 'furriers'), (9902, 'furs'), (9903, 'mink'), (9904, 'jackets'), (9905, 'hepatitis'), (9906, 'westridge'), (9907, 'nguyen'), (9908, 'chan'), (9909, 'thi'), (9910, 'bumiputra'), (9911, 'basir'), (9912, 'm$'), (9913, 'plummet'), (9914, 'skiers'), (9915, 'outer'), (9916, 'contested'), (9917, 'seismic'), (9918, 'callable'), (9919, 'newsletters'), (9920, 'westmoreland'), (9921, 'devoe'), (9922, 'erased'), (9923, 'marlowe'), (9924, 'cela'), (9925, 'nimitz'), (9926, 'reinforcement'), (9927, 'bonn'), (9928, 'pro-life'), (9929, 'isler'), (9930, 'skipper'), (9931, 'mural'), (9932, 'hoelzer'), (9933, 'belli'), (9934, 'andreas'), (9935, 'prisons'), (9936, 'shutdown'), (9937, 'gaubert'), (9938, 'moss'), (9939, 'benefit-seeking'), (9940, 'cruz'), (9941, 'fema'), (9942, 'biscuits'), (9943, 'doman'), (9944, 'amdura'), (9945, 'commerciale'), (9946, 'discovision'), (9947, 'cherokee'), (9948, 'jupiter'), (9949, 'dayton'), (9950, 'corsica'), (9951, 'beretta'), (9952, 'enron'), (9953, 'verwoerd'), (9954, 'morgenzon'), (9955, 'guzman'), (9956, 'cabrera'), (9957, 'quina'), (9958, 'pemex'), (9959, 'daf'), (9960, 'whitbread'), (9961, 'beefeater'), (9962, 'gin'), (9963, 'redmond'), (9964, 'salmonella'), (9965, 'capcom'), (9966, 'jal'), (9967, 'petco'), (9968, 'fossett'), (9969, 'equitec'), (9970, 'steinhardt'), (9971, 'arkla'), (9972, 'bay-area'), (9973, 'caltrans'), (9974, 'lionel'), (9975, 'caffeine-free'), (9976, 'bork'), (9977, 'fk-506'), (9978, 'laband'), (9979, 'steppenwolf'), (9980, 'sagan'), (9981, 'templeton'), (9982, 'beebes'), (9983, 'craven'), (9984, 'firstsouth'), (9985, 'gelbart'), (9986, 'gutfreund'), (9987, 'warner-lambert'), (9988, 'shah'), (9989, 'torrijos'), (9990, 'lung-cancer'), (9991, 'bikers'), (9992, 'bofors'), (9993, 'parsow'), (9994, 'caci'), (9995, 'isi'), (9996, 'chestman'), (9997, 'tci'), (9998, 'trecker'), (9999, 'unilab')])"
            ]
          },
          "metadata": {},
          "execution_count": 14
        }
      ]
    },
    {
      "cell_type": "code",
      "source": [
        "xs = corpus[:-1]\n",
        "xs#이게 머야? input?"
      ],
      "metadata": {
        "colab": {
          "base_uri": "https://localhost:8080/"
        },
        "id": "sM0NUvRdmOeT",
        "outputId": "b5944da4-c8eb-4205-aab0-f4f064ffbf18"
      },
      "execution_count": 15,
      "outputs": [
        {
          "output_type": "execute_result",
          "data": {
            "text/plain": [
              "array([ 0,  1,  2, ..., 64, 39, 26])"
            ]
          },
          "metadata": {},
          "execution_count": 15
        }
      ]
    },
    {
      "cell_type": "code",
      "source": [
        "ts = corpus[1:]\n",
        "ts#이게 머야? time?"
      ],
      "metadata": {
        "colab": {
          "base_uri": "https://localhost:8080/"
        },
        "id": "n2cNSCmamTqz",
        "outputId": "726e8a71-670c-4d24-f759-888933f6beee"
      },
      "execution_count": 16,
      "outputs": [
        {
          "output_type": "execute_result",
          "data": {
            "text/plain": [
              "array([ 1,  2,  3, ..., 39, 26, 24])"
            ]
          },
          "metadata": {},
          "execution_count": 16
        }
      ]
    },
    {
      "cell_type": "code",
      "source": [
        "#모델 준비\n",
        "model = BetterRnnlm(vocab_size, wordvec_size, hidden_size, dropout)\n",
        "optimizer = SGD(lr)\n",
        "trainer = RnnlmTrainer(model, optimizer)"
      ],
      "metadata": {
        "id": "WY5lppFzmU7u"
      },
      "execution_count": 17,
      "outputs": []
    },
    {
      "cell_type": "code",
      "source": [
        "best_ppl = float('inf')#양의 무한대"
      ],
      "metadata": {
        "id": "0nEBeLEFnGSd"
      },
      "execution_count": 18,
      "outputs": []
    },
    {
      "cell_type": "code",
      "source": [
        "for epoch in range(max_epoch):\n",
        "  trainer.fit(xs, ts, max_epoch = 1, batch_size = batch_size, time_size = time_size, max_grad = max_grad)#max grad 그래디언트 클리핑\n",
        "  model.reset_state()\n",
        "  ppl = eval_perplexity(model, corpus_val)\n",
        "  print(\"검증 퍼플렉시티:\",ppl)\n",
        "\n",
        "  if best_ppl > ppl:\n",
        "    best_ppl = ppl\n",
        "    model.save_params()\n",
        "  else:\n",
        "    lr /= 4.0#성능이 낮으면(best_ppl보다 현재 퍼플렉시티가 높으면) 학습률 줄임\n",
        "    optimizer.lr = lr\n",
        "  \n",
        "  model.reset_state()\n",
        "  print(\"-\"*50)"
      ],
      "metadata": {
        "colab": {
          "base_uri": "https://localhost:8080/"
        },
        "id": "XX11nGN4nIZ4",
        "outputId": "c17aa966-83c3-4f64-e168-809a4189006d"
      },
      "execution_count": null,
      "outputs": [
        {
          "output_type": "stream",
          "name": "stdout",
          "text": [
            "| 에폭 1 |  반복 1 / 1327 | 시간 6[s] | 퍼플렉서티 10000.49\n",
            "| 에폭 1 |  반복 21 / 1327 | 시간 72[s] | 퍼플렉서티 3755.05\n",
            "| 에폭 1 |  반복 41 / 1327 | 시간 138[s] | 퍼플렉서티 1758.62\n",
            "| 에폭 1 |  반복 61 / 1327 | 시간 204[s] | 퍼플렉서티 1297.32\n",
            "| 에폭 1 |  반복 81 / 1327 | 시간 270[s] | 퍼플렉서티 1078.92\n",
            "| 에폭 1 |  반복 101 / 1327 | 시간 336[s] | 퍼플렉서티 818.62\n",
            "| 에폭 1 |  반복 121 / 1327 | 시간 402[s] | 퍼플렉서티 805.26\n",
            "| 에폭 1 |  반복 141 / 1327 | 시간 468[s] | 퍼플렉서티 714.88\n",
            "| 에폭 1 |  반복 161 / 1327 | 시간 535[s] | 퍼플렉서티 699.48\n",
            "| 에폭 1 |  반복 181 / 1327 | 시간 601[s] | 퍼플렉서티 699.19\n",
            "| 에폭 1 |  반복 201 / 1327 | 시간 668[s] | 퍼플렉서티 590.91\n",
            "| 에폭 1 |  반복 221 / 1327 | 시간 733[s] | 퍼플렉서티 555.17\n",
            "| 에폭 1 |  반복 241 / 1327 | 시간 799[s] | 퍼플렉서티 521.73\n",
            "| 에폭 1 |  반복 261 / 1327 | 시간 864[s] | 퍼플렉서티 538.88\n",
            "| 에폭 1 |  반복 281 / 1327 | 시간 929[s] | 퍼플렉서티 521.16\n",
            "| 에폭 1 |  반복 301 / 1327 | 시간 994[s] | 퍼플렉서티 446.60\n",
            "| 에폭 1 |  반복 321 / 1327 | 시간 1060[s] | 퍼플렉서티 395.03\n",
            "| 에폭 1 |  반복 341 / 1327 | 시간 1125[s] | 퍼플렉서티 447.45\n",
            "| 에폭 1 |  반복 361 / 1327 | 시간 1190[s] | 퍼플렉서티 464.25\n",
            "| 에폭 1 |  반복 381 / 1327 | 시간 1255[s] | 퍼플렉서티 381.49\n",
            "| 에폭 1 |  반복 401 / 1327 | 시간 1319[s] | 퍼플렉서티 406.54\n",
            "| 에폭 1 |  반복 421 / 1327 | 시간 1384[s] | 퍼플렉서티 393.22\n",
            "| 에폭 1 |  반복 441 / 1327 | 시간 1448[s] | 퍼플렉서티 373.27\n",
            "| 에폭 1 |  반복 461 / 1327 | 시간 1512[s] | 퍼플렉서티 370.19\n",
            "| 에폭 1 |  반복 481 / 1327 | 시간 1577[s] | 퍼플렉서티 347.47\n",
            "| 에폭 1 |  반복 501 / 1327 | 시간 1642[s] | 퍼플렉서티 351.55\n",
            "| 에폭 1 |  반복 521 / 1327 | 시간 1706[s] | 퍼플렉서티 342.65\n",
            "| 에폭 1 |  반복 541 / 1327 | 시간 1771[s] | 퍼플렉서티 360.21\n",
            "| 에폭 1 |  반복 561 / 1327 | 시간 1836[s] | 퍼플렉서티 323.62\n",
            "| 에폭 1 |  반복 581 / 1327 | 시간 1900[s] | 퍼플렉서티 290.99\n",
            "| 에폭 1 |  반복 601 / 1327 | 시간 1965[s] | 퍼플렉서티 377.69\n",
            "| 에폭 1 |  반복 621 / 1327 | 시간 2029[s] | 퍼플렉서티 351.04\n",
            "| 에폭 1 |  반복 641 / 1327 | 시간 2092[s] | 퍼플렉서티 315.79\n",
            "| 에폭 1 |  반복 661 / 1327 | 시간 2156[s] | 퍼플렉서티 302.04\n",
            "| 에폭 1 |  반복 681 / 1327 | 시간 2220[s] | 퍼플렉서티 254.24\n",
            "| 에폭 1 |  반복 701 / 1327 | 시간 2283[s] | 퍼플렉서티 280.75\n",
            "| 에폭 1 |  반복 721 / 1327 | 시간 2347[s] | 퍼플렉서티 286.44\n",
            "| 에폭 1 |  반복 741 / 1327 | 시간 2411[s] | 퍼플렉서티 247.41\n",
            "| 에폭 1 |  반복 761 / 1327 | 시간 2474[s] | 퍼플렉서티 258.93\n",
            "| 에폭 1 |  반복 781 / 1327 | 시간 2538[s] | 퍼플렉서티 244.43\n",
            "| 에폭 1 |  반복 801 / 1327 | 시간 2602[s] | 퍼플렉서티 267.35\n",
            "| 에폭 1 |  반복 821 / 1327 | 시간 2666[s] | 퍼플렉서티 250.32\n",
            "| 에폭 1 |  반복 841 / 1327 | 시간 2729[s] | 퍼플렉서티 256.34\n",
            "| 에폭 1 |  반복 861 / 1327 | 시간 2793[s] | 퍼플렉서티 252.25\n",
            "| 에폭 1 |  반복 881 / 1327 | 시간 2858[s] | 퍼플렉서티 231.69\n",
            "| 에폭 1 |  반복 901 / 1327 | 시간 2922[s] | 퍼플렉서티 283.48\n",
            "| 에폭 1 |  반복 921 / 1327 | 시간 2986[s] | 퍼플렉서티 255.02\n",
            "| 에폭 1 |  반복 941 / 1327 | 시간 3050[s] | 퍼플렉서티 255.90\n",
            "| 에폭 1 |  반복 961 / 1327 | 시간 3114[s] | 퍼플렉서티 272.37\n",
            "| 에폭 1 |  반복 981 / 1327 | 시간 3177[s] | 퍼플렉서티 258.49\n",
            "| 에폭 1 |  반복 1001 / 1327 | 시간 3240[s] | 퍼플렉서티 216.08\n",
            "| 에폭 1 |  반복 1021 / 1327 | 시간 3304[s] | 퍼플렉서티 253.41\n",
            "| 에폭 1 |  반복 1041 / 1327 | 시간 3367[s] | 퍼플렉서티 230.67\n",
            "| 에폭 1 |  반복 1061 / 1327 | 시간 3431[s] | 퍼플렉서티 218.58\n",
            "| 에폭 1 |  반복 1081 / 1327 | 시간 3494[s] | 퍼플렉서티 189.79\n",
            "| 에폭 1 |  반복 1101 / 1327 | 시간 3557[s] | 퍼플렉서티 213.92\n",
            "| 에폭 1 |  반복 1121 / 1327 | 시간 3620[s] | 퍼플렉서티 255.31\n",
            "| 에폭 1 |  반복 1141 / 1327 | 시간 3684[s] | 퍼플렉서티 231.64\n",
            "| 에폭 1 |  반복 1161 / 1327 | 시간 3747[s] | 퍼플렉서티 219.83\n",
            "| 에폭 1 |  반복 1181 / 1327 | 시간 3810[s] | 퍼플렉서티 209.58\n",
            "| 에폭 1 |  반복 1201 / 1327 | 시간 3874[s] | 퍼플렉서티 182.29\n",
            "| 에폭 1 |  반복 1221 / 1327 | 시간 3937[s] | 퍼플렉서티 178.11\n",
            "| 에폭 1 |  반복 1241 / 1327 | 시간 4000[s] | 퍼플렉서티 207.08\n",
            "| 에폭 1 |  반복 1261 / 1327 | 시간 4064[s] | 퍼플렉서티 189.51\n",
            "| 에폭 1 |  반복 1281 / 1327 | 시간 4128[s] | 퍼플렉서티 197.85\n",
            "| 에폭 1 |  반복 1301 / 1327 | 시간 4191[s] | 퍼플렉서티 247.69\n",
            "| 에폭 1 |  반복 1321 / 1327 | 시간 4255[s] | 퍼플렉서티 231.54\n",
            "퍼플렉서티 평가 중 ...\n",
            "209 / 210\n",
            "검증 퍼플렉시티: 197.81290461127912\n",
            "--------------------------------------------------\n",
            "| 에폭 2 |  반복 1 / 1327 | 시간 3[s] | 퍼플렉서티 283.35\n",
            "| 에폭 2 |  반복 21 / 1327 | 시간 67[s] | 퍼플렉서티 228.20\n",
            "| 에폭 2 |  반복 41 / 1327 | 시간 133[s] | 퍼플렉서티 213.39\n",
            "| 에폭 2 |  반복 61 / 1327 | 시간 198[s] | 퍼플렉서티 196.57\n",
            "| 에폭 2 |  반복 81 / 1327 | 시간 264[s] | 퍼플렉서티 178.32\n",
            "| 에폭 2 |  반복 101 / 1327 | 시간 330[s] | 퍼플렉서티 168.33\n",
            "| 에폭 2 |  반복 121 / 1327 | 시간 395[s] | 퍼플렉서티 181.89\n",
            "| 에폭 2 |  반복 141 / 1327 | 시간 460[s] | 퍼플렉서티 201.93\n",
            "| 에폭 2 |  반복 161 / 1327 | 시간 524[s] | 퍼플렉서티 215.56\n",
            "| 에폭 2 |  반복 181 / 1327 | 시간 589[s] | 퍼플렉서티 224.16\n",
            "| 에폭 2 |  반복 201 / 1327 | 시간 653[s] | 퍼플렉서티 207.31\n",
            "| 에폭 2 |  반복 221 / 1327 | 시간 718[s] | 퍼플렉서티 204.19\n",
            "| 에폭 2 |  반복 241 / 1327 | 시간 783[s] | 퍼플렉서티 196.61\n",
            "| 에폭 2 |  반복 261 / 1327 | 시간 848[s] | 퍼플렉서티 212.75\n",
            "| 에폭 2 |  반복 281 / 1327 | 시간 912[s] | 퍼플렉서티 206.01\n",
            "| 에폭 2 |  반복 301 / 1327 | 시간 977[s] | 퍼플렉서티 186.50\n",
            "| 에폭 2 |  반복 321 / 1327 | 시간 1042[s] | 퍼플렉서티 154.66\n",
            "| 에폭 2 |  반복 341 / 1327 | 시간 1107[s] | 퍼플렉서티 199.43\n",
            "| 에폭 2 |  반복 361 / 1327 | 시간 1171[s] | 퍼플렉서티 215.73\n",
            "| 에폭 2 |  반복 381 / 1327 | 시간 1236[s] | 퍼플렉서티 169.81\n",
            "| 에폭 2 |  반복 401 / 1327 | 시간 1299[s] | 퍼플렉서티 194.67\n",
            "| 에폭 2 |  반복 421 / 1327 | 시간 1363[s] | 퍼플렉서티 175.74\n",
            "| 에폭 2 |  반복 441 / 1327 | 시간 1427[s] | 퍼플렉서티 180.72\n",
            "| 에폭 2 |  반복 461 / 1327 | 시간 1491[s] | 퍼플렉서티 182.95\n",
            "| 에폭 2 |  반복 481 / 1327 | 시간 1555[s] | 퍼플렉서티 173.07\n",
            "| 에폭 2 |  반복 501 / 1327 | 시간 1618[s] | 퍼플렉서티 189.77\n",
            "| 에폭 2 |  반복 521 / 1327 | 시간 1682[s] | 퍼플렉서티 192.71\n",
            "| 에폭 2 |  반복 541 / 1327 | 시간 1746[s] | 퍼플렉서티 202.53\n",
            "| 에폭 2 |  반복 561 / 1327 | 시간 1810[s] | 퍼플렉서티 171.96\n",
            "| 에폭 2 |  반복 581 / 1327 | 시간 1873[s] | 퍼플렉서티 158.10\n",
            "| 에폭 2 |  반복 601 / 1327 | 시간 1937[s] | 퍼플렉서티 214.98\n",
            "| 에폭 2 |  반복 621 / 1327 | 시간 2001[s] | 퍼플렉서티 203.31\n",
            "| 에폭 2 |  반복 641 / 1327 | 시간 2064[s] | 퍼플렉서티 183.22\n",
            "| 에폭 2 |  반복 661 / 1327 | 시간 2128[s] | 퍼플렉서티 173.74\n",
            "| 에폭 2 |  반복 681 / 1327 | 시간 2191[s] | 퍼플렉서티 146.88\n",
            "| 에폭 2 |  반복 701 / 1327 | 시간 2255[s] | 퍼플렉서티 168.88\n",
            "| 에폭 2 |  반복 721 / 1327 | 시간 2318[s] | 퍼플렉서티 175.49\n",
            "| 에폭 2 |  반복 741 / 1327 | 시간 2382[s] | 퍼플렉서티 150.16\n",
            "| 에폭 2 |  반복 761 / 1327 | 시간 2445[s] | 퍼플렉서티 149.60\n",
            "| 에폭 2 |  반복 781 / 1327 | 시간 2509[s] | 퍼플렉서티 149.83\n",
            "| 에폭 2 |  반복 801 / 1327 | 시간 2572[s] | 퍼플렉서티 167.95\n",
            "| 에폭 2 |  반복 821 / 1327 | 시간 2636[s] | 퍼플렉서티 162.51\n",
            "| 에폭 2 |  반복 841 / 1327 | 시간 2700[s] | 퍼플렉서티 165.65\n",
            "| 에폭 2 |  반복 861 / 1327 | 시간 2763[s] | 퍼플렉서티 161.79\n",
            "| 에폭 2 |  반복 881 / 1327 | 시간 2826[s] | 퍼플렉서티 148.76\n",
            "| 에폭 2 |  반복 901 / 1327 | 시간 2890[s] | 퍼플렉서티 186.24\n",
            "| 에폭 2 |  반복 921 / 1327 | 시간 2953[s] | 퍼플렉서티 166.24\n",
            "| 에폭 2 |  반복 941 / 1327 | 시간 3016[s] | 퍼플렉서티 169.05\n",
            "| 에폭 2 |  반복 961 / 1327 | 시간 3079[s] | 퍼플렉서티 184.36\n",
            "| 에폭 2 |  반복 981 / 1327 | 시간 3143[s] | 퍼플렉서티 173.92\n",
            "| 에폭 2 |  반복 1001 / 1327 | 시간 3206[s] | 퍼플렉서티 147.13\n",
            "| 에폭 2 |  반복 1021 / 1327 | 시간 3269[s] | 퍼플렉서티 174.78\n",
            "| 에폭 2 |  반복 1041 / 1327 | 시간 3333[s] | 퍼플렉서티 158.43\n",
            "| 에폭 2 |  반복 1061 / 1327 | 시간 3397[s] | 퍼플렉서티 148.48\n",
            "| 에폭 2 |  반복 1081 / 1327 | 시간 3461[s] | 퍼플렉서티 124.01\n",
            "| 에폭 2 |  반복 1101 / 1327 | 시간 3525[s] | 퍼플렉서티 137.34\n",
            "| 에폭 2 |  반복 1121 / 1327 | 시간 3589[s] | 퍼플렉서티 171.13\n",
            "| 에폭 2 |  반복 1141 / 1327 | 시간 3652[s] | 퍼플렉서티 161.59\n",
            "| 에폭 2 |  반복 1161 / 1327 | 시간 3715[s] | 퍼플렉서티 147.71\n",
            "| 에폭 2 |  반복 1181 / 1327 | 시간 3778[s] | 퍼플렉서티 148.14\n",
            "| 에폭 2 |  반복 1201 / 1327 | 시간 3841[s] | 퍼플렉서티 126.36\n",
            "| 에폭 2 |  반복 1221 / 1327 | 시간 3904[s] | 퍼플렉서티 124.41\n",
            "| 에폭 2 |  반복 1241 / 1327 | 시간 3968[s] | 퍼플렉서티 146.81\n",
            "| 에폭 2 |  반복 1261 / 1327 | 시간 4031[s] | 퍼플렉서티 138.66\n",
            "| 에폭 2 |  반복 1281 / 1327 | 시간 4094[s] | 퍼플렉서티 139.39\n",
            "| 에폭 2 |  반복 1301 / 1327 | 시간 4157[s] | 퍼플렉서티 179.14\n",
            "| 에폭 2 |  반복 1321 / 1327 | 시간 4221[s] | 퍼플렉서티 171.88\n",
            "퍼플렉서티 평가 중 ...\n",
            "209 / 210\n",
            "검증 퍼플렉시티: 146.41297292433626\n",
            "--------------------------------------------------\n",
            "| 에폭 3 |  반복 1 / 1327 | 시간 3[s] | 퍼플렉서티 228.89\n",
            "| 에폭 3 |  반복 21 / 1327 | 시간 67[s] | 퍼플렉서티 160.77\n",
            "| 에폭 3 |  반복 41 / 1327 | 시간 132[s] | 퍼플렉서티 152.78\n",
            "| 에폭 3 |  반복 61 / 1327 | 시간 197[s] | 퍼플렉서티 142.67\n",
            "| 에폭 3 |  반복 81 / 1327 | 시간 262[s] | 퍼플렉서티 125.55\n",
            "| 에폭 3 |  반복 101 / 1327 | 시간 328[s] | 퍼플렉서티 121.36\n",
            "| 에폭 3 |  반복 121 / 1327 | 시간 393[s] | 퍼플렉서티 132.78\n",
            "| 에폭 3 |  반복 141 / 1327 | 시간 458[s] | 퍼플렉서티 147.40\n"
          ]
        }
      ]
    },
    {
      "cell_type": "code",
      "source": [
        "plt.rc('font', family='NanumBarunGothic')#한글 깨짐 방지\n",
        "trainer.plot(ylim = (0,500))"
      ],
      "metadata": {
        "id": "Cb5tr7DanJMX"
      },
      "execution_count": null,
      "outputs": []
    },
    {
      "cell_type": "code",
      "source": [
        ""
      ],
      "metadata": {
        "id": "-rEZ5M7ms9Kt"
      },
      "execution_count": null,
      "outputs": []
    }
  ]
}