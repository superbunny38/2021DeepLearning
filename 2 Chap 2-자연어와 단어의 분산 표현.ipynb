{
 "cells": [
  {
   "cell_type": "markdown",
   "id": "d9eefd02",
   "metadata": {},
   "source": [
    "#### 단어의 의미를 파악하는 방법\n",
    "- 시소러스를 활용한 기법 Thesaurus(WordNet)\n",
    "- 통계 기반 방법\n",
    "- 추론 기반 기법(word2vec)"
   ]
  },
  {
   "cell_type": "markdown",
   "id": "76ce0955",
   "metadata": {},
   "source": [
    "<b>통계 기반 기법</b>"
   ]
  },
  {
   "cell_type": "markdown",
   "id": "48f9660f",
   "metadata": {},
   "source": [
    "파이썬으로 말뭉치 전처리하기"
   ]
  },
  {
   "cell_type": "code",
   "execution_count": 1,
   "id": "276e390f",
   "metadata": {},
   "outputs": [],
   "source": [
    "#예시 문장\n",
    "text = 'You say goodbye and I say hello.'"
   ]
  },
  {
   "cell_type": "code",
   "execution_count": 2,
   "id": "6f1fe641",
   "metadata": {},
   "outputs": [
    {
     "data": {
      "text/plain": [
       "'you say goodbye and i say hello .'"
      ]
     },
     "execution_count": 2,
     "metadata": {},
     "output_type": "execute_result"
    }
   ],
   "source": [
    "text = text.lower()#소문자로 변환\n",
    "text = text.replace('.',' .')\n",
    "text"
   ]
  },
  {
   "cell_type": "code",
   "execution_count": 4,
   "id": "5f977d4f",
   "metadata": {},
   "outputs": [
    {
     "data": {
      "text/plain": [
       "['you', 'say', 'goodbye', 'and', 'i', 'say', 'hello', '.']"
      ]
     },
     "execution_count": 4,
     "metadata": {},
     "output_type": "execute_result"
    }
   ],
   "source": [
    "words = text.split(' ')#공백을 기준으로 분할\n",
    "words"
   ]
  },
  {
   "cell_type": "code",
   "execution_count": 5,
   "id": "ed7fcb66",
   "metadata": {},
   "outputs": [],
   "source": [
    "word_to_id = {}#단어에서 단어ID로의 변환 딕셔너리\n",
    "id_to_word = {}#단어ID에서 단어로의 변환 딕셔너리\n",
    "\n",
    "for word in words:\n",
    "    if word not in word_to_id:#단어가 들어있지 않으면\n",
    "        new_id = len(word_to_id)\n",
    "        word_to_id[word] = new_id\n",
    "        id_to_word[new_id] = word"
   ]
  },
  {
   "cell_type": "code",
   "execution_count": 6,
   "id": "b35ebd3e",
   "metadata": {},
   "outputs": [
    {
     "name": "stdout",
     "output_type": "stream",
     "text": [
      "{0: 'you', 1: 'say', 2: 'goodbye', 3: 'and', 4: 'i', 5: 'hello', 6: '.'}\n",
      "{'you': 0, 'say': 1, 'goodbye': 2, 'and': 3, 'i': 4, 'hello': 5, '.': 6}\n"
     ]
    }
   ],
   "source": [
    "#단어ID와 단어의 대응표\n",
    "print(id_to_word)\n",
    "print(word_to_id)"
   ]
  },
  {
   "cell_type": "code",
   "execution_count": 7,
   "id": "8465f1e4",
   "metadata": {},
   "outputs": [
    {
     "data": {
      "text/plain": [
       "'say'"
      ]
     },
     "execution_count": 7,
     "metadata": {},
     "output_type": "execute_result"
    }
   ],
   "source": [
    "id_to_word[1]"
   ]
  },
  {
   "cell_type": "code",
   "execution_count": 8,
   "id": "77e85601",
   "metadata": {},
   "outputs": [
    {
     "data": {
      "text/plain": [
       "1"
      ]
     },
     "execution_count": 8,
     "metadata": {},
     "output_type": "execute_result"
    }
   ],
   "source": [
    "word_to_id['say']"
   ]
  },
  {
   "cell_type": "code",
   "execution_count": 9,
   "id": "ccaf5d83",
   "metadata": {},
   "outputs": [
    {
     "data": {
      "text/plain": [
       "5"
      ]
     },
     "execution_count": 9,
     "metadata": {},
     "output_type": "execute_result"
    }
   ],
   "source": [
    "word_to_id['hello']"
   ]
  },
  {
   "cell_type": "code",
   "execution_count": 10,
   "id": "79af967e",
   "metadata": {},
   "outputs": [
    {
     "data": {
      "text/plain": [
       "'hello'"
      ]
     },
     "execution_count": 10,
     "metadata": {},
     "output_type": "execute_result"
    }
   ],
   "source": [
    "id_to_word[5]"
   ]
  },
  {
   "cell_type": "code",
   "execution_count": 11,
   "id": "cedc264f",
   "metadata": {},
   "outputs": [
    {
     "data": {
      "text/plain": [
       "array([0, 1, 2, 3, 4, 1, 5, 6])"
      ]
     },
     "execution_count": 11,
     "metadata": {},
     "output_type": "execute_result"
    }
   ],
   "source": [
    "import numpy as np\n",
    "corpus = [word_to_id[w] for w in words]\n",
    "corpus = np.array(corpus)\n",
    "corpus"
   ]
  },
  {
   "cell_type": "code",
   "execution_count": 12,
   "id": "605ca6a9",
   "metadata": {},
   "outputs": [],
   "source": [
    "def preprocess(text):#말뭉치 전처리 함수\n",
    "    text = text.lower()#소문자로 변환\n",
    "    text = text.replace('.',' .')\n",
    "    words = text.split(' ')#공백을 기준으로 나누기\n",
    "    \n",
    "    word_to_id = {}\n",
    "    id_to_word = {}\n",
    "    for word in words:#단어 ID와 단어의 대응표 만들기\n",
    "        if word not in word_to_id:\n",
    "            new_id = len(word_to_id)\n",
    "            word_to_id[word] = new_id\n",
    "            id_to_word[new_id] = word\n",
    "    \n",
    "    corpus = np.array([word_to_id[w] for w in words])\n",
    "    return corpus, word_to_id, id_to_word"
   ]
  },
  {
   "cell_type": "code",
   "execution_count": 13,
   "id": "8801dd3c",
   "metadata": {},
   "outputs": [],
   "source": [
    "text = 'You say goodbye and I say hello.'\n",
    "corpus, word_to_id, id_to_word = preprocess(text)"
   ]
  },
  {
   "cell_type": "code",
   "execution_count": 14,
   "id": "6808559d",
   "metadata": {},
   "outputs": [
    {
     "name": "stdout",
     "output_type": "stream",
     "text": [
      "corpus: [0 1 2 3 4 1 5 6]\n",
      "word_to_id: {'you': 0, 'say': 1, 'goodbye': 2, 'and': 3, 'i': 4, 'hello': 5, '.': 6}\n",
      "id_to_word: {0: 'you', 1: 'say', 2: 'goodbye', 3: 'and', 4: 'i', 5: 'hello', 6: '.'}\n"
     ]
    }
   ],
   "source": [
    "print('corpus:',corpus)\n",
    "print('word_to_id:',word_to_id)\n",
    "print('id_to_word:',id_to_word)"
   ]
  },
  {
   "cell_type": "code",
   "execution_count": 15,
   "id": "1de6ac47",
   "metadata": {},
   "outputs": [
    {
     "name": "stdout",
     "output_type": "stream",
     "text": [
      "[ 0  1  2  3  4  5  6  7  8  9 10  2]\n",
      "{'never': 0, 'defeat': 1, '.': 2, 'this': 3, 'is': 4, 'a': 5, 'message': 6, 'forward': 7, 'slash': 8, 'upcoming': 9, 'tests': 10}\n",
      "{0: 'never', 1: 'defeat', 2: '.', 3: 'this', 4: 'is', 5: 'a', 6: 'message', 7: 'forward', 8: 'slash', 9: 'upcoming', 10: 'tests'}\n"
     ]
    }
   ],
   "source": [
    "t2 = 'Never defeat. This is a message forward slash upcoming tests.'\n",
    "co, wo, id = preprocess(t2)\n",
    "print(co)\n",
    "print(wo)\n",
    "print(id)"
   ]
  },
  {
   "cell_type": "code",
   "execution_count": 16,
   "id": "2193d1cb",
   "metadata": {},
   "outputs": [],
   "source": [
    "#동시 발생 행렬 생성 함수\n",
    "def create_co_matrix(corpus, vocab_size, window_size = 1):#단어ID리스트, 어휘수, 윈도우 크기\n",
    "    corpus_size = len(corpus)\n",
    "    co_matrix = np.zeros((vocab_size, vocab_size), dtype = np.int32)\n",
    "    \n",
    "    for idx, word_id in enumerate(corpus):\n",
    "        for i in range(1, window_size+1):\n",
    "            left_idx = idx-i\n",
    "            right_idx = idx+i\n",
    "            \n",
    "            if left_idx >= 0:\n",
    "                left_word_id = corpus[left_idx]\n",
    "                co_matrix[word_id, left_word_id]+=1\n",
    "            \n",
    "            if right_idx < corpus_size:\n",
    "                right_word_id = corpus[right_idx]\n",
    "                co_matrix[word_id, right_word_id]+=1\n",
    "    \n",
    "    return co_matrix"
   ]
  },
  {
   "cell_type": "markdown",
   "id": "c62a755f",
   "metadata": {},
   "source": [
    "<b>벡터 간 유사도</b>\n",
    "\n",
    "### 코사인 유사도(cosine similarity)\n",
    "$\\Rightarrow$ '두 벡터가 가리키는 방향이 얼마나 비슷한가'<br>\n",
    "벡터의 방향이 완전히 같다면 코사인 유사도는 1이 되고, 완전히 반대라면 코사인 유사도는 -1이 됨.\n",
    "<br>\n",
    "\n",
    "$$similarity(x,y) = \\frac{x\\cdot y}{\\parallel x\\parallel\\parallel y\\parallel} = \\frac{x_1y_1+\\cdot\\cdot\\cdot+x_ny_n}{\\sqrt{x_1^2+\\cdot\\cdot\\cdot+x_n^2}\\sqrt{y_1^2+\\cdot\\cdot\\cdot+y_n^2}}$$\n",
    "\n",
    "분자: 벡터의 내적<br>\n",
    "분모: 벡터의 노름norm(L2노름)"
   ]
  },
  {
   "cell_type": "code",
   "execution_count": 17,
   "id": "75e0fa19",
   "metadata": {},
   "outputs": [],
   "source": [
    "def cos_similarity(x,y):#코사인 유사도 구현\n",
    "    nx = x/np.sqrt(np.sum(x**2))#x의 정규화\n",
    "    ny = y/np.sqrt(np.sum(y**2))#y의 정규화\n",
    "    \n",
    "    return np.dot(nx,ny)"
   ]
  },
  {
   "cell_type": "code",
   "execution_count": 18,
   "id": "96685adb",
   "metadata": {},
   "outputs": [],
   "source": [
    "#0으로 나누는 오류 방지\n",
    "def cos_similarity(x,y,eps =1e-8):\n",
    "    nx = x/(np.sqrt(np.sum(x**2))+eps)\n",
    "    ny = y/(np.sqrt(np.sum(y**2))+eps)\n",
    "    return np.dot(nx,ny)"
   ]
  },
  {
   "cell_type": "markdown",
   "id": "b2331e3a",
   "metadata": {},
   "source": [
    "<br>\n",
    "you와 I사이의 유사도 구하기"
   ]
  },
  {
   "cell_type": "code",
   "execution_count": 19,
   "id": "1bfbedc0",
   "metadata": {},
   "outputs": [
    {
     "data": {
      "text/plain": [
       "'You say goodbye and I say hello.'"
      ]
     },
     "execution_count": 19,
     "metadata": {},
     "output_type": "execute_result"
    }
   ],
   "source": [
    "text"
   ]
  },
  {
   "cell_type": "code",
   "execution_count": 20,
   "id": "5c7d1c55",
   "metadata": {},
   "outputs": [
    {
     "data": {
      "text/plain": [
       "array([0, 1, 2, 3, 4, 1, 5, 6])"
      ]
     },
     "execution_count": 20,
     "metadata": {},
     "output_type": "execute_result"
    }
   ],
   "source": [
    "corpus"
   ]
  },
  {
   "cell_type": "code",
   "execution_count": 21,
   "id": "af68fe81",
   "metadata": {},
   "outputs": [
    {
     "data": {
      "text/plain": [
       "{'you': 0, 'say': 1, 'goodbye': 2, 'and': 3, 'i': 4, 'hello': 5, '.': 6}"
      ]
     },
     "execution_count": 21,
     "metadata": {},
     "output_type": "execute_result"
    }
   ],
   "source": [
    "word_to_id"
   ]
  },
  {
   "cell_type": "code",
   "execution_count": 22,
   "id": "9dd0d4e8",
   "metadata": {},
   "outputs": [
    {
     "data": {
      "text/plain": [
       "{0: 'you', 1: 'say', 2: 'goodbye', 3: 'and', 4: 'i', 5: 'hello', 6: '.'}"
      ]
     },
     "execution_count": 22,
     "metadata": {},
     "output_type": "execute_result"
    }
   ],
   "source": [
    "id_to_word"
   ]
  },
  {
   "cell_type": "code",
   "execution_count": 23,
   "id": "dc7314c4",
   "metadata": {},
   "outputs": [
    {
     "data": {
      "text/plain": [
       "7"
      ]
     },
     "execution_count": 23,
     "metadata": {},
     "output_type": "execute_result"
    }
   ],
   "source": [
    "vocab_size = len(word_to_id)\n",
    "vocab_size"
   ]
  },
  {
   "cell_type": "code",
   "execution_count": 25,
   "id": "d4e97137",
   "metadata": {},
   "outputs": [
    {
     "data": {
      "text/plain": [
       "array([[0, 1, 0, 0, 0, 0, 0],\n",
       "       [1, 0, 1, 0, 1, 1, 0],\n",
       "       [0, 1, 0, 1, 0, 0, 0],\n",
       "       [0, 0, 1, 0, 1, 0, 0],\n",
       "       [0, 1, 0, 1, 0, 0, 0],\n",
       "       [0, 1, 0, 0, 0, 0, 1],\n",
       "       [0, 0, 0, 0, 0, 1, 0]])"
      ]
     },
     "execution_count": 25,
     "metadata": {},
     "output_type": "execute_result"
    }
   ],
   "source": [
    "C = create_co_matrix(corpus, vocab_size)#동시 발생 행렬\n",
    "C"
   ]
  },
  {
   "cell_type": "code",
   "execution_count": 26,
   "id": "065f4a71",
   "metadata": {},
   "outputs": [
    {
     "data": {
      "text/plain": [
       "array([0, 1, 0, 0, 0, 0, 0])"
      ]
     },
     "execution_count": 26,
     "metadata": {},
     "output_type": "execute_result"
    }
   ],
   "source": [
    "c0 = C[word_to_id['you']]#you의 단어 벡터\n",
    "c0"
   ]
  },
  {
   "cell_type": "code",
   "execution_count": 29,
   "id": "f86896f1",
   "metadata": {},
   "outputs": [
    {
     "data": {
      "text/plain": [
       "array([0, 1, 0, 1, 0, 0, 0])"
      ]
     },
     "execution_count": 29,
     "metadata": {},
     "output_type": "execute_result"
    }
   ],
   "source": [
    "c1 = C[word_to_id['i']]#I의 단어 벡터\n",
    "c1"
   ]
  },
  {
   "cell_type": "code",
   "execution_count": 31,
   "id": "fd266cae",
   "metadata": {},
   "outputs": [
    {
     "data": {
      "text/plain": [
       "0.7071067691154799"
      ]
     },
     "execution_count": 31,
     "metadata": {},
     "output_type": "execute_result"
    }
   ],
   "source": [
    "cos_similarity(c0,c1)#코사인 유사도의 범위는 -1~1이므로 비교적 높다(유사성이 크다)고 설명할 수 있다"
   ]
  },
  {
   "cell_type": "markdown",
   "id": "01fff017",
   "metadata": {},
   "source": [
    "<br>\n",
    "유사 단어의 랭킹 표시<br>\n",
    ":어떤 단어가 검색어로 주어지면, 그 검색어와 비슷한 단어를 유사도 순으로 출력하는 함수\n",
    "<br>\n",
    "\n",
    "1. 검색어의 단어 벡터를 꺼낸다\n",
    "2. 검색어의 단어 벡터와 다른 모든 단어 벡터와의 코사인 유사도를 각각 구한다\n",
    "3. 계산한 코사인 유사도 결과를 기준으로 값이 높은 순서대로 출력한다"
   ]
  },
  {
   "cell_type": "code",
   "execution_count": 59,
   "id": "0a6293f0",
   "metadata": {},
   "outputs": [],
   "source": [
    "def most_similar(query, word_to_id, id_to_word, word_matrix, top=5):#유사 단어의 랭킹 출력\n",
    "    '''\n",
    "    <인수>\n",
    "    query: 검색어(단어)\n",
    "    word_to_id: 단어에서 단어ID로의 딕셔너리\n",
    "    id_to_word: 단어 ID에서 단어로의 딕셔너리\n",
    "    word_matrix: 단어 벡터들을 한데 모은 행렬, 각 행에는 대응하는 벡터가 저장되어 있다고 가정한다.\n",
    "    top: 상위 몇 개까지 출력하맂 설정\n",
    "    \n",
    "    '''\n",
    "    #검색어를 꺼낸다\n",
    "    if query not in word_to_id:#찾는 검색어가 없으면\n",
    "        print('%s(을)를 찾을 수 없습니다.'%query)\n",
    "        return\n",
    "    \n",
    "    print('\\n[query]: '+query)\n",
    "    query_id = word_to_id[query]\n",
    "    query_vec = word_matrix[query_id]\n",
    "    \n",
    "    #코사인 유사도 계산\n",
    "    vocab_size = len(word_to_id)\n",
    "    similarity = np.zeros(vocab_size)\n",
    "    for i in range(vocab_size):\n",
    "        similarity[i] = cos_similarity(word_matrix[i],query_vec)#다른 단어와 검색어의 코사인 유사도\n",
    "        \n",
    "    #코사인 유사도를 기준으로 내림차순으로 출력\n",
    "    count = 0\n",
    "    print('\\n')\n",
    "    for i in (-1*similarity).argsort():#인덱스를 내림차순으로 정렬(-1 x 오름차순 정렬)\n",
    "        if id_to_word[i] == query:#검색어는 표시에서 제외\n",
    "            continue\n",
    "        print('%d. %s: %s'%(count+1, id_to_word[i], similarity[i]))\n",
    "        count +=1\n",
    "        if count >= top:\n",
    "            return\n",
    "    "
   ]
  },
  {
   "cell_type": "code",
   "execution_count": 60,
   "id": "f85ef75e",
   "metadata": {},
   "outputs": [
    {
     "name": "stdout",
     "output_type": "stream",
     "text": [
      "[1 2 0]\n",
      "[-20   2 100]\n"
     ]
    }
   ],
   "source": [
    "x = np.array([100,-20,2])\n",
    "print(x.argsort())#오름차순으로 정렬(작은 것부터 출력)\n",
    "print(x[x.argsort()])"
   ]
  },
  {
   "cell_type": "code",
   "execution_count": 61,
   "id": "67838ce2",
   "metadata": {},
   "outputs": [
    {
     "data": {
      "text/plain": [
       "array([0, 2, 1], dtype=int64)"
      ]
     },
     "execution_count": 61,
     "metadata": {},
     "output_type": "execute_result"
    }
   ],
   "source": [
    "(-x).argsort()#내림차순으로 정렬(큰 순서로 출력)"
   ]
  },
  {
   "cell_type": "code",
   "execution_count": 62,
   "id": "51781529",
   "metadata": {},
   "outputs": [
    {
     "name": "stdout",
     "output_type": "stream",
     "text": [
      "[0 2 1]\n"
     ]
    }
   ],
   "source": [
    "print((-x).argsort())"
   ]
  },
  {
   "cell_type": "code",
   "execution_count": 63,
   "id": "9651bcea",
   "metadata": {},
   "outputs": [
    {
     "name": "stdout",
     "output_type": "stream",
     "text": [
      "\n",
      "[query]: you\n",
      "\n",
      "\n",
      "1. goodbye: 0.7071067691154799\n",
      "2. i: 0.7071067691154799\n",
      "3. hello: 0.7071067691154799\n",
      "4. say: 0.0\n",
      "5. and: 0.0\n"
     ]
    }
   ],
   "source": [
    "#유사 단어 랭킹 표시 함수 사용해보기\n",
    "text = 'You say goodbye and I say hello.'\n",
    "corpus, word_to_id, id_to_word = preprocess(text)\n",
    "vocab_size = len(word_to_id)\n",
    "C = create_co_matrix(corpus, vocab_size)\n",
    "\n",
    "#검색어: you\n",
    "most_similar('you', word_to_id, id_to_word, C, top = 5)"
   ]
  },
  {
   "cell_type": "markdown",
   "id": "dde03caa",
   "metadata": {},
   "source": [
    "<br>통계 기반 기법 개선하기<br>\n",
    "\n",
    "<b>점별 상호정보량(Pointwise Mutual Information, PMI)</b><br>\n",
    "$$PMI(x,y) = log_2\\frac{P(x,y)}{P(x)P(y)} = log_w\\frac{\\frac{C(x,y)}{N}}{\\frac{C(x)}{N}\\frac{C(y)}{N}} = log_2\\frac{C(x,y)\\cdot N}{C(x)C(y)}$$\n",
    "<br>\n",
    "P(x): x가 일어날 확률<br>\n",
    "P(y): y가 일어날 확률<br>\n",
    "P(x,y): x와 y가 동시에 확률<br>\n",
    "PMI 값이 높을수록 관련성이 높다\n",
    "<br><br><br>\n",
    "\n",
    "<b>양의 상호정보량(Positive PMI, PPMI)</b><br>\n",
    "\n",
    "$$PPMI(x,y) = max(0,PMI(x,y))$$"
   ]
  },
  {
   "cell_type": "code",
   "execution_count": 67,
   "id": "f553acde",
   "metadata": {},
   "outputs": [],
   "source": [
    "def ppmi(C, verbose = False, eps = 1e-8):#양의 상호정보량\n",
    "    M = np.zeros_like(C,dtype = np.float32)#반환값\n",
    "    N = np.sum(C)#단어수\n",
    "    S = np.sum(C, axis = 0)\n",
    "    total = C.shape[0]*C.shape[1]\n",
    "    cnt = 0\n",
    "    \n",
    "    for i in range(C.shape[0]):\n",
    "        for j in range(C.shape[1]):\n",
    "            pmi = np.log2(C[i,j]*N/(S[j]*S[i])+eps)#pmi\n",
    "            M[i,j] = max(0,pmi)#ppmi\n",
    "            \n",
    "            if verbose:#진행상황출력\n",
    "                cnt +=1\n",
    "                if cnt %(total//100) == 0:\n",
    "                    print('%.1f%% 완료'%(100*cnt/total))\n",
    "    return M"
   ]
  },
  {
   "cell_type": "code",
   "execution_count": 68,
   "id": "86d8f9c1",
   "metadata": {},
   "outputs": [
    {
     "data": {
      "text/plain": [
       "'You say goodbye and I say hello.'"
      ]
     },
     "execution_count": 68,
     "metadata": {},
     "output_type": "execute_result"
    }
   ],
   "source": [
    "text"
   ]
  },
  {
   "cell_type": "code",
   "execution_count": 69,
   "id": "4e50cdd9",
   "metadata": {},
   "outputs": [
    {
     "name": "stdout",
     "output_type": "stream",
     "text": [
      "동시발생 행렬\n",
      "[[0 1 0 0 0 0 0]\n",
      " [1 0 1 0 1 1 0]\n",
      " [0 1 0 1 0 0 0]\n",
      " [0 0 1 0 1 0 0]\n",
      " [0 1 0 1 0 0 0]\n",
      " [0 1 0 0 0 0 1]\n",
      " [0 0 0 0 0 1 0]]\n",
      "--------------------------------------------------\n",
      "PPMI\n",
      "[[0.    1.807 0.    0.    0.    0.    0.   ]\n",
      " [1.807 0.    0.807 0.    0.807 0.807 0.   ]\n",
      " [0.    0.807 0.    1.807 0.    0.    0.   ]\n",
      " [0.    0.    1.807 0.    1.807 0.    0.   ]\n",
      " [0.    0.807 0.    1.807 0.    0.    0.   ]\n",
      " [0.    0.807 0.    0.    0.    0.    2.807]\n",
      " [0.    0.    0.    0.    0.    2.807 0.   ]]\n"
     ]
    }
   ],
   "source": [
    "#동시 발생 행렬을 PPMI행렬로 변환\n",
    "corpus, word_to_id, id_to_word = preprocess(text)\n",
    "vocab_size = len(word_to_id)\n",
    "C = create_co_matrix(corpus, vocab_size)#동시 발생 행렬\n",
    "W = ppmi(C)#ppmi\n",
    "\n",
    "np.set_printoptions(precision=3)#유효 자릿수를 세 자리로 표시\n",
    "print('동시발생 행렬')\n",
    "print(C)\n",
    "print('-'*50)\n",
    "print('PPMI')\n",
    "print(W)"
   ]
  },
  {
   "cell_type": "markdown",
   "id": "ddaad2a5",
   "metadata": {},
   "source": [
    "차원 축소\n",
    "<b>특잇값분해 (Singular Value Decomposition, SVD)</b>\n",
    "$$X = USV^T$$\n",
    "<br>\n",
    "SVD: 임의의 행렬 X를 U,S,V라는 세 행렬의 곱으로 분해<br>\n",
    "- U: 직교행렬(orthogonal matrix)\n",
    "- S: 대각행렬; 특잇값(singular value)가 큰 순서로 나열되어 있음\n",
    "- U와 V는 직교행렬"
   ]
  },
  {
   "cell_type": "code",
   "execution_count": 70,
   "id": "9662346f",
   "metadata": {},
   "outputs": [],
   "source": [
    "#SVD에 의한 차원 감소\n",
    "C = create_co_matrix(corpus, vocab_size, window_size=1)#동시 발생 행렬\n",
    "W = ppmi(C)#동시 발생 행렬을 ppmi로 변환\n",
    "U, S, V = np.linalg.svd(W)#ppmi 행렬에 SVD 적용"
   ]
  },
  {
   "cell_type": "code",
   "execution_count": 74,
   "id": "62e721bd",
   "metadata": {},
   "outputs": [
    {
     "name": "stdout",
     "output_type": "stream",
     "text": [
      "동시 발생 행렬\n",
      " [0 1 0 0 0 0 0]\n",
      "\n",
      "\n",
      "ppmi 행렬\n",
      " [0.    1.807 0.    0.    0.    0.    0.   ]\n",
      "\n",
      "\n",
      "SVD행렬\n",
      " [ 3.409e-01 -1.110e-16 -4.441e-16 -1.205e-01  0.000e+00 -9.323e-01\n",
      " -1.086e-16]\n"
     ]
    }
   ],
   "source": [
    "#밀집 벡터 표현은 변수 U에 저장됨\n",
    "\n",
    "#ID가 0인 단어 벡터로 확인\n",
    "\n",
    "print('동시 발생 행렬\\n',C[0])#동시 발생 행렬\n",
    "\n",
    "print('\\n\\nppmi 행렬\\n',W[0])#ppmi 행렬\n",
    "\n",
    "print('\\n\\nSVD행렬\\n',U[0])#SVD"
   ]
  },
  {
   "cell_type": "code",
   "execution_count": 75,
   "id": "da046d0a",
   "metadata": {},
   "outputs": [
    {
     "name": "stdout",
     "output_type": "stream",
     "text": [
      "[ 3.409e-01 -1.110e-16]\n"
     ]
    }
   ],
   "source": [
    "#밀집 벡터(U)의 차원 감소\n",
    "print(U[0,:2])#예컨대 2차원 벡터로 줄임"
   ]
  },
  {
   "cell_type": "code",
   "execution_count": 76,
   "id": "1274131c",
   "metadata": {},
   "outputs": [
    {
     "data": {
      "image/png": "[encoded data removed]",
      "text/plain": [
       "<Figure size 432x288 with 1 Axes>"
      ]
     },
     "metadata": {
      "needs_background": "light"
     },
     "output_type": "display_data"
    }
   ],
   "source": [
    "#각 단어를 2차원 벡터로 표현 후 그래프로 시각화\n",
    "import matplotlib.pyplot as plt\n",
    "\n",
    "for word, word_id in word_to_id.items():\n",
    "    plt.annotate(word, (U[word_id,0],U[word_id,1]))\n",
    "\n",
    "\n",
    "plt.scatter(U[:,0],U[:,1],alpha = 0.5)\n",
    "plt.show()"
   ]
  },
  {
   "cell_type": "markdown",
   "id": "afd8a078",
   "metadata": {},
   "source": [
    "i와 goodbye가 겹쳐있음"
   ]
  },
  {
   "cell_type": "code",
   "execution_count": 77,
   "id": "68586b18",
   "metadata": {},
   "outputs": [
    {
     "name": "stdout",
     "output_type": "stream",
     "text": [
      "Downloading ptb.train.txt ... \n",
      "Done\n",
      "말뭉치 크기: 929589\n",
      "corpus[:30]: [ 0  1  2  3  4  5  6  7  8  9 10 11 12 13 14 15 16 17 18 19 20 21 22 23\n",
      " 24 25 26 27 28 29]\n",
      "\n",
      "id_to_word[0]: aer\n",
      "id_to_word[1]: banknote\n",
      "id_to_word[2]: berlitz\n",
      "\n",
      "word_to_id['car']: 3856\n",
      "word_to_id['happy']: 4428\n",
      "word_to_id['lexus']: 7426\n"
     ]
    }
   ],
   "source": [
    "#PTB 데이터셋\n",
    "import sys\n",
    "sys.path.append('..')\n",
    "from dataset import ptb\n",
    "\n",
    "corpus, word_to_id, id_to_word = ptb.load_data('train')\n",
    "\n",
    "print('말뭉치 크기:', len(corpus))\n",
    "print('corpus[:30]:',corpus[:30])#단어 ID 목록 저장된 딕셔너리\n",
    "print()\n",
    "print('id_to_word[0]:', id_to_word[0])\n",
    "print('id_to_word[1]:', id_to_word[1])\n",
    "print('id_to_word[2]:', id_to_word[2])\n",
    "print()\n",
    "print(\"word_to_id['car']:\", word_to_id['car'])\n",
    "print(\"word_to_id['happy']:\", word_to_id['happy'])\n",
    "print(\"word_to_id['lexus']:\", word_to_id['lexus'])"
   ]
  },
  {
   "cell_type": "code",
   "execution_count": 79,
   "id": "1710871f",
   "metadata": {},
   "outputs": [
    {
     "name": "stdout",
     "output_type": "stream",
     "text": [
      "동시발생 수 계산 ...\n",
      "[[0 1 1 ... 0 0 0]\n",
      " [1 0 1 ... 0 0 0]\n",
      " [1 1 0 ... 0 0 0]\n",
      " ...\n",
      " [0 0 0 ... 0 0 0]\n",
      " [0 0 0 ... 0 0 0]\n",
      " [0 0 0 ... 0 0 0]]\n",
      "\n",
      "\n",
      "PPMI 계산 ...\n"
     ]
    },
    {
     "name": "stderr",
     "output_type": "stream",
     "text": [
      "<ipython-input-67-ce001d116fea>:10: RuntimeWarning: overflow encountered in long_scalars\n",
      "  pmi = np.log2(C[i,j]*N/(S[j]*S[i])+eps)#pmi\n",
      "<ipython-input-67-ce001d116fea>:10: RuntimeWarning: invalid value encountered in log2\n",
      "  pmi = np.log2(C[i,j]*N/(S[j]*S[i])+eps)#pmi\n"
     ]
    },
    {
     "name": "stdout",
     "output_type": "stream",
     "text": [
      "1.0% 완료\n",
      "2.0% 완료\n",
      "3.0% 완료\n",
      "4.0% 완료\n",
      "5.0% 완료\n",
      "6.0% 완료\n",
      "7.0% 완료\n",
      "8.0% 완료\n",
      "9.0% 완료\n",
      "10.0% 완료\n",
      "11.0% 완료\n",
      "12.0% 완료\n",
      "13.0% 완료\n",
      "14.0% 완료\n",
      "15.0% 완료\n",
      "16.0% 완료\n",
      "17.0% 완료\n",
      "18.0% 완료\n",
      "19.0% 완료\n",
      "20.0% 완료\n",
      "21.0% 완료\n",
      "22.0% 완료\n",
      "23.0% 완료\n",
      "24.0% 완료\n",
      "25.0% 완료\n",
      "26.0% 완료\n",
      "27.0% 완료\n",
      "28.0% 완료\n",
      "29.0% 완료\n",
      "30.0% 완료\n",
      "31.0% 완료\n",
      "32.0% 완료\n",
      "33.0% 완료\n",
      "34.0% 완료\n",
      "35.0% 완료\n",
      "36.0% 완료\n",
      "37.0% 완료\n",
      "38.0% 완료\n",
      "39.0% 완료\n",
      "40.0% 완료\n",
      "41.0% 완료\n",
      "42.0% 완료\n",
      "43.0% 완료\n",
      "44.0% 완료\n",
      "45.0% 완료\n",
      "46.0% 완료\n",
      "47.0% 완료\n",
      "48.0% 완료\n",
      "49.0% 완료\n",
      "50.0% 완료\n",
      "51.0% 완료\n",
      "52.0% 완료\n",
      "53.0% 완료\n",
      "54.0% 완료\n",
      "55.0% 완료\n",
      "56.0% 완료\n",
      "57.0% 완료\n",
      "58.0% 완료\n",
      "59.0% 완료\n",
      "60.0% 완료\n",
      "61.0% 완료\n",
      "62.0% 완료\n",
      "63.0% 완료\n",
      "64.0% 완료\n",
      "65.0% 완료\n",
      "66.0% 완료\n",
      "67.0% 완료\n",
      "68.0% 완료\n",
      "69.0% 완료\n",
      "70.0% 완료\n",
      "71.0% 완료\n",
      "72.0% 완료\n",
      "73.0% 완료\n",
      "74.0% 완료\n",
      "75.0% 완료\n",
      "76.0% 완료\n",
      "77.0% 완료\n",
      "78.0% 완료\n",
      "79.0% 완료\n",
      "80.0% 완료\n",
      "81.0% 완료\n",
      "82.0% 완료\n",
      "83.0% 완료\n",
      "84.0% 완료\n",
      "85.0% 완료\n",
      "86.0% 완료\n",
      "87.0% 완료\n",
      "88.0% 완료\n",
      "89.0% 완료\n",
      "90.0% 완료\n",
      "91.0% 완료\n",
      "92.0% 완료\n",
      "93.0% 완료\n",
      "94.0% 완료\n",
      "95.0% 완료\n",
      "96.0% 완료\n",
      "97.0% 완료\n",
      "98.0% 완료\n",
      "99.0% 완료\n",
      "100.0% 완료\n",
      "[[ 0.    19.241 18.826 ...  0.     0.     0.   ]\n",
      " [19.241  0.    18.241 ...  0.     0.     0.   ]\n",
      " [18.826 18.241  0.    ...  0.     0.     0.   ]\n",
      " ...\n",
      " [ 0.     0.     0.    ...  0.     0.     0.   ]\n",
      " [ 0.     0.     0.    ...  0.     0.     0.   ]\n",
      " [ 0.     0.     0.    ...  0.     0.     0.   ]]\n",
      "\n",
      "\n",
      "SVD 계산...\n",
      "\n",
      "[query]: you\n",
      "\n",
      "\n",
      "1. i: 0.6970576643943787\n",
      "2. we: 0.6238998174667358\n",
      "3. do: 0.5506881475448608\n",
      "4. anybody: 0.5458648204803467\n",
      "5. me: 0.5246217846870422\n",
      "\n",
      "[query]: year\n",
      "\n",
      "\n",
      "1. month: 0.6127303838729858\n",
      "2. next: 0.6115641593933105\n",
      "3. quarter: 0.6088683009147644\n",
      "4. earlier: 0.6005136370658875\n",
      "5. june: 0.5979496240615845\n",
      "\n",
      "[query]: car\n",
      "\n",
      "\n",
      "1. luxury: 0.6106680631637573\n",
      "2. auto: 0.589850127696991\n",
      "3. corsica: 0.5293519496917725\n",
      "4. truck: 0.5086217522621155\n",
      "5. rental: 0.5085887312889099\n",
      "\n",
      "[query]: toyota\n",
      "\n",
      "\n",
      "1. motor: 0.7675474882125854\n",
      "2. honda: 0.6680845618247986\n",
      "3. motors: 0.6496706604957581\n",
      "4. nissan: 0.6419783234596252\n",
      "5. lexus: 0.5734514594078064\n"
     ]
    }
   ],
   "source": [
    "#PTB 데이터셋에 통계 기반 기법 적용\n",
    "window_size =2\n",
    "wordvec_size = 100\n",
    "\n",
    "corpus, word_to_id, id_to_word = ptb.load_data('train')\n",
    "vocab_size = len(word_to_id)\n",
    "\n",
    "print('동시발생 수 계산 ...')\n",
    "C = create_co_matrix(corpus, vocab_size, window_size)\n",
    "print(C[:10])\n",
    "print('\\n\\nPPMI 계산 ...')\n",
    "W = ppmi(C, verbose=True)\n",
    "print(W[:10])\n",
    "\n",
    "print('\\n\\nSVD 계산...')\n",
    "try:\n",
    "    #truncated SVD (빠르다!)\n",
    "    from sklearn.utils.extmath import randomized_svd\n",
    "    U, S, V = randomized_svd(W, n_components=wordvec_size, n_iter=5,#무작위수를 사용한 Truncated SVD\n",
    "                            random_state = None)#특이값이 큰 것들만 계산하여 기본적인 SVD보다 빠름\n",
    "\n",
    "except ImportError:\n",
    "    #SVD(느리다)\n",
    "    print('느린 SVD')\n",
    "    U, S, V = np.linalg.svd(W)\n",
    "    \n",
    "word_vecs = U[:,:wordvec_size]\n",
    "\n",
    "querys = ['you', 'year','car','toyota']\n",
    "for query in querys:\n",
    "    most_similar(query, word_to_id, id_to_word, word_vecs, top= 5)"
   ]
  }
 ],
 "metadata": {
  "kernelspec": {
   "display_name": "Python 3",
   "language": "python",
   "name": "python3"
  },
  "language_info": {
   "codemirror_mode": {
    "name": "ipython",
    "version": 3
   },
   "file_extension": ".py",
   "mimetype": "text/x-python",
   "name": "python",
   "nbconvert_exporter": "python",
   "pygments_lexer": "ipython3",
   "version": "3.9.5"
  }
 },
 "nbformat": 4,
 "nbformat_minor": 5
}
