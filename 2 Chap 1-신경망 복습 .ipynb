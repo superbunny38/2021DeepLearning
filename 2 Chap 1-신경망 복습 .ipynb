{
 "cells": [
  {
   "cell_type": "code",
   "execution_count": 1,
   "id": "fb4184bf",
   "metadata": {},
   "outputs": [],
   "source": [
    "import numpy as np\n",
    "x = np.array([1,2,3])"
   ]
  },
  {
   "cell_type": "code",
   "execution_count": 2,
   "id": "00fde158",
   "metadata": {},
   "outputs": [
    {
     "data": {
      "text/plain": [
       "numpy.ndarray"
      ]
     },
     "execution_count": 2,
     "metadata": {},
     "output_type": "execute_result"
    }
   ],
   "source": [
    "x.__class__#클래스 이름 표시"
   ]
  },
  {
   "cell_type": "code",
   "execution_count": 3,
   "id": "219e9db0",
   "metadata": {},
   "outputs": [
    {
     "data": {
      "text/plain": [
       "(3,)"
      ]
     },
     "execution_count": 3,
     "metadata": {},
     "output_type": "execute_result"
    }
   ],
   "source": [
    "x.shape"
   ]
  },
  {
   "cell_type": "code",
   "execution_count": 4,
   "id": "54285cf6",
   "metadata": {},
   "outputs": [
    {
     "data": {
      "text/plain": [
       "1"
      ]
     },
     "execution_count": 4,
     "metadata": {},
     "output_type": "execute_result"
    }
   ],
   "source": [
    "x.ndim"
   ]
  },
  {
   "cell_type": "code",
   "execution_count": 5,
   "id": "23babb39",
   "metadata": {},
   "outputs": [],
   "source": [
    "W = np.array([[1,2,3],[4,5,6]])"
   ]
  },
  {
   "cell_type": "code",
   "execution_count": 6,
   "id": "3af8da81",
   "metadata": {},
   "outputs": [
    {
     "data": {
      "text/plain": [
       "(2, 3)"
      ]
     },
     "execution_count": 6,
     "metadata": {},
     "output_type": "execute_result"
    }
   ],
   "source": [
    "W.shape"
   ]
  },
  {
   "cell_type": "code",
   "execution_count": 7,
   "id": "a31a74d2",
   "metadata": {},
   "outputs": [
    {
     "data": {
      "text/plain": [
       "2"
      ]
     },
     "execution_count": 7,
     "metadata": {},
     "output_type": "execute_result"
    }
   ],
   "source": [
    "W.ndim"
   ]
  },
  {
   "cell_type": "code",
   "execution_count": 8,
   "id": "c0b950ad",
   "metadata": {},
   "outputs": [
    {
     "data": {
      "text/plain": [
       "array([[1, 2, 3],\n",
       "       [4, 5, 6]])"
      ]
     },
     "execution_count": 8,
     "metadata": {},
     "output_type": "execute_result"
    }
   ],
   "source": [
    "W"
   ]
  },
  {
   "cell_type": "code",
   "execution_count": 9,
   "id": "1a8e51b1",
   "metadata": {},
   "outputs": [],
   "source": [
    "X = [[0,1,2],[3,4,5]]"
   ]
  },
  {
   "cell_type": "code",
   "execution_count": 12,
   "id": "368d80fe",
   "metadata": {},
   "outputs": [
    {
     "data": {
      "text/plain": [
       "[[0, 1, 2], [3, 4, 5]]"
      ]
     },
     "execution_count": 12,
     "metadata": {},
     "output_type": "execute_result"
    }
   ],
   "source": [
    "X"
   ]
  },
  {
   "cell_type": "code",
   "execution_count": 10,
   "id": "b50f5cf8",
   "metadata": {},
   "outputs": [
    {
     "data": {
      "text/plain": [
       "array([[ 1,  3,  5],\n",
       "       [ 7,  9, 11]])"
      ]
     },
     "execution_count": 10,
     "metadata": {},
     "output_type": "execute_result"
    }
   ],
   "source": [
    "W+X"
   ]
  },
  {
   "cell_type": "code",
   "execution_count": 11,
   "id": "cabbf4a6",
   "metadata": {},
   "outputs": [
    {
     "data": {
      "text/plain": [
       "array([[ 0,  2,  6],\n",
       "       [12, 20, 30]])"
      ]
     },
     "execution_count": 11,
     "metadata": {},
     "output_type": "execute_result"
    }
   ],
   "source": [
    "W*X"
   ]
  },
  {
   "cell_type": "code",
   "execution_count": 13,
   "id": "d4dc08d5",
   "metadata": {},
   "outputs": [],
   "source": [
    "A = np.array([[1,2],[3,4]])"
   ]
  },
  {
   "cell_type": "code",
   "execution_count": 14,
   "id": "8a58b5e0",
   "metadata": {},
   "outputs": [
    {
     "data": {
      "text/plain": [
       "array([[10, 20],\n",
       "       [30, 40]])"
      ]
     },
     "execution_count": 14,
     "metadata": {},
     "output_type": "execute_result"
    }
   ],
   "source": [
    "A*10"
   ]
  },
  {
   "cell_type": "code",
   "execution_count": 15,
   "id": "e383780a",
   "metadata": {},
   "outputs": [],
   "source": [
    "A = np.array([[1,2],[3,4]])"
   ]
  },
  {
   "cell_type": "code",
   "execution_count": 16,
   "id": "b75eaf15",
   "metadata": {},
   "outputs": [],
   "source": [
    "b = np.array([10,20])"
   ]
  },
  {
   "cell_type": "code",
   "execution_count": 17,
   "id": "bc08c78e",
   "metadata": {},
   "outputs": [
    {
     "data": {
      "text/plain": [
       "array([[10, 40],\n",
       "       [30, 80]])"
      ]
     },
     "execution_count": 17,
     "metadata": {},
     "output_type": "execute_result"
    }
   ],
   "source": [
    "A*b"
   ]
  },
  {
   "cell_type": "code",
   "execution_count": 18,
   "id": "7d0df3cc",
   "metadata": {},
   "outputs": [],
   "source": [
    "a = np.array([1,2,3])"
   ]
  },
  {
   "cell_type": "code",
   "execution_count": 19,
   "id": "485379d4",
   "metadata": {},
   "outputs": [],
   "source": [
    "b = np.array([4,5,6])"
   ]
  },
  {
   "cell_type": "code",
   "execution_count": 20,
   "id": "1a749e73",
   "metadata": {},
   "outputs": [
    {
     "data": {
      "text/plain": [
       "32"
      ]
     },
     "execution_count": 20,
     "metadata": {},
     "output_type": "execute_result"
    }
   ],
   "source": [
    "np.dot(a,b)"
   ]
  },
  {
   "cell_type": "code",
   "execution_count": 22,
   "id": "2446d2a2",
   "metadata": {},
   "outputs": [
    {
     "data": {
      "text/plain": [
       "array([[19, 22],\n",
       "       [43, 50]])"
      ]
     },
     "execution_count": 22,
     "metadata": {},
     "output_type": "execute_result"
    }
   ],
   "source": [
    "#행렬의 내적\n",
    "A = np.array([[1,2],[3,4]])\n",
    "B = np.array([[5,6],[7,8]])\n",
    "np.matmul(A,B)"
   ]
  },
  {
   "cell_type": "code",
   "execution_count": 23,
   "id": "8ab19126",
   "metadata": {},
   "outputs": [
    {
     "data": {
      "text/plain": [
       "array([[ 5, 12],\n",
       "       [21, 32]])"
      ]
     },
     "execution_count": 23,
     "metadata": {},
     "output_type": "execute_result"
    }
   ],
   "source": [
    "A*B"
   ]
  },
  {
   "cell_type": "code",
   "execution_count": 25,
   "id": "a416754b",
   "metadata": {},
   "outputs": [
    {
     "data": {
      "text/plain": [
       "array([[19, 22],\n",
       "       [43, 50]])"
      ]
     },
     "execution_count": 25,
     "metadata": {},
     "output_type": "execute_result"
    }
   ],
   "source": [
    "np.dot(A,B)"
   ]
  },
  {
   "cell_type": "code",
   "execution_count": 26,
   "id": "2bbf5191",
   "metadata": {},
   "outputs": [],
   "source": [
    "#완전 연결계층에 의한 변환의 미니배치 버전(선형 변환)\n",
    "import numpy as np\n",
    "W1 = np.random.randn(2,4)#가중치 2x4\n",
    "b1 = np.random.randn(4)#편향 1x4\n",
    "x = np.random.randn(10,2)#입력 10x2\n",
    "h = np.matmul(x,W1)+b1"
   ]
  },
  {
   "cell_type": "code",
   "execution_count": 27,
   "id": "8ecdeb19",
   "metadata": {},
   "outputs": [],
   "source": [
    "#S모양 곡선(비선형 변환)\n",
    "def sigmoid(x):\n",
    "    return 1/(1+np.exp(-x))"
   ]
  },
  {
   "cell_type": "code",
   "execution_count": 29,
   "id": "64cf9b99",
   "metadata": {},
   "outputs": [],
   "source": [
    "#시그모이드를 사용하여 은닉층 뉴런을 변환(비선형 변환)\n",
    "a= sigmoid(h)"
   ]
  },
  {
   "cell_type": "code",
   "execution_count": 30,
   "id": "c0843230",
   "metadata": {},
   "outputs": [],
   "source": [
    "#신경망 추론 전체 그림\n",
    "import numpy as np\n",
    "\n",
    "def sigmoid(x):#시그모이드\n",
    "    return 1/(1+np.exp(-x))\n",
    "\n",
    "x = np.random.randn(10,2)#10x2입력층: 2차원 데이터 10개가 미니배치로 처리됨\n",
    "W1 = np.random.randn(2,4)#2x4 가중치\n",
    "b1 = np.random.randn(4)#1x4 편향\n",
    "W2 = np.random.randn(4,3)#4x3 가중치\n",
    "b2 = np.random.randn(3)\n",
    "\n",
    "h = np.matmul(x,W1)+b1#10x4 은닉층\n",
    "a = sigmoid(h)#10x4 완전 연결 계층\n",
    "s = np.matmul(a,W2)+b2#10x3 최종 출력(3 클래스 분류)"
   ]
  },
  {
   "cell_type": "code",
   "execution_count": 31,
   "id": "bc48244e",
   "metadata": {},
   "outputs": [],
   "source": [
    "class Sigmoid:#시그모이드 함수를 클래스로 구현\n",
    "    def __init__(self):\n",
    "        self.params = []#학습하는 매개변수 없음\n",
    "    \n",
    "    def forward(self, x):\n",
    "        return 1/(1+np.exp(-x))"
   ]
  },
  {
   "cell_type": "code",
   "execution_count": 32,
   "id": "4e9c494c",
   "metadata": {},
   "outputs": [],
   "source": [
    "class Affine:#완전 연결 계층 클래스로 구현\n",
    "    def __init__(self,W,b):#초기화\n",
    "        self.params = [W,b]#가중치와 편향\n",
    "    \n",
    "    def forward(self,x):#순전차 처리 구현\n",
    "        W,b = self.params\n",
    "        out = np.matmul(x,W)+b\n",
    "        return out"
   ]
  },
  {
   "cell_type": "code",
   "execution_count": 85,
   "id": "8fb2d2df",
   "metadata": {},
   "outputs": [],
   "source": [
    "#Two Layer Net 구현\n",
    "class TwoLayerNet:\n",
    "    def __init__(self, input_size, hidden_size, output_size):#가중치 초기화\n",
    "        I, H, O = input_size,hidden_size, output_size#3개의 계층 생성\n",
    "        \n",
    "        #가중치와 편향 초기화\n",
    "        W1 = np.random.randn(I,H)\n",
    "        b1 = np.random.randn(H)\n",
    "        W2 = np.random.randn(H,O)\n",
    "        b2 = np.random.randn(O)\n",
    "        \n",
    "        #계층 생성\n",
    "        self.layers = [\n",
    "            Affine(W1,b1),\n",
    "            Sigmoid(),\n",
    "            Affine(W2,b2)\n",
    "        ]\n",
    "        \n",
    "        #모든 가중치를 리스트에 모은다\n",
    "        self.params = []\n",
    "        for layer in self.layers:\n",
    "            self.params += layer.params\n",
    "    \n",
    "    def predict(self, x):#추론 처리\n",
    "        for layer in self.layers:\n",
    "            x = layer.forward(x)\n",
    "        return x"
   ]
  },
  {
   "cell_type": "code",
   "execution_count": 42,
   "id": "abb25b82",
   "metadata": {},
   "outputs": [],
   "source": [
    "#리스트 결합\n",
    "a = ['A','B']\n",
    "a+= ['C','D']"
   ]
  },
  {
   "cell_type": "code",
   "execution_count": 43,
   "id": "4f91d182",
   "metadata": {},
   "outputs": [
    {
     "data": {
      "text/plain": [
       "['A', 'B', 'C', 'D']"
      ]
     },
     "execution_count": 43,
     "metadata": {},
     "output_type": "execute_result"
    }
   ],
   "source": [
    "a"
   ]
  },
  {
   "cell_type": "code",
   "execution_count": 44,
   "id": "efae8567",
   "metadata": {},
   "outputs": [
    {
     "data": {
      "text/plain": [
       "array([[ 0.48988136, -1.98812148,  3.00120095],\n",
       "       [ 0.6765205 , -1.06528948,  4.19082399],\n",
       "       [ 0.72285721, -0.98341831,  4.34754096],\n",
       "       [ 0.82685718, -0.89374449,  4.40530989],\n",
       "       [ 0.66449036, -1.08483364,  4.0748879 ],\n",
       "       [ 1.01580743, -0.85571633,  3.90414502],\n",
       "       [ 0.5097578 , -1.91111883,  3.33262692],\n",
       "       [ 0.87903668, -1.35777454,  3.81872853],\n",
       "       [ 1.0263118 , -0.68828592,  3.96687848],\n",
       "       [ 0.28436914, -2.19822323,  2.45952867]])"
      ]
     },
     "execution_count": 44,
     "metadata": {},
     "output_type": "execute_result"
    }
   ],
   "source": [
    "x = np.random.randn(10,2)\n",
    "model = TwoLayerNet(2,4,3)#input_size, hidden_size, output_size\n",
    "s = model.predict(x)\n",
    "s#입력 데이터 x에 대한 점수(ㄴ)"
   ]
  },
  {
   "cell_type": "markdown",
   "id": "bbb5bbdf",
   "metadata": {},
   "source": [
    "### 소프트맥스 함수\n",
    "$$y_k \\frac{exp(s_k)}{ \\sum_{i=1}^n exp(s_i)}$$\n",
    "<b>출력이 총 $n$개일 때, $k$번째의 출력 $y_k$를 구하는 계산식</b><br>\n",
    "<b>$y_k$: $k$번째 클래스에 해당하는 소프트맥스 함수의 출력</b>"
   ]
  },
  {
   "cell_type": "markdown",
   "id": "e2eee5a7",
   "metadata": {},
   "source": [
    "<br><br>\n",
    "### 교차 엔트로피 오차의 수식\n",
    "$$L = -\\sum_k t_klogy_k$$\n",
    "정답 레이블은 $t = [0,0,1]$과 같이 원핫 벡터로 표기\n",
    "\n",
    "<br><br>\n",
    "\n",
    "### 미니 배치 처리를 고려한 오차의 식\n",
    "$$L = -\\frac{1}{N}\\sum_n\\sum_k t_{nk}logy_{nk}$$\n",
    ":평균 손실 함수<br><br>\n",
    "데이터 개수:N개, $t_{nk}$: n번째 데이터의 k차원째의 값, $y_{nk}$: 신경망의 출력, $t_{nk}$: 정답 레이블"
   ]
  },
  {
   "cell_type": "code",
   "execution_count": 47,
   "id": "28a994d0",
   "metadata": {},
   "outputs": [],
   "source": [
    "#Repeat 노드\n",
    "D, N = 8,7\n",
    "\n",
    "#입력\n",
    "x = np.random.randn(1,D)\n",
    "\n",
    "#순전파\n",
    "y = np.repeat(x,N,axis = 0)#원소 복제 수행\n",
    "\n",
    "#무작위 기울기\n",
    "dy = np.random.randn(N,D)\n",
    "\n",
    "#역전파\n",
    "dx = np.sum(dy, axis = 0,#총합\n",
    "           keepdims=True)#2차원 배열 차원 수 유지"
   ]
  },
  {
   "cell_type": "code",
   "execution_count": 48,
   "id": "453838a1",
   "metadata": {},
   "outputs": [
    {
     "data": {
      "text/plain": [
       "array([[ 5.39809163, -6.50412858,  1.57210402, -1.85534185, -2.12816353,\n",
       "        -1.98131893,  3.16830447,  2.32178235]])"
      ]
     },
     "execution_count": 48,
     "metadata": {},
     "output_type": "execute_result"
    }
   ],
   "source": [
    "dx"
   ]
  },
  {
   "cell_type": "code",
   "execution_count": 49,
   "id": "81270414",
   "metadata": {
    "scrolled": true
   },
   "outputs": [
    {
     "data": {
      "text/plain": [
       "array([[ 0.56952598, -1.22725653, -1.24556488,  0.13704173,  1.21360177,\n",
       "        -1.96168425,  0.82642681,  1.23160423],\n",
       "       [ 1.63526847, -1.54056466,  0.62169324, -0.09625278, -0.73294248,\n",
       "         0.7018978 ,  1.14968002, -1.20519641],\n",
       "       [ 0.90876329,  0.04510618, -1.38657889,  0.94230008, -1.37633776,\n",
       "        -0.61148481, -0.33193171,  0.36360305],\n",
       "       [-0.33741463, -0.6803668 ,  0.72781723, -0.25635209,  1.21623509,\n",
       "        -2.07378438,  0.53632318,  1.24198267],\n",
       "       [ 0.48747785, -1.54608446,  2.02442711, -1.69605654, -1.58236084,\n",
       "         1.13409802, -0.1153853 ,  1.62164953],\n",
       "       [ 1.8302467 ,  0.50031148,  0.19776204, -1.45555192, -0.70033747,\n",
       "         0.04710648, -0.39054761, -1.37232149],\n",
       "       [ 0.30422399, -2.05527379,  0.63254817,  0.56952967, -0.16602184,\n",
       "         0.78253221,  1.49373908,  0.44046077]])"
      ]
     },
     "execution_count": 49,
     "metadata": {},
     "output_type": "execute_result"
    }
   ],
   "source": [
    "dy"
   ]
  },
  {
   "cell_type": "code",
   "execution_count": 50,
   "id": "c9059b9c",
   "metadata": {},
   "outputs": [],
   "source": [
    "#Sum 노드\n",
    "D, N = 8,7\n",
    "x = np.random.randn(N,D)#입력\n",
    "y = np.sum(x, axis = 0, keepdims = True)#순전파\n",
    "\n",
    "dy = np.random.randn(1,D)#무작위 기울기\n",
    "dx = np.repeat(dy,N,axis = 0)#역전파"
   ]
  },
  {
   "cell_type": "code",
   "execution_count": 51,
   "id": "c9f588e8",
   "metadata": {},
   "outputs": [
    {
     "data": {
      "text/plain": [
       "array([[ 0.43522136,  0.67376403,  0.92372544, -0.35259034,  1.2982977 ,\n",
       "         1.89175537, -0.79820426,  0.67320607],\n",
       "       [ 0.43522136,  0.67376403,  0.92372544, -0.35259034,  1.2982977 ,\n",
       "         1.89175537, -0.79820426,  0.67320607],\n",
       "       [ 0.43522136,  0.67376403,  0.92372544, -0.35259034,  1.2982977 ,\n",
       "         1.89175537, -0.79820426,  0.67320607],\n",
       "       [ 0.43522136,  0.67376403,  0.92372544, -0.35259034,  1.2982977 ,\n",
       "         1.89175537, -0.79820426,  0.67320607],\n",
       "       [ 0.43522136,  0.67376403,  0.92372544, -0.35259034,  1.2982977 ,\n",
       "         1.89175537, -0.79820426,  0.67320607],\n",
       "       [ 0.43522136,  0.67376403,  0.92372544, -0.35259034,  1.2982977 ,\n",
       "         1.89175537, -0.79820426,  0.67320607],\n",
       "       [ 0.43522136,  0.67376403,  0.92372544, -0.35259034,  1.2982977 ,\n",
       "         1.89175537, -0.79820426,  0.67320607]])"
      ]
     },
     "execution_count": 51,
     "metadata": {},
     "output_type": "execute_result"
    }
   ],
   "source": [
    "dx"
   ]
  },
  {
   "cell_type": "code",
   "execution_count": 52,
   "id": "66424e3b",
   "metadata": {},
   "outputs": [
    {
     "data": {
      "text/plain": [
       "(7, 8)"
      ]
     },
     "execution_count": 52,
     "metadata": {},
     "output_type": "execute_result"
    }
   ],
   "source": [
    "dx.shape"
   ]
  },
  {
   "cell_type": "code",
   "execution_count": 53,
   "id": "085fb7e5",
   "metadata": {},
   "outputs": [],
   "source": [
    "class MatMul:\n",
    "    def __init__(self,W):\n",
    "        self.params = [W]#매개변수 보관\n",
    "        self.grads = [np.zeros_like(W)]#기울기 보관\n",
    "        self.x = None\n",
    "    \n",
    "    def forward(self,x):#순전파\n",
    "        W, = self.params\n",
    "        out = np.matmul(x,W)\n",
    "        self.x = x\n",
    "        return out#x.W\n",
    "    \n",
    "    def backward(self, dout):#역전파\n",
    "        W, = self.params\n",
    "        dx = np.matmul(dout, W.T)#doutxW^T\n",
    "        dW = np.matmul(self.x.T,dout)        \n",
    "        self.grads[0][...] = dW#깊은 복사\n",
    "        return dx"
   ]
  },
  {
   "cell_type": "code",
   "execution_count": 55,
   "id": "0d43e4a1",
   "metadata": {},
   "outputs": [],
   "source": [
    "a = np.array([1,2,3])\n",
    "b = np.array([4,5,6])\n",
    "\n",
    "a = b#얕은 복사\n",
    "a[...] = b#깊은 복사"
   ]
  },
  {
   "cell_type": "code",
   "execution_count": 88,
   "id": "28219b15",
   "metadata": {},
   "outputs": [
    {
     "name": "stdout",
     "output_type": "stream",
     "text": [
      "Once deleted, variables cannot be recovered. Proceed (y/[n])? y\n"
     ]
    }
   ],
   "source": [
    "%reset"
   ]
  },
  {
   "cell_type": "code",
   "execution_count": 137,
   "id": "8cd951e0",
   "metadata": {},
   "outputs": [],
   "source": [
    "class Sigmoid:#Sigmoid 계층 구현\n",
    "    def __init__(self):\n",
    "        #print('S_init')\n",
    "        self.params, self.grads = [],[]#초기화(학습되는 매개변수 x)\n",
    "        self.out = None\n",
    "    \n",
    "    def forward(self, x):#순전파\n",
    "        #print('Sigmoid Forward')\n",
    "        out = 1/(1+np.exp(-x))#시그모이드 함수\n",
    "        self.out = out\n",
    "        return out\n",
    "    \n",
    "    def backward(self, dout):#역전파\n",
    "        #print('Sigmoid Backward')\n",
    "        dx = dout*(1.0 - self.out)*self.out\n",
    "        return dx"
   ]
  },
  {
   "cell_type": "code",
   "execution_count": 136,
   "id": "1e173195",
   "metadata": {},
   "outputs": [],
   "source": [
    "class Affine:#Affine계층 구현\n",
    "    def __init__(self,W,b):\n",
    "        #print('A_init')\n",
    "        self.params = [W,b]#가중치, 편향\n",
    "        self.grads = [np.zeros_like(W), np.zeros_like(b)]\n",
    "        self.x = None\n",
    "    \n",
    "    def forward(self,x):#순전파\n",
    "        #print('Affine Forward')\n",
    "        W, b= self.params\n",
    "        out = np.matmul(x,W)+b#x*W+b\n",
    "        self.x = x\n",
    "        return out\n",
    "    \n",
    "    def backward(self, dout):#역전파\n",
    "        #print('Affine Backward')\n",
    "        W,b = self.params\n",
    "        dx = np.matmul(dout,W.T)\n",
    "        dW = np.matmul(self.x.T, dout)\n",
    "        db = np.sum(dout, axis = 0)\n",
    "        \n",
    "        self.grads[0][...] = dW\n",
    "        self.grads[1][...] = db\n",
    "        return dx"
   ]
  },
  {
   "cell_type": "markdown",
   "id": "5f4c958e",
   "metadata": {},
   "source": [
    "Softmax with Loss 계층 생략"
   ]
  },
  {
   "cell_type": "code",
   "execution_count": 118,
   "id": "ef2e8dfa",
   "metadata": {},
   "outputs": [],
   "source": [
    "class SoftmaxWithLoss:\n",
    "    def __init__(self):\n",
    "        self.params, self.grads = [], []\n",
    "        self.y = None  # softmax의 출력\n",
    "        self.t = None  # 정답 레이블\n",
    "\n",
    "    def forward(self, x, t):\n",
    "        self.t = t\n",
    "        self.y = softmax(x)\n",
    "\n",
    "        # 정답 레이블이 원핫 벡터일 경우 정답의 인덱스로 변환\n",
    "        if self.t.size == self.y.size:\n",
    "            self.t = self.t.argmax(axis=1)\n",
    "\n",
    "        loss = cross_entropy_error(self.y, self.t)\n",
    "        return loss\n",
    "\n",
    "    def backward(self, dout=1):\n",
    "        batch_size = self.t.shape[0]\n",
    "\n",
    "        dx = self.y.copy()\n",
    "        dx[np.arange(batch_size), self.t] -= 1\n",
    "        dx *= dout\n",
    "        dx = dx / batch_size\n",
    "\n",
    "        return dx\n"
   ]
  },
  {
   "cell_type": "code",
   "execution_count": 129,
   "id": "4ff0a13b",
   "metadata": {},
   "outputs": [],
   "source": [
    "class SGD:#확률적 경사 하강법\n",
    "    def __init__(self, lr = 0.01):\n",
    "        self.lr = lr#학습률\n",
    "    \n",
    "    def update(self, params, grads):#갱신\n",
    "        for i in range(len(params)):\n",
    "            params[i] -= self.lr *grads[i]\n",
    "        "
   ]
  },
  {
   "cell_type": "markdown",
   "id": "a01a0c00",
   "metadata": {},
   "source": [
    "#### 간단한 데이터셋으로 신경망 학습"
   ]
  },
  {
   "cell_type": "code",
   "execution_count": 130,
   "id": "8f4ddfec",
   "metadata": {},
   "outputs": [
    {
     "name": "stdout",
     "output_type": "stream",
     "text": [
      "x (300, 2)\n",
      "t (300, 3)\n"
     ]
    }
   ],
   "source": [
    "#스파이럴 데이터셋\n",
    "import sys\n",
    "# coding: utf-8\n",
    "import numpy as np\n",
    "\n",
    "\n",
    "def load_data(seed=1984):\n",
    "    np.random.seed(seed)\n",
    "    N = 100  # 클래스당 샘플 수\n",
    "    DIM = 2  # 데어터 요소 수\n",
    "    CLS_NUM = 3  # 클래스 수\n",
    "\n",
    "    x = np.zeros((N*CLS_NUM, DIM))\n",
    "    t = np.zeros((N*CLS_NUM, CLS_NUM), dtype=np.int)\n",
    "\n",
    "    for j in range(CLS_NUM):\n",
    "        for i in range(N): # N*j, N*(j+1)):\n",
    "            rate = i / N\n",
    "            radius = 1.0*rate\n",
    "            theta = j*4.0 + 4.0*rate + np.random.randn()*0.2\n",
    "\n",
    "            ix = N*j + i\n",
    "            x[ix] = np.array([radius*np.sin(theta),\n",
    "                              radius*np.cos(theta)]).flatten()\n",
    "            t[ix, j] = 1\n",
    "\n",
    "    return x, t\n",
    "\n",
    "import matplotlib.pyplot as plt\n",
    "x,t = load_data()\n",
    "print('x',x.shape)\n",
    "print('t',t.shape)"
   ]
  },
  {
   "cell_type": "code",
   "execution_count": 131,
   "id": "4f4eac56",
   "metadata": {},
   "outputs": [
    {
     "data": {
      "image/png": "[encoded data removed]",
      "text/plain": [
       "<Figure size 432x288 with 1 Axes>"
      ]
     },
     "metadata": {
      "needs_background": "light"
     },
     "output_type": "display_data"
    }
   ],
   "source": [
    "#데이터셋 보기\n",
    "\n",
    "# 데이터점 플롯\n",
    "N = 100\n",
    "CLS_NUM = 3\n",
    "markers = ['o', 'x', '^']\n",
    "for i in range(CLS_NUM):\n",
    "    plt.scatter(x[i*N:(i+1)*N, 0], x[i*N:(i+1)*N, 1], s=40, marker=markers[i])\n",
    "plt.show()"
   ]
  },
  {
   "cell_type": "markdown",
   "id": "efee37a7",
   "metadata": {},
   "source": [
    "- 분류할 클래스 수 3개\n",
    "- 입력: 2차원 데이터\n",
    "- 직선만으로 클래스들을 분류할 수 없음"
   ]
  },
  {
   "cell_type": "code",
   "execution_count": 132,
   "id": "6ba2f22d",
   "metadata": {},
   "outputs": [],
   "source": [
    "#필요한 functions\n",
    "def sigmoid(x):\n",
    "    return 1 / (1 + np.exp(-x))\n",
    "\n",
    "\n",
    "def relu(x):\n",
    "    return np.maximum(0, x)\n",
    "\n",
    "\n",
    "def softmax(x):\n",
    "    if x.ndim == 2:\n",
    "        x = x - x.max(axis=1, keepdims=True)\n",
    "        x = np.exp(x)\n",
    "        x /= x.sum(axis=1, keepdims=True)\n",
    "    elif x.ndim == 1:\n",
    "        x = x - np.max(x)\n",
    "        x = np.exp(x) / np.sum(np.exp(x))\n",
    "\n",
    "    return x\n",
    "\n",
    "\n",
    "def cross_entropy_error(y, t):\n",
    "    if y.ndim == 1:\n",
    "        t = t.reshape(1, t.size)\n",
    "        y = y.reshape(1, y.size)\n",
    "        \n",
    "    # 정답 데이터가 원핫 벡터일 경우 정답 레이블 인덱스로 변환\n",
    "    if t.size == y.size:\n",
    "        t = t.argmax(axis=1)\n",
    "             \n",
    "    batch_size = y.shape[0]\n",
    "\n",
    "    return -np.sum(np.log(y[np.arange(batch_size), t] + 1e-7)) / batch_size"
   ]
  },
  {
   "cell_type": "code",
   "execution_count": 133,
   "id": "54b1d445",
   "metadata": {},
   "outputs": [],
   "source": [
    "#신경망 구현\n",
    "class TwoLayerNet:\n",
    "    def __init__(self, input_size, hidden_size, output_size):\n",
    "        I, H, O = input_size, hidden_size, output_size#입력층 뉴런수, 은닉층 뉴런수, 출력층 뉴런수\n",
    "        \n",
    "        #가중치와 편향 초기화\n",
    "        W1 = 0.01*np.random.randn(I,H)\n",
    "        b1 = np.zeros(H)\n",
    "        W2 = 0.01*np.random.randn(H,O)\n",
    "        b2 = np.zeros(O)\n",
    "        \n",
    "        #계층 생성\n",
    "        self.layers = [\n",
    "            Affine(W1,b1),#1st layer\n",
    "            Sigmoid(),\n",
    "            Affine(W2,b2)#2nd layer\n",
    "        ]\n",
    "        self.loss_layer = SoftmaxWithLoss()\n",
    "        \n",
    "        #모든 가중치와 기울기를 리스트에 모은다\n",
    "        self.params, self.grads = [],[]\n",
    "        for layer in self.layers:\n",
    "            print('layer:',layer)\n",
    "            self.params += layer.params\n",
    "            self.grads += layer.grads\n",
    "    \n",
    "    def predict(self,x):#추론\n",
    "        for layer in self.layers:\n",
    "            x = layer.forward(x)\n",
    "        return x\n",
    "    \n",
    "    def forward(self, x, t):#순전파\n",
    "        score = self.predict(x)\n",
    "        loss = self.loss_layer.forward(score,t)\n",
    "        return loss\n",
    "\n",
    "    def backward(self, dout = 1):#역전파\n",
    "        dout = self.loss_layer.backward(dout)\n",
    "        for layer in reversed(self.layers):\n",
    "            dout = layer.backward(dout)\n",
    "        return dout"
   ]
  },
  {
   "cell_type": "code",
   "execution_count": 138,
   "id": "56333bab",
   "metadata": {},
   "outputs": [
    {
     "name": "stdout",
     "output_type": "stream",
     "text": [
      "layer: <__main__.Affine object at 0x0000021C7DA95FD0>\n",
      "layer: <__main__.Sigmoid object at 0x0000021C7DAADDF0>\n",
      "layer: <__main__.Affine object at 0x0000021C7F730E80>\n",
      "| 에폭 1 | 반복 10 / 10 | 손실 1.13\n",
      "| 에폭 2 | 반복 10 / 10 | 손실 1.13\n",
      "| 에폭 3 | 반복 10 / 10 | 손실 1.12\n",
      "| 에폭 4 | 반복 10 / 10 | 손실 1.12\n",
      "| 에폭 5 | 반복 10 / 10 | 손실 1.11\n",
      "| 에폭 6 | 반복 10 / 10 | 손실 1.14\n",
      "| 에폭 7 | 반복 10 / 10 | 손실 1.16\n",
      "| 에폭 8 | 반복 10 / 10 | 손실 1.11\n",
      "| 에폭 9 | 반복 10 / 10 | 손실 1.12\n",
      "| 에폭 10 | 반복 10 / 10 | 손실 1.13\n",
      "| 에폭 11 | 반복 10 / 10 | 손실 1.12\n",
      "| 에폭 12 | 반복 10 / 10 | 손실 1.11\n",
      "| 에폭 13 | 반복 10 / 10 | 손실 1.09\n",
      "| 에폭 14 | 반복 10 / 10 | 손실 1.08\n",
      "| 에폭 15 | 반복 10 / 10 | 손실 1.04\n",
      "| 에폭 16 | 반복 10 / 10 | 손실 1.03\n",
      "| 에폭 17 | 반복 10 / 10 | 손실 0.96\n",
      "| 에폭 18 | 반복 10 / 10 | 손실 0.92\n",
      "| 에폭 19 | 반복 10 / 10 | 손실 0.92\n",
      "| 에폭 20 | 반복 10 / 10 | 손실 0.87\n",
      "| 에폭 21 | 반복 10 / 10 | 손실 0.85\n",
      "| 에폭 22 | 반복 10 / 10 | 손실 0.82\n",
      "| 에폭 23 | 반복 10 / 10 | 손실 0.79\n",
      "| 에폭 24 | 반복 10 / 10 | 손실 0.78\n",
      "| 에폭 25 | 반복 10 / 10 | 손실 0.82\n",
      "| 에폭 26 | 반복 10 / 10 | 손실 0.78\n",
      "| 에폭 27 | 반복 10 / 10 | 손실 0.76\n",
      "| 에폭 28 | 반복 10 / 10 | 손실 0.76\n",
      "| 에폭 29 | 반복 10 / 10 | 손실 0.78\n",
      "| 에폭 30 | 반복 10 / 10 | 손실 0.75\n",
      "| 에폭 31 | 반복 10 / 10 | 손실 0.78\n",
      "| 에폭 32 | 반복 10 / 10 | 손실 0.77\n",
      "| 에폭 33 | 반복 10 / 10 | 손실 0.77\n",
      "| 에폭 34 | 반복 10 / 10 | 손실 0.78\n",
      "| 에폭 35 | 반복 10 / 10 | 손실 0.75\n",
      "| 에폭 36 | 반복 10 / 10 | 손실 0.74\n",
      "| 에폭 37 | 반복 10 / 10 | 손실 0.76\n",
      "| 에폭 38 | 반복 10 / 10 | 손실 0.76\n",
      "| 에폭 39 | 반복 10 / 10 | 손실 0.73\n",
      "| 에폭 40 | 반복 10 / 10 | 손실 0.75\n",
      "| 에폭 41 | 반복 10 / 10 | 손실 0.76\n",
      "| 에폭 42 | 반복 10 / 10 | 손실 0.76\n",
      "| 에폭 43 | 반복 10 / 10 | 손실 0.76\n",
      "| 에폭 44 | 반복 10 / 10 | 손실 0.74\n",
      "| 에폭 45 | 반복 10 / 10 | 손실 0.75\n",
      "| 에폭 46 | 반복 10 / 10 | 손실 0.73\n",
      "| 에폭 47 | 반복 10 / 10 | 손실 0.72\n",
      "| 에폭 48 | 반복 10 / 10 | 손실 0.73\n",
      "| 에폭 49 | 반복 10 / 10 | 손실 0.72\n",
      "| 에폭 50 | 반복 10 / 10 | 손실 0.72\n",
      "| 에폭 51 | 반복 10 / 10 | 손실 0.72\n",
      "| 에폭 52 | 반복 10 / 10 | 손실 0.72\n",
      "| 에폭 53 | 반복 10 / 10 | 손실 0.74\n",
      "| 에폭 54 | 반복 10 / 10 | 손실 0.74\n",
      "| 에폭 55 | 반복 10 / 10 | 손실 0.72\n",
      "| 에폭 56 | 반복 10 / 10 | 손실 0.72\n",
      "| 에폭 57 | 반복 10 / 10 | 손실 0.71\n",
      "| 에폭 58 | 반복 10 / 10 | 손실 0.70\n",
      "| 에폭 59 | 반복 10 / 10 | 손실 0.72\n",
      "| 에폭 60 | 반복 10 / 10 | 손실 0.70\n",
      "| 에폭 61 | 반복 10 / 10 | 손실 0.71\n",
      "| 에폭 62 | 반복 10 / 10 | 손실 0.72\n",
      "| 에폭 63 | 반복 10 / 10 | 손실 0.70\n",
      "| 에폭 64 | 반복 10 / 10 | 손실 0.71\n",
      "| 에폭 65 | 반복 10 / 10 | 손실 0.73\n",
      "| 에폭 66 | 반복 10 / 10 | 손실 0.70\n",
      "| 에폭 67 | 반복 10 / 10 | 손실 0.71\n",
      "| 에폭 68 | 반복 10 / 10 | 손실 0.69\n",
      "| 에폭 69 | 반복 10 / 10 | 손실 0.70\n",
      "| 에폭 70 | 반복 10 / 10 | 손실 0.71\n",
      "| 에폭 71 | 반복 10 / 10 | 손실 0.68\n",
      "| 에폭 72 | 반복 10 / 10 | 손실 0.69\n",
      "| 에폭 73 | 반복 10 / 10 | 손실 0.67\n",
      "| 에폭 74 | 반복 10 / 10 | 손실 0.68\n",
      "| 에폭 75 | 반복 10 / 10 | 손실 0.67\n",
      "| 에폭 76 | 반복 10 / 10 | 손실 0.66\n",
      "| 에폭 77 | 반복 10 / 10 | 손실 0.69\n",
      "| 에폭 78 | 반복 10 / 10 | 손실 0.64\n",
      "| 에폭 79 | 반복 10 / 10 | 손실 0.68\n",
      "| 에폭 80 | 반복 10 / 10 | 손실 0.64\n",
      "| 에폭 81 | 반복 10 / 10 | 손실 0.64\n",
      "| 에폭 82 | 반복 10 / 10 | 손실 0.66\n",
      "| 에폭 83 | 반복 10 / 10 | 손실 0.62\n",
      "| 에폭 84 | 반복 10 / 10 | 손실 0.62\n",
      "| 에폭 85 | 반복 10 / 10 | 손실 0.61\n",
      "| 에폭 86 | 반복 10 / 10 | 손실 0.60\n",
      "| 에폭 87 | 반복 10 / 10 | 손실 0.60\n",
      "| 에폭 88 | 반복 10 / 10 | 손실 0.61\n",
      "| 에폭 89 | 반복 10 / 10 | 손실 0.59\n",
      "| 에폭 90 | 반복 10 / 10 | 손실 0.58\n",
      "| 에폭 91 | 반복 10 / 10 | 손실 0.56\n",
      "| 에폭 92 | 반복 10 / 10 | 손실 0.56\n",
      "| 에폭 93 | 반복 10 / 10 | 손실 0.54\n",
      "| 에폭 94 | 반복 10 / 10 | 손실 0.53\n",
      "| 에폭 95 | 반복 10 / 10 | 손실 0.53\n",
      "| 에폭 96 | 반복 10 / 10 | 손실 0.52\n",
      "| 에폭 97 | 반복 10 / 10 | 손실 0.51\n",
      "| 에폭 98 | 반복 10 / 10 | 손실 0.50\n",
      "| 에폭 99 | 반복 10 / 10 | 손실 0.48\n",
      "| 에폭 100 | 반복 10 / 10 | 손실 0.48\n",
      "| 에폭 101 | 반복 10 / 10 | 손실 0.46\n",
      "| 에폭 102 | 반복 10 / 10 | 손실 0.45\n",
      "| 에폭 103 | 반복 10 / 10 | 손실 0.45\n",
      "| 에폭 104 | 반복 10 / 10 | 손실 0.44\n",
      "| 에폭 105 | 반복 10 / 10 | 손실 0.44\n",
      "| 에폭 106 | 반복 10 / 10 | 손실 0.41\n",
      "| 에폭 107 | 반복 10 / 10 | 손실 0.40\n",
      "| 에폭 108 | 반복 10 / 10 | 손실 0.41\n",
      "| 에폭 109 | 반복 10 / 10 | 손실 0.40\n",
      "| 에폭 110 | 반복 10 / 10 | 손실 0.40\n",
      "| 에폭 111 | 반복 10 / 10 | 손실 0.38\n",
      "| 에폭 112 | 반복 10 / 10 | 손실 0.38\n",
      "| 에폭 113 | 반복 10 / 10 | 손실 0.36\n",
      "| 에폭 114 | 반복 10 / 10 | 손실 0.37\n",
      "| 에폭 115 | 반복 10 / 10 | 손실 0.35\n",
      "| 에폭 116 | 반복 10 / 10 | 손실 0.34\n",
      "| 에폭 117 | 반복 10 / 10 | 손실 0.34\n",
      "| 에폭 118 | 반복 10 / 10 | 손실 0.34\n",
      "| 에폭 119 | 반복 10 / 10 | 손실 0.33\n",
      "| 에폭 120 | 반복 10 / 10 | 손실 0.34\n",
      "| 에폭 121 | 반복 10 / 10 | 손실 0.32\n",
      "| 에폭 122 | 반복 10 / 10 | 손실 0.32\n",
      "| 에폭 123 | 반복 10 / 10 | 손실 0.31\n",
      "| 에폭 124 | 반복 10 / 10 | 손실 0.31\n",
      "| 에폭 125 | 반복 10 / 10 | 손실 0.30\n",
      "| 에폭 126 | 반복 10 / 10 | 손실 0.30\n",
      "| 에폭 127 | 반복 10 / 10 | 손실 0.28\n",
      "| 에폭 128 | 반복 10 / 10 | 손실 0.28\n",
      "| 에폭 129 | 반복 10 / 10 | 손실 0.28\n",
      "| 에폭 130 | 반복 10 / 10 | 손실 0.28\n",
      "| 에폭 131 | 반복 10 / 10 | 손실 0.27\n",
      "| 에폭 132 | 반복 10 / 10 | 손실 0.27\n",
      "| 에폭 133 | 반복 10 / 10 | 손실 0.27\n",
      "| 에폭 134 | 반복 10 / 10 | 손실 0.27\n",
      "| 에폭 135 | 반복 10 / 10 | 손실 0.27\n",
      "| 에폭 136 | 반복 10 / 10 | 손실 0.26\n",
      "| 에폭 137 | 반복 10 / 10 | 손실 0.26\n",
      "| 에폭 138 | 반복 10 / 10 | 손실 0.26\n",
      "| 에폭 139 | 반복 10 / 10 | 손실 0.25\n",
      "| 에폭 140 | 반복 10 / 10 | 손실 0.24\n",
      "| 에폭 141 | 반복 10 / 10 | 손실 0.24\n",
      "| 에폭 142 | 반복 10 / 10 | 손실 0.25\n",
      "| 에폭 143 | 반복 10 / 10 | 손실 0.24\n",
      "| 에폭 144 | 반복 10 / 10 | 손실 0.24\n",
      "| 에폭 145 | 반복 10 / 10 | 손실 0.23\n",
      "| 에폭 146 | 반복 10 / 10 | 손실 0.24\n",
      "| 에폭 147 | 반복 10 / 10 | 손실 0.23\n",
      "| 에폭 148 | 반복 10 / 10 | 손실 0.23\n",
      "| 에폭 149 | 반복 10 / 10 | 손실 0.22\n",
      "| 에폭 150 | 반복 10 / 10 | 손실 0.22\n",
      "| 에폭 151 | 반복 10 / 10 | 손실 0.22\n",
      "| 에폭 152 | 반복 10 / 10 | 손실 0.22\n",
      "| 에폭 153 | 반복 10 / 10 | 손실 0.22\n",
      "| 에폭 154 | 반복 10 / 10 | 손실 0.22\n",
      "| 에폭 155 | 반복 10 / 10 | 손실 0.22\n",
      "| 에폭 156 | 반복 10 / 10 | 손실 0.21\n",
      "| 에폭 157 | 반복 10 / 10 | 손실 0.21\n",
      "| 에폭 158 | 반복 10 / 10 | 손실 0.20\n",
      "| 에폭 159 | 반복 10 / 10 | 손실 0.21\n",
      "| 에폭 160 | 반복 10 / 10 | 손실 0.20\n",
      "| 에폭 161 | 반복 10 / 10 | 손실 0.20\n",
      "| 에폭 162 | 반복 10 / 10 | 손실 0.20\n",
      "| 에폭 163 | 반복 10 / 10 | 손실 0.21\n",
      "| 에폭 164 | 반복 10 / 10 | 손실 0.20\n",
      "| 에폭 165 | 반복 10 / 10 | 손실 0.20\n",
      "| 에폭 166 | 반복 10 / 10 | 손실 0.19\n",
      "| 에폭 167 | 반복 10 / 10 | 손실 0.19\n",
      "| 에폭 168 | 반복 10 / 10 | 손실 0.19\n",
      "| 에폭 169 | 반복 10 / 10 | 손실 0.19\n",
      "| 에폭 170 | 반복 10 / 10 | 손실 0.19\n",
      "| 에폭 171 | 반복 10 / 10 | 손실 0.19\n",
      "| 에폭 172 | 반복 10 / 10 | 손실 0.18\n",
      "| 에폭 173 | 반복 10 / 10 | 손실 0.18\n",
      "| 에폭 174 | 반복 10 / 10 | 손실 0.18\n",
      "| 에폭 175 | 반복 10 / 10 | 손실 0.18\n",
      "| 에폭 176 | 반복 10 / 10 | 손실 0.18\n",
      "| 에폭 177 | 반복 10 / 10 | 손실 0.18\n",
      "| 에폭 178 | 반복 10 / 10 | 손실 0.18\n",
      "| 에폭 179 | 반복 10 / 10 | 손실 0.17\n",
      "| 에폭 180 | 반복 10 / 10 | 손실 0.17\n",
      "| 에폭 181 | 반복 10 / 10 | 손실 0.18\n",
      "| 에폭 182 | 반복 10 / 10 | 손실 0.17\n",
      "| 에폭 183 | 반복 10 / 10 | 손실 0.18\n",
      "| 에폭 184 | 반복 10 / 10 | 손실 0.17\n",
      "| 에폭 185 | 반복 10 / 10 | 손실 0.17\n",
      "| 에폭 186 | 반복 10 / 10 | 손실 0.18\n",
      "| 에폭 187 | 반복 10 / 10 | 손실 0.17\n",
      "| 에폭 188 | 반복 10 / 10 | 손실 0.17\n",
      "| 에폭 189 | 반복 10 / 10 | 손실 0.17\n",
      "| 에폭 190 | 반복 10 / 10 | 손실 0.17\n",
      "| 에폭 191 | 반복 10 / 10 | 손실 0.16\n",
      "| 에폭 192 | 반복 10 / 10 | 손실 0.17\n",
      "| 에폭 193 | 반복 10 / 10 | 손실 0.16\n",
      "| 에폭 194 | 반복 10 / 10 | 손실 0.16\n",
      "| 에폭 195 | 반복 10 / 10 | 손실 0.16\n",
      "| 에폭 196 | 반복 10 / 10 | 손실 0.16\n",
      "| 에폭 197 | 반복 10 / 10 | 손실 0.16\n",
      "| 에폭 198 | 반복 10 / 10 | 손실 0.15\n",
      "| 에폭 199 | 반복 10 / 10 | 손실 0.16\n",
      "| 에폭 200 | 반복 10 / 10 | 손실 0.16\n",
      "| 에폭 201 | 반복 10 / 10 | 손실 0.15\n",
      "| 에폭 202 | 반복 10 / 10 | 손실 0.16\n",
      "| 에폭 203 | 반복 10 / 10 | 손실 0.16\n",
      "| 에폭 204 | 반복 10 / 10 | 손실 0.15\n",
      "| 에폭 205 | 반복 10 / 10 | 손실 0.16\n",
      "| 에폭 206 | 반복 10 / 10 | 손실 0.15\n",
      "| 에폭 207 | 반복 10 / 10 | 손실 0.15\n",
      "| 에폭 208 | 반복 10 / 10 | 손실 0.15\n",
      "| 에폭 209 | 반복 10 / 10 | 손실 0.15\n",
      "| 에폭 210 | 반복 10 / 10 | 손실 0.15\n",
      "| 에폭 211 | 반복 10 / 10 | 손실 0.15\n",
      "| 에폭 212 | 반복 10 / 10 | 손실 0.15\n",
      "| 에폭 213 | 반복 10 / 10 | 손실 0.15\n",
      "| 에폭 214 | 반복 10 / 10 | 손실 0.15\n",
      "| 에폭 215 | 반복 10 / 10 | 손실 0.15\n",
      "| 에폭 216 | 반복 10 / 10 | 손실 0.14\n",
      "| 에폭 217 | 반복 10 / 10 | 손실 0.14\n",
      "| 에폭 218 | 반복 10 / 10 | 손실 0.15\n",
      "| 에폭 219 | 반복 10 / 10 | 손실 0.14\n",
      "| 에폭 220 | 반복 10 / 10 | 손실 0.14\n",
      "| 에폭 221 | 반복 10 / 10 | 손실 0.14\n",
      "| 에폭 222 | 반복 10 / 10 | 손실 0.14\n",
      "| 에폭 223 | 반복 10 / 10 | 손실 0.14\n",
      "| 에폭 224 | 반복 10 / 10 | 손실 0.14\n",
      "| 에폭 225 | 반복 10 / 10 | 손실 0.14\n",
      "| 에폭 226 | 반복 10 / 10 | 손실 0.14\n",
      "| 에폭 227 | 반복 10 / 10 | 손실 0.14\n",
      "| 에폭 228 | 반복 10 / 10 | 손실 0.14\n",
      "| 에폭 229 | 반복 10 / 10 | 손실 0.13\n",
      "| 에폭 230 | 반복 10 / 10 | 손실 0.14\n",
      "| 에폭 231 | 반복 10 / 10 | 손실 0.13\n",
      "| 에폭 232 | 반복 10 / 10 | 손실 0.14\n",
      "| 에폭 233 | 반복 10 / 10 | 손실 0.13\n",
      "| 에폭 234 | 반복 10 / 10 | 손실 0.13\n",
      "| 에폭 235 | 반복 10 / 10 | 손실 0.13\n",
      "| 에폭 236 | 반복 10 / 10 | 손실 0.13\n",
      "| 에폭 237 | 반복 10 / 10 | 손실 0.14\n",
      "| 에폭 238 | 반복 10 / 10 | 손실 0.13\n",
      "| 에폭 239 | 반복 10 / 10 | 손실 0.13\n",
      "| 에폭 240 | 반복 10 / 10 | 손실 0.14\n",
      "| 에폭 241 | 반복 10 / 10 | 손실 0.13\n",
      "| 에폭 242 | 반복 10 / 10 | 손실 0.13\n",
      "| 에폭 243 | 반복 10 / 10 | 손실 0.13\n",
      "| 에폭 244 | 반복 10 / 10 | 손실 0.13\n",
      "| 에폭 245 | 반복 10 / 10 | 손실 0.13\n",
      "| 에폭 246 | 반복 10 / 10 | 손실 0.13\n",
      "| 에폭 247 | 반복 10 / 10 | 손실 0.13\n",
      "| 에폭 248 | 반복 10 / 10 | 손실 0.13\n",
      "| 에폭 249 | 반복 10 / 10 | 손실 0.13\n",
      "| 에폭 250 | 반복 10 / 10 | 손실 0.13\n",
      "| 에폭 251 | 반복 10 / 10 | 손실 0.13\n",
      "| 에폭 252 | 반복 10 / 10 | 손실 0.12\n",
      "| 에폭 253 | 반복 10 / 10 | 손실 0.12\n",
      "| 에폭 254 | 반복 10 / 10 | 손실 0.12\n",
      "| 에폭 255 | 반복 10 / 10 | 손실 0.12\n",
      "| 에폭 256 | 반복 10 / 10 | 손실 0.12\n",
      "| 에폭 257 | 반복 10 / 10 | 손실 0.12\n",
      "| 에폭 258 | 반복 10 / 10 | 손실 0.12\n",
      "| 에폭 259 | 반복 10 / 10 | 손실 0.13\n",
      "| 에폭 260 | 반복 10 / 10 | 손실 0.12\n",
      "| 에폭 261 | 반복 10 / 10 | 손실 0.13\n",
      "| 에폭 262 | 반복 10 / 10 | 손실 0.12\n",
      "| 에폭 263 | 반복 10 / 10 | 손실 0.12\n",
      "| 에폭 264 | 반복 10 / 10 | 손실 0.13\n",
      "| 에폭 265 | 반복 10 / 10 | 손실 0.12\n",
      "| 에폭 266 | 반복 10 / 10 | 손실 0.12\n",
      "| 에폭 267 | 반복 10 / 10 | 손실 0.12\n",
      "| 에폭 268 | 반복 10 / 10 | 손실 0.12\n",
      "| 에폭 269 | 반복 10 / 10 | 손실 0.11\n",
      "| 에폭 270 | 반복 10 / 10 | 손실 0.12\n",
      "| 에폭 271 | 반복 10 / 10 | 손실 0.12\n",
      "| 에폭 272 | 반복 10 / 10 | 손실 0.12\n",
      "| 에폭 273 | 반복 10 / 10 | 손실 0.12\n",
      "| 에폭 274 | 반복 10 / 10 | 손실 0.12\n",
      "| 에폭 275 | 반복 10 / 10 | 손실 0.11\n",
      "| 에폭 276 | 반복 10 / 10 | 손실 0.12\n",
      "| 에폭 277 | 반복 10 / 10 | 손실 0.12\n",
      "| 에폭 278 | 반복 10 / 10 | 손실 0.11\n",
      "| 에폭 279 | 반복 10 / 10 | 손실 0.11\n",
      "| 에폭 280 | 반복 10 / 10 | 손실 0.11\n",
      "| 에폭 281 | 반복 10 / 10 | 손실 0.11\n",
      "| 에폭 282 | 반복 10 / 10 | 손실 0.12\n",
      "| 에폭 283 | 반복 10 / 10 | 손실 0.11\n",
      "| 에폭 284 | 반복 10 / 10 | 손실 0.11\n",
      "| 에폭 285 | 반복 10 / 10 | 손실 0.11\n",
      "| 에폭 286 | 반복 10 / 10 | 손실 0.11\n",
      "| 에폭 287 | 반복 10 / 10 | 손실 0.11\n",
      "| 에폭 288 | 반복 10 / 10 | 손실 0.12\n",
      "| 에폭 289 | 반복 10 / 10 | 손실 0.11\n",
      "| 에폭 290 | 반복 10 / 10 | 손실 0.11\n",
      "| 에폭 291 | 반복 10 / 10 | 손실 0.11\n",
      "| 에폭 292 | 반복 10 / 10 | 손실 0.11\n",
      "| 에폭 293 | 반복 10 / 10 | 손실 0.11\n",
      "| 에폭 294 | 반복 10 / 10 | 손실 0.11\n",
      "| 에폭 295 | 반복 10 / 10 | 손실 0.12\n",
      "| 에폭 296 | 반복 10 / 10 | 손실 0.11\n",
      "| 에폭 297 | 반복 10 / 10 | 손실 0.12\n",
      "| 에폭 298 | 반복 10 / 10 | 손실 0.11\n",
      "| 에폭 299 | 반복 10 / 10 | 손실 0.11\n",
      "| 에폭 300 | 반복 10 / 10 | 손실 0.11\n"
     ]
    }
   ],
   "source": [
    "#힉습용 코드\n",
    "\n",
    "#하이퍼파라미터 설정\n",
    "max_epoch = 300#에폭수\n",
    "batch_size = 30#미니배치 크기\n",
    "hidden_size = 10#은닉층 뉴런수\n",
    "learning_rate =1.0#학습률\n",
    "\n",
    "#데이터 읽기, 모델과 옵티마이저 생서\n",
    "x,t = load_data()\n",
    "model = TwoLayerNet(input_size=2, hidden_size=hidden_size, output_size=3)\n",
    "optimizer = SGD(lr=learning_rate)\n",
    "\n",
    "#학습에 사용하는 변수\n",
    "data_size = len(x)\n",
    "max_iters = data_size//batch_size\n",
    "total_loss = 0\n",
    "loss_count = 0\n",
    "loss_list = []\n",
    "\n",
    "for epoch in range(max_epoch):\n",
    "    #데이터 뒤섞기\n",
    "    idx =np.random.permutation(data_size)\n",
    "    x = x[idx]\n",
    "    t = t[idx]\n",
    "    \n",
    "    for iters in range(max_iters):\n",
    "        batch_x = x[iters*batch_size:(iters+1)*batch_size]\n",
    "        batch_t = t[iters*batch_size:(iters+1)*batch_size]\n",
    "        \n",
    "        #기울기를 구해 매개변수 갱신\n",
    "        loss = model.forward(batch_x, batch_t)\n",
    "        model.backward()\n",
    "        optimizer.update(model.params, model.grads)\n",
    "        \n",
    "        total_loss += loss\n",
    "        loss_count +=1\n",
    "        \n",
    "        #정기적으로 학습 경과 출력\n",
    "        if (iters+1)%10 ==0:\n",
    "            avg_loss = total_loss/loss_count\n",
    "            print('| 에폭 %d | 반복 %d / %d | 손실 %.2f'%(epoch+1, iters+1, max_iters\n",
    "                                            , avg_loss))\n",
    "            loss_list.append(avg_loss)\n",
    "            total_loss, loss_count = 0,0"
   ]
  },
  {
   "cell_type": "code",
   "execution_count": 135,
   "id": "9a498350",
   "metadata": {},
   "outputs": [
    {
     "data": {
      "text/plain": [
       "array([5, 1, 8, 4, 9, 7, 0, 2, 6, 3])"
      ]
     },
     "execution_count": 135,
     "metadata": {},
     "output_type": "execute_result"
    }
   ],
   "source": [
    "#데이터 뒤섞기\n",
    "np.random.permutation(10)"
   ]
  },
  {
   "cell_type": "code",
   "execution_count": 128,
   "id": "8ed573e1",
   "metadata": {},
   "outputs": [
    {
     "data": {
      "text/plain": [
       "array([7, 9, 8, 1, 2, 3, 4, 5, 0, 6])"
      ]
     },
     "execution_count": 128,
     "metadata": {},
     "output_type": "execute_result"
    }
   ],
   "source": [
    "np.random.permutation(10)"
   ]
  },
  {
   "cell_type": "code",
   "execution_count": 140,
   "id": "7b619223",
   "metadata": {},
   "outputs": [
    {
     "name": "stderr",
     "output_type": "stream",
     "text": [
      "C:\\Anaconda3\\envs\\dsfs\\lib\\site-packages\\matplotlib\\backends\\backend_agg.py:240: RuntimeWarning: Glyph 48152 missing from current font.\n",
      "  font.set_text(s, 0.0, flags=flags)\n",
      "C:\\Anaconda3\\envs\\dsfs\\lib\\site-packages\\matplotlib\\backends\\backend_agg.py:240: RuntimeWarning: Glyph 48373 missing from current font.\n",
      "  font.set_text(s, 0.0, flags=flags)\n",
      "C:\\Anaconda3\\envs\\dsfs\\lib\\site-packages\\matplotlib\\backends\\backend_agg.py:240: RuntimeWarning: Glyph 49552 missing from current font.\n",
      "  font.set_text(s, 0.0, flags=flags)\n",
      "C:\\Anaconda3\\envs\\dsfs\\lib\\site-packages\\matplotlib\\backends\\backend_agg.py:240: RuntimeWarning: Glyph 49892 missing from current font.\n",
      "  font.set_text(s, 0.0, flags=flags)\n",
      "C:\\Anaconda3\\envs\\dsfs\\lib\\site-packages\\matplotlib\\backends\\backend_agg.py:203: RuntimeWarning: Glyph 48152 missing from current font.\n",
      "  font.set_text(s, 0, flags=flags)\n",
      "C:\\Anaconda3\\envs\\dsfs\\lib\\site-packages\\matplotlib\\backends\\backend_agg.py:203: RuntimeWarning: Glyph 48373 missing from current font.\n",
      "  font.set_text(s, 0, flags=flags)\n",
      "C:\\Anaconda3\\envs\\dsfs\\lib\\site-packages\\matplotlib\\backends\\backend_agg.py:203: RuntimeWarning: Glyph 49552 missing from current font.\n",
      "  font.set_text(s, 0, flags=flags)\n",
      "C:\\Anaconda3\\envs\\dsfs\\lib\\site-packages\\matplotlib\\backends\\backend_agg.py:203: RuntimeWarning: Glyph 49892 missing from current font.\n",
      "  font.set_text(s, 0, flags=flags)\n"
     ]
    },
    {
     "data": {
      "image/png": "[encoded data removed]",
      "text/plain": [
       "<Figure size 432x288 with 1 Axes>"
      ]
     },
     "metadata": {
      "needs_background": "light"
     },
     "output_type": "display_data"
    },
    {
     "data": {
      "image/png": "[encoded data removed]",
      "text/plain": [
       "<Figure size 432x288 with 1 Axes>"
      ]
     },
     "metadata": {
      "needs_background": "light"
     },
     "output_type": "display_data"
    }
   ],
   "source": [
    "#train_cistom_loop\n",
    "#터미널에 출력되는 손실 값이 순조롭게 낮아짐\n",
    "# 학습 결과 플롯\n",
    "plt.plot(np.arange(len(loss_list)), loss_list, label='train')\n",
    "plt.xlabel('반복 (x10)')\n",
    "plt.ylabel('손실')\n",
    "plt.show()\n",
    "\n",
    "# 경계 영역 플롯\n",
    "h = 0.001\n",
    "x_min, x_max = x[:, 0].min() - .1, x[:, 0].max() + .1\n",
    "y_min, y_max = x[:, 1].min() - .1, x[:, 1].max() + .1\n",
    "xx, yy = np.meshgrid(np.arange(x_min, x_max, h), np.arange(y_min, y_max, h))\n",
    "X = np.c_[xx.ravel(), yy.ravel()]\n",
    "score = model.predict(X)\n",
    "predict_cls = np.argmax(score, axis=1)\n",
    "Z = predict_cls.reshape(xx.shape)\n",
    "plt.contourf(xx, yy, Z)\n",
    "plt.axis('off')\n",
    "\n",
    "# 데이터점 플롯\n",
    "x, t = load_data()\n",
    "N = 100\n",
    "CLS_NUM = 3\n",
    "markers = ['o', 'x', '^']\n",
    "for i in range(CLS_NUM):\n",
    "    plt.scatter(x[i*N:(i+1)*N, 0], x[i*N:(i+1)*N, 1], s=40, marker=markers[i])\n",
    "plt.show()"
   ]
  },
  {
   "cell_type": "markdown",
   "id": "c0fce38b",
   "metadata": {},
   "source": [
    "학습된 신경망은 '나선형'패턴을 올바르게 파악했음"
   ]
  },
  {
   "cell_type": "code",
   "execution_count": 144,
   "id": "ff347b01",
   "metadata": {},
   "outputs": [
    {
     "name": "stdout",
     "output_type": "stream",
     "text": [
      "layer: <__main__.Affine object at 0x0000021C464028B0>\n",
      "layer: <__main__.Sigmoid object at 0x0000021C464007C0>\n",
      "layer: <__main__.Affine object at 0x0000021C463C5790>\n",
      "| 에폭 1 |  반복 1 / 10 | 시간 0[s] | 손실 1.10\n",
      "| 에폭 2 |  반복 1 / 10 | 시간 0[s] | 손실 1.12\n",
      "| 에폭 3 |  반복 1 / 10 | 시간 0[s] | 손실 1.13\n",
      "| 에폭 4 |  반복 1 / 10 | 시간 0[s] | 손실 1.12\n",
      "| 에폭 5 |  반복 1 / 10 | 시간 0[s] | 손실 1.12\n",
      "| 에폭 6 |  반복 1 / 10 | 시간 0[s] | 손실 1.10\n",
      "| 에폭 7 |  반복 1 / 10 | 시간 0[s] | 손실 1.14\n",
      "| 에폭 8 |  반복 1 / 10 | 시간 0[s] | 손실 1.16\n",
      "| 에폭 9 |  반복 1 / 10 | 시간 0[s] | 손실 1.11\n",
      "| 에폭 10 |  반복 1 / 10 | 시간 0[s] | 손실 1.12\n",
      "| 에폭 11 |  반복 1 / 10 | 시간 0[s] | 손실 1.12\n",
      "| 에폭 12 |  반복 1 / 10 | 시간 0[s] | 손실 1.12\n",
      "| 에폭 13 |  반복 1 / 10 | 시간 0[s] | 손실 1.10\n",
      "| 에폭 14 |  반복 1 / 10 | 시간 0[s] | 손실 1.09\n",
      "| 에폭 15 |  반복 1 / 10 | 시간 0[s] | 손실 1.08\n",
      "| 에폭 16 |  반복 1 / 10 | 시간 0[s] | 손실 1.04\n",
      "| 에폭 17 |  반복 1 / 10 | 시간 0[s] | 손실 1.03\n",
      "| 에폭 18 |  반복 1 / 10 | 시간 0[s] | 손실 0.94\n",
      "| 에폭 19 |  반복 1 / 10 | 시간 0[s] | 손실 0.92\n",
      "| 에폭 20 |  반복 1 / 10 | 시간 0[s] | 손실 0.92\n",
      "| 에폭 21 |  반복 1 / 10 | 시간 0[s] | 손실 0.87\n",
      "| 에폭 22 |  반복 1 / 10 | 시간 0[s] | 손실 0.85\n",
      "| 에폭 23 |  반복 1 / 10 | 시간 0[s] | 손실 0.80\n",
      "| 에폭 24 |  반복 1 / 10 | 시간 0[s] | 손실 0.79\n",
      "| 에폭 25 |  반복 1 / 10 | 시간 0[s] | 손실 0.78\n",
      "| 에폭 26 |  반복 1 / 10 | 시간 0[s] | 손실 0.83\n",
      "| 에폭 27 |  반복 1 / 10 | 시간 0[s] | 손실 0.77\n",
      "| 에폭 28 |  반복 1 / 10 | 시간 0[s] | 손실 0.76\n",
      "| 에폭 29 |  반복 1 / 10 | 시간 0[s] | 손실 0.77\n",
      "| 에폭 30 |  반복 1 / 10 | 시간 0[s] | 손실 0.76\n",
      "| 에폭 31 |  반복 1 / 10 | 시간 0[s] | 손실 0.77\n",
      "| 에폭 32 |  반복 1 / 10 | 시간 0[s] | 손실 0.75\n",
      "| 에폭 33 |  반복 1 / 10 | 시간 0[s] | 손실 0.78\n",
      "| 에폭 34 |  반복 1 / 10 | 시간 0[s] | 손실 0.77\n",
      "| 에폭 35 |  반복 1 / 10 | 시간 0[s] | 손실 0.78\n",
      "| 에폭 36 |  반복 1 / 10 | 시간 0[s] | 손실 0.74\n",
      "| 에폭 37 |  반복 1 / 10 | 시간 0[s] | 손실 0.75\n",
      "| 에폭 38 |  반복 1 / 10 | 시간 0[s] | 손실 0.77\n",
      "| 에폭 39 |  반복 1 / 10 | 시간 0[s] | 손실 0.75\n",
      "| 에폭 40 |  반복 1 / 10 | 시간 0[s] | 손실 0.73\n",
      "| 에폭 41 |  반복 1 / 10 | 시간 0[s] | 손실 0.75\n",
      "| 에폭 42 |  반복 1 / 10 | 시간 0[s] | 손실 0.76\n",
      "| 에폭 43 |  반복 1 / 10 | 시간 0[s] | 손실 0.79\n",
      "| 에폭 44 |  반복 1 / 10 | 시간 0[s] | 손실 0.74\n",
      "| 에폭 45 |  반복 1 / 10 | 시간 0[s] | 손실 0.75\n",
      "| 에폭 46 |  반복 1 / 10 | 시간 0[s] | 손실 0.73\n",
      "| 에폭 47 |  반복 1 / 10 | 시간 0[s] | 손실 0.73\n",
      "| 에폭 48 |  반복 1 / 10 | 시간 0[s] | 손실 0.73\n",
      "| 에폭 49 |  반복 1 / 10 | 시간 0[s] | 손실 0.73\n",
      "| 에폭 50 |  반복 1 / 10 | 시간 0[s] | 손실 0.72\n",
      "| 에폭 51 |  반복 1 / 10 | 시간 0[s] | 손실 0.72\n",
      "| 에폭 52 |  반복 1 / 10 | 시간 0[s] | 손실 0.72\n",
      "| 에폭 53 |  반복 1 / 10 | 시간 0[s] | 손실 0.72\n",
      "| 에폭 54 |  반복 1 / 10 | 시간 0[s] | 손실 0.74\n",
      "| 에폭 55 |  반복 1 / 10 | 시간 0[s] | 손실 0.74\n",
      "| 에폭 56 |  반복 1 / 10 | 시간 0[s] | 손실 0.73\n",
      "| 에폭 57 |  반복 1 / 10 | 시간 0[s] | 손실 0.72\n",
      "| 에폭 58 |  반복 1 / 10 | 시간 0[s] | 손실 0.69\n",
      "| 에폭 59 |  반복 1 / 10 | 시간 0[s] | 손실 0.72\n",
      "| 에폭 60 |  반복 1 / 10 | 시간 0[s] | 손실 0.70\n",
      "| 에폭 61 |  반복 1 / 10 | 시간 0[s] | 손실 0.69\n",
      "| 에폭 62 |  반복 1 / 10 | 시간 0[s] | 손실 0.71\n",
      "| 에폭 63 |  반복 1 / 10 | 시간 0[s] | 손실 0.70\n",
      "| 에폭 64 |  반복 1 / 10 | 시간 0[s] | 손실 0.71\n",
      "| 에폭 65 |  반복 1 / 10 | 시간 0[s] | 손실 0.72\n",
      "| 에폭 66 |  반복 1 / 10 | 시간 0[s] | 손실 0.71\n",
      "| 에폭 67 |  반복 1 / 10 | 시간 0[s] | 손실 0.71\n",
      "| 에폭 68 |  반복 1 / 10 | 시간 0[s] | 손실 0.71\n",
      "| 에폭 69 |  반복 1 / 10 | 시간 0[s] | 손실 0.70\n",
      "| 에폭 70 |  반복 1 / 10 | 시간 0[s] | 손실 0.68\n",
      "| 에폭 71 |  반복 1 / 10 | 시간 0[s] | 손실 0.73\n",
      "| 에폭 72 |  반복 1 / 10 | 시간 0[s] | 손실 0.66\n",
      "| 에폭 73 |  반복 1 / 10 | 시간 0[s] | 손실 0.69\n",
      "| 에폭 74 |  반복 1 / 10 | 시간 0[s] | 손실 0.66\n",
      "| 에폭 75 |  반복 1 / 10 | 시간 0[s] | 손실 0.70\n",
      "| 에폭 76 |  반복 1 / 10 | 시간 0[s] | 손실 0.65\n",
      "| 에폭 77 |  반복 1 / 10 | 시간 0[s] | 손실 0.67\n",
      "| 에폭 78 |  반복 1 / 10 | 시간 0[s] | 손실 0.70\n",
      "| 에폭 79 |  반복 1 / 10 | 시간 0[s] | 손실 0.63\n",
      "| 에폭 80 |  반복 1 / 10 | 시간 0[s] | 손실 0.66\n",
      "| 에폭 81 |  반복 1 / 10 | 시간 0[s] | 손실 0.65\n",
      "| 에폭 82 |  반복 1 / 10 | 시간 0[s] | 손실 0.66\n",
      "| 에폭 83 |  반복 1 / 10 | 시간 0[s] | 손실 0.64\n",
      "| 에폭 84 |  반복 1 / 10 | 시간 0[s] | 손실 0.62\n",
      "| 에폭 85 |  반복 1 / 10 | 시간 0[s] | 손실 0.62\n",
      "| 에폭 86 |  반복 1 / 10 | 시간 0[s] | 손실 0.63\n",
      "| 에폭 87 |  반복 1 / 10 | 시간 0[s] | 손실 0.59\n",
      "| 에폭 88 |  반복 1 / 10 | 시간 0[s] | 손실 0.58\n",
      "| 에폭 89 |  반복 1 / 10 | 시간 0[s] | 손실 0.61\n",
      "| 에폭 90 |  반복 1 / 10 | 시간 0[s] | 손실 0.59\n",
      "| 에폭 91 |  반복 1 / 10 | 시간 0[s] | 손실 0.58\n",
      "| 에폭 92 |  반복 1 / 10 | 시간 0[s] | 손실 0.57\n",
      "| 에폭 93 |  반복 1 / 10 | 시간 0[s] | 손실 0.55\n",
      "| 에폭 94 |  반복 1 / 10 | 시간 0[s] | 손실 0.54\n",
      "| 에폭 95 |  반복 1 / 10 | 시간 0[s] | 손실 0.53\n",
      "| 에폭 96 |  반복 1 / 10 | 시간 0[s] | 손실 0.54\n",
      "| 에폭 97 |  반복 1 / 10 | 시간 0[s] | 손실 0.51\n",
      "| 에폭 98 |  반복 1 / 10 | 시간 0[s] | 손실 0.51\n",
      "| 에폭 99 |  반복 1 / 10 | 시간 0[s] | 손실 0.50\n",
      "| 에폭 100 |  반복 1 / 10 | 시간 0[s] | 손실 0.47\n",
      "| 에폭 101 |  반복 1 / 10 | 시간 0[s] | 손실 0.49\n",
      "| 에폭 102 |  반복 1 / 10 | 시간 0[s] | 손실 0.46\n",
      "| 에폭 103 |  반복 1 / 10 | 시간 0[s] | 손실 0.44\n",
      "| 에폭 104 |  반복 1 / 10 | 시간 0[s] | 손실 0.47\n",
      "| 에폭 105 |  반복 1 / 10 | 시간 0[s] | 손실 0.44\n",
      "| 에폭 106 |  반복 1 / 10 | 시간 0[s] | 손실 0.43\n",
      "| 에폭 107 |  반복 1 / 10 | 시간 0[s] | 손실 0.43\n",
      "| 에폭 108 |  반복 1 / 10 | 시간 0[s] | 손실 0.39\n",
      "| 에폭 109 |  반복 1 / 10 | 시간 0[s] | 손실 0.40\n",
      "| 에폭 110 |  반복 1 / 10 | 시간 0[s] | 손실 0.41\n",
      "| 에폭 111 |  반복 1 / 10 | 시간 0[s] | 손실 0.38\n",
      "| 에폭 112 |  반복 1 / 10 | 시간 0[s] | 손실 0.38\n",
      "| 에폭 113 |  반복 1 / 10 | 시간 0[s] | 손실 0.38\n",
      "| 에폭 114 |  반복 1 / 10 | 시간 0[s] | 손실 0.37\n",
      "| 에폭 115 |  반복 1 / 10 | 시간 0[s] | 손실 0.36\n",
      "| 에폭 116 |  반복 1 / 10 | 시간 0[s] | 손실 0.34\n",
      "| 에폭 117 |  반복 1 / 10 | 시간 0[s] | 손실 0.35\n",
      "| 에폭 118 |  반복 1 / 10 | 시간 0[s] | 손실 0.33\n",
      "| 에폭 119 |  반복 1 / 10 | 시간 0[s] | 손실 0.35\n",
      "| 에폭 120 |  반복 1 / 10 | 시간 0[s] | 손실 0.33\n",
      "| 에폭 121 |  반복 1 / 10 | 시간 0[s] | 손실 0.33\n",
      "| 에폭 122 |  반복 1 / 10 | 시간 0[s] | 손실 0.32\n",
      "| 에폭 123 |  반복 1 / 10 | 시간 0[s] | 손실 0.31\n",
      "| 에폭 124 |  반복 1 / 10 | 시간 0[s] | 손실 0.31\n",
      "| 에폭 125 |  반복 1 / 10 | 시간 0[s] | 손실 0.31\n",
      "| 에폭 126 |  반복 1 / 10 | 시간 0[s] | 손실 0.30\n",
      "| 에폭 127 |  반복 1 / 10 | 시간 0[s] | 손실 0.30\n",
      "| 에폭 128 |  반복 1 / 10 | 시간 0[s] | 손실 0.27\n",
      "| 에폭 129 |  반복 1 / 10 | 시간 0[s] | 손실 0.30\n",
      "| 에폭 130 |  반복 1 / 10 | 시간 0[s] | 손실 0.28\n",
      "| 에폭 131 |  반복 1 / 10 | 시간 0[s] | 손실 0.26\n",
      "| 에폭 132 |  반복 1 / 10 | 시간 0[s] | 손실 0.27\n",
      "| 에폭 133 |  반복 1 / 10 | 시간 0[s] | 손실 0.27\n",
      "| 에폭 134 |  반복 1 / 10 | 시간 0[s] | 손실 0.28\n",
      "| 에폭 135 |  반복 1 / 10 | 시간 0[s] | 손실 0.26\n",
      "| 에폭 136 |  반복 1 / 10 | 시간 0[s] | 손실 0.28\n",
      "| 에폭 137 |  반복 1 / 10 | 시간 0[s] | 손실 0.25\n",
      "| 에폭 138 |  반복 1 / 10 | 시간 0[s] | 손실 0.26\n",
      "| 에폭 139 |  반복 1 / 10 | 시간 0[s] | 손실 0.26\n",
      "| 에폭 140 |  반복 1 / 10 | 시간 0[s] | 손실 0.26\n",
      "| 에폭 141 |  반복 1 / 10 | 시간 0[s] | 손실 0.23\n",
      "| 에폭 142 |  반복 1 / 10 | 시간 0[s] | 손실 0.23\n",
      "| 에폭 143 |  반복 1 / 10 | 시간 0[s] | 손실 0.26\n",
      "| 에폭 144 |  반복 1 / 10 | 시간 0[s] | 손실 0.23\n",
      "| 에폭 145 |  반복 1 / 10 | 시간 0[s] | 손실 0.24\n",
      "| 에폭 146 |  반복 1 / 10 | 시간 0[s] | 손실 0.24\n",
      "| 에폭 147 |  반복 1 / 10 | 시간 0[s] | 손실 0.25\n",
      "| 에폭 148 |  반복 1 / 10 | 시간 0[s] | 손실 0.21\n",
      "| 에폭 149 |  반복 1 / 10 | 시간 0[s] | 손실 0.23\n",
      "| 에폭 150 |  반복 1 / 10 | 시간 0[s] | 손실 0.22\n",
      "| 에폭 151 |  반복 1 / 10 | 시간 0[s] | 손실 0.22\n",
      "| 에폭 152 |  반복 1 / 10 | 시간 0[s] | 손실 0.23\n",
      "| 에폭 153 |  반복 1 / 10 | 시간 0[s] | 손실 0.23\n",
      "| 에폭 154 |  반복 1 / 10 | 시간 0[s] | 손실 0.20\n",
      "| 에폭 155 |  반복 1 / 10 | 시간 0[s] | 손실 0.22\n",
      "| 에폭 156 |  반복 1 / 10 | 시간 0[s] | 손실 0.21\n",
      "| 에폭 157 |  반복 1 / 10 | 시간 0[s] | 손실 0.21\n",
      "| 에폭 158 |  반복 1 / 10 | 시간 0[s] | 손실 0.20\n",
      "| 에폭 159 |  반복 1 / 10 | 시간 0[s] | 손실 0.21\n",
      "| 에폭 160 |  반복 1 / 10 | 시간 0[s] | 손실 0.20\n",
      "| 에폭 161 |  반복 1 / 10 | 시간 0[s] | 손실 0.19\n",
      "| 에폭 162 |  반복 1 / 10 | 시간 0[s] | 손실 0.22\n",
      "| 에폭 163 |  반복 1 / 10 | 시간 0[s] | 손실 0.19\n",
      "| 에폭 164 |  반복 1 / 10 | 시간 0[s] | 손실 0.21\n",
      "| 에폭 165 |  반복 1 / 10 | 시간 0[s] | 손실 0.20\n",
      "| 에폭 166 |  반복 1 / 10 | 시간 0[s] | 손실 0.20\n",
      "| 에폭 167 |  반복 1 / 10 | 시간 0[s] | 손실 0.20\n",
      "| 에폭 168 |  반복 1 / 10 | 시간 0[s] | 손실 0.19\n",
      "| 에폭 169 |  반복 1 / 10 | 시간 0[s] | 손실 0.18\n",
      "| 에폭 170 |  반복 1 / 10 | 시간 0[s] | 손실 0.19\n",
      "| 에폭 171 |  반복 1 / 10 | 시간 0[s] | 손실 0.19\n",
      "| 에폭 172 |  반복 1 / 10 | 시간 0[s] | 손실 0.20\n",
      "| 에폭 173 |  반복 1 / 10 | 시간 0[s] | 손실 0.16\n",
      "| 에폭 174 |  반복 1 / 10 | 시간 0[s] | 손실 0.20\n",
      "| 에폭 175 |  반복 1 / 10 | 시간 0[s] | 손실 0.18\n",
      "| 에폭 176 |  반복 1 / 10 | 시간 0[s] | 손실 0.17\n",
      "| 에폭 177 |  반복 1 / 10 | 시간 0[s] | 손실 0.17\n",
      "| 에폭 178 |  반복 1 / 10 | 시간 0[s] | 손실 0.17\n",
      "| 에폭 179 |  반복 1 / 10 | 시간 0[s] | 손실 0.18\n",
      "| 에폭 180 |  반복 1 / 10 | 시간 0[s] | 손실 0.19\n",
      "| 에폭 181 |  반복 1 / 10 | 시간 0[s] | 손실 0.17\n",
      "| 에폭 182 |  반복 1 / 10 | 시간 0[s] | 손실 0.18\n",
      "| 에폭 183 |  반복 1 / 10 | 시간 0[s] | 손실 0.16\n",
      "| 에폭 184 |  반복 1 / 10 | 시간 0[s] | 손실 0.18\n",
      "| 에폭 185 |  반복 1 / 10 | 시간 0[s] | 손실 0.18\n",
      "| 에폭 186 |  반복 1 / 10 | 시간 0[s] | 손실 0.17\n",
      "| 에폭 187 |  반복 1 / 10 | 시간 0[s] | 손실 0.17\n",
      "| 에폭 188 |  반복 1 / 10 | 시간 0[s] | 손실 0.18\n",
      "| 에폭 189 |  반복 1 / 10 | 시간 0[s] | 손실 0.16\n",
      "| 에폭 190 |  반복 1 / 10 | 시간 0[s] | 손실 0.16\n",
      "| 에폭 191 |  반복 1 / 10 | 시간 0[s] | 손실 0.17\n",
      "| 에폭 192 |  반복 1 / 10 | 시간 0[s] | 손실 0.17\n",
      "| 에폭 193 |  반복 1 / 10 | 시간 0[s] | 손실 0.16\n",
      "| 에폭 194 |  반복 1 / 10 | 시간 0[s] | 손실 0.16\n",
      "| 에폭 195 |  반복 1 / 10 | 시간 0[s] | 손실 0.16\n",
      "| 에폭 196 |  반복 1 / 10 | 시간 0[s] | 손실 0.17\n",
      "| 에폭 197 |  반복 1 / 10 | 시간 0[s] | 손실 0.16\n",
      "| 에폭 198 |  반복 1 / 10 | 시간 0[s] | 손실 0.17\n",
      "| 에폭 199 |  반복 1 / 10 | 시간 0[s] | 손실 0.16\n",
      "| 에폭 200 |  반복 1 / 10 | 시간 0[s] | 손실 0.14\n",
      "| 에폭 201 |  반복 1 / 10 | 시간 0[s] | 손실 0.16\n"
     ]
    },
    {
     "name": "stdout",
     "output_type": "stream",
     "text": [
      "| 에폭 202 |  반복 1 / 10 | 시간 0[s] | 손실 0.16\n",
      "| 에폭 203 |  반복 1 / 10 | 시간 0[s] | 손실 0.15\n",
      "| 에폭 204 |  반복 1 / 10 | 시간 0[s] | 손실 0.16\n",
      "| 에폭 205 |  반복 1 / 10 | 시간 0[s] | 손실 0.14\n",
      "| 에폭 206 |  반복 1 / 10 | 시간 0[s] | 손실 0.16\n",
      "| 에폭 207 |  반복 1 / 10 | 시간 0[s] | 손실 0.16\n",
      "| 에폭 208 |  반복 1 / 10 | 시간 0[s] | 손실 0.14\n",
      "| 에폭 209 |  반복 1 / 10 | 시간 0[s] | 손실 0.15\n",
      "| 에폭 210 |  반복 1 / 10 | 시간 0[s] | 손실 0.16\n",
      "| 에폭 211 |  반복 1 / 10 | 시간 0[s] | 손실 0.14\n",
      "| 에폭 212 |  반복 1 / 10 | 시간 0[s] | 손실 0.15\n",
      "| 에폭 213 |  반복 1 / 10 | 시간 0[s] | 손실 0.15\n",
      "| 에폭 214 |  반복 1 / 10 | 시간 0[s] | 손실 0.15\n",
      "| 에폭 215 |  반복 1 / 10 | 시간 0[s] | 손실 0.14\n",
      "| 에폭 216 |  반복 1 / 10 | 시간 0[s] | 손실 0.14\n",
      "| 에폭 217 |  반복 1 / 10 | 시간 0[s] | 손실 0.15\n",
      "| 에폭 218 |  반복 1 / 10 | 시간 0[s] | 손실 0.14\n",
      "| 에폭 219 |  반복 1 / 10 | 시간 0[s] | 손실 0.15\n",
      "| 에폭 220 |  반복 1 / 10 | 시간 0[s] | 손실 0.15\n",
      "| 에폭 221 |  반복 1 / 10 | 시간 0[s] | 손실 0.14\n",
      "| 에폭 222 |  반복 1 / 10 | 시간 0[s] | 손실 0.13\n",
      "| 에폭 223 |  반복 1 / 10 | 시간 0[s] | 손실 0.15\n",
      "| 에폭 224 |  반복 1 / 10 | 시간 0[s] | 손실 0.14\n",
      "| 에폭 225 |  반복 1 / 10 | 시간 0[s] | 손실 0.16\n",
      "| 에폭 226 |  반복 1 / 10 | 시간 0[s] | 손실 0.12\n",
      "| 에폭 227 |  반복 1 / 10 | 시간 0[s] | 손실 0.13\n",
      "| 에폭 228 |  반복 1 / 10 | 시간 0[s] | 손실 0.15\n",
      "| 에폭 229 |  반복 1 / 10 | 시간 0[s] | 손실 0.14\n",
      "| 에폭 230 |  반복 1 / 10 | 시간 0[s] | 손실 0.13\n",
      "| 에폭 231 |  반복 1 / 10 | 시간 0[s] | 손실 0.14\n",
      "| 에폭 232 |  반복 1 / 10 | 시간 0[s] | 손실 0.13\n",
      "| 에폭 233 |  반복 1 / 10 | 시간 0[s] | 손실 0.13\n",
      "| 에폭 234 |  반복 1 / 10 | 시간 0[s] | 손실 0.14\n",
      "| 에폭 235 |  반복 1 / 10 | 시간 0[s] | 손실 0.13\n",
      "| 에폭 236 |  반복 1 / 10 | 시간 0[s] | 손실 0.12\n",
      "| 에폭 237 |  반복 1 / 10 | 시간 0[s] | 손실 0.13\n",
      "| 에폭 238 |  반복 1 / 10 | 시간 0[s] | 손실 0.14\n",
      "| 에폭 239 |  반복 1 / 10 | 시간 0[s] | 손실 0.14\n",
      "| 에폭 240 |  반복 1 / 10 | 시간 0[s] | 손실 0.13\n",
      "| 에폭 241 |  반복 1 / 10 | 시간 0[s] | 손실 0.14\n",
      "| 에폭 242 |  반복 1 / 10 | 시간 0[s] | 손실 0.13\n",
      "| 에폭 243 |  반복 1 / 10 | 시간 0[s] | 손실 0.13\n",
      "| 에폭 244 |  반복 1 / 10 | 시간 0[s] | 손실 0.14\n",
      "| 에폭 245 |  반복 1 / 10 | 시간 0[s] | 손실 0.12\n",
      "| 에폭 246 |  반복 1 / 10 | 시간 0[s] | 손실 0.13\n",
      "| 에폭 247 |  반복 1 / 10 | 시간 0[s] | 손실 0.13\n",
      "| 에폭 248 |  반복 1 / 10 | 시간 0[s] | 손실 0.12\n",
      "| 에폭 249 |  반복 1 / 10 | 시간 0[s] | 손실 0.14\n",
      "| 에폭 250 |  반복 1 / 10 | 시간 0[s] | 손실 0.12\n",
      "| 에폭 251 |  반복 1 / 10 | 시간 0[s] | 손실 0.13\n",
      "| 에폭 252 |  반복 1 / 10 | 시간 0[s] | 손실 0.13\n",
      "| 에폭 253 |  반복 1 / 10 | 시간 0[s] | 손실 0.12\n",
      "| 에폭 254 |  반복 1 / 10 | 시간 0[s] | 손실 0.12\n",
      "| 에폭 255 |  반복 1 / 10 | 시간 0[s] | 손실 0.13\n",
      "| 에폭 256 |  반복 1 / 10 | 시간 0[s] | 손실 0.12\n",
      "| 에폭 257 |  반복 1 / 10 | 시간 0[s] | 손실 0.12\n",
      "| 에폭 258 |  반복 1 / 10 | 시간 0[s] | 손실 0.12\n",
      "| 에폭 259 |  반복 1 / 10 | 시간 0[s] | 손실 0.13\n",
      "| 에폭 260 |  반복 1 / 10 | 시간 0[s] | 손실 0.13\n",
      "| 에폭 261 |  반복 1 / 10 | 시간 0[s] | 손실 0.11\n",
      "| 에폭 262 |  반복 1 / 10 | 시간 0[s] | 손실 0.13\n",
      "| 에폭 263 |  반복 1 / 10 | 시간 0[s] | 손실 0.12\n",
      "| 에폭 264 |  반복 1 / 10 | 시간 0[s] | 손실 0.11\n",
      "| 에폭 265 |  반복 1 / 10 | 시간 0[s] | 손실 0.14\n",
      "| 에폭 266 |  반복 1 / 10 | 시간 0[s] | 손실 0.11\n",
      "| 에폭 267 |  반복 1 / 10 | 시간 0[s] | 손실 0.13\n",
      "| 에폭 268 |  반복 1 / 10 | 시간 0[s] | 손실 0.11\n",
      "| 에폭 269 |  반복 1 / 10 | 시간 0[s] | 손실 0.13\n",
      "| 에폭 270 |  반복 1 / 10 | 시간 0[s] | 손실 0.11\n",
      "| 에폭 271 |  반복 1 / 10 | 시간 0[s] | 손실 0.12\n",
      "| 에폭 272 |  반복 1 / 10 | 시간 0[s] | 손실 0.12\n",
      "| 에폭 273 |  반복 1 / 10 | 시간 0[s] | 손실 0.12\n",
      "| 에폭 274 |  반복 1 / 10 | 시간 0[s] | 손실 0.12\n",
      "| 에폭 275 |  반복 1 / 10 | 시간 0[s] | 손실 0.12\n",
      "| 에폭 276 |  반복 1 / 10 | 시간 0[s] | 손실 0.12\n",
      "| 에폭 277 |  반복 1 / 10 | 시간 0[s] | 손실 0.11\n",
      "| 에폭 278 |  반복 1 / 10 | 시간 0[s] | 손실 0.13\n",
      "| 에폭 279 |  반복 1 / 10 | 시간 0[s] | 손실 0.11\n",
      "| 에폭 280 |  반복 1 / 10 | 시간 0[s] | 손실 0.10\n",
      "| 에폭 281 |  반복 1 / 10 | 시간 0[s] | 손실 0.12\n",
      "| 에폭 282 |  반복 1 / 10 | 시간 0[s] | 손실 0.11\n",
      "| 에폭 283 |  반복 1 / 10 | 시간 0[s] | 손실 0.12\n",
      "| 에폭 284 |  반복 1 / 10 | 시간 0[s] | 손실 0.11\n",
      "| 에폭 285 |  반복 1 / 10 | 시간 0[s] | 손실 0.11\n",
      "| 에폭 286 |  반복 1 / 10 | 시간 0[s] | 손실 0.12\n",
      "| 에폭 287 |  반복 1 / 10 | 시간 0[s] | 손실 0.11\n",
      "| 에폭 288 |  반복 1 / 10 | 시간 0[s] | 손실 0.11\n",
      "| 에폭 289 |  반복 1 / 10 | 시간 0[s] | 손실 0.12\n",
      "| 에폭 290 |  반복 1 / 10 | 시간 0[s] | 손실 0.11\n",
      "| 에폭 291 |  반복 1 / 10 | 시간 0[s] | 손실 0.11\n",
      "| 에폭 292 |  반복 1 / 10 | 시간 0[s] | 손실 0.11\n",
      "| 에폭 293 |  반복 1 / 10 | 시간 0[s] | 손실 0.11\n",
      "| 에폭 294 |  반복 1 / 10 | 시간 0[s] | 손실 0.11\n",
      "| 에폭 295 |  반복 1 / 10 | 시간 0[s] | 손실 0.11\n",
      "| 에폭 296 |  반복 1 / 10 | 시간 0[s] | 손실 0.12\n",
      "| 에폭 297 |  반복 1 / 10 | 시간 0[s] | 손실 0.11\n",
      "| 에폭 298 |  반복 1 / 10 | 시간 0[s] | 손실 0.11\n",
      "| 에폭 299 |  반복 1 / 10 | 시간 0[s] | 손실 0.11\n",
      "| 에폭 300 |  반복 1 / 10 | 시간 0[s] | 손실 0.11\n"
     ]
    },
    {
     "name": "stderr",
     "output_type": "stream",
     "text": [
      "C:\\Anaconda3\\envs\\dsfs\\lib\\site-packages\\matplotlib\\backends\\backend_agg.py:240: RuntimeWarning: Glyph 48152 missing from current font.\n",
      "  font.set_text(s, 0.0, flags=flags)\n",
      "C:\\Anaconda3\\envs\\dsfs\\lib\\site-packages\\matplotlib\\backends\\backend_agg.py:240: RuntimeWarning: Glyph 48373 missing from current font.\n",
      "  font.set_text(s, 0.0, flags=flags)\n",
      "C:\\Anaconda3\\envs\\dsfs\\lib\\site-packages\\matplotlib\\backends\\backend_agg.py:240: RuntimeWarning: Glyph 49552 missing from current font.\n",
      "  font.set_text(s, 0.0, flags=flags)\n",
      "C:\\Anaconda3\\envs\\dsfs\\lib\\site-packages\\matplotlib\\backends\\backend_agg.py:240: RuntimeWarning: Glyph 49892 missing from current font.\n",
      "  font.set_text(s, 0.0, flags=flags)\n",
      "C:\\Anaconda3\\envs\\dsfs\\lib\\site-packages\\matplotlib\\backends\\backend_agg.py:203: RuntimeWarning: Glyph 48152 missing from current font.\n",
      "  font.set_text(s, 0, flags=flags)\n",
      "C:\\Anaconda3\\envs\\dsfs\\lib\\site-packages\\matplotlib\\backends\\backend_agg.py:203: RuntimeWarning: Glyph 48373 missing from current font.\n",
      "  font.set_text(s, 0, flags=flags)\n",
      "C:\\Anaconda3\\envs\\dsfs\\lib\\site-packages\\matplotlib\\backends\\backend_agg.py:203: RuntimeWarning: Glyph 49552 missing from current font.\n",
      "  font.set_text(s, 0, flags=flags)\n",
      "C:\\Anaconda3\\envs\\dsfs\\lib\\site-packages\\matplotlib\\backends\\backend_agg.py:203: RuntimeWarning: Glyph 49892 missing from current font.\n",
      "  font.set_text(s, 0, flags=flags)\n"
     ]
    },
    {
     "data": {
      "image/png": "[encoded data removed]",
      "text/plain": [
       "<Figure size 432x288 with 1 Axes>"
      ]
     },
     "metadata": {
      "needs_background": "light"
     },
     "output_type": "display_data"
    }
   ],
   "source": [
    "#Trainer 클래스를 사용해 학습을 수행하는 코드\n",
    "import sys\n",
    "sys.path.append('..')\n",
    "from common.optimizer import SGD\n",
    "from common.trainer import Trainer\n",
    "from dataset import spiral\n",
    "\n",
    "max_epoch =300\n",
    "batch_size = 30\n",
    "hidden_size = 10\n",
    "learning_rate = 1.0\n",
    "\n",
    "x,t = spiral.load_data()\n",
    "model = TwoLayerNet(input_size=2, hidden_size=hidden_size, output_size=3)\n",
    "optimizer = SGD(lr = learning_rate)\n",
    "\n",
    "trainer = Trainer(model, optimizer)\n",
    "trainer.fit(x,t,max_epoch, batch_size, eval_interval=10)\n",
    "trainer.plot()"
   ]
  },
  {
   "cell_type": "markdown",
   "id": "b3e44419",
   "metadata": {},
   "source": [
    "#### 계산 고속도\n",
    "- 비트 정밀도\n",
    "- GPU"
   ]
  },
  {
   "cell_type": "code",
   "execution_count": 145,
   "id": "7c87a0a0",
   "metadata": {},
   "outputs": [
    {
     "data": {
      "text/plain": [
       "array([-0.62770321,  1.0043732 , -0.98858318])"
      ]
     },
     "execution_count": 145,
     "metadata": {},
     "output_type": "execute_result"
    }
   ],
   "source": [
    "#비트 정밀도\n",
    "a = np.random.randn(3)\n",
    "a"
   ]
  },
  {
   "cell_type": "code",
   "execution_count": 148,
   "id": "43750d06",
   "metadata": {},
   "outputs": [
    {
     "data": {
      "text/plain": [
       "dtype('float64')"
      ]
     },
     "execution_count": 148,
     "metadata": {},
     "output_type": "execute_result"
    }
   ],
   "source": [
    "#64비트 부동소수점이 사용되는지 확인\n",
    "a.dtype"
   ]
  },
  {
   "cell_type": "code",
   "execution_count": 149,
   "id": "2fa3fd55",
   "metadata": {},
   "outputs": [
    {
     "data": {
      "text/plain": [
       "dtype('float32')"
      ]
     },
     "execution_count": 149,
     "metadata": {},
     "output_type": "execute_result"
    }
   ],
   "source": [
    "#32비트 부동소수점 수를 우선으로 사용(더 빠르고 메모리 관점에서 효율적)\n",
    "b = np.random.randn(3).astype(np.float32)\n",
    "b.dtype"
   ]
  },
  {
   "cell_type": "code",
   "execution_count": 150,
   "id": "41226c6f",
   "metadata": {},
   "outputs": [
    {
     "data": {
      "text/plain": [
       "dtype('float32')"
      ]
     },
     "execution_count": 150,
     "metadata": {},
     "output_type": "execute_result"
    }
   ],
   "source": [
    "c =  np.random.randn(3).astype('f')\n",
    "c.dtype"
   ]
  },
  {
   "cell_type": "code",
   "execution_count": null,
   "id": "6644e640",
   "metadata": {},
   "outputs": [],
   "source": [
    "#GPU(쿠파이)\n",
    "!pip install cupy\n",
    "import cupy as cp"
   ]
  },
  {
   "cell_type": "code",
   "execution_count": null,
   "id": "477f6527",
   "metadata": {},
   "outputs": [],
   "source": []
  }
 ],
 "metadata": {
  "kernelspec": {
   "display_name": "Python 3",
   "language": "python",
   "name": "python3"
  },
  "language_info": {
   "codemirror_mode": {
    "name": "ipython",
    "version": 3
   },
   "file_extension": ".py",
   "mimetype": "text/x-python",
   "name": "python",
   "nbconvert_exporter": "python",
   "pygments_lexer": "ipython3",
   "version": "3.9.5"
  }
 },
 "nbformat": 4,
 "nbformat_minor": 5
}
