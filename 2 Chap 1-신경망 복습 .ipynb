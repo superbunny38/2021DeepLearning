{
 "cells": [
  {
   "cell_type": "code",
   "execution_count": 1,
   "id": "fb4184bf",
   "metadata": {},
   "outputs": [],
   "source": [
    "import numpy as np\n",
    "x = np.array([1,2,3])"
   ]
  },
  {
   "cell_type": "code",
   "execution_count": 2,
   "id": "d613dea4",
   "metadata": {},
   "outputs": [
    {
     "data": {
      "text/plain": [
       "numpy.ndarray"
      ]
     },
     "execution_count": 2,
     "metadata": {},
     "output_type": "execute_result"
    }
   ],
   "source": [
    "x.__class__#클래스 이름 표시"
   ]
  },
  {
   "cell_type": "code",
   "execution_count": 3,
   "id": "bacdf083",
   "metadata": {},
   "outputs": [
    {
     "data": {
      "text/plain": [
       "(3,)"
      ]
     },
     "execution_count": 3,
     "metadata": {},
     "output_type": "execute_result"
    }
   ],
   "source": [
    "x.shape"
   ]
  },
  {
   "cell_type": "code",
   "execution_count": 4,
   "id": "aef96341",
   "metadata": {},
   "outputs": [
    {
     "data": {
      "text/plain": [
       "1"
      ]
     },
     "execution_count": 4,
     "metadata": {},
     "output_type": "execute_result"
    }
   ],
   "source": [
    "x.ndim"
   ]
  },
  {
   "cell_type": "code",
   "execution_count": 5,
   "id": "3444a408",
   "metadata": {},
   "outputs": [],
   "source": [
    "W = np.array([[1,2,3],[4,5,6]])"
   ]
  },
  {
   "cell_type": "code",
   "execution_count": 6,
   "id": "d33062e8",
   "metadata": {},
   "outputs": [
    {
     "data": {
      "text/plain": [
       "(2, 3)"
      ]
     },
     "execution_count": 6,
     "metadata": {},
     "output_type": "execute_result"
    }
   ],
   "source": [
    "W.shape"
   ]
  },
  {
   "cell_type": "code",
   "execution_count": 7,
   "id": "adeedea6",
   "metadata": {},
   "outputs": [
    {
     "data": {
      "text/plain": [
       "2"
      ]
     },
     "execution_count": 7,
     "metadata": {},
     "output_type": "execute_result"
    }
   ],
   "source": [
    "W.ndim"
   ]
  },
  {
   "cell_type": "code",
   "execution_count": 8,
   "id": "81830cf2",
   "metadata": {},
   "outputs": [
    {
     "data": {
      "text/plain": [
       "array([[1, 2, 3],\n",
       "       [4, 5, 6]])"
      ]
     },
     "execution_count": 8,
     "metadata": {},
     "output_type": "execute_result"
    }
   ],
   "source": [
    "W"
   ]
  },
  {
   "cell_type": "code",
   "execution_count": 9,
   "id": "8c449b46",
   "metadata": {},
   "outputs": [],
   "source": [
    "X = [[0,1,2],[3,4,5]]"
   ]
  },
  {
   "cell_type": "code",
   "execution_count": 12,
   "id": "b898b8f2",
   "metadata": {},
   "outputs": [
    {
     "data": {
      "text/plain": [
       "[[0, 1, 2], [3, 4, 5]]"
      ]
     },
     "execution_count": 12,
     "metadata": {},
     "output_type": "execute_result"
    }
   ],
   "source": [
    "X"
   ]
  },
  {
   "cell_type": "code",
   "execution_count": 10,
   "id": "9c19202b",
   "metadata": {},
   "outputs": [
    {
     "data": {
      "text/plain": [
       "array([[ 1,  3,  5],\n",
       "       [ 7,  9, 11]])"
      ]
     },
     "execution_count": 10,
     "metadata": {},
     "output_type": "execute_result"
    }
   ],
   "source": [
    "W+X"
   ]
  },
  {
   "cell_type": "code",
   "execution_count": 11,
   "id": "66c99fb9",
   "metadata": {},
   "outputs": [
    {
     "data": {
      "text/plain": [
       "array([[ 0,  2,  6],\n",
       "       [12, 20, 30]])"
      ]
     },
     "execution_count": 11,
     "metadata": {},
     "output_type": "execute_result"
    }
   ],
   "source": [
    "W*X"
   ]
  },
  {
   "cell_type": "code",
   "execution_count": 13,
   "id": "ee96aa1b",
   "metadata": {},
   "outputs": [],
   "source": [
    "A = np.array([[1,2],[3,4]])"
   ]
  },
  {
   "cell_type": "code",
   "execution_count": 14,
   "id": "02e59f42",
   "metadata": {},
   "outputs": [
    {
     "data": {
      "text/plain": [
       "array([[10, 20],\n",
       "       [30, 40]])"
      ]
     },
     "execution_count": 14,
     "metadata": {},
     "output_type": "execute_result"
    }
   ],
   "source": [
    "A*10"
   ]
  },
  {
   "cell_type": "code",
   "execution_count": 15,
   "id": "c51ed1fb",
   "metadata": {},
   "outputs": [],
   "source": [
    "A = np.array([[1,2],[3,4]])"
   ]
  },
  {
   "cell_type": "code",
   "execution_count": 16,
   "id": "6b692a38",
   "metadata": {},
   "outputs": [],
   "source": [
    "b = np.array([10,20])"
   ]
  },
  {
   "cell_type": "code",
   "execution_count": 17,
   "id": "38e6906b",
   "metadata": {},
   "outputs": [
    {
     "data": {
      "text/plain": [
       "array([[10, 40],\n",
       "       [30, 80]])"
      ]
     },
     "execution_count": 17,
     "metadata": {},
     "output_type": "execute_result"
    }
   ],
   "source": [
    "A*b"
   ]
  },
  {
   "cell_type": "code",
   "execution_count": 18,
   "id": "24b810e9",
   "metadata": {},
   "outputs": [],
   "source": [
    "a = np.array([1,2,3])"
   ]
  },
  {
   "cell_type": "code",
   "execution_count": 19,
   "id": "abd42fee",
   "metadata": {},
   "outputs": [],
   "source": [
    "b = np.array([4,5,6])"
   ]
  },
  {
   "cell_type": "code",
   "execution_count": 20,
   "id": "5f2cc24e",
   "metadata": {},
   "outputs": [
    {
     "data": {
      "text/plain": [
       "32"
      ]
     },
     "execution_count": 20,
     "metadata": {},
     "output_type": "execute_result"
    }
   ],
   "source": [
    "np.dot(a,b)"
   ]
  },
  {
   "cell_type": "code",
   "execution_count": 22,
   "id": "ed85ad35",
   "metadata": {},
   "outputs": [
    {
     "data": {
      "text/plain": [
       "array([[19, 22],\n",
       "       [43, 50]])"
      ]
     },
     "execution_count": 22,
     "metadata": {},
     "output_type": "execute_result"
    }
   ],
   "source": [
    "#행렬의 내적\n",
    "A = np.array([[1,2],[3,4]])\n",
    "B = np.array([[5,6],[7,8]])\n",
    "np.matmul(A,B)"
   ]
  },
  {
   "cell_type": "code",
   "execution_count": 23,
   "id": "d97605f4",
   "metadata": {},
   "outputs": [
    {
     "data": {
      "text/plain": [
       "array([[ 5, 12],\n",
       "       [21, 32]])"
      ]
     },
     "execution_count": 23,
     "metadata": {},
     "output_type": "execute_result"
    }
   ],
   "source": [
    "A*B"
   ]
  },
  {
   "cell_type": "code",
   "execution_count": 25,
   "id": "9036ce5a",
   "metadata": {},
   "outputs": [
    {
     "data": {
      "text/plain": [
       "array([[19, 22],\n",
       "       [43, 50]])"
      ]
     },
     "execution_count": 25,
     "metadata": {},
     "output_type": "execute_result"
    }
   ],
   "source": [
    "np.dot(A,B)"
   ]
  },
  {
   "cell_type": "code",
   "execution_count": 26,
   "id": "ad525f0d",
   "metadata": {},
   "outputs": [],
   "source": [
    "#완전 연결계층에 의한 변환의 미니배치 버전(선형 변환)\n",
    "import numpy as np\n",
    "W1 = np.random.randn(2,4)#가중치 2x4\n",
    "b1 = np.random.randn(4)#편향 1x4\n",
    "x = np.random.randn(10,2)#입력 10x2\n",
    "h = np.matmul(x,W1)+b1"
   ]
  },
  {
   "cell_type": "code",
   "execution_count": 27,
   "id": "3e0977f9",
   "metadata": {},
   "outputs": [],
   "source": [
    "#S모양 곡선(비선형 변환)\n",
    "def sigmoid(x):\n",
    "    return 1/(1+np.exp(-x))"
   ]
  },
  {
   "cell_type": "code",
   "execution_count": 29,
   "id": "21560395",
   "metadata": {},
   "outputs": [],
   "source": [
    "#시그모이드를 사용하여 은닉층 뉴런을 변환(비선형 변환)\n",
    "a= sigmoid(h)"
   ]
  },
  {
   "cell_type": "code",
   "execution_count": 30,
   "id": "f0f8e687",
   "metadata": {},
   "outputs": [],
   "source": [
    "#신경망 추론 전체 그림\n",
    "import numpy as np\n",
    "\n",
    "def sigmoid(x):#시그모이드\n",
    "    return 1/(1+np.exp(-x))\n",
    "\n",
    "x = np.random.randn(10,2)#10x2입력층: 2차원 데이터 10개가 미니배치로 처리됨\n",
    "W1 = np.random.randn(2,4)#2x4 가중치\n",
    "b1 = np.random.randn(4)#1x4 편향\n",
    "W2 = np.random.randn(4,3)#4x3 가중치\n",
    "b2 = np.random.randn(3)\n",
    "\n",
    "h = np.matmul(x,W1)+b1#10x4 은닉층\n",
    "a = sigmoid(h)#10x4 완전 연결 계층\n",
    "s = np.matmul(a,W2)+b2#10x3 최종 출력(3 클래스 분류)"
   ]
  },
  {
   "cell_type": "code",
   "execution_count": 31,
   "id": "84dc5869",
   "metadata": {},
   "outputs": [],
   "source": [
    "class Sigmoid:#시그모이드 함수를 클래스로 구현\n",
    "    def __init__(self):\n",
    "        self.params = []#학습하는 매개변수 없음\n",
    "    \n",
    "    def forward(self, x):\n",
    "        return 1/(1+np.exp(-x))"
   ]
  },
  {
   "cell_type": "code",
   "execution_count": 32,
   "id": "2dee671c",
   "metadata": {},
   "outputs": [],
   "source": [
    "class Affine:#완전 연결 계층 클래스로 구현\n",
    "    def __init__(self,W,b):#초기화\n",
    "        self.params = [W,b]#가중치와 편향\n",
    "    \n",
    "    def forward(self,x):#순전차 처리 구현\n",
    "        W,b = self.params\n",
    "        out = np.matmul(x,W)+b\n",
    "        return out"
   ]
  },
  {
   "cell_type": "code",
   "execution_count": 41,
   "id": "21faa05a",
   "metadata": {},
   "outputs": [],
   "source": [
    "#Two Layer Net 구현\n",
    "class TwoLayerNet:\n",
    "    def __init__(self, input_size, hidden_size, output_size):#가중치 초기화\n",
    "        I, H, O = input_size,hidden_size, output_size#3개의 계층 생성\n",
    "        \n",
    "        #가중치와 편향 초기화\n",
    "        W1 = np.random.randn(I,H)\n",
    "        b1 = np.random.randn(H)\n",
    "        W2 = np.random.randn(H,O)\n",
    "        b2 = np.random.randn(O)\n",
    "        \n",
    "        #계층 생성\n",
    "        self.layers = [\n",
    "            Affine(W1,b1),\n",
    "            Sigmoid(),\n",
    "            Affine(W2,b2)\n",
    "        ]\n",
    "        \n",
    "        #모든 가중치를 리스트에 모은다\n",
    "        self.params = []\n",
    "        for layer in self.layers:\n",
    "            self.params += layer.params\n",
    "    \n",
    "    def predict(self, x):#추론 처리\n",
    "        for layer in self.layers:\n",
    "            x = layer.forward(x)\n",
    "        return x"
   ]
  },
  {
   "cell_type": "code",
   "execution_count": 42,
   "id": "00f3b96d",
   "metadata": {},
   "outputs": [],
   "source": [
    "#리스트 결합\n",
    "a = ['A','B']\n",
    "a+= ['C','D']"
   ]
  },
  {
   "cell_type": "code",
   "execution_count": 43,
   "id": "0bf42064",
   "metadata": {},
   "outputs": [
    {
     "data": {
      "text/plain": [
       "['A', 'B', 'C', 'D']"
      ]
     },
     "execution_count": 43,
     "metadata": {},
     "output_type": "execute_result"
    }
   ],
   "source": [
    "a"
   ]
  },
  {
   "cell_type": "code",
   "execution_count": 44,
   "id": "5d9bd842",
   "metadata": {},
   "outputs": [
    {
     "data": {
      "text/plain": [
       "array([[ 0.48988136, -1.98812148,  3.00120095],\n",
       "       [ 0.6765205 , -1.06528948,  4.19082399],\n",
       "       [ 0.72285721, -0.98341831,  4.34754096],\n",
       "       [ 0.82685718, -0.89374449,  4.40530989],\n",
       "       [ 0.66449036, -1.08483364,  4.0748879 ],\n",
       "       [ 1.01580743, -0.85571633,  3.90414502],\n",
       "       [ 0.5097578 , -1.91111883,  3.33262692],\n",
       "       [ 0.87903668, -1.35777454,  3.81872853],\n",
       "       [ 1.0263118 , -0.68828592,  3.96687848],\n",
       "       [ 0.28436914, -2.19822323,  2.45952867]])"
      ]
     },
     "execution_count": 44,
     "metadata": {},
     "output_type": "execute_result"
    }
   ],
   "source": [
    "x = np.random.randn(10,2)\n",
    "model = TwoLayerNet(2,4,3)#input_size, hidden_size, output_size\n",
    "s = model.predict(x)\n",
    "s#입력 데이터 x에 대한 점수(ㄴ)"
   ]
  },
  {
   "cell_type": "markdown",
   "id": "b830d7b2",
   "metadata": {},
   "source": [
    "### 소프트맥스 함수\n",
    "$$y_k \\frac{exp(s_k)}{ \\sum_{i=1}^n exp(s_i)}$$\n",
    "<b>출력이 총 $n$개일 때, $k$번째의 출력 $y_k$를 구하는 계산식</b><br>\n",
    "<b>$y_k$: $k$번째 클래스에 해당하는 소프트맥스 함수의 출력</b>"
   ]
  },
  {
   "cell_type": "markdown",
   "id": "3441d9b0",
   "metadata": {},
   "source": [
    "<br><br>\n",
    "### 교차 엔트로피 오차의 수식\n",
    "$$L = -\\sum_k t_klogy_k$$\n",
    "정답 레이블은 $t = [0,0,1]$과 같이 원핫 벡터로 표기\n",
    "\n",
    "<br><br>\n",
    "\n",
    "### 미니 배치 처리를 고려한 오차의 식\n",
    "$$L = -\\frac{1}{N}\\sum_n\\sum_k t_{nk}logy_{nk}$$\n",
    ":평균 손실 함수<br><br>\n",
    "데이터 개수:N개, $t_{nk}$: n번째 데이터의 k차원째의 값, $y_{nk}$: 신경망의 출력, $t_{nk}$: 정답 레이블"
   ]
  },
  {
   "cell_type": "code",
   "execution_count": 47,
   "id": "28a44460",
   "metadata": {},
   "outputs": [],
   "source": [
    "#Repeat 노드\n",
    "D, N = 8,7\n",
    "\n",
    "#입력\n",
    "x = np.random.randn(1,D)\n",
    "\n",
    "#순전파\n",
    "y = np.repeat(x,N,axis = 0)#원소 복제 수행\n",
    "\n",
    "#무작위 기울기\n",
    "dy = np.random.randn(N,D)\n",
    "\n",
    "#역전파\n",
    "dx = np.sum(dy, axis = 0,#총합\n",
    "           keepdims=True)#2차원 배열 차원 수 유지"
   ]
  },
  {
   "cell_type": "code",
   "execution_count": 48,
   "id": "cf76d2f0",
   "metadata": {},
   "outputs": [
    {
     "data": {
      "text/plain": [
       "array([[ 5.39809163, -6.50412858,  1.57210402, -1.85534185, -2.12816353,\n",
       "        -1.98131893,  3.16830447,  2.32178235]])"
      ]
     },
     "execution_count": 48,
     "metadata": {},
     "output_type": "execute_result"
    }
   ],
   "source": [
    "dx"
   ]
  },
  {
   "cell_type": "code",
   "execution_count": 49,
   "id": "ca253af6",
   "metadata": {
    "scrolled": true
   },
   "outputs": [
    {
     "data": {
      "text/plain": [
       "array([[ 0.56952598, -1.22725653, -1.24556488,  0.13704173,  1.21360177,\n",
       "        -1.96168425,  0.82642681,  1.23160423],\n",
       "       [ 1.63526847, -1.54056466,  0.62169324, -0.09625278, -0.73294248,\n",
       "         0.7018978 ,  1.14968002, -1.20519641],\n",
       "       [ 0.90876329,  0.04510618, -1.38657889,  0.94230008, -1.37633776,\n",
       "        -0.61148481, -0.33193171,  0.36360305],\n",
       "       [-0.33741463, -0.6803668 ,  0.72781723, -0.25635209,  1.21623509,\n",
       "        -2.07378438,  0.53632318,  1.24198267],\n",
       "       [ 0.48747785, -1.54608446,  2.02442711, -1.69605654, -1.58236084,\n",
       "         1.13409802, -0.1153853 ,  1.62164953],\n",
       "       [ 1.8302467 ,  0.50031148,  0.19776204, -1.45555192, -0.70033747,\n",
       "         0.04710648, -0.39054761, -1.37232149],\n",
       "       [ 0.30422399, -2.05527379,  0.63254817,  0.56952967, -0.16602184,\n",
       "         0.78253221,  1.49373908,  0.44046077]])"
      ]
     },
     "execution_count": 49,
     "metadata": {},
     "output_type": "execute_result"
    }
   ],
   "source": [
    "dy"
   ]
  },
  {
   "cell_type": "code",
   "execution_count": null,
   "id": "4a0d0002",
   "metadata": {},
   "outputs": [],
   "source": [
    "#Sum 노드\n",
    "D, N = 8,7\n",
    "x = np.random.randn(N,D)#입력\n",
    "y = np.sum(x, axis = 0, keepdims = True)#순전파\n",
    "\n",
    "dy = np.random.randn(1,D)#무작위 기울기\n",
    "dx = np.repeat(dy,N,axis = 0)#역전파"
   ]
  }
 ],
 "metadata": {
  "kernelspec": {
   "display_name": "Python 3",
   "language": "python",
   "name": "python3"
  },
  "language_info": {
   "codemirror_mode": {
    "name": "ipython",
    "version": 3
   },
   "file_extension": ".py",
   "mimetype": "text/x-python",
   "name": "python",
   "nbconvert_exporter": "python",
   "pygments_lexer": "ipython3",
   "version": "3.9.5"
  }
 },
 "nbformat": 4,
 "nbformat_minor": 5
}
