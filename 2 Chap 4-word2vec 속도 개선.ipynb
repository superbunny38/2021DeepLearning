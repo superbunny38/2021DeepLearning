{
 "cells": [
  {
   "cell_type": "code",
   "execution_count": 2,
   "id": "e48cfa7f",
   "metadata": {},
   "outputs": [
    {
     "data": {
      "text/plain": [
       "array([[ 0,  1,  2],\n",
       "       [ 3,  4,  5],\n",
       "       [ 6,  7,  8],\n",
       "       [ 9, 10, 11],\n",
       "       [12, 13, 14],\n",
       "       [15, 16, 17],\n",
       "       [18, 19, 20]])"
      ]
     },
     "execution_count": 2,
     "metadata": {},
     "output_type": "execute_result"
    }
   ],
   "source": [
    "#Embedding 계층 구현\n",
    "import numpy as np\n",
    "W = np.arange(21).reshape(7,3)\n",
    "W#가중치"
   ]
  },
  {
   "cell_type": "code",
   "execution_count": 3,
   "id": "9c874202",
   "metadata": {},
   "outputs": [
    {
     "data": {
      "text/plain": [
       "array([6, 7, 8])"
      ]
     },
     "execution_count": 3,
     "metadata": {},
     "output_type": "execute_result"
    }
   ],
   "source": [
    "W[2]#원하는 행 명시"
   ]
  },
  {
   "cell_type": "code",
   "execution_count": 4,
   "id": "a7d99486",
   "metadata": {},
   "outputs": [
    {
     "data": {
      "text/plain": [
       "array([15, 16, 17])"
      ]
     },
     "execution_count": 4,
     "metadata": {},
     "output_type": "execute_result"
    }
   ],
   "source": [
    "W[5]#원하는 행 명시"
   ]
  },
  {
   "cell_type": "code",
   "execution_count": 5,
   "id": "705811d8",
   "metadata": {},
   "outputs": [
    {
     "data": {
      "text/plain": [
       "array([1, 0, 3, 0])"
      ]
     },
     "execution_count": 5,
     "metadata": {},
     "output_type": "execute_result"
    }
   ],
   "source": [
    "#가중치 W로부터 여러 행을 한꺼번에 추출\n",
    "idx = np.array([1,0,3,0])\n",
    "idx"
   ]
  },
  {
   "cell_type": "code",
   "execution_count": 6,
   "id": "5788f44e",
   "metadata": {},
   "outputs": [
    {
     "data": {
      "text/plain": [
       "array([[ 3,  4,  5],\n",
       "       [ 0,  1,  2],\n",
       "       [ 9, 10, 11],\n",
       "       [ 0,  1,  2]])"
      ]
     },
     "execution_count": 6,
     "metadata": {},
     "output_type": "execute_result"
    }
   ],
   "source": [
    "W[idx]"
   ]
  },
  {
   "cell_type": "code",
   "execution_count": 7,
   "id": "bf6f6cf9",
   "metadata": {},
   "outputs": [
    {
     "data": {
      "text/plain": [
       "array([[0, 0],\n",
       "       [0, 0]])"
      ]
     },
     "execution_count": 7,
     "metadata": {},
     "output_type": "execute_result"
    }
   ],
   "source": [
    "sample_weights = [[1,2],[3,4]]\n",
    "np.zeros_like(sample_weights)"
   ]
  },
  {
   "cell_type": "code",
   "execution_count": 8,
   "id": "016e1e37",
   "metadata": {},
   "outputs": [
    {
     "data": {
      "text/plain": [
       "1"
      ]
     },
     "execution_count": 8,
     "metadata": {},
     "output_type": "execute_result"
    }
   ],
   "source": [
    "a, = [1]\n",
    "a"
   ]
  },
  {
   "cell_type": "markdown",
   "id": "f0bc93ae",
   "metadata": {},
   "source": [
    "word2vec의 구현의 입력측 MatMul 계층을 Embedding 계층으로 전환"
   ]
  },
  {
   "cell_type": "code",
   "execution_count": 9,
   "id": "b4bd6862",
   "metadata": {},
   "outputs": [],
   "source": [
    "#Embedding 계층의 forward() 메서드를 구현\n",
    "class Embedding:\n",
    "    def __init__(self, W):\n",
    "        self.params = [W]\n",
    "        self.grads = [np.zeros_like(W)]\n",
    "        self.idx = None\n",
    "    \n",
    "    def forward(self, idx):\n",
    "        W, = self.params\n",
    "        self.idx =idx#추출하는 행의 인덱스를 배열로 저장\n",
    "        out = W[idx]\n",
    "        return out\n",
    "    '''\n",
    "    <비추 backward>\n",
    "    def backward(self, dout):\n",
    "        dW, = self.grads\n",
    "        dW[...] = 0#dW의 원소를 0으로 덮어씀\n",
    "        dW[self.idx] = dout#앞 층에서 전해진 기울기 dout을 idx번째 행에 할당\n",
    "        return None\n",
    "    '''\n",
    "    #올바른 역전파\n",
    "    def backward(self, dout):\n",
    "        dW, = self.grads\n",
    "        dW[...] = 0\n",
    "        \n",
    "        #중복 문제 해결하기 위해 '할당'이 아닌 '더하기'를 해야 함\n",
    "        for i, word_id in enumerate(self.idx):\n",
    "            dW[word_id] += dout[i]\n",
    "        #혹은 dout를 dW의 self.idx번째 행에 더해줌(numpy가 더 빠름)\n",
    "        #np.add.at(dW, self.idx, dout)\n",
    "        return None"
   ]
  },
  {
   "cell_type": "code",
   "execution_count": 10,
   "id": "06237439",
   "metadata": {},
   "outputs": [],
   "source": [
    "class EmbeddingDot:\n",
    "    def __init__(self, W):\n",
    "        self.embed = Embedding(W)#embedding 계층\n",
    "        self.params = self.embed.params#매개변수 저장\n",
    "        self.grads = self.embed.grads#기울기 저장\n",
    "        self.cache = None#순전파 시의 계산 결과를 잠시 유지하기 위한 변수\n",
    "    \n",
    "    def forward(self, h, idx):#순전파\n",
    "        target_W = self.embed.forward(idx)\n",
    "        out = np.sum(target_W*h, axis = 1)#내적 계산\n",
    "        self.cache = (h, target_W)\n",
    "        return out\n",
    "    \n",
    "    def backward(self, dout):#역전파\n",
    "        h, target_W = self.cache\n",
    "        dout = dout.reshape(dout.shape[0],1)\n",
    "        \n",
    "        dtarget_W = dout*h\n",
    "        self.embed.backward(dtarget_W)\n",
    "        dh = dout*target_W\n",
    "        return dh"
   ]
  },
  {
   "cell_type": "code",
   "execution_count": null,
   "id": "e8b6bb4a",
   "metadata": {},
   "outputs": [],
   "source": []
  },
  {
   "cell_type": "code",
   "execution_count": null,
   "id": "fda6abda",
   "metadata": {},
   "outputs": [],
   "source": []
  }
 ],
 "metadata": {
  "kernelspec": {
   "display_name": "Python 3",
   "language": "python",
   "name": "python3"
  },
  "language_info": {
   "codemirror_mode": {
    "name": "ipython",
    "version": 3
   },
   "file_extension": ".py",
   "mimetype": "text/x-python",
   "name": "python",
   "nbconvert_exporter": "python",
   "pygments_lexer": "ipython3",
   "version": "3.9.5"
  }
 },
 "nbformat": 4,
 "nbformat_minor": 5
}
