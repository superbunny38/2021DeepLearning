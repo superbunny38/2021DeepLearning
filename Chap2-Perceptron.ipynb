{
 "cells": [
  {
   "cell_type": "markdown",
   "id": "c951b1b5",
   "metadata": {},
   "source": [
    "## 2.1 퍼셉트론이란?\n",
    "- 인공뉴런 혹은 단순 퍼셉트론이라고 불림\n",
    "- 다수의 신호를 입력 받아 하나의 신호로 출력\n",
    "- 퍼셉트론 신호는 두가지 값만 가짐: 1 or 0\n"
   ]
  },
  {
   "cell_type": "code",
   "execution_count": 15,
   "id": "992eb1cd",
   "metadata": {},
   "outputs": [
    {
     "data": {
      "image/png": "[encoded data removed]",
      "text/plain": [
       "<Figure size 432x288 with 1 Axes>"
      ]
     },
     "metadata": {
      "needs_background": "light"
     },
     "output_type": "display_data"
    }
   ],
   "source": [
    "import numpy as np\n",
    "import pandas as pd\n",
    "import matplotlib.pyplot as plt\n",
    "from matplotlib.image import imread\n",
    "from PIL import Image\n",
    "import requests\n",
    "url = \"https://miro.medium.com/max/806/0*LJBO8UbtzK_SKMog\"\n",
    "\n",
    "im = Image.open(requests.get(url, stream=True).raw)\n",
    "plt.imshow(im)\n",
    "plt.axis('off')\n",
    "plt.show()"
   ]
  },
  {
   "cell_type": "markdown",
   "id": "16183be7",
   "metadata": {},
   "source": [
    "- x: 입력신호\n",
    "- w: 가중치\n",
    "- $\\theta$: 임계값\n",
    "- y: 출력값\n",
    "\n",
    "■ 뉴런에서 보내온 신호의 총합이 정해진 한계(임계값)를 넘어설 때만 1을 출력<br>\n",
    "■ 가중치가 클 수록 해당신호가 그만큼 더 중요"
   ]
  },
  {
   "cell_type": "markdown",
   "id": "e5933bee",
   "metadata": {},
   "source": [
    "퍼셉트론 동작 원리의 수식:<br>\n",
    "\n",
    "$$y=\\begin{cases} 0 & (w_1 x_1 + w_2 x_2 \\le \\theta) \\\\ 1 & (w_1 x_1 + w_2 x_2 > \\theta) \\end{cases}$$"
   ]
  },
  {
   "cell_type": "markdown",
   "id": "8887ef8d",
   "metadata": {},
   "source": [
    "## 2.3 퍼셉트론 구현하기"
   ]
  },
  {
   "cell_type": "code",
   "execution_count": 18,
   "id": "b28db0ec",
   "metadata": {},
   "outputs": [],
   "source": [
    "def AND(x1,x2):\n",
    "    w1,w2,theta = 0.2,0.2,0.3\n",
    "    tmp = x1*w1 + x2*w2\n",
    "    if tmp <= theta:\n",
    "        return 0\n",
    "    elif tmp > theta:\n",
    "        return 1"
   ]
  },
  {
   "cell_type": "code",
   "execution_count": 19,
   "id": "12dacff5",
   "metadata": {},
   "outputs": [
    {
     "name": "stdout",
     "output_type": "stream",
     "text": [
      "0\n",
      "0\n",
      "0\n",
      "1\n"
     ]
    }
   ],
   "source": [
    "print(AND(0,0))#0\n",
    "print(AND(0,1))#0\n",
    "print(AND(1,0))#0\n",
    "print(AND(1,1))#1"
   ]
  },
  {
   "cell_type": "markdown",
   "id": "4ec550f1",
   "metadata": {},
   "source": [
    "## 2.3.2 가중치와 편향 도입\n",
    "\n",
    "$$y=\\begin{cases} 0 & (b + w_1 x_1 + w_2 x_2 \\le 0) \\\\ 1 & (b + w_1 x_1 + w_2 x_2 > 0) \\end{cases}$$\n",
    "\n",
    "- b: 편향"
   ]
  },
  {
   "cell_type": "code",
   "execution_count": 22,
   "id": "09308105",
   "metadata": {},
   "outputs": [],
   "source": [
    "#가중치와 편향을 도입한 AND 게이트\n",
    "def AND(x1,x2):\n",
    "    x = np.array([x1,x2])\n",
    "    w = np.array([0.2,0.2])\n",
    "    b = -0.3\n",
    "    tmp = np.sum(x*w)+b\n",
    "    if tmp <= 0:\n",
    "        return 0\n",
    "    else:\n",
    "        return 1"
   ]
  },
  {
   "cell_type": "code",
   "execution_count": 23,
   "id": "5e33b7ea",
   "metadata": {},
   "outputs": [
    {
     "name": "stdout",
     "output_type": "stream",
     "text": [
      "0\n",
      "0\n",
      "0\n",
      "1\n"
     ]
    }
   ],
   "source": [
    "print(AND(0,0))#0\n",
    "print(AND(0,1))#0\n",
    "print(AND(1,0))#0\n",
    "print(AND(1,1))#1"
   ]
  },
  {
   "cell_type": "markdown",
   "id": "012948b5",
   "metadata": {},
   "source": [
    "편향 $\\neq$ 가중치:\n",
    "- 가중치(w): 입력 신호가 결과에 주는 영향력(중요도)을 조절하는 매개변수\n",
    "- 편향(b): 뉴런이 얼마나 쉽게 활성화(결과로 1을 출력)하느냐를 조정하는 매개변수<br>$   \\longrightarrow$두 입력이 모두 0이어도 결과로 (0이 아닌) 편향 값을 출력"
   ]
  },
  {
   "cell_type": "code",
   "execution_count": 24,
   "id": "11928b14",
   "metadata": {},
   "outputs": [],
   "source": [
    "#NAND 게이트\n",
    "def NAND(x1, x2):\n",
    "    x = np.array([x1,x2]) \n",
    "    w = np.array([-0.2,-0.2])\n",
    "    b = 0.3\n",
    "    tmp = np.sum(x*w)+b\n",
    "    if tmp <= 0:\n",
    "        return 0\n",
    "    else:\n",
    "        return 1"
   ]
  },
  {
   "cell_type": "code",
   "execution_count": 25,
   "id": "95763c5d",
   "metadata": {},
   "outputs": [
    {
     "name": "stdout",
     "output_type": "stream",
     "text": [
      "1\n",
      "1\n",
      "1\n",
      "0\n"
     ]
    }
   ],
   "source": [
    "print(NAND(0,0))#1\n",
    "print(NAND(0,1))#1\n",
    "print(NAND(1,0))#1\n",
    "print(NAND(1,1))#0"
   ]
  },
  {
   "cell_type": "code",
   "execution_count": 26,
   "id": "23ef369e",
   "metadata": {},
   "outputs": [],
   "source": [
    "#OR 게이트\n",
    "def OR(x1,x2):\n",
    "    x = np.array([x1,x2])\n",
    "    w = np.array([0.2,0.2])\n",
    "    b = -0.1\n",
    "    tmp = np.sum(x*w)+b\n",
    "    if tmp<=0:\n",
    "        return 0\n",
    "    else:\n",
    "        return 1"
   ]
  },
  {
   "cell_type": "code",
   "execution_count": 28,
   "id": "c118b7e6",
   "metadata": {},
   "outputs": [
    {
     "name": "stdout",
     "output_type": "stream",
     "text": [
      "0\n",
      "1\n",
      "1\n",
      "1\n"
     ]
    }
   ],
   "source": [
    "print(OR(0,0))#0\n",
    "print(OR(0,1))#1\n",
    "print(OR(1,0))#1\n",
    "print(OR(1,1))#1"
   ]
  },
  {
   "cell_type": "markdown",
   "id": "1392783e",
   "metadata": {},
   "source": [
    "## 2.5 다중 퍼셉트론\n",
    "- XOR 게이트\n",
    "- 비선형 영역도 표현 가능"
   ]
  },
  {
   "cell_type": "code",
   "execution_count": 16,
   "id": "90b29469",
   "metadata": {},
   "outputs": [
    {
     "data": {
      "image/png": "[encoded data removed]",
      "text/plain": [
       "<Figure size 432x288 with 1 Axes>"
      ]
     },
     "metadata": {
      "needs_background": "light"
     },
     "output_type": "display_data"
    }
   ],
   "source": [
    "import matplotlib.pyplot as plt\n",
    "from matplotlib.image import imread\n",
    "from PIL import Image\n",
    "import requests\n",
    "url = \"https://upload.wikimedia.org/wikipedia/commons/thumb/e/ed/3_gate_XOR.svg/270px-3_gate_XOR.svg.png\"\n",
    "\n",
    "im = Image.open(requests.get(url, stream=True).raw)\n",
    "plt.imshow(im)\n",
    "plt.axis('off')\n",
    "plt.show()"
   ]
  },
  {
   "cell_type": "markdown",
   "id": "c5156842",
   "metadata": {},
   "source": [
    "## 2.5.2 XOR 게이트 구현하기"
   ]
  },
  {
   "cell_type": "code",
   "execution_count": 37,
   "id": "e8568989",
   "metadata": {},
   "outputs": [],
   "source": [
    "def XOR(x1,x2):\n",
    "    s1 = NAND(x1,x2)\n",
    "    s2 = OR(x1,x2)\n",
    "    y = AND(s1,s2)\n",
    "    return y"
   ]
  },
  {
   "cell_type": "code",
   "execution_count": 38,
   "id": "779f62e0",
   "metadata": {},
   "outputs": [
    {
     "data": {
      "text/plain": [
       "0"
      ]
     },
     "execution_count": 38,
     "metadata": {},
     "output_type": "execute_result"
    }
   ],
   "source": [
    "XOR(0,0)#0"
   ]
  },
  {
   "cell_type": "code",
   "execution_count": 39,
   "id": "45c206f5",
   "metadata": {},
   "outputs": [
    {
     "data": {
      "text/plain": [
       "1"
      ]
     },
     "execution_count": 39,
     "metadata": {},
     "output_type": "execute_result"
    }
   ],
   "source": [
    "XOR(0,1)#1"
   ]
  },
  {
   "cell_type": "code",
   "execution_count": 40,
   "id": "7c21fd94",
   "metadata": {},
   "outputs": [
    {
     "data": {
      "text/plain": [
       "1"
      ]
     },
     "execution_count": 40,
     "metadata": {},
     "output_type": "execute_result"
    }
   ],
   "source": [
    "XOR(1,0)#1"
   ]
  },
  {
   "cell_type": "code",
   "execution_count": 41,
   "id": "2d611884",
   "metadata": {},
   "outputs": [
    {
     "data": {
      "text/plain": [
       "0"
      ]
     },
     "execution_count": 41,
     "metadata": {},
     "output_type": "execute_result"
    }
   ],
   "source": [
    "XOR(1,1)#0"
   ]
  },
  {
   "cell_type": "code",
   "execution_count": 17,
   "id": "73830755",
   "metadata": {},
   "outputs": [
    {
     "data": {
      "image/png": "[encoded data removed]",
      "text/plain": [
       "<Figure size 432x288 with 1 Axes>"
      ]
     },
     "metadata": {
      "needs_background": "light"
     },
     "output_type": "display_data"
    }
   ],
   "source": [
    "url = \"https://i.stack.imgur.com/IAaJG.png\"\n",
    "\n",
    "im = Image.open(requests.get(url, stream=True).raw)\n",
    "plt.imshow(im)\n",
    "plt.axis('off')\n",
    "plt.show()"
   ]
  },
  {
   "cell_type": "markdown",
   "id": "28158828",
   "metadata": {},
   "source": [
    "- XOR은 2층 퍼셉트론\n",
    "***단층 퍼셉트론으로는 표현하지 못한 것을 층을 하나 늘려 구현**\n",
    "- 다층 퍼셉트론은 (이론상) 컴퓨터를 표현할 수 있다"
   ]
  }
 ],
 "metadata": {
  "kernelspec": {
   "display_name": "Python 3",
   "language": "python",
   "name": "python3"
  },
  "language_info": {
   "codemirror_mode": {
    "name": "ipython",
    "version": 3
   },
   "file_extension": ".py",
   "mimetype": "text/x-python",
   "name": "python",
   "nbconvert_exporter": "python",
   "pygments_lexer": "ipython3",
   "version": "3.9.5"
  }
 },
 "nbformat": 4,
 "nbformat_minor": 5
}
