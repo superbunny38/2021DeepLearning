{
  "nbformat": 4,
  "nbformat_minor": 0,
  "metadata": {
    "colab": {
      "name": "Chap 8 (3) DenseNet.ipynb",
      "provenance": [],
      "include_colab_link": true
    },
    "kernelspec": {
      "name": "python3",
      "display_name": "Python 3"
    },
    "language_info": {
      "name": "python"
    },
    "accelerator": "GPU",
    "widgets": {
      "application/vnd.jupyter.widget-state+json": {
        "ee113b99645044a6a0ab1dfeee5b294d": {
          "model_module": "@jupyter-widgets/controls",
          "model_name": "HBoxModel",
          "model_module_version": "1.5.0",
          "state": {
            "_view_name": "HBoxView",
            "_dom_classes": [],
            "_model_name": "HBoxModel",
            "_view_module": "@jupyter-widgets/controls",
            "_model_module_version": "1.5.0",
            "_view_count": null,
            "_view_module_version": "1.5.0",
            "box_style": "",
            "layout": "IPY_MODEL_59d9e1063c944de2bcb716544fec4d41",
            "_model_module": "@jupyter-widgets/controls",
            "children": [
              "IPY_MODEL_e784e1b23b6941449ea4ff08f2a4cc26",
              "IPY_MODEL_ee7b9cca41694c408cb87441f34c4fff",
              "IPY_MODEL_4502aee3215e46d2a757ef4aa17cf5a9"
            ]
          }
        },
        "59d9e1063c944de2bcb716544fec4d41": {
          "model_module": "@jupyter-widgets/base",
          "model_name": "LayoutModel",
          "model_module_version": "1.2.0",
          "state": {
            "_view_name": "LayoutView",
            "grid_template_rows": null,
            "right": null,
            "justify_content": null,
            "_view_module": "@jupyter-widgets/base",
            "overflow": null,
            "_model_module_version": "1.2.0",
            "_view_count": null,
            "flex_flow": null,
            "width": null,
            "min_width": null,
            "border": null,
            "align_items": null,
            "bottom": null,
            "_model_module": "@jupyter-widgets/base",
            "top": null,
            "grid_column": null,
            "overflow_y": null,
            "overflow_x": null,
            "grid_auto_flow": null,
            "grid_area": null,
            "grid_template_columns": null,
            "flex": null,
            "_model_name": "LayoutModel",
            "justify_items": null,
            "grid_row": null,
            "max_height": null,
            "align_content": null,
            "visibility": null,
            "align_self": null,
            "height": null,
            "min_height": null,
            "padding": null,
            "grid_auto_rows": null,
            "grid_gap": null,
            "max_width": null,
            "order": null,
            "_view_module_version": "1.2.0",
            "grid_template_areas": null,
            "object_position": null,
            "object_fit": null,
            "grid_auto_columns": null,
            "margin": null,
            "display": null,
            "left": null
          }
        },
        "e784e1b23b6941449ea4ff08f2a4cc26": {
          "model_module": "@jupyter-widgets/controls",
          "model_name": "HTMLModel",
          "model_module_version": "1.5.0",
          "state": {
            "_view_name": "HTMLView",
            "style": "IPY_MODEL_93db46bba1664600a03d9b7a6d4419f5",
            "_dom_classes": [],
            "description": "",
            "_model_name": "HTMLModel",
            "placeholder": "​",
            "_view_module": "@jupyter-widgets/controls",
            "_model_module_version": "1.5.0",
            "value": "100%",
            "_view_count": null,
            "_view_module_version": "1.5.0",
            "description_tooltip": null,
            "_model_module": "@jupyter-widgets/controls",
            "layout": "IPY_MODEL_9cd4dae4f28e406990c36e0dd80854a7"
          }
        },
        "ee7b9cca41694c408cb87441f34c4fff": {
          "model_module": "@jupyter-widgets/controls",
          "model_name": "FloatProgressModel",
          "model_module_version": "1.5.0",
          "state": {
            "_view_name": "ProgressView",
            "style": "IPY_MODEL_8bd904d46f80470da6174c3b0479b634",
            "_dom_classes": [],
            "description": "",
            "_model_name": "FloatProgressModel",
            "bar_style": "success",
            "max": 32342954,
            "_view_module": "@jupyter-widgets/controls",
            "_model_module_version": "1.5.0",
            "value": 32342954,
            "_view_count": null,
            "_view_module_version": "1.5.0",
            "orientation": "horizontal",
            "min": 0,
            "description_tooltip": null,
            "_model_module": "@jupyter-widgets/controls",
            "layout": "IPY_MODEL_5cfd7184817041fcb1e71e1cdc69ed00"
          }
        },
        "4502aee3215e46d2a757ef4aa17cf5a9": {
          "model_module": "@jupyter-widgets/controls",
          "model_name": "HTMLModel",
          "model_module_version": "1.5.0",
          "state": {
            "_view_name": "HTMLView",
            "style": "IPY_MODEL_9db5319f359349a8b1013e3f1ae29d58",
            "_dom_classes": [],
            "description": "",
            "_model_name": "HTMLModel",
            "placeholder": "​",
            "_view_module": "@jupyter-widgets/controls",
            "_model_module_version": "1.5.0",
            "value": " 30.8M/30.8M [00:00&lt;00:00, 68.8MB/s]",
            "_view_count": null,
            "_view_module_version": "1.5.0",
            "description_tooltip": null,
            "_model_module": "@jupyter-widgets/controls",
            "layout": "IPY_MODEL_156d9c50a5944b4a8108ac1f5dcb77f1"
          }
        },
        "93db46bba1664600a03d9b7a6d4419f5": {
          "model_module": "@jupyter-widgets/controls",
          "model_name": "DescriptionStyleModel",
          "model_module_version": "1.5.0",
          "state": {
            "_view_name": "StyleView",
            "_model_name": "DescriptionStyleModel",
            "description_width": "",
            "_view_module": "@jupyter-widgets/base",
            "_model_module_version": "1.5.0",
            "_view_count": null,
            "_view_module_version": "1.2.0",
            "_model_module": "@jupyter-widgets/controls"
          }
        },
        "9cd4dae4f28e406990c36e0dd80854a7": {
          "model_module": "@jupyter-widgets/base",
          "model_name": "LayoutModel",
          "model_module_version": "1.2.0",
          "state": {
            "_view_name": "LayoutView",
            "grid_template_rows": null,
            "right": null,
            "justify_content": null,
            "_view_module": "@jupyter-widgets/base",
            "overflow": null,
            "_model_module_version": "1.2.0",
            "_view_count": null,
            "flex_flow": null,
            "width": null,
            "min_width": null,
            "border": null,
            "align_items": null,
            "bottom": null,
            "_model_module": "@jupyter-widgets/base",
            "top": null,
            "grid_column": null,
            "overflow_y": null,
            "overflow_x": null,
            "grid_auto_flow": null,
            "grid_area": null,
            "grid_template_columns": null,
            "flex": null,
            "_model_name": "LayoutModel",
            "justify_items": null,
            "grid_row": null,
            "max_height": null,
            "align_content": null,
            "visibility": null,
            "align_self": null,
            "height": null,
            "min_height": null,
            "padding": null,
            "grid_auto_rows": null,
            "grid_gap": null,
            "max_width": null,
            "order": null,
            "_view_module_version": "1.2.0",
            "grid_template_areas": null,
            "object_position": null,
            "object_fit": null,
            "grid_auto_columns": null,
            "margin": null,
            "display": null,
            "left": null
          }
        },
        "8bd904d46f80470da6174c3b0479b634": {
          "model_module": "@jupyter-widgets/controls",
          "model_name": "ProgressStyleModel",
          "model_module_version": "1.5.0",
          "state": {
            "_view_name": "StyleView",
            "_model_name": "ProgressStyleModel",
            "description_width": "",
            "_view_module": "@jupyter-widgets/base",
            "_model_module_version": "1.5.0",
            "_view_count": null,
            "_view_module_version": "1.2.0",
            "bar_color": null,
            "_model_module": "@jupyter-widgets/controls"
          }
        },
        "5cfd7184817041fcb1e71e1cdc69ed00": {
          "model_module": "@jupyter-widgets/base",
          "model_name": "LayoutModel",
          "model_module_version": "1.2.0",
          "state": {
            "_view_name": "LayoutView",
            "grid_template_rows": null,
            "right": null,
            "justify_content": null,
            "_view_module": "@jupyter-widgets/base",
            "overflow": null,
            "_model_module_version": "1.2.0",
            "_view_count": null,
            "flex_flow": null,
            "width": null,
            "min_width": null,
            "border": null,
            "align_items": null,
            "bottom": null,
            "_model_module": "@jupyter-widgets/base",
            "top": null,
            "grid_column": null,
            "overflow_y": null,
            "overflow_x": null,
            "grid_auto_flow": null,
            "grid_area": null,
            "grid_template_columns": null,
            "flex": null,
            "_model_name": "LayoutModel",
            "justify_items": null,
            "grid_row": null,
            "max_height": null,
            "align_content": null,
            "visibility": null,
            "align_self": null,
            "height": null,
            "min_height": null,
            "padding": null,
            "grid_auto_rows": null,
            "grid_gap": null,
            "max_width": null,
            "order": null,
            "_view_module_version": "1.2.0",
            "grid_template_areas": null,
            "object_position": null,
            "object_fit": null,
            "grid_auto_columns": null,
            "margin": null,
            "display": null,
            "left": null
          }
        },
        "9db5319f359349a8b1013e3f1ae29d58": {
          "model_module": "@jupyter-widgets/controls",
          "model_name": "DescriptionStyleModel",
          "model_module_version": "1.5.0",
          "state": {
            "_view_name": "StyleView",
            "_model_name": "DescriptionStyleModel",
            "description_width": "",
            "_view_module": "@jupyter-widgets/base",
            "_model_module_version": "1.5.0",
            "_view_count": null,
            "_view_module_version": "1.2.0",
            "_model_module": "@jupyter-widgets/controls"
          }
        },
        "156d9c50a5944b4a8108ac1f5dcb77f1": {
          "model_module": "@jupyter-widgets/base",
          "model_name": "LayoutModel",
          "model_module_version": "1.2.0",
          "state": {
            "_view_name": "LayoutView",
            "grid_template_rows": null,
            "right": null,
            "justify_content": null,
            "_view_module": "@jupyter-widgets/base",
            "overflow": null,
            "_model_module_version": "1.2.0",
            "_view_count": null,
            "flex_flow": null,
            "width": null,
            "min_width": null,
            "border": null,
            "align_items": null,
            "bottom": null,
            "_model_module": "@jupyter-widgets/base",
            "top": null,
            "grid_column": null,
            "overflow_y": null,
            "overflow_x": null,
            "grid_auto_flow": null,
            "grid_area": null,
            "grid_template_columns": null,
            "flex": null,
            "_model_name": "LayoutModel",
            "justify_items": null,
            "grid_row": null,
            "max_height": null,
            "align_content": null,
            "visibility": null,
            "align_self": null,
            "height": null,
            "min_height": null,
            "padding": null,
            "grid_auto_rows": null,
            "grid_gap": null,
            "max_width": null,
            "order": null,
            "_view_module_version": "1.2.0",
            "grid_template_areas": null,
            "object_position": null,
            "object_fit": null,
            "grid_auto_columns": null,
            "margin": null,
            "display": null,
            "left": null
          }
        }
      }
    }
  },
  "cells": [
    {
      "cell_type": "markdown",
      "metadata": {
        "id": "view-in-github",
        "colab_type": "text"
      },
      "source": [
        "<a href=\"https://colab.research.google.com/github/superbunny38/2021DeepLearning/blob/main/pytorch/Chap_8_(3)_DenseNet.ipynb\" target=\"_parent\"><img src=\"https://colab.research.google.com/assets/colab-badge.svg\" alt=\"Open In Colab\"/></a>"
      ]
    },
    {
      "cell_type": "code",
      "execution_count": 1,
      "metadata": {
        "id": "YeN8KtYU2_l7"
      },
      "outputs": [],
      "source": [
        "import pandas as pd\n",
        "from glob import glob\n",
        "import os\n",
        "from shutil import copyfile\n",
        "from torch.utils.data import Dataset\n",
        "from PIL import Image\n",
        "import numpy as np\n",
        "from numpy.random import permutation\n",
        "import matplotlib.pyplot as plt\n",
        "\n",
        "from torchvision import transforms\n",
        "from torchvision.datasets import ImageFolder\n",
        "from torchvision.models import resnet18,resnet34\n",
        "from torchvision.models.inception import inception_v3\n",
        "from torchvision.models import densenet121\n",
        "from torch.utils.data import DataLoader\n",
        "from torch.autograd import Variable\n",
        "import torch\n",
        "import torch.nn as nn\n",
        "import torch.optim as optim\n",
        "import torch.nn.functional as F\n",
        "\n",
        "%matplotlib inline"
      ]
    },
    {
      "cell_type": "code",
      "source": [
        "is_cuda = torch.cuda.is_available()\n",
        "print(is_cuda)\n",
        "print(torch.cuda.memory_allocated())\n",
        "torch.cuda.empty_cache()"
      ],
      "metadata": {
        "id": "YpNYxz9W3HU7",
        "colab": {
          "base_uri": "https://localhost:8080/"
        },
        "outputId": "eb4b7ced-5daf-43e0-b6a8-e1e4054023ad"
      },
      "execution_count": 2,
      "outputs": [
        {
          "output_type": "stream",
          "name": "stdout",
          "text": [
            "True\n",
            "0\n"
          ]
        }
      ]
    },
    {
      "cell_type": "code",
      "source": [
        "def imshow(inp,cmap=None):\n",
        "    \"\"\"Imshow for Tensor.\"\"\"\n",
        "    inp = inp.numpy().transpose((1, 2, 0))\n",
        "    mean = np.array([0.485, 0.456, 0.406])\n",
        "    std = np.array([0.229, 0.224, 0.225])\n",
        "    inp = std * inp + mean\n",
        "    inp = np.clip(inp, 0, 1)\n",
        "    plt.imshow(inp,cmap)\n",
        "    \n",
        "class FeaturesDataset(Dataset):\n",
        "    \n",
        "    def __init__(self,featlst,labellst):\n",
        "        self.featlst = featlst\n",
        "        self.labellst = labellst\n",
        "        \n",
        "    def __getitem__(self,index):\n",
        "        return (self.featlst[index],self.labellst[index])\n",
        "    \n",
        "    def __len__(self):\n",
        "        return len(self.labellst)\n",
        "    \n",
        "def fit(epoch,model,data_loader,phase='training',volatile=False):\n",
        "    if phase == 'training':\n",
        "        model.train()\n",
        "    if phase == 'validation':\n",
        "        model.eval()\n",
        "        volatile=True\n",
        "    running_loss = 0.0\n",
        "    running_correct = 0\n",
        "    for batch_idx , (data,target) in enumerate(data_loader):\n",
        "        if is_cuda:\n",
        "            data,target = data.cuda(),target.cuda()\n",
        "        data , target = Variable(data,volatile),Variable(target)\n",
        "        if phase == 'training':\n",
        "            optimizer.zero_grad()\n",
        "        output = model(data)\n",
        "        loss = F.cross_entropy(output,target)\n",
        "        \n",
        "        running_loss += F.cross_entropy(output,target,size_average=False).data\n",
        "        preds = output.data.max(dim=1,keepdim=True)[1]\n",
        "        running_correct += preds.eq(target.data.view_as(preds)).cpu().sum()\n",
        "        if phase == 'training':\n",
        "            loss.backward()\n",
        "            optimizer.step()\n",
        "    \n",
        "    loss = running_loss/len(data_loader.dataset)\n",
        "    accuracy = 100. * running_correct/len(data_loader.dataset)\n",
        "    \n",
        "    print(f'{phase} loss is {loss} and {phase} accuracy is {running_correct}/{len(data_loader.dataset)}{accuracy}')\n",
        "    return loss,accuracy"
      ],
      "metadata": {
        "id": "3TsCeY1A3aDA"
      },
      "execution_count": 24,
      "outputs": []
    },
    {
      "cell_type": "code",
      "source": [
        "data_transform = transforms.Compose([\n",
        "        transforms.Resize((299,299)),\n",
        "        transforms.ToTensor(),\n",
        "        transforms.Normalize([0.485, 0.456, 0.406], [0.229, 0.224, 0.225])\n",
        "    ])"
      ],
      "metadata": {
        "id": "fDqJiGqI3f2x"
      },
      "execution_count": 4,
      "outputs": []
    },
    {
      "cell_type": "code",
      "source": [
        "!git clone https://github.com/ardamavi/Dog-Cat-Classifier repo\n",
        "!mkdir workspace\n",
        "%mv /content/repo/Data/Train_Data /content/workspace\n",
        "%cd workspace"
      ],
      "metadata": {
        "colab": {
          "base_uri": "https://localhost:8080/"
        },
        "id": "502plJ7B3huB",
        "outputId": "8f9324f9-1ea9-4df6-ad57-e27f6ad2be13"
      },
      "execution_count": 5,
      "outputs": [
        {
          "output_type": "stream",
          "name": "stdout",
          "text": [
            "Cloning into 'repo'...\n",
            "remote: Enumerating objects: 1654, done.\u001b[K\n",
            "remote: Total 1654 (delta 0), reused 0 (delta 0), pack-reused 1654\u001b[K\n",
            "Receiving objects: 100% (1654/1654), 34.83 MiB | 14.19 MiB/s, done.\n",
            "Resolving deltas: 100% (147/147), done.\n",
            "/content/workspace\n"
          ]
        }
      ]
    },
    {
      "cell_type": "code",
      "source": [
        "import glob\n",
        "path = \"/content/workspace/Train_Data\"\n",
        "#read all the files inside the folder\n",
        "dog_files = [f for f in glob.glob(\"/content/workspace/Train_Data/dog/*.jpg\")]\n",
        "cat_files = [f for f in glob.glob(\"/content/workspace/Train_Data/cat/*.jpg\")]\n",
        "\n",
        "files = dog_files+cat_files\n",
        "print(f\"Total number of images: {len(files)}\")\n",
        "no_of_images = len(files)\n",
        "shuffle = np.random.permutation(no_of_images)\n",
        "os.mkdir(os.path.join(path, \"train\"))\n",
        "os.mkdir(os.path.join(path, \"valid\"))\n",
        "for t in ['train','valid']:\n",
        "  for folder in ['dog/', 'cat/']:\n",
        "    os.mkdir(os.path.join(path,t,folder))"
      ],
      "metadata": {
        "colab": {
          "base_uri": "https://localhost:8080/"
        },
        "id": "zQNq3Ado3s7P",
        "outputId": "94a28cd9-bd36-4311-9157-36367bfed3d8"
      },
      "execution_count": 7,
      "outputs": [
        {
          "output_type": "stream",
          "name": "stdout",
          "text": [
            "Total number of images: 1399\n"
          ]
        }
      ]
    },
    {
      "cell_type": "code",
      "source": [
        "#검증데이터 넣기\n",
        "for i in shuffle[:250]:#250개\n",
        "  folder = files[i].split(\"/\")[-2].split(\".\")[0]\n",
        "  image = files[i].split('/')[-1]\n",
        "  image = image[4:]\n",
        "  os.rename(files[i], os.path.join(path, 'valid', folder, image))\n",
        "\n",
        "  #학습데이터 넣기\n",
        "for i in shuffle[250:]:\n",
        "  folder = files[i].split(\"/\")[-2].split(\".\")[0]\n",
        "  image = files[i].split('/')[-1]\n",
        "  image = image[4:]\n",
        "  os.rename(files[i], os.path.join(path, 'train', folder, image))"
      ],
      "metadata": {
        "id": "Y34Ey1pX3u9u"
      },
      "execution_count": 8,
      "outputs": []
    },
    {
      "cell_type": "code",
      "source": [
        "from torchvision.datasets import ImageFolder\n",
        "train_dset = ImageFolder(\"/content/workspace/Train_Data/train\", data_transform)\n",
        "val_dset = ImageFolder(\"/content/workspace/Train_Data/valid\", data_transform)\n",
        "classes=2"
      ],
      "metadata": {
        "id": "V-AWGV9p3nT2"
      },
      "execution_count": 12,
      "outputs": []
    },
    {
      "cell_type": "code",
      "source": [
        "train_loader = DataLoader(train_dset,batch_size=32,shuffle=False,num_workers=3)\n",
        "val_loader = DataLoader(val_dset,batch_size=32,shuffle=False,num_workers=3)"
      ],
      "metadata": {
        "colab": {
          "base_uri": "https://localhost:8080/"
        },
        "id": "-smiWG7z3pQt",
        "outputId": "15505063-3b1f-4f48-9d08-3580f8370102"
      },
      "execution_count": 13,
      "outputs": [
        {
          "output_type": "stream",
          "name": "stderr",
          "text": [
            "/usr/local/lib/python3.7/dist-packages/torch/utils/data/dataloader.py:481: UserWarning: This DataLoader will create 3 worker processes in total. Our suggested max number of worker in current system is 2, which is smaller than what this DataLoader is going to create. Please be aware that excessive worker creation might get DataLoader running slow or even freeze, lower the worker number to avoid potential slowness/freeze if necessary.\n",
            "  cpuset_checked))\n"
          ]
        }
      ]
    },
    {
      "cell_type": "markdown",
      "source": [
        "# Creating Densenet 121 model"
      ],
      "metadata": {
        "id": "QiMq-jVV4DCW"
      }
    },
    {
      "cell_type": "code",
      "source": [
        "my_densenet = densenet121(pretrained=True).features\n",
        "if is_cuda:\n",
        "    my_densenet = my_densenet.cuda()\n",
        "\n",
        "for p in my_densenet.parameters():\n",
        "    p.requires_grad = False"
      ],
      "metadata": {
        "colab": {
          "base_uri": "https://localhost:8080/",
          "height": 67,
          "referenced_widgets": [
            "ee113b99645044a6a0ab1dfeee5b294d",
            "59d9e1063c944de2bcb716544fec4d41",
            "e784e1b23b6941449ea4ff08f2a4cc26",
            "ee7b9cca41694c408cb87441f34c4fff",
            "4502aee3215e46d2a757ef4aa17cf5a9",
            "93db46bba1664600a03d9b7a6d4419f5",
            "9cd4dae4f28e406990c36e0dd80854a7",
            "8bd904d46f80470da6174c3b0479b634",
            "5cfd7184817041fcb1e71e1cdc69ed00",
            "9db5319f359349a8b1013e3f1ae29d58",
            "156d9c50a5944b4a8108ac1f5dcb77f1"
          ]
        },
        "id": "nLVRCsk23-Y-",
        "outputId": "7eaaad97-9c5d-4f51-816e-4a6913dd5019"
      },
      "execution_count": 14,
      "outputs": [
        {
          "output_type": "stream",
          "name": "stderr",
          "text": [
            "Downloading: \"https://download.pytorch.org/models/densenet121-a639ec97.pth\" to /root/.cache/torch/hub/checkpoints/densenet121-a639ec97.pth\n"
          ]
        },
        {
          "output_type": "display_data",
          "data": {
            "application/vnd.jupyter.widget-view+json": {
              "model_id": "ee113b99645044a6a0ab1dfeee5b294d",
              "version_minor": 0,
              "version_major": 2
            },
            "text/plain": [
              "  0%|          | 0.00/30.8M [00:00<?, ?B/s]"
            ]
          },
          "metadata": {}
        }
      ]
    },
    {
      "cell_type": "markdown",
      "source": [
        "# Extracting Convolutional features"
      ],
      "metadata": {
        "id": "4Q4BR3qw4Hpc"
      }
    },
    {
      "cell_type": "code",
      "source": [
        "#For training data\n",
        "trn_labels = []\n",
        "trn_features = []\n",
        "\n",
        "#code to store densenet features for train dataset.\n",
        "for d,la in train_loader:\n",
        "    with torch.no_grad(): # To help with memory issues\n",
        "        o = my_densenet(Variable(d.cuda()))\n",
        "        o = o.view(o.size(0),-1)\n",
        "        trn_labels.extend(la.cpu())\n",
        "        trn_features.extend(o.cpu().data)\n",
        "\n",
        "#For validation data\n",
        "val_labels = []\n",
        "val_features = []\n",
        "\n",
        "#Code to store densenet features for validation dataset. \n",
        "for d,la in val_loader:\n",
        "    with torch.no_grad(): # To help with memory issues\n",
        "        o = my_densenet(Variable(d.cuda()))\n",
        "        o = o.view(o.size(0),-1)\n",
        "        val_labels.extend(la.cpu())\n",
        "        val_features.extend(o.cpu().data)"
      ],
      "metadata": {
        "colab": {
          "base_uri": "https://localhost:8080/"
        },
        "id": "tsn90YhY4FIa",
        "outputId": "a1df90a0-9a45-4f37-e1c4-ff7312d10ba9"
      },
      "execution_count": 15,
      "outputs": [
        {
          "output_type": "stream",
          "name": "stderr",
          "text": [
            "/usr/local/lib/python3.7/dist-packages/torch/utils/data/dataloader.py:481: UserWarning: This DataLoader will create 3 worker processes in total. Our suggested max number of worker in current system is 2, which is smaller than what this DataLoader is going to create. Please be aware that excessive worker creation might get DataLoader running slow or even freeze, lower the worker number to avoid potential slowness/freeze if necessary.\n",
            "  cpuset_checked))\n"
          ]
        }
      ]
    },
    {
      "cell_type": "markdown",
      "source": [
        "# Creating train and validation feature dataset\n"
      ],
      "metadata": {
        "id": "FEabe8TJ4MJ4"
      }
    },
    {
      "cell_type": "code",
      "source": [
        "# Create dataset for train and validation convolution features\n",
        "trn_feat_dset = FeaturesDataset(trn_features,trn_labels)\n",
        "val_feat_dset = FeaturesDataset(val_features,val_labels)\n",
        "\n",
        "# Create data loaders for batching the train and validation datasets\n",
        "train_feat_loader = DataLoader(trn_feat_dset,batch_size=64,shuffle=True,drop_last=True)\n",
        "validation_feat_loader = DataLoader(val_feat_dset,batch_size=64)"
      ],
      "metadata": {
        "id": "ENWtfPf44JiI"
      },
      "execution_count": 16,
      "outputs": []
    },
    {
      "cell_type": "markdown",
      "source": [
        "# A Fully connected network"
      ],
      "metadata": {
        "id": "yC9WyI3E4QCs"
      }
    },
    {
      "cell_type": "code",
      "source": [
        "class FullyConnectedModel(nn.Module):\n",
        "    \n",
        "    def __init__(self,input_size,output_size):\n",
        "        super().__init__()\n",
        "        self.fc = nn.Linear(input_size,output_size)\n",
        "\n",
        "    def forward(self,input):\n",
        "        output = self.fc(input)\n",
        "        return output"
      ],
      "metadata": {
        "id": "wIcgE_cs4OIZ"
      },
      "execution_count": 17,
      "outputs": []
    },
    {
      "cell_type": "code",
      "source": [
        "trn_features[0].size(0)"
      ],
      "metadata": {
        "colab": {
          "base_uri": "https://localhost:8080/"
        },
        "id": "Sebhvk0G4SXI",
        "outputId": "7556eaf2-b7ee-4297-e32f-12cde0e3846d"
      },
      "execution_count": 18,
      "outputs": [
        {
          "output_type": "execute_result",
          "data": {
            "text/plain": [
              "82944"
            ]
          },
          "metadata": {},
          "execution_count": 18
        }
      ]
    },
    {
      "cell_type": "code",
      "source": [
        "fc_in_size = trn_features[0].size(0)"
      ],
      "metadata": {
        "id": "shV3ekzk4TwA"
      },
      "execution_count": 19,
      "outputs": []
    },
    {
      "cell_type": "code",
      "source": [
        "fc = FullyConnectedModel(fc_in_size,classes)\n",
        "if is_cuda:\n",
        "    fc = fc.cuda()"
      ],
      "metadata": {
        "id": "hqW0Tdkz4VFp"
      },
      "execution_count": 20,
      "outputs": []
    },
    {
      "cell_type": "code",
      "source": [
        "optimizer = optim.Adam(fc.parameters(),lr=0.0001)"
      ],
      "metadata": {
        "id": "AX64nkfT4Wby"
      },
      "execution_count": 21,
      "outputs": []
    },
    {
      "cell_type": "markdown",
      "source": [
        "# Train"
      ],
      "metadata": {
        "id": "pJiXuXam4Yop"
      }
    },
    {
      "cell_type": "code",
      "source": [
        "train_losses , train_accuracy = [],[]\n",
        "validation_losses , validation_accuracy = [],[]\n",
        "for epoch in range(1,10):\n",
        "    epoch_loss, epoch_accuracy = fit(epoch,fc,train_feat_loader,phase='training')\n",
        "    validation_epoch_loss , validation_epoch_accuracy = fit(epoch,fc,validation_feat_loader,phase='validation')\n",
        "    train_losses.append(epoch_loss)\n",
        "    train_accuracy.append(epoch_accuracy)\n",
        "    validation_losses.append(validation_epoch_loss)\n",
        "    validation_accuracy.append(validation_epoch_accuracy)"
      ],
      "metadata": {
        "colab": {
          "base_uri": "https://localhost:8080/"
        },
        "id": "TgL96RqD4X9H",
        "outputId": "dddfebda-ce19-4f1e-91bd-a357b8d0db5a"
      },
      "execution_count": 25,
      "outputs": [
        {
          "output_type": "stream",
          "name": "stderr",
          "text": [
            "/usr/local/lib/python3.7/dist-packages/torch/nn/_reduction.py:42: UserWarning: size_average and reduce args will be deprecated, please use reduction='sum' instead.\n",
            "  warnings.warn(warning.format(ret))\n"
          ]
        },
        {
          "output_type": "stream",
          "name": "stdout",
          "text": [
            "training loss is 0.33469271659851074 and training accuracy is 908/114979.02523803710938\n",
            "validation loss is 0.18179941177368164 and validation accuracy is 229/25091.5999984741211\n",
            "training loss is 0.029531167820096016 and training accuracy is 1085/114994.42993927001953\n",
            "validation loss is 0.1839035600423813 and validation accuracy is 235/25094.0\n",
            "training loss is 0.009118863381445408 and training accuracy is 1088/114994.69103240966797\n",
            "validation loss is 0.15473072230815887 and validation accuracy is 237/25094.80000305175781\n",
            "training loss is 0.005111027508974075 and training accuracy is 1088/114994.69103240966797\n",
            "validation loss is 0.16076406836509705 and validation accuracy is 238/25095.19999694824219\n",
            "training loss is 0.003816070733591914 and training accuracy is 1088/114994.69103240966797\n",
            "validation loss is 0.15830475091934204 and validation accuracy is 237/25094.80000305175781\n",
            "training loss is 0.0030860668048262596 and training accuracy is 1088/114994.69103240966797\n",
            "validation loss is 0.15738733112812042 and validation accuracy is 236/25094.4000015258789\n",
            "training loss is 0.002742023440077901 and training accuracy is 1088/114994.69103240966797\n",
            "validation loss is 0.15856418013572693 and validation accuracy is 236/25094.4000015258789\n",
            "training loss is 0.002397535601630807 and training accuracy is 1088/114994.69103240966797\n",
            "validation loss is 0.15741856396198273 and validation accuracy is 236/25094.4000015258789\n",
            "training loss is 0.002134134992957115 and training accuracy is 1088/114994.69103240966797\n",
            "validation loss is 0.15757271647453308 and validation accuracy is 236/25094.4000015258789\n"
          ]
        }
      ]
    }
  ]
}