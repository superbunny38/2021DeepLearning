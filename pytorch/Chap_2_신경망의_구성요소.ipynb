{
  "nbformat": 4,
  "nbformat_minor": 0,
  "metadata": {
    "colab": {
      "name": "Chap 2 신경망의 구성요소.ipynb",
      "provenance": [],
      "collapsed_sections": [],
      "authorship_tag": "ABX9TyPCo+33cKddV28w54FUTN7i",
      "include_colab_link": true
    },
    "kernelspec": {
      "name": "python3",
      "display_name": "Python 3"
    },
    "language_info": {
      "name": "python"
    }
  },
  "cells": [
    {
      "cell_type": "markdown",
      "metadata": {
        "id": "view-in-github",
        "colab_type": "text"
      },
      "source": [
        "<a href=\"https://colab.research.google.com/github/superbunny38/2021DeepLearning/blob/main/pytorch/Chap_2_%EC%8B%A0%EA%B2%BD%EB%A7%9D%EC%9D%98_%EA%B5%AC%EC%84%B1%EC%9A%94%EC%86%8C.ipynb\" target=\"_parent\"><img src=\"https://colab.research.google.com/assets/colab-badge.svg\" alt=\"Open In Colab\"/></a>"
      ]
    },
    {
      "cell_type": "code",
      "source": [
        "!git clone https://github.com/PacktPublishing/Deep-Learning-with-PyTorch-1.x.git book"
      ],
      "metadata": {
        "colab": {
          "base_uri": "https://localhost:8080/"
        },
        "id": "w5k7-rtNiqu0",
        "outputId": "ab32a100-9a69-41c1-f566-2d2520ae5702"
      },
      "execution_count": 17,
      "outputs": [
        {
          "output_type": "stream",
          "name": "stdout",
          "text": [
            "Cloning into 'book'...\n",
            "remote: Enumerating objects: 28065, done.\u001b[K\n",
            "remote: Total 28065 (delta 0), reused 0 (delta 0), pack-reused 28065\u001b[K\n",
            "Receiving objects: 100% (28065/28065), 132.73 MiB | 27.20 MiB/s, done.\n",
            "Resolving deltas: 100% (15/15), done.\n",
            "Checking out files: 100% (28282/28282), done.\n"
          ]
        }
      ]
    },
    {
      "cell_type": "code",
      "source": [
        "%cd /content/book/Chapter02"
      ],
      "metadata": {
        "colab": {
          "base_uri": "https://localhost:8080/"
        },
        "id": "gjP8tXKJis6W",
        "outputId": "2044f1ac-ab55-4efa-ff4e-dd25e5c85709"
      },
      "execution_count": 18,
      "outputs": [
        {
          "output_type": "stream",
          "name": "stdout",
          "text": [
            "/content/book/Chapter02\n"
          ]
        }
      ]
    },
    {
      "cell_type": "markdown",
      "source": [
        "파이토치 텐서 (1차원)"
      ],
      "metadata": {
        "id": "aH0eMJvTA6bx"
      }
    },
    {
      "cell_type": "code",
      "source": [
        "import torch\n",
        "first_order_tensor = torch.tensor([1,2,3])\n",
        "print(first_order_tensor)"
      ],
      "metadata": {
        "colab": {
          "base_uri": "https://localhost:8080/"
        },
        "id": "1QzghR45A9tW",
        "outputId": "6c9dd79b-bb92-4f8f-d7b0-3c76605af5c6"
      },
      "execution_count": 1,
      "outputs": [
        {
          "output_type": "stream",
          "name": "stdout",
          "text": [
            "tensor([1, 2, 3])\n"
          ]
        }
      ]
    },
    {
      "cell_type": "code",
      "source": [
        "first_order_tensor[0]"
      ],
      "metadata": {
        "colab": {
          "base_uri": "https://localhost:8080/"
        },
        "id": "y-oNdiSdBC9q",
        "outputId": "af09f348-6867-467e-ae8e-bbbd97c3ec8c"
      },
      "execution_count": 2,
      "outputs": [
        {
          "output_type": "execute_result",
          "data": {
            "text/plain": [
              "tensor(1)"
            ]
          },
          "metadata": {},
          "execution_count": 2
        }
      ]
    },
    {
      "cell_type": "code",
      "source": [
        "first_order_tensor[0:2]"
      ],
      "metadata": {
        "colab": {
          "base_uri": "https://localhost:8080/"
        },
        "id": "C9d4h8_PBF9Z",
        "outputId": "de242e54-7301-4c99-ffa1-8a1d2a305615"
      },
      "execution_count": 3,
      "outputs": [
        {
          "output_type": "execute_result",
          "data": {
            "text/plain": [
              "tensor([1, 2])"
            ]
          },
          "metadata": {},
          "execution_count": 3
        }
      ]
    },
    {
      "cell_type": "markdown",
      "source": [
        "2차원"
      ],
      "metadata": {
        "id": "i_JoR5qZBooX"
      }
    },
    {
      "cell_type": "code",
      "source": [
        "second_order_tensor = torch.tensor([[11,12,13],[21,22,23]])"
      ],
      "metadata": {
        "id": "7nZxWTeXBKNj"
      },
      "execution_count": 4,
      "outputs": []
    },
    {
      "cell_type": "code",
      "source": [
        "second_order_tensor"
      ],
      "metadata": {
        "colab": {
          "base_uri": "https://localhost:8080/"
        },
        "id": "7xq8Q8tiBuw7",
        "outputId": "2d0a4ccd-e0ee-473f-a4f8-718975d784c8"
      },
      "execution_count": 5,
      "outputs": [
        {
          "output_type": "execute_result",
          "data": {
            "text/plain": [
              "tensor([[11, 12, 13],\n",
              "        [21, 22, 23]])"
            ]
          },
          "metadata": {},
          "execution_count": 5
        }
      ]
    },
    {
      "cell_type": "code",
      "source": [
        "second_order_tensor[0,1]"
      ],
      "metadata": {
        "colab": {
          "base_uri": "https://localhost:8080/"
        },
        "id": "0HXG5vbjBwUB",
        "outputId": "fbe0e7df-619b-488d-dcdc-0272d1afdb11"
      },
      "execution_count": 6,
      "outputs": [
        {
          "output_type": "execute_result",
          "data": {
            "text/plain": [
              "tensor(12)"
            ]
          },
          "metadata": {},
          "execution_count": 6
        }
      ]
    },
    {
      "cell_type": "code",
      "source": [
        "second_order_tensor[:1]"
      ],
      "metadata": {
        "colab": {
          "base_uri": "https://localhost:8080/"
        },
        "id": "jBXTR2e6Byvd",
        "outputId": "3bd1c410-9b33-4172-ffa1-a1303c17f398"
      },
      "execution_count": 8,
      "outputs": [
        {
          "output_type": "execute_result",
          "data": {
            "text/plain": [
              "tensor([[11, 12, 13]])"
            ]
          },
          "metadata": {},
          "execution_count": 8
        }
      ]
    },
    {
      "cell_type": "code",
      "source": [
        "second_order_tensor[1:]"
      ],
      "metadata": {
        "colab": {
          "base_uri": "https://localhost:8080/"
        },
        "id": "QVkHkJWRB3oX",
        "outputId": "a85deb1f-13b3-43b6-8681-fcaaa0d94d9b"
      },
      "execution_count": 13,
      "outputs": [
        {
          "output_type": "execute_result",
          "data": {
            "text/plain": [
              "tensor([[21, 22, 23]])"
            ]
          },
          "metadata": {},
          "execution_count": 13
        }
      ]
    },
    {
      "cell_type": "code",
      "source": [
        "second_order_tensor[:][:1]"
      ],
      "metadata": {
        "colab": {
          "base_uri": "https://localhost:8080/"
        },
        "id": "TI9dRK_dB6m2",
        "outputId": "df9b7efe-7238-4f0e-bf77-09e3551a9a9e"
      },
      "execution_count": 14,
      "outputs": [
        {
          "output_type": "execute_result",
          "data": {
            "text/plain": [
              "tensor([[11, 12, 13]])"
            ]
          },
          "metadata": {},
          "execution_count": 14
        }
      ]
    },
    {
      "cell_type": "markdown",
      "source": [
        "4차원 텐서"
      ],
      "metadata": {
        "id": "DGAOovyiChHB"
      }
    },
    {
      "cell_type": "markdown",
      "source": [
        "random"
      ],
      "metadata": {
        "id": "PMLJEb2pg7um"
      }
    },
    {
      "cell_type": "code",
      "source": [
        "random_tensor = torch.rand([9,1])\n",
        "random_tensor"
      ],
      "metadata": {
        "colab": {
          "base_uri": "https://localhost:8080/"
        },
        "id": "arg5llWHCLFg",
        "outputId": "dc0c074a-8ba4-4629-d079-4cfaad000a6e"
      },
      "execution_count": 68,
      "outputs": [
        {
          "output_type": "execute_result",
          "data": {
            "text/plain": [
              "tensor([[0.4683],\n",
              "        [0.2993],\n",
              "        [0.9436],\n",
              "        [0.9728],\n",
              "        [0.8667],\n",
              "        [0.5587],\n",
              "        [0.2038],\n",
              "        [0.1235],\n",
              "        [0.1745]])"
            ]
          },
          "metadata": {},
          "execution_count": 68
        }
      ]
    },
    {
      "cell_type": "code",
      "source": [
        "random_tensor.view(-1)"
      ],
      "metadata": {
        "colab": {
          "base_uri": "https://localhost:8080/"
        },
        "id": "KLKcPpyEnxFn",
        "outputId": "c90dc946-e124-440c-fcbc-30fc1214ecf5"
      },
      "execution_count": 71,
      "outputs": [
        {
          "output_type": "execute_result",
          "data": {
            "text/plain": [
              "tensor([0.4683, 0.2993, 0.9436, 0.9728, 0.8667, 0.5587, 0.2038, 0.1235, 0.1745])"
            ]
          },
          "metadata": {},
          "execution_count": 71
        }
      ]
    },
    {
      "cell_type": "markdown",
      "source": [
        "기본 연산"
      ],
      "metadata": {
        "id": "eTeVAJfHhNoT"
      }
    },
    {
      "cell_type": "code",
      "source": [
        "x = torch.tensor([5,3])\n",
        "y = torch.tensor([3,2])\n"
      ],
      "metadata": {
        "id": "nb2XAQ9QhFcT"
      },
      "execution_count": 5,
      "outputs": []
    },
    {
      "cell_type": "code",
      "source": [
        "x+y"
      ],
      "metadata": {
        "colab": {
          "base_uri": "https://localhost:8080/"
        },
        "id": "VaR9uDHIhRs-",
        "outputId": "5f897d82-a279-484c-baab-0ea028fdac42"
      },
      "execution_count": 6,
      "outputs": [
        {
          "output_type": "execute_result",
          "data": {
            "text/plain": [
              "tensor([8, 5])"
            ]
          },
          "metadata": {},
          "execution_count": 6
        }
      ]
    },
    {
      "cell_type": "code",
      "source": [
        "torch.add(x,y)"
      ],
      "metadata": {
        "colab": {
          "base_uri": "https://localhost:8080/"
        },
        "id": "xmLVGnMThSQg",
        "outputId": "260ac6a0-f33d-4853-d503-4081cb81de31"
      },
      "execution_count": 8,
      "outputs": [
        {
          "output_type": "execute_result",
          "data": {
            "text/plain": [
              "tensor([8, 5])"
            ]
          },
          "metadata": {},
          "execution_count": 8
        }
      ]
    },
    {
      "cell_type": "code",
      "source": [
        "x*y"
      ],
      "metadata": {
        "colab": {
          "base_uri": "https://localhost:8080/"
        },
        "id": "GCpDm4IrhTxW",
        "outputId": "790020f3-e4f0-46db-f2b4-65e10fa14e7e"
      },
      "execution_count": 9,
      "outputs": [
        {
          "output_type": "execute_result",
          "data": {
            "text/plain": [
              "tensor([15,  6])"
            ]
          },
          "metadata": {},
          "execution_count": 9
        }
      ]
    },
    {
      "cell_type": "code",
      "source": [
        "torch.mul(x,y)"
      ],
      "metadata": {
        "colab": {
          "base_uri": "https://localhost:8080/"
        },
        "id": "Nvw_qy4ZhWsS",
        "outputId": "c5728717-d275-4cf9-f103-f2b6a2b6037d"
      },
      "execution_count": 10,
      "outputs": [
        {
          "output_type": "execute_result",
          "data": {
            "text/plain": [
              "tensor([15,  6])"
            ]
          },
          "metadata": {},
          "execution_count": 10
        }
      ]
    },
    {
      "cell_type": "code",
      "source": [
        "x@y"
      ],
      "metadata": {
        "colab": {
          "base_uri": "https://localhost:8080/"
        },
        "id": "7bpcjadPhYBC",
        "outputId": "a6ab20ec-3f20-4410-884a-318cda7e7e70"
      },
      "execution_count": 11,
      "outputs": [
        {
          "output_type": "execute_result",
          "data": {
            "text/plain": [
              "tensor(21)"
            ]
          },
          "metadata": {},
          "execution_count": 11
        }
      ]
    },
    {
      "cell_type": "code",
      "source": [
        "torch.matmul(x,y)"
      ],
      "metadata": {
        "colab": {
          "base_uri": "https://localhost:8080/"
        },
        "id": "lHwtN62EhYqL",
        "outputId": "9964fd3e-9e0c-49be-9ba9-2993cfe70464"
      },
      "execution_count": 12,
      "outputs": [
        {
          "output_type": "execute_result",
          "data": {
            "text/plain": [
              "tensor(21)"
            ]
          },
          "metadata": {},
          "execution_count": 12
        }
      ]
    },
    {
      "cell_type": "code",
      "source": [
        "x.dtype"
      ],
      "metadata": {
        "colab": {
          "base_uri": "https://localhost:8080/"
        },
        "id": "UNVEKOSVhejN",
        "outputId": "3948c859-8ace-4e7e-d213-01cf63b55bd0"
      },
      "execution_count": 13,
      "outputs": [
        {
          "output_type": "execute_result",
          "data": {
            "text/plain": [
              "torch.int64"
            ]
          },
          "metadata": {},
          "execution_count": 13
        }
      ]
    },
    {
      "cell_type": "code",
      "source": [
        "y.dtype"
      ],
      "metadata": {
        "colab": {
          "base_uri": "https://localhost:8080/"
        },
        "id": "tC0yk3y3hjW5",
        "outputId": "863e2896-6ecc-4967-cd0f-fff7dd5daf42"
      },
      "execution_count": 14,
      "outputs": [
        {
          "output_type": "execute_result",
          "data": {
            "text/plain": [
              "torch.int64"
            ]
          },
          "metadata": {},
          "execution_count": 14
        }
      ]
    },
    {
      "cell_type": "code",
      "source": [
        "torch.FloatTensor([5,3])"
      ],
      "metadata": {
        "colab": {
          "base_uri": "https://localhost:8080/"
        },
        "id": "jrI08HRPhj8-",
        "outputId": "fe0c2565-ba46-48bc-e595-3e194cbcb7f5"
      },
      "execution_count": 15,
      "outputs": [
        {
          "output_type": "execute_result",
          "data": {
            "text/plain": [
              "tensor([5., 3.])"
            ]
          },
          "metadata": {},
          "execution_count": 15
        }
      ]
    },
    {
      "cell_type": "code",
      "source": [
        "x.type(torch.DoubleTensor)"
      ],
      "metadata": {
        "colab": {
          "base_uri": "https://localhost:8080/"
        },
        "id": "rJrjeIIrh9np",
        "outputId": "e97da7a9-ac29-48ac-e71f-784d7db7c443"
      },
      "execution_count": 16,
      "outputs": [
        {
          "output_type": "execute_result",
          "data": {
            "text/plain": [
              "tensor([5., 3.], dtype=torch.float64)"
            ]
          },
          "metadata": {},
          "execution_count": 16
        }
      ]
    },
    {
      "cell_type": "markdown",
      "source": [
        "## 파이토치 텐서로 데이터셋 가져오기"
      ],
      "metadata": {
        "id": "T2tSnOllihwB"
      }
    },
    {
      "cell_type": "code",
      "source": [
        "import numpy as np\n",
        "admit_data = np.genfromtxt(\"admit_status.csv\",\n",
        "                           delimiter = \",\",\n",
        "                           skip_header = 1)\n",
        "print(admit_data)"
      ],
      "metadata": {
        "colab": {
          "base_uri": "https://localhost:8080/"
        },
        "id": "Ea8hMTrYiBY0",
        "outputId": "43fa01ed-0e54-4944-c8c0-0c1379c8bb23"
      },
      "execution_count": 74,
      "outputs": [
        {
          "output_type": "stream",
          "name": "stdout",
          "text": [
            "[[  0.   380.     3.61   3.  ]\n",
            " [  1.   660.     3.67   3.  ]\n",
            " [  1.   800.     4.     1.  ]\n",
            " [  1.   640.     3.19   4.  ]\n",
            " [  0.   520.     2.93   4.  ]\n",
            " [  1.   760.     3.     2.  ]\n",
            " [  1.   560.     2.98   1.  ]\n",
            " [  0.   400.     3.08   2.  ]\n",
            " [  1.   540.     3.39   3.  ]]\n"
          ]
        }
      ]
    },
    {
      "cell_type": "code",
      "source": [
        "admit_tensor = torch.from_numpy(admit_data)"
      ],
      "metadata": {
        "id": "xOZ4C1t1jC88"
      },
      "execution_count": 75,
      "outputs": []
    },
    {
      "cell_type": "code",
      "source": [
        "admit_tensor"
      ],
      "metadata": {
        "colab": {
          "base_uri": "https://localhost:8080/"
        },
        "id": "Q5Ff1aRijIf_",
        "outputId": "d7b4049e-bfbe-44c0-f99b-5fa1b1aac559"
      },
      "execution_count": 76,
      "outputs": [
        {
          "output_type": "execute_result",
          "data": {
            "text/plain": [
              "tensor([[  0.0000, 380.0000,   3.6100,   3.0000],\n",
              "        [  1.0000, 660.0000,   3.6700,   3.0000],\n",
              "        [  1.0000, 800.0000,   4.0000,   1.0000],\n",
              "        [  1.0000, 640.0000,   3.1900,   4.0000],\n",
              "        [  0.0000, 520.0000,   2.9300,   4.0000],\n",
              "        [  1.0000, 760.0000,   3.0000,   2.0000],\n",
              "        [  1.0000, 560.0000,   2.9800,   1.0000],\n",
              "        [  0.0000, 400.0000,   3.0800,   2.0000],\n",
              "        [  1.0000, 540.0000,   3.3900,   3.0000]], dtype=torch.float64)"
            ]
          },
          "metadata": {},
          "execution_count": 76
        }
      ]
    },
    {
      "cell_type": "code",
      "source": [
        "import torch\n",
        "import torch.nn as nn\n",
        "import torch.nn.functional as F\n",
        "class MyNeuralNet(nn.Module):\n",
        "    def __init__(self, input_size, n_nodes, output_size):\n",
        "        super(MyNeuralNet, self).__init__()\n",
        "        self.operationOne = nn.Linear(input_size, n_nodes)\n",
        "        self.operationTwo = nn.Linear(n_nodes, output_size)\n",
        "    def forward(self, x):\n",
        "        x = F.relu(self.operationOne(x))\n",
        "        x = self.operationTwo(x)\n",
        "        x = F.sigmoid(x)\n",
        "        #x = x.view(-1)#이러면 되나\n",
        "        return x"
      ],
      "metadata": {
        "id": "_szwvqIOjJat"
      },
      "execution_count": 91,
      "outputs": []
    },
    {
      "cell_type": "code",
      "source": [
        "my_network = MyNeuralNet(input_size = 3, n_nodes = 2, output_size = 1)"
      ],
      "metadata": {
        "id": "MZKunGdfkj70"
      },
      "execution_count": 78,
      "outputs": []
    },
    {
      "cell_type": "markdown",
      "source": [
        "훈련 데이터셋과 테스트 데이터셋으로 나누기"
      ],
      "metadata": {
        "id": "uE7xsH_1jtwM"
      }
    },
    {
      "cell_type": "code",
      "source": [
        "x_train = admit_tensor[:300, 1:].float()\n",
        "y_train = admit_tensor[:300, 0].float()\n",
        "x_test = admit_tensor[300:, 1:].float()\n",
        "y_test = admit_tensor[300:, 0].float()"
      ],
      "metadata": {
        "id": "duKgOZQojpZl"
      },
      "execution_count": 79,
      "outputs": []
    },
    {
      "cell_type": "code",
      "source": [
        "#2진 분류에 사용되는 binary cross-entropy loss\n",
        "criterion = nn.BCELoss()"
      ],
      "metadata": {
        "id": "Kndg9hmJj4_R"
      },
      "execution_count": 80,
      "outputs": []
    },
    {
      "cell_type": "code",
      "source": [
        "my_network.parameters()"
      ],
      "metadata": {
        "colab": {
          "base_uri": "https://localhost:8080/"
        },
        "id": "QJZQwvDVklhG",
        "outputId": "baac1aa2-d15a-437a-a26c-1a1bb296ed68"
      },
      "execution_count": 81,
      "outputs": [
        {
          "output_type": "execute_result",
          "data": {
            "text/plain": [
              "<generator object Module.parameters at 0x7fc198777c50>"
            ]
          },
          "metadata": {},
          "execution_count": 81
        }
      ]
    },
    {
      "cell_type": "code",
      "source": [
        "optimizer = torch.optim.SGD(my_network.parameters(), lr = 0.01)"
      ],
      "metadata": {
        "id": "ayRTsXwRj_Wi"
      },
      "execution_count": 82,
      "outputs": []
    },
    {
      "cell_type": "code",
      "source": [
        "for epoch in range(100):\n",
        "  #Forward Propagation\n",
        "  y_pred = my_network(x_train)\n",
        "\n",
        "  #Compute and print loss\n",
        "  loss_score = criterion(y_pred, y_train)\n",
        "  print(\"epoch: \",epoch, \"loss: \",loss_score.item())\n",
        "\n",
        "  #zero the gradients(refresh)\n",
        "  optimizer.zero_grad()\n",
        "  \n",
        "  #perform a backward pass(backpropagation)\n",
        "  loss_score.backward()\n",
        "\n",
        "  #update parameters\n",
        "  optimizer.step()"
      ],
      "metadata": {
        "colab": {
          "base_uri": "https://localhost:8080/"
        },
        "id": "jEixELNYkr34",
        "outputId": "caf4250d-accb-4e17-c6b2-3042ce9c8928"
      },
      "execution_count": 92,
      "outputs": [
        {
          "output_type": "stream",
          "name": "stderr",
          "text": [
            "/usr/local/lib/python3.7/dist-packages/torch/nn/functional.py:1806: UserWarning: nn.functional.sigmoid is deprecated. Use torch.sigmoid instead.\n",
            "  warnings.warn(\"nn.functional.sigmoid is deprecated. Use torch.sigmoid instead.\")\n"
          ]
        },
        {
          "output_type": "stream",
          "name": "stdout",
          "text": [
            "epoch:  0 loss:  35.53474807739258\n",
            "epoch:  1 loss:  35.53474807739258\n",
            "epoch:  2 loss:  35.53474426269531\n",
            "epoch:  3 loss:  35.534732818603516\n",
            "epoch:  4 loss:  35.534725189208984\n",
            "epoch:  5 loss:  35.534725189208984\n",
            "epoch:  6 loss:  35.53471374511719\n",
            "epoch:  7 loss:  35.53471374511719\n",
            "epoch:  8 loss:  35.534706115722656\n",
            "epoch:  9 loss:  35.534706115722656\n",
            "epoch:  10 loss:  35.53469467163086\n",
            "epoch:  11 loss:  35.53468322753906\n",
            "epoch:  12 loss:  35.53468322753906\n",
            "epoch:  13 loss:  35.5346794128418\n",
            "epoch:  14 loss:  35.534671783447266\n",
            "epoch:  15 loss:  35.53466796875\n",
            "epoch:  16 loss:  35.53466033935547\n",
            "epoch:  17 loss:  35.53465270996094\n",
            "epoch:  18 loss:  35.53465270996094\n",
            "epoch:  19 loss:  35.53464889526367\n",
            "epoch:  20 loss:  35.534637451171875\n",
            "epoch:  21 loss:  35.53463363647461\n",
            "epoch:  22 loss:  35.534629821777344\n",
            "epoch:  23 loss:  35.53462219238281\n",
            "epoch:  24 loss:  35.53461456298828\n",
            "epoch:  25 loss:  35.534610748291016\n",
            "epoch:  26 loss:  35.534603118896484\n",
            "epoch:  27 loss:  35.53459930419922\n",
            "epoch:  28 loss:  35.53459167480469\n",
            "epoch:  29 loss:  35.53458786010742\n",
            "epoch:  30 loss:  35.534584045410156\n",
            "epoch:  31 loss:  35.53458023071289\n",
            "epoch:  32 loss:  35.534568786621094\n",
            "epoch:  33 loss:  35.53456115722656\n",
            "epoch:  34 loss:  35.53456115722656\n",
            "epoch:  35 loss:  35.5345573425293\n",
            "epoch:  36 loss:  35.534549713134766\n",
            "epoch:  37 loss:  35.534542083740234\n",
            "epoch:  38 loss:  35.5345344543457\n",
            "epoch:  39 loss:  35.53453063964844\n",
            "epoch:  40 loss:  35.53452682495117\n",
            "epoch:  41 loss:  35.53451919555664\n",
            "epoch:  42 loss:  35.534515380859375\n",
            "epoch:  43 loss:  35.534507751464844\n",
            "epoch:  44 loss:  35.53450393676758\n",
            "epoch:  45 loss:  35.53450012207031\n",
            "epoch:  46 loss:  35.534488677978516\n",
            "epoch:  47 loss:  35.534488677978516\n",
            "epoch:  48 loss:  35.534481048583984\n",
            "epoch:  49 loss:  35.53447723388672\n",
            "epoch:  50 loss:  35.53446960449219\n",
            "epoch:  51 loss:  35.53446578979492\n",
            "epoch:  52 loss:  35.53445816040039\n",
            "epoch:  53 loss:  35.534454345703125\n",
            "epoch:  54 loss:  35.534446716308594\n",
            "epoch:  55 loss:  35.53443908691406\n",
            "epoch:  56 loss:  35.53443908691406\n",
            "epoch:  57 loss:  35.5344352722168\n",
            "epoch:  58 loss:  35.534423828125\n",
            "epoch:  59 loss:  35.534420013427734\n",
            "epoch:  60 loss:  35.53441619873047\n",
            "epoch:  61 loss:  35.53440856933594\n",
            "epoch:  62 loss:  35.53440475463867\n",
            "epoch:  63 loss:  35.534393310546875\n",
            "epoch:  64 loss:  35.534393310546875\n",
            "epoch:  65 loss:  35.534385681152344\n",
            "epoch:  66 loss:  35.53437805175781\n",
            "epoch:  67 loss:  35.53437423706055\n",
            "epoch:  68 loss:  35.53437042236328\n",
            "epoch:  69 loss:  35.53436279296875\n",
            "epoch:  70 loss:  35.53435516357422\n",
            "epoch:  71 loss:  35.53435134887695\n",
            "epoch:  72 loss:  35.53434753417969\n",
            "epoch:  73 loss:  35.53434371948242\n",
            "epoch:  74 loss:  35.53433609008789\n",
            "epoch:  75 loss:  35.53432846069336\n",
            "epoch:  76 loss:  35.53432083129883\n",
            "epoch:  77 loss:  35.53431701660156\n",
            "epoch:  78 loss:  35.53431701660156\n",
            "epoch:  79 loss:  35.53430938720703\n",
            "epoch:  80 loss:  35.5343017578125\n",
            "epoch:  81 loss:  35.53429412841797\n",
            "epoch:  82 loss:  35.53428649902344\n",
            "epoch:  83 loss:  35.53428268432617\n",
            "epoch:  84 loss:  35.53427505493164\n",
            "epoch:  85 loss:  35.534271240234375\n",
            "epoch:  86 loss:  35.53426742553711\n",
            "epoch:  87 loss:  35.53425979614258\n",
            "epoch:  88 loss:  35.53425598144531\n",
            "epoch:  89 loss:  35.53424835205078\n",
            "epoch:  90 loss:  35.534244537353516\n",
            "epoch:  91 loss:  35.53424072265625\n",
            "epoch:  92 loss:  35.53423309326172\n",
            "epoch:  93 loss:  35.53422546386719\n",
            "epoch:  94 loss:  35.53422164916992\n",
            "epoch:  95 loss:  35.534217834472656\n",
            "epoch:  96 loss:  35.53421401977539\n",
            "epoch:  97 loss:  35.534202575683594\n",
            "epoch:  98 loss:  35.534202575683594\n",
            "epoch:  99 loss:  35.53419494628906\n"
          ]
        }
      ]
    },
    {
      "cell_type": "markdown",
      "source": [
        "원래 학습 안되는게 정상"
      ],
      "metadata": {
        "id": "-e6QGf0fobaB"
      }
    },
    {
      "cell_type": "code",
      "source": [
        "import numpy as np\n",
        "admit_data = np.genfromtxt('admit_status.csv', delimiter = ',', skip_header = 1)\n",
        "print(admit_data)"
      ],
      "metadata": {
        "colab": {
          "base_uri": "https://localhost:8080/"
        },
        "id": "vV84fWYMoJAP",
        "outputId": "f281e9d4-c12b-4860-ff09-80580f9b4b08"
      },
      "execution_count": 85,
      "outputs": [
        {
          "output_type": "stream",
          "name": "stdout",
          "text": [
            "[[  0.   380.     3.61   3.  ]\n",
            " [  1.   660.     3.67   3.  ]\n",
            " [  1.   800.     4.     1.  ]\n",
            " [  1.   640.     3.19   4.  ]\n",
            " [  0.   520.     2.93   4.  ]\n",
            " [  1.   760.     3.     2.  ]\n",
            " [  1.   560.     2.98   1.  ]\n",
            " [  0.   400.     3.08   2.  ]\n",
            " [  1.   540.     3.39   3.  ]]\n"
          ]
        }
      ]
    },
    {
      "cell_type": "code",
      "source": [
        "admit_tensor = torch.from_numpy(admit_data)\n",
        "print(admit_tensor)"
      ],
      "metadata": {
        "colab": {
          "base_uri": "https://localhost:8080/"
        },
        "id": "rnOdy9N_oc3p",
        "outputId": "23766e01-5a9b-47c0-b72b-dcebf4cc96f7"
      },
      "execution_count": 86,
      "outputs": [
        {
          "output_type": "stream",
          "name": "stdout",
          "text": [
            "tensor([[  0.0000, 380.0000,   3.6100,   3.0000],\n",
            "        [  1.0000, 660.0000,   3.6700,   3.0000],\n",
            "        [  1.0000, 800.0000,   4.0000,   1.0000],\n",
            "        [  1.0000, 640.0000,   3.1900,   4.0000],\n",
            "        [  0.0000, 520.0000,   2.9300,   4.0000],\n",
            "        [  1.0000, 760.0000,   3.0000,   2.0000],\n",
            "        [  1.0000, 560.0000,   2.9800,   1.0000],\n",
            "        [  0.0000, 400.0000,   3.0800,   2.0000],\n",
            "        [  1.0000, 540.0000,   3.3900,   3.0000]], dtype=torch.float64)\n"
          ]
        }
      ]
    },
    {
      "cell_type": "code",
      "source": [
        "x_train = admit_tensor[:300, 1:].float()\n",
        "y_train = admit_tensor[:300, 0].float()\n",
        "x_test = admit_tensor[300:, 1:].float()\n",
        "y_test = admit_tensor[300:, 0].float()"
      ],
      "metadata": {
        "id": "w7A00v0jofii"
      },
      "execution_count": 87,
      "outputs": []
    },
    {
      "cell_type": "code",
      "source": [
        "criterion = nn.BCELoss()"
      ],
      "metadata": {
        "id": "Gw1qqI06oiOB"
      },
      "execution_count": 88,
      "outputs": []
    },
    {
      "cell_type": "code",
      "source": [
        "optimizer = torch.optim.SGD(my_network.parameters(), lr=0.01)"
      ],
      "metadata": {
        "id": "uJATHYQCokB_"
      },
      "execution_count": 89,
      "outputs": []
    },
    {
      "cell_type": "code",
      "source": [
        "for epoch in range(100):\n",
        "    y_pred = my_network(x_train)\n",
        "    loss_score = criterion(y_pred, y_train)\n",
        "    print('epoch: ', epoch, 'loss: ', loss_score)\n",
        "    \n",
        "    optimizer.zero_grad()\n",
        "    loss_score.backward()\n",
        "    optimizer.step()"
      ],
      "metadata": {
        "colab": {
          "base_uri": "https://localhost:8080/"
        },
        "id": "yc1tkI6Aol3y",
        "outputId": "a8b7e6fc-8f1e-4890-9047-22cc23eab4d4"
      },
      "execution_count": 93,
      "outputs": [
        {
          "output_type": "stream",
          "name": "stderr",
          "text": [
            "/usr/local/lib/python3.7/dist-packages/torch/nn/functional.py:1806: UserWarning: nn.functional.sigmoid is deprecated. Use torch.sigmoid instead.\n",
            "  warnings.warn(\"nn.functional.sigmoid is deprecated. Use torch.sigmoid instead.\")\n"
          ]
        },
        {
          "output_type": "stream",
          "name": "stdout",
          "text": [
            "epoch:  0 loss:  tensor(35.5342, grad_fn=<BinaryCrossEntropyBackward0>)\n",
            "epoch:  1 loss:  tensor(35.5342, grad_fn=<BinaryCrossEntropyBackward0>)\n",
            "epoch:  2 loss:  tensor(35.5342, grad_fn=<BinaryCrossEntropyBackward0>)\n",
            "epoch:  3 loss:  tensor(35.5342, grad_fn=<BinaryCrossEntropyBackward0>)\n",
            "epoch:  4 loss:  tensor(35.5342, grad_fn=<BinaryCrossEntropyBackward0>)\n",
            "epoch:  5 loss:  tensor(35.5342, grad_fn=<BinaryCrossEntropyBackward0>)\n",
            "epoch:  6 loss:  tensor(35.5342, grad_fn=<BinaryCrossEntropyBackward0>)\n",
            "epoch:  7 loss:  tensor(35.5341, grad_fn=<BinaryCrossEntropyBackward0>)\n",
            "epoch:  8 loss:  tensor(35.5341, grad_fn=<BinaryCrossEntropyBackward0>)\n",
            "epoch:  9 loss:  tensor(35.5341, grad_fn=<BinaryCrossEntropyBackward0>)\n",
            "epoch:  10 loss:  tensor(35.5341, grad_fn=<BinaryCrossEntropyBackward0>)\n",
            "epoch:  11 loss:  tensor(35.5341, grad_fn=<BinaryCrossEntropyBackward0>)\n",
            "epoch:  12 loss:  tensor(35.5341, grad_fn=<BinaryCrossEntropyBackward0>)\n",
            "epoch:  13 loss:  tensor(35.5341, grad_fn=<BinaryCrossEntropyBackward0>)\n",
            "epoch:  14 loss:  tensor(35.5341, grad_fn=<BinaryCrossEntropyBackward0>)\n",
            "epoch:  15 loss:  tensor(35.5341, grad_fn=<BinaryCrossEntropyBackward0>)\n",
            "epoch:  16 loss:  tensor(35.5341, grad_fn=<BinaryCrossEntropyBackward0>)\n",
            "epoch:  17 loss:  tensor(35.5341, grad_fn=<BinaryCrossEntropyBackward0>)\n",
            "epoch:  18 loss:  tensor(35.5341, grad_fn=<BinaryCrossEntropyBackward0>)\n",
            "epoch:  19 loss:  tensor(35.5341, grad_fn=<BinaryCrossEntropyBackward0>)\n",
            "epoch:  20 loss:  tensor(35.5341, grad_fn=<BinaryCrossEntropyBackward0>)\n",
            "epoch:  21 loss:  tensor(35.5341, grad_fn=<BinaryCrossEntropyBackward0>)\n",
            "epoch:  22 loss:  tensor(35.5341, grad_fn=<BinaryCrossEntropyBackward0>)\n",
            "epoch:  23 loss:  tensor(35.5341, grad_fn=<BinaryCrossEntropyBackward0>)\n",
            "epoch:  24 loss:  tensor(35.5341, grad_fn=<BinaryCrossEntropyBackward0>)\n",
            "epoch:  25 loss:  tensor(35.5340, grad_fn=<BinaryCrossEntropyBackward0>)\n",
            "epoch:  26 loss:  tensor(35.5340, grad_fn=<BinaryCrossEntropyBackward0>)\n",
            "epoch:  27 loss:  tensor(35.5340, grad_fn=<BinaryCrossEntropyBackward0>)\n",
            "epoch:  28 loss:  tensor(35.5340, grad_fn=<BinaryCrossEntropyBackward0>)\n",
            "epoch:  29 loss:  tensor(35.5340, grad_fn=<BinaryCrossEntropyBackward0>)\n",
            "epoch:  30 loss:  tensor(35.5340, grad_fn=<BinaryCrossEntropyBackward0>)\n",
            "epoch:  31 loss:  tensor(35.5340, grad_fn=<BinaryCrossEntropyBackward0>)\n",
            "epoch:  32 loss:  tensor(35.5340, grad_fn=<BinaryCrossEntropyBackward0>)\n",
            "epoch:  33 loss:  tensor(35.5340, grad_fn=<BinaryCrossEntropyBackward0>)\n",
            "epoch:  34 loss:  tensor(35.5340, grad_fn=<BinaryCrossEntropyBackward0>)\n",
            "epoch:  35 loss:  tensor(35.5340, grad_fn=<BinaryCrossEntropyBackward0>)\n",
            "epoch:  36 loss:  tensor(35.5340, grad_fn=<BinaryCrossEntropyBackward0>)\n",
            "epoch:  37 loss:  tensor(35.5340, grad_fn=<BinaryCrossEntropyBackward0>)\n",
            "epoch:  38 loss:  tensor(35.5340, grad_fn=<BinaryCrossEntropyBackward0>)\n",
            "epoch:  39 loss:  tensor(35.5340, grad_fn=<BinaryCrossEntropyBackward0>)\n",
            "epoch:  40 loss:  tensor(35.5340, grad_fn=<BinaryCrossEntropyBackward0>)\n",
            "epoch:  41 loss:  tensor(35.5340, grad_fn=<BinaryCrossEntropyBackward0>)\n",
            "epoch:  42 loss:  tensor(35.5340, grad_fn=<BinaryCrossEntropyBackward0>)\n",
            "epoch:  43 loss:  tensor(35.5339, grad_fn=<BinaryCrossEntropyBackward0>)\n",
            "epoch:  44 loss:  tensor(35.5339, grad_fn=<BinaryCrossEntropyBackward0>)\n",
            "epoch:  45 loss:  tensor(35.5339, grad_fn=<BinaryCrossEntropyBackward0>)\n",
            "epoch:  46 loss:  tensor(35.5339, grad_fn=<BinaryCrossEntropyBackward0>)\n",
            "epoch:  47 loss:  tensor(35.5339, grad_fn=<BinaryCrossEntropyBackward0>)\n",
            "epoch:  48 loss:  tensor(35.5339, grad_fn=<BinaryCrossEntropyBackward0>)\n",
            "epoch:  49 loss:  tensor(35.5339, grad_fn=<BinaryCrossEntropyBackward0>)\n",
            "epoch:  50 loss:  tensor(35.5339, grad_fn=<BinaryCrossEntropyBackward0>)\n",
            "epoch:  51 loss:  tensor(35.5339, grad_fn=<BinaryCrossEntropyBackward0>)\n",
            "epoch:  52 loss:  tensor(35.5339, grad_fn=<BinaryCrossEntropyBackward0>)\n",
            "epoch:  53 loss:  tensor(35.5339, grad_fn=<BinaryCrossEntropyBackward0>)\n",
            "epoch:  54 loss:  tensor(35.5339, grad_fn=<BinaryCrossEntropyBackward0>)\n",
            "epoch:  55 loss:  tensor(35.5339, grad_fn=<BinaryCrossEntropyBackward0>)\n",
            "epoch:  56 loss:  tensor(35.5339, grad_fn=<BinaryCrossEntropyBackward0>)\n",
            "epoch:  57 loss:  tensor(35.5339, grad_fn=<BinaryCrossEntropyBackward0>)\n",
            "epoch:  58 loss:  tensor(35.5339, grad_fn=<BinaryCrossEntropyBackward0>)\n",
            "epoch:  59 loss:  tensor(35.5339, grad_fn=<BinaryCrossEntropyBackward0>)\n",
            "epoch:  60 loss:  tensor(35.5338, grad_fn=<BinaryCrossEntropyBackward0>)\n",
            "epoch:  61 loss:  tensor(35.5338, grad_fn=<BinaryCrossEntropyBackward0>)\n",
            "epoch:  62 loss:  tensor(35.5338, grad_fn=<BinaryCrossEntropyBackward0>)\n",
            "epoch:  63 loss:  tensor(35.5338, grad_fn=<BinaryCrossEntropyBackward0>)\n",
            "epoch:  64 loss:  tensor(35.5338, grad_fn=<BinaryCrossEntropyBackward0>)\n",
            "epoch:  65 loss:  tensor(35.5338, grad_fn=<BinaryCrossEntropyBackward0>)\n",
            "epoch:  66 loss:  tensor(35.5338, grad_fn=<BinaryCrossEntropyBackward0>)\n",
            "epoch:  67 loss:  tensor(35.5338, grad_fn=<BinaryCrossEntropyBackward0>)\n",
            "epoch:  68 loss:  tensor(35.5338, grad_fn=<BinaryCrossEntropyBackward0>)\n",
            "epoch:  69 loss:  tensor(35.5338, grad_fn=<BinaryCrossEntropyBackward0>)\n",
            "epoch:  70 loss:  tensor(35.5338, grad_fn=<BinaryCrossEntropyBackward0>)\n",
            "epoch:  71 loss:  tensor(35.5338, grad_fn=<BinaryCrossEntropyBackward0>)\n",
            "epoch:  72 loss:  tensor(35.5338, grad_fn=<BinaryCrossEntropyBackward0>)\n",
            "epoch:  73 loss:  tensor(35.5338, grad_fn=<BinaryCrossEntropyBackward0>)\n",
            "epoch:  74 loss:  tensor(35.5338, grad_fn=<BinaryCrossEntropyBackward0>)\n",
            "epoch:  75 loss:  tensor(35.5338, grad_fn=<BinaryCrossEntropyBackward0>)\n",
            "epoch:  76 loss:  tensor(35.5338, grad_fn=<BinaryCrossEntropyBackward0>)\n",
            "epoch:  77 loss:  tensor(35.5338, grad_fn=<BinaryCrossEntropyBackward0>)\n",
            "epoch:  78 loss:  tensor(35.5337, grad_fn=<BinaryCrossEntropyBackward0>)\n",
            "epoch:  79 loss:  tensor(35.5337, grad_fn=<BinaryCrossEntropyBackward0>)\n",
            "epoch:  80 loss:  tensor(35.5337, grad_fn=<BinaryCrossEntropyBackward0>)\n",
            "epoch:  81 loss:  tensor(35.5337, grad_fn=<BinaryCrossEntropyBackward0>)\n",
            "epoch:  82 loss:  tensor(35.5337, grad_fn=<BinaryCrossEntropyBackward0>)\n",
            "epoch:  83 loss:  tensor(35.5337, grad_fn=<BinaryCrossEntropyBackward0>)\n",
            "epoch:  84 loss:  tensor(35.5337, grad_fn=<BinaryCrossEntropyBackward0>)\n",
            "epoch:  85 loss:  tensor(35.5337, grad_fn=<BinaryCrossEntropyBackward0>)\n",
            "epoch:  86 loss:  tensor(35.5337, grad_fn=<BinaryCrossEntropyBackward0>)\n",
            "epoch:  87 loss:  tensor(35.5337, grad_fn=<BinaryCrossEntropyBackward0>)\n",
            "epoch:  88 loss:  tensor(35.5337, grad_fn=<BinaryCrossEntropyBackward0>)\n",
            "epoch:  89 loss:  tensor(35.5337, grad_fn=<BinaryCrossEntropyBackward0>)\n",
            "epoch:  90 loss:  tensor(35.5337, grad_fn=<BinaryCrossEntropyBackward0>)\n",
            "epoch:  91 loss:  tensor(35.5337, grad_fn=<BinaryCrossEntropyBackward0>)\n",
            "epoch:  92 loss:  tensor(35.5337, grad_fn=<BinaryCrossEntropyBackward0>)\n",
            "epoch:  93 loss:  tensor(35.5337, grad_fn=<BinaryCrossEntropyBackward0>)\n",
            "epoch:  94 loss:  tensor(35.5337, grad_fn=<BinaryCrossEntropyBackward0>)\n",
            "epoch:  95 loss:  tensor(35.5336, grad_fn=<BinaryCrossEntropyBackward0>)\n",
            "epoch:  96 loss:  tensor(35.5336, grad_fn=<BinaryCrossEntropyBackward0>)\n",
            "epoch:  97 loss:  tensor(35.5336, grad_fn=<BinaryCrossEntropyBackward0>)\n",
            "epoch:  98 loss:  tensor(35.5336, grad_fn=<BinaryCrossEntropyBackward0>)\n",
            "epoch:  99 loss:  tensor(35.5336, grad_fn=<BinaryCrossEntropyBackward0>)\n"
          ]
        }
      ]
    }
  ]
}