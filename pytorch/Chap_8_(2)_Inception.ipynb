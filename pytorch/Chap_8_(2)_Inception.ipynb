{
  "nbformat": 4,
  "nbformat_minor": 0,
  "metadata": {
    "colab": {
      "name": "Chap 8 (2) Inception.ipynb",
      "provenance": [],
      "authorship_tag": "ABX9TyOi7fNSPD5Ccosi1U73DFWU",
      "include_colab_link": true
    },
    "kernelspec": {
      "name": "python3",
      "display_name": "Python 3"
    },
    "language_info": {
      "name": "python"
    },
    "accelerator": "GPU",
    "widgets": {
      "application/vnd.jupyter.widget-state+json": {
        "b0fbb7bfba974957a7b9aff75dfb5506": {
          "model_module": "@jupyter-widgets/controls",
          "model_name": "HBoxModel",
          "model_module_version": "1.5.0",
          "state": {
            "_view_name": "HBoxView",
            "_dom_classes": [],
            "_model_name": "HBoxModel",
            "_view_module": "@jupyter-widgets/controls",
            "_model_module_version": "1.5.0",
            "_view_count": null,
            "_view_module_version": "1.5.0",
            "box_style": "",
            "layout": "IPY_MODEL_48c43f6d1cb842ef9bdab191f27f9b4c",
            "_model_module": "@jupyter-widgets/controls",
            "children": [
              "IPY_MODEL_0efa881677b046b08e9d952999630876",
              "IPY_MODEL_1df454f3c9a043ada9a2040d3227841a",
              "IPY_MODEL_e9c98dd0cff84497ae6e55997132e67e"
            ]
          }
        },
        "48c43f6d1cb842ef9bdab191f27f9b4c": {
          "model_module": "@jupyter-widgets/base",
          "model_name": "LayoutModel",
          "model_module_version": "1.2.0",
          "state": {
            "_view_name": "LayoutView",
            "grid_template_rows": null,
            "right": null,
            "justify_content": null,
            "_view_module": "@jupyter-widgets/base",
            "overflow": null,
            "_model_module_version": "1.2.0",
            "_view_count": null,
            "flex_flow": null,
            "width": null,
            "min_width": null,
            "border": null,
            "align_items": null,
            "bottom": null,
            "_model_module": "@jupyter-widgets/base",
            "top": null,
            "grid_column": null,
            "overflow_y": null,
            "overflow_x": null,
            "grid_auto_flow": null,
            "grid_area": null,
            "grid_template_columns": null,
            "flex": null,
            "_model_name": "LayoutModel",
            "justify_items": null,
            "grid_row": null,
            "max_height": null,
            "align_content": null,
            "visibility": null,
            "align_self": null,
            "height": null,
            "min_height": null,
            "padding": null,
            "grid_auto_rows": null,
            "grid_gap": null,
            "max_width": null,
            "order": null,
            "_view_module_version": "1.2.0",
            "grid_template_areas": null,
            "object_position": null,
            "object_fit": null,
            "grid_auto_columns": null,
            "margin": null,
            "display": null,
            "left": null
          }
        },
        "0efa881677b046b08e9d952999630876": {
          "model_module": "@jupyter-widgets/controls",
          "model_name": "HTMLModel",
          "model_module_version": "1.5.0",
          "state": {
            "_view_name": "HTMLView",
            "style": "IPY_MODEL_e79756004027492cbf5c5b111a7b780c",
            "_dom_classes": [],
            "description": "",
            "_model_name": "HTMLModel",
            "placeholder": "​",
            "_view_module": "@jupyter-widgets/controls",
            "_model_module_version": "1.5.0",
            "value": "100%",
            "_view_count": null,
            "_view_module_version": "1.5.0",
            "description_tooltip": null,
            "_model_module": "@jupyter-widgets/controls",
            "layout": "IPY_MODEL_fcf41b0387a4432d839b895de3f7ca29"
          }
        },
        "1df454f3c9a043ada9a2040d3227841a": {
          "model_module": "@jupyter-widgets/controls",
          "model_name": "FloatProgressModel",
          "model_module_version": "1.5.0",
          "state": {
            "_view_name": "ProgressView",
            "style": "IPY_MODEL_0fc2f4a24915484ca53ae01b776a31b4",
            "_dom_classes": [],
            "description": "",
            "_model_name": "FloatProgressModel",
            "bar_style": "success",
            "max": 108949747,
            "_view_module": "@jupyter-widgets/controls",
            "_model_module_version": "1.5.0",
            "value": 108949747,
            "_view_count": null,
            "_view_module_version": "1.5.0",
            "orientation": "horizontal",
            "min": 0,
            "description_tooltip": null,
            "_model_module": "@jupyter-widgets/controls",
            "layout": "IPY_MODEL_055fc102557b4edba6e2f0f39bc5b6a9"
          }
        },
        "e9c98dd0cff84497ae6e55997132e67e": {
          "model_module": "@jupyter-widgets/controls",
          "model_name": "HTMLModel",
          "model_module_version": "1.5.0",
          "state": {
            "_view_name": "HTMLView",
            "style": "IPY_MODEL_2837f1768248462e87c384476b6e8ffb",
            "_dom_classes": [],
            "description": "",
            "_model_name": "HTMLModel",
            "placeholder": "​",
            "_view_module": "@jupyter-widgets/controls",
            "_model_module_version": "1.5.0",
            "value": " 104M/104M [00:02&lt;00:00, 37.1MB/s]",
            "_view_count": null,
            "_view_module_version": "1.5.0",
            "description_tooltip": null,
            "_model_module": "@jupyter-widgets/controls",
            "layout": "IPY_MODEL_e4881b3a3d174386baf4ae320bf2cf20"
          }
        },
        "e79756004027492cbf5c5b111a7b780c": {
          "model_module": "@jupyter-widgets/controls",
          "model_name": "DescriptionStyleModel",
          "model_module_version": "1.5.0",
          "state": {
            "_view_name": "StyleView",
            "_model_name": "DescriptionStyleModel",
            "description_width": "",
            "_view_module": "@jupyter-widgets/base",
            "_model_module_version": "1.5.0",
            "_view_count": null,
            "_view_module_version": "1.2.0",
            "_model_module": "@jupyter-widgets/controls"
          }
        },
        "fcf41b0387a4432d839b895de3f7ca29": {
          "model_module": "@jupyter-widgets/base",
          "model_name": "LayoutModel",
          "model_module_version": "1.2.0",
          "state": {
            "_view_name": "LayoutView",
            "grid_template_rows": null,
            "right": null,
            "justify_content": null,
            "_view_module": "@jupyter-widgets/base",
            "overflow": null,
            "_model_module_version": "1.2.0",
            "_view_count": null,
            "flex_flow": null,
            "width": null,
            "min_width": null,
            "border": null,
            "align_items": null,
            "bottom": null,
            "_model_module": "@jupyter-widgets/base",
            "top": null,
            "grid_column": null,
            "overflow_y": null,
            "overflow_x": null,
            "grid_auto_flow": null,
            "grid_area": null,
            "grid_template_columns": null,
            "flex": null,
            "_model_name": "LayoutModel",
            "justify_items": null,
            "grid_row": null,
            "max_height": null,
            "align_content": null,
            "visibility": null,
            "align_self": null,
            "height": null,
            "min_height": null,
            "padding": null,
            "grid_auto_rows": null,
            "grid_gap": null,
            "max_width": null,
            "order": null,
            "_view_module_version": "1.2.0",
            "grid_template_areas": null,
            "object_position": null,
            "object_fit": null,
            "grid_auto_columns": null,
            "margin": null,
            "display": null,
            "left": null
          }
        },
        "0fc2f4a24915484ca53ae01b776a31b4": {
          "model_module": "@jupyter-widgets/controls",
          "model_name": "ProgressStyleModel",
          "model_module_version": "1.5.0",
          "state": {
            "_view_name": "StyleView",
            "_model_name": "ProgressStyleModel",
            "description_width": "",
            "_view_module": "@jupyter-widgets/base",
            "_model_module_version": "1.5.0",
            "_view_count": null,
            "_view_module_version": "1.2.0",
            "bar_color": null,
            "_model_module": "@jupyter-widgets/controls"
          }
        },
        "055fc102557b4edba6e2f0f39bc5b6a9": {
          "model_module": "@jupyter-widgets/base",
          "model_name": "LayoutModel",
          "model_module_version": "1.2.0",
          "state": {
            "_view_name": "LayoutView",
            "grid_template_rows": null,
            "right": null,
            "justify_content": null,
            "_view_module": "@jupyter-widgets/base",
            "overflow": null,
            "_model_module_version": "1.2.0",
            "_view_count": null,
            "flex_flow": null,
            "width": null,
            "min_width": null,
            "border": null,
            "align_items": null,
            "bottom": null,
            "_model_module": "@jupyter-widgets/base",
            "top": null,
            "grid_column": null,
            "overflow_y": null,
            "overflow_x": null,
            "grid_auto_flow": null,
            "grid_area": null,
            "grid_template_columns": null,
            "flex": null,
            "_model_name": "LayoutModel",
            "justify_items": null,
            "grid_row": null,
            "max_height": null,
            "align_content": null,
            "visibility": null,
            "align_self": null,
            "height": null,
            "min_height": null,
            "padding": null,
            "grid_auto_rows": null,
            "grid_gap": null,
            "max_width": null,
            "order": null,
            "_view_module_version": "1.2.0",
            "grid_template_areas": null,
            "object_position": null,
            "object_fit": null,
            "grid_auto_columns": null,
            "margin": null,
            "display": null,
            "left": null
          }
        },
        "2837f1768248462e87c384476b6e8ffb": {
          "model_module": "@jupyter-widgets/controls",
          "model_name": "DescriptionStyleModel",
          "model_module_version": "1.5.0",
          "state": {
            "_view_name": "StyleView",
            "_model_name": "DescriptionStyleModel",
            "description_width": "",
            "_view_module": "@jupyter-widgets/base",
            "_model_module_version": "1.5.0",
            "_view_count": null,
            "_view_module_version": "1.2.0",
            "_model_module": "@jupyter-widgets/controls"
          }
        },
        "e4881b3a3d174386baf4ae320bf2cf20": {
          "model_module": "@jupyter-widgets/base",
          "model_name": "LayoutModel",
          "model_module_version": "1.2.0",
          "state": {
            "_view_name": "LayoutView",
            "grid_template_rows": null,
            "right": null,
            "justify_content": null,
            "_view_module": "@jupyter-widgets/base",
            "overflow": null,
            "_model_module_version": "1.2.0",
            "_view_count": null,
            "flex_flow": null,
            "width": null,
            "min_width": null,
            "border": null,
            "align_items": null,
            "bottom": null,
            "_model_module": "@jupyter-widgets/base",
            "top": null,
            "grid_column": null,
            "overflow_y": null,
            "overflow_x": null,
            "grid_auto_flow": null,
            "grid_area": null,
            "grid_template_columns": null,
            "flex": null,
            "_model_name": "LayoutModel",
            "justify_items": null,
            "grid_row": null,
            "max_height": null,
            "align_content": null,
            "visibility": null,
            "align_self": null,
            "height": null,
            "min_height": null,
            "padding": null,
            "grid_auto_rows": null,
            "grid_gap": null,
            "max_width": null,
            "order": null,
            "_view_module_version": "1.2.0",
            "grid_template_areas": null,
            "object_position": null,
            "object_fit": null,
            "grid_auto_columns": null,
            "margin": null,
            "display": null,
            "left": null
          }
        }
      }
    }
  },
  "cells": [
    {
      "cell_type": "markdown",
      "metadata": {
        "id": "view-in-github",
        "colab_type": "text"
      },
      "source": [
        "<a href=\"https://colab.research.google.com/github/superbunny38/2021DeepLearning/blob/main/pytorch/Chap_8_(2)_Inception.ipynb\" target=\"_parent\"><img src=\"https://colab.research.google.com/assets/colab-badge.svg\" alt=\"Open In Colab\"/></a>"
      ]
    },
    {
      "cell_type": "code",
      "execution_count": 1,
      "metadata": {
        "id": "HbIpDhK-4ohY"
      },
      "outputs": [],
      "source": [
        "import pandas as pd\n",
        "from glob import glob\n",
        "import os\n",
        "from shutil import copyfile\n",
        "from torch.utils.data import Dataset\n",
        "from PIL import Image\n",
        "import numpy as np\n",
        "from numpy.random import permutation\n",
        "import matplotlib.pyplot as plt\n",
        "\n",
        "from torchvision import transforms\n",
        "from torchvision.datasets import ImageFolder\n",
        "from torchvision.models.inception import inception_v3\n",
        "from torch.utils.data import DataLoader\n",
        "from torch.autograd import Variable\n",
        "import torch\n",
        "import torch.nn as nn\n",
        "import torch.optim as optim\n",
        "import torch.nn.functional as F\n",
        "\n",
        "%matplotlib inline"
      ]
    },
    {
      "cell_type": "code",
      "source": [
        "is_cuda = torch.cuda.is_available()\n",
        "print(is_cuda)\n",
        "print(torch.cuda.memory_allocated())\n",
        "torch.cuda.empty_cache()"
      ],
      "metadata": {
        "colab": {
          "base_uri": "https://localhost:8080/"
        },
        "id": "vjeHpyV-zpni",
        "outputId": "3b9aa809-ad63-43e5-a0e4-528ebed20de1"
      },
      "execution_count": 2,
      "outputs": [
        {
          "output_type": "stream",
          "name": "stdout",
          "text": [
            "True\n",
            "0\n"
          ]
        }
      ]
    },
    {
      "cell_type": "markdown",
      "source": [
        "## Utility functions"
      ],
      "metadata": {
        "id": "utI4jWgH1Rj_"
      }
    },
    {
      "cell_type": "code",
      "source": [
        "def imshow(inp,cmap=None):\n",
        "    \"\"\"Imshow for Tensor.\"\"\"\n",
        "    inp = inp.numpy().transpose((1, 2, 0))\n",
        "    mean = np.array([0.485, 0.456, 0.406])\n",
        "    std = np.array([0.229, 0.224, 0.225])\n",
        "    inp = std * inp + mean\n",
        "    inp = np.clip(inp, 0, 1)\n",
        "    plt.imshow(inp,cmap)\n",
        "    \n",
        "class LayerActivations():\n",
        "    features=[]\n",
        "    \n",
        "    def __init__(self,model):\n",
        "        self.features = []\n",
        "        self.hook = model.register_forward_hook(self.hook_function)\n",
        "    \n",
        "    def hook_function(self,module,input,output):\n",
        "        \n",
        "        self.features.extend(output.view(output.size(0),-1).cpu().data)\n",
        "\n",
        "    \n",
        "    def remove(self):\n",
        "        \n",
        "        self.hook.remove()\n",
        "    \n",
        "class FeaturesDataset(Dataset):\n",
        "    \n",
        "    def __init__(self,featlst,labellst):\n",
        "        self.featlst = featlst\n",
        "        self.labellst = labellst\n",
        "        \n",
        "    def __getitem__(self,index):\n",
        "        return (self.featlst[index],self.labellst[index])\n",
        "    \n",
        "    def __len__(self):\n",
        "        return len(self.labellst)\n",
        "    \n",
        "def fit(epoch,model,data_loader,phase='training',volatile=False):\n",
        "    if phase == 'training':\n",
        "        model.train()\n",
        "    if phase == 'validation':\n",
        "        model.eval()\n",
        "        volatile=True\n",
        "    running_loss = 0.0\n",
        "    running_correct = 0\n",
        "    for batch_idx , (data,target) in enumerate(data_loader):\n",
        "        if is_cuda:\n",
        "            data,target = data.cuda(),target.cuda()\n",
        "        data , target = Variable(data,volatile),Variable(target)\n",
        "        if phase == 'training':\n",
        "            optimizer.zero_grad()\n",
        "        output = model(data)\n",
        "        loss = F.cross_entropy(output,target)\n",
        "        \n",
        "        running_loss += F.cross_entropy(output,target,size_average=False).data\n",
        "        preds = output.data.max(dim=1,keepdim=True)[1]\n",
        "        running_correct += preds.eq(target.data.view_as(preds)).cpu().sum()\n",
        "        if phase == 'training':\n",
        "            loss.backward()\n",
        "            optimizer.step()\n",
        "    \n",
        "    loss = running_loss/len(data_loader.dataset)\n",
        "    accuracy = 100. * running_correct/len(data_loader.dataset)\n",
        "    \n",
        "    print(f'{phase} loss is {loss} and {phase} accuracy is {running_correct}/{len(data_loader.dataset)}{accuracy}')\n",
        "    return loss,accuracy"
      ],
      "metadata": {
        "id": "sy3kSXAnz6hm"
      },
      "execution_count": 23,
      "outputs": []
    },
    {
      "cell_type": "markdown",
      "source": [
        "## get DATA"
      ],
      "metadata": {
        "id": "nLgZQUkx1k4x"
      }
    },
    {
      "cell_type": "code",
      "source": [
        "!git clone https://github.com/ardamavi/Dog-Cat-Classifier repo\n",
        "!mkdir workspace\n",
        "%mv /content/repo/Data/Train_Data /content/workspace\n",
        "%cd workspace"
      ],
      "metadata": {
        "colab": {
          "base_uri": "https://localhost:8080/"
        },
        "id": "7ZzwDcBE1kI1",
        "outputId": "f57963bf-3170-490c-c0d4-67da2c61472e"
      },
      "execution_count": 5,
      "outputs": [
        {
          "output_type": "stream",
          "name": "stdout",
          "text": [
            "Cloning into 'repo'...\n",
            "remote: Enumerating objects: 1654, done.\u001b[K\n",
            "remote: Total 1654 (delta 0), reused 0 (delta 0), pack-reused 1654\u001b[K\n",
            "Receiving objects: 100% (1654/1654), 34.83 MiB | 30.88 MiB/s, done.\n",
            "Resolving deltas: 100% (147/147), done.\n",
            "/content/workspace\n"
          ]
        }
      ]
    },
    {
      "cell_type": "code",
      "source": [
        "import glob\n",
        "path = \"/content/workspace/Train_Data\"\n",
        "#read all the files inside the folder\n",
        "dog_files = [f for f in glob.glob(\"/content/workspace/Train_Data/dog/*.jpg\")]\n",
        "cat_files = [f for f in glob.glob(\"/content/workspace/Train_Data/cat/*.jpg\")]\n",
        "\n",
        "files = dog_files+cat_files\n",
        "print(f\"Total number of images: {len(files)}\")\n",
        "no_of_images = len(files)\n",
        "shuffle = np.random.permutation(no_of_images)\n",
        "os.mkdir(os.path.join(path, \"train\"))\n",
        "os.mkdir(os.path.join(path, \"valid\"))\n",
        "for t in ['train','valid']:\n",
        "  for folder in ['dog/', 'cat/']:\n",
        "    os.mkdir(os.path.join(path,t,folder))"
      ],
      "metadata": {
        "colab": {
          "base_uri": "https://localhost:8080/"
        },
        "id": "OyJjYpei1omr",
        "outputId": "8d543e86-2531-4c95-a128-d19b02b5287b"
      },
      "execution_count": 6,
      "outputs": [
        {
          "output_type": "stream",
          "name": "stdout",
          "text": [
            "Total number of images: 1399\n"
          ]
        }
      ]
    },
    {
      "cell_type": "code",
      "source": [
        "#검증데이터 넣기\n",
        "for i in shuffle[:250]:#250개\n",
        "  folder = files[i].split(\"/\")[-2].split(\".\")[0]\n",
        "  image = files[i].split('/')[-1]\n",
        "  image = image[4:]\n",
        "  os.rename(files[i], os.path.join(path, 'valid', folder, image))"
      ],
      "metadata": {
        "id": "xT5YMIsV1s39"
      },
      "execution_count": 7,
      "outputs": []
    },
    {
      "cell_type": "code",
      "source": [
        "#학습데이터 넣기\n",
        "for i in shuffle[250:]:\n",
        "  folder = files[i].split(\"/\")[-2].split(\".\")[0]\n",
        "  image = files[i].split('/')[-1]\n",
        "  image = image[4:]\n",
        "  os.rename(files[i], os.path.join(path, 'train', folder, image))"
      ],
      "metadata": {
        "id": "Ff69t_-e1wRv"
      },
      "execution_count": 8,
      "outputs": []
    },
    {
      "cell_type": "code",
      "source": [
        "transform_data = transforms.Compose([\n",
        "        transforms.Resize((299,299)),\n",
        "        transforms.ToTensor(),\n",
        "        transforms.Normalize([0.485, 0.456, 0.406], [0.229, 0.224, 0.225])\n",
        "    ])"
      ],
      "metadata": {
        "id": "ppnoWnbm1Wxy"
      },
      "execution_count": 11,
      "outputs": []
    },
    {
      "cell_type": "markdown",
      "source": [
        "## create dataloaders"
      ],
      "metadata": {
        "id": "0-IB71yH14PY"
      }
    },
    {
      "cell_type": "code",
      "source": [
        "from torchvision.datasets import ImageFolder\n",
        "train_dset = ImageFolder(\"/content/workspace/Train_Data/train\", transform_data)\n",
        "validation_dset = ImageFolder(\"/content/workspace/Train_Data/valid\", transform_data)\n",
        "classes=2"
      ],
      "metadata": {
        "id": "cMtWDIkT11qc"
      },
      "execution_count": 12,
      "outputs": []
    },
    {
      "cell_type": "code",
      "source": [
        "train_loader = DataLoader(train_dset,batch_size=32,shuffle=False,num_workers=3)\n",
        "validation_loader = DataLoader(validation_dset,batch_size=32,shuffle=False,num_workers=3)"
      ],
      "metadata": {
        "colab": {
          "base_uri": "https://localhost:8080/"
        },
        "id": "E7F99k0I1n8N",
        "outputId": "5dcb1025-be85-4a1d-b2cd-7cb8f5551013"
      },
      "execution_count": 13,
      "outputs": [
        {
          "output_type": "stream",
          "name": "stderr",
          "text": [
            "/usr/local/lib/python3.7/dist-packages/torch/utils/data/dataloader.py:481: UserWarning: This DataLoader will create 3 worker processes in total. Our suggested max number of worker in current system is 2, which is smaller than what this DataLoader is going to create. Please be aware that excessive worker creation might get DataLoader running slow or even freeze, lower the worker number to avoid potential slowness/freeze if necessary.\n",
            "  cpuset_checked))\n"
          ]
        }
      ]
    },
    {
      "cell_type": "markdown",
      "source": [
        "## Creating Inception V3 model"
      ],
      "metadata": {
        "id": "FshoNFpy2GjY"
      }
    },
    {
      "cell_type": "code",
      "source": [
        "inception_model = inception_v3(pretrained=True)\n",
        "inception_model.aux_logits = False\n",
        "if is_cuda:\n",
        "    inception_model = inception_model.cuda()"
      ],
      "metadata": {
        "colab": {
          "base_uri": "https://localhost:8080/",
          "height": 67,
          "referenced_widgets": [
            "b0fbb7bfba974957a7b9aff75dfb5506",
            "48c43f6d1cb842ef9bdab191f27f9b4c",
            "0efa881677b046b08e9d952999630876",
            "1df454f3c9a043ada9a2040d3227841a",
            "e9c98dd0cff84497ae6e55997132e67e",
            "e79756004027492cbf5c5b111a7b780c",
            "fcf41b0387a4432d839b895de3f7ca29",
            "0fc2f4a24915484ca53ae01b776a31b4",
            "055fc102557b4edba6e2f0f39bc5b6a9",
            "2837f1768248462e87c384476b6e8ffb",
            "e4881b3a3d174386baf4ae320bf2cf20"
          ]
        },
        "id": "GouRPcm62DUC",
        "outputId": "beeb4718-bcb8-454e-96fd-bb8bd4c19883"
      },
      "execution_count": 14,
      "outputs": [
        {
          "output_type": "stream",
          "name": "stderr",
          "text": [
            "Downloading: \"https://download.pytorch.org/models/inception_v3_google-0cc3c7bd.pth\" to /root/.cache/torch/hub/checkpoints/inception_v3_google-0cc3c7bd.pth\n"
          ]
        },
        {
          "output_type": "display_data",
          "data": {
            "application/vnd.jupyter.widget-view+json": {
              "model_id": "b0fbb7bfba974957a7b9aff75dfb5506",
              "version_minor": 0,
              "version_major": 2
            },
            "text/plain": [
              "  0%|          | 0.00/104M [00:00<?, ?B/s]"
            ]
          },
          "metadata": {}
        }
      ]
    },
    {
      "cell_type": "markdown",
      "source": [
        "## Extracting Convolutional features"
      ],
      "metadata": {
        "id": "NnBBCUcO2KqS"
      }
    },
    {
      "cell_type": "code",
      "source": [
        "# Create LayerActivations object to store the output of inception model at a particular layer.\n",
        "is_cuda = torch.cuda.is_available()\n",
        "print(is_cuda)\n",
        "train_features = LayerActivations(inception_model.Mixed_7c)\n",
        "train_labels = []\n",
        "\n",
        "# Passing all the data through the model , as a side effect the outputs will get stored \n",
        "# in the features list of the LayerActivations object. \n",
        "for da,la in train_loader:\n",
        "    with torch.no_grad(): # To help with memory issues\n",
        "        _ = inception_model(Variable(da.cuda()))\n",
        "        train_labels.extend(la.cpu())\n",
        "train_features.remove()\n",
        "\n",
        "print('Done')\n",
        "\n",
        "# Repeat the same process for validation dataset .\n",
        "\n",
        "validation_features = LayerActivations(inception_model.Mixed_7c)\n",
        "validation_labels = []\n",
        "for da,la in validation_loader:\n",
        "    with torch.no_grad(): # To help with memory issues\n",
        "        _ = inception_model(Variable(da.cuda()))\n",
        "        validation_labels.extend(la.cpu())\n",
        "validation_features.remove()"
      ],
      "metadata": {
        "colab": {
          "base_uri": "https://localhost:8080/"
        },
        "id": "p_ad8Pv82Ih_",
        "outputId": "dec6a2d8-5414-47ca-ac35-ac9af3a578f1"
      },
      "execution_count": 15,
      "outputs": [
        {
          "output_type": "stream",
          "name": "stdout",
          "text": [
            "True\n"
          ]
        },
        {
          "output_type": "stream",
          "name": "stderr",
          "text": [
            "/usr/local/lib/python3.7/dist-packages/torch/utils/data/dataloader.py:481: UserWarning: This DataLoader will create 3 worker processes in total. Our suggested max number of worker in current system is 2, which is smaller than what this DataLoader is going to create. Please be aware that excessive worker creation might get DataLoader running slow or even freeze, lower the worker number to avoid potential slowness/freeze if necessary.\n",
            "  cpuset_checked))\n"
          ]
        },
        {
          "output_type": "stream",
          "name": "stdout",
          "text": [
            "Done\n"
          ]
        }
      ]
    },
    {
      "cell_type": "code",
      "source": [
        "len(validation_labels)"
      ],
      "metadata": {
        "colab": {
          "base_uri": "https://localhost:8080/"
        },
        "id": "lK835F972Nbn",
        "outputId": "95664266-ae2c-47c9-af76-7e7b16942bed"
      },
      "execution_count": 16,
      "outputs": [
        {
          "output_type": "execute_result",
          "data": {
            "text/plain": [
              "250"
            ]
          },
          "metadata": {},
          "execution_count": 16
        }
      ]
    },
    {
      "cell_type": "code",
      "source": [
        "train_features.features[0].size()"
      ],
      "metadata": {
        "colab": {
          "base_uri": "https://localhost:8080/"
        },
        "id": "Q2XqVT852PBq",
        "outputId": "8a768dfd-8a64-4272-f1a7-f210f0f2ad75"
      },
      "execution_count": 17,
      "outputs": [
        {
          "output_type": "execute_result",
          "data": {
            "text/plain": [
              "torch.Size([131072])"
            ]
          },
          "metadata": {},
          "execution_count": 17
        }
      ]
    },
    {
      "cell_type": "code",
      "source": [
        "len(train_features.features)"
      ],
      "metadata": {
        "colab": {
          "base_uri": "https://localhost:8080/"
        },
        "id": "kgNN3c9H2Q0b",
        "outputId": "547ee29d-29a2-44d9-a53d-6a8b4831656e"
      },
      "execution_count": 18,
      "outputs": [
        {
          "output_type": "execute_result",
          "data": {
            "text/plain": [
              "1149"
            ]
          },
          "metadata": {},
          "execution_count": 18
        }
      ]
    },
    {
      "cell_type": "markdown",
      "source": [
        "## Creating train and validation feature dataset"
      ],
      "metadata": {
        "id": "rJazXoTT2VbL"
      }
    },
    {
      "cell_type": "code",
      "source": [
        "#Dataset for pre computed features for train and validation data sets\n",
        "\n",
        "train_feat_dset = FeaturesDataset(train_features.features,train_labels)\n",
        "validation_feat_dset = FeaturesDataset(validation_features.features,validation_labels)\n",
        "\n",
        "#Data loaders for pre computed features for train and validation data sets\n",
        "\n",
        "train_feat_loader = DataLoader(train_feat_dset,batch_size=64,shuffle=True)\n",
        "validation_feat_loader = DataLoader(validation_feat_dset,batch_size=64)"
      ],
      "metadata": {
        "id": "H3MrS_152Seu"
      },
      "execution_count": 19,
      "outputs": []
    },
    {
      "cell_type": "markdown",
      "source": [
        "## A Fully connected network"
      ],
      "metadata": {
        "id": "2ChEPwTe2ZB_"
      }
    },
    {
      "cell_type": "code",
      "source": [
        "class FullyConnectedModel(nn.Module):\n",
        "    \n",
        "    def __init__(self,input_size,output_size,training=True):\n",
        "        super().__init__()\n",
        "        self.fully_connected = nn.Linear(input_size,output_size)\n",
        "\n",
        "    def forward(self,input):\n",
        "        output = F.dropout(input, training=self.training)\n",
        "        output = self.fully_connected(output)\n",
        "        return output\n",
        "\n",
        "# The size of the output from the selected convolution feature \n",
        "fc_in_size = 131072\n",
        "\n",
        "fully_connected = FullyConnectedModel(fc_in_size,classes)\n",
        "if is_cuda:\n",
        "    fully_connected = fully_connected.cuda()"
      ],
      "metadata": {
        "id": "NLV859MI2XUj"
      },
      "execution_count": 20,
      "outputs": []
    },
    {
      "cell_type": "code",
      "source": [
        "optimizer = optim.Adam(fully_connected.parameters(),lr=0.01)"
      ],
      "metadata": {
        "id": "jOx9k_D92bZy"
      },
      "execution_count": 21,
      "outputs": []
    },
    {
      "cell_type": "markdown",
      "source": [
        "## Train and validate the model"
      ],
      "metadata": {
        "id": "tMGS3sDC2fBy"
      }
    },
    {
      "cell_type": "code",
      "source": [
        "train_losses , train_accuracy = [],[]\n",
        "validation_losses , validation_accuracy = [],[]\n",
        "for epoch in range(1,10):\n",
        "    epoch_loss, epoch_accuracy = fit(epoch,fully_connected,train_feat_loader,phase='training')\n",
        "    validation_epoch_loss , validation_epoch_accuracy = fit(epoch,fully_connected.eval(),validation_feat_loader,phase='validation')\n",
        "    train_losses.append(epoch_loss)\n",
        "    train_accuracy.append(epoch_accuracy)\n",
        "    validation_losses.append(validation_epoch_loss)\n",
        "    validation_accuracy.append(validation_epoch_accuracy)"
      ],
      "metadata": {
        "colab": {
          "base_uri": "https://localhost:8080/"
        },
        "id": "Fk6XpwXt2czK",
        "outputId": "7e72d25d-ce12-432d-b4ae-304dd8ea05f8"
      },
      "execution_count": 24,
      "outputs": [
        {
          "output_type": "stream",
          "name": "stderr",
          "text": [
            "/usr/local/lib/python3.7/dist-packages/torch/nn/_reduction.py:42: UserWarning: size_average and reduce args will be deprecated, please use reduction='sum' instead.\n",
            "  warnings.warn(warning.format(ret))\n"
          ]
        },
        {
          "output_type": "stream",
          "name": "stdout",
          "text": [
            "training loss is 63.613826751708984 and training accuracy is 660/114957.441253662109375\n",
            "validation loss is 18.748445510864258 and validation accuracy is 170/25068.0\n",
            "training loss is 5.514293193817139 and training accuracy is 998/114986.85813903808594\n",
            "validation loss is 4.40522575378418 and validation accuracy is 221/25088.4000015258789\n",
            "training loss is 1.0712841749191284 and training accuracy is 1104/114996.08354949951172\n",
            "validation loss is 3.1412394046783447 and validation accuracy is 222/25088.80000305175781\n",
            "training loss is 0.36424702405929565 and training accuracy is 1129/114998.25935363769531\n",
            "validation loss is 3.1379079818725586 and validation accuracy is 224/25089.5999984741211\n",
            "training loss is 0.27743473649024963 and training accuracy is 1130/114998.34638977050781\n",
            "validation loss is 3.1160669326782227 and validation accuracy is 226/25090.4000015258789\n",
            "training loss is 0.10593618452548981 and training accuracy is 1140/114999.21671295166016\n",
            "validation loss is 5.919647693634033 and validation accuracy is 217/25086.80000305175781\n",
            "training loss is 0.36721763014793396 and training accuracy is 1132/114998.52045440673828\n",
            "validation loss is 2.949099540710449 and validation accuracy is 223/25089.19999694824219\n",
            "training loss is 0.15250363945960999 and training accuracy is 1141/114999.30374145507812\n",
            "validation loss is 6.53781270980835 and validation accuracy is 215/25086.0\n",
            "training loss is 0.03985809534788132 and training accuracy is 1143/114999.4778060913086\n",
            "validation loss is 3.3441548347473145 and validation accuracy is 224/25089.5999984741211\n"
          ]
        }
      ]
    },
    {
      "cell_type": "code",
      "source": [
        "for epoch in range(1,10):\n",
        "    epoch_loss, epoch_accuracy = fit(epoch,fully_connected,train_feat_loader,phase='training')\n",
        "    validation_epoch_loss , validation_epoch_accuracy = fit(epoch,fully_connected,validation_feat_loader,phase='validation')\n",
        "    train_losses.append(epoch_loss)\n",
        "    train_accuracy.append(epoch_accuracy)\n",
        "    validation_losses.append(validation_epoch_loss)\n",
        "    validation_accuracy.append(validation_epoch_accuracy)"
      ],
      "metadata": {
        "colab": {
          "base_uri": "https://localhost:8080/"
        },
        "id": "dM8QqsL62ixV",
        "outputId": "cea5acbd-8d85-40e8-d8d4-50185668b683"
      },
      "execution_count": 25,
      "outputs": [
        {
          "output_type": "stream",
          "name": "stderr",
          "text": [
            "/usr/local/lib/python3.7/dist-packages/torch/nn/_reduction.py:42: UserWarning: size_average and reduce args will be deprecated, please use reduction='sum' instead.\n",
            "  warnings.warn(warning.format(ret))\n"
          ]
        },
        {
          "output_type": "stream",
          "name": "stdout",
          "text": [
            "training loss is 0.03614313155412674 and training accuracy is 1147/114999.82593536376953\n",
            "validation loss is 4.304982662200928 and validation accuracy is 219/25087.5999984741211\n",
            "training loss is 0.03944215551018715 and training accuracy is 1145/114999.65187072753906\n",
            "validation loss is 2.9763283729553223 and validation accuracy is 226/25090.4000015258789\n",
            "training loss is 0.0022036107257008553 and training accuracy is 1148/114999.91297149658203\n",
            "validation loss is 3.6348624229431152 and validation accuracy is 225/25090.0\n",
            "training loss is 0.017398081719875336 and training accuracy is 1148/114999.91297149658203\n",
            "validation loss is 4.344318866729736 and validation accuracy is 222/25088.80000305175781\n",
            "training loss is 0.06886065751314163 and training accuracy is 1143/114999.4778060913086\n",
            "validation loss is 3.8241934776306152 and validation accuracy is 224/25089.5999984741211\n",
            "training loss is 0.09919421374797821 and training accuracy is 1142/114999.39077758789062\n",
            "validation loss is 8.15740966796875 and validation accuracy is 213/25085.19999694824219\n",
            "training loss is 0.3224512040615082 and training accuracy is 1128/114998.17232513427734\n",
            "validation loss is 8.179156303405762 and validation accuracy is 211/25084.4000015258789\n",
            "training loss is 0.13068366050720215 and training accuracy is 1142/114999.39077758789062\n",
            "validation loss is 4.16040563583374 and validation accuracy is 229/25091.5999984741211\n",
            "training loss is 0.12425169348716736 and training accuracy is 1145/114999.65187072753906\n",
            "validation loss is 4.695971965789795 and validation accuracy is 227/25090.80000305175781\n"
          ]
        }
      ]
    },
    {
      "cell_type": "code",
      "source": [
        ""
      ],
      "metadata": {
        "id": "XWeEL-pU2qnP"
      },
      "execution_count": null,
      "outputs": []
    }
  ]
}