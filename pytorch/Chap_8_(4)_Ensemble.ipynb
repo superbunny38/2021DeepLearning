{
  "nbformat": 4,
  "nbformat_minor": 0,
  "metadata": {
    "colab": {
      "name": "Chap 8 (4) Ensemble.ipynb",
      "provenance": [],
      "collapsed_sections": [],
      "authorship_tag": "ABX9TyNSqkjY93ycznLWR5L948dZ",
      "include_colab_link": true
    },
    "kernelspec": {
      "name": "python3",
      "display_name": "Python 3"
    },
    "language_info": {
      "name": "python"
    },
    "accelerator": "GPU",
    "widgets": {
      "application/vnd.jupyter.widget-state+json": {
        "5661fe53eaac49bfad933f1e3d0a42fa": {
          "model_module": "@jupyter-widgets/controls",
          "model_name": "HBoxModel",
          "model_module_version": "1.5.0",
          "state": {
            "_view_name": "HBoxView",
            "_dom_classes": [],
            "_model_name": "HBoxModel",
            "_view_module": "@jupyter-widgets/controls",
            "_model_module_version": "1.5.0",
            "_view_count": null,
            "_view_module_version": "1.5.0",
            "box_style": "",
            "layout": "IPY_MODEL_e42ecbeb3df14e39a338fd1e6619fa60",
            "_model_module": "@jupyter-widgets/controls",
            "children": [
              "IPY_MODEL_4215c0ab6f27420688e5a7011de9de08",
              "IPY_MODEL_662f1eef92fb42e6b85525dd84be1efb",
              "IPY_MODEL_3d0309beed8140489ff0275737d53ce1"
            ]
          }
        },
        "e42ecbeb3df14e39a338fd1e6619fa60": {
          "model_module": "@jupyter-widgets/base",
          "model_name": "LayoutModel",
          "model_module_version": "1.2.0",
          "state": {
            "_view_name": "LayoutView",
            "grid_template_rows": null,
            "right": null,
            "justify_content": null,
            "_view_module": "@jupyter-widgets/base",
            "overflow": null,
            "_model_module_version": "1.2.0",
            "_view_count": null,
            "flex_flow": null,
            "width": null,
            "min_width": null,
            "border": null,
            "align_items": null,
            "bottom": null,
            "_model_module": "@jupyter-widgets/base",
            "top": null,
            "grid_column": null,
            "overflow_y": null,
            "overflow_x": null,
            "grid_auto_flow": null,
            "grid_area": null,
            "grid_template_columns": null,
            "flex": null,
            "_model_name": "LayoutModel",
            "justify_items": null,
            "grid_row": null,
            "max_height": null,
            "align_content": null,
            "visibility": null,
            "align_self": null,
            "height": null,
            "min_height": null,
            "padding": null,
            "grid_auto_rows": null,
            "grid_gap": null,
            "max_width": null,
            "order": null,
            "_view_module_version": "1.2.0",
            "grid_template_areas": null,
            "object_position": null,
            "object_fit": null,
            "grid_auto_columns": null,
            "margin": null,
            "display": null,
            "left": null
          }
        },
        "4215c0ab6f27420688e5a7011de9de08": {
          "model_module": "@jupyter-widgets/controls",
          "model_name": "HTMLModel",
          "model_module_version": "1.5.0",
          "state": {
            "_view_name": "HTMLView",
            "style": "IPY_MODEL_34a9752077284dc0afb596c0ea982403",
            "_dom_classes": [],
            "description": "",
            "_model_name": "HTMLModel",
            "placeholder": "​",
            "_view_module": "@jupyter-widgets/controls",
            "_model_module_version": "1.5.0",
            "value": "100%",
            "_view_count": null,
            "_view_module_version": "1.5.0",
            "description_tooltip": null,
            "_model_module": "@jupyter-widgets/controls",
            "layout": "IPY_MODEL_88d033f28ceb40cea175e99a78b09f1b"
          }
        },
        "662f1eef92fb42e6b85525dd84be1efb": {
          "model_module": "@jupyter-widgets/controls",
          "model_name": "FloatProgressModel",
          "model_module_version": "1.5.0",
          "state": {
            "_view_name": "ProgressView",
            "style": "IPY_MODEL_50abe5858aee4002ac05378d6d50e104",
            "_dom_classes": [],
            "description": "",
            "_model_name": "FloatProgressModel",
            "bar_style": "success",
            "max": 87319819,
            "_view_module": "@jupyter-widgets/controls",
            "_model_module_version": "1.5.0",
            "value": 87319819,
            "_view_count": null,
            "_view_module_version": "1.5.0",
            "orientation": "horizontal",
            "min": 0,
            "description_tooltip": null,
            "_model_module": "@jupyter-widgets/controls",
            "layout": "IPY_MODEL_ae1cab24e1a447dd90fcbd0dd83af407"
          }
        },
        "3d0309beed8140489ff0275737d53ce1": {
          "model_module": "@jupyter-widgets/controls",
          "model_name": "HTMLModel",
          "model_module_version": "1.5.0",
          "state": {
            "_view_name": "HTMLView",
            "style": "IPY_MODEL_b403baa4d25d418d9613b4f7d3460ef2",
            "_dom_classes": [],
            "description": "",
            "_model_name": "HTMLModel",
            "placeholder": "​",
            "_view_module": "@jupyter-widgets/controls",
            "_model_module_version": "1.5.0",
            "value": " 83.3M/83.3M [00:02&lt;00:00, 33.9MB/s]",
            "_view_count": null,
            "_view_module_version": "1.5.0",
            "description_tooltip": null,
            "_model_module": "@jupyter-widgets/controls",
            "layout": "IPY_MODEL_80e935b653f843829130817433262ba3"
          }
        },
        "34a9752077284dc0afb596c0ea982403": {
          "model_module": "@jupyter-widgets/controls",
          "model_name": "DescriptionStyleModel",
          "model_module_version": "1.5.0",
          "state": {
            "_view_name": "StyleView",
            "_model_name": "DescriptionStyleModel",
            "description_width": "",
            "_view_module": "@jupyter-widgets/base",
            "_model_module_version": "1.5.0",
            "_view_count": null,
            "_view_module_version": "1.2.0",
            "_model_module": "@jupyter-widgets/controls"
          }
        },
        "88d033f28ceb40cea175e99a78b09f1b": {
          "model_module": "@jupyter-widgets/base",
          "model_name": "LayoutModel",
          "model_module_version": "1.2.0",
          "state": {
            "_view_name": "LayoutView",
            "grid_template_rows": null,
            "right": null,
            "justify_content": null,
            "_view_module": "@jupyter-widgets/base",
            "overflow": null,
            "_model_module_version": "1.2.0",
            "_view_count": null,
            "flex_flow": null,
            "width": null,
            "min_width": null,
            "border": null,
            "align_items": null,
            "bottom": null,
            "_model_module": "@jupyter-widgets/base",
            "top": null,
            "grid_column": null,
            "overflow_y": null,
            "overflow_x": null,
            "grid_auto_flow": null,
            "grid_area": null,
            "grid_template_columns": null,
            "flex": null,
            "_model_name": "LayoutModel",
            "justify_items": null,
            "grid_row": null,
            "max_height": null,
            "align_content": null,
            "visibility": null,
            "align_self": null,
            "height": null,
            "min_height": null,
            "padding": null,
            "grid_auto_rows": null,
            "grid_gap": null,
            "max_width": null,
            "order": null,
            "_view_module_version": "1.2.0",
            "grid_template_areas": null,
            "object_position": null,
            "object_fit": null,
            "grid_auto_columns": null,
            "margin": null,
            "display": null,
            "left": null
          }
        },
        "50abe5858aee4002ac05378d6d50e104": {
          "model_module": "@jupyter-widgets/controls",
          "model_name": "ProgressStyleModel",
          "model_module_version": "1.5.0",
          "state": {
            "_view_name": "StyleView",
            "_model_name": "ProgressStyleModel",
            "description_width": "",
            "_view_module": "@jupyter-widgets/base",
            "_model_module_version": "1.5.0",
            "_view_count": null,
            "_view_module_version": "1.2.0",
            "bar_color": null,
            "_model_module": "@jupyter-widgets/controls"
          }
        },
        "ae1cab24e1a447dd90fcbd0dd83af407": {
          "model_module": "@jupyter-widgets/base",
          "model_name": "LayoutModel",
          "model_module_version": "1.2.0",
          "state": {
            "_view_name": "LayoutView",
            "grid_template_rows": null,
            "right": null,
            "justify_content": null,
            "_view_module": "@jupyter-widgets/base",
            "overflow": null,
            "_model_module_version": "1.2.0",
            "_view_count": null,
            "flex_flow": null,
            "width": null,
            "min_width": null,
            "border": null,
            "align_items": null,
            "bottom": null,
            "_model_module": "@jupyter-widgets/base",
            "top": null,
            "grid_column": null,
            "overflow_y": null,
            "overflow_x": null,
            "grid_auto_flow": null,
            "grid_area": null,
            "grid_template_columns": null,
            "flex": null,
            "_model_name": "LayoutModel",
            "justify_items": null,
            "grid_row": null,
            "max_height": null,
            "align_content": null,
            "visibility": null,
            "align_self": null,
            "height": null,
            "min_height": null,
            "padding": null,
            "grid_auto_rows": null,
            "grid_gap": null,
            "max_width": null,
            "order": null,
            "_view_module_version": "1.2.0",
            "grid_template_areas": null,
            "object_position": null,
            "object_fit": null,
            "grid_auto_columns": null,
            "margin": null,
            "display": null,
            "left": null
          }
        },
        "b403baa4d25d418d9613b4f7d3460ef2": {
          "model_module": "@jupyter-widgets/controls",
          "model_name": "DescriptionStyleModel",
          "model_module_version": "1.5.0",
          "state": {
            "_view_name": "StyleView",
            "_model_name": "DescriptionStyleModel",
            "description_width": "",
            "_view_module": "@jupyter-widgets/base",
            "_model_module_version": "1.5.0",
            "_view_count": null,
            "_view_module_version": "1.2.0",
            "_model_module": "@jupyter-widgets/controls"
          }
        },
        "80e935b653f843829130817433262ba3": {
          "model_module": "@jupyter-widgets/base",
          "model_name": "LayoutModel",
          "model_module_version": "1.2.0",
          "state": {
            "_view_name": "LayoutView",
            "grid_template_rows": null,
            "right": null,
            "justify_content": null,
            "_view_module": "@jupyter-widgets/base",
            "overflow": null,
            "_model_module_version": "1.2.0",
            "_view_count": null,
            "flex_flow": null,
            "width": null,
            "min_width": null,
            "border": null,
            "align_items": null,
            "bottom": null,
            "_model_module": "@jupyter-widgets/base",
            "top": null,
            "grid_column": null,
            "overflow_y": null,
            "overflow_x": null,
            "grid_auto_flow": null,
            "grid_area": null,
            "grid_template_columns": null,
            "flex": null,
            "_model_name": "LayoutModel",
            "justify_items": null,
            "grid_row": null,
            "max_height": null,
            "align_content": null,
            "visibility": null,
            "align_self": null,
            "height": null,
            "min_height": null,
            "padding": null,
            "grid_auto_rows": null,
            "grid_gap": null,
            "max_width": null,
            "order": null,
            "_view_module_version": "1.2.0",
            "grid_template_areas": null,
            "object_position": null,
            "object_fit": null,
            "grid_auto_columns": null,
            "margin": null,
            "display": null,
            "left": null
          }
        },
        "54127f34dcb54ed0aee7fd38565b6b1d": {
          "model_module": "@jupyter-widgets/controls",
          "model_name": "HBoxModel",
          "model_module_version": "1.5.0",
          "state": {
            "_view_name": "HBoxView",
            "_dom_classes": [],
            "_model_name": "HBoxModel",
            "_view_module": "@jupyter-widgets/controls",
            "_model_module_version": "1.5.0",
            "_view_count": null,
            "_view_module_version": "1.5.0",
            "box_style": "",
            "layout": "IPY_MODEL_bb5fecd0e8534fa7ada05b85daa68442",
            "_model_module": "@jupyter-widgets/controls",
            "children": [
              "IPY_MODEL_f8657ffc01e642059a3f07a2aa02843b",
              "IPY_MODEL_e4c7b4e288c344bdbb8f56cdf24f9feb",
              "IPY_MODEL_cf9c5fee5672488fb6ab6c9e35a3a89b"
            ]
          }
        },
        "bb5fecd0e8534fa7ada05b85daa68442": {
          "model_module": "@jupyter-widgets/base",
          "model_name": "LayoutModel",
          "model_module_version": "1.2.0",
          "state": {
            "_view_name": "LayoutView",
            "grid_template_rows": null,
            "right": null,
            "justify_content": null,
            "_view_module": "@jupyter-widgets/base",
            "overflow": null,
            "_model_module_version": "1.2.0",
            "_view_count": null,
            "flex_flow": null,
            "width": null,
            "min_width": null,
            "border": null,
            "align_items": null,
            "bottom": null,
            "_model_module": "@jupyter-widgets/base",
            "top": null,
            "grid_column": null,
            "overflow_y": null,
            "overflow_x": null,
            "grid_auto_flow": null,
            "grid_area": null,
            "grid_template_columns": null,
            "flex": null,
            "_model_name": "LayoutModel",
            "justify_items": null,
            "grid_row": null,
            "max_height": null,
            "align_content": null,
            "visibility": null,
            "align_self": null,
            "height": null,
            "min_height": null,
            "padding": null,
            "grid_auto_rows": null,
            "grid_gap": null,
            "max_width": null,
            "order": null,
            "_view_module_version": "1.2.0",
            "grid_template_areas": null,
            "object_position": null,
            "object_fit": null,
            "grid_auto_columns": null,
            "margin": null,
            "display": null,
            "left": null
          }
        },
        "f8657ffc01e642059a3f07a2aa02843b": {
          "model_module": "@jupyter-widgets/controls",
          "model_name": "HTMLModel",
          "model_module_version": "1.5.0",
          "state": {
            "_view_name": "HTMLView",
            "style": "IPY_MODEL_6a9d34d30a16461d98f312e015dee244",
            "_dom_classes": [],
            "description": "",
            "_model_name": "HTMLModel",
            "placeholder": "​",
            "_view_module": "@jupyter-widgets/controls",
            "_model_module_version": "1.5.0",
            "value": "100%",
            "_view_count": null,
            "_view_module_version": "1.5.0",
            "description_tooltip": null,
            "_model_module": "@jupyter-widgets/controls",
            "layout": "IPY_MODEL_bb30b4e77e5a45768634bc781fa52218"
          }
        },
        "e4c7b4e288c344bdbb8f56cdf24f9feb": {
          "model_module": "@jupyter-widgets/controls",
          "model_name": "FloatProgressModel",
          "model_module_version": "1.5.0",
          "state": {
            "_view_name": "ProgressView",
            "style": "IPY_MODEL_e7d38c4c191f4af6a4bf433ee930e059",
            "_dom_classes": [],
            "description": "",
            "_model_name": "FloatProgressModel",
            "bar_style": "success",
            "max": 108949747,
            "_view_module": "@jupyter-widgets/controls",
            "_model_module_version": "1.5.0",
            "value": 108949747,
            "_view_count": null,
            "_view_module_version": "1.5.0",
            "orientation": "horizontal",
            "min": 0,
            "description_tooltip": null,
            "_model_module": "@jupyter-widgets/controls",
            "layout": "IPY_MODEL_090a1199ccdf44eabbd2dcd6b35b85b3"
          }
        },
        "cf9c5fee5672488fb6ab6c9e35a3a89b": {
          "model_module": "@jupyter-widgets/controls",
          "model_name": "HTMLModel",
          "model_module_version": "1.5.0",
          "state": {
            "_view_name": "HTMLView",
            "style": "IPY_MODEL_f6bf3c7e31f8494ea717e1f971ba204b",
            "_dom_classes": [],
            "description": "",
            "_model_name": "HTMLModel",
            "placeholder": "​",
            "_view_module": "@jupyter-widgets/controls",
            "_model_module_version": "1.5.0",
            "value": " 104M/104M [00:01&lt;00:00, 67.2MB/s]",
            "_view_count": null,
            "_view_module_version": "1.5.0",
            "description_tooltip": null,
            "_model_module": "@jupyter-widgets/controls",
            "layout": "IPY_MODEL_00b6567d65914ef3b2707a905b9820c9"
          }
        },
        "6a9d34d30a16461d98f312e015dee244": {
          "model_module": "@jupyter-widgets/controls",
          "model_name": "DescriptionStyleModel",
          "model_module_version": "1.5.0",
          "state": {
            "_view_name": "StyleView",
            "_model_name": "DescriptionStyleModel",
            "description_width": "",
            "_view_module": "@jupyter-widgets/base",
            "_model_module_version": "1.5.0",
            "_view_count": null,
            "_view_module_version": "1.2.0",
            "_model_module": "@jupyter-widgets/controls"
          }
        },
        "bb30b4e77e5a45768634bc781fa52218": {
          "model_module": "@jupyter-widgets/base",
          "model_name": "LayoutModel",
          "model_module_version": "1.2.0",
          "state": {
            "_view_name": "LayoutView",
            "grid_template_rows": null,
            "right": null,
            "justify_content": null,
            "_view_module": "@jupyter-widgets/base",
            "overflow": null,
            "_model_module_version": "1.2.0",
            "_view_count": null,
            "flex_flow": null,
            "width": null,
            "min_width": null,
            "border": null,
            "align_items": null,
            "bottom": null,
            "_model_module": "@jupyter-widgets/base",
            "top": null,
            "grid_column": null,
            "overflow_y": null,
            "overflow_x": null,
            "grid_auto_flow": null,
            "grid_area": null,
            "grid_template_columns": null,
            "flex": null,
            "_model_name": "LayoutModel",
            "justify_items": null,
            "grid_row": null,
            "max_height": null,
            "align_content": null,
            "visibility": null,
            "align_self": null,
            "height": null,
            "min_height": null,
            "padding": null,
            "grid_auto_rows": null,
            "grid_gap": null,
            "max_width": null,
            "order": null,
            "_view_module_version": "1.2.0",
            "grid_template_areas": null,
            "object_position": null,
            "object_fit": null,
            "grid_auto_columns": null,
            "margin": null,
            "display": null,
            "left": null
          }
        },
        "e7d38c4c191f4af6a4bf433ee930e059": {
          "model_module": "@jupyter-widgets/controls",
          "model_name": "ProgressStyleModel",
          "model_module_version": "1.5.0",
          "state": {
            "_view_name": "StyleView",
            "_model_name": "ProgressStyleModel",
            "description_width": "",
            "_view_module": "@jupyter-widgets/base",
            "_model_module_version": "1.5.0",
            "_view_count": null,
            "_view_module_version": "1.2.0",
            "bar_color": null,
            "_model_module": "@jupyter-widgets/controls"
          }
        },
        "090a1199ccdf44eabbd2dcd6b35b85b3": {
          "model_module": "@jupyter-widgets/base",
          "model_name": "LayoutModel",
          "model_module_version": "1.2.0",
          "state": {
            "_view_name": "LayoutView",
            "grid_template_rows": null,
            "right": null,
            "justify_content": null,
            "_view_module": "@jupyter-widgets/base",
            "overflow": null,
            "_model_module_version": "1.2.0",
            "_view_count": null,
            "flex_flow": null,
            "width": null,
            "min_width": null,
            "border": null,
            "align_items": null,
            "bottom": null,
            "_model_module": "@jupyter-widgets/base",
            "top": null,
            "grid_column": null,
            "overflow_y": null,
            "overflow_x": null,
            "grid_auto_flow": null,
            "grid_area": null,
            "grid_template_columns": null,
            "flex": null,
            "_model_name": "LayoutModel",
            "justify_items": null,
            "grid_row": null,
            "max_height": null,
            "align_content": null,
            "visibility": null,
            "align_self": null,
            "height": null,
            "min_height": null,
            "padding": null,
            "grid_auto_rows": null,
            "grid_gap": null,
            "max_width": null,
            "order": null,
            "_view_module_version": "1.2.0",
            "grid_template_areas": null,
            "object_position": null,
            "object_fit": null,
            "grid_auto_columns": null,
            "margin": null,
            "display": null,
            "left": null
          }
        },
        "f6bf3c7e31f8494ea717e1f971ba204b": {
          "model_module": "@jupyter-widgets/controls",
          "model_name": "DescriptionStyleModel",
          "model_module_version": "1.5.0",
          "state": {
            "_view_name": "StyleView",
            "_model_name": "DescriptionStyleModel",
            "description_width": "",
            "_view_module": "@jupyter-widgets/base",
            "_model_module_version": "1.5.0",
            "_view_count": null,
            "_view_module_version": "1.2.0",
            "_model_module": "@jupyter-widgets/controls"
          }
        },
        "00b6567d65914ef3b2707a905b9820c9": {
          "model_module": "@jupyter-widgets/base",
          "model_name": "LayoutModel",
          "model_module_version": "1.2.0",
          "state": {
            "_view_name": "LayoutView",
            "grid_template_rows": null,
            "right": null,
            "justify_content": null,
            "_view_module": "@jupyter-widgets/base",
            "overflow": null,
            "_model_module_version": "1.2.0",
            "_view_count": null,
            "flex_flow": null,
            "width": null,
            "min_width": null,
            "border": null,
            "align_items": null,
            "bottom": null,
            "_model_module": "@jupyter-widgets/base",
            "top": null,
            "grid_column": null,
            "overflow_y": null,
            "overflow_x": null,
            "grid_auto_flow": null,
            "grid_area": null,
            "grid_template_columns": null,
            "flex": null,
            "_model_name": "LayoutModel",
            "justify_items": null,
            "grid_row": null,
            "max_height": null,
            "align_content": null,
            "visibility": null,
            "align_self": null,
            "height": null,
            "min_height": null,
            "padding": null,
            "grid_auto_rows": null,
            "grid_gap": null,
            "max_width": null,
            "order": null,
            "_view_module_version": "1.2.0",
            "grid_template_areas": null,
            "object_position": null,
            "object_fit": null,
            "grid_auto_columns": null,
            "margin": null,
            "display": null,
            "left": null
          }
        },
        "9bdd6184430048aabfe3d4cb6a2d2fbb": {
          "model_module": "@jupyter-widgets/controls",
          "model_name": "HBoxModel",
          "model_module_version": "1.5.0",
          "state": {
            "_view_name": "HBoxView",
            "_dom_classes": [],
            "_model_name": "HBoxModel",
            "_view_module": "@jupyter-widgets/controls",
            "_model_module_version": "1.5.0",
            "_view_count": null,
            "_view_module_version": "1.5.0",
            "box_style": "",
            "layout": "IPY_MODEL_551da0fe856c46e9a5e2c7fa6848c823",
            "_model_module": "@jupyter-widgets/controls",
            "children": [
              "IPY_MODEL_5e74cc2a00a945b98fba0d69b1219b65",
              "IPY_MODEL_a00ab48b9604409b9952b358f1037c73",
              "IPY_MODEL_b128355a2590434f8ecef1e46e5c3c80"
            ]
          }
        },
        "551da0fe856c46e9a5e2c7fa6848c823": {
          "model_module": "@jupyter-widgets/base",
          "model_name": "LayoutModel",
          "model_module_version": "1.2.0",
          "state": {
            "_view_name": "LayoutView",
            "grid_template_rows": null,
            "right": null,
            "justify_content": null,
            "_view_module": "@jupyter-widgets/base",
            "overflow": null,
            "_model_module_version": "1.2.0",
            "_view_count": null,
            "flex_flow": null,
            "width": null,
            "min_width": null,
            "border": null,
            "align_items": null,
            "bottom": null,
            "_model_module": "@jupyter-widgets/base",
            "top": null,
            "grid_column": null,
            "overflow_y": null,
            "overflow_x": null,
            "grid_auto_flow": null,
            "grid_area": null,
            "grid_template_columns": null,
            "flex": null,
            "_model_name": "LayoutModel",
            "justify_items": null,
            "grid_row": null,
            "max_height": null,
            "align_content": null,
            "visibility": null,
            "align_self": null,
            "height": null,
            "min_height": null,
            "padding": null,
            "grid_auto_rows": null,
            "grid_gap": null,
            "max_width": null,
            "order": null,
            "_view_module_version": "1.2.0",
            "grid_template_areas": null,
            "object_position": null,
            "object_fit": null,
            "grid_auto_columns": null,
            "margin": null,
            "display": null,
            "left": null
          }
        },
        "5e74cc2a00a945b98fba0d69b1219b65": {
          "model_module": "@jupyter-widgets/controls",
          "model_name": "HTMLModel",
          "model_module_version": "1.5.0",
          "state": {
            "_view_name": "HTMLView",
            "style": "IPY_MODEL_4b3c9a1145a24442a2dd9c319a0108e4",
            "_dom_classes": [],
            "description": "",
            "_model_name": "HTMLModel",
            "placeholder": "​",
            "_view_module": "@jupyter-widgets/controls",
            "_model_module_version": "1.5.0",
            "value": "100%",
            "_view_count": null,
            "_view_module_version": "1.5.0",
            "description_tooltip": null,
            "_model_module": "@jupyter-widgets/controls",
            "layout": "IPY_MODEL_303c97178ebe4aa591cd2ee68a6bf8da"
          }
        },
        "a00ab48b9604409b9952b358f1037c73": {
          "model_module": "@jupyter-widgets/controls",
          "model_name": "FloatProgressModel",
          "model_module_version": "1.5.0",
          "state": {
            "_view_name": "ProgressView",
            "style": "IPY_MODEL_d64341d6bcf14008bce1888477e53f52",
            "_dom_classes": [],
            "description": "",
            "_model_name": "FloatProgressModel",
            "bar_style": "success",
            "max": 32342954,
            "_view_module": "@jupyter-widgets/controls",
            "_model_module_version": "1.5.0",
            "value": 32342954,
            "_view_count": null,
            "_view_module_version": "1.5.0",
            "orientation": "horizontal",
            "min": 0,
            "description_tooltip": null,
            "_model_module": "@jupyter-widgets/controls",
            "layout": "IPY_MODEL_9caad520c4bf4d17b41ee482128b2698"
          }
        },
        "b128355a2590434f8ecef1e46e5c3c80": {
          "model_module": "@jupyter-widgets/controls",
          "model_name": "HTMLModel",
          "model_module_version": "1.5.0",
          "state": {
            "_view_name": "HTMLView",
            "style": "IPY_MODEL_f4799feda301467d8a1afb4ea9ea17a0",
            "_dom_classes": [],
            "description": "",
            "_model_name": "HTMLModel",
            "placeholder": "​",
            "_view_module": "@jupyter-widgets/controls",
            "_model_module_version": "1.5.0",
            "value": " 30.8M/30.8M [00:00&lt;00:00, 74.0MB/s]",
            "_view_count": null,
            "_view_module_version": "1.5.0",
            "description_tooltip": null,
            "_model_module": "@jupyter-widgets/controls",
            "layout": "IPY_MODEL_b8ddaabfbc1e4a7389a59599dae63780"
          }
        },
        "4b3c9a1145a24442a2dd9c319a0108e4": {
          "model_module": "@jupyter-widgets/controls",
          "model_name": "DescriptionStyleModel",
          "model_module_version": "1.5.0",
          "state": {
            "_view_name": "StyleView",
            "_model_name": "DescriptionStyleModel",
            "description_width": "",
            "_view_module": "@jupyter-widgets/base",
            "_model_module_version": "1.5.0",
            "_view_count": null,
            "_view_module_version": "1.2.0",
            "_model_module": "@jupyter-widgets/controls"
          }
        },
        "303c97178ebe4aa591cd2ee68a6bf8da": {
          "model_module": "@jupyter-widgets/base",
          "model_name": "LayoutModel",
          "model_module_version": "1.2.0",
          "state": {
            "_view_name": "LayoutView",
            "grid_template_rows": null,
            "right": null,
            "justify_content": null,
            "_view_module": "@jupyter-widgets/base",
            "overflow": null,
            "_model_module_version": "1.2.0",
            "_view_count": null,
            "flex_flow": null,
            "width": null,
            "min_width": null,
            "border": null,
            "align_items": null,
            "bottom": null,
            "_model_module": "@jupyter-widgets/base",
            "top": null,
            "grid_column": null,
            "overflow_y": null,
            "overflow_x": null,
            "grid_auto_flow": null,
            "grid_area": null,
            "grid_template_columns": null,
            "flex": null,
            "_model_name": "LayoutModel",
            "justify_items": null,
            "grid_row": null,
            "max_height": null,
            "align_content": null,
            "visibility": null,
            "align_self": null,
            "height": null,
            "min_height": null,
            "padding": null,
            "grid_auto_rows": null,
            "grid_gap": null,
            "max_width": null,
            "order": null,
            "_view_module_version": "1.2.0",
            "grid_template_areas": null,
            "object_position": null,
            "object_fit": null,
            "grid_auto_columns": null,
            "margin": null,
            "display": null,
            "left": null
          }
        },
        "d64341d6bcf14008bce1888477e53f52": {
          "model_module": "@jupyter-widgets/controls",
          "model_name": "ProgressStyleModel",
          "model_module_version": "1.5.0",
          "state": {
            "_view_name": "StyleView",
            "_model_name": "ProgressStyleModel",
            "description_width": "",
            "_view_module": "@jupyter-widgets/base",
            "_model_module_version": "1.5.0",
            "_view_count": null,
            "_view_module_version": "1.2.0",
            "bar_color": null,
            "_model_module": "@jupyter-widgets/controls"
          }
        },
        "9caad520c4bf4d17b41ee482128b2698": {
          "model_module": "@jupyter-widgets/base",
          "model_name": "LayoutModel",
          "model_module_version": "1.2.0",
          "state": {
            "_view_name": "LayoutView",
            "grid_template_rows": null,
            "right": null,
            "justify_content": null,
            "_view_module": "@jupyter-widgets/base",
            "overflow": null,
            "_model_module_version": "1.2.0",
            "_view_count": null,
            "flex_flow": null,
            "width": null,
            "min_width": null,
            "border": null,
            "align_items": null,
            "bottom": null,
            "_model_module": "@jupyter-widgets/base",
            "top": null,
            "grid_column": null,
            "overflow_y": null,
            "overflow_x": null,
            "grid_auto_flow": null,
            "grid_area": null,
            "grid_template_columns": null,
            "flex": null,
            "_model_name": "LayoutModel",
            "justify_items": null,
            "grid_row": null,
            "max_height": null,
            "align_content": null,
            "visibility": null,
            "align_self": null,
            "height": null,
            "min_height": null,
            "padding": null,
            "grid_auto_rows": null,
            "grid_gap": null,
            "max_width": null,
            "order": null,
            "_view_module_version": "1.2.0",
            "grid_template_areas": null,
            "object_position": null,
            "object_fit": null,
            "grid_auto_columns": null,
            "margin": null,
            "display": null,
            "left": null
          }
        },
        "f4799feda301467d8a1afb4ea9ea17a0": {
          "model_module": "@jupyter-widgets/controls",
          "model_name": "DescriptionStyleModel",
          "model_module_version": "1.5.0",
          "state": {
            "_view_name": "StyleView",
            "_model_name": "DescriptionStyleModel",
            "description_width": "",
            "_view_module": "@jupyter-widgets/base",
            "_model_module_version": "1.5.0",
            "_view_count": null,
            "_view_module_version": "1.2.0",
            "_model_module": "@jupyter-widgets/controls"
          }
        },
        "b8ddaabfbc1e4a7389a59599dae63780": {
          "model_module": "@jupyter-widgets/base",
          "model_name": "LayoutModel",
          "model_module_version": "1.2.0",
          "state": {
            "_view_name": "LayoutView",
            "grid_template_rows": null,
            "right": null,
            "justify_content": null,
            "_view_module": "@jupyter-widgets/base",
            "overflow": null,
            "_model_module_version": "1.2.0",
            "_view_count": null,
            "flex_flow": null,
            "width": null,
            "min_width": null,
            "border": null,
            "align_items": null,
            "bottom": null,
            "_model_module": "@jupyter-widgets/base",
            "top": null,
            "grid_column": null,
            "overflow_y": null,
            "overflow_x": null,
            "grid_auto_flow": null,
            "grid_area": null,
            "grid_template_columns": null,
            "flex": null,
            "_model_name": "LayoutModel",
            "justify_items": null,
            "grid_row": null,
            "max_height": null,
            "align_content": null,
            "visibility": null,
            "align_self": null,
            "height": null,
            "min_height": null,
            "padding": null,
            "grid_auto_rows": null,
            "grid_gap": null,
            "max_width": null,
            "order": null,
            "_view_module_version": "1.2.0",
            "grid_template_areas": null,
            "object_position": null,
            "object_fit": null,
            "grid_auto_columns": null,
            "margin": null,
            "display": null,
            "left": null
          }
        }
      }
    }
  },
  "cells": [
    {
      "cell_type": "markdown",
      "metadata": {
        "id": "view-in-github",
        "colab_type": "text"
      },
      "source": [
        "<a href=\"https://colab.research.google.com/github/superbunny38/2021DeepLearning/blob/main/pytorch/Chap_8_(4)_Ensemble.ipynb\" target=\"_parent\"><img src=\"https://colab.research.google.com/assets/colab-badge.svg\" alt=\"Open In Colab\"/></a>"
      ]
    },
    {
      "cell_type": "code",
      "execution_count": 1,
      "metadata": {
        "id": "SrEQ-3zLtHSw"
      },
      "outputs": [],
      "source": [
        "import pandas as pd\n",
        "from glob import glob\n",
        "import os\n",
        "from shutil import copyfile\n",
        "from torch.utils.data import Dataset\n",
        "from PIL import Image\n",
        "import numpy as np\n",
        "from numpy.random import permutation\n",
        "import matplotlib.pyplot as plt\n",
        "\n",
        "from torchvision import transforms\n",
        "from torchvision.datasets import ImageFolder\n",
        "from torchvision.models import resnet18,resnet34,densenet121\n",
        "from torchvision.models.inception import inception_v3\n",
        "from torch.utils.data import DataLoader\n",
        "from torch.autograd import Variable\n",
        "import torch\n",
        "import torch.nn as nn\n",
        "import torch.optim as optim\n",
        "import torch.nn.functional as F\n",
        "\n",
        "import pickle\n",
        "%matplotlib inline"
      ]
    },
    {
      "cell_type": "code",
      "source": [
        "is_cuda = torch.cuda.is_available()\n",
        "is_cuda = torch.cuda.is_available()\n",
        "print(is_cuda)\n",
        "print(torch.cuda.memory_allocated())\n",
        "torch.cuda.empty_cache()"
      ],
      "metadata": {
        "colab": {
          "base_uri": "https://localhost:8080/"
        },
        "id": "mVn5au1MtOaT",
        "outputId": "a0d5b3c7-b40e-4013-f500-5ef085188e96"
      },
      "execution_count": 2,
      "outputs": [
        {
          "output_type": "stream",
          "name": "stdout",
          "text": [
            "True\n",
            "0\n"
          ]
        }
      ]
    },
    {
      "cell_type": "code",
      "source": [
        "def imshow(inp,cmap=None):\n",
        "    \"\"\"Imshow for Tensor.\"\"\"\n",
        "    inp = inp.numpy().transpose((1, 2, 0))\n",
        "    mean = np.array([0.485, 0.456, 0.406])\n",
        "    std = np.array([0.229, 0.224, 0.225])\n",
        "    inp = std * inp + mean\n",
        "    inp = np.clip(inp, 0, 1)\n",
        "    plt.imshow(inp,cmap)\n",
        "    \n",
        "class FeaturesDataset(Dataset):\n",
        "    \n",
        "    def __init__(self,featlst1,featlst2,featlst3,labellst):\n",
        "        self.featlst1 = featlst1\n",
        "        self.featlst2 = featlst2\n",
        "        self.featlst3 = featlst3\n",
        "        self.labellst = labellst\n",
        "        \n",
        "    def __getitem__(self,index):\n",
        "        return (self.featlst1[index],self.featlst2[index],self.featlst3[index],self.labellst[index])\n",
        "    \n",
        "    def __len__(self):\n",
        "        return len(self.labellst)\n",
        "    \n",
        "def fit(epoch,model,data_loader,phase='training',volatile=False):\n",
        "    if phase == 'training':\n",
        "        model.train()\n",
        "    if phase == 'validation':\n",
        "        model.eval()\n",
        "        volatile=True\n",
        "    running_loss = 0.0\n",
        "    running_correct = 0\n",
        "    for batch_idx , (data1,data2,data3,target) in enumerate(data_loader):\n",
        "        if is_cuda:\n",
        "            data1,data2,data3,target = data1.cuda(),data2.cuda(),data3.cuda(),target.cuda()\n",
        "        data1,data2,data3,target = Variable(data1,volatile),Variable(data2,volatile),Variable(data3,volatile),Variable(target)\n",
        "        if phase == 'training':\n",
        "            optimizer.zero_grad()\n",
        "        output = model(data1,data2,data3)\n",
        "        loss = F.cross_entropy(output,target)\n",
        "        \n",
        "        running_loss += F.cross_entropy(output,target,size_average=False).data\n",
        "        preds = output.data.max(dim=1,keepdim=True)[1]\n",
        "        running_correct += preds.eq(target.data.view_as(preds)).cpu().sum()\n",
        "        if phase == 'training':\n",
        "            loss.backward()\n",
        "            optimizer.step()\n",
        "    \n",
        "    loss = running_loss/len(data_loader.dataset)\n",
        "    accuracy = 100. * running_correct/len(data_loader.dataset)\n",
        "    \n",
        "    print(f'{phase} loss is {loss:{5}.{2}} and {phase} accuracy is {running_correct}/{len(data_loader.dataset)}{accuracy:{10}.{4}}')\n",
        "    return loss,accuracy\n",
        "\n",
        "class LayerActivations():\n",
        "    features=[]\n",
        "    \n",
        "    def __init__(self,model):\n",
        "        self.features = []\n",
        "        self.hook = model.register_forward_hook(self.hook_fn)\n",
        "    \n",
        "    def hook_fn(self,module,input,output):\n",
        "        #out = F.avg_pool2d(output, kernel_size=8)\n",
        "        self.features.extend(output.view(output.size(0),-1).cpu().data)\n",
        "\n",
        "    \n",
        "    def remove(self):\n",
        "        \n",
        "        self.hook.remove()"
      ],
      "metadata": {
        "id": "94lbuLxqtRvo"
      },
      "execution_count": 24,
      "outputs": []
    },
    {
      "cell_type": "markdown",
      "source": [
        "## Creating PyTorch datasets"
      ],
      "metadata": {
        "id": "VnYsodu5tW-u"
      }
    },
    {
      "cell_type": "code",
      "source": [
        "data_transform = transforms.Compose([\n",
        "        transforms.Resize((299,299)),\n",
        "        transforms.ToTensor(),\n",
        "        transforms.Normalize([0.485, 0.456, 0.406], [0.229, 0.224, 0.225])\n",
        "    ])"
      ],
      "metadata": {
        "id": "sxeO1-rVtVJ6"
      },
      "execution_count": 4,
      "outputs": []
    },
    {
      "cell_type": "code",
      "source": [
        "!git clone https://github.com/ardamavi/Dog-Cat-Classifier repo\n",
        "!mkdir workspace\n",
        "%mv /content/repo/Data/Train_Data /content/workspace\n",
        "%cd workspace\n",
        "\n",
        "import glob\n",
        "path = \"/content/workspace/Train_Data\"\n",
        "#read all the files inside the folder\n",
        "dog_files = [f for f in glob.glob(\"/content/workspace/Train_Data/dog/*.jpg\")]\n",
        "cat_files = [f for f in glob.glob(\"/content/workspace/Train_Data/cat/*.jpg\")]\n",
        "\n",
        "files = dog_files+cat_files\n",
        "print(f\"Total number of images: {len(files)}\")\n",
        "no_of_images = len(files)\n",
        "shuffle = np.random.permutation(no_of_images)\n",
        "os.mkdir(os.path.join(path, \"train\"))\n",
        "os.mkdir(os.path.join(path, \"valid\"))\n",
        "for t in ['train','valid']:\n",
        "  for folder in ['dog/', 'cat/']:\n",
        "    os.mkdir(os.path.join(path,t,folder))\n",
        "\n",
        "#검증데이터 넣기\n",
        "for i in shuffle[:250]:#250개\n",
        "  folder = files[i].split(\"/\")[-2].split(\".\")[0]\n",
        "  image = files[i].split('/')[-1]\n",
        "  image = image[4:]\n",
        "  os.rename(files[i], os.path.join(path, 'valid', folder, image))\n",
        "\n",
        "  #학습데이터 넣기\n",
        "for i in shuffle[250:]:\n",
        "  folder = files[i].split(\"/\")[-2].split(\".\")[0]\n",
        "  image = files[i].split('/')[-1]\n",
        "  image = image[4:]\n",
        "  os.rename(files[i], os.path.join(path, 'train', folder, image))\n",
        "\n",
        "from torchvision.datasets import ImageFolder\n",
        "train_dset = ImageFolder(\"/content/workspace/Train_Data/train\", data_transform)\n",
        "val_dset = ImageFolder(\"/content/workspace/Train_Data/valid\", data_transform)\n",
        "classes=2\n",
        "\n",
        "train_loader = DataLoader(train_dset,batch_size=32,shuffle=False,num_workers=3)\n",
        "val_loader = DataLoader(val_dset,batch_size=32,shuffle=False,num_workers=3)"
      ],
      "metadata": {
        "colab": {
          "base_uri": "https://localhost:8080/"
        },
        "id": "zqQiX65KtedM",
        "outputId": "32f93088-9e1c-4043-ab94-0cb1f99ddce5"
      },
      "execution_count": 5,
      "outputs": [
        {
          "output_type": "stream",
          "name": "stdout",
          "text": [
            "Cloning into 'repo'...\n",
            "remote: Enumerating objects: 1654, done.\u001b[K\n",
            "remote: Total 1654 (delta 0), reused 0 (delta 0), pack-reused 1654\u001b[K\n",
            "Receiving objects: 100% (1654/1654), 34.83 MiB | 29.67 MiB/s, done.\n",
            "Resolving deltas: 100% (147/147), done.\n",
            "/content/workspace\n",
            "Total number of images: 1399\n"
          ]
        },
        {
          "output_type": "stream",
          "name": "stderr",
          "text": [
            "/usr/local/lib/python3.7/dist-packages/torch/utils/data/dataloader.py:481: UserWarning: This DataLoader will create 3 worker processes in total. Our suggested max number of worker in current system is 2, which is smaller than what this DataLoader is going to create. Please be aware that excessive worker creation might get DataLoader running slow or even freeze, lower the worker number to avoid potential slowness/freeze if necessary.\n",
            "  cpuset_checked))\n"
          ]
        }
      ]
    },
    {
      "cell_type": "markdown",
      "source": [
        "# Creating models"
      ],
      "metadata": {
        "id": "gBw2EcZYturj"
      }
    },
    {
      "cell_type": "code",
      "source": [
        "#Create ResNet model\n",
        "my_resnet = resnet34(pretrained=True)\n",
        "\n",
        "if is_cuda:\n",
        "    my_resnet = my_resnet.cuda()\n",
        "\n",
        "my_resnet = nn.Sequential(*list(my_resnet.children())[:-1])\n",
        "\n",
        "for p in my_resnet.parameters():\n",
        "    p.requires_grad = False\n",
        "\n",
        "#Create inception model\n",
        "\n",
        "my_inception = inception_v3(pretrained=True)\n",
        "my_inception.aux_logits = False\n",
        "if is_cuda:\n",
        "    my_inception = my_inception.cuda()\n",
        "for p in my_inception.parameters():\n",
        "    p.requires_grad = False\n",
        "\n",
        "#Create densenet model\n",
        "\n",
        "my_densenet = densenet121(pretrained=True).features\n",
        "if is_cuda:\n",
        "    my_densenet = my_densenet.cuda()\n",
        "    \n",
        "for p in my_densenet.parameters():\n",
        "    p.requires_grad = False"
      ],
      "metadata": {
        "colab": {
          "base_uri": "https://localhost:8080/",
          "height": 167,
          "referenced_widgets": [
            "5661fe53eaac49bfad933f1e3d0a42fa",
            "e42ecbeb3df14e39a338fd1e6619fa60",
            "4215c0ab6f27420688e5a7011de9de08",
            "662f1eef92fb42e6b85525dd84be1efb",
            "3d0309beed8140489ff0275737d53ce1",
            "34a9752077284dc0afb596c0ea982403",
            "88d033f28ceb40cea175e99a78b09f1b",
            "50abe5858aee4002ac05378d6d50e104",
            "ae1cab24e1a447dd90fcbd0dd83af407",
            "b403baa4d25d418d9613b4f7d3460ef2",
            "80e935b653f843829130817433262ba3",
            "54127f34dcb54ed0aee7fd38565b6b1d",
            "bb5fecd0e8534fa7ada05b85daa68442",
            "f8657ffc01e642059a3f07a2aa02843b",
            "e4c7b4e288c344bdbb8f56cdf24f9feb",
            "cf9c5fee5672488fb6ab6c9e35a3a89b",
            "6a9d34d30a16461d98f312e015dee244",
            "bb30b4e77e5a45768634bc781fa52218",
            "e7d38c4c191f4af6a4bf433ee930e059",
            "090a1199ccdf44eabbd2dcd6b35b85b3",
            "f6bf3c7e31f8494ea717e1f971ba204b",
            "00b6567d65914ef3b2707a905b9820c9",
            "9bdd6184430048aabfe3d4cb6a2d2fbb",
            "551da0fe856c46e9a5e2c7fa6848c823",
            "5e74cc2a00a945b98fba0d69b1219b65",
            "a00ab48b9604409b9952b358f1037c73",
            "b128355a2590434f8ecef1e46e5c3c80",
            "4b3c9a1145a24442a2dd9c319a0108e4",
            "303c97178ebe4aa591cd2ee68a6bf8da",
            "d64341d6bcf14008bce1888477e53f52",
            "9caad520c4bf4d17b41ee482128b2698",
            "f4799feda301467d8a1afb4ea9ea17a0",
            "b8ddaabfbc1e4a7389a59599dae63780"
          ]
        },
        "id": "OPDSq-RZtpxZ",
        "outputId": "c2952348-bde0-4691-a83b-db7ffa63ae0b"
      },
      "execution_count": 6,
      "outputs": [
        {
          "output_type": "stream",
          "name": "stderr",
          "text": [
            "Downloading: \"https://download.pytorch.org/models/resnet34-b627a593.pth\" to /root/.cache/torch/hub/checkpoints/resnet34-b627a593.pth\n"
          ]
        },
        {
          "output_type": "display_data",
          "data": {
            "application/vnd.jupyter.widget-view+json": {
              "model_id": "5661fe53eaac49bfad933f1e3d0a42fa",
              "version_minor": 0,
              "version_major": 2
            },
            "text/plain": [
              "  0%|          | 0.00/83.3M [00:00<?, ?B/s]"
            ]
          },
          "metadata": {}
        },
        {
          "output_type": "stream",
          "name": "stderr",
          "text": [
            "Downloading: \"https://download.pytorch.org/models/inception_v3_google-0cc3c7bd.pth\" to /root/.cache/torch/hub/checkpoints/inception_v3_google-0cc3c7bd.pth\n"
          ]
        },
        {
          "output_type": "display_data",
          "data": {
            "application/vnd.jupyter.widget-view+json": {
              "model_id": "54127f34dcb54ed0aee7fd38565b6b1d",
              "version_minor": 0,
              "version_major": 2
            },
            "text/plain": [
              "  0%|          | 0.00/104M [00:00<?, ?B/s]"
            ]
          },
          "metadata": {}
        },
        {
          "output_type": "stream",
          "name": "stderr",
          "text": [
            "Downloading: \"https://download.pytorch.org/models/densenet121-a639ec97.pth\" to /root/.cache/torch/hub/checkpoints/densenet121-a639ec97.pth\n"
          ]
        },
        {
          "output_type": "display_data",
          "data": {
            "application/vnd.jupyter.widget-view+json": {
              "model_id": "9bdd6184430048aabfe3d4cb6a2d2fbb",
              "version_minor": 0,
              "version_major": 2
            },
            "text/plain": [
              "  0%|          | 0.00/30.8M [00:00<?, ?B/s]"
            ]
          },
          "metadata": {}
        }
      ]
    },
    {
      "cell_type": "markdown",
      "source": [
        "# Extract convolution features from ResNet , Inception and DenseNet"
      ],
      "metadata": {
        "id": "eu3qM0R1t3hg"
      }
    },
    {
      "cell_type": "code",
      "source": [
        "### For ResNet\n",
        "\n",
        "trn_labels = []\n",
        "trn_resnet_features = []\n",
        "for d,la in train_loader:\n",
        "    o = my_resnet(Variable(d.cuda()))\n",
        "    o = o.view(o.size(0),-1)\n",
        "    trn_labels.extend(la)\n",
        "    trn_resnet_features.extend(o.cpu().data)\n",
        "validation_labels = []\n",
        "validation_resnet_features = []\n",
        "for d,la in val_loader:\n",
        "    o = my_resnet(Variable(d.cuda()))\n",
        "    o = o.view(o.size(0),-1)\n",
        "    validation_labels.extend(la)\n",
        "    validation_resnet_features.extend(o.cpu().data)\n",
        "\n",
        "### For Inception\n",
        "\n",
        "trn_inception_features = LayerActivations(my_inception.Mixed_7c)\n",
        "for da,la in train_loader:\n",
        "    _ = my_inception(Variable(da.cuda()))\n",
        "\n",
        "trn_inception_features.remove()\n",
        "\n",
        "validation_inception_features = LayerActivations(my_inception.Mixed_7c)\n",
        "for da,la in val_loader:\n",
        "    _ = my_inception(Variable(da.cuda()))\n",
        "\n",
        "validation_inception_features.remove()\n",
        "\n",
        "### For Densenet\n",
        "\n",
        "\n",
        "trn_densenet_features = []\n",
        "for d,la in train_loader:\n",
        "    o = my_densenet(Variable(d.cuda()))\n",
        "    o = o.view(o.size(0),-1)\n",
        "    \n",
        "    trn_densenet_features.extend(o.cpu().data)\n",
        "    \n",
        "\n",
        "validation_densenet_features = []\n",
        "for d,la in val_loader:\n",
        "    o = my_densenet(Variable(d.cuda()))\n",
        "    o = o.view(o.size(0),-1)\n",
        "    validation_densenet_features.extend(o.cpu().data)"
      ],
      "metadata": {
        "colab": {
          "base_uri": "https://localhost:8080/"
        },
        "id": "gtVxNxvmt0Bv",
        "outputId": "8af03225-ec8a-41e4-a488-7a1fa38b5dde"
      },
      "execution_count": 9,
      "outputs": [
        {
          "output_type": "stream",
          "name": "stderr",
          "text": [
            "/usr/local/lib/python3.7/dist-packages/torch/utils/data/dataloader.py:481: UserWarning: This DataLoader will create 3 worker processes in total. Our suggested max number of worker in current system is 2, which is smaller than what this DataLoader is going to create. Please be aware that excessive worker creation might get DataLoader running slow or even freeze, lower the worker number to avoid potential slowness/freeze if necessary.\n",
            "  cpuset_checked))\n"
          ]
        }
      ]
    },
    {
      "cell_type": "markdown",
      "source": [
        "# Create Dataset and DataLoader for train and val"
      ],
      "metadata": {
        "id": "DGqa3x3CuRVx"
      }
    },
    {
      "cell_type": "code",
      "source": [
        "trn_feat_dset = FeaturesDataset(trn_resnet_features,trn_inception_features.features,trn_densenet_features,trn_labels)\n",
        "validation_feat_dset = FeaturesDataset(validation_resnet_features,validation_inception_features.features,validation_densenet_features,validation_labels)"
      ],
      "metadata": {
        "id": "2Z_6ViEvuDEl"
      },
      "execution_count": 10,
      "outputs": []
    },
    {
      "cell_type": "code",
      "source": [
        "trn_feat_loader = DataLoader(trn_feat_dset,batch_size=64,shuffle=True)\n",
        "validation_feat_loader = DataLoader(validation_feat_dset,batch_size=64)"
      ],
      "metadata": {
        "id": "ZeEeSGEtuhTJ"
      },
      "execution_count": 11,
      "outputs": []
    },
    {
      "cell_type": "markdown",
      "source": [
        "# Ensemble model"
      ],
      "metadata": {
        "id": "DlCKmDn3urn9"
      }
    },
    {
      "cell_type": "code",
      "source": [
        "class EnsembleModel(nn.Module):\n",
        "    \n",
        "    def __init__(self,output_size,training=True):\n",
        "        super().__init__()\n",
        "        self.fully_connected1 = nn.Linear(512,512)\n",
        "        self.fully_connected2 = nn.Linear(131072,512)\n",
        "        self.fully_connected3 = nn.Linear(82944,512)\n",
        "        self.fully_connected4 = nn.Linear(512,output_size)\n",
        "\n",
        "    def forward(self,input1,input2,input3):\n",
        "        output1 = self.fully_connected1(F.dropout(input1,training=self.training))\n",
        "        output2 = self.fully_connected2(F.dropout(input2,training=self.training))\n",
        "        output3 = self.fully_connected3(F.dropout(input3,training=self.training))\n",
        "        output = output1 + output2 + output3\n",
        "        output = self.fully_connected4(F.dropout(output,training=self.training))\n",
        "        return output"
      ],
      "metadata": {
        "id": "rAYUDBTuuo0-"
      },
      "execution_count": 20,
      "outputs": []
    },
    {
      "cell_type": "code",
      "source": [
        "em = EnsembleModel(2)\n",
        "if is_cuda:\n",
        "    em = em.cuda()"
      ],
      "metadata": {
        "id": "pcnl-ubjutPV"
      },
      "execution_count": 21,
      "outputs": []
    },
    {
      "cell_type": "code",
      "source": [
        "optimizer = optim.Adam(em.parameters(),lr=0.01)"
      ],
      "metadata": {
        "id": "xDYLIUsRuvRU"
      },
      "execution_count": 22,
      "outputs": []
    },
    {
      "cell_type": "markdown",
      "source": [
        "# Train"
      ],
      "metadata": {
        "id": "yTPAxm12uybt"
      }
    },
    {
      "cell_type": "code",
      "source": [
        "train_losses , train_accuracy = [],[]\n",
        "validation_losses , validation_accuracy = [],[]\n",
        "for epoch in range(1,10):\n",
        "    epoch_loss, epoch_accuracy = fit(epoch,em,trn_feat_loader,phase='training')\n",
        "    validation_epoch_loss , validation_epoch_accuracy = fit(epoch,em,validation_feat_loader,phase='validation')\n",
        "    train_losses.append(epoch_loss)\n",
        "    train_accuracy.append(epoch_accuracy)\n",
        "    validation_losses.append(validation_epoch_loss)\n",
        "    validation_accuracy.append(validation_epoch_accuracy)"
      ],
      "metadata": {
        "colab": {
          "base_uri": "https://localhost:8080/"
        },
        "id": "RfAA9Yu4uwvN",
        "outputId": "7d5112ed-5422-4163-d285-1f0a45a9f5bd"
      },
      "execution_count": 25,
      "outputs": [
        {
          "output_type": "stream",
          "name": "stderr",
          "text": [
            "/usr/local/lib/python3.7/dist-packages/torch/nn/_reduction.py:42: UserWarning: size_average and reduce args will be deprecated, please use reduction='sum' instead.\n",
            "  warnings.warn(warning.format(ret))\n"
          ]
        },
        {
          "output_type": "stream",
          "name": "stdout",
          "text": [
            "training loss is 4.1e+02 and training accuracy is 681/1149     59.27\n",
            "validation loss is 2.2e+01 and validation accuracy is 223/250      89.2\n",
            "training loss is 1.7e+01 and training accuracy is 1068/1149     92.95\n",
            "validation loss is 1.9e+01 and validation accuracy is 233/250      93.2\n",
            "training loss is   7.5 and training accuracy is 1114/1149     96.95\n",
            "validation loss is 3.3e+01 and validation accuracy is 229/250      91.6\n",
            "training loss is   9.1 and training accuracy is 1114/1149     96.95\n",
            "validation loss is 1.9e+01 and validation accuracy is 236/250      94.4\n",
            "training loss is   4.8 and training accuracy is 1130/1149     98.35\n",
            "validation loss is 8.2e+01 and validation accuracy is 220/250      88.0\n",
            "training loss is   7.3 and training accuracy is 1122/1149     97.65\n",
            "validation loss is 2.2e+01 and validation accuracy is 242/250      96.8\n",
            "training loss is   2.1 and training accuracy is 1142/1149     99.39\n",
            "validation loss is 2.7e+01 and validation accuracy is 238/250      95.2\n",
            "training loss is   1.1 and training accuracy is 1141/1149      99.3\n",
            "validation loss is 3.2e+01 and validation accuracy is 230/250      92.0\n",
            "training loss is   1.7 and training accuracy is 1141/1149      99.3\n",
            "validation loss is 3.1e+01 and validation accuracy is 240/250      96.0\n"
          ]
        }
      ]
    }
  ]
}