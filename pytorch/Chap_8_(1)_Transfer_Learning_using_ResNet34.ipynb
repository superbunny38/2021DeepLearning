{
  "nbformat": 4,
  "nbformat_minor": 0,
  "metadata": {
    "colab": {
      "name": "Chap 8 (1) Transfer Learning using ResNet34.ipynb",
      "provenance": [],
      "collapsed_sections": [],
      "include_colab_link": true
    },
    "kernelspec": {
      "name": "python3",
      "display_name": "Python 3"
    },
    "language_info": {
      "name": "python"
    },
    "accelerator": "GPU",
    "widgets": {
      "application/vnd.jupyter.widget-state+json": {
        "b3670458df5e46c7918bb15a4988b677": {
          "model_module": "@jupyter-widgets/controls",
          "model_name": "HBoxModel",
          "model_module_version": "1.5.0",
          "state": {
            "_view_name": "HBoxView",
            "_dom_classes": [],
            "_model_name": "HBoxModel",
            "_view_module": "@jupyter-widgets/controls",
            "_model_module_version": "1.5.0",
            "_view_count": null,
            "_view_module_version": "1.5.0",
            "box_style": "",
            "layout": "IPY_MODEL_1b6c1e6f9a3344c1be9568a093bd7e68",
            "_model_module": "@jupyter-widgets/controls",
            "children": [
              "IPY_MODEL_6a449297d1574b80838c29072518d9c4",
              "IPY_MODEL_70f0d9b16a75404690729fb3e5f0cc1f",
              "IPY_MODEL_d5b6fdb39bd645b28b8d1cb4e9ef346a"
            ]
          }
        },
        "1b6c1e6f9a3344c1be9568a093bd7e68": {
          "model_module": "@jupyter-widgets/base",
          "model_name": "LayoutModel",
          "model_module_version": "1.2.0",
          "state": {
            "_view_name": "LayoutView",
            "grid_template_rows": null,
            "right": null,
            "justify_content": null,
            "_view_module": "@jupyter-widgets/base",
            "overflow": null,
            "_model_module_version": "1.2.0",
            "_view_count": null,
            "flex_flow": null,
            "width": null,
            "min_width": null,
            "border": null,
            "align_items": null,
            "bottom": null,
            "_model_module": "@jupyter-widgets/base",
            "top": null,
            "grid_column": null,
            "overflow_y": null,
            "overflow_x": null,
            "grid_auto_flow": null,
            "grid_area": null,
            "grid_template_columns": null,
            "flex": null,
            "_model_name": "LayoutModel",
            "justify_items": null,
            "grid_row": null,
            "max_height": null,
            "align_content": null,
            "visibility": null,
            "align_self": null,
            "height": null,
            "min_height": null,
            "padding": null,
            "grid_auto_rows": null,
            "grid_gap": null,
            "max_width": null,
            "order": null,
            "_view_module_version": "1.2.0",
            "grid_template_areas": null,
            "object_position": null,
            "object_fit": null,
            "grid_auto_columns": null,
            "margin": null,
            "display": null,
            "left": null
          }
        },
        "6a449297d1574b80838c29072518d9c4": {
          "model_module": "@jupyter-widgets/controls",
          "model_name": "HTMLModel",
          "model_module_version": "1.5.0",
          "state": {
            "_view_name": "HTMLView",
            "style": "IPY_MODEL_5f5504fc3a8f479da16041eeaa4ecb7b",
            "_dom_classes": [],
            "description": "",
            "_model_name": "HTMLModel",
            "placeholder": "​",
            "_view_module": "@jupyter-widgets/controls",
            "_model_module_version": "1.5.0",
            "value": "100%",
            "_view_count": null,
            "_view_module_version": "1.5.0",
            "description_tooltip": null,
            "_model_module": "@jupyter-widgets/controls",
            "layout": "IPY_MODEL_48200fcb0f464e55a207ac6b57581b40"
          }
        },
        "70f0d9b16a75404690729fb3e5f0cc1f": {
          "model_module": "@jupyter-widgets/controls",
          "model_name": "FloatProgressModel",
          "model_module_version": "1.5.0",
          "state": {
            "_view_name": "ProgressView",
            "style": "IPY_MODEL_ba08e518a04249559d3606299e70457d",
            "_dom_classes": [],
            "description": "",
            "_model_name": "FloatProgressModel",
            "bar_style": "success",
            "max": 87319819,
            "_view_module": "@jupyter-widgets/controls",
            "_model_module_version": "1.5.0",
            "value": 87319819,
            "_view_count": null,
            "_view_module_version": "1.5.0",
            "orientation": "horizontal",
            "min": 0,
            "description_tooltip": null,
            "_model_module": "@jupyter-widgets/controls",
            "layout": "IPY_MODEL_b71d7ac8296f4651aa5e4ff98d69050d"
          }
        },
        "d5b6fdb39bd645b28b8d1cb4e9ef346a": {
          "model_module": "@jupyter-widgets/controls",
          "model_name": "HTMLModel",
          "model_module_version": "1.5.0",
          "state": {
            "_view_name": "HTMLView",
            "style": "IPY_MODEL_fbbef126d79e406eb15a495dc47dda37",
            "_dom_classes": [],
            "description": "",
            "_model_name": "HTMLModel",
            "placeholder": "​",
            "_view_module": "@jupyter-widgets/controls",
            "_model_module_version": "1.5.0",
            "value": " 83.3M/83.3M [00:04&lt;00:00, 22.5MB/s]",
            "_view_count": null,
            "_view_module_version": "1.5.0",
            "description_tooltip": null,
            "_model_module": "@jupyter-widgets/controls",
            "layout": "IPY_MODEL_55ab1259feed440da2d5561ddb74fe27"
          }
        },
        "5f5504fc3a8f479da16041eeaa4ecb7b": {
          "model_module": "@jupyter-widgets/controls",
          "model_name": "DescriptionStyleModel",
          "model_module_version": "1.5.0",
          "state": {
            "_view_name": "StyleView",
            "_model_name": "DescriptionStyleModel",
            "description_width": "",
            "_view_module": "@jupyter-widgets/base",
            "_model_module_version": "1.5.0",
            "_view_count": null,
            "_view_module_version": "1.2.0",
            "_model_module": "@jupyter-widgets/controls"
          }
        },
        "48200fcb0f464e55a207ac6b57581b40": {
          "model_module": "@jupyter-widgets/base",
          "model_name": "LayoutModel",
          "model_module_version": "1.2.0",
          "state": {
            "_view_name": "LayoutView",
            "grid_template_rows": null,
            "right": null,
            "justify_content": null,
            "_view_module": "@jupyter-widgets/base",
            "overflow": null,
            "_model_module_version": "1.2.0",
            "_view_count": null,
            "flex_flow": null,
            "width": null,
            "min_width": null,
            "border": null,
            "align_items": null,
            "bottom": null,
            "_model_module": "@jupyter-widgets/base",
            "top": null,
            "grid_column": null,
            "overflow_y": null,
            "overflow_x": null,
            "grid_auto_flow": null,
            "grid_area": null,
            "grid_template_columns": null,
            "flex": null,
            "_model_name": "LayoutModel",
            "justify_items": null,
            "grid_row": null,
            "max_height": null,
            "align_content": null,
            "visibility": null,
            "align_self": null,
            "height": null,
            "min_height": null,
            "padding": null,
            "grid_auto_rows": null,
            "grid_gap": null,
            "max_width": null,
            "order": null,
            "_view_module_version": "1.2.0",
            "grid_template_areas": null,
            "object_position": null,
            "object_fit": null,
            "grid_auto_columns": null,
            "margin": null,
            "display": null,
            "left": null
          }
        },
        "ba08e518a04249559d3606299e70457d": {
          "model_module": "@jupyter-widgets/controls",
          "model_name": "ProgressStyleModel",
          "model_module_version": "1.5.0",
          "state": {
            "_view_name": "StyleView",
            "_model_name": "ProgressStyleModel",
            "description_width": "",
            "_view_module": "@jupyter-widgets/base",
            "_model_module_version": "1.5.0",
            "_view_count": null,
            "_view_module_version": "1.2.0",
            "bar_color": null,
            "_model_module": "@jupyter-widgets/controls"
          }
        },
        "b71d7ac8296f4651aa5e4ff98d69050d": {
          "model_module": "@jupyter-widgets/base",
          "model_name": "LayoutModel",
          "model_module_version": "1.2.0",
          "state": {
            "_view_name": "LayoutView",
            "grid_template_rows": null,
            "right": null,
            "justify_content": null,
            "_view_module": "@jupyter-widgets/base",
            "overflow": null,
            "_model_module_version": "1.2.0",
            "_view_count": null,
            "flex_flow": null,
            "width": null,
            "min_width": null,
            "border": null,
            "align_items": null,
            "bottom": null,
            "_model_module": "@jupyter-widgets/base",
            "top": null,
            "grid_column": null,
            "overflow_y": null,
            "overflow_x": null,
            "grid_auto_flow": null,
            "grid_area": null,
            "grid_template_columns": null,
            "flex": null,
            "_model_name": "LayoutModel",
            "justify_items": null,
            "grid_row": null,
            "max_height": null,
            "align_content": null,
            "visibility": null,
            "align_self": null,
            "height": null,
            "min_height": null,
            "padding": null,
            "grid_auto_rows": null,
            "grid_gap": null,
            "max_width": null,
            "order": null,
            "_view_module_version": "1.2.0",
            "grid_template_areas": null,
            "object_position": null,
            "object_fit": null,
            "grid_auto_columns": null,
            "margin": null,
            "display": null,
            "left": null
          }
        },
        "fbbef126d79e406eb15a495dc47dda37": {
          "model_module": "@jupyter-widgets/controls",
          "model_name": "DescriptionStyleModel",
          "model_module_version": "1.5.0",
          "state": {
            "_view_name": "StyleView",
            "_model_name": "DescriptionStyleModel",
            "description_width": "",
            "_view_module": "@jupyter-widgets/base",
            "_model_module_version": "1.5.0",
            "_view_count": null,
            "_view_module_version": "1.2.0",
            "_model_module": "@jupyter-widgets/controls"
          }
        },
        "55ab1259feed440da2d5561ddb74fe27": {
          "model_module": "@jupyter-widgets/base",
          "model_name": "LayoutModel",
          "model_module_version": "1.2.0",
          "state": {
            "_view_name": "LayoutView",
            "grid_template_rows": null,
            "right": null,
            "justify_content": null,
            "_view_module": "@jupyter-widgets/base",
            "overflow": null,
            "_model_module_version": "1.2.0",
            "_view_count": null,
            "flex_flow": null,
            "width": null,
            "min_width": null,
            "border": null,
            "align_items": null,
            "bottom": null,
            "_model_module": "@jupyter-widgets/base",
            "top": null,
            "grid_column": null,
            "overflow_y": null,
            "overflow_x": null,
            "grid_auto_flow": null,
            "grid_area": null,
            "grid_template_columns": null,
            "flex": null,
            "_model_name": "LayoutModel",
            "justify_items": null,
            "grid_row": null,
            "max_height": null,
            "align_content": null,
            "visibility": null,
            "align_self": null,
            "height": null,
            "min_height": null,
            "padding": null,
            "grid_auto_rows": null,
            "grid_gap": null,
            "max_width": null,
            "order": null,
            "_view_module_version": "1.2.0",
            "grid_template_areas": null,
            "object_position": null,
            "object_fit": null,
            "grid_auto_columns": null,
            "margin": null,
            "display": null,
            "left": null
          }
        }
      }
    }
  },
  "cells": [
    {
      "cell_type": "markdown",
      "metadata": {
        "id": "view-in-github",
        "colab_type": "text"
      },
      "source": [
        "<a href=\"https://colab.research.google.com/github/superbunny38/2021DeepLearning/blob/main/pytorch/Chap_8_(1)_Transfer_Learning_using_ResNet34.ipynb\" target=\"_parent\"><img src=\"https://colab.research.google.com/assets/colab-badge.svg\" alt=\"Open In Colab\"/></a>"
      ]
    },
    {
      "cell_type": "code",
      "execution_count": 1,
      "metadata": {
        "id": "KOPTPhhzmjwq"
      },
      "outputs": [],
      "source": [
        "import torch.nn as nn\n",
        "import torch.nn.functional as F"
      ]
    },
    {
      "cell_type": "markdown",
      "source": [
        "# ResNet"
      ],
      "metadata": {
        "id": "ji-UUIM-qf4M"
      }
    },
    {
      "cell_type": "code",
      "source": [
        "class ResNetBlock(nn.Module):\n",
        "    \n",
        "    def __init__(self,in_channels,output_channels,stride):\n",
        "        \n",
        "        super().__init__()\n",
        "        self.convolutional_1 = nn.Conv2d(in_channels,output_channels,kernel_size=3,stride=stride,padding=1,bias=False)\n",
        "        self.bn1 = nn.BatchNorm2d(output_channels)\n",
        "        self.convolutional_2 = nn.Conv2d(output_channels,output_channels,kernel_size=3,stride=stride,padding=1,bias=False)\n",
        "        self.bn2 = nn.BatchNorm2d(output_channels)\n",
        "        self.stride = stride\n",
        "        \n",
        "    def forward(self,x):\n",
        "        \n",
        "        residual = x#입력\n",
        "        out = self.convolutional_1(x)\n",
        "        out = F.relu(self.bn1(out),inplace=True)\n",
        "        out = self.convolutional_2(out)\n",
        "        out = self.bn2(out)\n",
        "        out += residual#출력에 입력이 더해짐\n",
        "        return F.relu(out)"
      ],
      "metadata": {
        "id": "3JqKur0PqeUN"
      },
      "execution_count": 2,
      "outputs": []
    },
    {
      "cell_type": "code",
      "source": [
        "from torchvision.models import resnet18\n",
        "resnet_model = resnet18(pretrained = False)\n",
        "resnet_model"
      ],
      "metadata": {
        "colab": {
          "base_uri": "https://localhost:8080/"
        },
        "id": "pu5ex-ipqq-i",
        "outputId": "9214c052-a464-48ce-8409-c87c80cb4b8c"
      },
      "execution_count": 4,
      "outputs": [
        {
          "output_type": "execute_result",
          "data": {
            "text/plain": [
              "ResNet(\n",
              "  (conv1): Conv2d(3, 64, kernel_size=(7, 7), stride=(2, 2), padding=(3, 3), bias=False)\n",
              "  (bn1): BatchNorm2d(64, eps=1e-05, momentum=0.1, affine=True, track_running_stats=True)\n",
              "  (relu): ReLU(inplace=True)\n",
              "  (maxpool): MaxPool2d(kernel_size=3, stride=2, padding=1, dilation=1, ceil_mode=False)\n",
              "  (layer1): Sequential(\n",
              "    (0): BasicBlock(\n",
              "      (conv1): Conv2d(64, 64, kernel_size=(3, 3), stride=(1, 1), padding=(1, 1), bias=False)\n",
              "      (bn1): BatchNorm2d(64, eps=1e-05, momentum=0.1, affine=True, track_running_stats=True)\n",
              "      (relu): ReLU(inplace=True)\n",
              "      (conv2): Conv2d(64, 64, kernel_size=(3, 3), stride=(1, 1), padding=(1, 1), bias=False)\n",
              "      (bn2): BatchNorm2d(64, eps=1e-05, momentum=0.1, affine=True, track_running_stats=True)\n",
              "    )\n",
              "    (1): BasicBlock(\n",
              "      (conv1): Conv2d(64, 64, kernel_size=(3, 3), stride=(1, 1), padding=(1, 1), bias=False)\n",
              "      (bn1): BatchNorm2d(64, eps=1e-05, momentum=0.1, affine=True, track_running_stats=True)\n",
              "      (relu): ReLU(inplace=True)\n",
              "      (conv2): Conv2d(64, 64, kernel_size=(3, 3), stride=(1, 1), padding=(1, 1), bias=False)\n",
              "      (bn2): BatchNorm2d(64, eps=1e-05, momentum=0.1, affine=True, track_running_stats=True)\n",
              "    )\n",
              "  )\n",
              "  (layer2): Sequential(\n",
              "    (0): BasicBlock(\n",
              "      (conv1): Conv2d(64, 128, kernel_size=(3, 3), stride=(2, 2), padding=(1, 1), bias=False)\n",
              "      (bn1): BatchNorm2d(128, eps=1e-05, momentum=0.1, affine=True, track_running_stats=True)\n",
              "      (relu): ReLU(inplace=True)\n",
              "      (conv2): Conv2d(128, 128, kernel_size=(3, 3), stride=(1, 1), padding=(1, 1), bias=False)\n",
              "      (bn2): BatchNorm2d(128, eps=1e-05, momentum=0.1, affine=True, track_running_stats=True)\n",
              "      (downsample): Sequential(\n",
              "        (0): Conv2d(64, 128, kernel_size=(1, 1), stride=(2, 2), bias=False)\n",
              "        (1): BatchNorm2d(128, eps=1e-05, momentum=0.1, affine=True, track_running_stats=True)\n",
              "      )\n",
              "    )\n",
              "    (1): BasicBlock(\n",
              "      (conv1): Conv2d(128, 128, kernel_size=(3, 3), stride=(1, 1), padding=(1, 1), bias=False)\n",
              "      (bn1): BatchNorm2d(128, eps=1e-05, momentum=0.1, affine=True, track_running_stats=True)\n",
              "      (relu): ReLU(inplace=True)\n",
              "      (conv2): Conv2d(128, 128, kernel_size=(3, 3), stride=(1, 1), padding=(1, 1), bias=False)\n",
              "      (bn2): BatchNorm2d(128, eps=1e-05, momentum=0.1, affine=True, track_running_stats=True)\n",
              "    )\n",
              "  )\n",
              "  (layer3): Sequential(\n",
              "    (0): BasicBlock(\n",
              "      (conv1): Conv2d(128, 256, kernel_size=(3, 3), stride=(2, 2), padding=(1, 1), bias=False)\n",
              "      (bn1): BatchNorm2d(256, eps=1e-05, momentum=0.1, affine=True, track_running_stats=True)\n",
              "      (relu): ReLU(inplace=True)\n",
              "      (conv2): Conv2d(256, 256, kernel_size=(3, 3), stride=(1, 1), padding=(1, 1), bias=False)\n",
              "      (bn2): BatchNorm2d(256, eps=1e-05, momentum=0.1, affine=True, track_running_stats=True)\n",
              "      (downsample): Sequential(\n",
              "        (0): Conv2d(128, 256, kernel_size=(1, 1), stride=(2, 2), bias=False)\n",
              "        (1): BatchNorm2d(256, eps=1e-05, momentum=0.1, affine=True, track_running_stats=True)\n",
              "      )\n",
              "    )\n",
              "    (1): BasicBlock(\n",
              "      (conv1): Conv2d(256, 256, kernel_size=(3, 3), stride=(1, 1), padding=(1, 1), bias=False)\n",
              "      (bn1): BatchNorm2d(256, eps=1e-05, momentum=0.1, affine=True, track_running_stats=True)\n",
              "      (relu): ReLU(inplace=True)\n",
              "      (conv2): Conv2d(256, 256, kernel_size=(3, 3), stride=(1, 1), padding=(1, 1), bias=False)\n",
              "      (bn2): BatchNorm2d(256, eps=1e-05, momentum=0.1, affine=True, track_running_stats=True)\n",
              "    )\n",
              "  )\n",
              "  (layer4): Sequential(\n",
              "    (0): BasicBlock(\n",
              "      (conv1): Conv2d(256, 512, kernel_size=(3, 3), stride=(2, 2), padding=(1, 1), bias=False)\n",
              "      (bn1): BatchNorm2d(512, eps=1e-05, momentum=0.1, affine=True, track_running_stats=True)\n",
              "      (relu): ReLU(inplace=True)\n",
              "      (conv2): Conv2d(512, 512, kernel_size=(3, 3), stride=(1, 1), padding=(1, 1), bias=False)\n",
              "      (bn2): BatchNorm2d(512, eps=1e-05, momentum=0.1, affine=True, track_running_stats=True)\n",
              "      (downsample): Sequential(\n",
              "        (0): Conv2d(256, 512, kernel_size=(1, 1), stride=(2, 2), bias=False)\n",
              "        (1): BatchNorm2d(512, eps=1e-05, momentum=0.1, affine=True, track_running_stats=True)\n",
              "      )\n",
              "    )\n",
              "    (1): BasicBlock(\n",
              "      (conv1): Conv2d(512, 512, kernel_size=(3, 3), stride=(1, 1), padding=(1, 1), bias=False)\n",
              "      (bn1): BatchNorm2d(512, eps=1e-05, momentum=0.1, affine=True, track_running_stats=True)\n",
              "      (relu): ReLU(inplace=True)\n",
              "      (conv2): Conv2d(512, 512, kernel_size=(3, 3), stride=(1, 1), padding=(1, 1), bias=False)\n",
              "      (bn2): BatchNorm2d(512, eps=1e-05, momentum=0.1, affine=True, track_running_stats=True)\n",
              "    )\n",
              "  )\n",
              "  (avgpool): AdaptiveAvgPool2d(output_size=(1, 1))\n",
              "  (fc): Linear(in_features=512, out_features=1000, bias=True)\n",
              ")"
            ]
          },
          "metadata": {},
          "execution_count": 4
        }
      ]
    },
    {
      "cell_type": "markdown",
      "source": [
        "# 개와 고양이 데이터셋에 대한 ResNet 모델 훈련"
      ],
      "metadata": {
        "id": "AJt5Xd6Trxw2"
      }
    },
    {
      "cell_type": "markdown",
      "source": [
        "## 필요한 모듈 import"
      ],
      "metadata": {
        "id": "6U0dSIowsGcT"
      }
    },
    {
      "cell_type": "code",
      "source": [
        "import pandas as pd\n",
        "from glob import glob\n",
        "import os\n",
        "from shutil import copyfile\n",
        "from torch.utils.data import Dataset\n",
        "from PIL import Image\n",
        "import numpy as np\n",
        "from numpy.random import permutation\n",
        "import matplotlib.pyplot as plt\n",
        "\n",
        "from torchvision import transforms\n",
        "from torchvision.datasets import ImageFolder\n",
        "from torchvision.models import resnet18,resnet34\n",
        "from torchvision.models.inception import inception_v3\n",
        "from torch.utils.data import DataLoader\n",
        "from torch.autograd import Variable\n",
        "import torch\n",
        "import torch.nn as nn\n",
        "import torch.optim as optim\n",
        "import torch.nn.functional as F\n",
        "import warnings\n",
        "warnings.filterwarnings(\"ignore\")\n",
        "\n",
        "import pickle\n",
        "%matplotlib inline\n",
        "print(\"PyTorch Version: \",torch.__version__)\n",
        "import torchvision\n",
        "print(\"Torchvision Version: \",torchvision.__version__)"
      ],
      "metadata": {
        "colab": {
          "base_uri": "https://localhost:8080/"
        },
        "id": "y6J5AsSkq0Li",
        "outputId": "b3d0b6f9-e01e-4430-e98f-b879790f11f5"
      },
      "execution_count": 5,
      "outputs": [
        {
          "output_type": "stream",
          "name": "stdout",
          "text": [
            "PyTorch Version:  1.10.0+cu111\n",
            "Torchvision Version:  0.11.1+cu111\n"
          ]
        }
      ]
    },
    {
      "cell_type": "code",
      "source": [
        "is_cuda = torch.cuda.is_available()\n",
        "is_cuda"
      ],
      "metadata": {
        "colab": {
          "base_uri": "https://localhost:8080/"
        },
        "id": "aNEMOlO5sIfX",
        "outputId": "d03020ff-8a37-439c-ff7b-46b706665bab"
      },
      "execution_count": 6,
      "outputs": [
        {
          "output_type": "execute_result",
          "data": {
            "text/plain": [
              "True"
            ]
          },
          "metadata": {},
          "execution_count": 6
        }
      ]
    },
    {
      "cell_type": "code",
      "source": [
        "!nvidia-smi"
      ],
      "metadata": {
        "colab": {
          "base_uri": "https://localhost:8080/"
        },
        "id": "eizlZ3OOsMzP",
        "outputId": "5a502f9c-2a42-4131-894b-f5a9199179f4"
      },
      "execution_count": 7,
      "outputs": [
        {
          "output_type": "stream",
          "name": "stdout",
          "text": [
            "Tue Jan  4 01:25:24 2022       \n",
            "+-----------------------------------------------------------------------------+\n",
            "| NVIDIA-SMI 495.44       Driver Version: 460.32.03    CUDA Version: 11.2     |\n",
            "|-------------------------------+----------------------+----------------------+\n",
            "| GPU  Name        Persistence-M| Bus-Id        Disp.A | Volatile Uncorr. ECC |\n",
            "| Fan  Temp  Perf  Pwr:Usage/Cap|         Memory-Usage | GPU-Util  Compute M. |\n",
            "|                               |                      |               MIG M. |\n",
            "|===============================+======================+======================|\n",
            "|   0  Tesla K80           Off  | 00000000:00:04.0 Off |                    0 |\n",
            "| N/A   38C    P8    26W / 149W |      3MiB / 11441MiB |      0%      Default |\n",
            "|                               |                      |                  N/A |\n",
            "+-------------------------------+----------------------+----------------------+\n",
            "                                                                               \n",
            "+-----------------------------------------------------------------------------+\n",
            "| Processes:                                                                  |\n",
            "|  GPU   GI   CI        PID   Type   Process name                  GPU Memory |\n",
            "|        ID   ID                                                   Usage      |\n",
            "|=============================================================================|\n",
            "|  No running processes found                                                 |\n",
            "+-----------------------------------------------------------------------------+\n"
          ]
        }
      ]
    },
    {
      "cell_type": "code",
      "source": [
        "torch.cuda.memory_allocated()"
      ],
      "metadata": {
        "colab": {
          "base_uri": "https://localhost:8080/"
        },
        "id": "gPrgiUMhsOW-",
        "outputId": "7a7e49bb-8fdd-4049-aaef-a8b08c96884d"
      },
      "execution_count": 8,
      "outputs": [
        {
          "output_type": "execute_result",
          "data": {
            "text/plain": [
              "0"
            ]
          },
          "metadata": {},
          "execution_count": 8
        }
      ]
    },
    {
      "cell_type": "code",
      "source": [
        "torch.cuda.empty_cache()"
      ],
      "metadata": {
        "id": "u2q7G-13sRwQ"
      },
      "execution_count": 9,
      "outputs": []
    },
    {
      "cell_type": "markdown",
      "source": [
        "## 파이토치 데이터셋 형성하기"
      ],
      "metadata": {
        "id": "kqeTJ_g6sYkw"
      }
    },
    {
      "cell_type": "code",
      "source": [
        "!git clone https://github.com/ardamavi/Dog-Cat-Classifier repo\n",
        "!mkdir workspace\n",
        "%mv /content/repo/Data/Train_Data /content/workspace\n",
        "%cd workspace"
      ],
      "metadata": {
        "colab": {
          "base_uri": "https://localhost:8080/"
        },
        "id": "QTAd7_BvsVdh",
        "outputId": "4716f9b6-8942-447f-b971-889ab1cc63b2"
      },
      "execution_count": 10,
      "outputs": [
        {
          "output_type": "stream",
          "name": "stdout",
          "text": [
            "Cloning into 'repo'...\n",
            "remote: Enumerating objects: 1654, done.\u001b[K\n",
            "remote: Total 1654 (delta 0), reused 0 (delta 0), pack-reused 1654\u001b[K\n",
            "Receiving objects: 100% (1654/1654), 34.83 MiB | 29.72 MiB/s, done.\n",
            "Resolving deltas: 100% (147/147), done.\n",
            "/content/workspace\n"
          ]
        }
      ]
    },
    {
      "cell_type": "code",
      "source": [
        "import glob\n",
        "path = \"/content/workspace/Train_Data\"\n",
        "#read all the files inside the folder\n",
        "dog_files = [f for f in glob.glob(\"/content/workspace/Train_Data/dog/*.jpg\")]\n",
        "cat_files = [f for f in glob.glob(\"/content/workspace/Train_Data/cat/*.jpg\")]\n",
        "\n",
        "files = dog_files+cat_files\n",
        "print(f\"Total number of images: {len(files)}\")\n",
        "no_of_images = len(files)\n",
        "shuffle = np.random.permutation(no_of_images)\n",
        "os.mkdir(os.path.join(path, \"train\"))\n",
        "os.mkdir(os.path.join(path, \"valid\"))\n",
        "for t in ['train','valid']:\n",
        "  for folder in ['dog/', 'cat/']:\n",
        "    os.mkdir(os.path.join(path,t,folder))"
      ],
      "metadata": {
        "colab": {
          "base_uri": "https://localhost:8080/"
        },
        "id": "XQzS2BnSs26s",
        "outputId": "e67a7c3b-41ba-447e-a57f-914fbeb14a55"
      },
      "execution_count": 11,
      "outputs": [
        {
          "output_type": "stream",
          "name": "stdout",
          "text": [
            "Total number of images: 1399\n"
          ]
        }
      ]
    },
    {
      "cell_type": "code",
      "source": [
        "#검증데이터 넣기\n",
        "for i in shuffle[:250]:#250개\n",
        "  folder = files[i].split(\"/\")[-2].split(\".\")[0]\n",
        "  image = files[i].split('/')[-1]\n",
        "  image = image[4:]\n",
        "  os.rename(files[i], os.path.join(path, 'valid', folder, image))"
      ],
      "metadata": {
        "id": "KDG5MGg0tEJg"
      },
      "execution_count": 12,
      "outputs": []
    },
    {
      "cell_type": "code",
      "source": [
        "#학습데이터 넣기\n",
        "for i in shuffle[250:]:\n",
        "  folder = files[i].split(\"/\")[-2].split(\".\")[0]\n",
        "  image = files[i].split('/')[-1]\n",
        "  image = image[4:]\n",
        "  os.rename(files[i], os.path.join(path, 'train', folder, image))"
      ],
      "metadata": {
        "id": "qnIxLluvtEmI"
      },
      "execution_count": 13,
      "outputs": []
    },
    {
      "cell_type": "code",
      "source": [
        "transform_data = transforms.Compose([\n",
        "        transforms.Resize((299,299)),\n",
        "        transforms.ToTensor(),\n",
        "        transforms.Normalize([0.30, 0.40, 0.40], [0.20, 0.20, 0.20])\n",
        "    ])"
      ],
      "metadata": {
        "id": "znouRnEstGp4"
      },
      "execution_count": 14,
      "outputs": []
    },
    {
      "cell_type": "code",
      "source": [
        "from torchvision.datasets import ImageFolder\n",
        "train_dataset = ImageFolder(\"/content/workspace/Train_Data/train\", transform_data)\n",
        "validation_dataset = ImageFolder(\"/content/workspace/Train_Data/valid\", transform_data)\n",
        "classes=2"
      ],
      "metadata": {
        "id": "vBm6XYkatSWm"
      },
      "execution_count": 15,
      "outputs": []
    },
    {
      "cell_type": "code",
      "source": [
        "train_dataset.class_to_idx#클래스 관련 인덱스 간의 매핑 제공"
      ],
      "metadata": {
        "colab": {
          "base_uri": "https://localhost:8080/"
        },
        "id": "7xslv4z1uPMl",
        "outputId": "5a7ab582-8813-40a6-fb39-f6b5560cda7e"
      },
      "execution_count": 17,
      "outputs": [
        {
          "output_type": "execute_result",
          "data": {
            "text/plain": [
              "{'cat': 0, 'dog': 1}"
            ]
          },
          "metadata": {},
          "execution_count": 17
        }
      ]
    },
    {
      "cell_type": "code",
      "source": [
        "train_dataset.classes#클래스들의 리스트를 제공"
      ],
      "metadata": {
        "colab": {
          "base_uri": "https://localhost:8080/"
        },
        "id": "qhIrUacXuR9P",
        "outputId": "d0005f8a-d58c-4743-da90-17770d8c52d0"
      },
      "execution_count": 18,
      "outputs": [
        {
          "output_type": "execute_result",
          "data": {
            "text/plain": [
              "['cat', 'dog']"
            ]
          },
          "metadata": {},
          "execution_count": 18
        }
      ]
    },
    {
      "cell_type": "code",
      "source": [
        "import matplotlib.pyplot as plt\n",
        "def imshow(inp):\n",
        "  #imshow for tensor\n",
        "  inp = inp.numpy().transpose((1,2,0))\n",
        "  mean = np.array([0.12, 0.12, 0.40])\n",
        "  std = np.array([0.22, 0.20,0.20])\n",
        "  inp = std*inp+mean\n",
        "  inp = np.clip(inp,0,1)\n",
        "  plt.imshow(inp)"
      ],
      "metadata": {
        "id": "KeYlqwHuuXbz"
      },
      "execution_count": 19,
      "outputs": []
    },
    {
      "cell_type": "code",
      "source": [
        "imshow(train_dataset[30][0])"
      ],
      "metadata": {
        "colab": {
          "base_uri": "https://localhost:8080/",
          "height": 269
        },
        "id": "ZWbbAtZruaPm",
        "outputId": "22dc2912-41bd-449c-b4b0-bebb39ccc008"
      },
      "execution_count": 21,
      "outputs": [
        {
          "output_type": "display_data",
          "data": {
            "image/png": "[encoded data removed]",
            "text/plain": [
              "<Figure size 432x288 with 1 Axes>"
            ]
          },
          "metadata": {
            "needs_background": "light"
          }
        }
      ]
    },
    {
      "cell_type": "markdown",
      "source": [
        "## 훈련과 검증을 위한 데이터로더 생성"
      ],
      "metadata": {
        "id": "Rq1LECKetrsc"
      }
    },
    {
      "cell_type": "code",
      "source": [
        "training_data_loader = DataLoader(train_dataset,batch_size=32,shuffle=False,num_workers=4)\n",
        "validation_data_loader = DataLoader(validation_dataset,batch_size=32,shuffle=False,num_workers=4)"
      ],
      "metadata": {
        "id": "DPNh52DBtooc"
      },
      "execution_count": 22,
      "outputs": []
    },
    {
      "cell_type": "code",
      "source": [
        "training_data_loader.dataset"
      ],
      "metadata": {
        "colab": {
          "base_uri": "https://localhost:8080/"
        },
        "id": "nQ2mpYBvuud2",
        "outputId": "76fb7e02-31f7-46ae-ea52-f3a643969ee1"
      },
      "execution_count": 24,
      "outputs": [
        {
          "output_type": "execute_result",
          "data": {
            "text/plain": [
              "Dataset ImageFolder\n",
              "    Number of datapoints: 1149\n",
              "    Root location: /content/workspace/Train_Data/train\n",
              "    StandardTransform\n",
              "Transform: Compose(\n",
              "               Resize(size=(299, 299), interpolation=bilinear, max_size=None, antialias=None)\n",
              "               ToTensor()\n",
              "               Normalize(mean=[0.3, 0.4, 0.4], std=[0.2, 0.2, 0.2])\n",
              "           )"
            ]
          },
          "metadata": {},
          "execution_count": 24
        }
      ]
    },
    {
      "cell_type": "code",
      "source": [
        "validation_data_loader.dataset"
      ],
      "metadata": {
        "colab": {
          "base_uri": "https://localhost:8080/"
        },
        "id": "RPfwoegYuzur",
        "outputId": "872aa739-1984-4654-db73-49f82dc54fc9"
      },
      "execution_count": 25,
      "outputs": [
        {
          "output_type": "execute_result",
          "data": {
            "text/plain": [
              "Dataset ImageFolder\n",
              "    Number of datapoints: 250\n",
              "    Root location: /content/workspace/Train_Data/valid\n",
              "    StandardTransform\n",
              "Transform: Compose(\n",
              "               Resize(size=(299, 299), interpolation=bilinear, max_size=None, antialias=None)\n",
              "               ToTensor()\n",
              "               Normalize(mean=[0.3, 0.4, 0.4], std=[0.2, 0.2, 0.2])\n",
              "           )"
            ]
          },
          "metadata": {},
          "execution_count": 25
        }
      ]
    },
    {
      "cell_type": "markdown",
      "source": [
        "## ResNet 모델 생성하기"
      ],
      "metadata": {
        "id": "gXcdrcOnupRA"
      }
    },
    {
      "cell_type": "code",
      "source": [
        "resnet_model = resnet34(pretrained=True)\n",
        "\n",
        "if is_cuda:\n",
        "    resnet_model = resnet_model.cuda()"
      ],
      "metadata": {
        "colab": {
          "base_uri": "https://localhost:8080/",
          "height": 67,
          "referenced_widgets": [
            "b3670458df5e46c7918bb15a4988b677",
            "1b6c1e6f9a3344c1be9568a093bd7e68",
            "6a449297d1574b80838c29072518d9c4",
            "70f0d9b16a75404690729fb3e5f0cc1f",
            "d5b6fdb39bd645b28b8d1cb4e9ef346a",
            "5f5504fc3a8f479da16041eeaa4ecb7b",
            "48200fcb0f464e55a207ac6b57581b40",
            "ba08e518a04249559d3606299e70457d",
            "b71d7ac8296f4651aa5e4ff98d69050d",
            "fbbef126d79e406eb15a495dc47dda37",
            "55ab1259feed440da2d5561ddb74fe27"
          ]
        },
        "id": "9C-AIAjWui5l",
        "outputId": "4f9ecc14-4dc5-4af6-cc4a-e58b70d5b59d"
      },
      "execution_count": 26,
      "outputs": [
        {
          "output_type": "stream",
          "name": "stderr",
          "text": [
            "Downloading: \"https://download.pytorch.org/models/resnet34-b627a593.pth\" to /root/.cache/torch/hub/checkpoints/resnet34-b627a593.pth\n"
          ]
        },
        {
          "output_type": "display_data",
          "data": {
            "application/vnd.jupyter.widget-view+json": {
              "model_id": "b3670458df5e46c7918bb15a4988b677",
              "version_minor": 0,
              "version_major": 2
            },
            "text/plain": [
              "  0%|          | 0.00/83.3M [00:00<?, ?B/s]"
            ]
          },
          "metadata": {}
        }
      ]
    },
    {
      "cell_type": "code",
      "source": [
        "resnet_model"
      ],
      "metadata": {
        "colab": {
          "base_uri": "https://localhost:8080/"
        },
        "id": "UCR82qr_u7AQ",
        "outputId": "d1d796c2-909c-4134-c60e-0741fb4ae5db"
      },
      "execution_count": 27,
      "outputs": [
        {
          "output_type": "execute_result",
          "data": {
            "text/plain": [
              "ResNet(\n",
              "  (conv1): Conv2d(3, 64, kernel_size=(7, 7), stride=(2, 2), padding=(3, 3), bias=False)\n",
              "  (bn1): BatchNorm2d(64, eps=1e-05, momentum=0.1, affine=True, track_running_stats=True)\n",
              "  (relu): ReLU(inplace=True)\n",
              "  (maxpool): MaxPool2d(kernel_size=3, stride=2, padding=1, dilation=1, ceil_mode=False)\n",
              "  (layer1): Sequential(\n",
              "    (0): BasicBlock(\n",
              "      (conv1): Conv2d(64, 64, kernel_size=(3, 3), stride=(1, 1), padding=(1, 1), bias=False)\n",
              "      (bn1): BatchNorm2d(64, eps=1e-05, momentum=0.1, affine=True, track_running_stats=True)\n",
              "      (relu): ReLU(inplace=True)\n",
              "      (conv2): Conv2d(64, 64, kernel_size=(3, 3), stride=(1, 1), padding=(1, 1), bias=False)\n",
              "      (bn2): BatchNorm2d(64, eps=1e-05, momentum=0.1, affine=True, track_running_stats=True)\n",
              "    )\n",
              "    (1): BasicBlock(\n",
              "      (conv1): Conv2d(64, 64, kernel_size=(3, 3), stride=(1, 1), padding=(1, 1), bias=False)\n",
              "      (bn1): BatchNorm2d(64, eps=1e-05, momentum=0.1, affine=True, track_running_stats=True)\n",
              "      (relu): ReLU(inplace=True)\n",
              "      (conv2): Conv2d(64, 64, kernel_size=(3, 3), stride=(1, 1), padding=(1, 1), bias=False)\n",
              "      (bn2): BatchNorm2d(64, eps=1e-05, momentum=0.1, affine=True, track_running_stats=True)\n",
              "    )\n",
              "    (2): BasicBlock(\n",
              "      (conv1): Conv2d(64, 64, kernel_size=(3, 3), stride=(1, 1), padding=(1, 1), bias=False)\n",
              "      (bn1): BatchNorm2d(64, eps=1e-05, momentum=0.1, affine=True, track_running_stats=True)\n",
              "      (relu): ReLU(inplace=True)\n",
              "      (conv2): Conv2d(64, 64, kernel_size=(3, 3), stride=(1, 1), padding=(1, 1), bias=False)\n",
              "      (bn2): BatchNorm2d(64, eps=1e-05, momentum=0.1, affine=True, track_running_stats=True)\n",
              "    )\n",
              "  )\n",
              "  (layer2): Sequential(\n",
              "    (0): BasicBlock(\n",
              "      (conv1): Conv2d(64, 128, kernel_size=(3, 3), stride=(2, 2), padding=(1, 1), bias=False)\n",
              "      (bn1): BatchNorm2d(128, eps=1e-05, momentum=0.1, affine=True, track_running_stats=True)\n",
              "      (relu): ReLU(inplace=True)\n",
              "      (conv2): Conv2d(128, 128, kernel_size=(3, 3), stride=(1, 1), padding=(1, 1), bias=False)\n",
              "      (bn2): BatchNorm2d(128, eps=1e-05, momentum=0.1, affine=True, track_running_stats=True)\n",
              "      (downsample): Sequential(\n",
              "        (0): Conv2d(64, 128, kernel_size=(1, 1), stride=(2, 2), bias=False)\n",
              "        (1): BatchNorm2d(128, eps=1e-05, momentum=0.1, affine=True, track_running_stats=True)\n",
              "      )\n",
              "    )\n",
              "    (1): BasicBlock(\n",
              "      (conv1): Conv2d(128, 128, kernel_size=(3, 3), stride=(1, 1), padding=(1, 1), bias=False)\n",
              "      (bn1): BatchNorm2d(128, eps=1e-05, momentum=0.1, affine=True, track_running_stats=True)\n",
              "      (relu): ReLU(inplace=True)\n",
              "      (conv2): Conv2d(128, 128, kernel_size=(3, 3), stride=(1, 1), padding=(1, 1), bias=False)\n",
              "      (bn2): BatchNorm2d(128, eps=1e-05, momentum=0.1, affine=True, track_running_stats=True)\n",
              "    )\n",
              "    (2): BasicBlock(\n",
              "      (conv1): Conv2d(128, 128, kernel_size=(3, 3), stride=(1, 1), padding=(1, 1), bias=False)\n",
              "      (bn1): BatchNorm2d(128, eps=1e-05, momentum=0.1, affine=True, track_running_stats=True)\n",
              "      (relu): ReLU(inplace=True)\n",
              "      (conv2): Conv2d(128, 128, kernel_size=(3, 3), stride=(1, 1), padding=(1, 1), bias=False)\n",
              "      (bn2): BatchNorm2d(128, eps=1e-05, momentum=0.1, affine=True, track_running_stats=True)\n",
              "    )\n",
              "    (3): BasicBlock(\n",
              "      (conv1): Conv2d(128, 128, kernel_size=(3, 3), stride=(1, 1), padding=(1, 1), bias=False)\n",
              "      (bn1): BatchNorm2d(128, eps=1e-05, momentum=0.1, affine=True, track_running_stats=True)\n",
              "      (relu): ReLU(inplace=True)\n",
              "      (conv2): Conv2d(128, 128, kernel_size=(3, 3), stride=(1, 1), padding=(1, 1), bias=False)\n",
              "      (bn2): BatchNorm2d(128, eps=1e-05, momentum=0.1, affine=True, track_running_stats=True)\n",
              "    )\n",
              "  )\n",
              "  (layer3): Sequential(\n",
              "    (0): BasicBlock(\n",
              "      (conv1): Conv2d(128, 256, kernel_size=(3, 3), stride=(2, 2), padding=(1, 1), bias=False)\n",
              "      (bn1): BatchNorm2d(256, eps=1e-05, momentum=0.1, affine=True, track_running_stats=True)\n",
              "      (relu): ReLU(inplace=True)\n",
              "      (conv2): Conv2d(256, 256, kernel_size=(3, 3), stride=(1, 1), padding=(1, 1), bias=False)\n",
              "      (bn2): BatchNorm2d(256, eps=1e-05, momentum=0.1, affine=True, track_running_stats=True)\n",
              "      (downsample): Sequential(\n",
              "        (0): Conv2d(128, 256, kernel_size=(1, 1), stride=(2, 2), bias=False)\n",
              "        (1): BatchNorm2d(256, eps=1e-05, momentum=0.1, affine=True, track_running_stats=True)\n",
              "      )\n",
              "    )\n",
              "    (1): BasicBlock(\n",
              "      (conv1): Conv2d(256, 256, kernel_size=(3, 3), stride=(1, 1), padding=(1, 1), bias=False)\n",
              "      (bn1): BatchNorm2d(256, eps=1e-05, momentum=0.1, affine=True, track_running_stats=True)\n",
              "      (relu): ReLU(inplace=True)\n",
              "      (conv2): Conv2d(256, 256, kernel_size=(3, 3), stride=(1, 1), padding=(1, 1), bias=False)\n",
              "      (bn2): BatchNorm2d(256, eps=1e-05, momentum=0.1, affine=True, track_running_stats=True)\n",
              "    )\n",
              "    (2): BasicBlock(\n",
              "      (conv1): Conv2d(256, 256, kernel_size=(3, 3), stride=(1, 1), padding=(1, 1), bias=False)\n",
              "      (bn1): BatchNorm2d(256, eps=1e-05, momentum=0.1, affine=True, track_running_stats=True)\n",
              "      (relu): ReLU(inplace=True)\n",
              "      (conv2): Conv2d(256, 256, kernel_size=(3, 3), stride=(1, 1), padding=(1, 1), bias=False)\n",
              "      (bn2): BatchNorm2d(256, eps=1e-05, momentum=0.1, affine=True, track_running_stats=True)\n",
              "    )\n",
              "    (3): BasicBlock(\n",
              "      (conv1): Conv2d(256, 256, kernel_size=(3, 3), stride=(1, 1), padding=(1, 1), bias=False)\n",
              "      (bn1): BatchNorm2d(256, eps=1e-05, momentum=0.1, affine=True, track_running_stats=True)\n",
              "      (relu): ReLU(inplace=True)\n",
              "      (conv2): Conv2d(256, 256, kernel_size=(3, 3), stride=(1, 1), padding=(1, 1), bias=False)\n",
              "      (bn2): BatchNorm2d(256, eps=1e-05, momentum=0.1, affine=True, track_running_stats=True)\n",
              "    )\n",
              "    (4): BasicBlock(\n",
              "      (conv1): Conv2d(256, 256, kernel_size=(3, 3), stride=(1, 1), padding=(1, 1), bias=False)\n",
              "      (bn1): BatchNorm2d(256, eps=1e-05, momentum=0.1, affine=True, track_running_stats=True)\n",
              "      (relu): ReLU(inplace=True)\n",
              "      (conv2): Conv2d(256, 256, kernel_size=(3, 3), stride=(1, 1), padding=(1, 1), bias=False)\n",
              "      (bn2): BatchNorm2d(256, eps=1e-05, momentum=0.1, affine=True, track_running_stats=True)\n",
              "    )\n",
              "    (5): BasicBlock(\n",
              "      (conv1): Conv2d(256, 256, kernel_size=(3, 3), stride=(1, 1), padding=(1, 1), bias=False)\n",
              "      (bn1): BatchNorm2d(256, eps=1e-05, momentum=0.1, affine=True, track_running_stats=True)\n",
              "      (relu): ReLU(inplace=True)\n",
              "      (conv2): Conv2d(256, 256, kernel_size=(3, 3), stride=(1, 1), padding=(1, 1), bias=False)\n",
              "      (bn2): BatchNorm2d(256, eps=1e-05, momentum=0.1, affine=True, track_running_stats=True)\n",
              "    )\n",
              "  )\n",
              "  (layer4): Sequential(\n",
              "    (0): BasicBlock(\n",
              "      (conv1): Conv2d(256, 512, kernel_size=(3, 3), stride=(2, 2), padding=(1, 1), bias=False)\n",
              "      (bn1): BatchNorm2d(512, eps=1e-05, momentum=0.1, affine=True, track_running_stats=True)\n",
              "      (relu): ReLU(inplace=True)\n",
              "      (conv2): Conv2d(512, 512, kernel_size=(3, 3), stride=(1, 1), padding=(1, 1), bias=False)\n",
              "      (bn2): BatchNorm2d(512, eps=1e-05, momentum=0.1, affine=True, track_running_stats=True)\n",
              "      (downsample): Sequential(\n",
              "        (0): Conv2d(256, 512, kernel_size=(1, 1), stride=(2, 2), bias=False)\n",
              "        (1): BatchNorm2d(512, eps=1e-05, momentum=0.1, affine=True, track_running_stats=True)\n",
              "      )\n",
              "    )\n",
              "    (1): BasicBlock(\n",
              "      (conv1): Conv2d(512, 512, kernel_size=(3, 3), stride=(1, 1), padding=(1, 1), bias=False)\n",
              "      (bn1): BatchNorm2d(512, eps=1e-05, momentum=0.1, affine=True, track_running_stats=True)\n",
              "      (relu): ReLU(inplace=True)\n",
              "      (conv2): Conv2d(512, 512, kernel_size=(3, 3), stride=(1, 1), padding=(1, 1), bias=False)\n",
              "      (bn2): BatchNorm2d(512, eps=1e-05, momentum=0.1, affine=True, track_running_stats=True)\n",
              "    )\n",
              "    (2): BasicBlock(\n",
              "      (conv1): Conv2d(512, 512, kernel_size=(3, 3), stride=(1, 1), padding=(1, 1), bias=False)\n",
              "      (bn1): BatchNorm2d(512, eps=1e-05, momentum=0.1, affine=True, track_running_stats=True)\n",
              "      (relu): ReLU(inplace=True)\n",
              "      (conv2): Conv2d(512, 512, kernel_size=(3, 3), stride=(1, 1), padding=(1, 1), bias=False)\n",
              "      (bn2): BatchNorm2d(512, eps=1e-05, momentum=0.1, affine=True, track_running_stats=True)\n",
              "    )\n",
              "  )\n",
              "  (avgpool): AdaptiveAvgPool2d(output_size=(1, 1))\n",
              "  (fc): Linear(in_features=512, out_features=1000, bias=True)\n",
              ")"
            ]
          },
          "metadata": {},
          "execution_count": 27
        }
      ]
    },
    {
      "cell_type": "code",
      "source": [
        "list(resnet_model.children())[-1]#마지막 레이어 시각화"
      ],
      "metadata": {
        "colab": {
          "base_uri": "https://localhost:8080/"
        },
        "id": "4zP93ky9vAGj",
        "outputId": "9b3cd3b6-d3c6-484e-9942-0a8efb11bbaf"
      },
      "execution_count": 39,
      "outputs": [
        {
          "output_type": "execute_result",
          "data": {
            "text/plain": [
              "Linear(in_features=512, out_features=1000, bias=True)"
            ]
          },
          "metadata": {},
          "execution_count": 39
        }
      ]
    },
    {
      "cell_type": "code",
      "source": [
        "li = [1,2,3]\n",
        "li[:-1]"
      ],
      "metadata": {
        "colab": {
          "base_uri": "https://localhost:8080/"
        },
        "id": "IprJIPwRvs-E",
        "outputId": "725a904d-9292-49d5-c5ab-815a03d9ddcf"
      },
      "execution_count": 42,
      "outputs": [
        {
          "output_type": "execute_result",
          "data": {
            "text/plain": [
              "[1, 2]"
            ]
          },
          "metadata": {},
          "execution_count": 42
        }
      ]
    },
    {
      "cell_type": "code",
      "source": [
        "m = nn.Sequential(*list(resnet_model.children())[:-1])#마지막 선형 레이어 삭제 됨"
      ],
      "metadata": {
        "id": "7RQKJIObvGl6"
      },
      "execution_count": 40,
      "outputs": []
    },
    {
      "cell_type": "code",
      "source": [
        "m"
      ],
      "metadata": {
        "colab": {
          "base_uri": "https://localhost:8080/"
        },
        "id": "hJmDz_lTvnzy",
        "outputId": "4a209089-a933-4f2a-8ab6-0d974b39f934"
      },
      "execution_count": 41,
      "outputs": [
        {
          "output_type": "execute_result",
          "data": {
            "text/plain": [
              "Sequential(\n",
              "  (0): Conv2d(3, 64, kernel_size=(7, 7), stride=(2, 2), padding=(3, 3), bias=False)\n",
              "  (1): BatchNorm2d(64, eps=1e-05, momentum=0.1, affine=True, track_running_stats=True)\n",
              "  (2): ReLU(inplace=True)\n",
              "  (3): MaxPool2d(kernel_size=3, stride=2, padding=1, dilation=1, ceil_mode=False)\n",
              "  (4): Sequential(\n",
              "    (0): BasicBlock(\n",
              "      (conv1): Conv2d(64, 64, kernel_size=(3, 3), stride=(1, 1), padding=(1, 1), bias=False)\n",
              "      (bn1): BatchNorm2d(64, eps=1e-05, momentum=0.1, affine=True, track_running_stats=True)\n",
              "      (relu): ReLU(inplace=True)\n",
              "      (conv2): Conv2d(64, 64, kernel_size=(3, 3), stride=(1, 1), padding=(1, 1), bias=False)\n",
              "      (bn2): BatchNorm2d(64, eps=1e-05, momentum=0.1, affine=True, track_running_stats=True)\n",
              "    )\n",
              "    (1): BasicBlock(\n",
              "      (conv1): Conv2d(64, 64, kernel_size=(3, 3), stride=(1, 1), padding=(1, 1), bias=False)\n",
              "      (bn1): BatchNorm2d(64, eps=1e-05, momentum=0.1, affine=True, track_running_stats=True)\n",
              "      (relu): ReLU(inplace=True)\n",
              "      (conv2): Conv2d(64, 64, kernel_size=(3, 3), stride=(1, 1), padding=(1, 1), bias=False)\n",
              "      (bn2): BatchNorm2d(64, eps=1e-05, momentum=0.1, affine=True, track_running_stats=True)\n",
              "    )\n",
              "    (2): BasicBlock(\n",
              "      (conv1): Conv2d(64, 64, kernel_size=(3, 3), stride=(1, 1), padding=(1, 1), bias=False)\n",
              "      (bn1): BatchNorm2d(64, eps=1e-05, momentum=0.1, affine=True, track_running_stats=True)\n",
              "      (relu): ReLU(inplace=True)\n",
              "      (conv2): Conv2d(64, 64, kernel_size=(3, 3), stride=(1, 1), padding=(1, 1), bias=False)\n",
              "      (bn2): BatchNorm2d(64, eps=1e-05, momentum=0.1, affine=True, track_running_stats=True)\n",
              "    )\n",
              "  )\n",
              "  (5): Sequential(\n",
              "    (0): BasicBlock(\n",
              "      (conv1): Conv2d(64, 128, kernel_size=(3, 3), stride=(2, 2), padding=(1, 1), bias=False)\n",
              "      (bn1): BatchNorm2d(128, eps=1e-05, momentum=0.1, affine=True, track_running_stats=True)\n",
              "      (relu): ReLU(inplace=True)\n",
              "      (conv2): Conv2d(128, 128, kernel_size=(3, 3), stride=(1, 1), padding=(1, 1), bias=False)\n",
              "      (bn2): BatchNorm2d(128, eps=1e-05, momentum=0.1, affine=True, track_running_stats=True)\n",
              "      (downsample): Sequential(\n",
              "        (0): Conv2d(64, 128, kernel_size=(1, 1), stride=(2, 2), bias=False)\n",
              "        (1): BatchNorm2d(128, eps=1e-05, momentum=0.1, affine=True, track_running_stats=True)\n",
              "      )\n",
              "    )\n",
              "    (1): BasicBlock(\n",
              "      (conv1): Conv2d(128, 128, kernel_size=(3, 3), stride=(1, 1), padding=(1, 1), bias=False)\n",
              "      (bn1): BatchNorm2d(128, eps=1e-05, momentum=0.1, affine=True, track_running_stats=True)\n",
              "      (relu): ReLU(inplace=True)\n",
              "      (conv2): Conv2d(128, 128, kernel_size=(3, 3), stride=(1, 1), padding=(1, 1), bias=False)\n",
              "      (bn2): BatchNorm2d(128, eps=1e-05, momentum=0.1, affine=True, track_running_stats=True)\n",
              "    )\n",
              "    (2): BasicBlock(\n",
              "      (conv1): Conv2d(128, 128, kernel_size=(3, 3), stride=(1, 1), padding=(1, 1), bias=False)\n",
              "      (bn1): BatchNorm2d(128, eps=1e-05, momentum=0.1, affine=True, track_running_stats=True)\n",
              "      (relu): ReLU(inplace=True)\n",
              "      (conv2): Conv2d(128, 128, kernel_size=(3, 3), stride=(1, 1), padding=(1, 1), bias=False)\n",
              "      (bn2): BatchNorm2d(128, eps=1e-05, momentum=0.1, affine=True, track_running_stats=True)\n",
              "    )\n",
              "    (3): BasicBlock(\n",
              "      (conv1): Conv2d(128, 128, kernel_size=(3, 3), stride=(1, 1), padding=(1, 1), bias=False)\n",
              "      (bn1): BatchNorm2d(128, eps=1e-05, momentum=0.1, affine=True, track_running_stats=True)\n",
              "      (relu): ReLU(inplace=True)\n",
              "      (conv2): Conv2d(128, 128, kernel_size=(3, 3), stride=(1, 1), padding=(1, 1), bias=False)\n",
              "      (bn2): BatchNorm2d(128, eps=1e-05, momentum=0.1, affine=True, track_running_stats=True)\n",
              "    )\n",
              "  )\n",
              "  (6): Sequential(\n",
              "    (0): BasicBlock(\n",
              "      (conv1): Conv2d(128, 256, kernel_size=(3, 3), stride=(2, 2), padding=(1, 1), bias=False)\n",
              "      (bn1): BatchNorm2d(256, eps=1e-05, momentum=0.1, affine=True, track_running_stats=True)\n",
              "      (relu): ReLU(inplace=True)\n",
              "      (conv2): Conv2d(256, 256, kernel_size=(3, 3), stride=(1, 1), padding=(1, 1), bias=False)\n",
              "      (bn2): BatchNorm2d(256, eps=1e-05, momentum=0.1, affine=True, track_running_stats=True)\n",
              "      (downsample): Sequential(\n",
              "        (0): Conv2d(128, 256, kernel_size=(1, 1), stride=(2, 2), bias=False)\n",
              "        (1): BatchNorm2d(256, eps=1e-05, momentum=0.1, affine=True, track_running_stats=True)\n",
              "      )\n",
              "    )\n",
              "    (1): BasicBlock(\n",
              "      (conv1): Conv2d(256, 256, kernel_size=(3, 3), stride=(1, 1), padding=(1, 1), bias=False)\n",
              "      (bn1): BatchNorm2d(256, eps=1e-05, momentum=0.1, affine=True, track_running_stats=True)\n",
              "      (relu): ReLU(inplace=True)\n",
              "      (conv2): Conv2d(256, 256, kernel_size=(3, 3), stride=(1, 1), padding=(1, 1), bias=False)\n",
              "      (bn2): BatchNorm2d(256, eps=1e-05, momentum=0.1, affine=True, track_running_stats=True)\n",
              "    )\n",
              "    (2): BasicBlock(\n",
              "      (conv1): Conv2d(256, 256, kernel_size=(3, 3), stride=(1, 1), padding=(1, 1), bias=False)\n",
              "      (bn1): BatchNorm2d(256, eps=1e-05, momentum=0.1, affine=True, track_running_stats=True)\n",
              "      (relu): ReLU(inplace=True)\n",
              "      (conv2): Conv2d(256, 256, kernel_size=(3, 3), stride=(1, 1), padding=(1, 1), bias=False)\n",
              "      (bn2): BatchNorm2d(256, eps=1e-05, momentum=0.1, affine=True, track_running_stats=True)\n",
              "    )\n",
              "    (3): BasicBlock(\n",
              "      (conv1): Conv2d(256, 256, kernel_size=(3, 3), stride=(1, 1), padding=(1, 1), bias=False)\n",
              "      (bn1): BatchNorm2d(256, eps=1e-05, momentum=0.1, affine=True, track_running_stats=True)\n",
              "      (relu): ReLU(inplace=True)\n",
              "      (conv2): Conv2d(256, 256, kernel_size=(3, 3), stride=(1, 1), padding=(1, 1), bias=False)\n",
              "      (bn2): BatchNorm2d(256, eps=1e-05, momentum=0.1, affine=True, track_running_stats=True)\n",
              "    )\n",
              "    (4): BasicBlock(\n",
              "      (conv1): Conv2d(256, 256, kernel_size=(3, 3), stride=(1, 1), padding=(1, 1), bias=False)\n",
              "      (bn1): BatchNorm2d(256, eps=1e-05, momentum=0.1, affine=True, track_running_stats=True)\n",
              "      (relu): ReLU(inplace=True)\n",
              "      (conv2): Conv2d(256, 256, kernel_size=(3, 3), stride=(1, 1), padding=(1, 1), bias=False)\n",
              "      (bn2): BatchNorm2d(256, eps=1e-05, momentum=0.1, affine=True, track_running_stats=True)\n",
              "    )\n",
              "    (5): BasicBlock(\n",
              "      (conv1): Conv2d(256, 256, kernel_size=(3, 3), stride=(1, 1), padding=(1, 1), bias=False)\n",
              "      (bn1): BatchNorm2d(256, eps=1e-05, momentum=0.1, affine=True, track_running_stats=True)\n",
              "      (relu): ReLU(inplace=True)\n",
              "      (conv2): Conv2d(256, 256, kernel_size=(3, 3), stride=(1, 1), padding=(1, 1), bias=False)\n",
              "      (bn2): BatchNorm2d(256, eps=1e-05, momentum=0.1, affine=True, track_running_stats=True)\n",
              "    )\n",
              "  )\n",
              "  (7): Sequential(\n",
              "    (0): BasicBlock(\n",
              "      (conv1): Conv2d(256, 512, kernel_size=(3, 3), stride=(2, 2), padding=(1, 1), bias=False)\n",
              "      (bn1): BatchNorm2d(512, eps=1e-05, momentum=0.1, affine=True, track_running_stats=True)\n",
              "      (relu): ReLU(inplace=True)\n",
              "      (conv2): Conv2d(512, 512, kernel_size=(3, 3), stride=(1, 1), padding=(1, 1), bias=False)\n",
              "      (bn2): BatchNorm2d(512, eps=1e-05, momentum=0.1, affine=True, track_running_stats=True)\n",
              "      (downsample): Sequential(\n",
              "        (0): Conv2d(256, 512, kernel_size=(1, 1), stride=(2, 2), bias=False)\n",
              "        (1): BatchNorm2d(512, eps=1e-05, momentum=0.1, affine=True, track_running_stats=True)\n",
              "      )\n",
              "    )\n",
              "    (1): BasicBlock(\n",
              "      (conv1): Conv2d(512, 512, kernel_size=(3, 3), stride=(1, 1), padding=(1, 1), bias=False)\n",
              "      (bn1): BatchNorm2d(512, eps=1e-05, momentum=0.1, affine=True, track_running_stats=True)\n",
              "      (relu): ReLU(inplace=True)\n",
              "      (conv2): Conv2d(512, 512, kernel_size=(3, 3), stride=(1, 1), padding=(1, 1), bias=False)\n",
              "      (bn2): BatchNorm2d(512, eps=1e-05, momentum=0.1, affine=True, track_running_stats=True)\n",
              "    )\n",
              "    (2): BasicBlock(\n",
              "      (conv1): Conv2d(512, 512, kernel_size=(3, 3), stride=(1, 1), padding=(1, 1), bias=False)\n",
              "      (bn1): BatchNorm2d(512, eps=1e-05, momentum=0.1, affine=True, track_running_stats=True)\n",
              "      (relu): ReLU(inplace=True)\n",
              "      (conv2): Conv2d(512, 512, kernel_size=(3, 3), stride=(1, 1), padding=(1, 1), bias=False)\n",
              "      (bn2): BatchNorm2d(512, eps=1e-05, momentum=0.1, affine=True, track_running_stats=True)\n",
              "    )\n",
              "  )\n",
              "  (8): AdaptiveAvgPool2d(output_size=(1, 1))\n",
              ")"
            ]
          },
          "metadata": {},
          "execution_count": 41
        }
      ]
    },
    {
      "cell_type": "code",
      "source": [
        "for p in resnet_model.parameters():\n",
        "  p.requires_grad = False#freeze layer"
      ],
      "metadata": {
        "id": "Sahm8MzKvoNC"
      },
      "execution_count": 43,
      "outputs": []
    },
    {
      "cell_type": "markdown",
      "source": [
        "## 합성곱의 특징 추출하기"
      ],
      "metadata": {
        "id": "SB6-oEp2wW9c"
      }
    },
    {
      "cell_type": "code",
      "source": [
        "# Stores the labels of the train data\n",
        "training_data_labels = [] \n",
        "\n",
        "# Stores the pre convoluted features of the train data\n",
        "training_features = [] "
      ],
      "metadata": {
        "id": "Sk42f1S2wVZY"
      },
      "execution_count": 44,
      "outputs": []
    },
    {
      "cell_type": "code",
      "source": [
        "#Iterate through the train data and store the calculated features and the labels\n",
        "#m: model\n",
        "for data,label in training_data_loader:\n",
        "    with torch.no_grad(): # To help with memory issues\n",
        "        output = m(Variable(data.cuda()))#output\n",
        "        output = output.view(output.size(0),-1)\n",
        "        training_data_labels.extend(label)\n",
        "        training_features.extend(output.cpu().data)"
      ],
      "metadata": {
        "id": "gf0rwaSsyw_5"
      },
      "execution_count": 45,
      "outputs": []
    },
    {
      "cell_type": "code",
      "source": [
        "training_data_labels[:10]"
      ],
      "metadata": {
        "colab": {
          "base_uri": "https://localhost:8080/"
        },
        "id": "BWcqBHHmzRSk",
        "outputId": "492ce471-a278-4b7a-ee35-34a1f6d3fdbb"
      },
      "execution_count": 48,
      "outputs": [
        {
          "output_type": "execute_result",
          "data": {
            "text/plain": [
              "[tensor(0),\n",
              " tensor(0),\n",
              " tensor(0),\n",
              " tensor(0),\n",
              " tensor(0),\n",
              " tensor(0),\n",
              " tensor(0),\n",
              " tensor(0),\n",
              " tensor(0),\n",
              " tensor(0)]"
            ]
          },
          "metadata": {},
          "execution_count": 48
        }
      ]
    },
    {
      "cell_type": "code",
      "source": [
        "training_features[:1]"
      ],
      "metadata": {
        "colab": {
          "base_uri": "https://localhost:8080/"
        },
        "id": "BvgmXjmszTM6",
        "outputId": "64f61843-9ec3-42d7-a8cc-18c692c17a82"
      },
      "execution_count": 51,
      "outputs": [
        {
          "output_type": "execute_result",
          "data": {
            "text/plain": [
              "[tensor([1.1705, 1.3006, 1.0084, 0.3976, 1.6268, 0.2498, 0.4994, 0.2976, 1.9596,\n",
              "         1.1434, 2.2097, 1.2946, 0.1146, 1.1453, 0.4199, 2.5255, 1.1618, 0.4012,\n",
              "         2.6064, 0.5092, 3.2836, 0.3431, 0.9885, 0.1488, 2.0178, 1.3996, 0.7998,\n",
              "         0.1636, 0.2522, 1.2592, 0.4780, 0.4498, 1.1040, 1.1095, 0.7502, 0.7975,\n",
              "         0.5791, 0.7963, 0.6361, 1.6294, 0.9612, 0.2790, 0.3648, 0.8929, 0.6586,\n",
              "         1.3240, 0.3823, 1.9865, 0.7296, 0.4264, 0.8095, 1.7441, 0.7747, 0.8232,\n",
              "         1.8006, 0.2541, 0.3738, 3.1367, 2.0621, 0.2400, 0.5832, 0.9633, 0.6599,\n",
              "         0.4824, 0.1765, 0.8744, 1.6294, 0.1816, 1.1077, 1.4764, 1.0296, 0.4445,\n",
              "         0.5758, 1.9992, 0.3228, 0.5266, 0.5628, 1.9904, 0.6676, 1.6216, 1.1925,\n",
              "         0.3513, 1.8375, 0.4547, 0.2503, 1.3332, 2.7719, 0.1955, 0.8840, 1.7185,\n",
              "         2.3609, 0.1985, 0.1662, 0.9185, 0.1724, 0.2327, 0.5358, 1.1555, 1.6302,\n",
              "         0.5198, 0.9109, 0.7467, 0.5123, 0.7294, 0.3638, 1.6162, 0.2761, 3.3757,\n",
              "         1.3681, 0.6580, 1.1180, 0.6270, 0.7973, 0.7846, 0.6630, 0.7003, 1.3043,\n",
              "         0.9390, 0.3264, 0.7884, 2.0331, 0.4653, 0.1083, 0.9502, 0.4255, 0.0393,\n",
              "         0.3933, 0.6563, 2.4086, 1.0197, 0.3007, 1.8717, 0.9011, 0.5776, 1.8611,\n",
              "         0.0211, 0.0790, 1.1596, 1.3253, 0.2781, 0.9937, 0.0637, 0.0612, 0.9178,\n",
              "         1.5034, 1.2217, 1.0866, 1.3491, 1.0362, 0.3677, 0.2560, 0.9499, 0.2451,\n",
              "         2.8736, 1.1652, 0.1250, 0.5865, 0.6534, 2.3989, 0.5874, 0.5526, 1.2456,\n",
              "         0.3412, 0.5746, 0.7148, 0.4028, 1.3511, 0.9977, 1.6142, 0.9637, 0.8455,\n",
              "         0.6080, 0.2806, 1.6212, 1.8312, 1.4682, 1.3773, 1.3189, 0.1688, 1.1747,\n",
              "         0.8736, 1.4210, 2.1723, 0.6122, 0.0601, 0.9888, 0.8475, 1.4766, 2.6180,\n",
              "         0.6628, 0.2901, 1.4001, 1.7253, 0.4442, 0.4915, 1.7721, 1.2578, 1.5961,\n",
              "         0.3650, 1.2038, 1.2112, 1.1109, 1.1959, 0.6174, 0.6343, 0.5081, 2.4251,\n",
              "         0.9284, 0.7372, 1.2012, 0.6700, 0.1760, 0.9208, 1.3108, 2.4999, 1.7142,\n",
              "         0.3878, 0.9583, 0.5196, 0.2250, 0.9399, 0.6185, 1.0806, 0.4834, 0.8222,\n",
              "         1.6366, 0.6005, 0.5860, 0.4106, 0.6398, 0.8903, 0.8216, 0.6481, 0.4515,\n",
              "         0.1838, 1.4460, 0.6593, 0.7731, 1.1754, 1.3283, 1.0419, 0.8479, 1.1853,\n",
              "         1.2064, 0.3820, 0.4836, 0.5307, 1.0890, 2.6098, 1.4282, 1.0516, 1.1384,\n",
              "         0.8801, 1.9976, 1.5376, 1.0498, 0.2377, 0.1660, 0.9395, 0.3399, 1.9836,\n",
              "         1.0941, 1.8219, 1.0025, 1.6360, 1.7218, 0.3964, 1.9795, 0.3463, 0.1455,\n",
              "         2.1464, 0.5522, 2.7316, 0.3937, 0.2239, 0.8734, 0.4609, 0.5576, 1.8599,\n",
              "         0.2817, 1.3343, 2.1823, 0.9271, 1.1184, 0.3576, 1.5777, 1.8203, 0.6237,\n",
              "         2.0247, 0.5267, 0.4343, 0.7797, 0.4347, 1.0506, 1.2790, 0.8104, 0.7274,\n",
              "         0.7598, 1.7287, 1.2896, 0.1229, 1.1522, 0.4876, 0.2961, 1.2108, 1.3986,\n",
              "         1.4269, 2.0752, 1.1375, 0.9184, 0.2039, 1.6048, 0.6637, 0.2506, 0.3478,\n",
              "         0.3762, 0.4993, 0.1836, 1.0727, 0.8748, 0.8020, 1.1711, 0.1029, 0.5086,\n",
              "         1.3553, 0.4674, 1.5407, 0.9504, 0.4120, 0.4630, 0.8664, 0.7276, 0.9899,\n",
              "         1.0871, 0.5479, 1.3570, 2.5090, 1.4509, 1.8712, 0.4530, 1.3791, 0.5166,\n",
              "         1.0206, 0.8345, 0.3029, 1.5706, 3.3539, 0.6082, 0.8321, 0.9381, 1.1281,\n",
              "         1.0746, 2.0567, 0.9724, 1.0722, 0.4089, 0.5891, 0.2248, 1.1268, 1.0746,\n",
              "         1.2319, 1.9125, 2.0867, 0.8183, 0.9085, 1.7383, 0.2346, 0.9458, 0.7235,\n",
              "         0.7214, 0.7427, 0.7886, 0.5862, 0.4635, 0.5696, 0.1683, 1.5168, 0.5274,\n",
              "         1.8731, 2.0568, 1.0267, 1.0474, 0.2344, 1.5210, 0.3294, 0.6606, 0.8855,\n",
              "         0.5086, 1.7536, 0.2561, 1.4766, 0.2312, 1.1969, 1.2930, 0.3278, 0.8475,\n",
              "         0.4853, 0.9285, 1.0877, 2.5117, 1.0024, 0.8683, 0.1832, 0.2915, 0.1953,\n",
              "         1.2320, 0.2339, 1.3694, 0.1302, 1.1700, 1.2864, 0.5197, 0.0877, 1.0178,\n",
              "         0.0995, 1.3696, 1.8061, 0.8156, 1.1777, 0.3964, 0.6425, 0.6731, 0.4880,\n",
              "         0.0926, 0.2350, 0.0618, 0.4223, 0.0499, 0.5004, 1.3543, 0.8853, 0.1275,\n",
              "         0.3085, 2.0621, 0.7919, 0.6599, 0.6468, 2.4849, 1.3103, 1.3468, 0.5896,\n",
              "         0.8617, 1.0992, 3.1639, 1.5500, 0.7590, 2.0544, 3.4626, 2.0508, 0.5204,\n",
              "         0.4538, 0.4652, 0.3440, 0.3117, 2.0290, 0.7193, 1.0200, 0.7323, 0.6588,\n",
              "         0.1960, 0.9075, 1.1850, 0.3428, 1.4775, 1.8516, 0.7100, 1.2792, 1.2398,\n",
              "         0.3709, 2.0979, 0.9280, 0.8012, 0.1515, 1.5108, 0.8787, 0.6943, 1.0261,\n",
              "         0.8255, 0.8739, 2.6221, 1.3855, 4.8963, 0.3055, 1.8465, 0.3978, 1.2246,\n",
              "         1.5361, 0.8574, 2.4815, 1.5822, 1.5772, 1.2979, 2.1899, 0.7727, 1.0893,\n",
              "         0.9666, 0.9015, 0.7055, 0.8461, 0.0709, 0.9367, 0.8679, 1.2503, 0.4052,\n",
              "         1.0633, 1.6401, 1.2034, 1.0797, 0.5041, 1.0198, 0.0740, 1.6459])]"
            ]
          },
          "metadata": {},
          "execution_count": 51
        }
      ]
    },
    {
      "cell_type": "code",
      "source": [
        "len(training_data_labels)"
      ],
      "metadata": {
        "colab": {
          "base_uri": "https://localhost:8080/"
        },
        "id": "gDPZ5c4nzlkR",
        "outputId": "d2ef4438-de95-46c0-ea3e-20627b79d8bf"
      },
      "execution_count": 52,
      "outputs": [
        {
          "output_type": "execute_result",
          "data": {
            "text/plain": [
              "1149"
            ]
          },
          "metadata": {},
          "execution_count": 52
        }
      ]
    },
    {
      "cell_type": "code",
      "source": [
        "#For validation data\n",
        "\n",
        "#Iterate through the validation data and store the calculated features and the labels\n",
        "\n",
        "validation_data_labels = []\n",
        "validation_features = []\n",
        "for d,la in validation_data_loader:\n",
        "    with torch.no_grad(): # To help with memory issues\n",
        "        o = m(Variable(d.cuda()))\n",
        "        o = o.view(o.size(0),-1)\n",
        "        validation_data_labels.extend(la)\n",
        "        validation_features.extend(o.cpu().data)"
      ],
      "metadata": {
        "id": "UnXyQkfvzYDs"
      },
      "execution_count": 53,
      "outputs": []
    },
    {
      "cell_type": "code",
      "source": [
        "len(validation_data_labels)"
      ],
      "metadata": {
        "colab": {
          "base_uri": "https://localhost:8080/"
        },
        "id": "_NNBFPzJzmxE",
        "outputId": "b938a99a-29fc-4b8e-cfcb-adf4370faf7e"
      },
      "execution_count": 54,
      "outputs": [
        {
          "output_type": "execute_result",
          "data": {
            "text/plain": [
              "250"
            ]
          },
          "metadata": {},
          "execution_count": 54
        }
      ]
    },
    {
      "cell_type": "markdown",
      "source": [
        "### 특징들로부터 데이터 선택하는 클래스 생성"
      ],
      "metadata": {
        "id": "MZbRSJnY0AOQ"
      }
    },
    {
      "cell_type": "code",
      "source": [
        "class FeaturesDataset(Dataset):\n",
        "    \n",
        "    def __init__(self,features_list,labels_list):\n",
        "        self.features_list = features_list#사전 합성곱이 계산된 특징\n",
        "        self.labels_list = labels_list\n",
        "        \n",
        "    def __getitem__(self,index):\n",
        "        return (self.features_list[index],self.labels_list[index])\n",
        "    \n",
        "    def __len__(self):\n",
        "        return len(self.labels_list)"
      ],
      "metadata": {
        "id": "fUkOMnadzpU6"
      },
      "execution_count": 55,
      "outputs": []
    },
    {
      "cell_type": "markdown",
      "source": [
        "### create feature dataset "
      ],
      "metadata": {
        "id": "FpiW-gOf0NuR"
      }
    },
    {
      "cell_type": "code",
      "source": [
        "#Creating dataset for train and validation\n",
        "train_features_dataset = FeaturesDataset(training_features,training_data_labels)\n",
        "validation_features_dataset = FeaturesDataset(validation_features,validation_data_labels)\n",
        "\n",
        "#Creating data loader for train and validation\n",
        "train_features_loader = DataLoader(train_features_dataset,batch_size=64,shuffle=True)\n",
        "validation_features_loader = DataLoader(validation_features_dataset,batch_size=64)"
      ],
      "metadata": {
        "id": "X-PMQWVU0DSW"
      },
      "execution_count": 56,
      "outputs": []
    },
    {
      "cell_type": "markdown",
      "source": [
        "## Create Linear Model for mapping calculated features to related category"
      ],
      "metadata": {
        "id": "UVGRvOCa0pIg"
      }
    },
    {
      "cell_type": "code",
      "source": [
        "class FullyConnectedLinearModel(nn.Module):\n",
        "    \n",
        "    def __init__(self,input_size,output_size):\n",
        "        super().__init__()\n",
        "        self.fc = nn.Linear(input_size,output_size)\n",
        "\n",
        "    def forward(self,inp):\n",
        "        out = self.fc(inp)\n",
        "        return out"
      ],
      "metadata": {
        "id": "tcv1wGu50Rjy"
      },
      "execution_count": 66,
      "outputs": []
    },
    {
      "cell_type": "code",
      "source": [
        "fully_connected_in_size = 512"
      ],
      "metadata": {
        "id": "gqnJyS4B0awq"
      },
      "execution_count": 67,
      "outputs": []
    },
    {
      "cell_type": "code",
      "source": [
        "fc = FullyConnectedLinearModel(fully_connected_in_size,classes)\n",
        "if is_cuda:\n",
        "    fc = fc.cuda()"
      ],
      "metadata": {
        "id": "ugROgX5b0ysK"
      },
      "execution_count": 68,
      "outputs": []
    },
    {
      "cell_type": "code",
      "source": [
        "optimizer = optim.Adam(fc.parameters(),lr=0.0001)"
      ],
      "metadata": {
        "id": "pGdu5lWb03jD"
      },
      "execution_count": 69,
      "outputs": []
    },
    {
      "cell_type": "markdown",
      "source": [
        "## Train and Validate model"
      ],
      "metadata": {
        "id": "G38I5jcb1Odl"
      }
    },
    {
      "cell_type": "code",
      "source": [
        "def fit(epoch, model,data_loader,phase='training',volatile=False):\n",
        "    if phase == 'training':\n",
        "        model.train()\n",
        "    if phase == 'validation':\n",
        "        model.eval()\n",
        "        volatile=True\n",
        "    cummulative_loss = 0.0\n",
        "    cummulative_correct = 0\n",
        "    for batch_idx , (data,target) in enumerate(data_loader):\n",
        "        if is_cuda:\n",
        "            data,target = data.cuda(),target.cuda()\n",
        "        data , target = Variable(data,volatile),Variable(target)\n",
        "        #print(\"data size:\",data.size())\n",
        "        if phase == 'training':\n",
        "            optimizer.zero_grad()\n",
        "        output = model(data)\n",
        "        loss = F.cross_entropy(output,target)\n",
        "        \n",
        "        cummulative_loss += F.cross_entropy(output,target,size_average=False).data\n",
        "        preds = output.data.max(dim=1,keepdim=True)[1]\n",
        "        cummulative_correct += preds.eq(target.data.view_as(preds)).cpu().sum()\n",
        "        if phase == 'training':\n",
        "            loss.backward()\n",
        "            optimizer.step()\n",
        "    \n",
        "    loss = cummulative_loss/len(data_loader.dataset)\n",
        "    accuracy = 100. * cummulative_correct/len(data_loader.dataset)\n",
        "    \n",
        "    print(f'{phase} loss is {loss} and {phase} accuracy is {cummulative_correct}/{len(data_loader.dataset)}{accuracy}')\n",
        "    return loss,accuracy"
      ],
      "metadata": {
        "id": "D6paDPiy07F9"
      },
      "execution_count": 74,
      "outputs": []
    },
    {
      "cell_type": "code",
      "source": [
        "train_losses , train_accuracy = [],[]\n",
        "validation_losses , validation_accuracy = [],[]\n",
        "for epoch in range(1,20):\n",
        "    epoch_loss, epoch_accuracy = fit(epoch,fc,train_features_loader,phase='training')\n",
        "    validation_epoch_loss , validation_epoch_accuracy = fit(epoch,fc,validation_features_loader,phase='validation')\n",
        "    train_losses.append(epoch_loss)\n",
        "    train_accuracy.append(epoch_accuracy)\n",
        "    validation_losses.append(validation_epoch_loss)\n",
        "    validation_accuracy.append(validation_epoch_accuracy)"
      ],
      "metadata": {
        "colab": {
          "base_uri": "https://localhost:8080/"
        },
        "id": "DJR6cdr51XdN",
        "outputId": "ad9ef21e-6d15-4274-f076-d4d21cdc8df7"
      },
      "execution_count": 75,
      "outputs": [
        {
          "output_type": "stream",
          "name": "stdout",
          "text": [
            "training loss is 0.7257371544837952 and training accuracy is 571/114949.69538879394531\n",
            "validation loss is 0.7164276838302612 and validation accuracy is 126/25050.400001525878906\n",
            "training loss is 0.7211541533470154 and training accuracy is 569/114949.521324157714844\n",
            "validation loss is 0.716623067855835 and validation accuracy is 125/25050.0\n",
            "training loss is 0.7177855372428894 and training accuracy is 582/114950.652740478515625\n",
            "validation loss is 0.7124837040901184 and validation accuracy is 128/25051.20000076293945\n",
            "training loss is 0.7176752686500549 and training accuracy is 578/114950.30461120605469\n",
            "validation loss is 0.7130293250083923 and validation accuracy is 129/25051.599998474121094\n",
            "training loss is 0.714719831943512 and training accuracy is 595/114951.78416061401367\n",
            "validation loss is 0.7090024352073669 and validation accuracy is 129/25051.599998474121094\n",
            "training loss is 0.7134042978286743 and training accuracy is 601/114952.30635452270508\n",
            "validation loss is 0.7090708613395691 and validation accuracy is 129/25051.599998474121094\n",
            "training loss is 0.7122297883033752 and training accuracy is 585/114950.91383743286133\n",
            "validation loss is 0.7058485150337219 and validation accuracy is 134/25053.599998474121094\n",
            "training loss is 0.7114075422286987 and training accuracy is 601/114952.30635452270508\n",
            "validation loss is 0.7080403566360474 and validation accuracy is 131/25052.400001525878906\n",
            "training loss is 0.709675669670105 and training accuracy is 593/114951.6100959777832\n",
            "validation loss is 0.7039512395858765 and validation accuracy is 132/25052.79999923706055\n",
            "training loss is 0.7077407240867615 and training accuracy is 599/114952.13228988647461\n",
            "validation loss is 0.7023926377296448 and validation accuracy is 133/25053.20000076293945\n",
            "training loss is 0.7067428231239319 and training accuracy is 605/114952.654483795166016\n",
            "validation loss is 0.702006995677948 and validation accuracy is 136/25054.400001525878906\n",
            "training loss is 0.7047742009162903 and training accuracy is 612/114953.26370620727539\n",
            "validation loss is 0.7001126408576965 and validation accuracy is 136/25054.400001525878906\n",
            "training loss is 0.703593373298645 and training accuracy is 609/114953.00260925292969\n",
            "validation loss is 0.6976991295814514 and validation accuracy is 139/25055.599998474121094\n",
            "training loss is 0.7028528451919556 and training accuracy is 619/114953.87293243408203\n",
            "validation loss is 0.6994877457618713 and validation accuracy is 134/25053.599998474121094\n",
            "training loss is 0.7023849487304688 and training accuracy is 611/114953.176673889160156\n",
            "validation loss is 0.6956570148468018 and validation accuracy is 139/25055.599998474121094\n",
            "training loss is 0.7012320160865784 and training accuracy is 613/114953.350738525390625\n",
            "validation loss is 0.694435715675354 and validation accuracy is 142/25056.79999923706055\n",
            "training loss is 0.699821949005127 and training accuracy is 618/114953.7859001159668\n",
            "validation loss is 0.6947668790817261 and validation accuracy is 138/25055.20000076293945\n",
            "training loss is 0.7004989981651306 and training accuracy is 615/114953.524803161621094\n",
            "validation loss is 0.6957492828369141 and validation accuracy is 134/25053.599998474121094\n",
            "training loss is 0.6973273158073425 and training accuracy is 625/114954.39512634277344\n",
            "validation loss is 0.6907869577407837 and validation accuracy is 141/25056.400001525878906\n"
          ]
        }
      ]
    }
  ]
}