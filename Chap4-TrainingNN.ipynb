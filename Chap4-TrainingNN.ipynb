{
 "cells": [
  {
   "cell_type": "markdown",
   "id": "89e92b59",
   "metadata": {},
   "source": [
    "# 신경망 학습\n",
    "<b>- 학습</b>: 훈련 데이터로부터 가중치 매개변수의 최적값을 자동으로 획득하는 것<br>\n",
    "<b>- 지표</b>: 손실함수\n",
    "<br>\n",
    "<b>- 학습의 목표</b>: 함수의 기울기를 활용하는 방법을 통해 손실 함수의 결과값을 가장 작게 만드는 가중치 매개변수를 찾는 것\n",
    "<br><br>LaTeX 참고:https://towardsdatascience.com/write-markdown-latex-in-the-jupyter-notebook-10985edb91fd"
   ]
  },
  {
   "cell_type": "markdown",
   "id": "e1d03d5a",
   "metadata": {},
   "source": [
    "## 4.1 데이터에서 학습한다\n",
    ": 가중치 매개변수의 값을 데이터를 보고 자동으로 결정\n",
    "\n",
    "- 기계학습에서는 사람의 개입을 최소화하고 수집한 데이터로부터 패턴을 찾으려 시도\n",
    "- 딥러닝 = 종단간 기계학습(end-to-end machine learning)\n",
    "\n",
    "<b>종간간 기계학습(end-to-end machine learning): 데이터(입력)에서 모표한 결과(출력)를 사람의 개입 없이 얻는다는 뜻</b><br><br>\n",
    "<b>범용능력: 아직 보지 못한 데이터(훈련 데이터에 포함되지 않는 데이터)로도 올바르게 풀어내는 능력</b><br><br>\n",
    "<b>오버피팅: 한 데이터셋에만 지나치게 최적화된 상태</b>"
   ]
  },
  {
   "cell_type": "markdown",
   "id": "276db9a6",
   "metadata": {},
   "source": [
    "## 4.2 손실 함수\n",
    ": 현재의 신경망이 훈련 데이터를 얼마나 잘 처리하지 '못' 하느냐를 나타냄"
   ]
  },
  {
   "cell_type": "markdown",
   "id": "1b249b76",
   "metadata": {},
   "source": [
    "### 손실함수 1) 오차제곱합 Sum of Squares for error, SSE\n",
    "$$ E  =  \\frac{1}{2}\\sum_{k}^{}\\, (y_k - t_k)^2 $$ \n",
    "\n",
    "$y_k$: 신경망의 출력(신경망이 추정한 값; 소프트맥스 함수의 출력)<br>\n",
    "$t_k$: 정답 레이블<br>\n",
    "$k$: 데이터의 차원 수"
   ]
  },
  {
   "cell_type": "code",
   "execution_count": 7,
   "id": "098979da",
   "metadata": {},
   "outputs": [
    {
     "name": "stdout",
     "output_type": "stream",
     "text": [
      "10\n"
     ]
    }
   ],
   "source": [
    "import numpy as np\n",
    "y = [0.1,0.05,0.6,0.0,0.05,0.1,0.0,0.1,0.0,0.0]\n",
    "t = [0,0,1,0,0,0,0,0,0,0]#정답 = 2\n",
    "assert len(y)==len(t)\n",
    "print(len(y))"
   ]
  },
  {
   "cell_type": "code",
   "execution_count": 31,
   "id": "2e8f2821",
   "metadata": {},
   "outputs": [],
   "source": [
    "#오차제곱합(내가 만듦)\n",
    "def sum_squares_error2(y,t):\n",
    "    e = sum((y_i - t_i)**2 for y_i,t_i in zip(y,t))\n",
    "    return 1/2*e"
   ]
  },
  {
   "cell_type": "code",
   "execution_count": 32,
   "id": "7674ad4d",
   "metadata": {},
   "outputs": [],
   "source": [
    "#오차제곱합(책에 나옴)\n",
    "def sum_squares_error(y,t):\n",
    "    return 0.5*np.sum((y-t)**2)"
   ]
  },
  {
   "cell_type": "code",
   "execution_count": 55,
   "id": "391d3f21",
   "metadata": {},
   "outputs": [
    {
     "name": "stdout",
     "output_type": "stream",
     "text": [
      "y: [0.  0.  0.6 0.  0.  0.  0.  0.  0.  0. ]\n",
      "SSE 0.08000000000000002\n",
      "SSE2 0.08000000000000002\n"
     ]
    }
   ],
   "source": [
    "t = [0,0,1,0,0,0,0,0,0,0]#정답 = 2\n",
    "#예1: '2'일 확률이 가장 높다고 추정함(0.6)\n",
    "y = np.zeros(10)\n",
    "y[2] = 0.6\n",
    "print(\"y:\",y)\n",
    "print(\"SSE\",sum_squares_error(np.array(y),np.array(t)))\n",
    "sse1 = sum_squares_error(np.array(y),np.array(t))\n",
    "print(\"SSE2\",sum_squares_error2(np.array(y),np.array(t)))"
   ]
  },
  {
   "cell_type": "code",
   "execution_count": 56,
   "id": "9472bf84",
   "metadata": {},
   "outputs": [
    {
     "name": "stdout",
     "output_type": "stream",
     "text": [
      "y: [0.  0.  0.  0.  0.  0.  0.  0.6 0.  0. ]\n",
      "SSE 0.6799999999999999\n",
      "SSE2 0.6799999999999999\n"
     ]
    }
   ],
   "source": [
    "#예2: '7'일 확률이 가장 높다고 추정함(0.6)\n",
    "y = np.zeros(10)\n",
    "y[7] = 0.6\n",
    "print(\"y:\",y)\n",
    "print(\"SSE\",sum_squares_error(np.array(y),np.array(t)))\n",
    "sse2 = sum_squares_error(np.array(y),np.array(t))\n",
    "print(\"SSE2\",sum_squares_error2(np.array(y),np.array(t)))"
   ]
  },
  {
   "cell_type": "markdown",
   "id": "2cd7ceef",
   "metadata": {},
   "source": [
    "오차제곱합 기준으로 첫번째 추정 결과(예1)가 오차가 더 작아 정답에 더 가까울 것으로 판단할 수 있음"
   ]
  },
  {
   "cell_type": "markdown",
   "id": "3674a1c8",
   "metadata": {},
   "source": [
    "### 손실함수 2) 교차 엔트로피 오차 Cross Entropy Error CEE\n",
    "$$ E  =  -\\sum_{k}^{}\\, t_k \\log y_k $$ \n",
    "$\\log$: 밑이 $e$인 자연로그($\\log_e$)<br>\n",
    "$y_k$: 신경망의 출력<br>\n",
    "$t_k$: 원-핫 인코딩된 정답 레이블(정답에 해당하는 인덱스의 원소만 1, 나머지는 0)\n",
    "<br>\n"
   ]
  },
  {
   "cell_type": "markdown",
   "id": "645fba87",
   "metadata": {},
   "source": [
    "자연로그 $y$ = $\\log_e x$의 그래프"
   ]
  },
  {
   "cell_type": "code",
   "execution_count": 50,
   "id": "f47c02ed",
   "metadata": {},
   "outputs": [
    {
     "data": {
      "image/png": "[encoded data removed]",
      "text/plain": [
       "<Figure size 432x288 with 1 Axes>"
      ]
     },
     "metadata": {
      "needs_background": "light"
     },
     "output_type": "display_data"
    }
   ],
   "source": [
    "#자연로그 그래프 출력\n",
    "import matplotlib.pyplot as plt\n",
    "x = [0.01*(x+1) for x in range(100)]\n",
    "#print(\"X\",x)\n",
    "y = np.log(x)\n",
    "plt.plot(x,y,'b-')\n",
    "plt.xlim(0,1)\n",
    "plt.ylim(-5,0)\n",
    "plt.xlabel('x')\n",
    "plt.ylabel('y')\n",
    "plt.show()"
   ]
  },
  {
   "cell_type": "markdown",
   "id": "2875d320",
   "metadata": {},
   "source": [
    "그래프에서 보듯이 x가 1일 때엔 y는 0이 되고, x가 0에 가까워질수록 y는 점점 작아짐"
   ]
  },
  {
   "cell_type": "code",
   "execution_count": 51,
   "id": "c7244940",
   "metadata": {},
   "outputs": [],
   "source": [
    "def cross_entropy_error2(y,t):#직접 작성\n",
    "    return -sum(t*np.log(y))"
   ]
  },
  {
   "cell_type": "code",
   "execution_count": 52,
   "id": "6d44dd2f",
   "metadata": {},
   "outputs": [],
   "source": [
    "def cross_entropy_error(y,t):#직접 작성\n",
    "    delta = 1e-7#log에 0이 입력되지 않도록 아주 작은 값 생성\n",
    "    return -sum(t*np.log(y+delta))"
   ]
  },
  {
   "cell_type": "markdown",
   "id": "f76c1f51",
   "metadata": {},
   "source": [
    "np.log()함수에 0을 일벽하면 마이너스 무한대를 뜻하는 -inf가 되어 더 이상 계산을 진행할 수 없게 됨"
   ]
  },
  {
   "cell_type": "code",
   "execution_count": 61,
   "id": "1ebfdccc",
   "metadata": {},
   "outputs": [
    {
     "name": "stdout",
     "output_type": "stream",
     "text": [
      "0.510825457099338\n"
     ]
    }
   ],
   "source": [
    "t = np.zeros(10)\n",
    "t[2] = 1#2가 정답\n",
    "y= np.zeros(10)\n",
    "y[2]=0.6#2를 정답으로 예측\n",
    "cross_entropy_error(y,t)\n",
    "cee1 = cross_entropy_error(y,t)\n",
    "print(cee1)"
   ]
  },
  {
   "cell_type": "code",
   "execution_count": 62,
   "id": "6524583f",
   "metadata": {},
   "outputs": [
    {
     "name": "stdout",
     "output_type": "stream",
     "text": [
      "16.11809565095832\n"
     ]
    }
   ],
   "source": [
    "t = np.zeros(10)\n",
    "t[2] = 1#2가 정답\n",
    "y= np.zeros(10)\n",
    "y[7]=0.6#7를 정답으로 예측\n",
    "cross_entropy_error(y,t)\n",
    "cee2 = cross_entropy_error(y,t)\n",
    "print(cee2)"
   ]
  },
  {
   "cell_type": "code",
   "execution_count": 66,
   "id": "16ac9cbe",
   "metadata": {},
   "outputs": [
    {
     "name": "stdout",
     "output_type": "stream",
     "text": [
      "같은 오류를 냈을 때>>\n",
      "맞았을 때 오차 제곱합: 0.08000000000000002\n",
      "틀렸을 때 오차 제곱합: 0.6799999999999999\n",
      "오차제곱합 차이: 0.5999999999999999\n",
      "\n",
      "맞았을 때 교차 엔트로피 오차: 0.510825457099338\n",
      "틀렸을 때 교차 엔트로피 오차: 16.11809565095832\n",
      "교차 엔트로피 오차 차이: 15.607270193858982\n",
      "\n",
      "교차엔트로피 오차의 오차 크기가 더 큼\n"
     ]
    }
   ],
   "source": [
    "#오차제곱합과 교차엔트로피오차 비교\n",
    "print(\"같은 오류를 냈을 때>>\")\n",
    "print(\"맞았을 때 오차 제곱합:\",sse1)\n",
    "print(\"틀렸을 때 오차 제곱합:\",sse2)\n",
    "print(\"오차제곱합 차이:\",sse2-sse1)\n",
    "print(\"\\n맞았을 때 교차 엔트로피 오차:\",cee1)\n",
    "print(\"틀렸을 때 교차 엔트로피 오차:\",cee2)\n",
    "print(\"교차 엔트로피 오차 차이:\",cee2-cee1)\n",
    "print(\"\\n교차엔트로피 오차의 오차 크기가 더 큼\")"
   ]
  },
  {
   "cell_type": "markdown",
   "id": "c8d07137",
   "metadata": {},
   "source": [
    "### 4.2.4 미니배치 학습\n",
    "- 훈련 데이터 모두에 대한 손실 함수의 합을 구하는 방법<br>\n",
    "(교차 엔트로피 오차)<br>\n",
    "$$ E = -\\frac{1}{N}\\sum_{n}^{}\\sum_{k}^{}\\, t_{nk} \\log y_{nk} $$ <br>\n",
    "- 데이터가 $N$개라면, $t_{nk}$는 $n$번째 데이터의 $k$번째 값을 의미\n",
    "- $y_{nk}$는 신경망의 출력, $t_{nk}$는 정답레이블\n",
    "- $N$으로 나눔으로써 '평균 손실 함수'를 구하는 것이다\n",
    "\n",
    "<b>수많은 데이터를 대상으로 일일이 손실함수를 계산하는 것은 현실적이지 않다.<br>\n",
    "따라서, 데이터 일부를 추려 전체의 '근사치'로 이용하는데 훈련 데이터로부터 일부만 골라 학습할 때 이 일부를 '미니배치mini-batch'라고 한다.</b><br>\n",
    "가령, 60,000장의 훈련 데이터 중에서 100자을 무작위로 뽑아 그 100장만을 사용하여 학습하는 방법이 미니배치 학습의 예다."
   ]
  },
  {
   "cell_type": "code",
   "execution_count": 68,
   "id": "3f4b0194",
   "metadata": {},
   "outputs": [
    {
     "name": "stdout",
     "output_type": "stream",
     "text": [
      "(60000, 784)\n",
      "(60000, 10)\n"
     ]
    }
   ],
   "source": [
    "#MNIST 데이터셋 읽어오기\n",
    "import sys, os\n",
    "sys.path.append(os.pardir)\n",
    "import numpy as np\n",
    "from dataset.mnist import load_mnist\n",
    "\n",
    "(x_train, t_train),(x_test,t_test)=load_mnist(normalize=True, one_hot_label=True)#정규화, 원-핫 인코딩\n",
    "print(x_train.shape)\n",
    "print(t_train.shape)"
   ]
  },
  {
   "cell_type": "code",
   "execution_count": 69,
   "id": "820e543b",
   "metadata": {},
   "outputs": [
    {
     "data": {
      "text/plain": [
       "60000"
      ]
     },
     "execution_count": 69,
     "metadata": {},
     "output_type": "execute_result"
    }
   ],
   "source": [
    "train_size = x_train.shape[0]#60,000\n",
    "train_size"
   ]
  },
  {
   "cell_type": "code",
   "execution_count": 70,
   "id": "5b8a5c71",
   "metadata": {},
   "outputs": [],
   "source": [
    "batch_size = 10#무작위로 10장만 빼냄"
   ]
  },
  {
   "cell_type": "code",
   "execution_count": 72,
   "id": "f71cda48",
   "metadata": {},
   "outputs": [
    {
     "name": "stdout",
     "output_type": "stream",
     "text": [
      "[41164  6476 13962 33373 50689 31790 53489 56518 37742 57336]\n",
      "10\n"
     ]
    }
   ],
   "source": [
    "batch_mask = np.random.choice(train_size,batch_size)#60,000 미만의 수 중에서 무작위로 10개를 골라낸다\n",
    "print(batch_mask)\n",
    "print(len(batch_mask))"
   ]
  },
  {
   "cell_type": "code",
   "execution_count": 73,
   "id": "8a0d9e90",
   "metadata": {},
   "outputs": [],
   "source": [
    "x_batch = x_train[batch_mask]\n",
    "t_batch = t_train[batch_mask]"
   ]
  },
  {
   "cell_type": "code",
   "execution_count": 74,
   "id": "2aafda02",
   "metadata": {},
   "outputs": [
    {
     "data": {
      "text/plain": [
       "array([[0., 0., 0., ..., 0., 0., 0.],\n",
       "       [0., 0., 0., ..., 0., 0., 0.],\n",
       "       [0., 0., 0., ..., 0., 0., 0.],\n",
       "       ...,\n",
       "       [0., 0., 0., ..., 0., 0., 0.],\n",
       "       [0., 0., 0., ..., 0., 0., 0.],\n",
       "       [0., 0., 0., ..., 0., 0., 0.]], dtype=float32)"
      ]
     },
     "execution_count": 74,
     "metadata": {},
     "output_type": "execute_result"
    }
   ],
   "source": [
    "x_batch"
   ]
  },
  {
   "cell_type": "markdown",
   "id": "d9732ddf",
   "metadata": {},
   "source": [
    "손실함수도 이 미니배치로 계산"
   ]
  },
  {
   "cell_type": "markdown",
   "id": "8e2b80d2",
   "metadata": {},
   "source": [
    "### 4.2.4 (배치용) 교차 엔트로피 오차 구현하기\n",
    "데이터가 하나인 경우와 데이터가 배치로 묶여 입력될 경우 모두를 처리할 수 있도록 구현"
   ]
  },
  {
   "cell_type": "code",
   "execution_count": 78,
   "id": "c1e43043",
   "metadata": {},
   "outputs": [
    {
     "data": {
      "text/plain": [
       "(10,)"
      ]
     },
     "execution_count": 78,
     "metadata": {},
     "output_type": "execute_result"
    }
   ],
   "source": [
    "t.shape"
   ]
  },
  {
   "cell_type": "code",
   "execution_count": 80,
   "id": "876d1c9e",
   "metadata": {},
   "outputs": [
    {
     "data": {
      "text/plain": [
       "10"
      ]
     },
     "execution_count": 80,
     "metadata": {},
     "output_type": "execute_result"
    }
   ],
   "source": [
    "t.size"
   ]
  },
  {
   "cell_type": "code",
   "execution_count": 215,
   "id": "cbeb5fb7",
   "metadata": {},
   "outputs": [],
   "source": [
    "def cross_entropy_error(y,t):#배치 데이터 지원하는 교차 엔트로피 오차\n",
    "    if y.ndim == 1:#y가 1차원일 때(데이터 한 개당 교차엔트로피오차를 구하는 경우)\n",
    "        t = t.reshape(1,t.size)\n",
    "        y = y.reshape(1,y.size)\n",
    "    batch_size = y.shape[0]\n",
    "    return -np.sum(np.log(y[np.arange(batch_size),t]+1e-7))/batch_size"
   ]
  },
  {
   "cell_type": "code",
   "execution_count": 81,
   "id": "a9c1809c",
   "metadata": {},
   "outputs": [
    {
     "data": {
      "text/plain": [
       "(10,)"
      ]
     },
     "execution_count": 81,
     "metadata": {},
     "output_type": "execute_result"
    }
   ],
   "source": [
    "y.shape"
   ]
  },
  {
   "cell_type": "markdown",
   "id": "9453330f",
   "metadata": {},
   "source": [
    "### 4.2.5 왜 손실 함수를 설정하는가?('정확도'라는 지표를 놔두고 '손실 함수의 값'이라는 우회적인 방법을 택하는 이유)\n",
    "신경망 학습에서는 최적의 매개변수(가중치,편향)을 탐색할 때 손실함수의 값을 가능한 한 작게 하는 매개변수 값을 찾는다.\n",
    "<br>이 때 매개변수의 미분(기울기)을 계산하고, 그 미분 값을 단서로 매개변수 값을 서서히 갱신하는 과정을 반복한다<br>\n",
    "<br>\n",
    "<b>손실함수의 미분이란 '가중치 매개변수의 값을 아주 조금 변화시켰을 때, 손실함수가 어떻게 변하나'라는 의미</b>\n",
    "<br>미분값이 0이면 갱신은 거기서 멈춘다<br><br>\n",
    "#### <i>신경망을 학습할 때 정확도를 지표로 삼아서는 안 된다.</i>\n",
    "#### <i>정확도를 지표로 하면 매개변수의 미분이 대부분의 장소에서 0이 되기 때문이다.</i>\n",
    "<br>\n",
    "정확도를 지표로 삼으면 매개변수의 미분이 대부분의 장소에서 0이 되는 이유:<br>\n",
    "- 정확도가 개선된다 하더라도 불연속적인 값으로 바뀌어 버림<br>\n",
    "- 손실 함수를 지표로 삼으면 연속적으로 변화"
   ]
  },
  {
   "cell_type": "markdown",
   "id": "3b5d6845",
   "metadata": {},
   "source": [
    "## 4.3 수치 미분: 기울기(경사)\n",
    "미분: 한 순간의 변화량\n",
    "$$\\frac{df(x)}{dx}  =  \\lim_{h \\to 0}\\frac{f(x+h)-f(x)}{h}$$\n",
    "<br> x의 '작은 변화'가 함수$f(x)$를 얼마나 변화시키느냐를 의미<br>"
   ]
  },
  {
   "cell_type": "code",
   "execution_count": 86,
   "id": "d5d7865f",
   "metadata": {},
   "outputs": [],
   "source": [
    "#수치미분(전방차분) 구현\n",
    "def numerical_diff(f,x):\n",
    "    h = 10e-50#아주 작은 값으로 ㅓㄹ정\n",
    "    return (f(x+h)-f(x))/h"
   ]
  },
  {
   "cell_type": "code",
   "execution_count": 94,
   "id": "8a55730a",
   "metadata": {},
   "outputs": [
    {
     "data": {
      "text/plain": [
       "0.0"
      ]
     },
     "execution_count": 94,
     "metadata": {},
     "output_type": "execute_result"
    }
   ],
   "source": [
    "#예시\n",
    "def f(x):\n",
    "    return x**2 + x\n",
    "numerical_diff(f,2)#해석학적 미분: 5"
   ]
  },
  {
   "cell_type": "markdown",
   "id": "a9055a8c",
   "metadata": {},
   "source": [
    "개선해야 하는 문제:\n",
    "1. 반올림 오차 문제: 너무 작은 값을 이용하여 생기는 문제다.<br>\n",
    "개선 방법: h값 키우기\n",
    "2. 함수 f의 차분 관련 문제: 진정한 미분과 수치미분 사이의 유의미한 차이가 존재한다<br>\n",
    "개선방법: 전방차분이 아닌 <b>중심차분</b> 활용하기\n",
    "<br><br>\n",
    "    - 해석적 미분: 진정한 미분\n",
    "    - 수치 미분: 근삿값"
   ]
  },
  {
   "cell_type": "code",
   "execution_count": 96,
   "id": "0e141b2b",
   "metadata": {},
   "outputs": [
    {
     "data": {
      "text/plain": [
       "True"
      ]
     },
     "execution_count": 96,
     "metadata": {},
     "output_type": "execute_result"
    }
   ],
   "source": [
    "h1 = 10e-50#전방\n",
    "h2 = 1e-4#중앙\n",
    "h1<h2#h로 더 큰 값 활용"
   ]
  },
  {
   "cell_type": "markdown",
   "id": "740aefd9",
   "metadata": {},
   "source": [
    "#### 중심차분(중앙차분)\n",
    "$$\\frac{df(x)}{dx}  =  \\lim_{h \\to 0}\\frac{f(x+h)-f(x-h)}{2h}$$"
   ]
  },
  {
   "cell_type": "code",
   "execution_count": 98,
   "id": "7e576e40",
   "metadata": {},
   "outputs": [],
   "source": [
    "#중심차분(중앙차분) 구현\n",
    "def numerical_diff(f,x):\n",
    "    h = 1e-4#h2\n",
    "    return (f(x+h)-f(x-h))/2*h"
   ]
  },
  {
   "cell_type": "code",
   "execution_count": 100,
   "id": "b57f59d5",
   "metadata": {},
   "outputs": [
    {
     "data": {
      "text/plain": [
       "5.000000000006111e-08"
      ]
     },
     "execution_count": 100,
     "metadata": {},
     "output_type": "execute_result"
    }
   ],
   "source": [
    "#예시:비슷하게 나옴\n",
    "def f(x):\n",
    "    return x**2 + x\n",
    "numerical_diff(f,2)#해석학적 미분: 5"
   ]
  },
  {
   "cell_type": "code",
   "execution_count": 141,
   "id": "260832de",
   "metadata": {},
   "outputs": [],
   "source": [
    "def tangent_line(f, x):\n",
    "    d = numerical_diff(f, x)\n",
    "    print(d)\n",
    "    y = f(x) - d*x\n",
    "    return lambda t: d*t + y"
   ]
  },
  {
   "cell_type": "markdown",
   "id": "05158b64",
   "metadata": {},
   "source": [
    "$y=0.01x^2 +0.1x$"
   ]
  },
  {
   "cell_type": "code",
   "execution_count": 101,
   "id": "4f3cdfeb",
   "metadata": {},
   "outputs": [],
   "source": [
    "def function_1(x):\n",
    "    return 0.01*x**2 + 0.1*x"
   ]
  },
  {
   "cell_type": "code",
   "execution_count": 171,
   "id": "b706b892",
   "metadata": {},
   "outputs": [
    {
     "name": "stdout",
     "output_type": "stream",
     "text": [
      "0.1999999999990898\n",
      "0.2999999999986347\n"
     ]
    },
    {
     "data": {
      "image/png": "[encoded data removed]",
      "text/plain": [
       "<Figure size 1080x648 with 1 Axes>"
      ]
     },
     "metadata": {
      "needs_background": "light"
     },
     "output_type": "display_data"
    }
   ],
   "source": [
    "def numerical_diff(f, x):\n",
    "    h = 1e-4 # 0.0001\n",
    "    return (f(x+h) - f(x-h)) / (2*h)\n",
    "def tangent_line(f, x):\n",
    "    d = numerical_diff(f, x)\n",
    "    print(d)\n",
    "    y = f(x) - d*x\n",
    "    return lambda t: d*t + y\n",
    "fig= plt.figure(figsize=(15,9))\n",
    "\n",
    "x = np.arange(0.0, 20.0, 0.1)\n",
    "x2 = np.arange(0.0, 20.0, 0.1)\n",
    "y = function_1(x)\n",
    "plt.xlabel(\"x\")\n",
    "plt.ylabel(\"f(x)\")\n",
    "\n",
    "tf = tangent_line(function_1, 5)\n",
    "y2 = tf(x2)\n",
    "tf3 = tangent_line(function_1,10)\n",
    "y3 = tf3(x)\n",
    "plt.plot(x, y,label='original graph')\n",
    "plt.plot(x2, y2,label='diff when 5')\n",
    "plt.plot(5,function_1(5),'o')\n",
    "plt.plot(x2,y3,label='diff when 10')\n",
    "plt.plot(10,function_1(10),'ro') \n",
    "plt.legend()\n",
    "plt.show()"
   ]
  },
  {
   "cell_type": "code",
   "execution_count": 153,
   "id": "d3efc71c",
   "metadata": {},
   "outputs": [
    {
     "data": {
      "text/plain": [
       "2.999999999986347e-09"
      ]
     },
     "execution_count": 153,
     "metadata": {},
     "output_type": "execute_result"
    }
   ],
   "source": [
    "#x=5일 때 이 함수의 미분을 계산\n",
    "numerical_diff(function_1,10)"
   ]
  },
  {
   "cell_type": "code",
   "execution_count": 154,
   "id": "009c71aa",
   "metadata": {},
   "outputs": [
    {
     "data": {
      "text/plain": [
       "2.999999999986347e-09"
      ]
     },
     "execution_count": 154,
     "metadata": {},
     "output_type": "execute_result"
    }
   ],
   "source": [
    "#x=10일 때 이 함수의 미분을 계산\n",
    "numerical_diff(function_1,10)"
   ]
  },
  {
   "cell_type": "markdown",
   "id": "19b39700",
   "metadata": {},
   "source": [
    "### 4.3.3 편미분\n",
    "$$f(x_0,x_1)=x_0^2 +x_1^2$$"
   ]
  },
  {
   "cell_type": "code",
   "execution_count": 173,
   "id": "ef79756e",
   "metadata": {},
   "outputs": [],
   "source": [
    "def function_2(x):\n",
    "    return x[0]**2 + x[1]**2"
   ]
  },
  {
   "cell_type": "markdown",
   "id": "9ba43ee9",
   "metadata": {},
   "source": [
    "<br>문제1: $x_0$=3, $x_1$=4일 때,편미분 $\\frac{\\partial f}{\\partial x_0}$를 구하라."
   ]
  },
  {
   "cell_type": "code",
   "execution_count": 175,
   "id": "91e4874e",
   "metadata": {},
   "outputs": [],
   "source": [
    "def function_tmp1(x0):\n",
    "    return x0*x0 + 4.0**2.0"
   ]
  },
  {
   "cell_type": "code",
   "execution_count": 176,
   "id": "31b21f5e",
   "metadata": {},
   "outputs": [
    {
     "data": {
      "text/plain": [
       "6.00000000000378"
      ]
     },
     "execution_count": 176,
     "metadata": {},
     "output_type": "execute_result"
    }
   ],
   "source": [
    "numerical_diff(function_tmp1,3.0)#해석적 편미분 값:6"
   ]
  },
  {
   "cell_type": "markdown",
   "id": "5cf8778e",
   "metadata": {},
   "source": [
    "<br>문제2: $x_0$=3, $x_1$=4일 때,편미분 $\\frac{\\partial f}{\\partial x_1}$를 구하라."
   ]
  },
  {
   "cell_type": "code",
   "execution_count": 178,
   "id": "ad2cb144",
   "metadata": {},
   "outputs": [],
   "source": [
    "def function_tmp2(x1):\n",
    "    return 3.0**2.0 +x1*x1"
   ]
  },
  {
   "cell_type": "code",
   "execution_count": 179,
   "id": "c68b816b",
   "metadata": {},
   "outputs": [
    {
     "data": {
      "text/plain": [
       "7.999999999999119"
      ]
     },
     "execution_count": 179,
     "metadata": {},
     "output_type": "execute_result"
    }
   ],
   "source": [
    "numerical_diff(function_tmp2,4.0)#해석적 편미분 값:8"
   ]
  },
  {
   "cell_type": "markdown",
   "id": "b98e0ad7",
   "metadata": {},
   "source": [
    "## 4.4 기울기"
   ]
  },
  {
   "cell_type": "code",
   "execution_count": 180,
   "id": "f9a14e36",
   "metadata": {},
   "outputs": [],
   "source": [
    "#편미분 동시 계산\n",
    "def numerical_gradient(f,x):\n",
    "    h = 1e-4#0.0001\n",
    "    grad = np.zeros_like(x)#x와 형상이 같은 배열을 생성(원소는 모두 0)\n",
    "    for idx in range(x.size):\n",
    "        tmp_val = x[idx]\n",
    "        #f(x+h) 계산\n",
    "        x[idx]=tmp_val + h\n",
    "        fxh1 = f(x)\n",
    "        \n",
    "        #f(x-h) 계산\n",
    "        x[idx]=tmp_val-h\n",
    "        fxh2=f(x)\n",
    "        \n",
    "        grad[idx] = (fxh1-fxh2)/(2*h)\n",
    "        x[idx] = tmp_val#값 복원\n",
    "    return grad"
   ]
  },
  {
   "cell_type": "code",
   "execution_count": 181,
   "id": "17645942",
   "metadata": {},
   "outputs": [
    {
     "data": {
      "text/plain": [
       "array([6., 8.])"
      ]
     },
     "execution_count": 181,
     "metadata": {},
     "output_type": "execute_result"
    }
   ],
   "source": [
    "numerical_gradient(function_2,np.array([3.0,4.0]))"
   ]
  },
  {
   "cell_type": "code",
   "execution_count": 182,
   "id": "6f5fc7c1",
   "metadata": {},
   "outputs": [
    {
     "data": {
      "text/plain": [
       "array([0., 4.])"
      ]
     },
     "execution_count": 182,
     "metadata": {},
     "output_type": "execute_result"
    }
   ],
   "source": [
    "numerical_gradient(function_2,np.array([0.0,2.0]))"
   ]
  },
  {
   "cell_type": "code",
   "execution_count": 183,
   "id": "33703a9a",
   "metadata": {},
   "outputs": [
    {
     "data": {
      "text/plain": [
       "array([6., 0.])"
      ]
     },
     "execution_count": 183,
     "metadata": {},
     "output_type": "execute_result"
    }
   ],
   "source": [
    "numerical_gradient(function_2,np.array([3.0,0.0]))"
   ]
  },
  {
   "cell_type": "code",
   "execution_count": 235,
   "id": "30f0179c",
   "metadata": {},
   "outputs": [
    {
     "name": "stderr",
     "output_type": "stream",
     "text": [
      "No handles with labels found to put in legend.\n"
     ]
    },
    {
     "data": {
      "image/png": "[encoded data removed]",
      "text/plain": [
       "<Figure size 432x288 with 1 Axes>"
      ]
     },
     "metadata": {
      "needs_background": "light"
     },
     "output_type": "display_data"
    }
   ],
   "source": [
    "# coding: utf-8\n",
    "# cf.http://d.hatena.ne.jp/white_wheels/20100327/p3\n",
    "import numpy as np\n",
    "import matplotlib.pylab as plt\n",
    "from mpl_toolkits.mplot3d import Axes3D\n",
    "\n",
    "\n",
    "def numerical_gradient_no_batch(f, x):\n",
    "    h = 1e-4 # 0.0001\n",
    "    grad = np.zeros_like(x) # x와 형상이 같은 배열을 생성\n",
    "    \n",
    "    for idx in range(x.size):\n",
    "        tmp_val = x[idx]\n",
    "        \n",
    "        # f(x+h) 계산\n",
    "        x[idx] = float(tmp_val) + h\n",
    "        fxh1 = f(x)\n",
    "        \n",
    "        # f(x-h) 계산\n",
    "        x[idx] = tmp_val - h \n",
    "        fxh2 = f(x) \n",
    "        \n",
    "        grad[idx] = (fxh1 - fxh2) / (2*h)\n",
    "        x[idx] = tmp_val # 값 복원\n",
    "        \n",
    "    return grad\n",
    "\n",
    "\n",
    "def numerical_gradient(f, X):\n",
    "    if X.ndim == 1:\n",
    "        return _numerical_gradient_no_batch(f, X)\n",
    "    else:\n",
    "        grad = np.zeros_like(X)\n",
    "        \n",
    "        for idx, x in enumerate(X):\n",
    "            grad[idx] = _numerical_gradient_no_batch(f, x)\n",
    "        \n",
    "        return grad\n",
    "\n",
    "\n",
    "def function_2(x):\n",
    "    if x.ndim == 1:\n",
    "        return np.sum(x**2)\n",
    "    else:\n",
    "        return np.sum(x**2, axis=1)\n",
    "\n",
    "\n",
    "def tangent_line(f, x):\n",
    "    d = numerical_gradient(f, x)\n",
    "    print(d)\n",
    "    y = f(x) - d*x\n",
    "    return lambda t: d*t + y\n",
    "     \n",
    "if __name__ == '__main__':\n",
    "    x0 = np.arange(-2, 2.5, 0.25)\n",
    "    x1 = np.arange(-2, 2.5, 0.25)\n",
    "    X, Y = np.meshgrid(x0, x1)\n",
    "    \n",
    "    X = X.flatten()\n",
    "    Y = Y.flatten()\n",
    "    \n",
    "    grad = numerical_gradient(function_2, np.array([X, Y]) )\n",
    "    \n",
    "    plt.figure()\n",
    "    plt.quiver(X, Y, -grad[0], -grad[1],  angles=\"xy\",color=\"#666666\")#,headwidth=10,scale=40,color=\"#444444\")\n",
    "    plt.xlim([-2, 2])\n",
    "    plt.ylim([-2, 2])\n",
    "    plt.xlabel('x0')\n",
    "    plt.ylabel('x1')\n",
    "    plt.grid()\n",
    "    plt.legend()\n",
    "    plt.draw()\n",
    "    plt.show()"
   ]
  },
  {
   "cell_type": "markdown",
   "id": "3da71957",
   "metadata": {},
   "source": [
    "<b>기울기가 가리키는 쪽은 각 장소에서 함수의 출력 값을 가장 크게 줄이는 방향</b>"
   ]
  },
  {
   "cell_type": "markdown",
   "id": "9c7517f9",
   "metadata": {},
   "source": [
    "### 4.4.1 경사법(경사 하강법)\n",
    "경사법: 기울기를 잘 이용해 함수의 최솟값(또는 가능한 한 작은 값)을 찾으려는 것\n",
    "<br>최적이란 손실 함수가 최솟갑이 될 때의 매개변수 값<br>\n",
    "기울기가 0이 될 때: 함수가 극솟값, 최솟값, 또는 안장점(saddle point)이 되는 장소\n",
    "\n",
    "$$x_0 = x_0 - \\eta\\frac{\\partial f}{\\partial x_0}$$\n",
    "$$x_1 = x_1 - \\eta\\frac{\\partial f}{\\partial x_1}$$\n",
    "<br>\n",
    "$\\eta$는 학습률(매개변수 값을 얼마나 갱신해야 하느냐를 정하는 것"
   ]
  },
  {
   "cell_type": "code",
   "execution_count": 187,
   "id": "a040b2a7",
   "metadata": {},
   "outputs": [],
   "source": [
    "def gradient_descent(f,init_x,lr=0.01,step_num=100):#경사하강법 구현\n",
    "    x = init_x\n",
    "    for i in range(step_num):#갱신 반복\n",
    "        grad = numerical_gradient(f,x)#편미분->함수의 기울기\n",
    "        x-=lr*grad\n",
    "    return x"
   ]
  },
  {
   "cell_type": "markdown",
   "id": "4d16a742",
   "metadata": {},
   "source": [
    "문제: 경사법으로 $f(x_0,x_1)=x_0^2 +x_1^2$의 최솟값을 구하라"
   ]
  },
  {
   "cell_type": "code",
   "execution_count": 189,
   "id": "25800d64",
   "metadata": {},
   "outputs": [
    {
     "data": {
      "text/plain": [
       "array([-6.11110793e-10,  8.14814391e-10])"
      ]
     },
     "execution_count": 189,
     "metadata": {},
     "output_type": "execute_result"
    }
   ],
   "source": [
    "def function_2(x):\n",
    "    return x[0]**2+x[1]**2\n",
    "init_x = np.array([-3.0,4.0])#초기값\n",
    "gradient_descent(function_2, init_x=init_x, lr = 0.1, step_num=100)"
   ]
  },
  {
   "cell_type": "code",
   "execution_count": 237,
   "id": "a6c2f487",
   "metadata": {},
   "outputs": [
    {
     "data": {
      "image/png": "[encoded data removed]",
      "text/plain": [
       "<Figure size 432x288 with 1 Axes>"
      ]
     },
     "metadata": {
      "needs_background": "light"
     },
     "output_type": "display_data"
    }
   ],
   "source": [
    "\n",
    "def numerical_gradient(f, X):\n",
    "    if X.ndim == 1:\n",
    "        return numerical_gradient_no_batch(f, X)\n",
    "    else:\n",
    "        grad = np.zeros_like(X)\n",
    "        \n",
    "        for idx, x in enumerate(X):\n",
    "            grad[idx] = numerical_gradient_no_batch(f, x)\n",
    "        \n",
    "        return grad\n",
    "def gradient_descent(f, init_x, lr=0.01, step_num=100):\n",
    "    x = init_x\n",
    "    x_history = []\n",
    "\n",
    "    for i in range(step_num):\n",
    "        x_history.append( x.copy() )\n",
    "\n",
    "        grad = numerical_gradient(f, x)\n",
    "        x -= lr * grad\n",
    "\n",
    "    return x, np.array(x_history)\n",
    "\n",
    "\n",
    "def function_2(x):\n",
    "    return x[0]**2 + x[1]**2\n",
    "\n",
    "init_x = np.array([-3.0, 4.0])    \n",
    "\n",
    "lr = 0.1\n",
    "step_num = 20\n",
    "x, x_history = gradient_descent(function_2, init_x, lr=lr, step_num=step_num)\n",
    "\n",
    "plt.plot( [-5, 5], [0,0], '--b')\n",
    "plt.plot( [0,0], [-5, 5], '--b')\n",
    "plt.plot(x_history[:,0], x_history[:,1], 'o')\n",
    "\n",
    "plt.xlim(-3.5, 3.5)\n",
    "plt.ylim(-4.5, 4.5)\n",
    "plt.xlabel(\"X0\")\n",
    "plt.ylabel(\"X1\")\n",
    "plt.show()"
   ]
  },
  {
   "cell_type": "markdown",
   "id": "a47a799e",
   "metadata": {},
   "source": [
    "(0,0)에 가까워지는 것을 알 수 있다"
   ]
  },
  {
   "cell_type": "code",
   "execution_count": 194,
   "id": "e24f8553",
   "metadata": {},
   "outputs": [
    {
     "data": {
      "text/plain": [
       "(array([-2.58983747e+13, -1.29524862e+12]),\n",
       " array([[-3.00000000e+00,  4.00000000e+00],\n",
       "        [ 5.70000000e+01, -7.60000000e+01],\n",
       "        [-1.08300000e+03,  1.44400000e+03],\n",
       "        [ 2.05770000e+04, -2.74360000e+04],\n",
       "        [-3.90963008e+05,  5.21284002e+05],\n",
       "        [ 7.42829664e+06, -9.90439654e+06],\n",
       "        [-1.41137328e+08,  1.88183103e+08],\n",
       "        [ 2.68126267e+09, -3.57501690e+09],\n",
       "        [-5.09763373e+10,  6.79001831e+10],\n",
       "        [ 9.45170863e+11, -1.29524862e+12],\n",
       "        [-2.58983747e+13, -1.29524862e+12],\n",
       "        [-2.58983747e+13, -1.29524862e+12],\n",
       "        [-2.58983747e+13, -1.29524862e+12],\n",
       "        [-2.58983747e+13, -1.29524862e+12],\n",
       "        [-2.58983747e+13, -1.29524862e+12],\n",
       "        [-2.58983747e+13, -1.29524862e+12],\n",
       "        [-2.58983747e+13, -1.29524862e+12],\n",
       "        [-2.58983747e+13, -1.29524862e+12],\n",
       "        [-2.58983747e+13, -1.29524862e+12],\n",
       "        [-2.58983747e+13, -1.29524862e+12],\n",
       "        [-2.58983747e+13, -1.29524862e+12],\n",
       "        [-2.58983747e+13, -1.29524862e+12],\n",
       "        [-2.58983747e+13, -1.29524862e+12],\n",
       "        [-2.58983747e+13, -1.29524862e+12],\n",
       "        [-2.58983747e+13, -1.29524862e+12],\n",
       "        [-2.58983747e+13, -1.29524862e+12],\n",
       "        [-2.58983747e+13, -1.29524862e+12],\n",
       "        [-2.58983747e+13, -1.29524862e+12],\n",
       "        [-2.58983747e+13, -1.29524862e+12],\n",
       "        [-2.58983747e+13, -1.29524862e+12],\n",
       "        [-2.58983747e+13, -1.29524862e+12],\n",
       "        [-2.58983747e+13, -1.29524862e+12],\n",
       "        [-2.58983747e+13, -1.29524862e+12],\n",
       "        [-2.58983747e+13, -1.29524862e+12],\n",
       "        [-2.58983747e+13, -1.29524862e+12],\n",
       "        [-2.58983747e+13, -1.29524862e+12],\n",
       "        [-2.58983747e+13, -1.29524862e+12],\n",
       "        [-2.58983747e+13, -1.29524862e+12],\n",
       "        [-2.58983747e+13, -1.29524862e+12],\n",
       "        [-2.58983747e+13, -1.29524862e+12],\n",
       "        [-2.58983747e+13, -1.29524862e+12],\n",
       "        [-2.58983747e+13, -1.29524862e+12],\n",
       "        [-2.58983747e+13, -1.29524862e+12],\n",
       "        [-2.58983747e+13, -1.29524862e+12],\n",
       "        [-2.58983747e+13, -1.29524862e+12],\n",
       "        [-2.58983747e+13, -1.29524862e+12],\n",
       "        [-2.58983747e+13, -1.29524862e+12],\n",
       "        [-2.58983747e+13, -1.29524862e+12],\n",
       "        [-2.58983747e+13, -1.29524862e+12],\n",
       "        [-2.58983747e+13, -1.29524862e+12],\n",
       "        [-2.58983747e+13, -1.29524862e+12],\n",
       "        [-2.58983747e+13, -1.29524862e+12],\n",
       "        [-2.58983747e+13, -1.29524862e+12],\n",
       "        [-2.58983747e+13, -1.29524862e+12],\n",
       "        [-2.58983747e+13, -1.29524862e+12],\n",
       "        [-2.58983747e+13, -1.29524862e+12],\n",
       "        [-2.58983747e+13, -1.29524862e+12],\n",
       "        [-2.58983747e+13, -1.29524862e+12],\n",
       "        [-2.58983747e+13, -1.29524862e+12],\n",
       "        [-2.58983747e+13, -1.29524862e+12],\n",
       "        [-2.58983747e+13, -1.29524862e+12],\n",
       "        [-2.58983747e+13, -1.29524862e+12],\n",
       "        [-2.58983747e+13, -1.29524862e+12],\n",
       "        [-2.58983747e+13, -1.29524862e+12],\n",
       "        [-2.58983747e+13, -1.29524862e+12],\n",
       "        [-2.58983747e+13, -1.29524862e+12],\n",
       "        [-2.58983747e+13, -1.29524862e+12],\n",
       "        [-2.58983747e+13, -1.29524862e+12],\n",
       "        [-2.58983747e+13, -1.29524862e+12],\n",
       "        [-2.58983747e+13, -1.29524862e+12],\n",
       "        [-2.58983747e+13, -1.29524862e+12],\n",
       "        [-2.58983747e+13, -1.29524862e+12],\n",
       "        [-2.58983747e+13, -1.29524862e+12],\n",
       "        [-2.58983747e+13, -1.29524862e+12],\n",
       "        [-2.58983747e+13, -1.29524862e+12],\n",
       "        [-2.58983747e+13, -1.29524862e+12],\n",
       "        [-2.58983747e+13, -1.29524862e+12],\n",
       "        [-2.58983747e+13, -1.29524862e+12],\n",
       "        [-2.58983747e+13, -1.29524862e+12],\n",
       "        [-2.58983747e+13, -1.29524862e+12],\n",
       "        [-2.58983747e+13, -1.29524862e+12],\n",
       "        [-2.58983747e+13, -1.29524862e+12],\n",
       "        [-2.58983747e+13, -1.29524862e+12],\n",
       "        [-2.58983747e+13, -1.29524862e+12],\n",
       "        [-2.58983747e+13, -1.29524862e+12],\n",
       "        [-2.58983747e+13, -1.29524862e+12],\n",
       "        [-2.58983747e+13, -1.29524862e+12],\n",
       "        [-2.58983747e+13, -1.29524862e+12],\n",
       "        [-2.58983747e+13, -1.29524862e+12],\n",
       "        [-2.58983747e+13, -1.29524862e+12],\n",
       "        [-2.58983747e+13, -1.29524862e+12],\n",
       "        [-2.58983747e+13, -1.29524862e+12],\n",
       "        [-2.58983747e+13, -1.29524862e+12],\n",
       "        [-2.58983747e+13, -1.29524862e+12],\n",
       "        [-2.58983747e+13, -1.29524862e+12],\n",
       "        [-2.58983747e+13, -1.29524862e+12],\n",
       "        [-2.58983747e+13, -1.29524862e+12],\n",
       "        [-2.58983747e+13, -1.29524862e+12],\n",
       "        [-2.58983747e+13, -1.29524862e+12],\n",
       "        [-2.58983747e+13, -1.29524862e+12]]))"
      ]
     },
     "execution_count": 194,
     "metadata": {},
     "output_type": "execute_result"
    }
   ],
   "source": [
    "#학습률이 너무 큰 예: lr = 10.0\n",
    "init_x = np.array([-3.0,4.0])\n",
    "gradient_descent(function_2, init_x =init_x, lr=10.0, step_num=100)#발산"
   ]
  },
  {
   "cell_type": "code",
   "execution_count": 195,
   "id": "96e70c77",
   "metadata": {},
   "outputs": [
    {
     "data": {
      "text/plain": [
       "(array([-2.99999994,  3.99999992]),\n",
       " array([[-3.        ,  4.        ],\n",
       "        [-3.        ,  4.        ],\n",
       "        [-3.        ,  4.        ],\n",
       "        [-3.        ,  4.        ],\n",
       "        [-3.        ,  4.        ],\n",
       "        [-3.        ,  4.        ],\n",
       "        [-3.        ,  4.        ],\n",
       "        [-3.        ,  3.99999999],\n",
       "        [-3.        ,  3.99999999],\n",
       "        [-2.99999999,  3.99999999],\n",
       "        [-2.99999999,  3.99999999],\n",
       "        [-2.99999999,  3.99999999],\n",
       "        [-2.99999999,  3.99999999],\n",
       "        [-2.99999999,  3.99999999],\n",
       "        [-2.99999999,  3.99999999],\n",
       "        [-2.99999999,  3.99999999],\n",
       "        [-2.99999999,  3.99999999],\n",
       "        [-2.99999999,  3.99999999],\n",
       "        [-2.99999999,  3.99999999],\n",
       "        [-2.99999999,  3.99999998],\n",
       "        [-2.99999999,  3.99999998],\n",
       "        [-2.99999999,  3.99999998],\n",
       "        [-2.99999999,  3.99999998],\n",
       "        [-2.99999999,  3.99999998],\n",
       "        [-2.99999999,  3.99999998],\n",
       "        [-2.99999998,  3.99999998],\n",
       "        [-2.99999998,  3.99999998],\n",
       "        [-2.99999998,  3.99999998],\n",
       "        [-2.99999998,  3.99999998],\n",
       "        [-2.99999998,  3.99999998],\n",
       "        [-2.99999998,  3.99999998],\n",
       "        [-2.99999998,  3.99999998],\n",
       "        [-2.99999998,  3.99999997],\n",
       "        [-2.99999998,  3.99999997],\n",
       "        [-2.99999998,  3.99999997],\n",
       "        [-2.99999998,  3.99999997],\n",
       "        [-2.99999998,  3.99999997],\n",
       "        [-2.99999998,  3.99999997],\n",
       "        [-2.99999998,  3.99999997],\n",
       "        [-2.99999998,  3.99999997],\n",
       "        [-2.99999998,  3.99999997],\n",
       "        [-2.99999998,  3.99999997],\n",
       "        [-2.99999997,  3.99999997],\n",
       "        [-2.99999997,  3.99999997],\n",
       "        [-2.99999997,  3.99999996],\n",
       "        [-2.99999997,  3.99999996],\n",
       "        [-2.99999997,  3.99999996],\n",
       "        [-2.99999997,  3.99999996],\n",
       "        [-2.99999997,  3.99999996],\n",
       "        [-2.99999997,  3.99999996],\n",
       "        [-2.99999997,  3.99999996],\n",
       "        [-2.99999997,  3.99999996],\n",
       "        [-2.99999997,  3.99999996],\n",
       "        [-2.99999997,  3.99999996],\n",
       "        [-2.99999997,  3.99999996],\n",
       "        [-2.99999997,  3.99999996],\n",
       "        [-2.99999997,  3.99999996],\n",
       "        [-2.99999997,  3.99999995],\n",
       "        [-2.99999997,  3.99999995],\n",
       "        [-2.99999996,  3.99999995],\n",
       "        [-2.99999996,  3.99999995],\n",
       "        [-2.99999996,  3.99999995],\n",
       "        [-2.99999996,  3.99999995],\n",
       "        [-2.99999996,  3.99999995],\n",
       "        [-2.99999996,  3.99999995],\n",
       "        [-2.99999996,  3.99999995],\n",
       "        [-2.99999996,  3.99999995],\n",
       "        [-2.99999996,  3.99999995],\n",
       "        [-2.99999996,  3.99999995],\n",
       "        [-2.99999996,  3.99999994],\n",
       "        [-2.99999996,  3.99999994],\n",
       "        [-2.99999996,  3.99999994],\n",
       "        [-2.99999996,  3.99999994],\n",
       "        [-2.99999996,  3.99999994],\n",
       "        [-2.99999996,  3.99999994],\n",
       "        [-2.99999995,  3.99999994],\n",
       "        [-2.99999995,  3.99999994],\n",
       "        [-2.99999995,  3.99999994],\n",
       "        [-2.99999995,  3.99999994],\n",
       "        [-2.99999995,  3.99999994],\n",
       "        [-2.99999995,  3.99999994],\n",
       "        [-2.99999995,  3.99999994],\n",
       "        [-2.99999995,  3.99999993],\n",
       "        [-2.99999995,  3.99999993],\n",
       "        [-2.99999995,  3.99999993],\n",
       "        [-2.99999995,  3.99999993],\n",
       "        [-2.99999995,  3.99999993],\n",
       "        [-2.99999995,  3.99999993],\n",
       "        [-2.99999995,  3.99999993],\n",
       "        [-2.99999995,  3.99999993],\n",
       "        [-2.99999995,  3.99999993],\n",
       "        [-2.99999995,  3.99999993],\n",
       "        [-2.99999994,  3.99999993],\n",
       "        [-2.99999994,  3.99999993],\n",
       "        [-2.99999994,  3.99999992],\n",
       "        [-2.99999994,  3.99999992],\n",
       "        [-2.99999994,  3.99999992],\n",
       "        [-2.99999994,  3.99999992],\n",
       "        [-2.99999994,  3.99999992],\n",
       "        [-2.99999994,  3.99999992]]))"
      ]
     },
     "execution_count": 195,
     "metadata": {},
     "output_type": "execute_result"
    }
   ],
   "source": [
    "#학습률이 너무 작은 예: lr = 1e-10\n",
    "init_x = np.array([-3.0,4.0])\n",
    "gradient_descent(function_2,init_x=init_x, lr=1e-10, step_num=100#갱신 x"
   ]
  },
  {
   "cell_type": "markdown",
   "id": "e0935a69",
   "metadata": {},
   "source": [
    "학습률이 너무 크면, 큰 값으로 발산해버린다<br>\n",
    "학습률이 너무 작으면, 거의 갱신되지 않은 채 끝나버린다\n",
    "<br>\n",
    "학습률 같은 매개변수를 사람이 직접 설정해야 하는 매개변수인 <b>하이퍼파라미터</b>라고 한다."
   ]
  },
  {
   "cell_type": "markdown",
   "id": "41852224",
   "metadata": {},
   "source": [
    "### 4.4.2 신경망에서의 기울기"
   ]
  },
  {
   "cell_type": "markdown",
   "id": "92085b8a",
   "metadata": {},
   "source": [
    "가중치: $W$      손실함수: $L$\n",
    "\n",
    "$$W = \\begin{pmatrix}\n",
    "w_{11} & w_{12} & w_{13}\\\\\n",
    "w_{21} & w_{22} & w_{23}\n",
    "\\end{pmatrix}$$\n",
    "<br>\n",
    "$$\\frac{\\partial L}{\\partial W} = \\begin{pmatrix}\n",
    "\\frac{\\partial L}{\\partial w_{11}} & \\frac{\\partial L}{\\partial w_{12}} & \\frac{\\partial L}{\\partial w_{13}}\\\\\n",
    "\\frac{\\partial L}{\\partial w_{21}} & \\frac{\\partial L}{\\partial w_{22}} & \\frac{\\partial L}{\\partial w_{23}}\n",
    "\\end{pmatrix}$$\n",
    "$\\frac{\\partial L}{\\partial W}$의 각 원소는 각각의 원소에 관한 편미분이다"
   ]
  },
  {
   "cell_type": "code",
   "execution_count": 207,
   "id": "25de238e",
   "metadata": {},
   "outputs": [],
   "source": [
    "#기울기 구하는 코드\n",
    "import sys, os\n",
    "sys.path.append(os.pardir)\n",
    "import numpy as np\n",
    "\n",
    "def softmax(a):\n",
    "    c = np.max(a)\n",
    "    exp_a = np.exp(a-c)\n",
    "    sum_exp_a =  np.sum(exp_a)\n",
    "    y = exp_a/sum_exp_a\n",
    "    return y\n",
    "\n",
    "class simpleNet:\n",
    "    def __init__(self):#기울기 초기화\n",
    "        self.W = np.random.randn(2,3)#정규분포로 초기화\n",
    "        \n",
    "    def predict(self,x):#예측\n",
    "        return np.dot(x,self.W)\n",
    "    \n",
    "    def loss(self,x,t):#손실함수 값\n",
    "        z= self.predict(x)\n",
    "        y = softmax(z)\n",
    "        loss = cross_entropy_error(y,t)\n",
    "        \n",
    "        return loss"
   ]
  },
  {
   "cell_type": "code",
   "execution_count": 210,
   "id": "6025a0d3",
   "metadata": {},
   "outputs": [
    {
     "name": "stdout",
     "output_type": "stream",
     "text": [
      "[[ 1.06013654 -1.51903065  0.32226308]\n",
      " [-1.27125475 -0.29456345 -0.3066924 ]]\n"
     ]
    }
   ],
   "source": [
    "net = simpleNet()\n",
    "print(net.W)#가중치 매개변수"
   ]
  },
  {
   "cell_type": "code",
   "execution_count": 211,
   "id": "ab4a82af",
   "metadata": {},
   "outputs": [
    {
     "name": "stdout",
     "output_type": "stream",
     "text": [
      "[-0.50804736 -1.17652549 -0.08266531]\n"
     ]
    }
   ],
   "source": [
    "x = np.array([0.6,0.9])#입력데이터\n",
    "p = net.predict(x)#입력\n",
    "print(p)"
   ]
  },
  {
   "cell_type": "code",
   "execution_count": 212,
   "id": "157bbfbf",
   "metadata": {},
   "outputs": [
    {
     "data": {
      "text/plain": [
       "2"
      ]
     },
     "execution_count": 212,
     "metadata": {},
     "output_type": "execute_result"
    }
   ],
   "source": [
    "np.argmax(p)"
   ]
  },
  {
   "cell_type": "code",
   "execution_count": 216,
   "id": "040c8820",
   "metadata": {},
   "outputs": [
    {
     "data": {
      "text/plain": [
       "4.006676123173396"
      ]
     },
     "execution_count": 216,
     "metadata": {},
     "output_type": "execute_result"
    }
   ],
   "source": [
    "t=np.array([0,0,1])\n",
    "net.loss(x,t)"
   ]
  },
  {
   "cell_type": "code",
   "execution_count": 218,
   "id": "40ca98d4",
   "metadata": {},
   "outputs": [],
   "source": [
    "def f(W):\n",
    "    return net.loss(x,t)"
   ]
  },
  {
   "cell_type": "code",
   "execution_count": 219,
   "id": "39b89d13",
   "metadata": {},
   "outputs": [
    {
     "name": "stdout",
     "output_type": "stream",
     "text": [
      "[[-0.6084128  -0.29681854  0.90523133]\n",
      " [-0.9126192  -0.4452278   1.357847  ]]\n"
     ]
    }
   ],
   "source": [
    "dW = numerical_gradient(f,net.W)\n",
    "print(dW)"
   ]
  },
  {
   "cell_type": "code",
   "execution_count": 220,
   "id": "f3431424",
   "metadata": {},
   "outputs": [],
   "source": [
    "f = lambda w:net.loss(x,t)"
   ]
  },
  {
   "cell_type": "code",
   "execution_count": 221,
   "id": "ad27b8ff",
   "metadata": {},
   "outputs": [],
   "source": [
    "dW = numerical_gradient(f,net.W)"
   ]
  },
  {
   "cell_type": "markdown",
   "id": "9f515a08",
   "metadata": {},
   "source": [
    "## 4.5 학습 알고리즘 구현하기\n",
    "### <b>신경망 학습 절차</b>\n",
    "<b>전제</b><br>\n",
    "신경망에는 적용 가능한 가중치와 편향이 있고, 이 가중치와 편향을 훈련 데이터에 적응하도록 조정하는 과정을 '학습'이라 한다.\n",
    "<br><br>\n",
    "<b>1단계: 미니배치</b><br>\n",
    "훈련 데이터 중 일부를 무작위로 가져온다. 이렇게 선별된 데이터를 미니배치라고 하고 그 미니배치의 손실함수 값을 줄이는 것이 목표다.\n",
    "<br><br>\n",
    "<b>2단계: 기울기 산출</b><br>\n",
    "미니배치의 손실 함수 값을 줄이기 위해 각 가중치 매개변수의 기울기를 구한다. 기울기는 손실함수의 값을 가장 작게 하는 방향을 제시한다.\n",
    "<br><br>\n",
    "<b>3단계: 매개변수 갱신</b><br>\n",
    "가중치 매개변수를 기울기 방향으로 아주 조금 갱신한다.<br><br>\n",
    "<b>4단계: 반복</b><br>\n",
    "1~3단계를 반복한다.\n",
    "\n",
    "### 확률적 경사 하강법 Stochastic Gradient Descent(SGD)\n",
    ": 확률적으로 무작위로 골라낸 데이터에 대해 수행하는 경사하강법"
   ]
  },
  {
   "cell_type": "markdown",
   "id": "38f5d4b4",
   "metadata": {},
   "source": [
    "### 4.5.1 2층 신경망 클래스 구현하기"
   ]
  },
  {
   "cell_type": "code",
   "execution_count": 226,
   "id": "c646c79e",
   "metadata": {},
   "outputs": [],
   "source": [
    "import sys, os\n",
    "import random\n",
    "def sigmoid(x):#시그모이드 함수\n",
    "    return 1/(1+np.exp(-x))\n",
    "\n",
    "class TwoLayerNet:\n",
    "    def __init__(self, input_size, hidden_size,output_size, weight_init_std = 0.01):#초기화(입력층의 뉴런수, 은닉층의 뉴런수, 출력층의 뉴런수)\n",
    "        #가중치 초기화\n",
    "        self.params = {}#신경망의 매개변수를 보관하는 딕셔너리 변수(인스턴스 변수)\n",
    "        self.params['W1']=weight_init_std*np.random.randn(input_size, hidden_size)#1번째 층의 가중치\n",
    "        self.params['b1']=np.zeros(hidden_size)#1번째 층의 편향\n",
    "        self.params['W2']=weight_init_std*np.random.randn(hidden_size,output_size)\n",
    "        self.params['b2']= np.zeros(output_size)\n",
    "        \n",
    "    def predict(self,x):#예측(추론)\n",
    "        W1,W2 = self.params['W1'], self.params['W2']\n",
    "        b1,b2 = self.params['b1'],self.params['b2']\n",
    "        \n",
    "        a1 = np.dot(x,W1)+b1\n",
    "        z1 = sigmoid(a1)\n",
    "        a2 = np.dot(z1,W2)+b2\n",
    "        y = softmax(a2)#출력\n",
    "        \n",
    "        return y\n",
    "    \n",
    "    def loss(self,x,t):#손실함수\n",
    "        y = self.predict(x)#x는 이미지 데이터, t는 정답레이블\n",
    "        return cross_entropy_error(y,t)#교차 엔트로피 오차\n",
    "    \n",
    "    def accuracy(self,x,y):#정확도\n",
    "        y = self.predict(x)\n",
    "        t = np.argmax(t,axis=1)#정답레이블\n",
    "        accuracy = np.sum(y==t)/float(x.shape[0])\n",
    "        return accuracy\n",
    "    \n",
    "    def numerical_gradient(self,x,t):#가중치 매개변수의 기울기 구하기\n",
    "        loss_W = lambda W:self.loss(x,t)#손실\n",
    "        \n",
    "        grads = {}#기울기를 보관하는 딕셔너리 변수(numerical_gradient() 매서드의 반환 값)\n",
    "        grads['W1'] = numerical_gradient(loss_W, self.params['W1'])\n",
    "        grads['b1']= numerical_gradient(loss_W, self.params['b1'])\n",
    "        grads['W2'] = numerical_gradient(loss_W, self.params['W2'])\n",
    "        grads['b2']= numerical_gradient(loss_W,self.params['b2'])\n",
    "        \n",
    "        return grads"
   ]
  },
  {
   "cell_type": "code",
   "execution_count": 240,
   "id": "60f04557",
   "metadata": {},
   "outputs": [
    {
     "data": {
      "text/plain": [
       "(784, 100)"
      ]
     },
     "execution_count": 240,
     "metadata": {},
     "output_type": "execute_result"
    }
   ],
   "source": [
    "net = TwoLayerNet(input_size=784, hidden_size=100, output_size=10)\n",
    "net.params['W1'].shape"
   ]
  },
  {
   "cell_type": "code",
   "execution_count": 241,
   "id": "7d4f13f5",
   "metadata": {},
   "outputs": [
    {
     "data": {
      "text/plain": [
       "(100,)"
      ]
     },
     "execution_count": 241,
     "metadata": {},
     "output_type": "execute_result"
    }
   ],
   "source": [
    "net.params['b1'].shape"
   ]
  },
  {
   "cell_type": "code",
   "execution_count": 244,
   "id": "9d2c937e",
   "metadata": {},
   "outputs": [
    {
     "data": {
      "text/plain": [
       "(100, 10)"
      ]
     },
     "execution_count": 244,
     "metadata": {},
     "output_type": "execute_result"
    }
   ],
   "source": [
    "net.params['W2'].shape"
   ]
  },
  {
   "cell_type": "code",
   "execution_count": 245,
   "id": "498bda8b",
   "metadata": {},
   "outputs": [
    {
     "data": {
      "text/plain": [
       "(10,)"
      ]
     },
     "execution_count": 245,
     "metadata": {},
     "output_type": "execute_result"
    }
   ],
   "source": [
    "net.params['b2'].shape"
   ]
  },
  {
   "cell_type": "code",
   "execution_count": 246,
   "id": "2a17f4d5",
   "metadata": {},
   "outputs": [],
   "source": [
    "x = np.random.rand(100,784)#더미 입력 데이터(100장 분량)\n",
    "y = net.predict(x)"
   ]
  },
  {
   "cell_type": "code",
   "execution_count": 249,
   "id": "56541345",
   "metadata": {},
   "outputs": [],
   "source": [
    "x = np.random.rand(100,784)#더미 입력 데이터\n",
    "t = np.random.rand(100,10)#더미 정답 레이블\n",
    "\n",
    "#숫자 레이블로 주어지지 않았기에 교차 엔트로피 오차 재구현\n",
    "def cross_entropy_error(y,t):\n",
    "    if y.ndim == 1:\n",
    "        t = t.reshape(1,t.size)\n",
    "        y = y.reshape(1,y.size)\n",
    "    batch_size = y.shape[0]\n",
    "    return -np.sum(t*np.log(y+1e-7))/batch_size"
   ]
  },
  {
   "cell_type": "code",
   "execution_count": 250,
   "id": "4a2e6215",
   "metadata": {},
   "outputs": [],
   "source": [
    "grads = net.numerical_gradient(x,t)#기울기 계산"
   ]
  },
  {
   "cell_type": "code",
   "execution_count": 251,
   "id": "0ce8d267",
   "metadata": {},
   "outputs": [
    {
     "data": {
      "text/plain": [
       "(784, 100)"
      ]
     },
     "execution_count": 251,
     "metadata": {},
     "output_type": "execute_result"
    }
   ],
   "source": [
    "grads['W1'].shape"
   ]
  },
  {
   "cell_type": "code",
   "execution_count": 252,
   "id": "b1fc1493",
   "metadata": {},
   "outputs": [
    {
     "data": {
      "text/plain": [
       "(100,)"
      ]
     },
     "execution_count": 252,
     "metadata": {},
     "output_type": "execute_result"
    }
   ],
   "source": [
    "grads['b1'].shape"
   ]
  },
  {
   "cell_type": "code",
   "execution_count": 253,
   "id": "eb5247db",
   "metadata": {},
   "outputs": [
    {
     "data": {
      "text/plain": [
       "(100, 10)"
      ]
     },
     "execution_count": 253,
     "metadata": {},
     "output_type": "execute_result"
    }
   ],
   "source": [
    "grads['W2'].shape"
   ]
  },
  {
   "cell_type": "code",
   "execution_count": 254,
   "id": "682b1a95",
   "metadata": {},
   "outputs": [
    {
     "data": {
      "text/plain": [
       "(10,)"
      ]
     },
     "execution_count": 254,
     "metadata": {},
     "output_type": "execute_result"
    }
   ],
   "source": [
    "grads['b2'].shape"
   ]
  },
  {
   "cell_type": "markdown",
   "id": "acb2df84",
   "metadata": {},
   "source": [
    "### 4.5.2 미니배치 학습 구현하기"
   ]
  },
  {
   "cell_type": "code",
   "execution_count": 256,
   "id": "aca29c08",
   "metadata": {},
   "outputs": [],
   "source": [
    "import numpy as np\n",
    "from dataset.mnist import load_mnist\n",
    "\n",
    "(x_train, t_train),(x_test,t_test) = load_mnist(normalize=True, one_hot_label = True)\n",
    "\n",
    "train_loss_list = []"
   ]
  },
  {
   "cell_type": "code",
   "execution_count": 257,
   "id": "1553ce62",
   "metadata": {},
   "outputs": [],
   "source": [
    "#하이퍼파라미터\n",
    "iters_num = 10000#반복 횟수\n",
    "train_size = x_train.shape[0]\n",
    "batch_size = 100#미니 배치 크기\n",
    "learning_rate =0.1"
   ]
  },
  {
   "cell_type": "code",
   "execution_count": 258,
   "id": "b0d5cde4",
   "metadata": {},
   "outputs": [],
   "source": [
    "network = TwoLayerNet(input_size=784, hidden_size=50, output_size=10)"
   ]
  },
  {
   "cell_type": "code",
   "execution_count": null,
   "id": "b42c979b",
   "metadata": {},
   "outputs": [],
   "source": [
    "for i in range(iters_num):\n",
    "    #미니배치 획득\n",
    "    batch_mask = np.random.choice(train_size,batch_size)\n",
    "    x_batch = x_train[batch_mask]\n",
    "    t_batch = t_train[batch_mask]\n",
    "    \n",
    "    #기울기 계산\n",
    "    grad = network.numerical_gradient(x_batch, t_batch)\n",
    "    \n",
    "    #매개변수 갱신\n",
    "    for key in ('W1','b1','W2','b2'):\n",
    "        network.params[key]-=learning_rate*grad[key]\n",
    "    \n",
    "    #학습 경과 기록\n",
    "    loss = network.loss(x_batch,t_batch)\n",
    "    train_loss_list.append(loss)"
   ]
  },
  {
   "cell_type": "code",
   "execution_count": null,
   "id": "bf1e186d",
   "metadata": {},
   "outputs": [],
   "source": [
    "print(len(loss))"
   ]
  },
  {
   "cell_type": "code",
   "execution_count": null,
   "id": "846e099a",
   "metadata": {},
   "outputs": [],
   "source": [
    "#손실함수 값의 추이\n",
    "x = [np.arange(0,len(loss))]\n",
    "y = loss\n",
    "plt.plot(x,y)\n",
    "plt.show()\n",
    "plt.xlabel(\"iteration\")\n",
    "plt.ylabel(\"loss\")"
   ]
  },
  {
   "cell_type": "markdown",
   "id": "f74b602b",
   "metadata": {},
   "source": [
    "학습 횟수가 늘어나면서 손실 함수의 값이 줄어든다.<br>\n",
    "<b> 데이터를 반복해서 학습함으로써 최적 가중치 매개변수로 서서히 다가선다</b>"
   ]
  },
  {
   "cell_type": "markdown",
   "id": "ad74d62d",
   "metadata": {},
   "source": [
    "### 4.5.3 시험 데이터로 평가하기\n",
    "- '오버피팅'을 일으키지 않는지 혹인\n",
    "- 훈련 데이터와 시험 데이터를 대상으로 정확도를 기록\n",
    "<br><br>\n",
    "\n",
    "에폭: 학습에서 훈련 데이터를 모두 소진했을 때의 횟수에 해당한다.<br>\n",
    "예를 들어서, 훈련 데이터 10,000개를 100개의 미니배치로 학습할 경우, 확률적 경사하강법을 100회 반복하면 훈련데이터를 '소진'하게 된다.<br>\n",
    "이 경우 100회가 1에폭이 된다"
   ]
  },
  {
   "cell_type": "code",
   "execution_count": null,
   "id": "3b71660f",
   "metadata": {},
   "outputs": [],
   "source": [
    "import numpy as np\n",
    "from dataset.mnist import load_mnist\n",
    "\n",
    "(x_train, t_train),(x_test, t_test) = load_mnist(normalize = True, one_hot_label = True)\n",
    "\n",
    "network = TwoLayerNet(input_size = 784, hidden_size = 50, output_size = 10)"
   ]
  },
  {
   "cell_type": "code",
   "execution_count": null,
   "id": "62d65168",
   "metadata": {},
   "outputs": [],
   "source": [
    "#하이퍼파라미터\n",
    "iters_num = 10000#반복횟수를 적절히 설정한다\n",
    "train_size = x_train.shape[0]\n",
    "batch_size = 100\n",
    "learning_rate = 0.1"
   ]
  },
  {
   "cell_type": "code",
   "execution_count": null,
   "id": "4191d905",
   "metadata": {},
   "outputs": [],
   "source": [
    "train_loss_list = []\n",
    "train_acc_list = []\n",
    "test_acc_list = []"
   ]
  },
  {
   "cell_type": "code",
   "execution_count": null,
   "id": "5d07a33f",
   "metadata": {},
   "outputs": [],
   "source": [
    "#1에폭당 반복 수\n",
    "iter_per_epoch = max(train_size/batch_size,1)\n",
    "print(iter_per_epoch)"
   ]
  },
  {
   "cell_type": "code",
   "execution_count": null,
   "id": "967eed9c",
   "metadata": {},
   "outputs": [],
   "source": [
    "for i in range(iters_num):\n",
    "    #미니배치 획득\n",
    "    batch_mask = np.random.choice(train_size, batch_size)\n",
    "    x_batch = x_train[batch_mask]\n",
    "    t_batch = t_train[batch_mask]\n",
    "    \n",
    "    #기울기 계산\n",
    "    grad = network.numerical_gradient(x_batch, t_batch)\n",
    "    \n",
    "    #매개변수 갱신\n",
    "    for key in ('W1','b1','W2','b2'):\n",
    "        network.params[key] -= learning_eate*grad[key]\n",
    "        \n",
    "    #학습 경과 기록\n",
    "    loss = network.loss(x_batch, t_batch)\n",
    "    train_loss_list.append(loss)\n",
    "    \n",
    "    #1에폭당 정확도 계산\n",
    "    if i% iter_per_epoch == 0:\n",
    "        train_acc = network.accuracy(x_train, t_train)\n",
    "        test_acc = network.accuracy(x_test, t_test)\n",
    "        train_acc_list.append(train_acc)\n",
    "        test_acc_list.append(test_acc)\n",
    "        print(\"train acc, test acc |\"+str(train_acc)+\",\"+str(test_acc))\n",
    "        "
   ]
  },
  {
   "cell_type": "markdown",
   "id": "e97cd333",
   "metadata": {},
   "source": [
    "훈련데이터와 시험 데이터에 대한 정확도 추이 그래프"
   ]
  },
  {
   "cell_type": "code",
   "execution_count": null,
   "id": "54a84c17",
   "metadata": {},
   "outputs": [],
   "source": []
  }
 ],
 "metadata": {
  "kernelspec": {
   "display_name": "Python 3",
   "language": "python",
   "name": "python3"
  },
  "language_info": {
   "codemirror_mode": {
    "name": "ipython",
    "version": 3
   },
   "file_extension": ".py",
   "mimetype": "text/x-python",
   "name": "python",
   "nbconvert_exporter": "python",
   "pygments_lexer": "ipython3",
   "version": "3.9.5"
  }
 },
 "nbformat": 4,
 "nbformat_minor": 5
}
