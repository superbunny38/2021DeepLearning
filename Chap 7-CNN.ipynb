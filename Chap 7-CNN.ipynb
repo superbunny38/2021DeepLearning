{
 "cells": [
  {
   "cell_type": "markdown",
   "id": "8a189668",
   "metadata": {},
   "source": [
    "# 합성곱 신경망(Convolutional Neural Network, CNN)"
   ]
  },
  {
   "cell_type": "markdown",
   "id": "f4a9c604",
   "metadata": {},
   "source": [
    "- 완전연결: 인접하는 계층의 모든 뉴런과 결합됨\n",
    "<br><br>\n",
    "<완전 계층의 문제점>\n",
    "    - 데이터의 형상이 무시됨.\n",
    "    - 모든 입력 데이터를 동등한 뉴런(같은 차원의 뉴런)으로 취급하여 형상에 담긴 정보를 살릴 수 없음"
   ]
  },
  {
   "cell_type": "markdown",
   "id": "b971dfad",
   "metadata": {},
   "source": [
    "### 용어 정리\n",
    "<b><br><br>\n",
    "- 특징맵: CNN에서 합성곱 계층의 입출력 데이터<br><br>\n",
    "- 단일 곱셈-누산(fused multiplu-add FMA): 입력과 필터에서 대응하는 원소끼리 곱한 후 그 총합을 구함<br><br>\n",
    "- 필터: 커널<br><br>\n",
    "- 합성곱 연산: 필터의 윈도우를 일정 간격으로 이동해가며 입력데이터에 적용<br><br>\n",
    "- 패딩: 입력 데이터 주변을 특정 값(예컨대 0)으로 채움, 출력 크기를 조정할 목적으로 사용<br><br>\n",
    "- 스트라이드: 필터를 적용하는 위치의 간격<br><br>\n",
    "- 풀링: 세로, 가로 방향의 공간을 줄이는 연산<br><br>\n",
    "- im2col: 입력 데이터를 필터링(가중치 계산)하기 좋게 전개하는(펼치는) <br>\n",
    "</b>\n",
    "\n",
    "\n",
    "$$ OH = \\frac{H+2P-FH}{S}+1\\$$\n",
    "\n",
    "$$ OW = \\frac{W+2P-FW}{S}+1\\$$\n",
    "<br><br>필터의 채널 수는 입력 데이터의 채널 수와 같도록 설정해야 함"
   ]
  },
  {
   "cell_type": "code",
   "execution_count": 1,
   "id": "e955f393",
   "metadata": {},
   "outputs": [
    {
     "data": {
      "text/plain": [
       "(10, 1, 28, 28)"
      ]
     },
     "execution_count": 1,
     "metadata": {},
     "output_type": "execute_result"
    }
   ],
   "source": [
    "### 7.4.1 4차원 배열\n",
    "import numpy as np\n",
    "import pandas as pd\n",
    "\n",
    "x = np.random.rand(10,1,28,28)\n",
    "x.shape"
   ]
  },
  {
   "cell_type": "code",
   "execution_count": 2,
   "id": "86cf8292",
   "metadata": {},
   "outputs": [
    {
     "data": {
      "text/plain": [
       "(1, 28, 28)"
      ]
     },
     "execution_count": 2,
     "metadata": {},
     "output_type": "execute_result"
    }
   ],
   "source": [
    "x[0].shape"
   ]
  },
  {
   "cell_type": "code",
   "execution_count": 4,
   "id": "4f033933",
   "metadata": {},
   "outputs": [
    {
     "data": {
      "text/plain": [
       "(1, 28, 28)"
      ]
     },
     "execution_count": 4,
     "metadata": {},
     "output_type": "execute_result"
    }
   ],
   "source": [
    "x[1].shape"
   ]
  },
  {
   "cell_type": "code",
   "execution_count": 6,
   "id": "8d8d9878",
   "metadata": {},
   "outputs": [
    {
     "data": {
      "text/plain": [
       "(28, 28)"
      ]
     },
     "execution_count": 6,
     "metadata": {},
     "output_type": "execute_result"
    }
   ],
   "source": [
    "x[0,0].shape"
   ]
  },
  {
   "cell_type": "markdown",
   "id": "c2de57fc",
   "metadata": {},
   "source": [
    "### im2col"
   ]
  },
  {
   "cell_type": "code",
   "execution_count": 9,
   "id": "c2760998",
   "metadata": {},
   "outputs": [],
   "source": [
    "#input_data: (데이터 수, 채널 수, 높이, 너비)의 4차원 배열로 이뤄진 입력 데이터\n",
    "#filter_h: 필터의 높이\n",
    "#filter_w: 필터의 너비\n",
    "#strid: 스트라이드\n",
    "#pad: 패딩\n",
    "def im2col(input_data, filter_h, filter_w, stride=1, pad=0):\n",
    "    \"\"\"다수의 이미지를 입력받아 2차원 배열로 변환한다(평탄화).\n",
    "    \n",
    "    Parameters\n",
    "    ----------\n",
    "    input_data : 4차원 배열 형태의 입력 데이터(이미지 수, 채널 수, 높이, 너비)\n",
    "    filter_h : 필터의 높이\n",
    "    filter_w : 필터의 너비\n",
    "    stride : 스트라이드\n",
    "    pad : 패딩\n",
    "    \n",
    "    Returns\n",
    "    -------\n",
    "    col : 2차원 배열\n",
    "    \"\"\"\n",
    "    N, C, H, W = input_data.shape\n",
    "    out_h = (H + 2*pad - filter_h)//stride + 1\n",
    "    out_w = (W + 2*pad - filter_w)//stride + 1\n",
    "\n",
    "    img = np.pad(input_data, [(0,0), (0,0), (pad, pad), (pad, pad)], 'constant')\n",
    "    col = np.zeros((N, C, filter_h, filter_w, out_h, out_w))\n",
    "\n",
    "    for y in range(filter_h):\n",
    "        y_max = y + stride*out_h\n",
    "        for x in range(filter_w):\n",
    "            x_max = x + stride*out_w\n",
    "            col[:, :, y, x, :, :] = img[:, :, y:y_max:stride, x:x_max:stride]\n",
    "\n",
    "    col = col.transpose(0, 4, 5, 1, 2, 3).reshape(N*out_h*out_w, -1)\n",
    "    return col"
   ]
  },
  {
   "cell_type": "code",
   "execution_count": 11,
   "id": "0d6335be",
   "metadata": {},
   "outputs": [
    {
     "name": "stdout",
     "output_type": "stream",
     "text": [
      "(9, 75)\n"
     ]
    }
   ],
   "source": [
    "import sys, os\n",
    "sys.path.append(os.pardir)\n",
    "x1 = np.random.rand(1,3,7,7)#input data\n",
    "col1 = im2col(x1,5,5,stride=1,pad=0)#2차원 행렬로 출력\n",
    "print(col1.shape)#필터 크기와 동일(3x5x5)"
   ]
  },
  {
   "cell_type": "code",
   "execution_count": 12,
   "id": "2c7921e2",
   "metadata": {},
   "outputs": [
    {
     "name": "stdout",
     "output_type": "stream",
     "text": [
      "(90, 75)\n"
     ]
    }
   ],
   "source": [
    "x2 = np.random.rand(10,3,7,7)#데이터 10개, input data\n",
    "col2 = im2col(x2,5,5,stride=1,pad=0)\n",
    "print(col2.shape)"
   ]
  },
  {
   "cell_type": "markdown",
   "id": "7265dc9c",
   "metadata": {},
   "source": [
    "#### 합성곱 계층"
   ]
  },
  {
   "cell_type": "code",
   "execution_count": 14,
   "id": "f93dc6b3",
   "metadata": {},
   "outputs": [],
   "source": [
    "class Convolution:\n",
    "    def __init__(self,W,b,stride=1,pad=0):\n",
    "        self.W = W#가중치\n",
    "        self.b = b#편향\n",
    "        self.stride = stride#스트라이드\n",
    "        self.pad = pad#패딩\n",
    "    \n",
    "    def forward(self,x):\n",
    "        FN,X,FH,FW = self.W.shape#필터개수,채널,필터높이,필터너비\n",
    "        N,C,H,W = x.shape\n",
    "        out_h = int(1+(H+2*self.pad-FH)/self.stride)#출력높이\n",
    "        out_w = int(1+(W+2*self.pad-FW)/self.stride)#출력너비\n",
    "        \n",
    "        col = im2col(x,FW,FW,self.stride,self.pad)\n",
    "        col_w = self.W.reshape(FN,-1).T#필터 전개; 2차원배열로 전개\n",
    "        out = np.dot(col,col_W)+self.b#행렬 곱\n",
    "        \n",
    "        #축 순서 변경하기\n",
    "        out = out.reshape(N,out_h,out_w,-1).transpose(0,3,1,2)#N,H,W,C -> N,C,H,W\n",
    "        \n",
    "        return out"
   ]
  },
  {
   "cell_type": "markdown",
   "id": "a2f2bed8",
   "metadata": {},
   "source": [
    "#### 풀링 계층\n",
    "1. 입력데이터를 전개한다\n",
    "2. 행별 최대값을 구한다\n",
    "3. 적절한 모양으로 성형한다"
   ]
  },
  {
   "cell_type": "code",
   "execution_count": 15,
   "id": "e7147ded",
   "metadata": {},
   "outputs": [],
   "source": [
    "class Pooling:#풀링 계층\n",
    "    def __init__(self,pool_h,pool_w,stride=1,pad=0):\n",
    "        self.pool_h = pool_h#풀링 높이\n",
    "        self.pool_w = pool_w#풀링 너비\n",
    "        self.stride = stride#스트라이드\n",
    "        self.pad = pad#패딩\n",
    "        \n",
    "    def forward(self,x):\n",
    "        N,C,H,W = x.shape#데이터 개수,채널,높이,너비\n",
    "        out_h = int(1+(H-self.pool_h)/self.stride)\n",
    "        out_w = int(1+(W-self.pool_w)/self.stride)\n",
    "        \n",
    "        #1. 전개\n",
    "        col = im2col(x,self.pool_h,self.pool_w,self.stride,self.pad)\n",
    "        col = col.reshape(-1,self.pool_h*self.pool_w)#2차원 행렬\n",
    "        \n",
    "        #2. 최대값\n",
    "        out = np.max(col,axis=1)\n",
    "        \n",
    "        #3. 성형\n",
    "        out = out.reshape(N,out_h,out_w,C).transpose(0,3,1,2)\n",
    "        \n",
    "        return out"
   ]
  },
  {
   "cell_type": "code",
   "execution_count": 17,
   "id": "d1dbfc3c",
   "metadata": {},
   "outputs": [
    {
     "data": {
      "image/png": "[encoded data removed]",
      "text/plain": [
       "<Figure size 432x288 with 1 Axes>"
      ]
     },
     "metadata": {
      "needs_background": "light"
     },
     "output_type": "display_data"
    }
   ],
   "source": [
    "import numpy as np\n",
    "import pandas as pd\n",
    "import matplotlib.pyplot as plt\n",
    "from matplotlib.image import imread\n",
    "from PIL import Image\n",
    "import requests\n",
    "url = \"https://blog.kakaocdn.net/dn/WRuhc/btqQmO95Bbo/qCFeT9DKhHKQhKWkDcu9D1/img.png\"\n",
    "\n",
    "im = Image.open(requests.get(url, stream=True).raw)\n",
    "plt.imshow(im)\n",
    "plt.axis('off')\n",
    "plt.show()"
   ]
  },
  {
   "cell_type": "markdown",
   "id": "de51fabf",
   "metadata": {},
   "source": [
    "### 필요한 함수들"
   ]
  },
  {
   "cell_type": "code",
   "execution_count": 23,
   "id": "0b3c53c6",
   "metadata": {},
   "outputs": [],
   "source": [
    "def conv_output_size(input_size, filter_size, stride=1, pad=0):\n",
    "    return (input_size + 2*pad - filter_size) / stride + 1\n"
   ]
  },
  {
   "cell_type": "code",
   "execution_count": 24,
   "id": "0ab95c0b",
   "metadata": {},
   "outputs": [],
   "source": [
    "def relu(x):\n",
    "    return np.maximum(0, x)"
   ]
  },
  {
   "cell_type": "code",
   "execution_count": 25,
   "id": "c6bdc481",
   "metadata": {},
   "outputs": [],
   "source": [
    "class Relu:\n",
    "    def __init__(self):\n",
    "        self.mask = None\n",
    "\n",
    "    def forward(self, x):\n",
    "        self.mask = (x <= 0)\n",
    "        out = x.copy()\n",
    "        out[self.mask] = 0\n",
    "\n",
    "        return out\n",
    "\n",
    "    def backward(self, dout):\n",
    "        dout[self.mask] = 0\n",
    "        dx = dout\n",
    "\n",
    "        return dx"
   ]
  },
  {
   "cell_type": "code",
   "execution_count": 26,
   "id": "2f08d551",
   "metadata": {},
   "outputs": [],
   "source": [
    "class Affine:\n",
    "    def __init__(self, W, b):\n",
    "        self.W = W\n",
    "        self.b = b\n",
    "        \n",
    "        self.x = None\n",
    "        self.original_x_shape = None\n",
    "        # 가중치와 편향 매개변수의 미분\n",
    "        self.dW = None\n",
    "        self.db = None\n",
    "\n",
    "    def forward(self, x):\n",
    "        # 텐서 대응\n",
    "        self.original_x_shape = x.shape\n",
    "        x = x.reshape(x.shape[0], -1)\n",
    "        self.x = x\n",
    "\n",
    "        out = np.dot(self.x, self.W) + self.b\n",
    "\n",
    "        return out\n",
    "\n",
    "    def backward(self, dout):\n",
    "        dx = np.dot(dout, self.W.T)\n",
    "        self.dW = np.dot(self.x.T, dout)\n",
    "        self.db = np.sum(dout, axis=0)\n",
    "        \n",
    "        dx = dx.reshape(*self.original_x_shape)  # 입력 데이터 모양 변경(텐서 대응)\n",
    "        return dx"
   ]
  },
  {
   "cell_type": "code",
   "execution_count": 27,
   "id": "8d664b8d",
   "metadata": {},
   "outputs": [],
   "source": [
    "class SoftmaxWithLoss:\n",
    "    def __init__(self):\n",
    "        self.loss = None # 손실함수\n",
    "        self.y = None    # softmax의 출력\n",
    "        self.t = None    # 정답 레이블(원-핫 인코딩 형태)\n",
    "        \n",
    "    def forward(self, x, t):\n",
    "        self.t = t\n",
    "        self.y = softmax(x)\n",
    "        self.loss = cross_entropy_error(self.y, self.t)\n",
    "        \n",
    "        return self.loss\n",
    "\n",
    "    def backward(self, dout=1):\n",
    "        batch_size = self.t.shape[0]\n",
    "        if self.t.size == self.y.size: # 정답 레이블이 원-핫 인코딩 형태일 때\n",
    "            dx = (self.y - self.t) / batch_size\n",
    "        else:\n",
    "            dx = self.y.copy()\n",
    "            dx[np.arange(batch_size), self.t] -= 1\n",
    "            dx = dx / batch_size\n",
    "        \n",
    "        return dx\n",
    "\n"
   ]
  },
  {
   "cell_type": "code",
   "execution_count": 28,
   "id": "31e77982",
   "metadata": {},
   "outputs": [],
   "source": [
    "class Pooling:\n",
    "    def __init__(self, pool_h, pool_w, stride=1, pad=0):\n",
    "        self.pool_h = pool_h\n",
    "        self.pool_w = pool_w\n",
    "        self.stride = stride\n",
    "        self.pad = pad\n",
    "        \n",
    "        self.x = None\n",
    "        self.arg_max = None\n",
    "\n",
    "    def forward(self, x):\n",
    "        N, C, H, W = x.shape\n",
    "        out_h = int(1 + (H - self.pool_h) / self.stride)\n",
    "        out_w = int(1 + (W - self.pool_w) / self.stride)\n",
    "\n",
    "        col = im2col(x, self.pool_h, self.pool_w, self.stride, self.pad)\n",
    "        col = col.reshape(-1, self.pool_h*self.pool_w)\n",
    "\n",
    "        arg_max = np.argmax(col, axis=1)\n",
    "        out = np.max(col, axis=1)\n",
    "        out = out.reshape(N, out_h, out_w, C).transpose(0, 3, 1, 2)\n",
    "\n",
    "        self.x = x\n",
    "        self.arg_max = arg_max\n",
    "\n",
    "        return out\n",
    "\n",
    "    def backward(self, dout):\n",
    "        dout = dout.transpose(0, 2, 3, 1)\n",
    "        \n",
    "        pool_size = self.pool_h * self.pool_w\n",
    "        dmax = np.zeros((dout.size, pool_size))\n",
    "        dmax[np.arange(self.arg_max.size), self.arg_max.flatten()] = dout.flatten()\n",
    "        dmax = dmax.reshape(dout.shape + (pool_size,)) \n",
    "        \n",
    "        dcol = dmax.reshape(dmax.shape[0] * dmax.shape[1] * dmax.shape[2], -1)\n",
    "        dx = col2im(dcol, self.x.shape, self.pool_h, self.pool_w, self.stride, self.pad)\n",
    "        \n",
    "        return dx"
   ]
  },
  {
   "cell_type": "markdown",
   "id": "2b054ca6",
   "metadata": {},
   "source": [
    "$$ input $$\n",
    "$$\\downarrow$$\n",
    "$$conv-relu-pooling$$\n",
    "$$\\downarrow$$\n",
    "$$affine-relu$$\n",
    "$$\\downarrow$$\n",
    "$$affine-softmax$$\n",
    "$$\\downarrow$$\n",
    "$$output$$\n",
    "<br>"
   ]
  },
  {
   "cell_type": "code",
   "execution_count": 30,
   "id": "594f3df5",
   "metadata": {},
   "outputs": [],
   "source": [
    "\n",
    "class SImpleConvNet:\n",
    "    \n",
    "    def __init__(self,input_dim = (1,28,28),#입력데이터 차원\n",
    "                conv_param = {'filter_num':30,'filter_size':5,\n",
    "                             'pad':0, 'stride':1},#합성곱 계층의 하이퍼 파라미터(딕셔너리 형태)\n",
    "                hidden_size = 100,\n",
    "                output_size = 10,\n",
    "                weight_init_std = 0.01):\n",
    "        filter_num = conv_param['filter_num']#꺼냄\n",
    "        filter_size = conv_param['filter_size']\n",
    "        filter_pad = conv_param['pad']\n",
    "        filter_stride = conv_param['stride']\n",
    "        input_size = input_dim[1]\n",
    "        conv_output_size = (input_size-filter_size+2*filter_pad)/filter_stride+1\n",
    "        pool_output_size = int(filter_num*(conv_output_size/2)*(conv_output_size/2))#풀링 계층 출력 크기\n",
    "    \n",
    "        #가중치 매개변수 초기화\n",
    "        self.params = {}\n",
    "        self.params['W1'] = weight_init_std * np.random.randn(filter_num, input_dim[0],filter_size,filter_size)#매개변수 초기화\n",
    "        self.params['b1'] = np.zeros(filter_num)\n",
    "        self.params['W2'] = weight_init_std * np.random.randn(pool_output_size,hidden_size)\n",
    "        self.params['b2'] = np.zeros(hidden_size)\n",
    "        self.params['W3'] = weight_init_std*np.random.randn(hidden_size,output_size)\n",
    "        self.params['b3'] = np.zeros(output_size)\n",
    "        \n",
    "        #CNN을 구성하는 계층들 생성\n",
    "        self.layers = OrderedDict()\n",
    "        self.layers['Conv1'] = Convolution(self.params['W1'],\n",
    "                                          self.params['b1'],\n",
    "                                          conv_param['stride'],\n",
    "                                          conv_param['pad'])#합성곱계층\n",
    "        self.layers['Relu1'] = Relu()\n",
    "        self.layers['Pool1'] = Pooling(pool_h=2, pool_w=2, stride=2)#풀링계층\n",
    "        self.layers['Affine1'] = Affine(self.params['W2'],self.params['b2'])#완전연결1\n",
    "        self.layers['Relu2'] = Relu()\n",
    "        self.layers['Affine2'] = Affine(self.params['W3'],self.params['b3'])#완전연결2\n",
    "        \n",
    "        self.last_layer = SoftmaxwithLoss()\n",
    "    \n",
    "    def predict(self,x):#추론\n",
    "        for layer in self.layers.values():\n",
    "            x = layer.forward(x)\n",
    "        return x\n",
    "    \n",
    "    def loss(self,x,t):#손실함수의 값\n",
    "        y = self.predict(x)\n",
    "        return self.last_layer.forward(y,t)\n",
    "    \n",
    "    def gradient(self,x,t):#오차역전파법을 통한 기울기 구하기\n",
    "        #순전파\n",
    "        self.loss(x,t)\n",
    "        \n",
    "        #역전파\n",
    "        dout = 1\n",
    "        dout = self.last_layer.backward(dout)\n",
    "        \n",
    "        layers = list(self.layers.values())\n",
    "        layers.reverse()#거꾸로\n",
    "        for layer in layers:\n",
    "            dout = layer.backward(dout)\n",
    "            \n",
    "        #결과 저장\n",
    "        grads = {}\n",
    "        grads['W1'] = self.layers['Conv1'].dW\n",
    "        grads['b1'] = self.layers['Conv1'].db\n",
    "        grads['W2'] = self.layers['Affine1'].dW\n",
    "        grads['b2'] = self.layers['Affine1'].db\n",
    "        grads['W3'] = self.layers['Affine2'].dW\n",
    "        grads['b3'] = self.layers['Affine2'].db\n",
    "        \n",
    "        return grads"
   ]
  }
 ],
 "metadata": {
  "kernelspec": {
   "display_name": "Python 3",
   "language": "python",
   "name": "python3"
  },
  "language_info": {
   "codemirror_mode": {
    "name": "ipython",
    "version": 3
   },
   "file_extension": ".py",
   "mimetype": "text/x-python",
   "name": "python",
   "nbconvert_exporter": "python",
   "pygments_lexer": "ipython3",
   "version": "3.9.5"
  }
 },
 "nbformat": 4,
 "nbformat_minor": 5
}
